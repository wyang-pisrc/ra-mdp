{
 "cells": [
  {
   "cell_type": "code",
   "execution_count": 1,
   "id": "94412d9a",
   "metadata": {
    "ExecuteTime": {
     "end_time": "2023-02-10T16:36:05.649377Z",
     "start_time": "2023-02-10T16:27:23.630066Z"
    }
   },
   "outputs": [
    {
     "name": "stdout",
     "output_type": "stream",
     "text": [
      "Start aggregating and analyzing...\n",
      "loading ./snapshot/snapshot_20220401-20220415_p1v1.csv\n",
      "loading ./snapshot/snapshot_20220415-20220430_p1v1.csv\n",
      "loading ./snapshot/snapshot_20220501-20220515_p1v1.csv\n",
      "loading ./snapshot/snapshot_20220515-20220531_p1v1.csv\n",
      "loading ./snapshot/snapshot_20220601-20220615_p1v1.csv\n",
      "loading ./snapshot/snapshot_20220615-20220630_p1v1.csv\n",
      "loading ./snapshot/snapshot_20220701-20220715_p1v1.csv\n",
      "loading ./snapshot/snapshot_20220715-20220731_p1v1.csv\n",
      "loading ./snapshot/snapshot_20220801-20220815_p1v1.csv\n",
      "loading ./snapshot/snapshot_20220815-20220831_p1v1.csv\n",
      "loading ./snapshot/snapshot_20220901-20220915_p1v1.csv\n",
      "loading ./snapshot/snapshot_20220915-20220930_p1v1.csv\n",
      "loading ./snapshot/snapshot_20221001-20221015_p1v1.csv\n",
      "loading ./snapshot/snapshot_20221015-20221031_p1v1.csv\n",
      "loading ./snapshot/snapshot_20221101-20221115_p1v1.csv\n",
      "loading ./snapshot/snapshot_20221115-20221130_p1v1.csv\n",
      "loading ./snapshot/snapshot_20221201-20221215_p1v1.csv\n",
      "loading ./snapshot/snapshot_20221215-20221231_p1v1.csv\n",
      "loading ./snapshot/snapshot_20230101-20230115_p1v1.csv\n",
      "loading ./snapshot/snapshot_20230115-20230131_p1v1.csv\n",
      "Report stored: ./report/overall_report_20220401-20230131.csv\n",
      "Finished data analyzing and store the json data\n",
      "largest code: 4359\n",
      "Processing probability report\n",
      "loading:  ./data/aemRaw_keyColumns_20220401-20220415_p1v1.csv.gz\n",
      "loading:  ./data/aemRaw_keyColumns_20220415-20220430_p1v1.csv.gz\n",
      "loading:  ./data/aemRaw_keyColumns_20220501-20220515_p1v1.csv.gz\n",
      "loading:  ./data/aemRaw_keyColumns_20220515-20220531_p1v1.csv.gz\n",
      "loading:  ./data/aemRaw_keyColumns_20220601-20220615_p1v1.csv.gz\n",
      "loading:  ./data/aemRaw_keyColumns_20220615-20220630_p1v1.csv.gz\n",
      "loading:  ./data/aemRaw_keyColumns_20220701-20220715_p1v1.csv.gz\n",
      "loading:  ./data/aemRaw_keyColumns_20220715-20220731_p1v1.csv.gz\n",
      "loading:  ./data/aemRaw_keyColumns_20220801-20220815_p1v1.csv.gz\n",
      "loading:  ./data/aemRaw_keyColumns_20220815-20220831_p1v1.csv.gz\n",
      "loading:  ./data/aemRaw_keyColumns_20220901-20220915_p1v1.csv.gz\n",
      "loading:  ./data/aemRaw_keyColumns_20220915-20220930_p1v1.csv.gz\n",
      "loading:  ./data/aemRaw_keyColumns_20221001-20221015_p1v1.csv.gz\n",
      "loading:  ./data/aemRaw_keyColumns_20221015-20221031_p1v1.csv.gz\n",
      "loading:  ./data/aemRaw_keyColumns_20221101-20221115_p1v1.csv.gz\n",
      "loading:  ./data/aemRaw_keyColumns_20221115-20221130_p1v1.csv.gz\n",
      "loading:  ./data/aemRaw_keyColumns_20221201-20221215_p1v1.csv.gz\n",
      "loading:  ./data/aemRaw_keyColumns_20221215-20221231_p1v1.csv.gz\n",
      "Finish loading\n",
      "Aggregating user request list\n"
     ]
    },
    {
     "name": "stderr",
     "output_type": "stream",
     "text": [
      "/Users/wy/opt/anaconda3/lib/python3.9/site-packages/pandas/core/indexing.py:1667: SettingWithCopyWarning: \n",
      "A value is trying to be set on a copy of a slice from a DataFrame.\n",
      "Try using .loc[row_indexer,col_indexer] = value instead\n",
      "\n",
      "See the caveats in the documentation: https://pandas.pydata.org/pandas-docs/stable/user_guide/indexing.html#returning-a-view-versus-a-copy\n",
      "  self.obj[key] = value\n"
     ]
    },
    {
     "name": "stdout",
     "output_type": "stream",
     "text": [
      "Loaded request list report\n",
      "Processing probability\n"
     ]
    }
   ],
   "source": [
    "import numpy as np\n",
    "import pandas as pd\n",
    "from sklearn.preprocessing import LabelEncoder\n",
    "from Analyzer import Analyzer\n",
    "import configparser\n",
    "from glob import glob\n",
    "from decimal import getcontext, Decimal\n",
    "import json\n",
    "\n",
    "class DecimalEncoder(json.JSONEncoder):\n",
    "    def default(self, obj):\n",
    "        if isinstance(obj, Decimal):\n",
    "            return str(obj)\n",
    "        return json.JSONEncoder.default(self, obj)\n",
    "    \n",
    "if __name__ == '__main__':\n",
    "    \n",
    "    config = configparser.ConfigParser()\n",
    "    config.read('config.txt')\n",
    "    snapshots_files = sorted(glob(config[\"snapshot-export\"][\"path\"]+\"*.csv\"))\n",
    "    key = config[\"analyzer\"][\"key\"]\n",
    "    min_count = config[\"analyzer\"].getint(\"min_count\")\n",
    "    version = config[\"report-export\"][\"report_version\"]\n",
    "\n",
    "    print(\"Start aggregating and analyzing...\")\n",
    "    pageAnalyzer = Analyzer(key, snapshots_files, config[\"report-export\"][\"path\"])\n",
    "    panel_snapshot = pageAnalyzer.load_accumulated_snapshot(filter_columns=[\"lead-Good\", \"lead-Bad\"], min_count=min_count)\n",
    "    pageAnalyzer.save_accumulated_snapshot() # store the cumulative result\n",
    "    panel_report, bayesian_metrics, labelProportion = Analyzer.calc_metrics(panel_snapshot, key_column=key)\n",
    "    \n",
    "    # obtain export required metrics\n",
    "    # getcontext().prec = 30\n",
    "    # Pandas default precision\n",
    "    \n",
    "    labelProportion_Decimal = {k: Decimal(v) for k, v in labelProportion.items()}\n",
    "    \n",
    "    # pathMetrics = pd.concat([np.log(bayesian_metrics), panel_report[\"traffic\"]], axis=1) # log version \n",
    "    pathMetrics = pd.concat([bayesian_metrics, panel_report[\"traffic\"]], axis=1)\n",
    "    columnSchema = list(pathMetrics.columns)\n",
    "\n",
    "    pathMetrics_Decimal = pathMetrics.applymap(Decimal).T.to_dict(\"list\")\n",
    "    \n",
    "    json_export = {\n",
    "        \"labelProportion\": labelProportion_Decimal,\n",
    "        \"columnSchema\": columnSchema,\n",
    "        \"pathMetrics\": pathMetrics_Decimal\n",
    "    }\n",
    "\n",
    "\n",
    "    ################################\n",
    "    # page_score json\n",
    "    ################################\n",
    "    with open(\"page_scores.json\", 'wt', encoding='UTF-8') as f:\n",
    "        json.dump(json_export, f, indent=4, cls=DecimalEncoder)\n",
    "        \n",
    "    print(\"Finished data analyzing and store the json data\")\n",
    "    \n",
    "    ################################\n",
    "    # valid url list\n",
    "    ################################ \n",
    "    le = LabelEncoder()\n",
    "    encode_urls = le.fit_transform(bayesian_metrics.index)\n",
    "    np.save(f'./report/encode_urls_{version}.npy', le.classes_)\n",
    "    print(\"largest code:\", max(encode_urls))\n",
    "    \n",
    "    \n",
    "    ################################\n",
    "    # mcvisid report list\n",
    "    ################################\n",
    "    print(\"Processing probability report\")\n",
    "    preload = False\n",
    "    unique_only = True\n",
    "    if preload:\n",
    "        request_list = pd.read_csv(f\"./report/mcvisid_request_list_{version}.csv\")\n",
    "        request_list[\"page_code\"] = request_list[\"page_code\"].apply(eval)\n",
    "    else: \n",
    "        test_sample_size = None\n",
    "        files = sorted(glob(\"./data/aemRaw_keyColumns_2022*p1v1.csv.gz\"))\n",
    "        dfs = pd.DataFrame()\n",
    "        for file in files:\n",
    "            print(\"loading: \", file)\n",
    "            df = pd.read_csv(file, compression=\"gzip\", usecols=['mcvisid', 'clean_PageURL'], nrows=test_sample_size)\n",
    "            dfs = pd.concat([dfs, df], axis=0)\n",
    "        print(\"Finish loading\")\n",
    "\n",
    "        print(\"Aggregating user request list\")    \n",
    "        filter_dfs = dfs[dfs[\"clean_PageURL\"].isin(le.classes_)]\n",
    "        filter_dfs.loc[:, \"page_code\"] = le.transform(filter_dfs[\"clean_PageURL\"].tolist())\n",
    "        request_list = filter_dfs[[\"mcvisid\", \"page_code\"]].groupby(\"mcvisid\").apply(lambda x: x[\"page_code\"].tolist()).rename(\"page_code\").reset_index()\n",
    "        request_list[\"unique_page_code\"] = request_list[\"page_code\"].apply(lambda x: list(set(x)))\n",
    "        request_list[\"valid_request_count\"] = request_list[\"unique_page_code\"].apply(len)\n",
    "        request_list.to_csv(f\"./report/mcvisid_request_list_{version}.csv\")\n",
    "    print(\"Loaded request list report\")\n",
    "        \n",
    "        \n",
    "    if unique_only:\n",
    "        request_list[\"page_code\"] = request_list[\"unique_page_code\"]\n",
    "        request_list.drop(columns=[\"unique_page_code\"],inplace=True)\n",
    "    \n",
    "    print(\"Processing probability\")\n",
    "    \n",
    "    request_list_prob = Analyzer.mcvisid_probs(request_list, le, panel_report, bayesian_metrics, labelProportion)\n",
    "    request_list_prob.to_csv(f\"./report/mcvisid_request_list_probs-server_{version}.csv\")\n",
    "    # request_list_prob.to_excel(\"./report/mcvisid_request_list_probs.xlsx\")\n",
    "    target_list = request_list_prob[(request_list_prob[\"valid_request_count\"]>5) & (request_list_prob[\"valid_request_count\"]<500)]\n",
    "    target_list.to_excel(f\"./report/mcvisid_request_list_probs_target_{version}.xlsx\")\n",
    "    \n",
    "    ################################\n",
    "    # validation - merge mcvisid label to compare\n",
    "    ################################\n",
    "    \n"
   ]
  },
  {
   "cell_type": "code",
   "execution_count": 5,
   "id": "ff7d5fe8",
   "metadata": {
    "ExecuteTime": {
     "end_time": "2023-02-10T16:53:36.959457Z",
     "start_time": "2023-02-10T16:53:36.726013Z"
    }
   },
   "outputs": [],
   "source": [
    "target_list = request_list_prob[(request_list_prob[\"valid_request_count\"]>5) & (request_list_prob[\"valid_request_count\"]<500)]"
   ]
  },
  {
   "cell_type": "markdown",
   "id": "2b435dc9",
   "metadata": {},
   "source": [
    "## sample checking"
   ]
  },
  {
   "cell_type": "code",
   "execution_count": 40,
   "id": "98f9f0d5",
   "metadata": {
    "ExecuteTime": {
     "end_time": "2023-02-10T17:03:32.958932Z",
     "start_time": "2023-02-10T17:03:32.953080Z"
    }
   },
   "outputs": [],
   "source": [
    "pd.set_option('precision', 100)"
   ]
  },
  {
   "cell_type": "markdown",
   "id": "b16edeb8",
   "metadata": {},
   "source": [
    "### calc code"
   ]
  },
  {
   "cell_type": "code",
   "execution_count": 24,
   "id": "d7785d20",
   "metadata": {
    "ExecuteTime": {
     "end_time": "2023-02-10T16:59:53.348200Z",
     "start_time": "2023-02-10T16:59:53.018497Z"
    }
   },
   "outputs": [],
   "source": [
    "request_list_filter = request_list[(request_list[\"valid_request_count\"]>5) & (request_list[\"valid_request_count\"]<100)]"
   ]
  },
  {
   "cell_type": "code",
   "execution_count": 47,
   "id": "9a8196eb",
   "metadata": {
    "ExecuteTime": {
     "end_time": "2023-02-10T17:04:18.780480Z",
     "start_time": "2023-02-10T17:04:18.756986Z"
    }
   },
   "outputs": [],
   "source": [
    "from sklearn.preprocessing import LabelEncoder\n",
    "from sklearn.feature_extraction.text import TfidfVectorizer, CountVectorizer\n",
    "conditional_parts = bayesian_metrics.multiply(panel_report[\"traffic\"], axis=\"rows\").div(labelProportion, axis=1) \n",
    "conditional_parts = conditional_parts[conditional_parts.index.isin(le.classes_)]\n",
    "conditional_parts.index = le.transform(conditional_parts.index)\n",
    "\n",
    "## obtain TF Matrix\n",
    "vec = CountVectorizer(token_pattern=\"[\\d]+\", vocabulary=[str(i) for i in conditional_parts.index])\n",
    "dtm = vec.fit_transform(request_list_filter[\"page_code\"].astype(str))\n",
    "\n",
    "## matrix calculation of Naive Bayesian\n",
    "ratio1 = dtm * np.log(conditional_parts + 1e-321)\n",
    "const = np.log(np.array([labelProportion[col] for col in conditional_parts.columns]) + 1e-321);\n",
    "nominators = np.exp(ratio1 + const)\n",
    "nominators_df = pd.DataFrame(nominators, index=request_list_filter[\"mcvisid\"], columns=conditional_parts.columns)\n",
    "\n",
    "## aggregate by aspect\n",
    "probs = pd.DataFrame()\n",
    "aspects = [\"lead\", \"role\", \"industry\"]\n",
    "category_group = [[col for col in conditional_parts.columns if aspect in col ] for aspect in aspects]\n",
    "for group in category_group:\n",
    "    probs[group] = nominators_df[group].div(nominators_df[group].sum(axis=1) + 1e-321, axis=0)\n",
    "\n",
    "\n",
    "## wrap back to DF\n",
    "mcvisid_probs = pd.DataFrame(probs, index=request_list_filter[\"mcvisid\"], columns=conditional_parts.columns)        \n",
    "\n",
    "result = pd.concat([request_list_filter.set_index(\"mcvisid\"), mcvisid_probs], axis=1)\n"
   ]
  },
  {
   "cell_type": "code",
   "execution_count": 27,
   "id": "311dc382",
   "metadata": {
    "ExecuteTime": {
     "end_time": "2023-02-10T17:00:30.686539Z",
     "start_time": "2023-02-10T17:00:30.203430Z"
    }
   },
   "outputs": [],
   "source": [
    "target_list = result\n",
    "labels = pd.read_csv(\"./data/updated_labels_20230131.csv.gz\", compression=\"gzip\")\n",
    "df = target_list.merge(labels, on=\"mcvisid\")"
   ]
  },
  {
   "cell_type": "code",
   "execution_count": null,
   "id": "d876fec4",
   "metadata": {},
   "outputs": [],
   "source": []
  },
  {
   "cell_type": "code",
   "execution_count": 26,
   "id": "7ad6e07a",
   "metadata": {
    "ExecuteTime": {
     "end_time": "2023-02-10T17:00:03.160403Z",
     "start_time": "2023-02-10T17:00:03.154950Z"
    }
   },
   "outputs": [],
   "source": []
  },
  {
   "cell_type": "code",
   "execution_count": 69,
   "id": "1bf38867",
   "metadata": {
    "ExecuteTime": {
     "end_time": "2023-02-10T17:09:33.752913Z",
     "start_time": "2023-02-10T17:09:33.703463Z"
    }
   },
   "outputs": [],
   "source": [
    "dff = df.dropna(subset=[\"lead-Good\"]).sort_values(\"lead-Good\")\n",
    "# dff[(dff[\"label_lead\"] == dff[\"lead-Good\"]) & (dff[\"valid_request_count\"]<10) & (dff[\"lead-Good\"]>0.2) & (dff[\"lead-Good\"]<0.9)]\n",
    "aspect = [\"lead-Bad\", \"lead-Good\"]\n",
    "samples = dff[(dff[\"label_lead\"] == (dff[\"lead-Good\"]>0.5)) & (dff[\"valid_request_count\"]<10) & (dff[\"lead-Good\"]>0.2) & (dff[\"lead-Good\"]<0.9)].sort_values(\"lead-Good\")\n",
    "samples = samples[['mcvisid', 'page_code','lead-Good', 'lead-Bad',]]"
   ]
  },
  {
   "cell_type": "code",
   "execution_count": 71,
   "id": "9bb3985f",
   "metadata": {
    "ExecuteTime": {
     "end_time": "2023-02-10T17:09:53.045799Z",
     "start_time": "2023-02-10T17:09:53.033498Z"
    }
   },
   "outputs": [
    {
     "data": {
      "text/html": [
       "<style type=\"text/css\">\n",
       "</style>\n",
       "<table id=\"T_5765c_\">\n",
       "  <thead>\n",
       "    <tr>\n",
       "      <th class=\"blank level0\" >&nbsp;</th>\n",
       "      <th class=\"col_heading level0 col0\" >mcvisid</th>\n",
       "      <th class=\"col_heading level0 col1\" >page_code</th>\n",
       "      <th class=\"col_heading level0 col2\" >lead-Good</th>\n",
       "      <th class=\"col_heading level0 col3\" >lead-Bad</th>\n",
       "    </tr>\n",
       "  </thead>\n",
       "  <tbody>\n",
       "    <tr>\n",
       "      <th id=\"T_5765c_level0_row0\" class=\"row_heading level0 row0\" >56093</th>\n",
       "      <td id=\"T_5765c_row0_col0\" class=\"data row0 col0\" >62189114061023640704252020270838166935</td>\n",
       "      <td id=\"T_5765c_row0_col1\" class=\"data row0 col1\" >[3080, 4267, 813, 240, 881, 243, 824, 4092]</td>\n",
       "      <td id=\"T_5765c_row0_col2\" class=\"data row0 col2\" >0.8853535731941195585648074484197422862052917480468750000000000000000000000000000000000000000000000000</td>\n",
       "      <td id=\"T_5765c_row0_col3\" class=\"data row0 col3\" >0.1146464268058805385797072062814550008624792098999023437500000000000000000000000000000000000000000000</td>\n",
       "    </tr>\n",
       "    <tr>\n",
       "      <th id=\"T_5765c_level0_row1\" class=\"row_heading level0 row1\" >18466</th>\n",
       "      <td id=\"T_5765c_row1_col0\" class=\"data row1 col0\" >20528088904142157941257503168888003119</td>\n",
       "      <td id=\"T_5765c_row1_col1\" class=\"data row1 col1\" >[4320, 4289, 243, 4307, 4346, 4347]</td>\n",
       "      <td id=\"T_5765c_row1_col2\" class=\"data row1 col2\" >0.8856363410118667234272038513154257088899612426757812500000000000000000000000000000000000000000000000</td>\n",
       "      <td id=\"T_5765c_row1_col3\" class=\"data row1 col3\" >0.1143636589881332488172205330556607805192470550537109375000000000000000000000000000000000000000000000</td>\n",
       "    </tr>\n",
       "    <tr>\n",
       "      <th id=\"T_5765c_level0_row2\" class=\"row_heading level0 row2\" >30601</th>\n",
       "      <td id=\"T_5765c_row2_col0\" class=\"data row2 col0\" >33901220597667739294452190890532306865</td>\n",
       "      <td id=\"T_5765c_row2_col1\" class=\"data row2 col1\" >[4097, 3080, 3099, 1068, 1069, 3536, 4085, 950, 1147]</td>\n",
       "      <td id=\"T_5765c_row2_col2\" class=\"data row2 col2\" >0.8927875903717792382963125419337302446365356445312500000000000000000000000000000000000000000000000000</td>\n",
       "      <td id=\"T_5765c_row2_col3\" class=\"data row2 col3\" >0.1072124096282207894592630736951832659542560577392578125000000000000000000000000000000000000000000000</td>\n",
       "    </tr>\n",
       "    <tr>\n",
       "      <th id=\"T_5765c_level0_row3\" class=\"row_heading level0 row3\" >58430</th>\n",
       "      <td id=\"T_5765c_row3_col0\" class=\"data row3 col0\" >64815100308319927083853690183259639484</td>\n",
       "      <td id=\"T_5765c_row3_col1\" class=\"data row3 col1\" >[4002, 2980, 4004, 3181, 557, 243, 3988, 4085, 3639]</td>\n",
       "      <td id=\"T_5765c_row3_col2\" class=\"data row3 col2\" >0.8935970094506886507446097311913035809993743896484375000000000000000000000000000000000000000000000000</td>\n",
       "      <td id=\"T_5765c_row3_col3\" class=\"data row3 col3\" >0.1064029905493112937442390375508693978190422058105468750000000000000000000000000000000000000000000000</td>\n",
       "    </tr>\n",
       "    <tr>\n",
       "      <th id=\"T_5765c_level0_row4\" class=\"row_heading level0 row4\" >48682</th>\n",
       "      <td id=\"T_5765c_row4_col0\" class=\"data row4 col0\" >53999771292848229630751307185745266414</td>\n",
       "      <td id=\"T_5765c_row4_col1\" class=\"data row4 col1\" >[4000, 3972, 3655, 4267, 814, 336, 881, 3988, 4085]</td>\n",
       "      <td id=\"T_5765c_row4_col2\" class=\"data row4 col2\" >0.8976239128500264063958979932067450135946273803710937500000000000000000000000000000000000000000000000</td>\n",
       "      <td id=\"T_5765c_row4_col3\" class=\"data row4 col3\" >0.1023760871499735242151629677209712099283933639526367187500000000000000000000000000000000000000000000</td>\n",
       "    </tr>\n",
       "  </tbody>\n",
       "</table>\n"
      ],
      "text/plain": [
       "<pandas.io.formats.style.Styler at 0x7fb7fdef9730>"
      ]
     },
     "execution_count": 71,
     "metadata": {},
     "output_type": "execute_result"
    }
   ],
   "source": [
    "samples.tail(5).style"
   ]
  },
  {
   "cell_type": "code",
   "execution_count": null,
   "id": "0ef60ffa",
   "metadata": {},
   "outputs": [],
   "source": []
  },
  {
   "cell_type": "code",
   "execution_count": 100,
   "id": "a7780ddf",
   "metadata": {
    "ExecuteTime": {
     "end_time": "2023-02-10T17:16:38.208082Z",
     "start_time": "2023-02-10T17:16:38.170615Z"
    }
   },
   "outputs": [
    {
     "name": "stdout",
     "output_type": "stream",
     "text": [
      "62189114061023640704252020270838166935 visited pages:  ['/products/hardware/allen-bradley.html', '/support/product/product-downloads.html', '/en-us.html', '/company/events.html', '/lang-selection.html', '/company/events/in-person-events/automation-fair.html', '/index.html', '/support.html']\n"
     ]
    }
   ],
   "source": [
    "# good example\n",
    "visited_codes = [3080, 4267, 813, 240, 881, 243, 824, 4092]\n",
    "target_user = samples[samples[\"page_code\"].map(set(visited_codes).issubset)]\n",
    "print(target_user[\"mcvisid\"].iloc[0], \"visited pages: \" , pathMetrics.iloc[visited_codes].index.tolist())"
   ]
  },
  {
   "cell_type": "code",
   "execution_count": 90,
   "id": "680e386e",
   "metadata": {
    "ExecuteTime": {
     "end_time": "2023-02-10T17:15:27.144921Z",
     "start_time": "2023-02-10T17:15:27.128769Z"
    }
   },
   "outputs": [
    {
     "data": {
      "text/html": [
       "<style type=\"text/css\">\n",
       "</style>\n",
       "<table id=\"T_566de_\">\n",
       "  <thead>\n",
       "    <tr>\n",
       "      <th class=\"blank level0\" >&nbsp;</th>\n",
       "      <th class=\"col_heading level0 col0\" >lead-Good</th>\n",
       "      <th class=\"col_heading level0 col1\" >lead-Bad</th>\n",
       "      <th class=\"col_heading level0 col2\" >traffic</th>\n",
       "    </tr>\n",
       "    <tr>\n",
       "      <th class=\"index_name level0\" >clean_PageURL</th>\n",
       "      <th class=\"blank col0\" >&nbsp;</th>\n",
       "      <th class=\"blank col1\" >&nbsp;</th>\n",
       "      <th class=\"blank col2\" >&nbsp;</th>\n",
       "    </tr>\n",
       "  </thead>\n",
       "  <tbody>\n",
       "    <tr>\n",
       "      <th id=\"T_566de_level0_row0\" class=\"row_heading level0 row0\" >/products/hardware/allen-bradley.html</th>\n",
       "      <td id=\"T_566de_row0_col0\" class=\"data row0 col0\" >0.3376659951040921758824708831525640562176704406738281250000000000000000000000000000000000000000000000</td>\n",
       "      <td id=\"T_566de_row0_col1\" class=\"data row0 col1\" >0.6623340048959077686063778855896089226007461547851562500000000000000000000000000000000000000000000000</td>\n",
       "      <td id=\"T_566de_row0_col2\" class=\"data row0 col2\" >0.0541177422276307509840798104505665833130478858947753906250000000000000000000000000000000000000000000</td>\n",
       "    </tr>\n",
       "    <tr>\n",
       "      <th id=\"T_566de_level0_row1\" class=\"row_heading level0 row1\" >/support/product/product-downloads.html</th>\n",
       "      <td id=\"T_566de_row1_col0\" class=\"data row1 col0\" >0.3531431590068673798121778872882714495062828063964843750000000000000000000000000000000000000000000000</td>\n",
       "      <td id=\"T_566de_row1_col1\" class=\"data row1 col1\" >0.6468568409931325646766708814539015293121337890625000000000000000000000000000000000000000000000000000</td>\n",
       "      <td id=\"T_566de_row1_col2\" class=\"data row1 col2\" >0.0088771808268369410688247711505027837119996547698974609375000000000000000000000000000000000000000000</td>\n",
       "    </tr>\n",
       "    <tr>\n",
       "      <th id=\"T_566de_level0_row2\" class=\"row_heading level0 row2\" >/en-us.html</th>\n",
       "      <td id=\"T_566de_row2_col0\" class=\"data row2 col0\" >0.3400936351247378919282482456765137612819671630859375000000000000000000000000000000000000000000000000</td>\n",
       "      <td id=\"T_566de_row2_col1\" class=\"data row2 col1\" >0.6599063648752621080717517543234862387180328369140625000000000000000000000000000000000000000000000000</td>\n",
       "      <td id=\"T_566de_row2_col2\" class=\"data row2 col2\" >0.1165669273429948277209788898289843928068876266479492187500000000000000000000000000000000000000000000</td>\n",
       "    </tr>\n",
       "    <tr>\n",
       "      <th id=\"T_566de_level0_row3\" class=\"row_heading level0 row3\" >/company/events.html</th>\n",
       "      <td id=\"T_566de_row3_col0\" class=\"data row3 col0\" >0.4139344262295082121916323103505419567227363586425781250000000000000000000000000000000000000000000000</td>\n",
       "      <td id=\"T_566de_row3_col1\" class=\"data row3 col1\" >0.5860655737704918433195189209072850644588470458984375000000000000000000000000000000000000000000000000</td>\n",
       "      <td id=\"T_566de_row3_col2\" class=\"data row3 col2\" >0.0008581743747021449222889266650327044771984219551086425781250000000000000000000000000000000000000000</td>\n",
       "    </tr>\n",
       "    <tr>\n",
       "      <th id=\"T_566de_level0_row4\" class=\"row_heading level0 row4\" >/lang-selection.html</th>\n",
       "      <td id=\"T_566de_row4_col0\" class=\"data row4 col0\" >0.3256191037735848836653929083695402368903160095214843750000000000000000000000000000000000000000000000</td>\n",
       "      <td id=\"T_566de_row4_col1\" class=\"data row4 col1\" >0.6743808962264150608234558603726327419281005859375000000000000000000000000000000000000000000000000000</td>\n",
       "      <td id=\"T_566de_row4_col2\" class=\"data row4 col2\" >0.0039766768838656769979866822950498317368328571319580078125000000000000000000000000000000000000000000</td>\n",
       "    </tr>\n",
       "    <tr>\n",
       "      <th id=\"T_566de_level0_row5\" class=\"row_heading level0 row5\" >/company/events/in-person-events/automation-fair.html</th>\n",
       "      <td id=\"T_566de_row5_col0\" class=\"data row5 col0\" >0.3887577585453274031657144860218977555632591247558593750000000000000000000000000000000000000000000000</td>\n",
       "      <td id=\"T_566de_row5_col1\" class=\"data row5 col1\" >0.6112422414546726523454367452359292656183242797851562500000000000000000000000000000000000000000000000</td>\n",
       "      <td id=\"T_566de_row5_col2\" class=\"data row5 col2\" >0.0067053665793837674558020012227643746882677078247070312500000000000000000000000000000000000000000000</td>\n",
       "    </tr>\n",
       "    <tr>\n",
       "      <th id=\"T_566de_level0_row6\" class=\"row_heading level0 row6\" >/index.html</th>\n",
       "      <td id=\"T_566de_row6_col0\" class=\"data row6 col0\" >0.8461538461538461453059767336526419967412948608398437500000000000000000000000000000000000000000000000</td>\n",
       "      <td id=\"T_566de_row6_col1\" class=\"data row6 col1\" >0.1538461538461538546940232663473580032587051391601562500000000000000000000000000000000000000000000000</td>\n",
       "      <td id=\"T_566de_row6_col2\" class=\"data row6 col2\" >0.0000076204008682567510351213088681809892932506045326590538024902343750000000000000000000000000000000</td>\n",
       "    </tr>\n",
       "    <tr>\n",
       "      <th id=\"T_566de_level0_row7\" class=\"row_heading level0 row7\" >/support.html</th>\n",
       "      <td id=\"T_566de_row7_col0\" class=\"data row7 col0\" >0.3814886254042094693161857321683783084154129028320312500000000000000000000000000000000000000000000000</td>\n",
       "      <td id=\"T_566de_row7_col1\" class=\"data row7 col1\" >0.6185113745957905306838142678316216915845870971679687500000000000000000000000000000000000000000000000</td>\n",
       "      <td id=\"T_566de_row7_col2\" class=\"data row7 col2\" >0.0206653547853479606366544629736381466500461101531982421875000000000000000000000000000000000000000000</td>\n",
       "    </tr>\n",
       "  </tbody>\n",
       "</table>\n"
      ],
      "text/plain": [
       "<pandas.io.formats.style.Styler at 0x7fb7e19d5a30>"
      ]
     },
     "execution_count": 90,
     "metadata": {},
     "output_type": "execute_result"
    }
   ],
   "source": [
    "pageKYields = pathMetrics.iloc[visited_codes][[\"lead-Good\",\"lead-Bad\", \"traffic\"]]\n",
    "pageKYields.style"
   ]
  },
  {
   "cell_type": "code",
   "execution_count": 103,
   "id": "59aa4d41",
   "metadata": {
    "ExecuteTime": {
     "end_time": "2023-02-10T17:20:05.751477Z",
     "start_time": "2023-02-10T17:20:05.736967Z"
    }
   },
   "outputs": [
    {
     "data": {
      "text/html": [
       "<style type=\"text/css\">\n",
       "</style>\n",
       "<table id=\"T_1deb7_\">\n",
       "  <thead>\n",
       "    <tr>\n",
       "      <th class=\"blank level0\" >&nbsp;</th>\n",
       "      <th class=\"col_heading level0 col0\" >lead-Good</th>\n",
       "      <th class=\"col_heading level0 col1\" >lead-Bad</th>\n",
       "    </tr>\n",
       "  </thead>\n",
       "  <tbody>\n",
       "    <tr>\n",
       "      <th id=\"T_1deb7_level0_row0\" class=\"row_heading level0 row0\" >3080</th>\n",
       "      <td id=\"T_1deb7_row0_col0\" class=\"data row0 col0\" >-2.9562246134805838515546838607406243681907653808593750000000000000000000000000000000000000000000000000</td>\n",
       "      <td id=\"T_1deb7_row0_col1\" class=\"data row0 col1\" >-2.8957675448868425149839822552166879177093505859375000000000000000000000000000000000000000000000000000</td>\n",
       "    </tr>\n",
       "    <tr>\n",
       "      <th id=\"T_1deb7_level0_row1\" class=\"row_heading level0 row1\" >4267</th>\n",
       "      <td id=\"T_1deb7_row1_col0\" class=\"data row1 col0\" >-7.6753109817883302667951284092850983142852783203125000000000000000000000000000000000000000000000000000</td>\n",
       "      <td id=\"T_1deb7_row1_col1\" class=\"data row1 col1\" >-7.6228581058225515221238310914486646652221679687500000000000000000000000000000000000000000000000000000</td>\n",
       "    </tr>\n",
       "    <tr>\n",
       "      <th id=\"T_1deb7_level0_row2\" class=\"row_heading level0 row2\" >813</th>\n",
       "      <td id=\"T_1deb7_row2_col0\" class=\"data row2 col0\" >-9.8570683377489238807811489095911383628845214843750000000000000000000000000000000000000000000000000000</td>\n",
       "      <td id=\"T_1deb7_row2_col1\" class=\"data row2 col1\" >-9.7549941578276762044197312206961214542388916015625000000000000000000000000000000000000000000000000000</td>\n",
       "    </tr>\n",
       "    <tr>\n",
       "      <th id=\"T_1deb7_level0_row3\" class=\"row_heading level0 row3\" >240</th>\n",
       "      <td id=\"T_1deb7_row3_col0\" class=\"data row3 col0\" >-16.7537526582091906846017081988975405693054199218750000000000000000000000000000000000000000000000000000</td>\n",
       "      <td id=\"T_1deb7_row3_col1\" class=\"data row3 col1\" >-16.9172100373474805223850125912576913833618164062500000000000000000000000000000000000000000000000000000</td>\n",
       "    </tr>\n",
       "    <tr>\n",
       "      <th id=\"T_1deb7_level0_row4\" class=\"row_heading level0 row4\" >881</th>\n",
       "      <td id=\"T_1deb7_row4_col0\" class=\"data row4 col0\" >-22.3570217613186557059634651523083448410034179687500000000000000000000000000000000000000000000000000000</td>\n",
       "      <td id=\"T_1deb7_row4_col1\" class=\"data row4 col1\" >-22.4056680386456257281224679900333285331726074218750000000000000000000000000000000000000000000000000000</td>\n",
       "    </tr>\n",
       "    <tr>\n",
       "      <th id=\"T_1deb7_level0_row5\" class=\"row_heading level0 row5\" >243</th>\n",
       "      <td id=\"T_1deb7_row5_col0\" class=\"data row5 col0\" >-27.2606010773375402322926674969494342803955078125000000000000000000000000000000000000000000000000000000</td>\n",
       "      <td id=\"T_1deb7_row5_col1\" class=\"data row5 col1\" >-27.4699661003180217733188328566029667854309082031250000000000000000000000000000000000000000000000000000</td>\n",
       "    </tr>\n",
       "    <tr>\n",
       "      <th id=\"T_1deb7_level0_row6\" class=\"row_heading level0 row6\" >824</th>\n",
       "      <td id=\"T_1deb7_row6_col0\" class=\"data row6 col0\" >-38.1662701110687478944782924372702836990356445312500000000000000000000000000000000000000000000000000000</td>\n",
       "      <td id=\"T_1deb7_row6_col1\" class=\"data row6 col1\" >-40.6936388987658403948444174602627754211425781250000000000000000000000000000000000000000000000000000000</td>\n",
       "    </tr>\n",
       "    <tr>\n",
       "      <th id=\"T_1deb7_level0_row7\" class=\"row_heading level0 row7\" >4092</th>\n",
       "      <td id=\"T_1deb7_row7_col0\" class=\"data row7 col0\" >-41.9631743847747813447313092183321714401245117187500000000000000000000000000000000000000000000000000000</td>\n",
       "      <td id=\"T_1deb7_row7_col1\" class=\"data row7 col1\" >-44.6205642974967418012965936213731765747070312500000000000000000000000000000000000000000000000000000000</td>\n",
       "    </tr>\n",
       "  </tbody>\n",
       "</table>\n"
      ],
      "text/plain": [
       "<pandas.io.formats.style.Styler at 0x7fb80d07edf0>"
      ]
     },
     "execution_count": 103,
     "metadata": {},
     "output_type": "execute_result"
    }
   ],
   "source": [
    "np.log(conditional_parts.iloc[visited_codes].iloc[:,0:2] + 1e-321).cumsum().style\n",
    "# conditional_parts.iloc[visited_codes].iloc[:,0:2].cumprod().style"
   ]
  },
  {
   "cell_type": "code",
   "execution_count": 99,
   "id": "90bebda6",
   "metadata": {
    "ExecuteTime": {
     "end_time": "2023-02-10T17:16:08.322697Z",
     "start_time": "2023-02-10T17:16:08.310963Z"
    }
   },
   "outputs": [
    {
     "data": {
      "text/plain": [
       "lead-Good    0.88535357319411955856480744841974228620529174...\n",
       "lead-Bad     0.11464642680588053857970720628145500086247920...\n",
       "Name: 62189114061023640704252020270838166935, dtype: float64"
      ]
     },
     "execution_count": 99,
     "metadata": {},
     "output_type": "execute_result"
    }
   ],
   "source": [
    "a = nominators_df.loc[target_mcvisid].iloc[0:2]\n",
    "a/a.sum()"
   ]
  },
  {
   "cell_type": "code",
   "execution_count": null,
   "id": "880d5816",
   "metadata": {},
   "outputs": [],
   "source": [
    "session variable\n",
    "1. quite\n",
    "2. not share cross\n"
   ]
  },
  {
   "cell_type": "code",
   "execution_count": null,
   "id": "a6071297",
   "metadata": {},
   "outputs": [],
   "source": []
  },
  {
   "cell_type": "code",
   "execution_count": null,
   "id": "15d03c7a",
   "metadata": {},
   "outputs": [],
   "source": []
  },
  {
   "cell_type": "code",
   "execution_count": null,
   "id": "b40bb3ca",
   "metadata": {},
   "outputs": [],
   "source": []
  },
  {
   "cell_type": "code",
   "execution_count": 101,
   "id": "b12f3729",
   "metadata": {
    "ExecuteTime": {
     "end_time": "2023-02-10T17:16:43.702410Z",
     "start_time": "2023-02-10T17:16:43.687271Z"
    }
   },
   "outputs": [
    {
     "data": {
      "text/html": [
       "<div>\n",
       "<style scoped>\n",
       "    .dataframe tbody tr th:only-of-type {\n",
       "        vertical-align: middle;\n",
       "    }\n",
       "\n",
       "    .dataframe tbody tr th {\n",
       "        vertical-align: top;\n",
       "    }\n",
       "\n",
       "    .dataframe thead th {\n",
       "        text-align: right;\n",
       "    }\n",
       "</style>\n",
       "<table border=\"1\" class=\"dataframe\">\n",
       "  <thead>\n",
       "    <tr style=\"text-align: right;\">\n",
       "      <th></th>\n",
       "      <th>mcvisid</th>\n",
       "      <th>page_code</th>\n",
       "      <th>lead-Good</th>\n",
       "      <th>lead-Bad</th>\n",
       "    </tr>\n",
       "  </thead>\n",
       "  <tbody>\n",
       "    <tr>\n",
       "      <th>56093</th>\n",
       "      <td>62189114061023640704252020270838166935</td>\n",
       "      <td>[3080, 4267, 813, 240, 881, 243, 824, 4092]</td>\n",
       "      <td>0.88535357319411955856480744841974228620529174...</td>\n",
       "      <td>0.11464642680588053857970720628145500086247920...</td>\n",
       "    </tr>\n",
       "  </tbody>\n",
       "</table>\n",
       "</div>"
      ],
      "text/plain": [
       "                                      mcvisid  \\\n",
       "56093  62189114061023640704252020270838166935   \n",
       "\n",
       "                                         page_code  \\\n",
       "56093  [3080, 4267, 813, 240, 881, 243, 824, 4092]   \n",
       "\n",
       "                                               lead-Good  \\\n",
       "56093  0.88535357319411955856480744841974228620529174...   \n",
       "\n",
       "                                                lead-Bad  \n",
       "56093  0.11464642680588053857970720628145500086247920...  "
      ]
     },
     "execution_count": 101,
     "metadata": {},
     "output_type": "execute_result"
    }
   ],
   "source": [
    "target_user"
   ]
  },
  {
   "cell_type": "code",
   "execution_count": null,
   "id": "57b831ae",
   "metadata": {},
   "outputs": [],
   "source": []
  },
  {
   "cell_type": "code",
   "execution_count": null,
   "id": "e4ff4515",
   "metadata": {},
   "outputs": [],
   "source": []
  },
  {
   "cell_type": "markdown",
   "id": "19d3c0f8",
   "metadata": {},
   "source": [
    "## classification report"
   ]
  },
  {
   "cell_type": "code",
   "execution_count": 3,
   "id": "c506b716",
   "metadata": {
    "ExecuteTime": {
     "end_time": "2023-02-10T16:53:08.005641Z",
     "start_time": "2023-02-10T16:53:07.978885Z"
    }
   },
   "outputs": [],
   "source": [
    "from sklearn.metrics import classification_report\n",
    "def evaluate_report(df, aspect, label_col, label_map, ignore_unknown=True):\n",
    "    reverse_map = {v:k for k,v in label_map.items()}\n",
    "    if ignore_unknown:\n",
    "        data = df[df[label_col]!=-1]\n",
    "    probs = data[aspect]\n",
    "    pred = probs.columns[np.argmax(probs.values, axis=1)].tolist() # mapping into columns string\n",
    "    label = data[label_col].map(reverse_map) # mapping into string \n",
    "    print(classification_report(label, pred, zero_division=1))\n",
    "    return data\n"
   ]
  },
  {
   "cell_type": "code",
   "execution_count": 7,
   "id": "e1d439c8",
   "metadata": {
    "ExecuteTime": {
     "end_time": "2023-02-10T16:53:44.316083Z",
     "start_time": "2023-02-10T16:53:42.301641Z"
    }
   },
   "outputs": [
    {
     "name": "stdout",
     "output_type": "stream",
     "text": [
      "              precision    recall  f1-score   support\n",
      "\n",
      "    lead-Bad       0.95      0.77      0.85     70611\n",
      "   lead-Good       0.11      0.43      0.18      4727\n",
      "\n",
      "    accuracy                           0.75     75338\n",
      "   macro avg       0.53      0.60      0.52     75338\n",
      "weighted avg       0.90      0.75      0.81     75338\n",
      "\n"
     ]
    }
   ],
   "source": [
    "aspect = [\"lead-Bad\", \"lead-Good\"]\n",
    "label_map = {\"lead-Bad\": 0, \"lead-Good\": 1}\n",
    "label_col = \"label_lead\"\n",
    "data = evaluate_report(df, aspect, label_col, label_map)"
   ]
  },
  {
   "cell_type": "code",
   "execution_count": null,
   "id": "5534aa71",
   "metadata": {},
   "outputs": [],
   "source": []
  },
  {
   "cell_type": "code",
   "execution_count": 8,
   "id": "20fad257",
   "metadata": {
    "ExecuteTime": {
     "end_time": "2023-02-10T16:53:49.993301Z",
     "start_time": "2023-02-10T16:53:49.141925Z"
    }
   },
   "outputs": [
    {
     "name": "stdout",
     "output_type": "stream",
     "text": [
      "               precision    recall  f1-score   support\n",
      "\n",
      "  role-Csuite       0.34      0.11      0.17      2308\n",
      "role-Engineer       0.52      0.09      0.16     13413\n",
      " role-Manager       0.53      0.49      0.51     16006\n",
      "   role-Other       0.00      1.00      0.00         0\n",
      " role-Unknown       1.00      0.00      0.00     16871\n",
      "\n",
      "     accuracy                           0.19     48598\n",
      "    macro avg       0.48      0.34      0.17     48598\n",
      " weighted avg       0.68      0.19      0.22     48598\n",
      "\n"
     ]
    }
   ],
   "source": [
    "# aspect = [\"role-Other\", \"role-Engineer\", \"role-Manager\", \"role-Csuite\"]\n",
    "# label_col = \"label_jobLevel\"\n",
    "\n",
    "# Standardized_JobLevel_Map = {\n",
    "#         \"role-Csuite\": 4,\n",
    "#         \"role-Manager\": 3,\n",
    "#         \"role-Engineer\": 2,\n",
    "#         \"role-Marketing\": -1,\n",
    "#         \"role-Unknown\": 0,\n",
    "#         \"role-Other\": -1,\n",
    "#         }\n",
    "\n",
    "# data = evaluate_report(df, aspect, label_col, Standardized_JobLevel_Map)"
   ]
  },
  {
   "cell_type": "code",
   "execution_count": 105,
   "id": "19dd2e2d",
   "metadata": {
    "ExecuteTime": {
     "end_time": "2023-02-10T20:54:18.529693Z",
     "start_time": "2023-02-10T20:54:14.754311Z"
    },
    "scrolled": true
   },
   "outputs": [
    {
     "data": {
      "text/plain": [
       "array([ 813,  813,  813, ..., 3346, 3346,  810])"
      ]
     },
     "execution_count": 105,
     "metadata": {},
     "output_type": "execute_result"
    }
   ],
   "source": [
    "le.transform(filter_dfs[\"clean_PageURL\"])"
   ]
  },
  {
   "cell_type": "code",
   "execution_count": 117,
   "id": "1d32270e",
   "metadata": {
    "ExecuteTime": {
     "end_time": "2023-02-10T20:58:19.304680Z",
     "start_time": "2023-02-10T20:58:19.295652Z"
    }
   },
   "outputs": [],
   "source": []
  },
  {
   "cell_type": "code",
   "execution_count": 118,
   "id": "bf408f2b",
   "metadata": {
    "ExecuteTime": {
     "end_time": "2023-02-10T20:58:27.336845Z",
     "start_time": "2023-02-10T20:58:25.454350Z"
    }
   },
   "outputs": [
    {
     "data": {
      "text/plain": [
       "8           813\n",
       "9           813\n",
       "10          813\n",
       "11          813\n",
       "12          813\n",
       "           ... \n",
       "1906079       1\n",
       "1906080       1\n",
       "1906083    3346\n",
       "1906084    3346\n",
       "1906085     810\n",
       "Name: clean_PageURL, Length: 29114466, dtype: int64"
      ]
     },
     "execution_count": 118,
     "metadata": {},
     "output_type": "execute_result"
    }
   ],
   "source": [
    "filter_dfs[\"clean_PageURL\"].map(le_dict)"
   ]
  },
  {
   "cell_type": "code",
   "execution_count": null,
   "id": "ebb223de",
   "metadata": {},
   "outputs": [],
   "source": []
  },
  {
   "cell_type": "code",
   "execution_count": null,
   "id": "0bf61b79",
   "metadata": {},
   "outputs": [],
   "source": []
  }
 ],
 "metadata": {
  "kernelspec": {
   "display_name": "Python 3 (ipykernel)",
   "language": "python",
   "name": "python3"
  },
  "language_info": {
   "codemirror_mode": {
    "name": "ipython",
    "version": 3
   },
   "file_extension": ".py",
   "mimetype": "text/x-python",
   "name": "python",
   "nbconvert_exporter": "python",
   "pygments_lexer": "ipython3",
   "version": "3.9.7"
  },
  "toc": {
   "base_numbering": 1,
   "nav_menu": {},
   "number_sections": true,
   "sideBar": true,
   "skip_h1_title": false,
   "title_cell": "Table of Contents",
   "title_sidebar": "Contents",
   "toc_cell": false,
   "toc_position": {},
   "toc_section_display": true,
   "toc_window_display": false
  },
  "vscode": {
   "interpreter": {
    "hash": "8a6007ee39de60d5949587fa5e503059e3642c657bc0503a325c1bbda16d0f4c"
   }
  }
 },
 "nbformat": 4,
 "nbformat_minor": 5
}
