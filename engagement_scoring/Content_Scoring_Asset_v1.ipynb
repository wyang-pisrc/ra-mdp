{
 "cells": [
  {
   "cell_type": "markdown",
   "id": "40fe2f74",
   "metadata": {},
   "source": [
    "# Init"
   ]
  },
  {
   "cell_type": "markdown",
   "id": "d6b62799",
   "metadata": {},
   "source": [
    "## Utils"
   ]
  },
  {
   "cell_type": "code",
   "execution_count": 1,
   "id": "6d8c3275",
   "metadata": {
    "ExecuteTime": {
     "end_time": "2022-12-08T15:25:50.334985Z",
     "start_time": "2022-12-08T15:25:48.383151Z"
    }
   },
   "outputs": [],
   "source": [
    "from contentScoreShareUtils import * "
   ]
  },
  {
   "cell_type": "markdown",
   "id": "d5243ed3",
   "metadata": {},
   "source": [
    "# Data"
   ]
  },
  {
   "cell_type": "markdown",
   "id": "ba5a5d32",
   "metadata": {},
   "source": [
    "## Load Data"
   ]
  },
  {
   "cell_type": "code",
   "execution_count": 2,
   "id": "b50f0ceb",
   "metadata": {
    "ExecuteTime": {
     "end_time": "2022-12-07T21:18:10.613188Z",
     "start_time": "2022-12-07T21:18:10.571974Z"
    }
   },
   "outputs": [],
   "source": []
  },
  {
   "cell_type": "markdown",
   "id": "c11e97bb",
   "metadata": {},
   "source": [
    "### AEM.raw \n",
    "- stage 1 should not drop duplicate because the eventlist probably exist only on some of pdf view records"
   ]
  },
  {
   "cell_type": "markdown",
   "id": "eaded955",
   "metadata": {},
   "source": [
    "#### (bingeID Only)"
   ]
  },
  {
   "cell_type": "code",
   "execution_count": 3,
   "id": "7451b8f7",
   "metadata": {
    "ExecuteTime": {
     "end_time": "2022-12-06T23:01:11.030583Z",
     "start_time": "2022-12-06T23:01:11.029107Z"
    }
   },
   "outputs": [],
   "source": [
    "# _dt = pd.read_csv(\"all_binge_data_TOP1000000_2022-10-16.csv\", nrows=1000000, index_col=0)\n",
    "# aem_raw = pd.read_csv(\"aemRaw_2022-04-21-all_fields.csv\", index_col=0)"
   ]
  },
  {
   "cell_type": "markdown",
   "id": "e39ac242",
   "metadata": {},
   "source": [
    "#### load all\n",
    "- reason => some rows without Elq contactID will still visit asset -> so, using mcvisid to track user_journey\n",
    "    - but still, the total tracking email number will not change => 35"
   ]
  },
  {
   "cell_type": "code",
   "execution_count": 59,
   "id": "3d4654c4",
   "metadata": {
    "ExecuteTime": {
     "end_time": "2022-12-07T21:04:13.330078Z",
     "start_time": "2022-12-07T21:04:13.320484Z"
    }
   },
   "outputs": [
    {
     "name": "stdout",
     "output_type": "stream",
     "text": [
      "['./aem_raw/aemRaw_keyColumns_20221001-20221015.csv', './aem_raw/aemRaw_keyColumns_20221015-20221031.csv', './aem_raw/aemRaw_keyColumns_20221101-20221115.csv', './aem_raw/aemRaw_keyColumns_20221115-20221130.csv']\n"
     ]
    }
   ],
   "source": [
    "# files = sorted([file for file in glob(\"./aem_raw/*.csv\") if \"aemRaw_keyColumns_2022\" in file])[-4::]\n",
    "# print(files)\n",
    "\n",
    "# df = pd.DataFrame()\n",
    "# for file in files:\n",
    "#     current = pd.read_csv(file)\n",
    "#     df = pd.concat([df, current])"
   ]
  },
  {
   "cell_type": "markdown",
   "id": "e0ae18b8",
   "metadata": {
    "ExecuteTime": {
     "end_time": "2022-12-07T21:11:39.137646Z",
     "start_time": "2022-12-07T21:11:39.131786Z"
    }
   },
   "source": [
    "#### prefiltering with mcvisid"
   ]
  },
  {
   "cell_type": "code",
   "execution_count": 56,
   "id": "8cbc17cf",
   "metadata": {
    "ExecuteTime": {
     "end_time": "2022-12-07T21:54:07.641511Z",
     "start_time": "2022-12-07T21:54:07.230406Z"
    }
   },
   "outputs": [],
   "source": [
    "email_mcvisid = pd.read_csv(\"email_mcvisid.csv\")\n",
    "email_mcvisid = email_cleanup(email_mcvisid, \"EmailAddress\").drop_duplicates()\n",
    "## some string cleanup?"
   ]
  },
  {
   "cell_type": "code",
   "execution_count": 452,
   "id": "74d39939",
   "metadata": {
    "ExecuteTime": {
     "end_time": "2022-12-08T14:48:25.221849Z",
     "start_time": "2022-12-08T14:48:25.200280Z"
    }
   },
   "outputs": [
    {
     "data": {
      "text/html": [
       "<div>\n",
       "<style scoped>\n",
       "    .dataframe tbody tr th:only-of-type {\n",
       "        vertical-align: middle;\n",
       "    }\n",
       "\n",
       "    .dataframe tbody tr th {\n",
       "        vertical-align: top;\n",
       "    }\n",
       "\n",
       "    .dataframe thead th {\n",
       "        text-align: right;\n",
       "    }\n",
       "</style>\n",
       "<table border=\"1\" class=\"dataframe\">\n",
       "  <thead>\n",
       "    <tr style=\"text-align: right;\">\n",
       "      <th></th>\n",
       "      <th>EmailAddress</th>\n",
       "      <th>mcvisid</th>\n",
       "    </tr>\n",
       "  </thead>\n",
       "  <tbody>\n",
       "    <tr>\n",
       "      <th>0</th>\n",
       "      <td>daravuth@it-anywhere.com</td>\n",
       "      <td>52836876026448603622011565556244490117</td>\n",
       "    </tr>\n",
       "    <tr>\n",
       "      <th>1</th>\n",
       "      <td>p.kumar@gmail.com</td>\n",
       "      <td>05289076903651073293476571393337414738</td>\n",
       "    </tr>\n",
       "    <tr>\n",
       "      <th>3</th>\n",
       "      <td>tonodera@aiden-net.co.jp</td>\n",
       "      <td>43277656118501184903494546147504017384</td>\n",
       "    </tr>\n",
       "    <tr>\n",
       "      <th>4</th>\n",
       "      <td>arshad.mehmood@spie.com</td>\n",
       "      <td>74473517763868880280357551581853310379</td>\n",
       "    </tr>\n",
       "    <tr>\n",
       "      <th>5</th>\n",
       "      <td>peter@yapab.com</td>\n",
       "      <td>43178188766923465540504066814247083073</td>\n",
       "    </tr>\n",
       "    <tr>\n",
       "      <th>...</th>\n",
       "      <td>...</td>\n",
       "      <td>...</td>\n",
       "    </tr>\n",
       "    <tr>\n",
       "      <th>159874</th>\n",
       "      <td>jarad.lincecum@williams.com</td>\n",
       "      <td>36133821910180952622775029789494501977</td>\n",
       "    </tr>\n",
       "    <tr>\n",
       "      <th>159875</th>\n",
       "      <td>mbeyer@phillipstube.com</td>\n",
       "      <td>59779735548610606900092028597429711776</td>\n",
       "    </tr>\n",
       "    <tr>\n",
       "      <th>159877</th>\n",
       "      <td>mark.peters@kubota.com</td>\n",
       "      <td>68934099486898397793744127563377353162</td>\n",
       "    </tr>\n",
       "    <tr>\n",
       "      <th>159878</th>\n",
       "      <td>ryan.dillard@gkn.com</td>\n",
       "      <td>27867921378428974691194611814599886906</td>\n",
       "    </tr>\n",
       "    <tr>\n",
       "      <th>159879</th>\n",
       "      <td>860700392@qq.com</td>\n",
       "      <td>64302350008887028201208143329071438960</td>\n",
       "    </tr>\n",
       "  </tbody>\n",
       "</table>\n",
       "<p>144071 rows × 2 columns</p>\n",
       "</div>"
      ],
      "text/plain": [
       "                       EmailAddress                                 mcvisid\n",
       "0          daravuth@it-anywhere.com  52836876026448603622011565556244490117\n",
       "1                 p.kumar@gmail.com  05289076903651073293476571393337414738\n",
       "3          tonodera@aiden-net.co.jp  43277656118501184903494546147504017384\n",
       "4           arshad.mehmood@spie.com  74473517763868880280357551581853310379\n",
       "5                   peter@yapab.com  43178188766923465540504066814247083073\n",
       "...                             ...                                     ...\n",
       "159874  jarad.lincecum@williams.com  36133821910180952622775029789494501977\n",
       "159875      mbeyer@phillipstube.com  59779735548610606900092028597429711776\n",
       "159877       mark.peters@kubota.com  68934099486898397793744127563377353162\n",
       "159878         ryan.dillard@gkn.com  27867921378428974691194611814599886906\n",
       "159879             860700392@qq.com  64302350008887028201208143329071438960\n",
       "\n",
       "[144071 rows x 2 columns]"
      ]
     },
     "execution_count": 452,
     "metadata": {},
     "output_type": "execute_result"
    }
   ],
   "source": [
    "email_mcvisid"
   ]
  },
  {
   "cell_type": "code",
   "execution_count": 451,
   "id": "72784a55",
   "metadata": {
    "ExecuteTime": {
     "end_time": "2022-12-08T14:39:03.678310Z",
     "start_time": "2022-12-08T14:39:03.671792Z"
    }
   },
   "outputs": [],
   "source": [
    "# current.merge(EmailAddress, left_on=\"EmailAddress\", right_on=\"\")"
   ]
  },
  {
   "cell_type": "code",
   "execution_count": null,
   "id": "035f0e9f",
   "metadata": {},
   "outputs": [],
   "source": []
  },
  {
   "cell_type": "code",
   "execution_count": null,
   "id": "228da7a0",
   "metadata": {},
   "outputs": [],
   "source": []
  },
  {
   "cell_type": "code",
   "execution_count": null,
   "id": "2b8d816b",
   "metadata": {},
   "outputs": [],
   "source": []
  },
  {
   "cell_type": "code",
   "execution_count": 10,
   "id": "fa02b650",
   "metadata": {
    "ExecuteTime": {
     "end_time": "2022-12-07T21:39:39.208156Z",
     "start_time": "2022-12-07T21:28:08.072915Z"
    }
   },
   "outputs": [
    {
     "name": "stdout",
     "output_type": "stream",
     "text": [
      "./target_mcvisid/aemRaw_keyColumns_20220401-20220415.csv, original rows 5584815 --> keep rows:  1503788\n",
      "./target_mcvisid/aemRaw_keyColumns_20220415-20220430.csv, original rows 5235230 --> keep rows:  1575891\n",
      "./target_mcvisid/aemRaw_keyColumns_20220501-20220515.csv, original rows 5495277 --> keep rows:  1976563\n",
      "./target_mcvisid/aemRaw_keyColumns_20220515-20220531.csv, original rows 6413570 --> keep rows:  2215833\n"
     ]
    },
    {
     "name": "stderr",
     "output_type": "stream",
     "text": [
      "/Users/wy/opt/anaconda3/lib/python3.9/site-packages/IPython/core/interactiveshell.py:3444: DtypeWarning: Columns (10,11,12,13,20,22,24) have mixed types.Specify dtype option on import or set low_memory=False.\n",
      "  exec(code_obj, self.user_global_ns, self.user_ns)\n"
     ]
    },
    {
     "name": "stdout",
     "output_type": "stream",
     "text": [
      "./target_mcvisid/aemRaw_keyColumns_20220601-20220615.csv, original rows 5490207 --> keep rows:  1949106\n",
      "./target_mcvisid/aemRaw_keyColumns_20220615-20220630.csv, original rows 2997171 --> keep rows:  1146943\n",
      "./target_mcvisid/aemRaw_keyColumns_20220701-20220715.csv, original rows 4322589 --> keep rows:  1537757\n",
      "./target_mcvisid/aemRaw_keyColumns_20220715-20220731.csv, original rows 3680306 --> keep rows:  1272473\n",
      "./target_mcvisid/aemRaw_keyColumns_20220801-20220815.csv, original rows 4565584 --> keep rows:  1550335\n",
      "./target_mcvisid/aemRaw_keyColumns_20220815-20220831.csv, original rows 8746625 --> keep rows:  2931668\n",
      "./target_mcvisid/aemRaw_keyColumns_20220901-20220915.csv, original rows 7084004 --> keep rows:  2379684\n",
      "./target_mcvisid/aemRaw_keyColumns_20220915-20220930.csv, original rows 7222517 --> keep rows:  2473647\n",
      "./target_mcvisid/aemRaw_keyColumns_20221001-20221015.csv, original rows 6240070 --> keep rows:  2168738\n",
      "./target_mcvisid/aemRaw_keyColumns_20221015-20221031.csv, original rows 6988682 --> keep rows:  2240542\n",
      "./target_mcvisid/aemRaw_keyColumns_20221101-20221115.csv, original rows 7904562 --> keep rows:  2594489\n",
      "./target_mcvisid/aemRaw_keyColumns_20221115-20221130.csv, original rows 7898931 --> keep rows:  2410443\n"
     ]
    }
   ],
   "source": [
    "files = sorted([file for file in glob(\"./aem_raw/*.csv\") if \"aemRaw_keyColumns_2022\" in file])\n",
    "stored_files = sorted([file for file in glob(\"./target_mcvisid/*.csv\") if \"aemRaw_keyColumns_2022\" in file])\n",
    "\n",
    "output_folder = \"target_mcvisid\"\n",
    "\n",
    "info_list = []\n",
    "\n",
    "for file in files:\n",
    "    output_filename = file.replace(\"aem_raw\", output_folder)\n",
    "    if output_filename in stored_files:\n",
    "        print(f\"already processed this file {output_filename} in the target_mcvisid folder\")\n",
    "        continue\n",
    "    current = pd.read_csv(file, nrows=None)\n",
    "    keep_data = current.merge(email_mcvisid, how=\"inner\", on=\"mcvisid\")\n",
    "    keep_data.to_csv(output_filename, index=None)\n",
    "    info = [file, output_filename, current.shape[0], keep_data.shape[0]]\n",
    "    info_list.append(info)\n",
    "    print(f\"{output_filename}, original rows {current.shape[0]} --> keep rows:  {keep_data.shape[0]}\")\n",
    "    \n",
    "del keep_data    \n",
    "#     info_list_df = pd.DataFrame(info_list, columns = [\"Raw_file\", \"Clean_file\", \"Original_rows\", \"Keep_rows\"])\n",
    "#     info_list_df.to_excel(\"export_info.xlsx\")"
   ]
  },
  {
   "cell_type": "code",
   "execution_count": 42,
   "id": "1cd5d8dd",
   "metadata": {
    "ExecuteTime": {
     "end_time": "2022-12-07T21:45:23.614044Z",
     "start_time": "2022-12-07T21:45:23.605077Z"
    }
   },
   "outputs": [],
   "source": []
  },
  {
   "cell_type": "code",
   "execution_count": 25,
   "id": "6e1f1491",
   "metadata": {
    "ExecuteTime": {
     "end_time": "2022-12-07T21:42:34.312899Z",
     "start_time": "2022-12-07T21:42:34.278402Z"
    }
   },
   "outputs": [
    {
     "data": {
      "text/html": [
       "<div>\n",
       "<style scoped>\n",
       "    .dataframe tbody tr th:only-of-type {\n",
       "        vertical-align: middle;\n",
       "    }\n",
       "\n",
       "    .dataframe tbody tr th {\n",
       "        vertical-align: top;\n",
       "    }\n",
       "\n",
       "    .dataframe thead th {\n",
       "        text-align: right;\n",
       "    }\n",
       "</style>\n",
       "<table border=\"1\" class=\"dataframe\">\n",
       "  <thead>\n",
       "    <tr style=\"text-align: right;\">\n",
       "      <th></th>\n",
       "      <th>Raw_file</th>\n",
       "      <th>Clean_file</th>\n",
       "      <th>Original_rows</th>\n",
       "      <th>Keep_rows</th>\n",
       "      <th>Keep_ratio</th>\n",
       "    </tr>\n",
       "  </thead>\n",
       "  <tbody>\n",
       "    <tr>\n",
       "      <th>0</th>\n",
       "      <td>./aem_raw/aemRaw_keyColumns_20220401-20220415.csv</td>\n",
       "      <td>./target_mcvisid/aemRaw_keyColumns_20220401-20...</td>\n",
       "      <td>5584815</td>\n",
       "      <td>1503788</td>\n",
       "      <td>0.269264</td>\n",
       "    </tr>\n",
       "    <tr>\n",
       "      <th>1</th>\n",
       "      <td>./aem_raw/aemRaw_keyColumns_20220415-20220430.csv</td>\n",
       "      <td>./target_mcvisid/aemRaw_keyColumns_20220415-20...</td>\n",
       "      <td>5235230</td>\n",
       "      <td>1575891</td>\n",
       "      <td>0.301017</td>\n",
       "    </tr>\n",
       "    <tr>\n",
       "      <th>2</th>\n",
       "      <td>./aem_raw/aemRaw_keyColumns_20220501-20220515.csv</td>\n",
       "      <td>./target_mcvisid/aemRaw_keyColumns_20220501-20...</td>\n",
       "      <td>5495277</td>\n",
       "      <td>1976563</td>\n",
       "      <td>0.359684</td>\n",
       "    </tr>\n",
       "    <tr>\n",
       "      <th>3</th>\n",
       "      <td>./aem_raw/aemRaw_keyColumns_20220515-20220531.csv</td>\n",
       "      <td>./target_mcvisid/aemRaw_keyColumns_20220515-20...</td>\n",
       "      <td>6413570</td>\n",
       "      <td>2215833</td>\n",
       "      <td>0.345491</td>\n",
       "    </tr>\n",
       "    <tr>\n",
       "      <th>4</th>\n",
       "      <td>./aem_raw/aemRaw_keyColumns_20220601-20220615.csv</td>\n",
       "      <td>./target_mcvisid/aemRaw_keyColumns_20220601-20...</td>\n",
       "      <td>5490207</td>\n",
       "      <td>1949106</td>\n",
       "      <td>0.355015</td>\n",
       "    </tr>\n",
       "    <tr>\n",
       "      <th>5</th>\n",
       "      <td>./aem_raw/aemRaw_keyColumns_20220615-20220630.csv</td>\n",
       "      <td>./target_mcvisid/aemRaw_keyColumns_20220615-20...</td>\n",
       "      <td>2997171</td>\n",
       "      <td>1146943</td>\n",
       "      <td>0.382675</td>\n",
       "    </tr>\n",
       "    <tr>\n",
       "      <th>6</th>\n",
       "      <td>./aem_raw/aemRaw_keyColumns_20220701-20220715.csv</td>\n",
       "      <td>./target_mcvisid/aemRaw_keyColumns_20220701-20...</td>\n",
       "      <td>4322589</td>\n",
       "      <td>1537757</td>\n",
       "      <td>0.355749</td>\n",
       "    </tr>\n",
       "    <tr>\n",
       "      <th>7</th>\n",
       "      <td>./aem_raw/aemRaw_keyColumns_20220715-20220731.csv</td>\n",
       "      <td>./target_mcvisid/aemRaw_keyColumns_20220715-20...</td>\n",
       "      <td>3680306</td>\n",
       "      <td>1272473</td>\n",
       "      <td>0.345752</td>\n",
       "    </tr>\n",
       "    <tr>\n",
       "      <th>8</th>\n",
       "      <td>./aem_raw/aemRaw_keyColumns_20220801-20220815.csv</td>\n",
       "      <td>./target_mcvisid/aemRaw_keyColumns_20220801-20...</td>\n",
       "      <td>4565584</td>\n",
       "      <td>1550335</td>\n",
       "      <td>0.339570</td>\n",
       "    </tr>\n",
       "    <tr>\n",
       "      <th>9</th>\n",
       "      <td>./aem_raw/aemRaw_keyColumns_20220815-20220831.csv</td>\n",
       "      <td>./target_mcvisid/aemRaw_keyColumns_20220815-20...</td>\n",
       "      <td>8746625</td>\n",
       "      <td>2931668</td>\n",
       "      <td>0.335177</td>\n",
       "    </tr>\n",
       "    <tr>\n",
       "      <th>10</th>\n",
       "      <td>./aem_raw/aemRaw_keyColumns_20220901-20220915.csv</td>\n",
       "      <td>./target_mcvisid/aemRaw_keyColumns_20220901-20...</td>\n",
       "      <td>7084004</td>\n",
       "      <td>2379684</td>\n",
       "      <td>0.335924</td>\n",
       "    </tr>\n",
       "    <tr>\n",
       "      <th>11</th>\n",
       "      <td>./aem_raw/aemRaw_keyColumns_20220915-20220930.csv</td>\n",
       "      <td>./target_mcvisid/aemRaw_keyColumns_20220915-20...</td>\n",
       "      <td>7222517</td>\n",
       "      <td>2473647</td>\n",
       "      <td>0.342491</td>\n",
       "    </tr>\n",
       "    <tr>\n",
       "      <th>12</th>\n",
       "      <td>./aem_raw/aemRaw_keyColumns_20221001-20221015.csv</td>\n",
       "      <td>./target_mcvisid/aemRaw_keyColumns_20221001-20...</td>\n",
       "      <td>6240070</td>\n",
       "      <td>2168738</td>\n",
       "      <td>0.347550</td>\n",
       "    </tr>\n",
       "    <tr>\n",
       "      <th>13</th>\n",
       "      <td>./aem_raw/aemRaw_keyColumns_20221015-20221031.csv</td>\n",
       "      <td>./target_mcvisid/aemRaw_keyColumns_20221015-20...</td>\n",
       "      <td>6988682</td>\n",
       "      <td>2240542</td>\n",
       "      <td>0.320596</td>\n",
       "    </tr>\n",
       "    <tr>\n",
       "      <th>14</th>\n",
       "      <td>./aem_raw/aemRaw_keyColumns_20221101-20221115.csv</td>\n",
       "      <td>./target_mcvisid/aemRaw_keyColumns_20221101-20...</td>\n",
       "      <td>7904562</td>\n",
       "      <td>2594489</td>\n",
       "      <td>0.328227</td>\n",
       "    </tr>\n",
       "    <tr>\n",
       "      <th>15</th>\n",
       "      <td>./aem_raw/aemRaw_keyColumns_20221115-20221130.csv</td>\n",
       "      <td>./target_mcvisid/aemRaw_keyColumns_20221115-20...</td>\n",
       "      <td>7898931</td>\n",
       "      <td>2410443</td>\n",
       "      <td>0.305161</td>\n",
       "    </tr>\n",
       "  </tbody>\n",
       "</table>\n",
       "</div>"
      ],
      "text/plain": [
       "                                             Raw_file  \\\n",
       "0   ./aem_raw/aemRaw_keyColumns_20220401-20220415.csv   \n",
       "1   ./aem_raw/aemRaw_keyColumns_20220415-20220430.csv   \n",
       "2   ./aem_raw/aemRaw_keyColumns_20220501-20220515.csv   \n",
       "3   ./aem_raw/aemRaw_keyColumns_20220515-20220531.csv   \n",
       "4   ./aem_raw/aemRaw_keyColumns_20220601-20220615.csv   \n",
       "5   ./aem_raw/aemRaw_keyColumns_20220615-20220630.csv   \n",
       "6   ./aem_raw/aemRaw_keyColumns_20220701-20220715.csv   \n",
       "7   ./aem_raw/aemRaw_keyColumns_20220715-20220731.csv   \n",
       "8   ./aem_raw/aemRaw_keyColumns_20220801-20220815.csv   \n",
       "9   ./aem_raw/aemRaw_keyColumns_20220815-20220831.csv   \n",
       "10  ./aem_raw/aemRaw_keyColumns_20220901-20220915.csv   \n",
       "11  ./aem_raw/aemRaw_keyColumns_20220915-20220930.csv   \n",
       "12  ./aem_raw/aemRaw_keyColumns_20221001-20221015.csv   \n",
       "13  ./aem_raw/aemRaw_keyColumns_20221015-20221031.csv   \n",
       "14  ./aem_raw/aemRaw_keyColumns_20221101-20221115.csv   \n",
       "15  ./aem_raw/aemRaw_keyColumns_20221115-20221130.csv   \n",
       "\n",
       "                                           Clean_file  Original_rows  \\\n",
       "0   ./target_mcvisid/aemRaw_keyColumns_20220401-20...        5584815   \n",
       "1   ./target_mcvisid/aemRaw_keyColumns_20220415-20...        5235230   \n",
       "2   ./target_mcvisid/aemRaw_keyColumns_20220501-20...        5495277   \n",
       "3   ./target_mcvisid/aemRaw_keyColumns_20220515-20...        6413570   \n",
       "4   ./target_mcvisid/aemRaw_keyColumns_20220601-20...        5490207   \n",
       "5   ./target_mcvisid/aemRaw_keyColumns_20220615-20...        2997171   \n",
       "6   ./target_mcvisid/aemRaw_keyColumns_20220701-20...        4322589   \n",
       "7   ./target_mcvisid/aemRaw_keyColumns_20220715-20...        3680306   \n",
       "8   ./target_mcvisid/aemRaw_keyColumns_20220801-20...        4565584   \n",
       "9   ./target_mcvisid/aemRaw_keyColumns_20220815-20...        8746625   \n",
       "10  ./target_mcvisid/aemRaw_keyColumns_20220901-20...        7084004   \n",
       "11  ./target_mcvisid/aemRaw_keyColumns_20220915-20...        7222517   \n",
       "12  ./target_mcvisid/aemRaw_keyColumns_20221001-20...        6240070   \n",
       "13  ./target_mcvisid/aemRaw_keyColumns_20221015-20...        6988682   \n",
       "14  ./target_mcvisid/aemRaw_keyColumns_20221101-20...        7904562   \n",
       "15  ./target_mcvisid/aemRaw_keyColumns_20221115-20...        7898931   \n",
       "\n",
       "    Keep_rows  Keep_ratio  \n",
       "0     1503788    0.269264  \n",
       "1     1575891    0.301017  \n",
       "2     1976563    0.359684  \n",
       "3     2215833    0.345491  \n",
       "4     1949106    0.355015  \n",
       "5     1146943    0.382675  \n",
       "6     1537757    0.355749  \n",
       "7     1272473    0.345752  \n",
       "8     1550335    0.339570  \n",
       "9     2931668    0.335177  \n",
       "10    2379684    0.335924  \n",
       "11    2473647    0.342491  \n",
       "12    2168738    0.347550  \n",
       "13    2240542    0.320596  \n",
       "14    2594489    0.328227  \n",
       "15    2410443    0.305161  "
      ]
     },
     "execution_count": 25,
     "metadata": {},
     "output_type": "execute_result"
    }
   ],
   "source": [
    "info_list_df = pd.read_excel(\"export_info-20221207.xlsx\", index_col=0)\n",
    "# info_list_df.to_excel(\"export_info-20221207.xlsx\")\n",
    "info_list_df[\"Keep_ratio\"] = info_list_df[\"Keep_rows\"]/info_list_df[\"Original_rows\"]\n",
    "info_list_df"
   ]
  },
  {
   "cell_type": "code",
   "execution_count": 39,
   "id": "65bf4200",
   "metadata": {
    "ExecuteTime": {
     "end_time": "2022-12-07T21:44:36.648111Z",
     "start_time": "2022-12-07T21:44:36.614729Z"
    }
   },
   "outputs": [
    {
     "data": {
      "text/html": [
       "<div>\n",
       "<style scoped>\n",
       "    .dataframe tbody tr th:only-of-type {\n",
       "        vertical-align: middle;\n",
       "    }\n",
       "\n",
       "    .dataframe tbody tr th {\n",
       "        vertical-align: top;\n",
       "    }\n",
       "\n",
       "    .dataframe thead th {\n",
       "        text-align: right;\n",
       "    }\n",
       "</style>\n",
       "<table border=\"1\" class=\"dataframe\">\n",
       "  <thead>\n",
       "    <tr style=\"text-align: right;\">\n",
       "      <th></th>\n",
       "      <th>Original_rows</th>\n",
       "      <th>Keep_rows</th>\n",
       "      <th>Keep_ratio</th>\n",
       "    </tr>\n",
       "  </thead>\n",
       "  <tbody>\n",
       "    <tr>\n",
       "      <th>count</th>\n",
       "      <td>16.0</td>\n",
       "      <td>16.0</td>\n",
       "      <td>16.0</td>\n",
       "    </tr>\n",
       "    <tr>\n",
       "      <th>mean</th>\n",
       "      <td>5991883.75</td>\n",
       "      <td>1995493.75</td>\n",
       "      <td>0.335584</td>\n",
       "    </tr>\n",
       "    <tr>\n",
       "      <th>std</th>\n",
       "      <td>1616437.930158</td>\n",
       "      <td>515951.065445</td>\n",
       "      <td>0.026819</td>\n",
       "    </tr>\n",
       "    <tr>\n",
       "      <th>min</th>\n",
       "      <td>2997171.0</td>\n",
       "      <td>1146943.0</td>\n",
       "      <td>0.269264</td>\n",
       "    </tr>\n",
       "    <tr>\n",
       "      <th>25%</th>\n",
       "      <td>5067818.5</td>\n",
       "      <td>1547190.5</td>\n",
       "      <td>0.326319</td>\n",
       "    </tr>\n",
       "    <tr>\n",
       "      <th>50%</th>\n",
       "      <td>5912442.5</td>\n",
       "      <td>2072650.5</td>\n",
       "      <td>0.34103</td>\n",
       "    </tr>\n",
       "    <tr>\n",
       "      <th>75%</th>\n",
       "      <td>7118632.25</td>\n",
       "      <td>2387373.75</td>\n",
       "      <td>0.349416</td>\n",
       "    </tr>\n",
       "    <tr>\n",
       "      <th>max</th>\n",
       "      <td>8746625.0</td>\n",
       "      <td>2931668.0</td>\n",
       "      <td>0.382675</td>\n",
       "    </tr>\n",
       "  </tbody>\n",
       "</table>\n",
       "</div>"
      ],
      "text/plain": [
       "        Original_rows      Keep_rows Keep_ratio\n",
       "count            16.0           16.0       16.0\n",
       "mean       5991883.75     1995493.75   0.335584\n",
       "std    1616437.930158  515951.065445   0.026819\n",
       "min         2997171.0      1146943.0   0.269264\n",
       "25%         5067818.5      1547190.5   0.326319\n",
       "50%         5912442.5      2072650.5    0.34103\n",
       "75%        7118632.25     2387373.75   0.349416\n",
       "max         8746625.0      2931668.0   0.382675"
      ]
     },
     "execution_count": 39,
     "metadata": {},
     "output_type": "execute_result"
    }
   ],
   "source": [
    "info_list_df.describe().applymap(lambda x: str(round(x,6)))"
   ]
  },
  {
   "cell_type": "markdown",
   "id": "47a8d538",
   "metadata": {},
   "source": [
    "#### load partial from local"
   ]
  },
  {
   "cell_type": "code",
   "execution_count": 43,
   "id": "b1d6b933",
   "metadata": {
    "ExecuteTime": {
     "end_time": "2022-12-07T21:49:32.450884Z",
     "start_time": "2022-12-07T21:45:41.502320Z"
    }
   },
   "outputs": [
    {
     "name": "stdout",
     "output_type": "stream",
     "text": [
      "current rows:  1503788\n",
      "current rows:  3079679\n",
      "current rows:  5056242\n",
      "current rows:  7272075\n"
     ]
    },
    {
     "name": "stderr",
     "output_type": "stream",
     "text": [
      "/Users/wy/opt/anaconda3/lib/python3.9/site-packages/IPython/core/interactiveshell.py:3444: DtypeWarning: Columns (10,11,12,13,22,24) have mixed types.Specify dtype option on import or set low_memory=False.\n",
      "  exec(code_obj, self.user_global_ns, self.user_ns)\n"
     ]
    },
    {
     "name": "stdout",
     "output_type": "stream",
     "text": [
      "current rows:  9221181\n"
     ]
    },
    {
     "name": "stderr",
     "output_type": "stream",
     "text": [
      "/Users/wy/opt/anaconda3/lib/python3.9/site-packages/IPython/core/interactiveshell.py:3444: DtypeWarning: Columns (22,24) have mixed types.Specify dtype option on import or set low_memory=False.\n",
      "  exec(code_obj, self.user_global_ns, self.user_ns)\n"
     ]
    },
    {
     "name": "stdout",
     "output_type": "stream",
     "text": [
      "current rows:  10368124\n",
      "current rows:  11905881\n",
      "current rows:  13178354\n",
      "current rows:  14728689\n",
      "current rows:  17660357\n",
      "current rows:  20040041\n",
      "current rows:  22513688\n",
      "current rows:  24682426\n",
      "current rows:  26922968\n",
      "current rows:  29517457\n",
      "current rows:  31927900\n"
     ]
    }
   ],
   "source": [
    "stored_files = sorted([file for file in glob(\"./target_mcvisid/*.csv\") if \"aemRaw_keyColumns_2022\" in file])\n",
    "df = pd.DataFrame()\n",
    "for file in stored_files:\n",
    "    current = pd.read_csv(file)\n",
    "    df = pd.concat([df, current])\n",
    "    print(\"current rows: \", df.shape[0])"
   ]
  },
  {
   "cell_type": "code",
   "execution_count": 45,
   "id": "e2344ea8",
   "metadata": {
    "ExecuteTime": {
     "end_time": "2022-12-07T21:49:44.391449Z",
     "start_time": "2022-12-07T21:49:44.382631Z"
    }
   },
   "outputs": [],
   "source": [
    "aem_raw = df"
   ]
  },
  {
   "cell_type": "markdown",
   "id": "ea2b1dbb",
   "metadata": {},
   "source": [
    "#### parsing"
   ]
  },
  {
   "cell_type": "code",
   "execution_count": 130,
   "id": "9f67af70",
   "metadata": {
    "ExecuteTime": {
     "end_time": "2022-12-07T22:28:00.787761Z",
     "start_time": "2022-12-07T22:27:58.000749Z"
    }
   },
   "outputs": [
    {
     "name": "stdout",
     "output_type": "stream",
     "text": [
      "stage1_raw: unique SessionVisitorId:  (624,)\n",
      "stage2_raw: unique mcvisid:  (460,)\n"
     ]
    }
   ],
   "source": [
    "stage1_raw = aem_raw.dropna(subset=[\"BingeScoredAssetPath\"]).reset_index(drop=True)\n",
    "# stage1_raw = stage1_raw.drop_duplicates(subset=[\"DateTime_UTC\", \"EloquaContactId\", \"SessionVisitorId\", \"BingeScoredAssetPath\"], keep='last') \n",
    "\n",
    "stage2_raw = aem_raw.dropna(subset=[\"BingeScoredAssetPath\"]).reset_index(drop=True)\n",
    "# stage2_raw = stage2_raw.drop_duplicates(subset=[\"DateTime_UTC\", \"SessionVisitorId\", \"BingeScoredAssetPath\"], keep='last')\n",
    "stage2_raw = email_cleanup(stage2_raw, \"EmailAddress\")\n",
    "print(\"stage1_raw: unique SessionVisitorId: \", stage1_raw[\"SessionVisitorId\"].unique().shape)\n",
    "print(\"stage2_raw: unique mcvisid: \", stage2_raw[\"mcvisid\"].unique().shape)"
   ]
  },
  {
   "cell_type": "markdown",
   "id": "e62de733",
   "metadata": {},
   "source": [
    "### crm Lead\n",
    "- unique EloquaContactId -> do some update on this table for the same ID"
   ]
  },
  {
   "cell_type": "code",
   "execution_count": 47,
   "id": "e9b3212a",
   "metadata": {
    "ExecuteTime": {
     "end_time": "2022-12-07T21:50:36.025383Z",
     "start_time": "2022-12-07T21:50:27.336899Z"
    },
    "scrolled": true
   },
   "outputs": [
    {
     "name": "stderr",
     "output_type": "stream",
     "text": [
      "/Users/wy/opt/anaconda3/lib/python3.9/site-packages/IPython/core/interactiveshell.py:3444: DtypeWarning: Columns (8,9,13,15,17,31,43,44,45,46,49,50,51,56,58,59,63,64,68,70,72,74,76,78,81,83,84,85,89,92,94,97,99,109,112,113,114,115,117,124,135,136,137,138,140,142,143,144,145,157,159,164,165,166,167,178,182,185,188,198,200,204,207,208,216,217,219,223,224,229,230,232,238,240,246,247,252,253,256,257,258,261,262,266,267,268,272,274,275,284,286,287,289,293,294,307,311,313) have mixed types.Specify dtype option on import or set low_memory=False.\n",
      "  exec(code_obj, self.user_global_ns, self.user_ns)\n",
      "/Users/wy/opt/anaconda3/lib/python3.9/site-packages/pandas/core/indexing.py:1773: SettingWithCopyWarning: \n",
      "A value is trying to be set on a copy of a slice from a DataFrame.\n",
      "Try using .loc[row_indexer,col_indexer] = value instead\n",
      "\n",
      "See the caveats in the documentation: https://pandas.pydata.org/pandas-docs/stable/user_guide/indexing.html#returning-a-view-versus-a-copy\n",
      "  self._setitem_single_column(ilocs[0], value, pi)\n"
     ]
    }
   ],
   "source": [
    "_lead = pd.read_csv(\"crm_Lead_20221116_all.csv\", index_col=0)\n",
    "crm_lead = email_cleanup(_lead, \"emailaddress1\")"
   ]
  },
  {
   "cell_type": "markdown",
   "id": "78190f3d",
   "metadata": {},
   "source": [
    "### elo.contact\n",
    "- from gated content form?\n",
    "- unique EloquaContactId -> do some update on this table for the same ID"
   ]
  },
  {
   "cell_type": "code",
   "execution_count": 454,
   "id": "9d0a9f44",
   "metadata": {
    "ExecuteTime": {
     "end_time": "2022-12-08T14:53:03.234723Z",
     "start_time": "2022-12-08T14:52:54.785883Z"
    }
   },
   "outputs": [
    {
     "name": "stderr",
     "output_type": "stream",
     "text": [
      "/Users/wy/opt/anaconda3/lib/python3.9/site-packages/IPython/core/interactiveshell.py:3444: DtypeWarning: Columns (0,1,2,3,4,5,6,7,8,9,10,11,12,13,14,15,16,17,18,19,20,22,23,24,25,26,27,28,29,30,31,32,33,34,35,36,37,38,39,40,41,42,43,44,45,48,49,50,51,52,54,55,56,57,58,59,60,61,62,63,64,65,66,67,68,69,70,71,72,73,74,75,76,77,78,79,80,84) have mixed types.Specify dtype option on import or set low_memory=False.\n",
      "  exec(code_obj, self.user_global_ns, self.user_ns)\n"
     ]
    }
   ],
   "source": [
    "_elq = pd.read_csv(\"all_elo_data_TOP1000000_2022-10-16.csv\", nrows=1000000, index_col=0)\n",
    "# _elq = pd.read_csv(\"elq_all_bridge-only.csv\", index_col=0)\n",
    "# elq = email_cleanup(_elq, \"EmailAddress\")\n",
    "# elq_bridge = elq[[\"EmailAddress\", \"EloquaContactId\"]]\n"
   ]
  },
  {
   "cell_type": "code",
   "execution_count": 6,
   "id": "72855bbb",
   "metadata": {
    "ExecuteTime": {
     "end_time": "2022-12-07T21:25:28.719977Z",
     "start_time": "2022-12-07T21:25:28.717086Z"
    }
   },
   "outputs": [],
   "source": [
    "# elq_bridge.groupby(\"EmailAddress\").size().sort_values()"
   ]
  },
  {
   "cell_type": "markdown",
   "id": "96e05250",
   "metadata": {
    "ExecuteTime": {
     "end_time": "2022-11-21T23:47:01.992984Z",
     "start_time": "2022-11-21T23:47:01.982016Z"
    }
   },
   "source": [
    "# Ideas\n",
    "- business targets\n",
    "    1. attractness: provide more interesting content for users\n",
    "        - ranking content + recommendation based\n",
    "    2. engagement: reach out and prioritize on target users\n",
    "        - identify potential lead, find patterns and build segmentations between users based on their upload informaton\n",
    "            - website visiting records -> AEM.raw? <font color=red>need specialized and ingested related data...</font>\n",
    "            - interactions with sales people -> CRM.Lead? <font color=red>need clean, maintain and more explaination on the existing data... </font>\n",
    "            - their demographic information -> CRM.Lead / Elq.Contact (this is quite clean)\n",
    "    3. conversion: sales people effort?\n",
    "    4. retain: ...\n",
    "\n",
    "- questions\n",
    "    - `Next steps: use data that is going into content scoring to predict user propensity`\n",
    "    - how this weight score can help next step for potential lead prediction?\n",
    "        - treat it as an feature to another model? the distance between sample is more important. It should be separatable.\n",
    "        - two-stage model? or just change labels\n",
    "        \n",
    "- reference:\n",
    "    - e.g. in recommendation system\n",
    "    - <img src=\"https://assets.zilliz.com/2_29e27eb9b1.png\" width=\"400\"/>\n",
    "    - <img src=\"https://cdn-images-1.medium.com/max/800/0*U5iR5NTSChuSOcyc.\" width=\"400\"/>"
   ]
  },
  {
   "cell_type": "markdown",
   "id": "a8891988",
   "metadata": {},
   "source": [
    "### funnel\n",
    "\n",
    "<div>\n",
    "    <img src=\"https://www.wordstream.com/wp-content/uploads/2022/08/content-marketing-funnel-full-size.png\" width=\"500\"/>\n",
    "</div>\n",
    "    "
   ]
  },
  {
   "cell_type": "markdown",
   "id": "72f8ee4c",
   "metadata": {
    "ExecuteTime": {
     "end_time": "2022-12-01T19:52:24.373754Z",
     "start_time": "2022-12-01T19:52:24.363288Z"
    }
   },
   "source": [
    "# Feature Engineering\n"
   ]
  },
  {
   "cell_type": "markdown",
   "id": "73fe9c01",
   "metadata": {},
   "source": [
    "## Preprocessing - TF-IDF (NLP)\n",
    "\n",
    "- TF-IDF = Term Frequency (TF) * Inverse Document Frequency (IDF)\n",
    "    - idf(t) = log(N/(df + 1))\n",
    "        <img src=\"https://cdn-media-1.freecodecamp.org/images/1*q3qYevXqQOjJf6Pwdlx8Mw.png\" width=\"500\"/>\n",
    "        <img src=\"https://preview.redd.it/clwuxvtqpeq91.png?width=397&format=png&auto=webp&s=ae6788cefae9b83b3033db3612ec83e8f5ded24f\" width=\"500\"/>\n",
    "    - rather directly using count frequency in the naive bayesian, using TF-IDF to adjust the features\n",
    "    \n",
    "- preprocessing.StandardScaler()\n",
    "    - should not use because the features importance are dependent on the frequency, which is already kind of information"
   ]
  },
  {
   "cell_type": "markdown",
   "id": "b68f4dbd",
   "metadata": {},
   "source": [
    "## stage1: wrapping data\n",
    "- label: Submitted gated form (target)\n",
    "    - generated by EventList\n",
    "- features:\n",
    "    - choosed:\n",
    "        - BingeScoredAssetPath: Current BingeScoredAssetPath interaction on one session ( content sequence )\n",
    "        - DateTime_UTC -> for concat sequence in visited order\n",
    "    - possible:\n",
    "        - BingeScoredAssetScore = manually set -> importance level for sales people\n",
    "        - BingeCriticalScore = manually threshold -> initial threshold for sales people\n",
    "        - PageURL? what information this URL can bring into model?\n",
    "        \n",
    "- original asset score manual setup ideas:\n",
    "    - asset weight average is 1, if it is more important/meaningful -> bump up to 2;\n",
    "    - if there are 5 assets in total, then default basic threshold is 5"
   ]
  },
  {
   "cell_type": "markdown",
   "id": "1b6b05af",
   "metadata": {},
   "source": [
    "## stage2: wrapping data\n",
    "- label: is qualified lead or not (target)\n",
    "    - stored on CRM Lead table, marked by sales people\n",
    "- features: all the activities during the journey -> including asset browsing history \n",
    "    - choosed:\n",
    "        - BingeScoredAssetPath: Current BingeScoredAssetPath interaction on one session ( content sequence )\n",
    "        - DateTime_UTC -> for concat sequence in visited order\n",
    "    - possible:\n",
    "        - User information <font color=red>(this part are useful)</font>\n",
    "            - industry\n",
    "            - company size \n",
    "            - ..."
   ]
  },
  {
   "cell_type": "code",
   "execution_count": 57,
   "id": "2e6e752d",
   "metadata": {
    "ExecuteTime": {
     "end_time": "2022-12-07T21:54:46.328562Z",
     "start_time": "2022-12-07T21:54:46.307395Z"
    }
   },
   "outputs": [],
   "source": [
    "SEP_TOKEN_PATTERN = \"[^\\$]+\"\n",
    "SEED = 42\n",
    "TEST_SIZE = 0.2"
   ]
  },
  {
   "cell_type": "markdown",
   "id": "7de72f6b",
   "metadata": {},
   "source": [
    "# Modeling\n",
    "\n"
   ]
  },
  {
   "cell_type": "markdown",
   "id": "571b4581",
   "metadata": {},
   "source": [
    "## Stage-1: Scoring content - visitor preference \n",
    "- rethink:\n",
    "    - what is the most attractive content for visitor v.s. what is the most attractive content for salespeople?\n",
    "        - SubmitGatedForm action is not marked by sales people, it's kind of inclination level from user side\n",
    "        - the model is trying to know which asset is more important for SubmitGatedForm \n",
    "        - how important for user to submit GCDC\n",
    "\n",
    "    - weight should be from sales people definition, but current method can only get the attractive score on visitor aspect => \n",
    "        - assumption-1: more clicks => interesting to connect? <font color=red>submit GCDC == made a reach out decision? YES?</font>\n",
    "        - they will think the information are valuable for them, want to get more related information -> salespeople reach out? When is the time = threshold?"
   ]
  },
  {
   "cell_type": "code",
   "execution_count": 58,
   "id": "bf7de2ad",
   "metadata": {
    "ExecuteTime": {
     "end_time": "2022-12-07T21:54:50.366850Z",
     "start_time": "2022-12-07T21:54:50.054118Z"
    }
   },
   "outputs": [],
   "source": [
    "data = stage1_raw.groupby(\"SessionVisitorId\").apply(lambda x: preprocessing_stage(x))"
   ]
  },
  {
   "cell_type": "markdown",
   "id": "de640e58",
   "metadata": {},
   "source": [
    "### Data split + TFIDF\n",
    "<!-- \n",
    "# ## outdated\n",
    "# data = stage1_raw.groupby(\"SessionVisitorId\").apply(lambda x: processing_stage1(x, target_method=1, feature_method=\"bow\"))\n",
    "# data[\"submitted_form\"].value_counts()\n",
    "\n",
    "# def tfidf_transform(dtm, idf=None):\n",
    "#     N = dtm.shape[0] # number of document\n",
    "#     tf = (dtm/(dtm.sum(axis=1).reshape(-1,1)))\n",
    "\n",
    "#     if idf is None:\n",
    "#         idf = np.log(1 + N/(dtm.astype(bool).sum(axis=0)))\n",
    "        \n",
    "#     tfidf = tf * idf\n",
    "#     return tfidf, idf\n",
    "# v = DictVectorizer(sparse=False)\n",
    "# X_train_dtm = v.fit_transform(X_train)\n",
    "# X_test_dtm = v.transform(X_test)\n",
    "# X_train_arr, idf = tfidf_transform(X_train_dtm)\n",
    "# X_test_arr, _ = tfidf_transform(X_test_dtm, idf) -->"
   ]
  },
  {
   "cell_type": "code",
   "execution_count": 60,
   "id": "dccfbe05",
   "metadata": {
    "ExecuteTime": {
     "end_time": "2022-12-07T21:55:00.408860Z",
     "start_time": "2022-12-07T21:55:00.362715Z"
    }
   },
   "outputs": [
    {
     "name": "stdout",
     "output_type": "stream",
     "text": [
      "training sample label size: Counter({1: 304, 0: 195})\n",
      "pos vs neg in training set:\n",
      "1    380\n",
      "0    244\n",
      "Name: label, dtype: int64\n",
      "testing sample label size: Counter({1: 76, 0: 49})\n"
     ]
    }
   ],
   "source": [
    "X_train, X_test, y_train, y_test = train_test_split(data[\"features\"], data[\"label\"].values, test_size=TEST_SIZE, stratify=data[\"label\"].values, random_state=SEED)\n",
    "\n",
    "print(\"training sample label size:\", Counter(y_train))\n",
    "print(\"pos vs neg in training set:\")\n",
    "print(data[\"label\"].value_counts())\n",
    "print(\"testing sample label size:\", Counter(y_test))\n",
    "\n",
    "vectorizer = TfidfVectorizer(token_pattern=SEP_TOKEN_PATTERN)\n",
    "\n",
    "X_train_arr = vectorizer.fit_transform(X_train)\n",
    "X_test_arr = vectorizer.transform(X_test)"
   ]
  },
  {
   "cell_type": "markdown",
   "id": "0ebf5676",
   "metadata": {},
   "source": [
    "### Models"
   ]
  },
  {
   "cell_type": "markdown",
   "id": "844852d5",
   "metadata": {},
   "source": [
    "#### LR"
   ]
  },
  {
   "cell_type": "code",
   "execution_count": 61,
   "id": "93e33028",
   "metadata": {
    "ExecuteTime": {
     "end_time": "2022-12-07T21:55:01.405277Z",
     "start_time": "2022-12-07T21:55:01.369410Z"
    }
   },
   "outputs": [
    {
     "data": {
      "text/plain": [
       "LogisticRegression()"
      ]
     },
     "execution_count": 61,
     "metadata": {},
     "output_type": "execute_result"
    }
   ],
   "source": [
    "model = LogisticRegression()\n",
    "model.fit(X_train_arr, y_train)\n",
    "# model.coef_"
   ]
  },
  {
   "cell_type": "markdown",
   "id": "be5dd6b0",
   "metadata": {},
   "source": [
    "#### svm (x)\n",
    "- no weight but only predict prob "
   ]
  },
  {
   "cell_type": "code",
   "execution_count": 62,
   "id": "04e33c66",
   "metadata": {
    "ExecuteTime": {
     "end_time": "2022-12-07T21:55:02.088038Z",
     "start_time": "2022-12-07T21:55:01.907529Z"
    }
   },
   "outputs": [
    {
     "name": "stdout",
     "output_type": "stream",
     "text": [
      "              precision    recall  f1-score   support\n",
      "\n",
      "           0       0.52      0.45      0.48        49\n",
      "           1       0.67      0.74      0.70        76\n",
      "\n",
      "    accuracy                           0.62       125\n",
      "   macro avg       0.60      0.59      0.59       125\n",
      "weighted avg       0.62      0.62      0.62       125\n",
      "\n"
     ]
    },
    {
     "data": {
      "image/png": "[encoded data removed]",
      "text/plain": [
       "<Figure size 432x288 with 2 Axes>"
      ]
     },
     "metadata": {
      "needs_background": "light"
     },
     "output_type": "display_data"
    },
    {
     "name": "stdout",
     "output_type": "stream",
     "text": [
      "AUC: 59.29%, PRC: 78.58%\n"
     ]
    }
   ],
   "source": [
    "svm_clf = svm.SVC(kernel='linear', C=1)\n",
    "svm_clf.fit(X_train_arr, y_train)\n",
    "y_pred = svm_clf.predict(X_test_arr)\n",
    "evaluate_metrics(y_test, y_pred, show_plots = True)"
   ]
  },
  {
   "cell_type": "markdown",
   "id": "f59ab946",
   "metadata": {},
   "source": [
    "#### naive bayes\n",
    "- $\\theta_{yi}$ is the probability $P(x_i \\mid y)$ of feature i appearing in a sample belonging to class y."
   ]
  },
  {
   "cell_type": "code",
   "execution_count": 63,
   "id": "4efd0d6c",
   "metadata": {
    "ExecuteTime": {
     "end_time": "2022-12-07T21:55:02.635547Z",
     "start_time": "2022-12-07T21:55:02.475841Z"
    }
   },
   "outputs": [
    {
     "name": "stdout",
     "output_type": "stream",
     "text": [
      "              precision    recall  f1-score   support\n",
      "\n",
      "           0       0.52      0.49      0.51        49\n",
      "           1       0.68      0.71      0.70        76\n",
      "\n",
      "    accuracy                           0.62       125\n",
      "   macro avg       0.60      0.60      0.60       125\n",
      "weighted avg       0.62      0.62      0.62       125\n",
      "\n"
     ]
    },
    {
     "data": {
      "image/png": "[encoded data removed]",
      "text/plain": [
       "<Figure size 432x288 with 2 Axes>"
      ]
     },
     "metadata": {
      "needs_background": "light"
     },
     "output_type": "display_data"
    },
    {
     "name": "stdout",
     "output_type": "stream",
     "text": [
      "AUC: 64.14%, PRC: 76.56%\n"
     ]
    }
   ],
   "source": [
    "clf = MultinomialNB().fit(X_train_arr, y_train)\n",
    "asset_prob = np.exp(clf.feature_log_prob_[0])\n",
    "# clf.feature_log_prob_[0]\n",
    "y_pred = (clf.predict_proba(X_test_arr))[:, 1]\n",
    "evaluate_metrics(y_test, y_pred, show_plots = True)"
   ]
  },
  {
   "cell_type": "markdown",
   "id": "a8e7c9b3",
   "metadata": {},
   "source": [
    "### <font color=red>cross validation</font>\n",
    "<img src=\"https://scikit-learn.org/stable/_images/grid_search_cross_validation.png\" width=\"500\"/>"
   ]
  },
  {
   "cell_type": "code",
   "execution_count": 64,
   "id": "259d3d5b",
   "metadata": {
    "ExecuteTime": {
     "end_time": "2022-12-07T21:55:06.708871Z",
     "start_time": "2022-12-07T21:55:06.686598Z"
    }
   },
   "outputs": [
    {
     "name": "stdout",
     "output_type": "stream",
     "text": [
      "0.63 accuracy with a standard deviation of 0.04\n"
     ]
    }
   ],
   "source": [
    "scores = cross_validate(clf, X_train_arr, y_train, cv=5)\n",
    "print(\"%0.2f accuracy with a standard deviation of %0.2f\" % (scores[\"test_score\"].mean(), scores[\"test_score\"].std()))"
   ]
  },
  {
   "cell_type": "markdown",
   "id": "83e5af7e",
   "metadata": {},
   "source": [
    "### Assign Weight (kind of user preference)\n",
    "- conditional prob"
   ]
  },
  {
   "cell_type": "code",
   "execution_count": 65,
   "id": "c0fdaca2",
   "metadata": {
    "ExecuteTime": {
     "end_time": "2022-12-07T21:55:08.377827Z",
     "start_time": "2022-12-07T21:55:08.369269Z"
    }
   },
   "outputs": [],
   "source": [
    "# log p(w|c=1) + log p(w|c=0)\n",
    "asset_prob = np.exp(clf.feature_log_prob_[0])"
   ]
  },
  {
   "cell_type": "code",
   "execution_count": 66,
   "id": "16b12430",
   "metadata": {
    "ExecuteTime": {
     "end_time": "2022-12-07T21:55:09.004033Z",
     "start_time": "2022-12-07T21:55:08.978384Z"
    }
   },
   "outputs": [
    {
     "data": {
      "text/html": [
       "<style type=\"text/css\">\n",
       "</style>\n",
       "<table id=\"T_4e092_\">\n",
       "  <thead>\n",
       "    <tr>\n",
       "      <th class=\"blank level0\" >&nbsp;</th>\n",
       "      <th class=\"col_heading level0 col0\" >asset</th>\n",
       "      <th class=\"col_heading level0 col1\" >weight</th>\n",
       "    </tr>\n",
       "  </thead>\n",
       "  <tbody>\n",
       "    <tr>\n",
       "      <th id=\"T_4e092_level0_row0\" class=\"row_heading level0 row0\" >8</th>\n",
       "      <td id=\"T_4e092_row0_col0\" class=\"data row0 col0\" >/content/dam/rockwell-automation/sites/downloads/pdf/getting started in iab.pdf</td>\n",
       "      <td id=\"T_4e092_row0_col1\" class=\"data row0 col1\" >0.258224</td>\n",
       "    </tr>\n",
       "    <tr>\n",
       "      <th id=\"T_4e092_level0_row1\" class=\"row_heading level0 row1\" >32</th>\n",
       "      <td id=\"T_4e092_row1_col0\" class=\"data row1 col0\" >/content/dam/rockwell-automation/videos/events/af-2022/on-demand/new-and-next-at-rockwell-automation/new-and-next-at-rockwell-automation-en.mp4</td>\n",
       "      <td id=\"T_4e092_row1_col1\" class=\"data row1 col1\" >0.115254</td>\n",
       "    </tr>\n",
       "    <tr>\n",
       "      <th id=\"T_4e092_level0_row2\" class=\"row_heading level0 row2\" >9</th>\n",
       "      <td id=\"T_4e092_row2_col0\" class=\"data row2 col0\" >/content/dam/rockwell-automation/sites/downloads/pdf/project design assistant.pdf</td>\n",
       "      <td id=\"T_4e092_row2_col1\" class=\"data row2 col1\" >0.108881</td>\n",
       "    </tr>\n",
       "    <tr>\n",
       "      <th id=\"T_4e092_level0_row3\" class=\"row_heading level0 row3\" >7</th>\n",
       "      <td id=\"T_4e092_row3_col0\" class=\"data row3 col0\" >/content/dam/rockwell-automation/sites/downloads/pdf/generating a report.pdf</td>\n",
       "      <td id=\"T_4e092_row3_col1\" class=\"data row3 col1\" >0.081843</td>\n",
       "    </tr>\n",
       "    <tr>\n",
       "      <th id=\"T_4e092_level0_row4\" class=\"row_heading level0 row4\" >10</th>\n",
       "      <td id=\"T_4e092_row4_col0\" class=\"data row4 col0\" >/content/dam/rockwell-automation/sites/downloads/pdf/using the architecture view.pdf</td>\n",
       "      <td id=\"T_4e092_row4_col1\" class=\"data row4 col1\" >0.056549</td>\n",
       "    </tr>\n",
       "    <tr>\n",
       "      <th id=\"T_4e092_level0_row5\" class=\"row_heading level0 row5\" >5</th>\n",
       "      <td id=\"T_4e092_row5_col0\" class=\"data row5 col0\" >/content/dam/rockwell-automation/sites/downloads/pdf/auto-sp010_-en-p.pdf</td>\n",
       "      <td id=\"T_4e092_row5_col1\" class=\"data row5 col1\" >0.038023</td>\n",
       "    </tr>\n",
       "    <tr>\n",
       "      <th id=\"T_4e092_level0_row6\" class=\"row_heading level0 row6\" >6</th>\n",
       "      <td id=\"T_4e092_row6_col0\" class=\"data row6 col0\" >/content/dam/rockwell-automation/sites/downloads/pdf/export a bom to proposalworks.pdf</td>\n",
       "      <td id=\"T_4e092_row6_col1\" class=\"data row6 col1\" >0.037494</td>\n",
       "    </tr>\n",
       "    <tr>\n",
       "      <th id=\"T_4e092_level0_row7\" class=\"row_heading level0 row7\" >3</th>\n",
       "      <td id=\"T_4e092_row7_col0\" class=\"data row7 col0\" >/content/dam/rockwell-automation/sites/downloads/pdf/applying pricing to bom.pdf</td>\n",
       "      <td id=\"T_4e092_row7_col1\" class=\"data row7 col1\" >0.024686</td>\n",
       "    </tr>\n",
       "    <tr>\n",
       "      <th id=\"T_4e092_level0_row8\" class=\"row_heading level0 row8\" >43</th>\n",
       "      <td id=\"T_4e092_row8_col0\" class=\"data row8 col0\" >/content/dam/rockwell-automation/videos/products/software/factorytalk/factorytalk-optix-visualization-platform-introduction/factorytalk-optix-visualization-platform-introduction-en.mp4</td>\n",
       "      <td id=\"T_4e092_row8_col1\" class=\"data row8 col1\" >0.017014</td>\n",
       "    </tr>\n",
       "    <tr>\n",
       "      <th id=\"T_4e092_level0_row9\" class=\"row_heading level0 row9\" >13</th>\n",
       "      <td id=\"T_4e092_row9_col0\" class=\"data row9 col0\" >/content/dam/rockwell-automation/videos/capabilities/cybersecurity/cybersecurity-watch-a-hack-in-real-time/cybersecurity-hack-in-real-time-en.mp4</td>\n",
       "      <td id=\"T_4e092_row9_col1\" class=\"data row9 col1\" >0.015086</td>\n",
       "    </tr>\n",
       "    <tr>\n",
       "      <th id=\"T_4e092_level0_row10\" class=\"row_heading level0 row10\" >37</th>\n",
       "      <td id=\"T_4e092_row10_col0\" class=\"data row10 col0\" >/content/dam/rockwell-automation/videos/industry/water-wastewater/using-artificial-intelligence-for-sustainability/using-artificial-intelligence-for-sustainability-en.mp4</td>\n",
       "      <td id=\"T_4e092_row10_col1\" class=\"data row10 col1\" >0.011851</td>\n",
       "    </tr>\n",
       "    <tr>\n",
       "      <th id=\"T_4e092_level0_row11\" class=\"row_heading level0 row11\" >18</th>\n",
       "      <td id=\"T_4e092_row11_col0\" class=\"data row11 col0\" >/content/dam/rockwell-automation/videos/capabilities/industrial-automation-and-control/micro-control-integrated-automation-solution/micro-control-integrated-automation-solution-en.mp4</td>\n",
       "      <td id=\"T_4e092_row11_col1\" class=\"data row11 col1\" >0.011851</td>\n",
       "    </tr>\n",
       "    <tr>\n",
       "      <th id=\"T_4e092_level0_row12\" class=\"row_heading level0 row12\" >4</th>\n",
       "      <td id=\"T_4e092_row12_col0\" class=\"data row12 col0\" >/content/dam/rockwell-automation/sites/downloads/pdf/auto-ar001_-en-p.pdf</td>\n",
       "      <td id=\"T_4e092_row12_col1\" class=\"data row12 col1\" >0.011851</td>\n",
       "    </tr>\n",
       "    <tr>\n",
       "      <th id=\"T_4e092_level0_row13\" class=\"row_heading level0 row13\" >49</th>\n",
       "      <td id=\"T_4e092_row13_col0\" class=\"data row13 col0\" >/content/rockwell-automation/www/na/us/en_us/company/news/case-studies/hirata-emulation-software.html</td>\n",
       "      <td id=\"T_4e092_row13_col1\" class=\"data row13 col1\" >0.010981</td>\n",
       "    </tr>\n",
       "    <tr>\n",
       "      <th id=\"T_4e092_level0_row14\" class=\"row_heading level0 row14\" >42</th>\n",
       "      <td id=\"T_4e092_row14_col0\" class=\"data row14 col0\" >/content/dam/rockwell-automation/videos/products/software/factorytalk/factorytalk-design-studio-cloud-increase-design-efficiency/factorytalk-design-studio-cloud-increase-design-efficiency-en.mp4</td>\n",
       "      <td id=\"T_4e092_row14_col1\" class=\"data row14 col1\" >0.010270</td>\n",
       "    </tr>\n",
       "    <tr>\n",
       "      <th id=\"T_4e092_level0_row15\" class=\"row_heading level0 row15\" >51</th>\n",
       "      <td id=\"T_4e092_row15_col0\" class=\"data row15 col0\" >/content/rockwell-automation/www/na/us/en_us/company/news/presentations/electric-vehicle-innovation-center.html</td>\n",
       "      <td id=\"T_4e092_row15_col1\" class=\"data row15 col1\" >0.009681</td>\n",
       "    </tr>\n",
       "    <tr>\n",
       "      <th id=\"T_4e092_level0_row16\" class=\"row_heading level0 row16\" >50</th>\n",
       "      <td id=\"T_4e092_row16_col0\" class=\"data row16 col0\" >/content/rockwell-automation/www/na/us/en_us/company/news/case-studies/maximum-transparency-across-all-levels-at-samsung-sdi-battery-sy.html</td>\n",
       "      <td id=\"T_4e092_row16_col1\" class=\"data row16 col1\" >0.008478</td>\n",
       "    </tr>\n",
       "    <tr>\n",
       "      <th id=\"T_4e092_level0_row17\" class=\"row_heading level0 row17\" >29</th>\n",
       "      <td id=\"T_4e092_row17_col0\" class=\"data row17 col0\" >/content/dam/rockwell-automation/videos/capabilities/smart-manufacturing/smart-devices-the-eyes-and-ears-of-your-smart-machine/smart-devices-the-eyes-and-ears-of-your-smart-machine-en.mp4</td>\n",
       "      <td id=\"T_4e092_row17_col1\" class=\"data row17 col1\" >0.007901</td>\n",
       "    </tr>\n",
       "    <tr>\n",
       "      <th id=\"T_4e092_level0_row18\" class=\"row_heading level0 row18\" >31</th>\n",
       "      <td id=\"T_4e092_row18_col0\" class=\"data row18 col0\" >/content/dam/rockwell-automation/videos/events/af-2022/on-demand/andyrobots-welcomes-automation-fair-attendees/andyrobots-welcomes-automation-fair-attendees-en.mp4</td>\n",
       "      <td id=\"T_4e092_row18_col1\" class=\"data row18 col1\" >0.007901</td>\n",
       "    </tr>\n",
       "    <tr>\n",
       "      <th id=\"T_4e092_level0_row19\" class=\"row_heading level0 row19\" >27</th>\n",
       "      <td id=\"T_4e092_row19_col0\" class=\"data row19 col0\" >/content/dam/rockwell-automation/videos/capabilities/process-solutions/plantpax-system-now-and-in-the-future/plantpax-system-now-and-in-the-future-en.mp4</td>\n",
       "      <td id=\"T_4e092_row19_col1\" class=\"data row19 col1\" >0.007901</td>\n",
       "    </tr>\n",
       "    <tr>\n",
       "      <th id=\"T_4e092_level0_row20\" class=\"row_heading level0 row20\" >38</th>\n",
       "      <td id=\"T_4e092_row20_col0\" class=\"data row20 col0\" >/content/dam/rockwell-automation/videos/products/hardware/industrial-computers-monitors/asem-6300-overview/asem-6300-overview.mp4</td>\n",
       "      <td id=\"T_4e092_row20_col1\" class=\"data row20 col1\" >0.007901</td>\n",
       "    </tr>\n",
       "    <tr>\n",
       "      <th id=\"T_4e092_level0_row21\" class=\"row_heading level0 row21\" >33</th>\n",
       "      <td id=\"T_4e092_row21_col0\" class=\"data row21 col0\" >/content/dam/rockwell-automation/videos/industry/automotive/powering-the-automotive-revolution/powering-the-automotive-revolution-en.mp4</td>\n",
       "      <td id=\"T_4e092_row21_col1\" class=\"data row21 col1\" >0.007901</td>\n",
       "    </tr>\n",
       "    <tr>\n",
       "      <th id=\"T_4e092_level0_row22\" class=\"row_heading level0 row22\" >46</th>\n",
       "      <td id=\"T_4e092_row22_col0\" class=\"data row22 col0\" >/content/dam/rockwell-automation/videos/products/software/factorytalk/using-maintenance-software-to-optimize-asset-performance/using-maintenance-software-to-optimize-asset-performance-en.mp4</td>\n",
       "      <td id=\"T_4e092_row22_col1\" class=\"data row22 col1\" >0.007901</td>\n",
       "    </tr>\n",
       "    <tr>\n",
       "      <th id=\"T_4e092_level0_row23\" class=\"row_heading level0 row23\" >12</th>\n",
       "      <td id=\"T_4e092_row23_col0\" class=\"data row23 col0\" >/content/dam/rockwell-automation/videos/capabilities/cybersecurity/cip-security-improve-your-control-system-defense-in-depth-strategy/cip-security-improve-your-control-system-defense-in-depth-strategy-en.mp4</td>\n",
       "      <td id=\"T_4e092_row23_col1\" class=\"data row23 col1\" >0.007901</td>\n",
       "    </tr>\n",
       "    <tr>\n",
       "      <th id=\"T_4e092_level0_row24\" class=\"row_heading level0 row24\" >17</th>\n",
       "      <td id=\"T_4e092_row24_col0\" class=\"data row24 col0\" >/content/dam/rockwell-automation/videos/capabilities/industrial-analytics/leading-with-data-our-vision-for-industrial-analytics/leading-with-data-our-vision-for-industrial-analytics-en.mp4</td>\n",
       "      <td id=\"T_4e092_row24_col1\" class=\"data row24 col1\" >0.007103</td>\n",
       "    </tr>\n",
       "    <tr>\n",
       "      <th id=\"T_4e092_level0_row25\" class=\"row_heading level0 row25\" >44</th>\n",
       "      <td id=\"T_4e092_row25_col0\" class=\"data row25 col0\" >/content/dam/rockwell-automation/videos/products/software/factorytalk/factorytalk-remote-access-overview-architectures-options/factorytalk-remote-access-overview-architectures-options-en.mp4</td>\n",
       "      <td id=\"T_4e092_row25_col1\" class=\"data row25 col1\" >0.006869</td>\n",
       "    </tr>\n",
       "    <tr>\n",
       "      <th id=\"T_4e092_level0_row26\" class=\"row_heading level0 row26\" >41</th>\n",
       "      <td id=\"T_4e092_row26_col0\" class=\"data row26 col0\" >/content/dam/rockwell-automation/videos/products/software/factorytalk/factorytalk-design-hub-teams-work-better-together/factorytalk-design-hub-teams-work-better-together-en.mp4</td>\n",
       "      <td id=\"T_4e092_row26_col1\" class=\"data row26 col1\" >0.003950</td>\n",
       "    </tr>\n",
       "    <tr>\n",
       "      <th id=\"T_4e092_level0_row27\" class=\"row_heading level0 row27\" >40</th>\n",
       "      <td id=\"T_4e092_row27_col0\" class=\"data row27 col0\" >/content/dam/rockwell-automation/videos/products/software/factorytalk/factorytalk-design-hub-ecosystem-introduction/factorytalk-design-hub-ecosystem-introduction-en.mp4</td>\n",
       "      <td id=\"T_4e092_row27_col1\" class=\"data row27 col1\" >0.003950</td>\n",
       "    </tr>\n",
       "    <tr>\n",
       "      <th id=\"T_4e092_level0_row28\" class=\"row_heading level0 row28\" >39</th>\n",
       "      <td id=\"T_4e092_row28_col0\" class=\"data row28 col0\" >/content/dam/rockwell-automation/videos/products/hardware/motor-control-centers/strengthening-our-motor-control-portfolio-with-cubic/strengthening-our-motor-control-portfolio-with-cubic-en.mp4</td>\n",
       "      <td id=\"T_4e092_row28_col1\" class=\"data row28 col1\" >0.003950</td>\n",
       "    </tr>\n",
       "    <tr>\n",
       "      <th id=\"T_4e092_level0_row29\" class=\"row_heading level0 row29\" >45</th>\n",
       "      <td id=\"T_4e092_row29_col0\" class=\"data row29 col0\" >/content/dam/rockwell-automation/videos/products/software/factorytalk/improving-collaboration-and-productivity-for-design-teams/improving-collaboration-and-productivity-for-design-teams-en.mp4</td>\n",
       "      <td id=\"T_4e092_row29_col1\" class=\"data row29 col1\" >0.003950</td>\n",
       "    </tr>\n",
       "    <tr>\n",
       "      <th id=\"T_4e092_level0_row30\" class=\"row_heading level0 row30\" >35</th>\n",
       "      <td id=\"T_4e092_row30_col0\" class=\"data row30 col0\" >/content/dam/rockwell-automation/videos/industry/life-sciences/bringing-the-life-sciences-facility-of-the-future-to-life/bringing-the-life-sciences-facility-of-the-future-to-life-en.mp4</td>\n",
       "      <td id=\"T_4e092_row30_col1\" class=\"data row30 col1\" >0.003950</td>\n",
       "    </tr>\n",
       "    <tr>\n",
       "      <th id=\"T_4e092_level0_row31\" class=\"row_heading level0 row31\" >47</th>\n",
       "      <td id=\"T_4e092_row31_col0\" class=\"data row31 col0\" >/content/rockwell-automation/www/ame/za/en_za/company/news/case-studies/maximum-transparency-across-all-levels-at-samsung-sdi-battery-sy.html</td>\n",
       "      <td id=\"T_4e092_row31_col1\" class=\"data row31 col1\" >0.003950</td>\n",
       "    </tr>\n",
       "    <tr>\n",
       "      <th id=\"T_4e092_level0_row32\" class=\"row_heading level0 row32\" >36</th>\n",
       "      <td id=\"T_4e092_row32_col0\" class=\"data row32 col0\" >/content/dam/rockwell-automation/videos/industry/warehouse-fulfillment/enhancing-efficiency-in-the-warehouse-industry/enhancing-efficiency-in-the-warehouse-industry-en.mp4</td>\n",
       "      <td id=\"T_4e092_row32_col1\" class=\"data row32 col1\" >0.003950</td>\n",
       "    </tr>\n",
       "    <tr>\n",
       "      <th id=\"T_4e092_level0_row33\" class=\"row_heading level0 row33\" >48</th>\n",
       "      <td id=\"T_4e092_row33_col0\" class=\"data row33 col0\" >/content/rockwell-automation/www/ame/za/en_za/company/news/presentations/electric-vehicle-innovation-center.html</td>\n",
       "      <td id=\"T_4e092_row33_col1\" class=\"data row33 col1\" >0.003950</td>\n",
       "    </tr>\n",
       "    <tr>\n",
       "      <th id=\"T_4e092_level0_row34\" class=\"row_heading level0 row34\" >0</th>\n",
       "      <td id=\"T_4e092_row34_col0\" class=\"data row34 col0\" >/content/dam/rockwell-automation/sites/downloads/pdf/6300-br001_-en-p.pdf</td>\n",
       "      <td id=\"T_4e092_row34_col1\" class=\"data row34 col1\" >0.003950</td>\n",
       "    </tr>\n",
       "    <tr>\n",
       "      <th id=\"T_4e092_level0_row35\" class=\"row_heading level0 row35\" >34</th>\n",
       "      <td id=\"T_4e092_row35_col0\" class=\"data row35 col0\" >/content/dam/rockwell-automation/videos/industry/chemical/mixed-reality-augments-worker-experience-chemical-industry/mixed-reality-augments-worker-experience-chemical-industry-en.mp4</td>\n",
       "      <td id=\"T_4e092_row35_col1\" class=\"data row35 col1\" >0.003950</td>\n",
       "    </tr>\n",
       "    <tr>\n",
       "      <th id=\"T_4e092_level0_row36\" class=\"row_heading level0 row36\" >20</th>\n",
       "      <td id=\"T_4e092_row36_col0\" class=\"data row36 col0\" >/content/dam/rockwell-automation/videos/capabilities/industrial-maintenance-support/sustainability-enabling-the-circular-economy-with-industrial-automation-repair-services/sustainability-enabling-the-circular-economy-with-industrial-automation-repair-serv</td>\n",
       "      <td id=\"T_4e092_row36_col1\" class=\"data row36 col1\" >0.003950</td>\n",
       "    </tr>\n",
       "    <tr>\n",
       "      <th id=\"T_4e092_level0_row37\" class=\"row_heading level0 row37\" >2</th>\n",
       "      <td id=\"T_4e092_row37_col0\" class=\"data row37 col0\" >/content/dam/rockwell-automation/sites/downloads/pdf/6300-sg002_-en-p.pdf</td>\n",
       "      <td id=\"T_4e092_row37_col1\" class=\"data row37 col1\" >0.003950</td>\n",
       "    </tr>\n",
       "    <tr>\n",
       "      <th id=\"T_4e092_level0_row38\" class=\"row_heading level0 row38\" >11</th>\n",
       "      <td id=\"T_4e092_row38_col0\" class=\"data row38 col0\" >/content/dam/rockwell-automation/videos/capabilities/connected-enterprise/building-the-connected-enterprise-production-system-with-operations-software/building-the-connected-enterprise-production-system-with-operations-software-en.mp4</td>\n",
       "      <td id=\"T_4e092_row38_col1\" class=\"data row38 col1\" >0.003950</td>\n",
       "    </tr>\n",
       "    <tr>\n",
       "      <th id=\"T_4e092_level0_row39\" class=\"row_heading level0 row39\" >14</th>\n",
       "      <td id=\"T_4e092_row39_col0\" class=\"data row39 col0\" >/content/dam/rockwell-automation/videos/capabilities/cybersecurity/how-a-managed-soc-can-transform-your-operations-and-help-mitigate-risk/how-a-managed-soc-can-transform-your-operations-and-help-mitigate-risk-en.mp4</td>\n",
       "      <td id=\"T_4e092_row39_col1\" class=\"data row39 col1\" >0.003950</td>\n",
       "    </tr>\n",
       "    <tr>\n",
       "      <th id=\"T_4e092_level0_row40\" class=\"row_heading level0 row40\" >15</th>\n",
       "      <td id=\"T_4e092_row40_col0\" class=\"data row40 col0\" >/content/dam/rockwell-automation/videos/capabilities/digital-transformation/innovating-for-results/innovating-for-results-en.mp4</td>\n",
       "      <td id=\"T_4e092_row40_col1\" class=\"data row40 col1\" >0.003950</td>\n",
       "    </tr>\n",
       "    <tr>\n",
       "      <th id=\"T_4e092_level0_row41\" class=\"row_heading level0 row41\" >16</th>\n",
       "      <td id=\"T_4e092_row41_col0\" class=\"data row41 col0\" >/content/dam/rockwell-automation/videos/capabilities/digital-transformation/uncomplicate-compliance-by-digitizing-quality/uncomplicate-compliance-by-digitizing-quality-en.mp4</td>\n",
       "      <td id=\"T_4e092_row41_col1\" class=\"data row41 col1\" >0.003950</td>\n",
       "    </tr>\n",
       "    <tr>\n",
       "      <th id=\"T_4e092_level0_row42\" class=\"row_heading level0 row42\" >19</th>\n",
       "      <td id=\"T_4e092_row42_col0\" class=\"data row42 col0\" >/content/dam/rockwell-automation/videos/capabilities/industrial-maintenance-support/how-asset-performance-management-and-production-monitoring-improve-operations/how-asset-performance-management-and-production-monitoring-improve-operations-en.mp4</td>\n",
       "      <td id=\"T_4e092_row42_col1\" class=\"data row42 col1\" >0.003950</td>\n",
       "    </tr>\n",
       "    <tr>\n",
       "      <th id=\"T_4e092_level0_row43\" class=\"row_heading level0 row43\" >21</th>\n",
       "      <td id=\"T_4e092_row43_col0\" class=\"data row43 col0\" >/content/dam/rockwell-automation/videos/capabilities/industrial-networks/fundamentals-of-ethernet-ip-iiot-network-technology/fundamentals-of-ethernet-ip-iiot-network-technology-en.mp4</td>\n",
       "      <td id=\"T_4e092_row43_col1\" class=\"data row43 col1\" >0.003950</td>\n",
       "    </tr>\n",
       "    <tr>\n",
       "      <th id=\"T_4e092_level0_row44\" class=\"row_heading level0 row44\" >30</th>\n",
       "      <td id=\"T_4e092_row44_col0\" class=\"data row44 col0\" >/content/dam/rockwell-automation/videos/capabilities/sustainable-solutions/co-innovation-for-sustainability/co-innovation-for-sustainability-en.mp4</td>\n",
       "      <td id=\"T_4e092_row44_col1\" class=\"data row44 col1\" >0.003950</td>\n",
       "    </tr>\n",
       "    <tr>\n",
       "      <th id=\"T_4e092_level0_row45\" class=\"row_heading level0 row45\" >22</th>\n",
       "      <td id=\"T_4e092_row45_col0\" class=\"data row45 col0\" >/content/dam/rockwell-automation/videos/capabilities/industrial-networks/network-modernization-to-deliver-digital-transformation/network-modernization-to-deliver-digital-transformation-en.mp4</td>\n",
       "      <td id=\"T_4e092_row45_col1\" class=\"data row45 col1\" >0.003950</td>\n",
       "    </tr>\n",
       "    <tr>\n",
       "      <th id=\"T_4e092_level0_row46\" class=\"row_heading level0 row46\" >23</th>\n",
       "      <td id=\"T_4e092_row46_col0\" class=\"data row46 col0\" >/content/dam/rockwell-automation/videos/capabilities/machine-and-equipment-builders/on-machine-solutions-reimagined/on-machine-solutions-reimagined-en.mp4</td>\n",
       "      <td id=\"T_4e092_row46_col1\" class=\"data row46 col1\" >0.003950</td>\n",
       "    </tr>\n",
       "    <tr>\n",
       "      <th id=\"T_4e092_level0_row47\" class=\"row_heading level0 row47\" >24</th>\n",
       "      <td id=\"T_4e092_row47_col0\" class=\"data row47 col0\" >/content/dam/rockwell-automation/videos/capabilities/machine-and-equipment-builders/the-augmented-workforce/the-augmented-workforce-en.mp4</td>\n",
       "      <td id=\"T_4e092_row47_col1\" class=\"data row47 col1\" >0.003950</td>\n",
       "    </tr>\n",
       "    <tr>\n",
       "      <th id=\"T_4e092_level0_row48\" class=\"row_heading level0 row48\" >25</th>\n",
       "      <td id=\"T_4e092_row48_col0\" class=\"data row48 col0\" >/content/dam/rockwell-automation/videos/capabilities/mes-solutions/from-mine-to-dispatch-bay-mes-delivers-a-connected-factory-for-battery-producers/from-mine-to-dispatch-bay-mes-delivers-a-connected-factory-for-battery-producers-en.mp4</td>\n",
       "      <td id=\"T_4e092_row48_col1\" class=\"data row48 col1\" >0.003950</td>\n",
       "    </tr>\n",
       "    <tr>\n",
       "      <th id=\"T_4e092_level0_row49\" class=\"row_heading level0 row49\" >1</th>\n",
       "      <td id=\"T_4e092_row49_col0\" class=\"data row49 col0\" >/content/dam/rockwell-automation/sites/downloads/pdf/6300-br003_-en-p.pdf</td>\n",
       "      <td id=\"T_4e092_row49_col1\" class=\"data row49 col1\" >0.003950</td>\n",
       "    </tr>\n",
       "    <tr>\n",
       "      <th id=\"T_4e092_level0_row50\" class=\"row_heading level0 row50\" >28</th>\n",
       "      <td id=\"T_4e092_row50_col0\" class=\"data row50 col0\" >/content/dam/rockwell-automation/videos/capabilities/process-solutions/process-control-what-is-new-and-next/process-control-new-and-next-en.mp4</td>\n",
       "      <td id=\"T_4e092_row50_col1\" class=\"data row50 col1\" >0.003950</td>\n",
       "    </tr>\n",
       "    <tr>\n",
       "      <th id=\"T_4e092_level0_row51\" class=\"row_heading level0 row51\" >26</th>\n",
       "      <td id=\"T_4e092_row51_col0\" class=\"data row51 col0\" >/content/dam/rockwell-automation/videos/capabilities/mes-solutions/overview-of-plex-systems-smart-manufacturing-platform/overview-of-plex-systems-smart-manufacturing-platform-en.mp4</td>\n",
       "      <td id=\"T_4e092_row51_col1\" class=\"data row51 col1\" >0.003950</td>\n",
       "    </tr>\n",
       "  </tbody>\n",
       "</table>\n"
      ],
      "text/plain": [
       "<pandas.io.formats.style.Styler at 0x7f7d25d357f0>"
      ]
     },
     "execution_count": 66,
     "metadata": {},
     "output_type": "execute_result"
    }
   ],
   "source": [
    "weights = pd.DataFrame([vectorizer.get_feature_names(), asset_prob.tolist()]).T\n",
    "weights.columns = [\"asset\", \"weight\"]\n",
    "weights.sort_values(by=\"weight\", ascending=False).style"
   ]
  },
  {
   "cell_type": "markdown",
   "id": "66a9fb3b",
   "metadata": {},
   "source": [
    "## Stage-2: Potential Lead - Sales people aspect\n",
    "- with the label from sales people\n",
    "    - type-1: interaction on Binge within lead status promote time range (30 days)\n",
    "    - type-2: is existed qualified lead or not \n",
    "- conversion transition (which stage of conversion)\n",
    "    - reading asset A has higher probably to become a existing lead compared with reading asset B\n",
    "- assumption\n",
    "    - <font color=red>only consider people already shows their interest in the funnel (only elq ID exist)</font>. So, this is kind of stage2 filter.\n",
    "        - stage1 filter will consider anonomys visitors, and make them keep interest and leave information in elq first \n",
    "    - potential lead will have the similar interaction patterns as existing lead"
   ]
  },
  {
   "cell_type": "markdown",
   "id": "0ef3e36c",
   "metadata": {},
   "source": [
    "### tables relationship\n",
    "```SQL\n",
    "FROM aem.RawTraffic AS binge \n",
    "    LEFT JOIN elo.Contact AS contact ON binge.EloquaContactId = contact.EloquaContactId\n",
    "    LEFT JOIN crm.Lead AS lead ON lead.emailaddress1 = contact.EmailAddress\n",
    "```\n",
    "- relationship\n",
    "    - elq is the bridge table \n",
    "        - elq ID : Email = <font color=red>N</font>:1 \n",
    "        - overwrite\n",
    "    - crm_lead\n",
    "        - account id : Email = 1:N \n",
    "        - add new row\n",
    "    - stage2_raw\n",
    "        - session id : elq ID = 1:1\n",
    "        - add new row\n",
    "        - mvcid : elq ID = 1:N"
   ]
  },
  {
   "cell_type": "markdown",
   "id": "539bc738",
   "metadata": {},
   "source": [
    "#### email to mcvisid"
   ]
  },
  {
   "cell_type": "code",
   "execution_count": 69,
   "id": "8e27cc51",
   "metadata": {
    "ExecuteTime": {
     "end_time": "2022-12-07T21:55:36.871969Z",
     "start_time": "2022-12-07T21:55:36.477892Z"
    }
   },
   "outputs": [],
   "source": [
    "# email_to_mcvisid = elq_bridge[[\"EmailAddress\", \"EloquaContactId\"]].merge(stage2_raw[[\"EloquaContactId\", \"mcvisid\"]].drop_duplicates(), on=\"EloquaContactId\")\n",
    "# email_to_mcvisid = email_to_mcvisid[[\"EmailAddress\", \"mcvisid\"]].drop_duplicates()\n",
    "\n",
    "email_to_mcvisid = pd.read_csv(\"email_mcvisid.csv\")\n",
    "email_to_mcvisid = email_cleanup(email_to_mcvisid, \"EmailAddress\").drop_duplicates()"
   ]
  },
  {
   "cell_type": "markdown",
   "id": "16eb22c6",
   "metadata": {},
   "source": [
    "### positive signal\n",
    "1. method A: within a month & the statuscodename change from unQualified to Qualified\n",
    "    1. ra_leadstage increase 1\n",
    "2. <font color=red>method B: identify all the existing lead, find the visitor has the similar pattern on binge asset</font>"
   ]
  },
  {
   "cell_type": "code",
   "execution_count": 22,
   "id": "5ff77008",
   "metadata": {
    "ExecuteTime": {
     "end_time": "2022-12-06T23:04:24.287905Z",
     "start_time": "2022-12-06T23:04:24.286341Z"
    }
   },
   "outputs": [],
   "source": [
    "# elq_bridge.groupby(\"EmailAddress\").size().sort_values()"
   ]
  },
  {
   "cell_type": "code",
   "execution_count": 70,
   "id": "e08525c3",
   "metadata": {
    "ExecuteTime": {
     "end_time": "2022-12-07T21:55:51.568386Z",
     "start_time": "2022-12-07T21:55:39.632048Z"
    }
   },
   "outputs": [
    {
     "data": {
      "text/plain": [
       "False    133201\n",
       "True       1951\n",
       "Name: label, dtype: int64"
      ]
     },
     "execution_count": 70,
     "metadata": {},
     "output_type": "execute_result"
    }
   ],
   "source": [
    "crm_qualify_label = crm_lead.groupby(\"emailaddress1\").apply(lambda user_journey: identify_pos(user_journey, label_type = 2))\n",
    "crm_qualify_label = crm_qualify_label.to_frame().reset_index()\n",
    "crm_qualify_label.columns = [\"emailaddress1\", \"label\"]\n",
    "crm_qualify_label.label.value_counts()"
   ]
  },
  {
   "cell_type": "code",
   "execution_count": 116,
   "id": "01f938ab",
   "metadata": {
    "ExecuteTime": {
     "end_time": "2022-12-07T22:24:16.832996Z",
     "start_time": "2022-12-07T22:24:16.820549Z"
    }
   },
   "outputs": [
    {
     "data": {
      "text/plain": [
       "0.014435598437315024"
      ]
     },
     "execution_count": 116,
     "metadata": {},
     "output_type": "execute_result"
    }
   ],
   "source": [
    "1951/(1951+133201)"
   ]
  },
  {
   "cell_type": "code",
   "execution_count": null,
   "id": "3e216d0d",
   "metadata": {},
   "outputs": [],
   "source": []
  },
  {
   "cell_type": "code",
   "execution_count": 72,
   "id": "e7f782de",
   "metadata": {
    "ExecuteTime": {
     "end_time": "2022-12-07T21:55:57.936534Z",
     "start_time": "2022-12-07T21:55:57.932616Z"
    }
   },
   "outputs": [],
   "source": [
    "# email_to_label = email_to_mcvisid.merge(crm_qualify_label, left_on=[\"EmailAddress\"], right_on=[\"emailaddress1\"], how='inner')\n",
    "# email_to_label = email_to_label[[\"EmailAddress\",\"label\", \"mcvisid\"]].drop_duplicates(subset=[\"mcvisid\"]) \n",
    "# # assert email_to_label.groupby(\"EmailAddress\").size().sort_values()[-1] == 1 # EmailAddress 1: N mcvisid\n",
    "# print(\"keep rows:\", email_to_label.shape)\n",
    "# # email_to_label.groupby(\"mcvisid\").size() # should have samples that larger than 2\n",
    "\n",
    "# _data = stage2_raw.merge(email_to_label, on=\"mcvisid\")"
   ]
  },
  {
   "cell_type": "code",
   "execution_count": 131,
   "id": "3db6420a",
   "metadata": {
    "ExecuteTime": {
     "end_time": "2022-12-07T22:28:14.244377Z",
     "start_time": "2022-12-07T22:28:14.223936Z"
    }
   },
   "outputs": [
    {
     "data": {
      "text/plain": [
       "95942.0                          trevor.rayl@actsc.com\n",
       "234503.0                christian.felcmann@endress.com\n",
       "71708.0                  ravi.teja@affineanalytics.com\n",
       "183249.0                     alejandro.chandia@ypf.com\n",
       "108800.0                        daniramirezm@gmail.com\n",
       "180557.0                  jf02102006@comunidad.unam.mx\n",
       "137967.0                 bijackewicz@northshorewrd.org\n",
       "6444.0                           saljabr@aljabr.com.sa\n",
       "62368.0                             ksaesow@cclind.com\n",
       "127751.0                     caycock@solconnetwork.com\n",
       "65814.0                          hfisker@fiskerinc.com\n",
       "173768.0                          m.riggio@sipac.pr.it\n",
       "160979.0                        bruno.orfei@aryzta.com\n",
       "174039.0                       asapnu@dscontainers.com\n",
       "208538.0                            goedderz@neumag.de\n",
       "87631.0                       venkateshnccbm@gmail.com\n",
       "48296.0                    christina.akleh@hotmail.com\n",
       "15273.0               jstromstad@conceptsystemsinc.com\n",
       "70281.0                          doug.sparks@casne.com\n",
       "47062.0                      dmorales@transclor.com.ar\n",
       "18949.0                            gary.lewis@ball.com\n",
       "39736.0                          j.colquhoun@ymail.com\n",
       "61828.0                      ekorevaar@newelectric.com\n",
       "160329.0                       qygx_guozhiyong@126.com\n",
       "97111.0     luca.zunarelli@grandisalumificiitaliani.it\n",
       "233618.0                     daniel_serna@goodyear.com\n",
       "70635.0                           and.pro@areiasys.com\n",
       "164980.0                   mmcandrew@bentonfoundry.com\n",
       "154180.0                  sulakshana.t@projects.emp.lk\n",
       "91015.0                 jens.ulrik.andersen@dansac.com\n",
       "219828.0                       aoki.takeshi@mail.canon\n",
       "42846.0                           prasannap@nmdc.co.in\n",
       "43903.0                              htthuy@tma.com.vn\n",
       "2914.0            emmanuel.pancardo@baycenterfoods.com\n",
       "70012.0                        wjsgrouptexas@gmail.com\n",
       "115115.0                         pcraley@capwayusa.com\n",
       "96597.0                       pradipta@willertindo.com\n",
       "213143.0                            geminsc@mweb.co.za\n",
       "225959.0                           janupiet@greyst.com\n",
       "163235.0           everton.podenciano@owenscorning.com\n",
       "24951.0                     mihnat@metropolitanind.com\n",
       "9908.0                     matt.ryan@lprautomation.com\n",
       "86404.0                               ma.po@beumer.com\n",
       "105939.0                stephan.schroeder@covisint.com\n",
       "103546.0                              wuhao@mcc-ht.com\n",
       "130280.0                   saioa.mielgo@bridgestone.eu\n",
       "173504.0                    david.pronier@tetrapak.com\n",
       "38584.0                         matt.gausman@wmeng.com\n",
       "131790.0                          eng.bassom@ymail.com\n",
       "188852.0                     cchau@onyxengineering.com\n",
       "Name: emailaddress1, dtype: object"
      ]
     },
     "execution_count": 131,
     "metadata": {},
     "output_type": "execute_result"
    }
   ],
   "source": [
    "crm_lead[\"emailaddress1\"].sample(50)"
   ]
  },
  {
   "cell_type": "code",
   "execution_count": 132,
   "id": "6d9c7093",
   "metadata": {
    "ExecuteTime": {
     "end_time": "2022-12-07T22:28:14.684732Z",
     "start_time": "2022-12-07T22:28:14.669472Z"
    }
   },
   "outputs": [
    {
     "data": {
      "text/plain": [
       "9327                       brycep@dmcinfo.com\n",
       "2029                      rodney.wong@mts.com\n",
       "34310                   bell.bay@riotinto.com\n",
       "9742                  nbellemore@rekointl.vom\n",
       "2946                    haynesjacob@bfusa.com\n",
       "12605                       noemail@email.com\n",
       "21539                       t.bidet@packr.com\n",
       "1670                  michel@petrocontrols.nl\n",
       "20985                 controles@proscoint.com\n",
       "38002                hubert.chin@sigsauer.com\n",
       "46048             hstoppa@rtengenharia.ind.br\n",
       "35517                        dpilt@nhp.com.au\n",
       "38150                     aroberts@ectpac.com\n",
       "42171                        alnaqa@gmail.com\n",
       "37100                       lswilson@oldi.com\n",
       "48997               sanjeev.saini@pepsico.com\n",
       "46932             hstoppa@rtengenharia.ind.br\n",
       "40183                     cruzmontes.o@pg.com\n",
       "43623                    tgarnett@malisko.com\n",
       "10004                 kristen.roegner@ofd.com\n",
       "18106            matt_vogel@premierenergy.com\n",
       "40092                jkong@wpjk.inteplast.com\n",
       "22119                automation1@kveetech.com\n",
       "19627                       drouzer@vitro.com\n",
       "8590            kyle.beckner@eadcorporate.com\n",
       "41276                alecia.nelson@stepan.com\n",
       "1376                       rahul.shah@pima.in\n",
       "15713              eoin.prendergast@tmeic.com\n",
       "39981               kyle_reissner@hotmail.com\n",
       "37455            tang@trunorth-automation.com\n",
       "19159                      jamesk@pariusa.com\n",
       "38007                hubert.chin@sigsauer.com\n",
       "43796                 sschneebeli@malisko.com\n",
       "18229         francisco.huerta@grupogondi.com\n",
       "15437                   rmartinezal@vitro.com\n",
       "28461              fadhil.semi@anzcofoods.com\n",
       "44627               nathan.lewis@mgnewell.com\n",
       "28821    jeferson.carvalho@ttautomacao.com.br\n",
       "17593                      wnguyen@nhp.com.au\n",
       "10866                     alejoqrla@gmail.com\n",
       "48035                 albindesign@hotmail.com\n",
       "8200               grebelak@atcautomation.com\n",
       "46708             hstoppa@rtengenharia.ind.br\n",
       "29404            gaylord.gabriel@motolite.com\n",
       "40915                 alex.stoyka@nordmin.com\n",
       "23009                   arunkumar.s@batpl.com\n",
       "34320                   bell.bay@riotinto.com\n",
       "47781              guangfeng.wang@siemens.com\n",
       "39067                       jasinsdl@matc.edu\n",
       "1105         trevor.richard@ercoworldwide.com\n",
       "Name: EmailAddress, dtype: object"
      ]
     },
     "execution_count": 132,
     "metadata": {},
     "output_type": "execute_result"
    }
   ],
   "source": [
    "stage2_raw[\"EmailAddress\"].sample(50)"
   ]
  },
  {
   "cell_type": "code",
   "execution_count": 134,
   "id": "5d34db52",
   "metadata": {
    "ExecuteTime": {
     "end_time": "2022-12-07T22:28:21.562005Z",
     "start_time": "2022-12-07T22:28:21.437633Z"
    }
   },
   "outputs": [],
   "source": [
    "_data = stage2_raw.merge(crm_qualify_label, left_on=[\"EmailAddress\"], right_on=[\"emailaddress1\"], how='inner')\n",
    "data = _data.groupby(\"EmailAddress\").apply(lambda x: preprocessing_stage(x, stage=2))"
   ]
  },
  {
   "cell_type": "markdown",
   "id": "ba540ddb",
   "metadata": {},
   "source": [
    "### Data split + TFIDF"
   ]
  },
  {
   "cell_type": "code",
   "execution_count": 137,
   "id": "7dd4e98a",
   "metadata": {
    "ExecuteTime": {
     "end_time": "2022-12-07T22:28:43.731064Z",
     "start_time": "2022-12-07T22:28:43.712134Z"
    }
   },
   "outputs": [
    {
     "name": "stdout",
     "output_type": "stream",
     "text": [
      "total:\n",
      " 0    83\n",
      "1     6\n",
      "Name: label, dtype: int64\n",
      "training sample label size: Counter({0: 66, 1: 5})\n",
      "pos vs neg in training set:\n",
      "testing sample label size: Counter({0: 17, 1: 1})\n"
     ]
    }
   ],
   "source": [
    "X_train, X_test, y_train, y_test = train_test_split(data[\"features\"], data[\"label\"].values, test_size=TEST_SIZE, stratify=data[\"label\"].values, random_state=SEED)\n",
    "print(\"total:\\n\", data[\"label\"].value_counts())\n",
    "print(\"training sample label size:\", Counter(y_train))\n",
    "print(\"pos vs neg in training set:\")\n",
    "print(\"testing sample label size:\", Counter(y_test))\n",
    "\n",
    "vectorizer = TfidfVectorizer(token_pattern=SEP_TOKEN_PATTERN)\n",
    "\n",
    "X_train_arr = vectorizer.fit_transform(X_train)\n",
    "X_test_arr = vectorizer.transform(X_test)"
   ]
  },
  {
   "cell_type": "markdown",
   "id": "4d5e1310",
   "metadata": {},
   "source": [
    "### Models"
   ]
  },
  {
   "cell_type": "code",
   "execution_count": 138,
   "id": "34dfc559",
   "metadata": {
    "ExecuteTime": {
     "end_time": "2022-12-07T22:28:45.739706Z",
     "start_time": "2022-12-07T22:28:45.726227Z"
    }
   },
   "outputs": [],
   "source": [
    "clf = MultinomialNB().fit(X_train_arr, y_train)\n",
    "y_pred = (clf.predict_proba(X_test_arr))[:, 1]\n",
    "asset_prob = np.exp(clf.feature_log_prob_[0])"
   ]
  },
  {
   "cell_type": "code",
   "execution_count": 139,
   "id": "e556cf2d",
   "metadata": {
    "ExecuteTime": {
     "end_time": "2022-12-07T22:28:46.195207Z",
     "start_time": "2022-12-07T22:28:46.170743Z"
    }
   },
   "outputs": [
    {
     "data": {
      "text/html": [
       "<style type=\"text/css\">\n",
       "</style>\n",
       "<table id=\"T_b72af_\">\n",
       "  <thead>\n",
       "    <tr>\n",
       "      <th class=\"blank level0\" >&nbsp;</th>\n",
       "      <th class=\"col_heading level0 col0\" >asset</th>\n",
       "      <th class=\"col_heading level0 col1\" >weight</th>\n",
       "    </tr>\n",
       "  </thead>\n",
       "  <tbody>\n",
       "    <tr>\n",
       "      <th id=\"T_b72af_level0_row0\" class=\"row_heading level0 row0\" >22</th>\n",
       "      <td id=\"T_b72af_row0_col0\" class=\"data row0 col0\" >/content/dam/rockwell-automation/videos/events/af-2022/on-demand/new-and-next-at-rockwell-automation/new-and-next-at-rockwell-automation-en.mp4</td>\n",
       "      <td id=\"T_b72af_row0_col1\" class=\"data row0 col1\" >0.154958</td>\n",
       "    </tr>\n",
       "    <tr>\n",
       "      <th id=\"T_b72af_level0_row1\" class=\"row_heading level0 row1\" >4</th>\n",
       "      <td id=\"T_b72af_row1_col0\" class=\"data row1 col0\" >/content/dam/rockwell-automation/sites/downloads/pdf/getting started in iab.pdf</td>\n",
       "      <td id=\"T_b72af_row1_col1\" class=\"data row1 col1\" >0.134275</td>\n",
       "    </tr>\n",
       "    <tr>\n",
       "      <th id=\"T_b72af_level0_row2\" class=\"row_heading level0 row2\" >19</th>\n",
       "      <td id=\"T_b72af_row2_col0\" class=\"data row2 col0\" >/content/dam/rockwell-automation/videos/capabilities/process-solutions/plantpax-system-now-and-in-the-future/plantpax-system-now-and-in-the-future-en.mp4</td>\n",
       "      <td id=\"T_b72af_row2_col1\" class=\"data row2 col1\" >0.077066</td>\n",
       "    </tr>\n",
       "    <tr>\n",
       "      <th id=\"T_b72af_level0_row3\" class=\"row_heading level0 row3\" >7</th>\n",
       "      <td id=\"T_b72af_row3_col0\" class=\"data row3 col0\" >/content/dam/rockwell-automation/videos/capabilities/cybersecurity/cip-security-improve-your-control-system-defense-in-depth-strategy/cip-security-improve-your-control-system-defense-in-depth-strategy-en.mp4</td>\n",
       "      <td id=\"T_b72af_row3_col1\" class=\"data row3 col1\" >0.045136</td>\n",
       "    </tr>\n",
       "    <tr>\n",
       "      <th id=\"T_b72af_level0_row4\" class=\"row_heading level0 row4\" >5</th>\n",
       "      <td id=\"T_b72af_row4_col0\" class=\"data row4 col0\" >/content/dam/rockwell-automation/sites/downloads/pdf/project design assistant.pdf</td>\n",
       "      <td id=\"T_b72af_row4_col1\" class=\"data row4 col1\" >0.044605</td>\n",
       "    </tr>\n",
       "    <tr>\n",
       "      <th id=\"T_b72af_level0_row5\" class=\"row_heading level0 row5\" >2</th>\n",
       "      <td id=\"T_b72af_row5_col0\" class=\"data row5 col0\" >/content/dam/rockwell-automation/sites/downloads/pdf/export a bom to proposalworks.pdf</td>\n",
       "      <td id=\"T_b72af_row5_col1\" class=\"data row5 col1\" >0.043241</td>\n",
       "    </tr>\n",
       "    <tr>\n",
       "      <th id=\"T_b72af_level0_row6\" class=\"row_heading level0 row6\" >0</th>\n",
       "      <td id=\"T_b72af_row6_col0\" class=\"data row6 col0\" >/content/dam/rockwell-automation/sites/downloads/pdf/applying pricing to bom.pdf</td>\n",
       "      <td id=\"T_b72af_row6_col1\" class=\"data row6 col1\" >0.040011</td>\n",
       "    </tr>\n",
       "    <tr>\n",
       "      <th id=\"T_b72af_level0_row7\" class=\"row_heading level0 row7\" >28</th>\n",
       "      <td id=\"T_b72af_row7_col0\" class=\"data row7 col0\" >/content/dam/rockwell-automation/videos/products/software/factorytalk/factorytalk-design-studio-cloud-increase-design-efficiency/factorytalk-design-studio-cloud-increase-design-efficiency-en.mp4</td>\n",
       "      <td id=\"T_b72af_row7_col1\" class=\"data row7 col1\" >0.031174</td>\n",
       "    </tr>\n",
       "    <tr>\n",
       "      <th id=\"T_b72af_level0_row8\" class=\"row_heading level0 row8\" >6</th>\n",
       "      <td id=\"T_b72af_row8_col0\" class=\"data row8 col0\" >/content/dam/rockwell-automation/sites/downloads/pdf/using the architecture view.pdf</td>\n",
       "      <td id=\"T_b72af_row8_col1\" class=\"data row8 col1\" >0.028013</td>\n",
       "    </tr>\n",
       "    <tr>\n",
       "      <th id=\"T_b72af_level0_row9\" class=\"row_heading level0 row9\" >3</th>\n",
       "      <td id=\"T_b72af_row9_col0\" class=\"data row9 col0\" >/content/dam/rockwell-automation/sites/downloads/pdf/generating a report.pdf</td>\n",
       "      <td id=\"T_b72af_row9_col1\" class=\"data row9 col1\" >0.026770</td>\n",
       "    </tr>\n",
       "    <tr>\n",
       "      <th id=\"T_b72af_level0_row10\" class=\"row_heading level0 row10\" >12</th>\n",
       "      <td id=\"T_b72af_row10_col0\" class=\"data row10 col0\" >/content/dam/rockwell-automation/videos/capabilities/industrial-automation-and-control/micro-control-integrated-automation-solution/micro-control-integrated-automation-solution-en.mp4</td>\n",
       "      <td id=\"T_b72af_row10_col1\" class=\"data row10 col1\" >0.026395</td>\n",
       "    </tr>\n",
       "    <tr>\n",
       "      <th id=\"T_b72af_level0_row11\" class=\"row_heading level0 row11\" >8</th>\n",
       "      <td id=\"T_b72af_row11_col0\" class=\"data row11 col0\" >/content/dam/rockwell-automation/videos/capabilities/cybersecurity/cybersecurity-watch-a-hack-in-real-time/cybersecurity-hack-in-real-time-en.mp4</td>\n",
       "      <td id=\"T_b72af_row11_col1\" class=\"data row11 col1\" >0.025429</td>\n",
       "    </tr>\n",
       "    <tr>\n",
       "      <th id=\"T_b72af_level0_row12\" class=\"row_heading level0 row12\" >20</th>\n",
       "      <td id=\"T_b72af_row12_col0\" class=\"data row12 col0\" >/content/dam/rockwell-automation/videos/capabilities/process-solutions/process-control-what-is-new-and-next/process-control-new-and-next-en.mp4</td>\n",
       "      <td id=\"T_b72af_row12_col1\" class=\"data row12 col1\" >0.022837</td>\n",
       "    </tr>\n",
       "    <tr>\n",
       "      <th id=\"T_b72af_level0_row13\" class=\"row_heading level0 row13\" >29</th>\n",
       "      <td id=\"T_b72af_row13_col0\" class=\"data row13 col0\" >/content/dam/rockwell-automation/videos/products/software/factorytalk/factorytalk-optix-visualization-platform-introduction/factorytalk-optix-visualization-platform-introduction-en.mp4</td>\n",
       "      <td id=\"T_b72af_row13_col1\" class=\"data row13 col1\" >0.018251</td>\n",
       "    </tr>\n",
       "    <tr>\n",
       "      <th id=\"T_b72af_level0_row14\" class=\"row_heading level0 row14\" >18</th>\n",
       "      <td id=\"T_b72af_row14_col0\" class=\"data row14 col0\" >/content/dam/rockwell-automation/videos/capabilities/mes-solutions/overview-of-plex-systems-smart-manufacturing-platform/overview-of-plex-systems-smart-manufacturing-platform-en.mp4</td>\n",
       "      <td id=\"T_b72af_row14_col1\" class=\"data row14 col1\" >0.017915</td>\n",
       "    </tr>\n",
       "    <tr>\n",
       "      <th id=\"T_b72af_level0_row15\" class=\"row_heading level0 row15\" >16</th>\n",
       "      <td id=\"T_b72af_row15_col0\" class=\"data row15 col0\" >/content/dam/rockwell-automation/videos/capabilities/machine-and-equipment-builders/the-augmented-workforce/the-augmented-workforce-en.mp4</td>\n",
       "      <td id=\"T_b72af_row15_col1\" class=\"data row15 col1\" >0.017819</td>\n",
       "    </tr>\n",
       "    <tr>\n",
       "      <th id=\"T_b72af_level0_row16\" class=\"row_heading level0 row16\" >24</th>\n",
       "      <td id=\"T_b72af_row16_col0\" class=\"data row16 col0\" >/content/dam/rockwell-automation/videos/industry/warehouse-fulfillment/enhancing-efficiency-in-the-warehouse-industry/enhancing-efficiency-in-the-warehouse-industry-en.mp4</td>\n",
       "      <td id=\"T_b72af_row16_col1\" class=\"data row16 col1\" >0.017373</td>\n",
       "    </tr>\n",
       "    <tr>\n",
       "      <th id=\"T_b72af_level0_row17\" class=\"row_heading level0 row17\" >10</th>\n",
       "      <td id=\"T_b72af_row17_col0\" class=\"data row17 col0\" >/content/dam/rockwell-automation/videos/capabilities/digital-transformation/innovating-for-results/innovating-for-results-en.mp4</td>\n",
       "      <td id=\"T_b72af_row17_col1\" class=\"data row17 col1\" >0.016671</td>\n",
       "    </tr>\n",
       "    <tr>\n",
       "      <th id=\"T_b72af_level0_row18\" class=\"row_heading level0 row18\" >25</th>\n",
       "      <td id=\"T_b72af_row18_col0\" class=\"data row18 col0\" >/content/dam/rockwell-automation/videos/industry/water-wastewater/using-artificial-intelligence-for-sustainability/using-artificial-intelligence-for-sustainability-en.mp4</td>\n",
       "      <td id=\"T_b72af_row18_col1\" class=\"data row18 col1\" >0.016613</td>\n",
       "    </tr>\n",
       "    <tr>\n",
       "      <th id=\"T_b72af_level0_row19\" class=\"row_heading level0 row19\" >32</th>\n",
       "      <td id=\"T_b72af_row19_col0\" class=\"data row19 col0\" >/content/dam/rockwell-automation/videos/products/software/factorytalk/using-maintenance-software-to-optimize-asset-performance/using-maintenance-software-to-optimize-asset-performance-en.mp4</td>\n",
       "      <td id=\"T_b72af_row19_col1\" class=\"data row19 col1\" >0.016386</td>\n",
       "    </tr>\n",
       "    <tr>\n",
       "      <th id=\"T_b72af_level0_row20\" class=\"row_heading level0 row20\" >14</th>\n",
       "      <td id=\"T_b72af_row20_col0\" class=\"data row20 col0\" >/content/dam/rockwell-automation/videos/capabilities/industrial-networks/fundamentals-of-ethernet-ip-iiot-network-technology/fundamentals-of-ethernet-ip-iiot-network-technology-en.mp4</td>\n",
       "      <td id=\"T_b72af_row20_col1\" class=\"data row20 col1\" >0.015820</td>\n",
       "    </tr>\n",
       "    <tr>\n",
       "      <th id=\"T_b72af_level0_row21\" class=\"row_heading level0 row21\" >21</th>\n",
       "      <td id=\"T_b72af_row21_col0\" class=\"data row21 col0\" >/content/dam/rockwell-automation/videos/capabilities/smart-manufacturing/smart-devices-the-eyes-and-ears-of-your-smart-machine/smart-devices-the-eyes-and-ears-of-your-smart-machine-en.mp4</td>\n",
       "      <td id=\"T_b72af_row21_col1\" class=\"data row21 col1\" >0.015294</td>\n",
       "    </tr>\n",
       "    <tr>\n",
       "      <th id=\"T_b72af_level0_row22\" class=\"row_heading level0 row22\" >33</th>\n",
       "      <td id=\"T_b72af_row22_col0\" class=\"data row22 col0\" >/content/rockwell-automation/www/na/us/en_us/company/news/case-studies/hirata-emulation-software.html</td>\n",
       "      <td id=\"T_b72af_row22_col1\" class=\"data row22 col1\" >0.015233</td>\n",
       "    </tr>\n",
       "    <tr>\n",
       "      <th id=\"T_b72af_level0_row23\" class=\"row_heading level0 row23\" >1</th>\n",
       "      <td id=\"T_b72af_row23_col0\" class=\"data row23 col0\" >/content/dam/rockwell-automation/sites/downloads/pdf/auto-sp010_-en-p.pdf</td>\n",
       "      <td id=\"T_b72af_row23_col1\" class=\"data row23 col1\" >0.015233</td>\n",
       "    </tr>\n",
       "    <tr>\n",
       "      <th id=\"T_b72af_level0_row24\" class=\"row_heading level0 row24\" >15</th>\n",
       "      <td id=\"T_b72af_row24_col0\" class=\"data row24 col0\" >/content/dam/rockwell-automation/videos/capabilities/industrial-networks/network-modernization-to-deliver-digital-transformation/network-modernization-to-deliver-digital-transformation-en.mp4</td>\n",
       "      <td id=\"T_b72af_row24_col1\" class=\"data row24 col1\" >0.014388</td>\n",
       "    </tr>\n",
       "    <tr>\n",
       "      <th id=\"T_b72af_level0_row25\" class=\"row_heading level0 row25\" >31</th>\n",
       "      <td id=\"T_b72af_row25_col0\" class=\"data row25 col0\" >/content/dam/rockwell-automation/videos/products/software/factorytalk/improving-collaboration-and-productivity-for-design-teams/improving-collaboration-and-productivity-for-design-teams-en.mp4</td>\n",
       "      <td id=\"T_b72af_row25_col1\" class=\"data row25 col1\" >0.013351</td>\n",
       "    </tr>\n",
       "    <tr>\n",
       "      <th id=\"T_b72af_level0_row26\" class=\"row_heading level0 row26\" >30</th>\n",
       "      <td id=\"T_b72af_row26_col0\" class=\"data row26 col0\" >/content/dam/rockwell-automation/videos/products/software/factorytalk/factorytalk-remote-access-overview-architectures-options/factorytalk-remote-access-overview-architectures-options-en.mp4</td>\n",
       "      <td id=\"T_b72af_row26_col1\" class=\"data row26 col1\" >0.012477</td>\n",
       "    </tr>\n",
       "    <tr>\n",
       "      <th id=\"T_b72af_level0_row27\" class=\"row_heading level0 row27\" >27</th>\n",
       "      <td id=\"T_b72af_row27_col0\" class=\"data row27 col0\" >/content/dam/rockwell-automation/videos/products/software/factorytalk/factorytalk-design-hub-teams-work-better-together/factorytalk-design-hub-teams-work-better-together-en.mp4</td>\n",
       "      <td id=\"T_b72af_row27_col1\" class=\"data row27 col1\" >0.012291</td>\n",
       "    </tr>\n",
       "    <tr>\n",
       "      <th id=\"T_b72af_level0_row28\" class=\"row_heading level0 row28\" >26</th>\n",
       "      <td id=\"T_b72af_row28_col0\" class=\"data row28 col0\" >/content/dam/rockwell-automation/videos/products/software/factorytalk/factorytalk-design-hub-ecosystem-introduction/factorytalk-design-hub-ecosystem-introduction-en.mp4</td>\n",
       "      <td id=\"T_b72af_row28_col1\" class=\"data row28 col1\" >0.012107</td>\n",
       "    </tr>\n",
       "    <tr>\n",
       "      <th id=\"T_b72af_level0_row29\" class=\"row_heading level0 row29\" >17</th>\n",
       "      <td id=\"T_b72af_row29_col0\" class=\"data row29 col0\" >/content/dam/rockwell-automation/videos/capabilities/mes-solutions/from-mine-to-dispatch-bay-mes-delivers-a-connected-factory-for-battery-producers/from-mine-to-dispatch-bay-mes-delivers-a-connected-factory-for-battery-producers-en.mp4</td>\n",
       "      <td id=\"T_b72af_row29_col1\" class=\"data row29 col1\" >0.011792</td>\n",
       "    </tr>\n",
       "    <tr>\n",
       "      <th id=\"T_b72af_level0_row30\" class=\"row_heading level0 row30\" >13</th>\n",
       "      <td id=\"T_b72af_row30_col0\" class=\"data row30 col0\" >/content/dam/rockwell-automation/videos/capabilities/industrial-maintenance-support/how-asset-performance-management-and-production-monitoring-improve-operations/how-asset-performance-management-and-production-monitoring-improve-operations-en.mp4</td>\n",
       "      <td id=\"T_b72af_row30_col1\" class=\"data row30 col1\" >0.010669</td>\n",
       "    </tr>\n",
       "    <tr>\n",
       "      <th id=\"T_b72af_level0_row31\" class=\"row_heading level0 row31\" >11</th>\n",
       "      <td id=\"T_b72af_row31_col0\" class=\"data row31 col0\" >/content/dam/rockwell-automation/videos/capabilities/digital-transformation/uncomplicate-compliance-by-digitizing-quality/uncomplicate-compliance-by-digitizing-quality-en.mp4</td>\n",
       "      <td id=\"T_b72af_row31_col1\" class=\"data row31 col1\" >0.010669</td>\n",
       "    </tr>\n",
       "    <tr>\n",
       "      <th id=\"T_b72af_level0_row32\" class=\"row_heading level0 row32\" >9</th>\n",
       "      <td id=\"T_b72af_row32_col0\" class=\"data row32 col0\" >/content/dam/rockwell-automation/videos/capabilities/cybersecurity/how-a-managed-soc-can-transform-your-operations-and-help-mitigate-risk/how-a-managed-soc-can-transform-your-operations-and-help-mitigate-risk-en.mp4</td>\n",
       "      <td id=\"T_b72af_row32_col1\" class=\"data row32 col1\" >0.010295</td>\n",
       "    </tr>\n",
       "    <tr>\n",
       "      <th id=\"T_b72af_level0_row33\" class=\"row_heading level0 row33\" >23</th>\n",
       "      <td id=\"T_b72af_row33_col0\" class=\"data row33 col0\" >/content/dam/rockwell-automation/videos/industry/life-sciences/bringing-the-life-sciences-facility-of-the-future-to-life/bringing-the-life-sciences-facility-of-the-future-to-life-en.mp4</td>\n",
       "      <td id=\"T_b72af_row33_col1\" class=\"data row33 col1\" >0.009442</td>\n",
       "    </tr>\n",
       "  </tbody>\n",
       "</table>\n"
      ],
      "text/plain": [
       "<pandas.io.formats.style.Styler at 0x7f75d7426190>"
      ]
     },
     "execution_count": 139,
     "metadata": {},
     "output_type": "execute_result"
    }
   ],
   "source": [
    "weights = pd.DataFrame([vectorizer.get_feature_names(), asset_prob.tolist()]).T\n",
    "weights.columns = [\"asset\", \"weight\"]\n",
    "weights.sort_values(by=\"weight\", ascending=False).style"
   ]
  },
  {
   "cell_type": "code",
   "execution_count": 140,
   "id": "91c3e757",
   "metadata": {
    "ExecuteTime": {
     "end_time": "2022-12-07T22:28:48.226782Z",
     "start_time": "2022-12-07T22:28:48.083133Z"
    }
   },
   "outputs": [
    {
     "name": "stdout",
     "output_type": "stream",
     "text": [
      "              precision    recall  f1-score   support\n",
      "\n",
      "           0       0.94      1.00      0.97        17\n",
      "           1       0.00      0.00      0.00         1\n",
      "\n",
      "    accuracy                           0.94        18\n",
      "   macro avg       0.47      0.50      0.49        18\n",
      "weighted avg       0.89      0.94      0.92        18\n",
      "\n"
     ]
    },
    {
     "name": "stderr",
     "output_type": "stream",
     "text": [
      "/Users/wy/opt/anaconda3/lib/python3.9/site-packages/sklearn/metrics/_classification.py:1248: UndefinedMetricWarning: Precision and F-score are ill-defined and being set to 0.0 in labels with no predicted samples. Use `zero_division` parameter to control this behavior.\n",
      "  _warn_prf(average, modifier, msg_start, len(result))\n",
      "/Users/wy/opt/anaconda3/lib/python3.9/site-packages/sklearn/metrics/_classification.py:1248: UndefinedMetricWarning: Precision and F-score are ill-defined and being set to 0.0 in labels with no predicted samples. Use `zero_division` parameter to control this behavior.\n",
      "  _warn_prf(average, modifier, msg_start, len(result))\n",
      "/Users/wy/opt/anaconda3/lib/python3.9/site-packages/sklearn/metrics/_classification.py:1248: UndefinedMetricWarning: Precision and F-score are ill-defined and being set to 0.0 in labels with no predicted samples. Use `zero_division` parameter to control this behavior.\n",
      "  _warn_prf(average, modifier, msg_start, len(result))\n"
     ]
    },
    {
     "data": {
      "image/png": "[encoded data removed]",
      "text/plain": [
       "<Figure size 432x288 with 2 Axes>"
      ]
     },
     "metadata": {
      "needs_background": "light"
     },
     "output_type": "display_data"
    },
    {
     "name": "stdout",
     "output_type": "stream",
     "text": [
      "AUC: 5.88%, PRC: 2.78%\n"
     ]
    }
   ],
   "source": [
    "evaluate_metrics(y_test, y_pred, show_plots = True)"
   ]
  },
  {
   "cell_type": "code",
   "execution_count": 141,
   "id": "648c8e2e",
   "metadata": {
    "ExecuteTime": {
     "end_time": "2022-12-07T22:28:48.276424Z",
     "start_time": "2022-12-07T22:28:48.274607Z"
    }
   },
   "outputs": [],
   "source": [
    "# weights[\"weight\"]/weights[\"weight\"].mean()"
   ]
  },
  {
   "cell_type": "markdown",
   "id": "f333ea15",
   "metadata": {},
   "source": [
    "## Correlation"
   ]
  },
  {
   "cell_type": "code",
   "execution_count": 447,
   "id": "0326f78f",
   "metadata": {
    "ExecuteTime": {
     "end_time": "2022-12-08T05:50:43.517960Z",
     "start_time": "2022-12-08T05:50:43.065692Z"
    }
   },
   "outputs": [
    {
     "data": {
      "text/html": [
       "<div>\n",
       "<style scoped>\n",
       "    .dataframe tbody tr th:only-of-type {\n",
       "        vertical-align: middle;\n",
       "    }\n",
       "\n",
       "    .dataframe tbody tr th {\n",
       "        vertical-align: top;\n",
       "    }\n",
       "\n",
       "    .dataframe thead th {\n",
       "        text-align: right;\n",
       "    }\n",
       "</style>\n",
       "<table border=\"1\" class=\"dataframe\">\n",
       "  <thead>\n",
       "    <tr style=\"text-align: right;\">\n",
       "      <th></th>\n",
       "      <th>y</th>\n",
       "    </tr>\n",
       "  </thead>\n",
       "  <tbody>\n",
       "    <tr>\n",
       "      <th>/content/dam/rockwell-automation/sites/downloads/pdf/getting started in iab.pdf</th>\n",
       "      <td>-0.139450</td>\n",
       "    </tr>\n",
       "    <tr>\n",
       "      <th>/content/dam/rockwell-automation/videos/capabilities/process-solutions/plantpax-system-now-and-in-the-future/plantpax-system-now-and-in-the-future-en.mp4</th>\n",
       "      <td>-0.103993</td>\n",
       "    </tr>\n",
       "    <tr>\n",
       "      <th>/content/dam/rockwell-automation/videos/capabilities/cybersecurity/cip-security-improve-your-control-system-defense-in-depth-strategy/cip-security-improve-your-control-system-defense-in-depth-strategy-en.mp4</th>\n",
       "      <td>-0.071130</td>\n",
       "    </tr>\n",
       "    <tr>\n",
       "      <th>/content/dam/rockwell-automation/sites/downloads/pdf/export a bom to proposalworks.pdf</th>\n",
       "      <td>-0.067173</td>\n",
       "    </tr>\n",
       "    <tr>\n",
       "      <th>/content/dam/rockwell-automation/sites/downloads/pdf/applying pricing to bom.pdf</th>\n",
       "      <td>-0.066254</td>\n",
       "    </tr>\n",
       "    <tr>\n",
       "      <th>/content/dam/rockwell-automation/videos/capabilities/industrial-networks/fundamentals-of-ethernet-ip-iiot-network-technology/fundamentals-of-ethernet-ip-iiot-network-technology-en.mp4</th>\n",
       "      <td>-0.056174</td>\n",
       "    </tr>\n",
       "    <tr>\n",
       "      <th>/content/dam/rockwell-automation/videos/capabilities/mes-solutions/overview-of-plex-systems-smart-manufacturing-platform/overview-of-plex-systems-smart-manufacturing-platform-en.mp4</th>\n",
       "      <td>-0.049977</td>\n",
       "    </tr>\n",
       "    <tr>\n",
       "      <th>/content/dam/rockwell-automation/videos/capabilities/industrial-automation-and-control/micro-control-integrated-automation-solution/micro-control-integrated-automation-solution-en.mp4</th>\n",
       "      <td>-0.049707</td>\n",
       "    </tr>\n",
       "    <tr>\n",
       "      <th>/content/dam/rockwell-automation/videos/capabilities/process-solutions/process-control-what-is-new-and-next/process-control-new-and-next-en.mp4</th>\n",
       "      <td>-0.047110</td>\n",
       "    </tr>\n",
       "    <tr>\n",
       "      <th>/content/dam/rockwell-automation/sites/downloads/pdf/generating a report.pdf</th>\n",
       "      <td>-0.046860</td>\n",
       "    </tr>\n",
       "    <tr>\n",
       "      <th>/content/dam/rockwell-automation/videos/capabilities/smart-manufacturing/smart-devices-the-eyes-and-ears-of-your-smart-machine/smart-devices-the-eyes-and-ears-of-your-smart-machine-en.mp4</th>\n",
       "      <td>-0.046825</td>\n",
       "    </tr>\n",
       "    <tr>\n",
       "      <th>/content/dam/rockwell-automation/videos/capabilities/cybersecurity/cybersecurity-watch-a-hack-in-real-time/cybersecurity-hack-in-real-time-en.mp4</th>\n",
       "      <td>-0.046702</td>\n",
       "    </tr>\n",
       "    <tr>\n",
       "      <th>/content/dam/rockwell-automation/videos/capabilities/industrial-networks/network-modernization-to-deliver-digital-transformation/network-modernization-to-deliver-digital-transformation-en.mp4</th>\n",
       "      <td>-0.044923</td>\n",
       "    </tr>\n",
       "    <tr>\n",
       "      <th>/content/dam/rockwell-automation/videos/products/software/factorytalk/factorytalk-remote-access-overview-architectures-options/factorytalk-remote-access-overview-architectures-options-en.mp4</th>\n",
       "      <td>-0.039737</td>\n",
       "    </tr>\n",
       "    <tr>\n",
       "      <th>/content/dam/rockwell-automation/videos/industry/water-wastewater/using-artificial-intelligence-for-sustainability/using-artificial-intelligence-for-sustainability-en.mp4</th>\n",
       "      <td>-0.035009</td>\n",
       "    </tr>\n",
       "    <tr>\n",
       "      <th>/content/dam/rockwell-automation/videos/products/software/factorytalk/factorytalk-design-hub-teams-work-better-together/factorytalk-design-hub-teams-work-better-together-en.mp4</th>\n",
       "      <td>-0.032898</td>\n",
       "    </tr>\n",
       "    <tr>\n",
       "      <th>/content/dam/rockwell-automation/videos/industry/warehouse-fulfillment/enhancing-efficiency-in-the-warehouse-industry/enhancing-efficiency-in-the-warehouse-industry-en.mp4</th>\n",
       "      <td>-0.032898</td>\n",
       "    </tr>\n",
       "    <tr>\n",
       "      <th>/content/rockwell-automation/www/na/us/en_us/company/news/case-studies/hirata-emulation-software.html</th>\n",
       "      <td>-0.032898</td>\n",
       "    </tr>\n",
       "    <tr>\n",
       "      <th>/content/dam/rockwell-automation/videos/capabilities/industrial-maintenance-support/how-asset-performance-management-and-production-monitoring-improve-operations/how-asset-performance-management-and-production-monitoring-improve-operations-en.mp4</th>\n",
       "      <td>-0.032898</td>\n",
       "    </tr>\n",
       "    <tr>\n",
       "      <th>/content/dam/rockwell-automation/videos/capabilities/digital-transformation/uncomplicate-compliance-by-digitizing-quality/uncomplicate-compliance-by-digitizing-quality-en.mp4</th>\n",
       "      <td>-0.032898</td>\n",
       "    </tr>\n",
       "    <tr>\n",
       "      <th>/content/dam/rockwell-automation/videos/capabilities/cybersecurity/how-a-managed-soc-can-transform-your-operations-and-help-mitigate-risk/how-a-managed-soc-can-transform-your-operations-and-help-mitigate-risk-en.mp4</th>\n",
       "      <td>-0.032898</td>\n",
       "    </tr>\n",
       "    <tr>\n",
       "      <th>/content/dam/rockwell-automation/sites/downloads/pdf/auto-sp010_-en-p.pdf</th>\n",
       "      <td>-0.032898</td>\n",
       "    </tr>\n",
       "    <tr>\n",
       "      <th>/content/dam/rockwell-automation/videos/capabilities/mes-solutions/from-mine-to-dispatch-bay-mes-delivers-a-connected-factory-for-battery-producers/from-mine-to-dispatch-bay-mes-delivers-a-connected-factory-for-battery-producers-en.mp4</th>\n",
       "      <td>-0.032898</td>\n",
       "    </tr>\n",
       "    <tr>\n",
       "      <th>/content/dam/rockwell-automation/videos/capabilities/digital-transformation/innovating-for-results/innovating-for-results-en.mp4</th>\n",
       "      <td>-0.032898</td>\n",
       "    </tr>\n",
       "    <tr>\n",
       "      <th>/content/dam/rockwell-automation/videos/industry/life-sciences/bringing-the-life-sciences-facility-of-the-future-to-life/bringing-the-life-sciences-facility-of-the-future-to-life-en.mp4</th>\n",
       "      <td>-0.032898</td>\n",
       "    </tr>\n",
       "    <tr>\n",
       "      <th>/content/dam/rockwell-automation/videos/capabilities/machine-and-equipment-builders/the-augmented-workforce/the-augmented-workforce-en.mp4</th>\n",
       "      <td>-0.032898</td>\n",
       "    </tr>\n",
       "    <tr>\n",
       "      <th>/content/dam/rockwell-automation/videos/products/software/factorytalk/using-maintenance-software-to-optimize-asset-performance/using-maintenance-software-to-optimize-asset-performance-en.mp4</th>\n",
       "      <td>-0.032898</td>\n",
       "    </tr>\n",
       "    <tr>\n",
       "      <th>/content/dam/rockwell-automation/videos/products/software/factorytalk/improving-collaboration-and-productivity-for-design-teams/improving-collaboration-and-productivity-for-design-teams-en.mp4</th>\n",
       "      <td>-0.032898</td>\n",
       "    </tr>\n",
       "    <tr>\n",
       "      <th>/content/dam/rockwell-automation/videos/events/af-2022/on-demand/new-and-next-at-rockwell-automation/new-and-next-at-rockwell-automation-en.mp4</th>\n",
       "      <td>0.110927</td>\n",
       "    </tr>\n",
       "    <tr>\n",
       "      <th>/content/dam/rockwell-automation/videos/products/software/factorytalk/factorytalk-optix-visualization-platform-introduction/factorytalk-optix-visualization-platform-introduction-en.mp4</th>\n",
       "      <td>0.132579</td>\n",
       "    </tr>\n",
       "    <tr>\n",
       "      <th>/content/dam/rockwell-automation/sites/downloads/pdf/project design assistant.pdf</th>\n",
       "      <td>0.139449</td>\n",
       "    </tr>\n",
       "    <tr>\n",
       "      <th>/content/dam/rockwell-automation/videos/products/software/factorytalk/factorytalk-design-studio-cloud-increase-design-efficiency/factorytalk-design-studio-cloud-increase-design-efficiency-en.mp4</th>\n",
       "      <td>0.155830</td>\n",
       "    </tr>\n",
       "    <tr>\n",
       "      <th>/content/dam/rockwell-automation/sites/downloads/pdf/using the architecture view.pdf</th>\n",
       "      <td>0.228476</td>\n",
       "    </tr>\n",
       "    <tr>\n",
       "      <th>/content/dam/rockwell-automation/videos/products/software/factorytalk/factorytalk-design-hub-ecosystem-introduction/factorytalk-design-hub-ecosystem-introduction-en.mp4</th>\n",
       "      <td>0.352595</td>\n",
       "    </tr>\n",
       "  </tbody>\n",
       "</table>\n",
       "</div>"
      ],
      "text/plain": [
       "                                                           y\n",
       "/content/dam/rockwell-automation/sites/download... -0.139450\n",
       "/content/dam/rockwell-automation/videos/capabil... -0.103993\n",
       "/content/dam/rockwell-automation/videos/capabil... -0.071130\n",
       "/content/dam/rockwell-automation/sites/download... -0.067173\n",
       "/content/dam/rockwell-automation/sites/download... -0.066254\n",
       "/content/dam/rockwell-automation/videos/capabil... -0.056174\n",
       "/content/dam/rockwell-automation/videos/capabil... -0.049977\n",
       "/content/dam/rockwell-automation/videos/capabil... -0.049707\n",
       "/content/dam/rockwell-automation/videos/capabil... -0.047110\n",
       "/content/dam/rockwell-automation/sites/download... -0.046860\n",
       "/content/dam/rockwell-automation/videos/capabil... -0.046825\n",
       "/content/dam/rockwell-automation/videos/capabil... -0.046702\n",
       "/content/dam/rockwell-automation/videos/capabil... -0.044923\n",
       "/content/dam/rockwell-automation/videos/product... -0.039737\n",
       "/content/dam/rockwell-automation/videos/industr... -0.035009\n",
       "/content/dam/rockwell-automation/videos/product... -0.032898\n",
       "/content/dam/rockwell-automation/videos/industr... -0.032898\n",
       "/content/rockwell-automation/www/na/us/en_us/co... -0.032898\n",
       "/content/dam/rockwell-automation/videos/capabil... -0.032898\n",
       "/content/dam/rockwell-automation/videos/capabil... -0.032898\n",
       "/content/dam/rockwell-automation/videos/capabil... -0.032898\n",
       "/content/dam/rockwell-automation/sites/download... -0.032898\n",
       "/content/dam/rockwell-automation/videos/capabil... -0.032898\n",
       "/content/dam/rockwell-automation/videos/capabil... -0.032898\n",
       "/content/dam/rockwell-automation/videos/industr... -0.032898\n",
       "/content/dam/rockwell-automation/videos/capabil... -0.032898\n",
       "/content/dam/rockwell-automation/videos/product... -0.032898\n",
       "/content/dam/rockwell-automation/videos/product... -0.032898\n",
       "/content/dam/rockwell-automation/videos/events/...  0.110927\n",
       "/content/dam/rockwell-automation/videos/product...  0.132579\n",
       "/content/dam/rockwell-automation/sites/download...  0.139449\n",
       "/content/dam/rockwell-automation/videos/product...  0.155830\n",
       "/content/dam/rockwell-automation/sites/download...  0.228476\n",
       "/content/dam/rockwell-automation/videos/product...  0.352595"
      ]
     },
     "execution_count": 447,
     "metadata": {},
     "output_type": "execute_result"
    },
    {
     "data": {
      "image/png": "[encoded data removed]",
      "text/plain": [
       "<Figure size 432x288 with 1 Axes>"
      ]
     },
     "metadata": {
      "needs_background": "light"
     },
     "output_type": "display_data"
    }
   ],
   "source": [
    "mat2 = pd.DataFrame(np.hstack([y_train.reshape(-1,1), X_train_arr.toarray()]), columns=[\"y\"]+vectorizer.get_feature_names())\n",
    "corr = mat2.corr().iloc[1:, 0:1].sort_values(\"y\")\n",
    "corr.plot(kind=\"bar\")\n",
    "corr"
   ]
  },
  {
   "cell_type": "markdown",
   "id": "b74392d1",
   "metadata": {},
   "source": [
    "## Weight Rescaling\n",
    "lowest level is 1, decide which one has higher importance score. start with 1"
   ]
  },
  {
   "cell_type": "code",
   "execution_count": 399,
   "id": "1361f8a5",
   "metadata": {
    "ExecuteTime": {
     "end_time": "2022-12-08T05:42:28.280985Z",
     "start_time": "2022-12-08T05:42:28.264933Z"
    }
   },
   "outputs": [
    {
     "data": {
      "text/plain": [
       "count    34.000000\n",
       "mean      0.029412\n",
       "std       0.032497\n",
       "min       0.009442\n",
       "25%       0.013610\n",
       "50%       0.017022\n",
       "75%       0.027702\n",
       "max       0.154958\n",
       "Name: weight, dtype: float64"
      ]
     },
     "execution_count": 399,
     "metadata": {},
     "output_type": "execute_result"
    }
   ],
   "source": [
    "x = weights[\"weight\"].astype(float)\n",
    "x.describe()"
   ]
  },
  {
   "cell_type": "code",
   "execution_count": null,
   "id": "0acbb043",
   "metadata": {},
   "outputs": [],
   "source": []
  },
  {
   "cell_type": "markdown",
   "id": "3dbd16df",
   "metadata": {
    "ExecuteTime": {
     "end_time": "2022-12-07T22:41:22.564446Z",
     "start_time": "2022-12-07T22:41:22.557939Z"
    }
   },
   "source": [
    "### Three levels (prefer)"
   ]
  },
  {
   "cell_type": "code",
   "execution_count": 408,
   "id": "e8cc4bab",
   "metadata": {
    "ExecuteTime": {
     "end_time": "2022-12-08T05:43:41.191642Z",
     "start_time": "2022-12-08T05:43:41.172966Z"
    }
   },
   "outputs": [],
   "source": [
    "xx = pd.concat([weights[\"asset\"], x, pd.cut(x, 3)], axis=1)\n",
    "xx.columns = [\"asset\", \"weight\", \"bins\"]\n",
    "xx[\"bins\"] = xx[\"bins\"].map(lambda x: f\"[{str(x.left)}, {str(x.right)}]\")\n",
    "bin_dict = sorted(xx[\"bins\"].unique().tolist())\n",
    "\n",
    "colors = dict(zip(bin_dict, ['lightskyblue', 'turquoise', 'orange']))\n",
    "labels = dict(zip(bin_dict, range(1, len(bin_dict)+1)))"
   ]
  },
  {
   "cell_type": "code",
   "execution_count": 409,
   "id": "c3fe9510",
   "metadata": {
    "ExecuteTime": {
     "end_time": "2022-12-08T05:43:42.284679Z",
     "start_time": "2022-12-08T05:43:42.135812Z"
    }
   },
   "outputs": [
    {
     "data": {
      "image/png": "[encoded data removed]",
      "text/plain": [
       "<Figure size 1080x576 with 1 Axes>"
      ]
     },
     "metadata": {
      "needs_background": "light"
     },
     "output_type": "display_data"
    }
   ],
   "source": [
    "xx[\"color\"] = xx[\"bins\"].apply(lambda x: colors[x])\n",
    "xx[\"auto_score\"] = xx[\"bins\"].apply(lambda x: labels[x])\n",
    "\n",
    "plt.figure(figsize=(15,8))\n",
    "\n",
    "for idx, item in xx.groupby(\"bins\"):\n",
    "    plt.bar(x=item.index, height = item[\"weight\"], color=item[\"color\"], label=item[\"auto_score\"].iloc[0])\n",
    "\n",
    "for pair in bin_dict:\n",
    "    upper_line = eval(pair)[1]\n",
    "    plt.plot([0, xx.index[-1]],[upper_line,upper_line])\n",
    "\n",
    "    \n",
    "plt.xlabel(\"Asset Number\")\n",
    "plt.ylabel(\"Model Assign Weight\")\n",
    "plt.title(\"Asset auto standardized score\")\n",
    "plt.legend()\n",
    "plt.show()"
   ]
  },
  {
   "cell_type": "code",
   "execution_count": 414,
   "id": "5fb5d01e",
   "metadata": {
    "ExecuteTime": {
     "end_time": "2022-12-08T05:44:21.733453Z",
     "start_time": "2022-12-08T05:44:21.717470Z"
    }
   },
   "outputs": [
    {
     "data": {
      "text/html": [
       "<div>\n",
       "<style scoped>\n",
       "    .dataframe tbody tr th:only-of-type {\n",
       "        vertical-align: middle;\n",
       "    }\n",
       "\n",
       "    .dataframe tbody tr th {\n",
       "        vertical-align: top;\n",
       "    }\n",
       "\n",
       "    .dataframe thead th {\n",
       "        text-align: right;\n",
       "    }\n",
       "</style>\n",
       "<table border=\"1\" class=\"dataframe\">\n",
       "  <thead>\n",
       "    <tr style=\"text-align: right;\">\n",
       "      <th></th>\n",
       "      <th>asset</th>\n",
       "      <th>auto_score</th>\n",
       "    </tr>\n",
       "  </thead>\n",
       "  <tbody>\n",
       "    <tr>\n",
       "      <th>0</th>\n",
       "      <td>/content/dam/rockwell-automation/sites/downloa...</td>\n",
       "      <td>1</td>\n",
       "    </tr>\n",
       "    <tr>\n",
       "      <th>1</th>\n",
       "      <td>/content/dam/rockwell-automation/sites/downloa...</td>\n",
       "      <td>1</td>\n",
       "    </tr>\n",
       "    <tr>\n",
       "      <th>2</th>\n",
       "      <td>/content/dam/rockwell-automation/sites/downloa...</td>\n",
       "      <td>1</td>\n",
       "    </tr>\n",
       "    <tr>\n",
       "      <th>3</th>\n",
       "      <td>/content/dam/rockwell-automation/sites/downloa...</td>\n",
       "      <td>1</td>\n",
       "    </tr>\n",
       "    <tr>\n",
       "      <th>4</th>\n",
       "      <td>/content/dam/rockwell-automation/sites/downloa...</td>\n",
       "      <td>3</td>\n",
       "    </tr>\n",
       "    <tr>\n",
       "      <th>5</th>\n",
       "      <td>/content/dam/rockwell-automation/sites/downloa...</td>\n",
       "      <td>1</td>\n",
       "    </tr>\n",
       "    <tr>\n",
       "      <th>6</th>\n",
       "      <td>/content/dam/rockwell-automation/sites/downloa...</td>\n",
       "      <td>1</td>\n",
       "    </tr>\n",
       "    <tr>\n",
       "      <th>7</th>\n",
       "      <td>/content/dam/rockwell-automation/videos/capabi...</td>\n",
       "      <td>1</td>\n",
       "    </tr>\n",
       "    <tr>\n",
       "      <th>8</th>\n",
       "      <td>/content/dam/rockwell-automation/videos/capabi...</td>\n",
       "      <td>1</td>\n",
       "    </tr>\n",
       "    <tr>\n",
       "      <th>9</th>\n",
       "      <td>/content/dam/rockwell-automation/videos/capabi...</td>\n",
       "      <td>1</td>\n",
       "    </tr>\n",
       "    <tr>\n",
       "      <th>10</th>\n",
       "      <td>/content/dam/rockwell-automation/videos/capabi...</td>\n",
       "      <td>1</td>\n",
       "    </tr>\n",
       "    <tr>\n",
       "      <th>11</th>\n",
       "      <td>/content/dam/rockwell-automation/videos/capabi...</td>\n",
       "      <td>1</td>\n",
       "    </tr>\n",
       "    <tr>\n",
       "      <th>12</th>\n",
       "      <td>/content/dam/rockwell-automation/videos/capabi...</td>\n",
       "      <td>1</td>\n",
       "    </tr>\n",
       "    <tr>\n",
       "      <th>13</th>\n",
       "      <td>/content/dam/rockwell-automation/videos/capabi...</td>\n",
       "      <td>1</td>\n",
       "    </tr>\n",
       "    <tr>\n",
       "      <th>14</th>\n",
       "      <td>/content/dam/rockwell-automation/videos/capabi...</td>\n",
       "      <td>1</td>\n",
       "    </tr>\n",
       "    <tr>\n",
       "      <th>15</th>\n",
       "      <td>/content/dam/rockwell-automation/videos/capabi...</td>\n",
       "      <td>1</td>\n",
       "    </tr>\n",
       "    <tr>\n",
       "      <th>16</th>\n",
       "      <td>/content/dam/rockwell-automation/videos/capabi...</td>\n",
       "      <td>1</td>\n",
       "    </tr>\n",
       "    <tr>\n",
       "      <th>17</th>\n",
       "      <td>/content/dam/rockwell-automation/videos/capabi...</td>\n",
       "      <td>1</td>\n",
       "    </tr>\n",
       "    <tr>\n",
       "      <th>18</th>\n",
       "      <td>/content/dam/rockwell-automation/videos/capabi...</td>\n",
       "      <td>1</td>\n",
       "    </tr>\n",
       "    <tr>\n",
       "      <th>19</th>\n",
       "      <td>/content/dam/rockwell-automation/videos/capabi...</td>\n",
       "      <td>2</td>\n",
       "    </tr>\n",
       "    <tr>\n",
       "      <th>20</th>\n",
       "      <td>/content/dam/rockwell-automation/videos/capabi...</td>\n",
       "      <td>1</td>\n",
       "    </tr>\n",
       "    <tr>\n",
       "      <th>21</th>\n",
       "      <td>/content/dam/rockwell-automation/videos/capabi...</td>\n",
       "      <td>1</td>\n",
       "    </tr>\n",
       "    <tr>\n",
       "      <th>22</th>\n",
       "      <td>/content/dam/rockwell-automation/videos/events...</td>\n",
       "      <td>3</td>\n",
       "    </tr>\n",
       "    <tr>\n",
       "      <th>23</th>\n",
       "      <td>/content/dam/rockwell-automation/videos/indust...</td>\n",
       "      <td>1</td>\n",
       "    </tr>\n",
       "    <tr>\n",
       "      <th>24</th>\n",
       "      <td>/content/dam/rockwell-automation/videos/indust...</td>\n",
       "      <td>1</td>\n",
       "    </tr>\n",
       "    <tr>\n",
       "      <th>25</th>\n",
       "      <td>/content/dam/rockwell-automation/videos/indust...</td>\n",
       "      <td>1</td>\n",
       "    </tr>\n",
       "    <tr>\n",
       "      <th>26</th>\n",
       "      <td>/content/dam/rockwell-automation/videos/produc...</td>\n",
       "      <td>1</td>\n",
       "    </tr>\n",
       "    <tr>\n",
       "      <th>27</th>\n",
       "      <td>/content/dam/rockwell-automation/videos/produc...</td>\n",
       "      <td>1</td>\n",
       "    </tr>\n",
       "    <tr>\n",
       "      <th>28</th>\n",
       "      <td>/content/dam/rockwell-automation/videos/produc...</td>\n",
       "      <td>1</td>\n",
       "    </tr>\n",
       "    <tr>\n",
       "      <th>29</th>\n",
       "      <td>/content/dam/rockwell-automation/videos/produc...</td>\n",
       "      <td>1</td>\n",
       "    </tr>\n",
       "    <tr>\n",
       "      <th>30</th>\n",
       "      <td>/content/dam/rockwell-automation/videos/produc...</td>\n",
       "      <td>1</td>\n",
       "    </tr>\n",
       "    <tr>\n",
       "      <th>31</th>\n",
       "      <td>/content/dam/rockwell-automation/videos/produc...</td>\n",
       "      <td>1</td>\n",
       "    </tr>\n",
       "    <tr>\n",
       "      <th>32</th>\n",
       "      <td>/content/dam/rockwell-automation/videos/produc...</td>\n",
       "      <td>1</td>\n",
       "    </tr>\n",
       "    <tr>\n",
       "      <th>33</th>\n",
       "      <td>/content/rockwell-automation/www/na/us/en_us/c...</td>\n",
       "      <td>1</td>\n",
       "    </tr>\n",
       "  </tbody>\n",
       "</table>\n",
       "</div>"
      ],
      "text/plain": [
       "                                                asset auto_score\n",
       "0   /content/dam/rockwell-automation/sites/downloa...          1\n",
       "1   /content/dam/rockwell-automation/sites/downloa...          1\n",
       "2   /content/dam/rockwell-automation/sites/downloa...          1\n",
       "3   /content/dam/rockwell-automation/sites/downloa...          1\n",
       "4   /content/dam/rockwell-automation/sites/downloa...          3\n",
       "5   /content/dam/rockwell-automation/sites/downloa...          1\n",
       "6   /content/dam/rockwell-automation/sites/downloa...          1\n",
       "7   /content/dam/rockwell-automation/videos/capabi...          1\n",
       "8   /content/dam/rockwell-automation/videos/capabi...          1\n",
       "9   /content/dam/rockwell-automation/videos/capabi...          1\n",
       "10  /content/dam/rockwell-automation/videos/capabi...          1\n",
       "11  /content/dam/rockwell-automation/videos/capabi...          1\n",
       "12  /content/dam/rockwell-automation/videos/capabi...          1\n",
       "13  /content/dam/rockwell-automation/videos/capabi...          1\n",
       "14  /content/dam/rockwell-automation/videos/capabi...          1\n",
       "15  /content/dam/rockwell-automation/videos/capabi...          1\n",
       "16  /content/dam/rockwell-automation/videos/capabi...          1\n",
       "17  /content/dam/rockwell-automation/videos/capabi...          1\n",
       "18  /content/dam/rockwell-automation/videos/capabi...          1\n",
       "19  /content/dam/rockwell-automation/videos/capabi...          2\n",
       "20  /content/dam/rockwell-automation/videos/capabi...          1\n",
       "21  /content/dam/rockwell-automation/videos/capabi...          1\n",
       "22  /content/dam/rockwell-automation/videos/events...          3\n",
       "23  /content/dam/rockwell-automation/videos/indust...          1\n",
       "24  /content/dam/rockwell-automation/videos/indust...          1\n",
       "25  /content/dam/rockwell-automation/videos/indust...          1\n",
       "26  /content/dam/rockwell-automation/videos/produc...          1\n",
       "27  /content/dam/rockwell-automation/videos/produc...          1\n",
       "28  /content/dam/rockwell-automation/videos/produc...          1\n",
       "29  /content/dam/rockwell-automation/videos/produc...          1\n",
       "30  /content/dam/rockwell-automation/videos/produc...          1\n",
       "31  /content/dam/rockwell-automation/videos/produc...          1\n",
       "32  /content/dam/rockwell-automation/videos/produc...          1\n",
       "33  /content/rockwell-automation/www/na/us/en_us/c...          1"
      ]
     },
     "execution_count": 414,
     "metadata": {},
     "output_type": "execute_result"
    }
   ],
   "source": [
    "xx[[\"asset\", \"auto_score\"]]"
   ]
  },
  {
   "cell_type": "code",
   "execution_count": null,
   "id": "74fa5482",
   "metadata": {},
   "outputs": [],
   "source": []
  },
  {
   "cell_type": "code",
   "execution_count": null,
   "id": "c8eaa121",
   "metadata": {},
   "outputs": [],
   "source": []
  },
  {
   "cell_type": "code",
   "execution_count": null,
   "id": "744963a4",
   "metadata": {},
   "outputs": [],
   "source": []
  },
  {
   "cell_type": "markdown",
   "id": "dc167609",
   "metadata": {},
   "source": [
    "### min-max Normalization"
   ]
  },
  {
   "cell_type": "code",
   "execution_count": 334,
   "id": "eaddd466",
   "metadata": {
    "ExecuteTime": {
     "end_time": "2022-12-08T05:27:32.237880Z",
     "start_time": "2022-12-08T05:27:32.073516Z"
    }
   },
   "outputs": [
    {
     "data": {
      "text/plain": [
       "<AxesSubplot:>"
      ]
     },
     "execution_count": 334,
     "metadata": {},
     "output_type": "execute_result"
    },
    {
     "data": {
      "image/png": "[encoded data removed]",
      "text/plain": [
       "<Figure size 432x288 with 1 Axes>"
      ]
     },
     "metadata": {
      "needs_background": "light"
     },
     "output_type": "display_data"
    }
   ],
   "source": [
    "x = weights[\"weight\"].astype(float) \n",
    "x = (x-x.min())/(x.max()-x.min()) * 5\n",
    "x.plot(kind=\"bar\")"
   ]
  },
  {
   "cell_type": "markdown",
   "id": "48d69d42",
   "metadata": {},
   "source": [
    "### z-score Standardization"
   ]
  },
  {
   "cell_type": "code",
   "execution_count": 339,
   "id": "24472e49",
   "metadata": {
    "ExecuteTime": {
     "end_time": "2022-12-08T05:28:23.582763Z",
     "start_time": "2022-12-08T05:28:23.435325Z"
    }
   },
   "outputs": [
    {
     "data": {
      "text/plain": [
       "<AxesSubplot:>"
      ]
     },
     "execution_count": 339,
     "metadata": {},
     "output_type": "execute_result"
    },
    {
     "data": {
      "image/png": "[encoded data removed]",
      "text/plain": [
       "<Figure size 432x288 with 1 Axes>"
      ]
     },
     "metadata": {
      "needs_background": "light"
     },
     "output_type": "display_data"
    }
   ],
   "source": [
    "x = weights[\"weight\"].astype(float) \n",
    "x = 1 + ((x-x.mean())/x.std())\n",
    "x.plot(kind=\"bar\")"
   ]
  },
  {
   "cell_type": "code",
   "execution_count": null,
   "id": "7ab78289",
   "metadata": {},
   "outputs": [],
   "source": []
  },
  {
   "cell_type": "markdown",
   "id": "1c762bed",
   "metadata": {},
   "source": [
    "## Others "
   ]
  },
  {
   "cell_type": "markdown",
   "id": "a70c41b4",
   "metadata": {},
   "source": [
    "### Sample Size estimation\n",
    "Assumption\n",
    "- Binomial Distribution\n",
    "\n",
    "Testing\n",
    "- Power = 1 - Type II Error\n",
    "- Pr(True Positive) = 1 - Pr(False Negative)\n",
    "\n",
    "<img src=\"https://sigmazone.com/wp-content/uploads/2018/06/Normal_Approx_Binomial_CI.gif\" width=\"500\"/>"
   ]
  },
  {
   "cell_type": "code",
   "execution_count": 84,
   "id": "1a082cac",
   "metadata": {
    "ExecuteTime": {
     "end_time": "2022-12-07T21:56:18.025800Z",
     "start_time": "2022-12-07T21:56:18.017979Z"
    }
   },
   "outputs": [],
   "source": [
    "from scipy.stats import norm"
   ]
  },
  {
   "cell_type": "code",
   "execution_count": 85,
   "id": "0f5bf326",
   "metadata": {
    "ExecuteTime": {
     "end_time": "2022-12-07T21:56:18.199464Z",
     "start_time": "2022-12-07T21:56:18.188480Z"
    }
   },
   "outputs": [],
   "source": [
    "# estimate sample size via power analysis\n",
    "# from statsmodels.stats.power import TTestIndPower\n",
    "\n",
    "# # parameters for power analysis\n",
    "# effect = 0.8\n",
    "# alpha = 0.05\n",
    "# power = 0.8\n",
    "# # perform power analysis\n",
    "# analysis = TTestIndPower()\n",
    "# result = analysis.solve_power(effect, power=power, nobs1=None, ratio=1.0, alpha=alpha)\n",
    "# print('Sample Size: %.3f' % result)"
   ]
  },
  {
   "cell_type": "code",
   "execution_count": 95,
   "id": "38cf9897",
   "metadata": {
    "ExecuteTime": {
     "end_time": "2022-12-07T21:58:05.655152Z",
     "start_time": "2022-12-07T21:58:05.644758Z"
    }
   },
   "outputs": [
    {
     "name": "stdout",
     "output_type": "stream",
     "text": [
      "0.07228915662650602\n"
     ]
    }
   ],
   "source": [
    "n = 83\n",
    "pos = 6\n",
    "p_hat = pos/n\n",
    "print(p_hat)"
   ]
  },
  {
   "cell_type": "markdown",
   "id": "f303f80a",
   "metadata": {},
   "source": [
    "#### CI with given N"
   ]
  },
  {
   "cell_type": "code",
   "execution_count": 96,
   "id": "9c8ee123",
   "metadata": {
    "ExecuteTime": {
     "end_time": "2022-12-07T21:58:06.898724Z",
     "start_time": "2022-12-07T21:58:06.872769Z"
    }
   },
   "outputs": [
    {
     "data": {
      "text/html": [
       "<div>\n",
       "<style scoped>\n",
       "    .dataframe tbody tr th:only-of-type {\n",
       "        vertical-align: middle;\n",
       "    }\n",
       "\n",
       "    .dataframe tbody tr th {\n",
       "        vertical-align: top;\n",
       "    }\n",
       "\n",
       "    .dataframe thead th {\n",
       "        text-align: right;\n",
       "    }\n",
       "</style>\n",
       "<table border=\"1\" class=\"dataframe\">\n",
       "  <thead>\n",
       "    <tr style=\"text-align: right;\">\n",
       "      <th></th>\n",
       "      <th>alpha</th>\n",
       "      <th>CI_lower</th>\n",
       "      <th>CI_upper</th>\n",
       "      <th>deviation</th>\n",
       "      <th>variance</th>\n",
       "    </tr>\n",
       "  </thead>\n",
       "  <tbody>\n",
       "    <tr>\n",
       "      <th>0</th>\n",
       "      <td>0.01</td>\n",
       "      <td>-0.000929</td>\n",
       "      <td>0.145508</td>\n",
       "      <td>0.028425</td>\n",
       "      <td>0.067063</td>\n",
       "    </tr>\n",
       "    <tr>\n",
       "      <th>1</th>\n",
       "      <td>0.02</td>\n",
       "      <td>0.006162</td>\n",
       "      <td>0.138416</td>\n",
       "      <td>0.028425</td>\n",
       "      <td>0.067063</td>\n",
       "    </tr>\n",
       "    <tr>\n",
       "      <th>2</th>\n",
       "      <td>0.03</td>\n",
       "      <td>0.010604</td>\n",
       "      <td>0.133974</td>\n",
       "      <td>0.028425</td>\n",
       "      <td>0.067063</td>\n",
       "    </tr>\n",
       "    <tr>\n",
       "      <th>3</th>\n",
       "      <td>0.04</td>\n",
       "      <td>0.013911</td>\n",
       "      <td>0.130667</td>\n",
       "      <td>0.028425</td>\n",
       "      <td>0.067063</td>\n",
       "    </tr>\n",
       "    <tr>\n",
       "      <th>4</th>\n",
       "      <td>0.05</td>\n",
       "      <td>0.016577</td>\n",
       "      <td>0.128002</td>\n",
       "      <td>0.028425</td>\n",
       "      <td>0.067063</td>\n",
       "    </tr>\n",
       "    <tr>\n",
       "      <th>5</th>\n",
       "      <td>0.06</td>\n",
       "      <td>0.018827</td>\n",
       "      <td>0.125751</td>\n",
       "      <td>0.028425</td>\n",
       "      <td>0.067063</td>\n",
       "    </tr>\n",
       "    <tr>\n",
       "      <th>6</th>\n",
       "      <td>0.07</td>\n",
       "      <td>0.020785</td>\n",
       "      <td>0.123793</td>\n",
       "      <td>0.028425</td>\n",
       "      <td>0.067063</td>\n",
       "    </tr>\n",
       "    <tr>\n",
       "      <th>7</th>\n",
       "      <td>0.08</td>\n",
       "      <td>0.022526</td>\n",
       "      <td>0.122053</td>\n",
       "      <td>0.028425</td>\n",
       "      <td>0.067063</td>\n",
       "    </tr>\n",
       "    <tr>\n",
       "      <th>8</th>\n",
       "      <td>0.09</td>\n",
       "      <td>0.024097</td>\n",
       "      <td>0.120481</td>\n",
       "      <td>0.028425</td>\n",
       "      <td>0.067063</td>\n",
       "    </tr>\n",
       "    <tr>\n",
       "      <th>9</th>\n",
       "      <td>0.10</td>\n",
       "      <td>0.025534</td>\n",
       "      <td>0.119044</td>\n",
       "      <td>0.028425</td>\n",
       "      <td>0.067063</td>\n",
       "    </tr>\n",
       "  </tbody>\n",
       "</table>\n",
       "</div>"
      ],
      "text/plain": [
       "   alpha  CI_lower  CI_upper  deviation  variance\n",
       "0   0.01 -0.000929  0.145508   0.028425  0.067063\n",
       "1   0.02  0.006162  0.138416   0.028425  0.067063\n",
       "2   0.03  0.010604  0.133974   0.028425  0.067063\n",
       "3   0.04  0.013911  0.130667   0.028425  0.067063\n",
       "4   0.05  0.016577  0.128002   0.028425  0.067063\n",
       "5   0.06  0.018827  0.125751   0.028425  0.067063\n",
       "6   0.07  0.020785  0.123793   0.028425  0.067063\n",
       "7   0.08  0.022526  0.122053   0.028425  0.067063\n",
       "8   0.09  0.024097  0.120481   0.028425  0.067063\n",
       "9   0.10  0.025534  0.119044   0.028425  0.067063"
      ]
     },
     "execution_count": 96,
     "metadata": {},
     "output_type": "execute_result"
    }
   ],
   "source": [
    "alpha = .10\n",
    "\n",
    "def get_CI(p_hat, n, alpha):\n",
    "    ppf_list = norm.ppf(q=[alpha/2, 1-alpha/2], loc=0, scale=1)\n",
    "    z_quantile = ppf_list[1]\n",
    "\n",
    "    variance = p_hat * (1-p_hat)\n",
    "    deviation = np.sqrt(p_hat * (1-p_hat)/n)\n",
    "    CI_lower = p_hat - z_quantile * deviation\n",
    "    CI_upper = p_hat + z_quantile * deviation\n",
    "#     print(\"alpha level: \", alpha)\n",
    "#     print(\"p_hat\", p_hat)\n",
    "    # print(\"z_quantile: \", z_quantile)\n",
    "    # print(\"deviation: \", deviation)\n",
    "#     print(f\"CI: [{CI_lower}, {CI_upper}]\")\n",
    "    return [alpha, CI_lower, CI_upper, deviation, variance]\n",
    "\n",
    "CI_list = []\n",
    "for alpha in range(1, 11):\n",
    "    CI_list.append(get_CI(p_hat, n, alpha/100))\n",
    "CI_df = pd.DataFrame(CI_list, columns=[\"alpha\", \"CI_lower\", \"CI_upper\", \"deviation\", \"variance\"])\n",
    "CI_df"
   ]
  },
  {
   "cell_type": "markdown",
   "id": "8a71c74e",
   "metadata": {},
   "source": [
    "#### required sample with given CI"
   ]
  },
  {
   "cell_type": "code",
   "execution_count": 166,
   "id": "24158f9b",
   "metadata": {
    "ExecuteTime": {
     "end_time": "2022-12-07T22:32:38.636883Z",
     "start_time": "2022-12-07T22:32:38.621419Z"
    }
   },
   "outputs": [
    {
     "name": "stdout",
     "output_type": "stream",
     "text": [
      "given CI_length: 0.04, alpha 0.05,  p_hat 0.0723 \n",
      "If required target CI: [0.0523, 0.0923]\n",
      "required_numbers: 645\n"
     ]
    }
   ],
   "source": [
    "CI_length = 0.04\n",
    "# CI_length = p_hat * 0.3\n",
    "alpha = 0.05\n",
    "ppf_list = norm.ppf(q=[alpha/2, 1-alpha/2], loc=0, scale=1)\n",
    "z_quantile = ppf_list[1]\n",
    "required_num = 1 / (((CI_length/2)/z_quantile)**2 / (p_hat * (1-p_hat)))\n",
    "print(f\"given CI_length: {round(CI_length,4)}, alpha {alpha},  p_hat {round(p_hat,4)} \")\n",
    "print(f\"If required target CI: [{round(p_hat-CI_length/2,4)}, {round(p_hat+CI_length/2,4)}]\")\n",
    "print(f\"required_numbers: {int(required_num)+1}\")"
   ]
  },
  {
   "cell_type": "code",
   "execution_count": null,
   "id": "af2b8840",
   "metadata": {},
   "outputs": [],
   "source": []
  },
  {
   "cell_type": "markdown",
   "id": "26a4c782",
   "metadata": {},
   "source": [
    "### clustering based \n",
    "- how to estimated the probablity of some attributes\n",
    "- how to assign weight based on this?"
   ]
  },
  {
   "cell_type": "code",
   "execution_count": null,
   "id": "4c2cda29",
   "metadata": {},
   "outputs": [],
   "source": []
  },
  {
   "cell_type": "code",
   "execution_count": null,
   "id": "a576cf30",
   "metadata": {},
   "outputs": [],
   "source": []
  },
  {
   "cell_type": "code",
   "execution_count": null,
   "id": "554378e1",
   "metadata": {},
   "outputs": [],
   "source": []
  },
  {
   "cell_type": "code",
   "execution_count": null,
   "id": "2f944084",
   "metadata": {},
   "outputs": [],
   "source": []
  },
  {
   "cell_type": "markdown",
   "id": "30dc28fe",
   "metadata": {},
   "source": [
    "# Store model and prediction"
   ]
  },
  {
   "cell_type": "code",
   "execution_count": 325,
   "id": "7c82e93d",
   "metadata": {
    "ExecuteTime": {
     "end_time": "2022-12-08T05:24:26.338182Z",
     "start_time": "2022-12-08T05:24:26.332262Z"
    }
   },
   "outputs": [],
   "source": [
    "with open('model_v1.pkl','wb') as f:\n",
    "    pickle.dump(clf, f)"
   ]
  },
  {
   "cell_type": "code",
   "execution_count": 327,
   "id": "beb1cd18",
   "metadata": {
    "ExecuteTime": {
     "end_time": "2022-12-08T05:24:35.316571Z",
     "start_time": "2022-12-08T05:24:35.310414Z"
    }
   },
   "outputs": [],
   "source": [
    "# load\n",
    "with open('model_v1.pkl', 'rb') as f:\n",
    "    clf2 = pickle.load(f)"
   ]
  },
  {
   "cell_type": "markdown",
   "id": "2936585c",
   "metadata": {},
   "source": [
    "# Post to AEM"
   ]
  },
  {
   "cell_type": "code",
   "execution_count": 333,
   "id": "16149dcb",
   "metadata": {
    "ExecuteTime": {
     "end_time": "2022-12-08T05:25:55.687713Z",
     "start_time": "2022-12-08T05:25:55.675439Z"
    },
    "scrolled": true
   },
   "outputs": [
    {
     "data": {
      "text/plain": [
       "array([0.04001147, 0.01523314, 0.04324063, 0.02677011, 0.13427545,\n",
       "       0.0446054 , 0.02801266, 0.04513634, 0.02542893, 0.01029525,\n",
       "       0.01667102, 0.0106694 , 0.02639518, 0.0106694 , 0.01581999,\n",
       "       0.0143877 , 0.01781915, 0.01179184, 0.01791483, 0.07706646,\n",
       "       0.02283726, 0.01529411, 0.1549575 , 0.00944157, 0.01737336,\n",
       "       0.01661268, 0.01210651, 0.01229071, 0.03117376, 0.01825122,\n",
       "       0.01247724, 0.0133506 , 0.01638599, 0.01523314])"
      ]
     },
     "execution_count": 333,
     "metadata": {},
     "output_type": "execute_result"
    }
   ],
   "source": [
    "np.exp(clf2.feature_log_prob_[0])"
   ]
  },
  {
   "cell_type": "code",
   "execution_count": null,
   "id": "11911b5e",
   "metadata": {},
   "outputs": [],
   "source": []
  },
  {
   "cell_type": "code",
   "execution_count": null,
   "id": "f196a682",
   "metadata": {},
   "outputs": [],
   "source": []
  },
  {
   "cell_type": "code",
   "execution_count": null,
   "id": "fddf7a6f",
   "metadata": {},
   "outputs": [],
   "source": []
  },
  {
   "cell_type": "code",
   "execution_count": null,
   "id": "420e0602",
   "metadata": {},
   "outputs": [],
   "source": []
  },
  {
   "cell_type": "markdown",
   "id": "28706709",
   "metadata": {},
   "source": [
    "# Checking"
   ]
  },
  {
   "cell_type": "code",
   "execution_count": 159,
   "id": "dc4ddad5",
   "metadata": {
    "ExecuteTime": {
     "end_time": "2022-12-07T22:31:23.081688Z",
     "start_time": "2022-12-07T22:31:22.966753Z"
    }
   },
   "outputs": [
    {
     "data": {
      "text/plain": [
       "231639.0         kenneth@123.com\n",
       "231843.0           steve@123.com\n",
       "169379.0    ttevis@tcsllc123.com\n",
       "170792.0       xindongli@123.com\n",
       "196003.0       xindongli@123.com\n",
       "Name: emailaddress1, dtype: object"
      ]
     },
     "execution_count": 159,
     "metadata": {},
     "output_type": "execute_result"
    }
   ],
   "source": [
    "a = crm_lead[crm_lead[\"emailaddress1\"].str.contains(\"123.com\")]\n",
    "a[\"emailaddress1\"].sort_values()"
   ]
  },
  {
   "cell_type": "raw",
   "id": "aff4fc8e",
   "metadata": {
    "ExecuteTime": {
     "end_time": "2022-12-08T15:04:32.879924Z",
     "start_time": "2022-12-08T15:04:32.839028Z"
    }
   },
   "source": [
    "aem_raw.head(40)"
   ]
  },
  {
   "cell_type": "code",
   "execution_count": null,
   "id": "4c7a9359",
   "metadata": {},
   "outputs": [],
   "source": []
  }
 ],
 "metadata": {
  "kernelspec": {
   "display_name": "Python 3 (ipykernel)",
   "language": "python",
   "name": "python3"
  },
  "language_info": {
   "codemirror_mode": {
    "name": "ipython",
    "version": 3
   },
   "file_extension": ".py",
   "mimetype": "text/x-python",
   "name": "python",
   "nbconvert_exporter": "python",
   "pygments_lexer": "ipython3",
   "version": "3.9.7"
  },
  "toc": {
   "base_numbering": 1,
   "nav_menu": {},
   "number_sections": true,
   "sideBar": true,
   "skip_h1_title": false,
   "title_cell": "Table of Contents",
   "title_sidebar": "Contents",
   "toc_cell": false,
   "toc_position": {
    "height": "calc(100% - 180px)",
    "left": "10px",
    "top": "150px",
    "width": "443.821px"
   },
   "toc_section_display": true,
   "toc_window_display": false
  }
 },
 "nbformat": 4,
 "nbformat_minor": 5
}
