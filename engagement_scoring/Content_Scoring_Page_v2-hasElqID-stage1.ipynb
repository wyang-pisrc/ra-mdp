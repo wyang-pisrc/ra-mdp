{
 "cells": [
  {
   "cell_type": "markdown",
   "id": "40fe2f74",
   "metadata": {},
   "source": [
    "# Init"
   ]
  },
  {
   "cell_type": "markdown",
   "id": "d6b62799",
   "metadata": {},
   "source": [
    "## Utils"
   ]
  },
  {
   "cell_type": "code",
   "execution_count": 1,
   "id": "6d8c3275",
   "metadata": {
    "ExecuteTime": {
     "end_time": "2022-12-15T19:23:05.714545Z",
     "start_time": "2022-12-15T19:23:03.661455Z"
    }
   },
   "outputs": [],
   "source": [
    "from contentScoreShareUtils import * "
   ]
  },
  {
   "cell_type": "markdown",
   "id": "d5243ed3",
   "metadata": {},
   "source": [
    "# Data"
   ]
  },
  {
   "cell_type": "markdown",
   "id": "ba5a5d32",
   "metadata": {},
   "source": [
    "## Load Data"
   ]
  },
  {
   "cell_type": "markdown",
   "id": "6a8b329a",
   "metadata": {},
   "source": [
    "### crm Lead\n",
    "- unique EloquaContactId -> do some update on this table for the same ID"
   ]
  },
  {
   "cell_type": "code",
   "execution_count": 210,
   "id": "b9ce2e35",
   "metadata": {
    "ExecuteTime": {
     "end_time": "2022-12-15T20:27:03.246494Z",
     "start_time": "2022-12-15T20:26:53.311848Z"
    },
    "scrolled": true
   },
   "outputs": [],
   "source": [
    "_lead = pd.read_csv(\"crm_Lead_20221116_all.csv\", index_col=0)\n",
    "crm_lead, drop_rows = email_cleanup(_lead, \"emailaddress1\")"
   ]
  },
  {
   "cell_type": "code",
   "execution_count": 206,
   "id": "06f2c69c",
   "metadata": {
    "ExecuteTime": {
     "end_time": "2022-12-15T20:25:19.917118Z",
     "start_time": "2022-12-15T20:25:19.894508Z"
    }
   },
   "outputs": [
    {
     "data": {
      "text/html": [
       "<div>\n",
       "<style scoped>\n",
       "    .dataframe tbody tr th:only-of-type {\n",
       "        vertical-align: middle;\n",
       "    }\n",
       "\n",
       "    .dataframe tbody tr th {\n",
       "        vertical-align: top;\n",
       "    }\n",
       "\n",
       "    .dataframe thead th {\n",
       "        text-align: right;\n",
       "    }\n",
       "</style>\n",
       "<table border=\"1\" class=\"dataframe\">\n",
       "  <thead>\n",
       "    <tr style=\"text-align: right;\">\n",
       "      <th></th>\n",
       "      <th>mcvisid</th>\n",
       "      <th>clean_PageURL</th>\n",
       "      <th>label</th>\n",
       "      <th>PDFurl</th>\n",
       "      <th>BingeScoredAssetPath</th>\n",
       "      <th>BingeId</th>\n",
       "      <th>date</th>\n",
       "      <th>hour</th>\n",
       "      <th>VisitReferrer</th>\n",
       "      <th>VisitorDomain</th>\n",
       "      <th>External_Audience</th>\n",
       "      <th>External_AudienceSegment</th>\n",
       "      <th>External_Industry</th>\n",
       "      <th>External_Website</th>\n",
       "      <th>EloquaContactId</th>\n",
       "      <th>PageURL</th>\n",
       "    </tr>\n",
       "  </thead>\n",
       "  <tbody>\n",
       "    <tr>\n",
       "      <th>0</th>\n",
       "      <td>30945783145456082311535038637351724704</td>\n",
       "      <td>https://www.rockwellautomation.com/company/new...</td>\n",
       "      <td>0</td>\n",
       "      <td>NaN</td>\n",
       "      <td>NaN</td>\n",
       "      <td>NaN</td>\n",
       "      <td>2022-04-01</td>\n",
       "      <td>0</td>\n",
       "      <td>https://www.linkedin.com/</td>\n",
       "      <td>rr.com</td>\n",
       "      <td>NaN</td>\n",
       "      <td>NaN</td>\n",
       "      <td>NaN</td>\n",
       "      <td>NaN</td>\n",
       "      <td>NaN</td>\n",
       "      <td>https://www.rockwellautomation.com/en-ie/compa...</td>\n",
       "    </tr>\n",
       "    <tr>\n",
       "      <th>1</th>\n",
       "      <td>43146640361204765852013242672291690732</td>\n",
       "      <td>https://www.rockwellautomation.com/company/new...</td>\n",
       "      <td>0</td>\n",
       "      <td>NaN</td>\n",
       "      <td>NaN</td>\n",
       "      <td>NaN</td>\n",
       "      <td>2022-04-01</td>\n",
       "      <td>1</td>\n",
       "      <td>https://www.linkedin.com/</td>\n",
       "      <td>rr.com</td>\n",
       "      <td>NaN</td>\n",
       "      <td>NaN</td>\n",
       "      <td>NaN</td>\n",
       "      <td>NaN</td>\n",
       "      <td>NaN</td>\n",
       "      <td>https://www.rockwellautomation.com/en-ie/compa...</td>\n",
       "    </tr>\n",
       "    <tr>\n",
       "      <th>2</th>\n",
       "      <td>25539099043522309800570086951181680840</td>\n",
       "      <td>https://www.rockwellautomation.com/company/new...</td>\n",
       "      <td>0</td>\n",
       "      <td>NaN</td>\n",
       "      <td>NaN</td>\n",
       "      <td>NaN</td>\n",
       "      <td>2022-04-01</td>\n",
       "      <td>8</td>\n",
       "      <td>https://www.linkedin.com/</td>\n",
       "      <td>rockwell.com</td>\n",
       "      <td>Enterprise Business</td>\n",
       "      <td>Manufacturing</td>\n",
       "      <td>Other</td>\n",
       "      <td>rockwellautomation.com</td>\n",
       "      <td>NaN</td>\n",
       "      <td>https://www.rockwellautomation.com/en-ie/compa...</td>\n",
       "    </tr>\n",
       "    <tr>\n",
       "      <th>3</th>\n",
       "      <td>79315873496734908151508282493442642262</td>\n",
       "      <td>https://www.rockwellautomation.com/company/new...</td>\n",
       "      <td>0</td>\n",
       "      <td>NaN</td>\n",
       "      <td>NaN</td>\n",
       "      <td>NaN</td>\n",
       "      <td>2022-04-01</td>\n",
       "      <td>12</td>\n",
       "      <td>https://www.linkedin.com/</td>\n",
       "      <td>sbcglobal.net</td>\n",
       "      <td>NaN</td>\n",
       "      <td>NaN</td>\n",
       "      <td>NaN</td>\n",
       "      <td>NaN</td>\n",
       "      <td>NaN</td>\n",
       "      <td>https://www.rockwellautomation.com/en-ie/compa...</td>\n",
       "    </tr>\n",
       "    <tr>\n",
       "      <th>4</th>\n",
       "      <td>42718639908047569441910988977507100334</td>\n",
       "      <td>https://www.rockwellautomation.com/company/new...</td>\n",
       "      <td>0</td>\n",
       "      <td>NaN</td>\n",
       "      <td>NaN</td>\n",
       "      <td>NaN</td>\n",
       "      <td>2022-04-03</td>\n",
       "      <td>22</td>\n",
       "      <td>https://www.linkedin.com/</td>\n",
       "      <td>sbcglobal.net</td>\n",
       "      <td>SMB</td>\n",
       "      <td>Telecommunications</td>\n",
       "      <td>Other</td>\n",
       "      <td>gpctv.net</td>\n",
       "      <td>NaN</td>\n",
       "      <td>https://www.rockwellautomation.com/en-ie/compa...</td>\n",
       "    </tr>\n",
       "  </tbody>\n",
       "</table>\n",
       "</div>"
      ],
      "text/plain": [
       "                                  mcvisid  \\\n",
       "0  30945783145456082311535038637351724704   \n",
       "1  43146640361204765852013242672291690732   \n",
       "2  25539099043522309800570086951181680840   \n",
       "3  79315873496734908151508282493442642262   \n",
       "4  42718639908047569441910988977507100334   \n",
       "\n",
       "                                       clean_PageURL  label PDFurl  \\\n",
       "0  https://www.rockwellautomation.com/company/new...      0    NaN   \n",
       "1  https://www.rockwellautomation.com/company/new...      0    NaN   \n",
       "2  https://www.rockwellautomation.com/company/new...      0    NaN   \n",
       "3  https://www.rockwellautomation.com/company/new...      0    NaN   \n",
       "4  https://www.rockwellautomation.com/company/new...      0    NaN   \n",
       "\n",
       "  BingeScoredAssetPath BingeId        date  hour              VisitReferrer  \\\n",
       "0                  NaN     NaN  2022-04-01     0  https://www.linkedin.com/   \n",
       "1                  NaN     NaN  2022-04-01     1  https://www.linkedin.com/   \n",
       "2                  NaN     NaN  2022-04-01     8  https://www.linkedin.com/   \n",
       "3                  NaN     NaN  2022-04-01    12  https://www.linkedin.com/   \n",
       "4                  NaN     NaN  2022-04-03    22  https://www.linkedin.com/   \n",
       "\n",
       "   VisitorDomain    External_Audience External_AudienceSegment  \\\n",
       "0         rr.com                  NaN                      NaN   \n",
       "1         rr.com                  NaN                      NaN   \n",
       "2   rockwell.com  Enterprise Business            Manufacturing   \n",
       "3  sbcglobal.net                  NaN                      NaN   \n",
       "4  sbcglobal.net                  SMB       Telecommunications   \n",
       "\n",
       "  External_Industry        External_Website EloquaContactId  \\\n",
       "0               NaN                     NaN             NaN   \n",
       "1               NaN                     NaN             NaN   \n",
       "2             Other  rockwellautomation.com             NaN   \n",
       "3               NaN                     NaN             NaN   \n",
       "4             Other               gpctv.net             NaN   \n",
       "\n",
       "                                             PageURL  \n",
       "0  https://www.rockwellautomation.com/en-ie/compa...  \n",
       "1  https://www.rockwellautomation.com/en-ie/compa...  \n",
       "2  https://www.rockwellautomation.com/en-ie/compa...  \n",
       "3  https://www.rockwellautomation.com/en-ie/compa...  \n",
       "4  https://www.rockwellautomation.com/en-ie/compa...  "
      ]
     },
     "execution_count": 206,
     "metadata": {},
     "output_type": "execute_result"
    }
   ],
   "source": [
    "stage1_raw.head()"
   ]
  },
  {
   "cell_type": "code",
   "execution_count": 214,
   "id": "20783116",
   "metadata": {
    "ExecuteTime": {
     "end_time": "2022-12-15T20:27:25.643817Z",
     "start_time": "2022-12-15T20:27:25.630134Z"
    }
   },
   "outputs": [
    {
     "data": {
      "text/plain": [
       "0                  corautomatica@gmail.com\n",
       "1                   jose.lopez@aschome.com\n",
       "2                 hhf@controlesdisa.com.ar\n",
       "3              dale.kintz@churchdwight.com\n",
       "4         tyson.burman@clearwaterpaper.com\n",
       "                        ...               \n",
       "397168             aheitzenroder@gmail.com\n",
       "397169        robert@automationelecusa.com\n",
       "397170               reeaze.burthun@ceb.mu\n",
       "397171       alejandra_zapata@sia-i.com.mx\n",
       "397172           shernandezt6969@gmail.com\n",
       "Name: EmailAddress, Length: 357963, dtype: object"
      ]
     },
     "execution_count": 214,
     "metadata": {},
     "output_type": "execute_result"
    }
   ],
   "source": [
    "email_mcvisid[\"EmailAddress\"]"
   ]
  },
  {
   "cell_type": "code",
   "execution_count": 215,
   "id": "a6b8fd50",
   "metadata": {
    "ExecuteTime": {
     "end_time": "2022-12-15T20:27:37.323072Z",
     "start_time": "2022-12-15T20:27:37.242234Z"
    }
   },
   "outputs": [
    {
     "data": {
      "text/plain": [
       "0                  corautomatica@gmail.com\n",
       "1                   jose.lopez@aschome.com\n",
       "2                 hhf@controlesdisa.com.ar\n",
       "3              dale.kintz@churchdwight.com\n",
       "4         tyson.burman@clearwaterpaper.com\n",
       "                        ...               \n",
       "397168             aheitzenroder@gmail.com\n",
       "397169        robert@automationelecusa.com\n",
       "397170               reeaze.burthun@ceb.mu\n",
       "397171       alejandra_zapata@sia-i.com.mx\n",
       "397172           shernandezt6969@gmail.com\n",
       "Name: EmailAddress, Length: 295278, dtype: object"
      ]
     },
     "execution_count": 215,
     "metadata": {},
     "output_type": "execute_result"
    }
   ],
   "source": [
    "email_mcvisid[\"EmailAddress\"].drop_duplicates()"
   ]
  },
  {
   "cell_type": "code",
   "execution_count": 212,
   "id": "680c2236",
   "metadata": {
    "ExecuteTime": {
     "end_time": "2022-12-15T20:27:08.457514Z",
     "start_time": "2022-12-15T20:27:07.663800Z"
    }
   },
   "outputs": [
    {
     "data": {
      "text/html": [
       "<div>\n",
       "<style scoped>\n",
       "    .dataframe tbody tr th:only-of-type {\n",
       "        vertical-align: middle;\n",
       "    }\n",
       "\n",
       "    .dataframe tbody tr th {\n",
       "        vertical-align: top;\n",
       "    }\n",
       "\n",
       "    .dataframe thead th {\n",
       "        text-align: right;\n",
       "    }\n",
       "</style>\n",
       "<table border=\"1\" class=\"dataframe\">\n",
       "  <thead>\n",
       "    <tr style=\"text-align: right;\">\n",
       "      <th></th>\n",
       "      <th>accountid</th>\n",
       "      <th>accountidname</th>\n",
       "      <th>address1_addressid</th>\n",
       "      <th>address1_addresstypecode</th>\n",
       "      <th>address1_addresstypecodename</th>\n",
       "      <th>address1_city</th>\n",
       "      <th>address1_country</th>\n",
       "      <th>address1_county</th>\n",
       "      <th>address1_fax</th>\n",
       "      <th>address1_latitude</th>\n",
       "      <th>...</th>\n",
       "      <th>transactioncurrencyid</th>\n",
       "      <th>transactioncurrencyidname</th>\n",
       "      <th>utcconversiontimezonecode</th>\n",
       "      <th>websiteurl</th>\n",
       "      <th>owningbusinessunitname</th>\n",
       "      <th>ra_integrationsource</th>\n",
       "      <th>ra_integrationsourcename</th>\n",
       "      <th>ra_externalrecordid</th>\n",
       "      <th>ra_externalreroute</th>\n",
       "      <th>ra_externalreroutename</th>\n",
       "    </tr>\n",
       "  </thead>\n",
       "  <tbody>\n",
       "    <tr>\n",
       "      <th>0.00000</th>\n",
       "      <td>NaN</td>\n",
       "      <td>NaN</td>\n",
       "      <td>865286E1-4E0E-4F9C-BDC7-14FA231A5529</td>\n",
       "      <td>1.00000</td>\n",
       "      <td>Default Value</td>\n",
       "      <td>Milwaukee</td>\n",
       "      <td>USA</td>\n",
       "      <td>NaN</td>\n",
       "      <td>NaN</td>\n",
       "      <td>NaN</td>\n",
       "      <td>...</td>\n",
       "      <td>2F283B3B-EA62-E611-80E0-C4346BAC8A9C</td>\n",
       "      <td>Dollar</td>\n",
       "      <td>NaN</td>\n",
       "      <td>NaN</td>\n",
       "      <td>NA - SOUTHWEST</td>\n",
       "      <td>NaN</td>\n",
       "      <td>NaN</td>\n",
       "      <td>NaN</td>\n",
       "      <td>NaN</td>\n",
       "      <td>NaN</td>\n",
       "    </tr>\n",
       "    <tr>\n",
       "      <th>1.00000</th>\n",
       "      <td>NaN</td>\n",
       "      <td>NaN</td>\n",
       "      <td>A650131C-38D5-4C8B-A180-A362BECE88A7</td>\n",
       "      <td>1.00000</td>\n",
       "      <td>Default Value</td>\n",
       "      <td>Chomphon</td>\n",
       "      <td>TH /</td>\n",
       "      <td>NaN</td>\n",
       "      <td>NaN</td>\n",
       "      <td>NaN</td>\n",
       "      <td>...</td>\n",
       "      <td>2F283B3B-EA62-E611-80E0-C4346BAC8A9C</td>\n",
       "      <td>Dollar</td>\n",
       "      <td>NaN</td>\n",
       "      <td>NaN</td>\n",
       "      <td>AP</td>\n",
       "      <td>NaN</td>\n",
       "      <td>NaN</td>\n",
       "      <td>NaN</td>\n",
       "      <td>NaN</td>\n",
       "      <td>NaN</td>\n",
       "    </tr>\n",
       "    <tr>\n",
       "      <th>2.00000</th>\n",
       "      <td>NaN</td>\n",
       "      <td>NaN</td>\n",
       "      <td>E8CFA10C-52DF-489E-A977-702231CD514F</td>\n",
       "      <td>1.00000</td>\n",
       "      <td>Default Value</td>\n",
       "      <td>NaN</td>\n",
       "      <td>NaN</td>\n",
       "      <td>NaN</td>\n",
       "      <td>NaN</td>\n",
       "      <td>NaN</td>\n",
       "      <td>...</td>\n",
       "      <td>2F283B3B-EA62-E611-80E0-C4346BAC8A9C</td>\n",
       "      <td>Dollar</td>\n",
       "      <td>NaN</td>\n",
       "      <td>NaN</td>\n",
       "      <td>NA - SOUTHWEST</td>\n",
       "      <td>NaN</td>\n",
       "      <td>NaN</td>\n",
       "      <td>NaN</td>\n",
       "      <td>NaN</td>\n",
       "      <td>NaN</td>\n",
       "    </tr>\n",
       "    <tr>\n",
       "      <th>3.00000</th>\n",
       "      <td>NaN</td>\n",
       "      <td>NaN</td>\n",
       "      <td>DBA40E91-AFE7-46AB-BF13-012A87408A54</td>\n",
       "      <td>1.00000</td>\n",
       "      <td>Default Value</td>\n",
       "      <td>NaN</td>\n",
       "      <td>NaN</td>\n",
       "      <td>NaN</td>\n",
       "      <td>NaN</td>\n",
       "      <td>NaN</td>\n",
       "      <td>...</td>\n",
       "      <td>2F283B3B-EA62-E611-80E0-C4346BAC8A9C</td>\n",
       "      <td>Dollar</td>\n",
       "      <td>NaN</td>\n",
       "      <td>NaN</td>\n",
       "      <td>NA - CENTRAL</td>\n",
       "      <td>NaN</td>\n",
       "      <td>NaN</td>\n",
       "      <td>NaN</td>\n",
       "      <td>NaN</td>\n",
       "      <td>NaN</td>\n",
       "    </tr>\n",
       "    <tr>\n",
       "      <th>4.00000</th>\n",
       "      <td>NaN</td>\n",
       "      <td>NaN</td>\n",
       "      <td>7220A63F-86E9-4D0B-9BDE-F7C0C9E58743</td>\n",
       "      <td>1.00000</td>\n",
       "      <td>Default Value</td>\n",
       "      <td>NaN</td>\n",
       "      <td>NaN</td>\n",
       "      <td>NaN</td>\n",
       "      <td>NaN</td>\n",
       "      <td>NaN</td>\n",
       "      <td>...</td>\n",
       "      <td>2F283B3B-EA62-E611-80E0-C4346BAC8A9C</td>\n",
       "      <td>Dollar</td>\n",
       "      <td>NaN</td>\n",
       "      <td>NaN</td>\n",
       "      <td>NA - CENTRAL</td>\n",
       "      <td>NaN</td>\n",
       "      <td>NaN</td>\n",
       "      <td>NaN</td>\n",
       "      <td>NaN</td>\n",
       "      <td>NaN</td>\n",
       "    </tr>\n",
       "    <tr>\n",
       "      <th>...</th>\n",
       "      <td>...</td>\n",
       "      <td>...</td>\n",
       "      <td>...</td>\n",
       "      <td>...</td>\n",
       "      <td>...</td>\n",
       "      <td>...</td>\n",
       "      <td>...</td>\n",
       "      <td>...</td>\n",
       "      <td>...</td>\n",
       "      <td>...</td>\n",
       "      <td>...</td>\n",
       "      <td>...</td>\n",
       "      <td>...</td>\n",
       "      <td>...</td>\n",
       "      <td>...</td>\n",
       "      <td>...</td>\n",
       "      <td>...</td>\n",
       "      <td>...</td>\n",
       "      <td>...</td>\n",
       "      <td>...</td>\n",
       "      <td>...</td>\n",
       "    </tr>\n",
       "    <tr>\n",
       "      <th>254485.00000</th>\n",
       "      <td>NaN</td>\n",
       "      <td>NaN</td>\n",
       "      <td>F39C3292-C527-47BC-98BB-39C2CD526A53</td>\n",
       "      <td>1.00000</td>\n",
       "      <td>Default Value</td>\n",
       "      <td>NaN</td>\n",
       "      <td>NaN</td>\n",
       "      <td>NaN</td>\n",
       "      <td>NaN</td>\n",
       "      <td>NaN</td>\n",
       "      <td>...</td>\n",
       "      <td>2F283B3B-EA62-E611-80E0-C4346BAC8A9C</td>\n",
       "      <td>Dollar</td>\n",
       "      <td>NaN</td>\n",
       "      <td>NaN</td>\n",
       "      <td>AP</td>\n",
       "      <td>NaN</td>\n",
       "      <td>NaN</td>\n",
       "      <td>NaN</td>\n",
       "      <td>NaN</td>\n",
       "      <td>NaN</td>\n",
       "    </tr>\n",
       "    <tr>\n",
       "      <th>254486.00000</th>\n",
       "      <td>NaN</td>\n",
       "      <td>NaN</td>\n",
       "      <td>E03140FC-7D02-4E78-88F8-F508442BBC5E</td>\n",
       "      <td>1.00000</td>\n",
       "      <td>Default Value</td>\n",
       "      <td>Dalat City</td>\n",
       "      <td>NaN</td>\n",
       "      <td>NaN</td>\n",
       "      <td>NaN</td>\n",
       "      <td>NaN</td>\n",
       "      <td>...</td>\n",
       "      <td>2F283B3B-EA62-E611-80E0-C4346BAC8A9C</td>\n",
       "      <td>Dollar</td>\n",
       "      <td>NaN</td>\n",
       "      <td>NaN</td>\n",
       "      <td>AP</td>\n",
       "      <td>NaN</td>\n",
       "      <td>NaN</td>\n",
       "      <td>NaN</td>\n",
       "      <td>NaN</td>\n",
       "      <td>NaN</td>\n",
       "    </tr>\n",
       "    <tr>\n",
       "      <th>254487.00000</th>\n",
       "      <td>NaN</td>\n",
       "      <td>NaN</td>\n",
       "      <td>4D541AD8-B2DE-42EC-9E9E-34959B93DA5F</td>\n",
       "      <td>1.00000</td>\n",
       "      <td>Default Value</td>\n",
       "      <td>ORLEANS</td>\n",
       "      <td>FR /</td>\n",
       "      <td>NaN</td>\n",
       "      <td>NaN</td>\n",
       "      <td>NaN</td>\n",
       "      <td>...</td>\n",
       "      <td>2F283B3B-EA62-E611-80E0-C4346BAC8A9C</td>\n",
       "      <td>Dollar</td>\n",
       "      <td>NaN</td>\n",
       "      <td>NaN</td>\n",
       "      <td>EMEA</td>\n",
       "      <td>NaN</td>\n",
       "      <td>NaN</td>\n",
       "      <td>NaN</td>\n",
       "      <td>NaN</td>\n",
       "      <td>NaN</td>\n",
       "    </tr>\n",
       "    <tr>\n",
       "      <th>254488.00000</th>\n",
       "      <td>NaN</td>\n",
       "      <td>NaN</td>\n",
       "      <td>11A31F75-8D21-4149-B52B-270B6A9DB807</td>\n",
       "      <td>1.00000</td>\n",
       "      <td>Default Value</td>\n",
       "      <td>Singapore</td>\n",
       "      <td>Singapore</td>\n",
       "      <td>NaN</td>\n",
       "      <td>NaN</td>\n",
       "      <td>NaN</td>\n",
       "      <td>...</td>\n",
       "      <td>2F283B3B-EA62-E611-80E0-C4346BAC8A9C</td>\n",
       "      <td>Dollar</td>\n",
       "      <td>NaN</td>\n",
       "      <td>NaN</td>\n",
       "      <td>AP</td>\n",
       "      <td>NaN</td>\n",
       "      <td>NaN</td>\n",
       "      <td>NaN</td>\n",
       "      <td>NaN</td>\n",
       "      <td>NaN</td>\n",
       "    </tr>\n",
       "    <tr>\n",
       "      <th>254489.00000</th>\n",
       "      <td>NaN</td>\n",
       "      <td>NaN</td>\n",
       "      <td>283F71AD-888E-41F9-B39B-746746DC516E</td>\n",
       "      <td>1.00000</td>\n",
       "      <td>Default Value</td>\n",
       "      <td>NaN</td>\n",
       "      <td>NaN</td>\n",
       "      <td>NaN</td>\n",
       "      <td>NaN</td>\n",
       "      <td>NaN</td>\n",
       "      <td>...</td>\n",
       "      <td>2F283B3B-EA62-E611-80E0-C4346BAC8A9C</td>\n",
       "      <td>Dollar</td>\n",
       "      <td>NaN</td>\n",
       "      <td>NaN</td>\n",
       "      <td>AP</td>\n",
       "      <td>NaN</td>\n",
       "      <td>NaN</td>\n",
       "      <td>NaN</td>\n",
       "      <td>NaN</td>\n",
       "      <td>NaN</td>\n",
       "    </tr>\n",
       "  </tbody>\n",
       "</table>\n",
       "<p>183435 rows × 313 columns</p>\n",
       "</div>"
      ],
      "text/plain": [
       "              accountid  accountidname                    address1_addressid  \\\n",
       "0.00000             NaN            NaN  865286E1-4E0E-4F9C-BDC7-14FA231A5529   \n",
       "1.00000             NaN            NaN  A650131C-38D5-4C8B-A180-A362BECE88A7   \n",
       "2.00000             NaN            NaN  E8CFA10C-52DF-489E-A977-702231CD514F   \n",
       "3.00000             NaN            NaN  DBA40E91-AFE7-46AB-BF13-012A87408A54   \n",
       "4.00000             NaN            NaN  7220A63F-86E9-4D0B-9BDE-F7C0C9E58743   \n",
       "...                 ...            ...                                   ...   \n",
       "254485.00000        NaN            NaN  F39C3292-C527-47BC-98BB-39C2CD526A53   \n",
       "254486.00000        NaN            NaN  E03140FC-7D02-4E78-88F8-F508442BBC5E   \n",
       "254487.00000        NaN            NaN  4D541AD8-B2DE-42EC-9E9E-34959B93DA5F   \n",
       "254488.00000        NaN            NaN  11A31F75-8D21-4149-B52B-270B6A9DB807   \n",
       "254489.00000        NaN            NaN  283F71AD-888E-41F9-B39B-746746DC516E   \n",
       "\n",
       "              address1_addresstypecode address1_addresstypecodename  \\\n",
       "0.00000                        1.00000                Default Value   \n",
       "1.00000                        1.00000                Default Value   \n",
       "2.00000                        1.00000                Default Value   \n",
       "3.00000                        1.00000                Default Value   \n",
       "4.00000                        1.00000                Default Value   \n",
       "...                                ...                          ...   \n",
       "254485.00000                   1.00000                Default Value   \n",
       "254486.00000                   1.00000                Default Value   \n",
       "254487.00000                   1.00000                Default Value   \n",
       "254488.00000                   1.00000                Default Value   \n",
       "254489.00000                   1.00000                Default Value   \n",
       "\n",
       "             address1_city address1_country address1_county address1_fax  \\\n",
       "0.00000          Milwaukee              USA             NaN          NaN   \n",
       "1.00000           Chomphon            TH /              NaN          NaN   \n",
       "2.00000                NaN              NaN             NaN          NaN   \n",
       "3.00000                NaN              NaN             NaN          NaN   \n",
       "4.00000                NaN              NaN             NaN          NaN   \n",
       "...                    ...              ...             ...          ...   \n",
       "254485.00000           NaN              NaN             NaN          NaN   \n",
       "254486.00000    Dalat City              NaN             NaN          NaN   \n",
       "254487.00000       ORLEANS            FR /              NaN          NaN   \n",
       "254488.00000     Singapore        Singapore             NaN          NaN   \n",
       "254489.00000           NaN              NaN             NaN          NaN   \n",
       "\n",
       "              address1_latitude  ...                 transactioncurrencyid  \\\n",
       "0.00000                     NaN  ...  2F283B3B-EA62-E611-80E0-C4346BAC8A9C   \n",
       "1.00000                     NaN  ...  2F283B3B-EA62-E611-80E0-C4346BAC8A9C   \n",
       "2.00000                     NaN  ...  2F283B3B-EA62-E611-80E0-C4346BAC8A9C   \n",
       "3.00000                     NaN  ...  2F283B3B-EA62-E611-80E0-C4346BAC8A9C   \n",
       "4.00000                     NaN  ...  2F283B3B-EA62-E611-80E0-C4346BAC8A9C   \n",
       "...                         ...  ...                                   ...   \n",
       "254485.00000                NaN  ...  2F283B3B-EA62-E611-80E0-C4346BAC8A9C   \n",
       "254486.00000                NaN  ...  2F283B3B-EA62-E611-80E0-C4346BAC8A9C   \n",
       "254487.00000                NaN  ...  2F283B3B-EA62-E611-80E0-C4346BAC8A9C   \n",
       "254488.00000                NaN  ...  2F283B3B-EA62-E611-80E0-C4346BAC8A9C   \n",
       "254489.00000                NaN  ...  2F283B3B-EA62-E611-80E0-C4346BAC8A9C   \n",
       "\n",
       "             transactioncurrencyidname utcconversiontimezonecode  websiteurl  \\\n",
       "0.00000                         Dollar                       NaN         NaN   \n",
       "1.00000                         Dollar                       NaN         NaN   \n",
       "2.00000                         Dollar                       NaN         NaN   \n",
       "3.00000                         Dollar                       NaN         NaN   \n",
       "4.00000                         Dollar                       NaN         NaN   \n",
       "...                                ...                       ...         ...   \n",
       "254485.00000                    Dollar                       NaN         NaN   \n",
       "254486.00000                    Dollar                       NaN         NaN   \n",
       "254487.00000                    Dollar                       NaN         NaN   \n",
       "254488.00000                    Dollar                       NaN         NaN   \n",
       "254489.00000                    Dollar                       NaN         NaN   \n",
       "\n",
       "             owningbusinessunitname ra_integrationsource  \\\n",
       "0.00000              NA - SOUTHWEST                  NaN   \n",
       "1.00000                          AP                  NaN   \n",
       "2.00000              NA - SOUTHWEST                  NaN   \n",
       "3.00000                NA - CENTRAL                  NaN   \n",
       "4.00000                NA - CENTRAL                  NaN   \n",
       "...                             ...                  ...   \n",
       "254485.00000                     AP                  NaN   \n",
       "254486.00000                     AP                  NaN   \n",
       "254487.00000                   EMEA                  NaN   \n",
       "254488.00000                     AP                  NaN   \n",
       "254489.00000                     AP                  NaN   \n",
       "\n",
       "             ra_integrationsourcename  ra_externalrecordid ra_externalreroute  \\\n",
       "0.00000                           NaN                  NaN                NaN   \n",
       "1.00000                           NaN                  NaN                NaN   \n",
       "2.00000                           NaN                  NaN                NaN   \n",
       "3.00000                           NaN                  NaN                NaN   \n",
       "4.00000                           NaN                  NaN                NaN   \n",
       "...                               ...                  ...                ...   \n",
       "254485.00000                      NaN                  NaN                NaN   \n",
       "254486.00000                      NaN                  NaN                NaN   \n",
       "254487.00000                      NaN                  NaN                NaN   \n",
       "254488.00000                      NaN                  NaN                NaN   \n",
       "254489.00000                      NaN                  NaN                NaN   \n",
       "\n",
       "             ra_externalreroutename  \n",
       "0.00000                         NaN  \n",
       "1.00000                         NaN  \n",
       "2.00000                         NaN  \n",
       "3.00000                         NaN  \n",
       "4.00000                         NaN  \n",
       "...                             ...  \n",
       "254485.00000                    NaN  \n",
       "254486.00000                    NaN  \n",
       "254487.00000                    NaN  \n",
       "254488.00000                    NaN  \n",
       "254489.00000                    NaN  \n",
       "\n",
       "[183435 rows x 313 columns]"
      ]
     },
     "execution_count": 212,
     "metadata": {},
     "output_type": "execute_result"
    }
   ],
   "source": [
    "crm_lead"
   ]
  },
  {
   "cell_type": "code",
   "execution_count": null,
   "id": "87065ed4",
   "metadata": {},
   "outputs": [],
   "source": []
  },
  {
   "cell_type": "code",
   "execution_count": null,
   "id": "f750b48d",
   "metadata": {},
   "outputs": [],
   "source": []
  },
  {
   "cell_type": "markdown",
   "id": "871c0335",
   "metadata": {
    "ExecuteTime": {
     "end_time": "2022-12-07T21:11:39.137646Z",
     "start_time": "2022-12-07T21:11:39.131786Z"
    }
   },
   "source": [
    "### elo.contact (mcvisid_elqid_email)\n",
    "- conclusion\n",
    "    - every elqid should have a matched email. \n",
    "    - every elqid is corresponding with one Form. So, one visitor can have multiple elqid\n",
    "    - not all the email can be found on CRM.Lead table\n",
    "    - <font color=red>if shared EloquaContactId or EmailAddress = aggregate as one User (not handle yet)</font>\n",
    "- Latest one month\n",
    "    - <font color=red>all mcvisid in mcvisid_elqid_email are the positive signal: </font>\n",
    "    - all other mcvisid not in mcvisid_elqid_email but in aem_raw is the negative signal: \n",
    "    \n",
    "- mcvisid_elqid_email_all: no time range selection\n",
    "\n",
    "<!-- WITH TMP1 AS (\n",
    "SELECT DISTINCT [EloquaContactId], [mcvisid]\n",
    "FROM [Staging].[aem].[RawTraffic]\n",
    "WHERE EloquaContactId <> ''\n",
    "), \n",
    "\n",
    "TMP2 AS (\n",
    "SELECT DISTINCT  TMP1.[mcvisid], elq.EloquaContactId, LOWER(elq.[EmailAddress]) AS \"EmailAddress\"\n",
    "FROM [Staging].[elq].[Contact] AS elq\n",
    "INNER JOIN TMP1 ON TMP1.EloquaContactId = elq.EloquaContactId\n",
    "WHERE elq.EloquaContactId <> ''\n",
    ")\n",
    "\n",
    "SELECT *\n",
    "FROM TMP2 -->\n",
    "\n",
    "- mcvisid_elqid_email_all: VisitStartDateTime > '2022-04-21'\n",
    "\n",
    "\n",
    "<!-- WITH TMP1 AS (\n",
    "SELECT DISTINCT [EloquaContactId], [mcvisid]\n",
    "FROM [Staging].[aem].[RawTraffic]\n",
    "WHERE EloquaContactId <> '' AND VisitStartDateTime > '2022-04-21'\n",
    "), \n",
    "\n",
    "TMP2 AS (\n",
    "SELECT DISTINCT  TMP1.[mcvisid], elq.EloquaContactId, LOWER(elq.[EmailAddress]) AS \"EmailAddress\"\n",
    "FROM [Staging].[elq].[Contact] AS elq\n",
    "INNER JOIN TMP1 ON TMP1.EloquaContactId = elq.EloquaContactId\n",
    "WHERE elq.EloquaContactId <> ''\n",
    ")\n",
    "\n",
    "SELECT *\n",
    "FROM TMP2 -->"
   ]
  },
  {
   "cell_type": "code",
   "execution_count": 2,
   "id": "2026c0fd",
   "metadata": {
    "ExecuteTime": {
     "end_time": "2022-12-15T19:23:07.090749Z",
     "start_time": "2022-12-15T19:23:05.745975Z"
    }
   },
   "outputs": [],
   "source": [
    "email_mcvisid = pd.read_csv(\"mcvisid_elqid_email_all.csv\")\n",
    "email_mcvisid, drop_mcvisid = email_cleanup(email_mcvisid, \"EmailAddress\")\n",
    "positive_mcvisid = email_mcvisid[\"mcvisid\"].drop_duplicates() ## all along the past, if mcvisid existed with corresponding elqid, then it is positive sigal"
   ]
  },
  {
   "cell_type": "code",
   "execution_count": 4,
   "id": "60906ccb",
   "metadata": {
    "ExecuteTime": {
     "end_time": "2022-12-12T20:19:30.721454Z",
     "start_time": "2022-12-12T20:19:30.719600Z"
    }
   },
   "outputs": [],
   "source": [
    "# email_mcvisid.groupby(\"EmailAddress\").size().sort_values()\n",
    "# b =  email_mcvisid.groupby(\"EloquaContactId\").size().sort_values()\n",
    "# email_mcvisid[email_mcvisid[\"EloquaContactId\"].isin(b[b>2].index)].sort_values(\"EloquaContactId\")\n",
    "\n",
    "# c = email_mcvisid.groupby(\"mcvisid\").size().sort_values()\n",
    "# email_mcvisid[email_mcvisid[\"mcvisid\"].isin(a[a>2].index)].sort_values(\"mcvisid\")"
   ]
  },
  {
   "cell_type": "markdown",
   "id": "c11e97bb",
   "metadata": {},
   "source": [
    "### AEM.raw \n",
    "```python\n",
    "'SessionVisitorId', 'VisitPageNumber', 'VisitNumber', 'NewVisit',\n",
    "'EventList', 'DateTime_UTC', 'PageURL', 'VisitReferrer',\n",
    "'VisitReferrerType', 'VisitorDomain', 'External_Audience',\n",
    "'External_AudienceSegment', 'External_Industry', 'External_Website',\n",
    "'EloquaContactId', 'EloquaGUID', 'mcvisid', 'GeoCity', 'GeoCountry',\n",
    "'GeoRegion', 'PDFurl', 'PDFpagecount', 'BingeId', 'BingeCriticalScore',\n",
    "'BingeScoredAssetPath', 'BingeScoredAssetScore', 'date', 'hour',\n",
    "'clean_PageURL', 'label'\n",
    "```"
   ]
  },
  {
   "cell_type": "code",
   "execution_count": 4,
   "id": "56b08b8b",
   "metadata": {
    "ExecuteTime": {
     "end_time": "2022-12-15T19:23:22.671135Z",
     "start_time": "2022-12-15T19:23:22.665541Z"
    }
   },
   "outputs": [],
   "source": [
    "usecols = [\n",
    "    \"mcvisid\", \"clean_PageURL\", \"label\", \"PDFurl\", \"BingeScoredAssetPath\", \"BingeId\", \"date\", \"hour\",\n",
    "    \"VisitReferrer\", \"VisitorDomain\", 'External_Audience',\n",
    "    'External_AudienceSegment', 'External_Industry', 'External_Website',\n",
    "    \"EloquaContactId\", \"PageURL\"\n",
    "]"
   ]
  },
  {
   "cell_type": "code",
   "execution_count": 5,
   "id": "d8437d96",
   "metadata": {
    "ExecuteTime": {
     "end_time": "2022-12-15T19:23:57.046685Z",
     "start_time": "2022-12-15T19:23:22.866427Z"
    }
   },
   "outputs": [],
   "source": [
    "# aem_raw = load_csv_batches(glob_pattern=\"./aem_raw/*.csv\", num=2, keep=\"last\") \n",
    "aem_raw = pd.read_csv(\"stage1_raw_v1.1.csv\", nrows=None, usecols=usecols)\n",
    "stage1_raw = aem_raw"
   ]
  },
  {
   "cell_type": "code",
   "execution_count": 6,
   "id": "a797f9f6",
   "metadata": {
    "ExecuteTime": {
     "end_time": "2022-12-15T19:24:00.140137Z",
     "start_time": "2022-12-15T19:23:57.047934Z"
    }
   },
   "outputs": [
    {
     "data": {
      "text/html": [
       "<div>\n",
       "<style scoped>\n",
       "    .dataframe tbody tr th:only-of-type {\n",
       "        vertical-align: middle;\n",
       "    }\n",
       "\n",
       "    .dataframe tbody tr th {\n",
       "        vertical-align: top;\n",
       "    }\n",
       "\n",
       "    .dataframe thead th {\n",
       "        text-align: right;\n",
       "    }\n",
       "</style>\n",
       "<table border=\"1\" class=\"dataframe\">\n",
       "  <thead>\n",
       "    <tr style=\"text-align: right;\">\n",
       "      <th></th>\n",
       "      <th>page_visit_count</th>\n",
       "    </tr>\n",
       "    <tr>\n",
       "      <th>clean_PageURL</th>\n",
       "      <th></th>\n",
       "    </tr>\n",
       "  </thead>\n",
       "  <tbody>\n",
       "    <tr>\n",
       "      <th>https://www.rockwellautomation.com/products/details.440T-MSTUE110B</th>\n",
       "      <td>1</td>\n",
       "    </tr>\n",
       "    <tr>\n",
       "      <th>https://www.rockwellautomation.com/products/details.800A-C2CC4LC</th>\n",
       "      <td>1</td>\n",
       "    </tr>\n",
       "    <tr>\n",
       "      <th>https://www.rockwellautomation.com/products/details.800A-C2CC2L</th>\n",
       "      <td>1</td>\n",
       "    </tr>\n",
       "    <tr>\n",
       "      <th>https://www.rockwellautomation.com/products/details.800A-C2CC24C</th>\n",
       "      <td>1</td>\n",
       "    </tr>\n",
       "    <tr>\n",
       "      <th>https://www.rockwellautomation.com/products/details.800A-C2CC24</th>\n",
       "      <td>1</td>\n",
       "    </tr>\n",
       "    <tr>\n",
       "      <th>...</th>\n",
       "      <td>...</td>\n",
       "    </tr>\n",
       "    <tr>\n",
       "      <th>https://www.rockwellautomation.com/support</th>\n",
       "      <td>232691</td>\n",
       "    </tr>\n",
       "    <tr>\n",
       "      <th>https://www.rockwellautomation.com/products/hardware/allen-bradley</th>\n",
       "      <td>677975</td>\n",
       "    </tr>\n",
       "    <tr>\n",
       "      <th>https://www.rockwellautomation.com/en-us</th>\n",
       "      <td>1347109</td>\n",
       "    </tr>\n",
       "    <tr>\n",
       "      <th>https://www.rockwellautomation.com/lang-selection</th>\n",
       "      <td>1404213</td>\n",
       "    </tr>\n",
       "    <tr>\n",
       "      <th>https://www.rockwellautomation.com/search</th>\n",
       "      <td>1738860</td>\n",
       "    </tr>\n",
       "  </tbody>\n",
       "</table>\n",
       "<p>462480 rows × 1 columns</p>\n",
       "</div>"
      ],
      "text/plain": [
       "                                                    page_visit_count\n",
       "clean_PageURL                                                       \n",
       "https://www.rockwellautomation.com/products/det...                 1\n",
       "https://www.rockwellautomation.com/products/det...                 1\n",
       "https://www.rockwellautomation.com/products/det...                 1\n",
       "https://www.rockwellautomation.com/products/det...                 1\n",
       "https://www.rockwellautomation.com/products/det...                 1\n",
       "...                                                              ...\n",
       "https://www.rockwellautomation.com/support                    232691\n",
       "https://www.rockwellautomation.com/products/har...            677975\n",
       "https://www.rockwellautomation.com/en-us                     1347109\n",
       "https://www.rockwellautomation.com/lang-selection            1404213\n",
       "https://www.rockwellautomation.com/search                    1738860\n",
       "\n",
       "[462480 rows x 1 columns]"
      ]
     },
     "execution_count": 6,
     "metadata": {},
     "output_type": "execute_result"
    }
   ],
   "source": [
    "view3 = stage1_raw.groupby(\"clean_PageURL\")[\"mcvisid\"].count().rename(\"page_visit_count\").to_frame()\n",
    "view3.sort_values(by=\"page_visit_count\")"
   ]
  },
  {
   "cell_type": "code",
   "execution_count": 13,
   "id": "7322744f",
   "metadata": {
    "ExecuteTime": {
     "end_time": "2022-12-15T19:25:08.187333Z",
     "start_time": "2022-12-15T19:25:08.172103Z"
    }
   },
   "outputs": [
    {
     "data": {
      "text/html": [
       "<div>\n",
       "<style scoped>\n",
       "    .dataframe tbody tr th:only-of-type {\n",
       "        vertical-align: middle;\n",
       "    }\n",
       "\n",
       "    .dataframe tbody tr th {\n",
       "        vertical-align: top;\n",
       "    }\n",
       "\n",
       "    .dataframe thead th {\n",
       "        text-align: right;\n",
       "    }\n",
       "</style>\n",
       "<table border=\"1\" class=\"dataframe\">\n",
       "  <thead>\n",
       "    <tr style=\"text-align: right;\">\n",
       "      <th></th>\n",
       "      <th>page_visit_count</th>\n",
       "    </tr>\n",
       "    <tr>\n",
       "      <th>clean_PageURL</th>\n",
       "      <th></th>\n",
       "    </tr>\n",
       "  </thead>\n",
       "  <tbody>\n",
       "    <tr>\n",
       "      <th>https://www.rockwellautomation.com/company/events/in-person-events/automation-fair</th>\n",
       "      <td>108723</td>\n",
       "    </tr>\n",
       "    <tr>\n",
       "      <th>https://www.rockwellautomation.com/products/software/factorytalk</th>\n",
       "      <td>116044</td>\n",
       "    </tr>\n",
       "    <tr>\n",
       "      <th>https://www.rockwellautomation.com/sales</th>\n",
       "      <td>124975</td>\n",
       "    </tr>\n",
       "    <tr>\n",
       "      <th>https://www.rockwellautomation.com/products/hardware/allen-bradley/programmable-controllers</th>\n",
       "      <td>135873</td>\n",
       "    </tr>\n",
       "    <tr>\n",
       "      <th>https://www.rockwellautomation.com</th>\n",
       "      <td>139829</td>\n",
       "    </tr>\n",
       "    <tr>\n",
       "      <th>https://www.rockwellautomation.com/support/product/product-compatibility-migration/product-lifecycle-status</th>\n",
       "      <td>155410</td>\n",
       "    </tr>\n",
       "    <tr>\n",
       "      <th>https://www.rockwellautomation.com/support/documentation/literature-library</th>\n",
       "      <td>155754</td>\n",
       "    </tr>\n",
       "    <tr>\n",
       "      <th>https://www.rockwellautomation.com/products</th>\n",
       "      <td>156632</td>\n",
       "    </tr>\n",
       "    <tr>\n",
       "      <th>https://www.rockwellautomation.com/company/about-us</th>\n",
       "      <td>165237</td>\n",
       "    </tr>\n",
       "    <tr>\n",
       "      <th>https://www.rockwellautomation.com/support/product/product-downloads</th>\n",
       "      <td>175463</td>\n",
       "    </tr>\n",
       "    <tr>\n",
       "      <th>https://www.rockwellautomation.com/support</th>\n",
       "      <td>232691</td>\n",
       "    </tr>\n",
       "    <tr>\n",
       "      <th>https://www.rockwellautomation.com/products/hardware/allen-bradley</th>\n",
       "      <td>677975</td>\n",
       "    </tr>\n",
       "    <tr>\n",
       "      <th>https://www.rockwellautomation.com/en-us</th>\n",
       "      <td>1347109</td>\n",
       "    </tr>\n",
       "    <tr>\n",
       "      <th>https://www.rockwellautomation.com/lang-selection</th>\n",
       "      <td>1404213</td>\n",
       "    </tr>\n",
       "    <tr>\n",
       "      <th>https://www.rockwellautomation.com/search</th>\n",
       "      <td>1738860</td>\n",
       "    </tr>\n",
       "  </tbody>\n",
       "</table>\n",
       "</div>"
      ],
      "text/plain": [
       "                                                    page_visit_count\n",
       "clean_PageURL                                                       \n",
       "https://www.rockwellautomation.com/company/even...            108723\n",
       "https://www.rockwellautomation.com/products/sof...            116044\n",
       "https://www.rockwellautomation.com/sales                      124975\n",
       "https://www.rockwellautomation.com/products/har...            135873\n",
       "https://www.rockwellautomation.com                            139829\n",
       "https://www.rockwellautomation.com/support/prod...            155410\n",
       "https://www.rockwellautomation.com/support/docu...            155754\n",
       "https://www.rockwellautomation.com/products                   156632\n",
       "https://www.rockwellautomation.com/company/abou...            165237\n",
       "https://www.rockwellautomation.com/support/prod...            175463\n",
       "https://www.rockwellautomation.com/support                    232691\n",
       "https://www.rockwellautomation.com/products/har...            677975\n",
       "https://www.rockwellautomation.com/en-us                     1347109\n",
       "https://www.rockwellautomation.com/lang-selection            1404213\n",
       "https://www.rockwellautomation.com/search                    1738860"
      ]
     },
     "execution_count": 13,
     "metadata": {},
     "output_type": "execute_result"
    }
   ],
   "source": [
    "view3[view3[\"page_visit_count\"]>100000].sort_values(\"page_visit_count\")"
   ]
  },
  {
   "cell_type": "code",
   "execution_count": 15,
   "id": "e265108c",
   "metadata": {
    "ExecuteTime": {
     "end_time": "2022-12-15T19:25:19.088230Z",
     "start_time": "2022-12-15T19:25:19.067828Z"
    }
   },
   "outputs": [
    {
     "data": {
      "text/plain": [
       "count   19590.00000\n",
       "mean      373.29632\n",
       "std      2393.07215\n",
       "min        11.00000\n",
       "25%        17.00000\n",
       "50%        33.00000\n",
       "75%       101.00000\n",
       "max     87730.00000\n",
       "Name: page_visit_count, dtype: float64"
      ]
     },
     "execution_count": 15,
     "metadata": {},
     "output_type": "execute_result"
    }
   ],
   "source": [
    "view4 = view3[(view3[\"page_visit_count\"]>10) & (view3[\"page_visit_count\"]<100000)]\n",
    "view4[\"page_visit_count\"].describe()"
   ]
  },
  {
   "cell_type": "markdown",
   "id": "92ff5ed3",
   "metadata": {},
   "source": [
    "## Summary\n",
    "positive_mcvisid is all the valid mcvisid that has elqID in AEM Raw"
   ]
  },
  {
   "cell_type": "markdown",
   "id": "292223f1",
   "metadata": {},
   "source": [
    "### unique version"
   ]
  },
  {
   "cell_type": "code",
   "execution_count": 16,
   "id": "794f1de7",
   "metadata": {
    "ExecuteTime": {
     "end_time": "2022-12-15T19:26:00.369010Z",
     "start_time": "2022-12-15T19:25:53.484204Z"
    }
   },
   "outputs": [
    {
     "data": {
      "text/html": [
       "<div>\n",
       "<style scoped>\n",
       "    .dataframe tbody tr th:only-of-type {\n",
       "        vertical-align: middle;\n",
       "    }\n",
       "\n",
       "    .dataframe tbody tr th {\n",
       "        vertical-align: top;\n",
       "    }\n",
       "\n",
       "    .dataframe thead th {\n",
       "        text-align: right;\n",
       "    }\n",
       "</style>\n",
       "<table border=\"1\" class=\"dataframe\">\n",
       "  <thead>\n",
       "    <tr style=\"text-align: right;\">\n",
       "      <th></th>\n",
       "      <th>mcvisid</th>\n",
       "      <th>mcvisid</th>\n",
       "    </tr>\n",
       "  </thead>\n",
       "  <tbody>\n",
       "    <tr>\n",
       "      <th>False</th>\n",
       "      <td>5213220</td>\n",
       "      <td>0.97178</td>\n",
       "    </tr>\n",
       "    <tr>\n",
       "      <th>True</th>\n",
       "      <td>151389</td>\n",
       "      <td>0.02822</td>\n",
       "    </tr>\n",
       "  </tbody>\n",
       "</table>\n",
       "</div>"
      ],
      "text/plain": [
       "       mcvisid  mcvisid\n",
       "False  5213220  0.97178\n",
       "True    151389  0.02822"
      ]
     },
     "execution_count": 16,
     "metadata": {},
     "output_type": "execute_result"
    }
   ],
   "source": [
    "month_mcvisid = stage1_raw[\"mcvisid\"].drop_duplicates()\n",
    "labels = month_mcvisid.isin(positive_mcvisid)\n",
    "freq = labels.value_counts()\n",
    "view_mcvisid = pd.concat([freq,freq/freq.sum()], axis=1)\n",
    "view_mcvisid"
   ]
  },
  {
   "cell_type": "markdown",
   "id": "c038595e",
   "metadata": {},
   "source": [
    "#### monthly result"
   ]
  },
  {
   "cell_type": "code",
   "execution_count": null,
   "id": "6a096b51",
   "metadata": {},
   "outputs": [],
   "source": []
  },
  {
   "cell_type": "code",
   "execution_count": null,
   "id": "e27183c0",
   "metadata": {},
   "outputs": [],
   "source": []
  },
  {
   "cell_type": "markdown",
   "id": "8b2cccfb",
   "metadata": {},
   "source": [
    "### non-unique version"
   ]
  },
  {
   "cell_type": "code",
   "execution_count": 24,
   "id": "988c53f3",
   "metadata": {
    "ExecuteTime": {
     "end_time": "2022-12-15T08:01:20.841513Z",
     "start_time": "2022-12-15T08:01:20.831375Z"
    }
   },
   "outputs": [],
   "source": [
    "# labels = stage1_raw[\"mcvisid\"].isin(positive_mcvisid)\n",
    "# freq = labels.value_counts()\n",
    "# view_mcvisid = pd.concat([freq,freq/freq.sum()], axis=1)\n",
    "# view_mcvisid"
   ]
  },
  {
   "cell_type": "code",
   "execution_count": 17,
   "id": "e46b7e1e",
   "metadata": {
    "ExecuteTime": {
     "end_time": "2022-12-15T19:26:15.263465Z",
     "start_time": "2022-12-15T19:26:10.351719Z"
    }
   },
   "outputs": [],
   "source": [
    "total = stage1_raw.groupby(\"clean_PageURL\").size().rename(\"total\")\n",
    "pos = stage1_raw.groupby(\"clean_PageURL\")[\"label\"].sum().rename(\"positive\")\n",
    "aa = pd.concat([total, pos], axis=1)\n",
    "aa[\"ratio\"] = aa[\"positive\"]/aa[\"total\"]\n",
    "aa[\"negative\"] = aa[\"total\"] - aa[\"positive\"]"
   ]
  },
  {
   "cell_type": "code",
   "execution_count": 18,
   "id": "f2281bb9",
   "metadata": {
    "ExecuteTime": {
     "end_time": "2022-12-15T19:26:15.280165Z",
     "start_time": "2022-12-15T19:26:15.264583Z"
    }
   },
   "outputs": [
    {
     "data": {
      "text/html": [
       "<div>\n",
       "<style scoped>\n",
       "    .dataframe tbody tr th:only-of-type {\n",
       "        vertical-align: middle;\n",
       "    }\n",
       "\n",
       "    .dataframe tbody tr th {\n",
       "        vertical-align: top;\n",
       "    }\n",
       "\n",
       "    .dataframe thead th {\n",
       "        text-align: right;\n",
       "    }\n",
       "</style>\n",
       "<table border=\"1\" class=\"dataframe\">\n",
       "  <thead>\n",
       "    <tr style=\"text-align: right;\">\n",
       "      <th></th>\n",
       "      <th>total</th>\n",
       "      <th>positive</th>\n",
       "      <th>ratio</th>\n",
       "      <th>negative</th>\n",
       "    </tr>\n",
       "    <tr>\n",
       "      <th>clean_PageURL</th>\n",
       "      <th></th>\n",
       "      <th></th>\n",
       "      <th></th>\n",
       "      <th></th>\n",
       "    </tr>\n",
       "  </thead>\n",
       "  <tbody>\n",
       "    <tr>\n",
       "      <th>https://www.rockwellautomation.com/support/product/product-selection-configuration/proposalworks-proposal-builder</th>\n",
       "      <td>16648</td>\n",
       "      <td>8406</td>\n",
       "      <td>0.50493</td>\n",
       "      <td>8242</td>\n",
       "    </tr>\n",
       "    <tr>\n",
       "      <th>https://www.rockwellautomation.com/support/product/product-selection-configuration/integrated-architecture-builder</th>\n",
       "      <td>23089</td>\n",
       "      <td>11689</td>\n",
       "      <td>0.50626</td>\n",
       "      <td>11400</td>\n",
       "    </tr>\n",
       "    <tr>\n",
       "      <th>https://www.rockwellautomation.com/products/details.9324-RLM0100ENPE</th>\n",
       "      <td>112</td>\n",
       "      <td>57</td>\n",
       "      <td>0.50893</td>\n",
       "      <td>55</td>\n",
       "    </tr>\n",
       "    <tr>\n",
       "      <th>https://www.rockwellautomation.com/company/events/in-person-events/pnc2022SP</th>\n",
       "      <td>353</td>\n",
       "      <td>180</td>\n",
       "      <td>0.50992</td>\n",
       "      <td>173</td>\n",
       "    </tr>\n",
       "    <tr>\n",
       "      <th>https://www.rockwellautomation.com/company/events/in-person-events/pnc2022SP/agenda</th>\n",
       "      <td>156</td>\n",
       "      <td>81</td>\n",
       "      <td>0.51923</td>\n",
       "      <td>75</td>\n",
       "    </tr>\n",
       "    <tr>\n",
       "      <th>https://www.rockwellautomation.com/company/events/in-person-events/roklive/emea/faq</th>\n",
       "      <td>218</td>\n",
       "      <td>114</td>\n",
       "      <td>0.52294</td>\n",
       "      <td>104</td>\n",
       "    </tr>\n",
       "    <tr>\n",
       "      <th>https://www.rockwellautomation.com/products/details</th>\n",
       "      <td>8503</td>\n",
       "      <td>4469</td>\n",
       "      <td>0.52558</td>\n",
       "      <td>4034</td>\n",
       "    </tr>\n",
       "    <tr>\n",
       "      <th>https://www.rockwellautomation.com/support/documentation/technical-data/iablearningmaterials20180213-1454</th>\n",
       "      <td>109</td>\n",
       "      <td>59</td>\n",
       "      <td>0.54128</td>\n",
       "      <td>50</td>\n",
       "    </tr>\n",
       "    <tr>\n",
       "      <th>https://www.rockwellautomation.com/support/documentation/technical-data/proposalworksexportab20180213-1355</th>\n",
       "      <td>131</td>\n",
       "      <td>72</td>\n",
       "      <td>0.54962</td>\n",
       "      <td>59</td>\n",
       "    </tr>\n",
       "    <tr>\n",
       "      <th>https://www.rockwellautomation.com/company/events/webinars/technology-partner-genius-webinar-with-hms-networks</th>\n",
       "      <td>1990</td>\n",
       "      <td>1097</td>\n",
       "      <td>0.55126</td>\n",
       "      <td>893</td>\n",
       "    </tr>\n",
       "    <tr>\n",
       "      <th>https://www.rockwellautomation.com/capabilities/industrial-safety-solutions/safety-automation-builder/safety-automation-builder-overview</th>\n",
       "      <td>347</td>\n",
       "      <td>192</td>\n",
       "      <td>0.55331</td>\n",
       "      <td>155</td>\n",
       "    </tr>\n",
       "    <tr>\n",
       "      <th>https://www.rockwellautomation.com/capabilities/industrial-maintenance-support/installed-base-evaluation</th>\n",
       "      <td>114</td>\n",
       "      <td>64</td>\n",
       "      <td>0.56140</td>\n",
       "      <td>50</td>\n",
       "    </tr>\n",
       "    <tr>\n",
       "      <th>https://www.rockwellautomation.com/company/events/webinars/technology-partner-genius-webinar-with-control-station--inc---lo</th>\n",
       "      <td>3561</td>\n",
       "      <td>2025</td>\n",
       "      <td>0.56866</td>\n",
       "      <td>1536</td>\n",
       "    </tr>\n",
       "    <tr>\n",
       "      <th>https://www.rockwellautomation.com/company/events/webinars/technology-partner-genius-webinar-with-spectrum-controls</th>\n",
       "      <td>1518</td>\n",
       "      <td>871</td>\n",
       "      <td>0.57378</td>\n",
       "      <td>647</td>\n",
       "    </tr>\n",
       "    <tr>\n",
       "      <th>https://www.rockwellautomation.com/company/events/webinars//techconnect-genius-webinar--subscription-portal-overview-</th>\n",
       "      <td>2284</td>\n",
       "      <td>1325</td>\n",
       "      <td>0.58012</td>\n",
       "      <td>959</td>\n",
       "    </tr>\n",
       "    <tr>\n",
       "      <th>https://www.rockwellautomation.com/support/documentation/technical-data/whyuseintegratedarchi20180213-1445</th>\n",
       "      <td>1863</td>\n",
       "      <td>1081</td>\n",
       "      <td>0.58025</td>\n",
       "      <td>782</td>\n",
       "    </tr>\n",
       "    <tr>\n",
       "      <th>https://www.rockwellautomation.com/company/events/webinars/technology-partner-genius-webinar-with-softing-inc-</th>\n",
       "      <td>3741</td>\n",
       "      <td>2175</td>\n",
       "      <td>0.58140</td>\n",
       "      <td>1566</td>\n",
       "    </tr>\n",
       "    <tr>\n",
       "      <th>https://www.rockwellautomation.com/support/product/product-selection-configuration/design-propose-automation-systems</th>\n",
       "      <td>866</td>\n",
       "      <td>507</td>\n",
       "      <td>0.58545</td>\n",
       "      <td>359</td>\n",
       "    </tr>\n",
       "    <tr>\n",
       "      <th>https://www.rockwellautomation.com/company/events/webinars/technology-partner-genius-webinar-with-mettler-toledo---how-auto</th>\n",
       "      <td>1406</td>\n",
       "      <td>841</td>\n",
       "      <td>0.59815</td>\n",
       "      <td>565</td>\n",
       "    </tr>\n",
       "    <tr>\n",
       "      <th>https://www.rockwellautomation.com/support/documentation/technical-data/proposalworksbasicsel20180213-1345</th>\n",
       "      <td>464</td>\n",
       "      <td>280</td>\n",
       "      <td>0.60345</td>\n",
       "      <td>184</td>\n",
       "    </tr>\n",
       "    <tr>\n",
       "      <th>https://www.rockwellautomation.com/company/events/webinars/technology-partner-genius-webinar-with-oden-technologies</th>\n",
       "      <td>644</td>\n",
       "      <td>391</td>\n",
       "      <td>0.60714</td>\n",
       "      <td>253</td>\n",
       "    </tr>\n",
       "    <tr>\n",
       "      <th>https://www.rockwellautomation.com/company/events/webinars/product-registration</th>\n",
       "      <td>140</td>\n",
       "      <td>85</td>\n",
       "      <td>0.60714</td>\n",
       "      <td>55</td>\n",
       "    </tr>\n",
       "    <tr>\n",
       "      <th>https://www.rockwellautomation.com/company/events/webinars/protect-your-gigafactory-with-industrial-security</th>\n",
       "      <td>135</td>\n",
       "      <td>82</td>\n",
       "      <td>0.60741</td>\n",
       "      <td>53</td>\n",
       "    </tr>\n",
       "    <tr>\n",
       "      <th>https://www.rockwellautomation.com/company/events/webinars/micro-control-integrated-automation-solution</th>\n",
       "      <td>217</td>\n",
       "      <td>133</td>\n",
       "      <td>0.61290</td>\n",
       "      <td>84</td>\n",
       "    </tr>\n",
       "    <tr>\n",
       "      <th>https://www.rockwellautomation.com/support/documentation/technical-data/functionalsafetydocum20180905-1614</th>\n",
       "      <td>3425</td>\n",
       "      <td>2116</td>\n",
       "      <td>0.61781</td>\n",
       "      <td>1309</td>\n",
       "    </tr>\n",
       "    <tr>\n",
       "      <th>https://www.rockwellautomation.com/campaigns/emea/company/events/webinars/tech-talks/hms-claroty-stratus</th>\n",
       "      <td>135</td>\n",
       "      <td>84</td>\n",
       "      <td>0.62222</td>\n",
       "      <td>51</td>\n",
       "    </tr>\n",
       "    <tr>\n",
       "      <th>https://www.rockwellautomation.com/campaigns/emea/company/events/webinars/technical-competency-updates/unleash-the-new-capabilities-of-edge-analytics</th>\n",
       "      <td>287</td>\n",
       "      <td>181</td>\n",
       "      <td>0.63066</td>\n",
       "      <td>106</td>\n",
       "    </tr>\n",
       "    <tr>\n",
       "      <th>https://www.rockwellautomation.com/etools</th>\n",
       "      <td>240</td>\n",
       "      <td>152</td>\n",
       "      <td>0.63333</td>\n",
       "      <td>88</td>\n",
       "    </tr>\n",
       "    <tr>\n",
       "      <th>https://www.rockwellautomation.com/company/events/webinars/techconnect-genius-webinar--subscription-portal-overview-session2</th>\n",
       "      <td>1148</td>\n",
       "      <td>754</td>\n",
       "      <td>0.65679</td>\n",
       "      <td>394</td>\n",
       "    </tr>\n",
       "    <tr>\n",
       "      <th>https://www.rockwellautomation.com/company/news/demonstrations/safety-automation-builder-software-demonstration</th>\n",
       "      <td>289</td>\n",
       "      <td>190</td>\n",
       "      <td>0.65744</td>\n",
       "      <td>99</td>\n",
       "    </tr>\n",
       "    <tr>\n",
       "      <th>https://www.rockwellautomation.com/support/product/product-selection-configuration/global-short-circuit-current-ratings-tool</th>\n",
       "      <td>6124</td>\n",
       "      <td>4058</td>\n",
       "      <td>0.66264</td>\n",
       "      <td>2066</td>\n",
       "    </tr>\n",
       "  </tbody>\n",
       "</table>\n",
       "</div>"
      ],
      "text/plain": [
       "                                                    total  positive   ratio  \\\n",
       "clean_PageURL                                                                 \n",
       "https://www.rockwellautomation.com/support/prod...  16648      8406 0.50493   \n",
       "https://www.rockwellautomation.com/support/prod...  23089     11689 0.50626   \n",
       "https://www.rockwellautomation.com/products/det...    112        57 0.50893   \n",
       "https://www.rockwellautomation.com/company/even...    353       180 0.50992   \n",
       "https://www.rockwellautomation.com/company/even...    156        81 0.51923   \n",
       "https://www.rockwellautomation.com/company/even...    218       114 0.52294   \n",
       "https://www.rockwellautomation.com/products/det...   8503      4469 0.52558   \n",
       "https://www.rockwellautomation.com/support/docu...    109        59 0.54128   \n",
       "https://www.rockwellautomation.com/support/docu...    131        72 0.54962   \n",
       "https://www.rockwellautomation.com/company/even...   1990      1097 0.55126   \n",
       "https://www.rockwellautomation.com/capabilities...    347       192 0.55331   \n",
       "https://www.rockwellautomation.com/capabilities...    114        64 0.56140   \n",
       "https://www.rockwellautomation.com/company/even...   3561      2025 0.56866   \n",
       "https://www.rockwellautomation.com/company/even...   1518       871 0.57378   \n",
       "https://www.rockwellautomation.com/company/even...   2284      1325 0.58012   \n",
       "https://www.rockwellautomation.com/support/docu...   1863      1081 0.58025   \n",
       "https://www.rockwellautomation.com/company/even...   3741      2175 0.58140   \n",
       "https://www.rockwellautomation.com/support/prod...    866       507 0.58545   \n",
       "https://www.rockwellautomation.com/company/even...   1406       841 0.59815   \n",
       "https://www.rockwellautomation.com/support/docu...    464       280 0.60345   \n",
       "https://www.rockwellautomation.com/company/even...    644       391 0.60714   \n",
       "https://www.rockwellautomation.com/company/even...    140        85 0.60714   \n",
       "https://www.rockwellautomation.com/company/even...    135        82 0.60741   \n",
       "https://www.rockwellautomation.com/company/even...    217       133 0.61290   \n",
       "https://www.rockwellautomation.com/support/docu...   3425      2116 0.61781   \n",
       "https://www.rockwellautomation.com/campaigns/em...    135        84 0.62222   \n",
       "https://www.rockwellautomation.com/campaigns/em...    287       181 0.63066   \n",
       "https://www.rockwellautomation.com/etools             240       152 0.63333   \n",
       "https://www.rockwellautomation.com/company/even...   1148       754 0.65679   \n",
       "https://www.rockwellautomation.com/company/news...    289       190 0.65744   \n",
       "https://www.rockwellautomation.com/support/prod...   6124      4058 0.66264   \n",
       "\n",
       "                                                    negative  \n",
       "clean_PageURL                                                 \n",
       "https://www.rockwellautomation.com/support/prod...      8242  \n",
       "https://www.rockwellautomation.com/support/prod...     11400  \n",
       "https://www.rockwellautomation.com/products/det...        55  \n",
       "https://www.rockwellautomation.com/company/even...       173  \n",
       "https://www.rockwellautomation.com/company/even...        75  \n",
       "https://www.rockwellautomation.com/company/even...       104  \n",
       "https://www.rockwellautomation.com/products/det...      4034  \n",
       "https://www.rockwellautomation.com/support/docu...        50  \n",
       "https://www.rockwellautomation.com/support/docu...        59  \n",
       "https://www.rockwellautomation.com/company/even...       893  \n",
       "https://www.rockwellautomation.com/capabilities...       155  \n",
       "https://www.rockwellautomation.com/capabilities...        50  \n",
       "https://www.rockwellautomation.com/company/even...      1536  \n",
       "https://www.rockwellautomation.com/company/even...       647  \n",
       "https://www.rockwellautomation.com/company/even...       959  \n",
       "https://www.rockwellautomation.com/support/docu...       782  \n",
       "https://www.rockwellautomation.com/company/even...      1566  \n",
       "https://www.rockwellautomation.com/support/prod...       359  \n",
       "https://www.rockwellautomation.com/company/even...       565  \n",
       "https://www.rockwellautomation.com/support/docu...       184  \n",
       "https://www.rockwellautomation.com/company/even...       253  \n",
       "https://www.rockwellautomation.com/company/even...        55  \n",
       "https://www.rockwellautomation.com/company/even...        53  \n",
       "https://www.rockwellautomation.com/company/even...        84  \n",
       "https://www.rockwellautomation.com/support/docu...      1309  \n",
       "https://www.rockwellautomation.com/campaigns/em...        51  \n",
       "https://www.rockwellautomation.com/campaigns/em...       106  \n",
       "https://www.rockwellautomation.com/etools                 88  \n",
       "https://www.rockwellautomation.com/company/even...       394  \n",
       "https://www.rockwellautomation.com/company/news...        99  \n",
       "https://www.rockwellautomation.com/support/prod...      2066  "
      ]
     },
     "execution_count": 18,
     "metadata": {},
     "output_type": "execute_result"
    }
   ],
   "source": [
    "aa[(aa[\"total\"]>100) & (aa[\"ratio\"]>0.5)].sort_values(\"ratio\")"
   ]
  },
  {
   "cell_type": "code",
   "execution_count": null,
   "id": "4a0294aa",
   "metadata": {},
   "outputs": [],
   "source": []
  },
  {
   "cell_type": "markdown",
   "id": "da4c0580",
   "metadata": {},
   "source": [
    "#### regex checking with missing url"
   ]
  },
  {
   "cell_type": "code",
   "execution_count": 19,
   "id": "17c123ed",
   "metadata": {
    "ExecuteTime": {
     "end_time": "2022-12-15T19:26:29.394883Z",
     "start_time": "2022-12-15T19:26:29.385612Z"
    }
   },
   "outputs": [],
   "source": [
    "result_list = \"\"\"|/company/news/presentations/event_materials_page.html                                                                       |   125 |    125 |    0 | 1.0000 |\n",
    "|/company/news/magazines/beat-the-heat-when-mounting-low-voltage-ac-drives.html                                              |   106 |    100 |    0 | 0.9434 |\n",
    "|/company/events/in-person-events/partnernetwork-conf-kr.html                                                                |   155 |    129 |    0 | 0.8323 |\n",
    "|/company/events/webinars/functional-safety-techconnect.html                                                                 |   103 |     80 |    0 | 0.7767 |\n",
    "|/company/events/in-person-events/archive.html                                                                               |   146 |    113 |    0 | 0.7740 |\n",
    "|/company/events/webinars/webinaire-process-dcs-plantpax.html                                                                |   148 |    113 |    0 | 0.7635 |\n",
    "|/company/events/webinars/modernising-to-smart-connected-systems.html                                                        |   163 |    124 |    0 | 0.7607 |\n",
    "|/campaigns/thank-you-smart-downloads.html                                                                                   |   129 |     98 |    0 | 0.7597 |\n",
    "|/company/events/webinars/product-registration.html                                                                          |   218 |    163 |    0 | 0.7477 |\n",
    "|/campaigns/emea/en/company/events/webinars/tech-talks/hms-claroty-stratus.html                                              |   202 |    151 |    0 | 0.7475 |\n",
    "|/company/events/webinars/techconnect-genius-webinar--subscription-portal-overview-session2.html                             |  1447 |   1057 |    0 | 0.7305 |\n",
    "|/company/events/webinars/404.html                                                                                           |   151 |    109 |    0 | 0.7219 |\n",
    "|/campaigns/emea/en/company/events/webinars/technical-competency-updates/unleash-the-new-capabilities-of-edge-analytics.html |   372 |    266 |    0 | 0.7151 |\n",
    "|/en-mde/products/hardware/allen-bradley/drives.html                                                                         |   101 |     72 |    0 | 0.7129 |\n",
    "|/support/product/product-selection-configuration/global-short-circuit-current-ratings-tool.html                             |  7015 |   4995 |    0 | 0.7120 |\n",
    "|/company/events/in-person-events/partnernetwork-conference.html                                                             |   245 |    174 |    0 | 0.7102 |\n",
    "|/industries/chemical/vfd-energy-savings-calculator.html                                                                     |   215 |    152 |    0 | 0.7070 |\n",
    "|/company/news/column/executive_news_japan.html                                                                              |   112 |     79 |    0 | 0.7054 |\n",
    "|/en-mde/support/product/product-compatibility-migration/product-lifecycle-status.html                                       |   280 |    196 |    0 | 0.7000 |\n",
    "|/campaigns/emea/en/company/events/webinars/tech-talks/cisco-prosoft-spectrum-controls.html                                  |   120 |     84 |    0 | 0.7000 |\n",
    "|/company/events/webinars/micro-control-integrated-automation-solution.html                                                  |   280 |    194 |    0 | 0.6929 |\n",
    "|/company/events/webinars/protect-your-gigafactory-with-industrial-security.html                                             |   169 |    116 |    0 | 0.6864 |\n",
    "|/support/documentation/technical-data/proposalworkssuppleme20180213-1403.html                                               |   114 |     78 |    0 | 0.6842 |\n",
    "|/company/events/webinars/technology-partner-genius-webinar-with-prosoft-technology---conn.html                              |   114 |     78 |    0 | 0.6842 |\n",
    "|/support/documentation/technical-data/proposalworksaddinghe20180213-1349.html                                               |   104 |     71 |    0 | 0.6827 |\n",
    "|/company/events/in-person-events/roklive/emea/faq.html                                                                      |   321 |    219 |    0 | 0.6822 |\n",
    "|/company/events/webinars/technology-partner-genius-webinar-with-oden-technologies.html                                      |   796 |    542 |    0 | 0.6809 |\n",
    "|/company/news/blogs/single-use-system-lifesciences-pt2.html                                                                 |   102 |     69 |    0 | 0.6765 |\n",
    "|/company/news/demonstrations/safety-automation-builder-software-demonstration.html                                          |   307 |    207 |    0 | 0.6743 |\n",
    "|/company/news/blogs/from-automation-to-autonomy.html                                                                        |   153 |    103 |    0 | 0.6732 |\"\"\""
   ]
  },
  {
   "cell_type": "code",
   "execution_count": 193,
   "id": "18e2d356",
   "metadata": {
    "ExecuteTime": {
     "end_time": "2022-12-15T20:20:46.445191Z",
     "start_time": "2022-12-15T20:20:33.318871Z"
    }
   },
   "outputs": [],
   "source": [
    "xx = \"detail\"\n",
    "result_check = pd.DataFrame([[item.strip() for item in row.split(\"|\") if len(item)>1 ]for row in result_list.split(\"\\n\") ], columns=[\"clean_PageURL\", \"total\", \"eloqua\",\"crm\", \"ratio\"])\n",
    "# stage1_raw[stage1_raw[\"PageURL\"].str.contains(xx)][[\"clean_PageURL\", \"PageURL\"]].drop_duplicates().head(50).style\n",
    "clean_urls = stage1_raw[\"clean_PageURL\"].drop_duplicates()\n",
    "all_urls = stage1_raw[\"PageURL\"].drop_duplicates()\n",
    "for row in result_check[\"clean_PageURL\"].tolist():\n",
    "    a = clean_urls.str.contains(xx).any()\n",
    "    b = all_urls.str.contains(xx).any()\n",
    "    if a is False or b is False:\n",
    "        print(row)\n",
    "        \n",
    "result_check[\"clean_PageURL\"] = result_check[\"clean_PageURL\"].apply(lambda x: \"https://www.rockwellautomation.com\" + x[:-5])\n",
    "# result_check.style"
   ]
  },
  {
   "cell_type": "code",
   "execution_count": 21,
   "id": "cb8697bf",
   "metadata": {
    "ExecuteTime": {
     "end_time": "2022-12-15T19:26:48.594420Z",
     "start_time": "2022-12-15T19:26:43.082657Z"
    }
   },
   "outputs": [],
   "source": [
    "ss = aem_raw[aem_raw[\"PageURL\"].str.contains(\"beat-the-heat-when-mounting-low-voltage-ac-drives\")]"
   ]
  },
  {
   "cell_type": "code",
   "execution_count": 197,
   "id": "78c86691",
   "metadata": {
    "ExecuteTime": {
     "end_time": "2022-12-15T20:22:56.529131Z",
     "start_time": "2022-12-15T20:22:56.364995Z"
    },
    "scrolled": true
   },
   "outputs": [
    {
     "data": {
      "text/html": [
       "<div>\n",
       "<style scoped>\n",
       "    .dataframe tbody tr th:only-of-type {\n",
       "        vertical-align: middle;\n",
       "    }\n",
       "\n",
       "    .dataframe tbody tr th {\n",
       "        vertical-align: top;\n",
       "    }\n",
       "\n",
       "    .dataframe thead th {\n",
       "        text-align: right;\n",
       "    }\n",
       "</style>\n",
       "<table border=\"1\" class=\"dataframe\">\n",
       "  <thead>\n",
       "    <tr style=\"text-align: right;\">\n",
       "      <th></th>\n",
       "      <th>total</th>\n",
       "      <th>positive</th>\n",
       "      <th>ratio</th>\n",
       "      <th>negative</th>\n",
       "    </tr>\n",
       "  </thead>\n",
       "  <tbody>\n",
       "    <tr>\n",
       "      <th>count</th>\n",
       "      <td>462480.00000</td>\n",
       "      <td>462480.00000</td>\n",
       "      <td>462480.00000</td>\n",
       "      <td>462480.00000</td>\n",
       "    </tr>\n",
       "    <tr>\n",
       "      <th>mean</th>\n",
       "      <td>31.85812</td>\n",
       "      <td>6.64427</td>\n",
       "      <td>0.02864</td>\n",
       "      <td>25.21384</td>\n",
       "    </tr>\n",
       "    <tr>\n",
       "      <th>std</th>\n",
       "      <td>4066.65873</td>\n",
       "      <td>914.55356</td>\n",
       "      <td>0.11335</td>\n",
       "      <td>3307.17168</td>\n",
       "    </tr>\n",
       "    <tr>\n",
       "      <th>min</th>\n",
       "      <td>1.00000</td>\n",
       "      <td>0.00000</td>\n",
       "      <td>0.00000</td>\n",
       "      <td>0.00000</td>\n",
       "    </tr>\n",
       "    <tr>\n",
       "      <th>25%</th>\n",
       "      <td>1.00000</td>\n",
       "      <td>0.00000</td>\n",
       "      <td>0.00000</td>\n",
       "      <td>1.00000</td>\n",
       "    </tr>\n",
       "    <tr>\n",
       "      <th>50%</th>\n",
       "      <td>1.00000</td>\n",
       "      <td>0.00000</td>\n",
       "      <td>0.00000</td>\n",
       "      <td>1.00000</td>\n",
       "    </tr>\n",
       "    <tr>\n",
       "      <th>75%</th>\n",
       "      <td>1.00000</td>\n",
       "      <td>0.00000</td>\n",
       "      <td>0.00000</td>\n",
       "      <td>1.00000</td>\n",
       "    </tr>\n",
       "    <tr>\n",
       "      <th>max</th>\n",
       "      <td>1738860.00000</td>\n",
       "      <td>501147.00000</td>\n",
       "      <td>1.00000</td>\n",
       "      <td>1378106.00000</td>\n",
       "    </tr>\n",
       "  </tbody>\n",
       "</table>\n",
       "</div>"
      ],
      "text/plain": [
       "              total     positive        ratio      negative\n",
       "count  462480.00000 462480.00000 462480.00000  462480.00000\n",
       "mean       31.85812      6.64427      0.02864      25.21384\n",
       "std      4066.65873    914.55356      0.11335    3307.17168\n",
       "min         1.00000      0.00000      0.00000       0.00000\n",
       "25%         1.00000      0.00000      0.00000       1.00000\n",
       "50%         1.00000      0.00000      0.00000       1.00000\n",
       "75%         1.00000      0.00000      0.00000       1.00000\n",
       "max   1738860.00000 501147.00000      1.00000 1378106.00000"
      ]
     },
     "execution_count": 197,
     "metadata": {},
     "output_type": "execute_result"
    }
   ],
   "source": [
    "result_wei = aa.reset_index().sort_values(by=\"ratio\")\n",
    "result_wei.describe()\n",
    "# result_wei[(result_wei[\"total\"]>50) & (result_wei[\"ratio\"]>0.05)].tail(50)"
   ]
  },
  {
   "cell_type": "code",
   "execution_count": 198,
   "id": "c1376a19",
   "metadata": {
    "ExecuteTime": {
     "end_time": "2022-12-15T20:22:57.121727Z",
     "start_time": "2022-12-15T20:22:57.088782Z"
    }
   },
   "outputs": [
    {
     "data": {
      "text/html": [
       "<div>\n",
       "<style scoped>\n",
       "    .dataframe tbody tr th:only-of-type {\n",
       "        vertical-align: middle;\n",
       "    }\n",
       "\n",
       "    .dataframe tbody tr th {\n",
       "        vertical-align: top;\n",
       "    }\n",
       "\n",
       "    .dataframe thead th {\n",
       "        text-align: right;\n",
       "    }\n",
       "</style>\n",
       "<table border=\"1\" class=\"dataframe\">\n",
       "  <thead>\n",
       "    <tr style=\"text-align: right;\">\n",
       "      <th></th>\n",
       "      <th>total</th>\n",
       "      <th>positive</th>\n",
       "      <th>ratio</th>\n",
       "      <th>negative</th>\n",
       "    </tr>\n",
       "  </thead>\n",
       "  <tbody>\n",
       "    <tr>\n",
       "      <th>count</th>\n",
       "      <td>7018.00000</td>\n",
       "      <td>7018.00000</td>\n",
       "      <td>7018.00000</td>\n",
       "      <td>7018.00000</td>\n",
       "    </tr>\n",
       "    <tr>\n",
       "      <th>mean</th>\n",
       "      <td>544.40140</td>\n",
       "      <td>125.25933</td>\n",
       "      <td>0.21312</td>\n",
       "      <td>419.14206</td>\n",
       "    </tr>\n",
       "    <tr>\n",
       "      <th>std</th>\n",
       "      <td>1144.40647</td>\n",
       "      <td>297.33661</td>\n",
       "      <td>0.08987</td>\n",
       "      <td>876.95384</td>\n",
       "    </tr>\n",
       "    <tr>\n",
       "      <th>min</th>\n",
       "      <td>51.00000</td>\n",
       "      <td>3.00000</td>\n",
       "      <td>0.05011</td>\n",
       "      <td>19.00000</td>\n",
       "    </tr>\n",
       "    <tr>\n",
       "      <th>25%</th>\n",
       "      <td>79.00000</td>\n",
       "      <td>15.00000</td>\n",
       "      <td>0.14911</td>\n",
       "      <td>63.00000</td>\n",
       "    </tr>\n",
       "    <tr>\n",
       "      <th>50%</th>\n",
       "      <td>143.00000</td>\n",
       "      <td>29.00000</td>\n",
       "      <td>0.20690</td>\n",
       "      <td>114.00000</td>\n",
       "    </tr>\n",
       "    <tr>\n",
       "      <th>75%</th>\n",
       "      <td>414.75000</td>\n",
       "      <td>86.00000</td>\n",
       "      <td>0.26667</td>\n",
       "      <td>321.00000</td>\n",
       "    </tr>\n",
       "    <tr>\n",
       "      <th>max</th>\n",
       "      <td>9924.00000</td>\n",
       "      <td>4469.00000</td>\n",
       "      <td>0.73563</td>\n",
       "      <td>8390.00000</td>\n",
       "    </tr>\n",
       "  </tbody>\n",
       "</table>\n",
       "</div>"
      ],
      "text/plain": [
       "           total   positive      ratio   negative\n",
       "count 7018.00000 7018.00000 7018.00000 7018.00000\n",
       "mean   544.40140  125.25933    0.21312  419.14206\n",
       "std   1144.40647  297.33661    0.08987  876.95384\n",
       "min     51.00000    3.00000    0.05011   19.00000\n",
       "25%     79.00000   15.00000    0.14911   63.00000\n",
       "50%    143.00000   29.00000    0.20690  114.00000\n",
       "75%    414.75000   86.00000    0.26667  321.00000\n",
       "max   9924.00000 4469.00000    0.73563 8390.00000"
      ]
     },
     "execution_count": 198,
     "metadata": {},
     "output_type": "execute_result"
    }
   ],
   "source": [
    "plot_data = result_wei.query(\"10000>`total`>50 and `ratio`>0.05\")\n",
    "plot_data.describe()"
   ]
  },
  {
   "cell_type": "code",
   "execution_count": 33,
   "id": "11635081",
   "metadata": {
    "ExecuteTime": {
     "end_time": "2022-12-15T19:26:56.248287Z",
     "start_time": "2022-12-15T19:26:56.053225Z"
    }
   },
   "outputs": [
    {
     "data": {
      "image/png": "[encoded data removed]",
      "text/plain": [
       "<Figure size 432x288 with 1 Axes>"
      ]
     },
     "metadata": {
      "needs_background": "light"
     },
     "output_type": "display_data"
    }
   ],
   "source": [
    "from sklearn.linear_model import LinearRegression\n",
    "# [(result_wei[\"freq\"]>50)  & (result_wei[\"ratio\"]>0.05)]\n",
    "x = plot_data[\"positive\"].values.reshape(-1,1)\n",
    "y = plot_data[\"negative\"].values.reshape(-1,1)\n",
    "linear_regressor = LinearRegression()\n",
    "linear_regressor.fit(x, y)\n",
    "y_pred = linear_regressor.predict(x)\n",
    "\n",
    "plt.scatter(x, y)\n",
    "plt.xlabel(\"positive\")\n",
    "plt.ylabel(\"negative\")\n",
    "plt.plot(x, y_pred, color='red', label=f'positive-negative y={round(linear_regressor.coef_[0][0],4)}x')\n",
    "plt.plot([0,10000],[0,10000], color='blue', label=\"y=x\")\n",
    "plt.legend()\n",
    "plt.show()"
   ]
  },
  {
   "cell_type": "code",
   "execution_count": 199,
   "id": "aeed4421",
   "metadata": {
    "ExecuteTime": {
     "end_time": "2022-12-15T20:23:02.339556Z",
     "start_time": "2022-12-15T20:23:01.103572Z"
    }
   },
   "outputs": [],
   "source": [
    "result_wei.to_csv(\"result_wei.csv\")"
   ]
  },
  {
   "cell_type": "code",
   "execution_count": 205,
   "id": "18bf2aca",
   "metadata": {
    "ExecuteTime": {
     "end_time": "2022-12-15T20:24:36.999547Z",
     "start_time": "2022-12-15T20:24:36.996096Z"
    }
   },
   "outputs": [],
   "source": [
    "# cc = result_wei[result_wei[\"clean_PageURL\"].str.contains(\".pdf\")]\n",
    "# cc[cc[\"total\"]>2].sort_values([\"ratio\"], ascending=False).style"
   ]
  },
  {
   "cell_type": "code",
   "execution_count": 203,
   "id": "aa50bcef",
   "metadata": {
    "ExecuteTime": {
     "end_time": "2022-12-15T20:23:12.474533Z",
     "start_time": "2022-12-15T20:23:12.295547Z"
    }
   },
   "outputs": [
    {
     "data": {
      "text/html": [
       "<style type=\"text/css\">\n",
       "</style>\n",
       "<table id=\"T_4cdf2_\">\n",
       "  <thead>\n",
       "    <tr>\n",
       "      <th class=\"blank level0\" >&nbsp;</th>\n",
       "      <th class=\"col_heading level0 col0\" >clean_PageURL</th>\n",
       "      <th class=\"col_heading level0 col1\" >total_wei</th>\n",
       "      <th class=\"col_heading level0 col2\" >positive</th>\n",
       "      <th class=\"col_heading level0 col3\" >ratio_wei</th>\n",
       "      <th class=\"col_heading level0 col4\" >negative</th>\n",
       "      <th class=\"col_heading level0 col5\" >total_inkoo</th>\n",
       "      <th class=\"col_heading level0 col6\" >eloqua</th>\n",
       "      <th class=\"col_heading level0 col7\" >crm</th>\n",
       "      <th class=\"col_heading level0 col8\" >ratio_inkoo</th>\n",
       "    </tr>\n",
       "  </thead>\n",
       "  <tbody>\n",
       "    <tr>\n",
       "      <th id=\"T_4cdf2_level0_row0\" class=\"row_heading level0 row0\" >0</th>\n",
       "      <td id=\"T_4cdf2_row0_col0\" class=\"data row0 col0\" >https://www.rockwellautomation.com/company/news/presentations/event_materials_page</td>\n",
       "      <td id=\"T_4cdf2_row0_col1\" class=\"data row0 col1\" >nan</td>\n",
       "      <td id=\"T_4cdf2_row0_col2\" class=\"data row0 col2\" >nan</td>\n",
       "      <td id=\"T_4cdf2_row0_col3\" class=\"data row0 col3\" >nan</td>\n",
       "      <td id=\"T_4cdf2_row0_col4\" class=\"data row0 col4\" >nan</td>\n",
       "      <td id=\"T_4cdf2_row0_col5\" class=\"data row0 col5\" >125</td>\n",
       "      <td id=\"T_4cdf2_row0_col6\" class=\"data row0 col6\" >125</td>\n",
       "      <td id=\"T_4cdf2_row0_col7\" class=\"data row0 col7\" >0</td>\n",
       "      <td id=\"T_4cdf2_row0_col8\" class=\"data row0 col8\" >1.0000</td>\n",
       "    </tr>\n",
       "    <tr>\n",
       "      <th id=\"T_4cdf2_level0_row1\" class=\"row_heading level0 row1\" >1</th>\n",
       "      <td id=\"T_4cdf2_row1_col0\" class=\"data row1 col0\" >https://www.rockwellautomation.com/company/news/magazines/beat-the-heat-when-mounting-low-voltage-ac-drives</td>\n",
       "      <td id=\"T_4cdf2_row1_col1\" class=\"data row1 col1\" >8.000000</td>\n",
       "      <td id=\"T_4cdf2_row1_col2\" class=\"data row1 col2\" >2.000000</td>\n",
       "      <td id=\"T_4cdf2_row1_col3\" class=\"data row1 col3\" >0.250000</td>\n",
       "      <td id=\"T_4cdf2_row1_col4\" class=\"data row1 col4\" >6.000000</td>\n",
       "      <td id=\"T_4cdf2_row1_col5\" class=\"data row1 col5\" >106</td>\n",
       "      <td id=\"T_4cdf2_row1_col6\" class=\"data row1 col6\" >100</td>\n",
       "      <td id=\"T_4cdf2_row1_col7\" class=\"data row1 col7\" >0</td>\n",
       "      <td id=\"T_4cdf2_row1_col8\" class=\"data row1 col8\" >0.9434</td>\n",
       "    </tr>\n",
       "    <tr>\n",
       "      <th id=\"T_4cdf2_level0_row2\" class=\"row_heading level0 row2\" >2</th>\n",
       "      <td id=\"T_4cdf2_row2_col0\" class=\"data row2 col0\" >https://www.rockwellautomation.com/company/events/in-person-events/partnernetwork-conf-kr</td>\n",
       "      <td id=\"T_4cdf2_row2_col1\" class=\"data row2 col1\" >96.000000</td>\n",
       "      <td id=\"T_4cdf2_row2_col2\" class=\"data row2 col2\" >70.000000</td>\n",
       "      <td id=\"T_4cdf2_row2_col3\" class=\"data row2 col3\" >0.729167</td>\n",
       "      <td id=\"T_4cdf2_row2_col4\" class=\"data row2 col4\" >26.000000</td>\n",
       "      <td id=\"T_4cdf2_row2_col5\" class=\"data row2 col5\" >155</td>\n",
       "      <td id=\"T_4cdf2_row2_col6\" class=\"data row2 col6\" >129</td>\n",
       "      <td id=\"T_4cdf2_row2_col7\" class=\"data row2 col7\" >0</td>\n",
       "      <td id=\"T_4cdf2_row2_col8\" class=\"data row2 col8\" >0.8323</td>\n",
       "    </tr>\n",
       "    <tr>\n",
       "      <th id=\"T_4cdf2_level0_row3\" class=\"row_heading level0 row3\" >3</th>\n",
       "      <td id=\"T_4cdf2_row3_col0\" class=\"data row3 col0\" >https://www.rockwellautomation.com/company/events/webinars/functional-safety-techconnect</td>\n",
       "      <td id=\"T_4cdf2_row3_col1\" class=\"data row3 col1\" >87.000000</td>\n",
       "      <td id=\"T_4cdf2_row3_col2\" class=\"data row3 col2\" >64.000000</td>\n",
       "      <td id=\"T_4cdf2_row3_col3\" class=\"data row3 col3\" >0.735632</td>\n",
       "      <td id=\"T_4cdf2_row3_col4\" class=\"data row3 col4\" >23.000000</td>\n",
       "      <td id=\"T_4cdf2_row3_col5\" class=\"data row3 col5\" >103</td>\n",
       "      <td id=\"T_4cdf2_row3_col6\" class=\"data row3 col6\" >80</td>\n",
       "      <td id=\"T_4cdf2_row3_col7\" class=\"data row3 col7\" >0</td>\n",
       "      <td id=\"T_4cdf2_row3_col8\" class=\"data row3 col8\" >0.7767</td>\n",
       "    </tr>\n",
       "    <tr>\n",
       "      <th id=\"T_4cdf2_level0_row4\" class=\"row_heading level0 row4\" >4</th>\n",
       "      <td id=\"T_4cdf2_row4_col0\" class=\"data row4 col0\" >https://www.rockwellautomation.com/company/events/in-person-events/archive</td>\n",
       "      <td id=\"T_4cdf2_row4_col1\" class=\"data row4 col1\" >47.000000</td>\n",
       "      <td id=\"T_4cdf2_row4_col2\" class=\"data row4 col2\" >14.000000</td>\n",
       "      <td id=\"T_4cdf2_row4_col3\" class=\"data row4 col3\" >0.297872</td>\n",
       "      <td id=\"T_4cdf2_row4_col4\" class=\"data row4 col4\" >33.000000</td>\n",
       "      <td id=\"T_4cdf2_row4_col5\" class=\"data row4 col5\" >146</td>\n",
       "      <td id=\"T_4cdf2_row4_col6\" class=\"data row4 col6\" >113</td>\n",
       "      <td id=\"T_4cdf2_row4_col7\" class=\"data row4 col7\" >0</td>\n",
       "      <td id=\"T_4cdf2_row4_col8\" class=\"data row4 col8\" >0.7740</td>\n",
       "    </tr>\n",
       "    <tr>\n",
       "      <th id=\"T_4cdf2_level0_row5\" class=\"row_heading level0 row5\" >5</th>\n",
       "      <td id=\"T_4cdf2_row5_col0\" class=\"data row5 col0\" >https://www.rockwellautomation.com/company/events/webinars/webinaire-process-dcs-plantpax</td>\n",
       "      <td id=\"T_4cdf2_row5_col1\" class=\"data row5 col1\" >51.000000</td>\n",
       "      <td id=\"T_4cdf2_row5_col2\" class=\"data row5 col2\" >17.000000</td>\n",
       "      <td id=\"T_4cdf2_row5_col3\" class=\"data row5 col3\" >0.333333</td>\n",
       "      <td id=\"T_4cdf2_row5_col4\" class=\"data row5 col4\" >34.000000</td>\n",
       "      <td id=\"T_4cdf2_row5_col5\" class=\"data row5 col5\" >148</td>\n",
       "      <td id=\"T_4cdf2_row5_col6\" class=\"data row5 col6\" >113</td>\n",
       "      <td id=\"T_4cdf2_row5_col7\" class=\"data row5 col7\" >0</td>\n",
       "      <td id=\"T_4cdf2_row5_col8\" class=\"data row5 col8\" >0.7635</td>\n",
       "    </tr>\n",
       "    <tr>\n",
       "      <th id=\"T_4cdf2_level0_row6\" class=\"row_heading level0 row6\" >6</th>\n",
       "      <td id=\"T_4cdf2_row6_col0\" class=\"data row6 col0\" >https://www.rockwellautomation.com/company/events/webinars/modernising-to-smart-connected-systems</td>\n",
       "      <td id=\"T_4cdf2_row6_col1\" class=\"data row6 col1\" >52.000000</td>\n",
       "      <td id=\"T_4cdf2_row6_col2\" class=\"data row6 col2\" >13.000000</td>\n",
       "      <td id=\"T_4cdf2_row6_col3\" class=\"data row6 col3\" >0.250000</td>\n",
       "      <td id=\"T_4cdf2_row6_col4\" class=\"data row6 col4\" >39.000000</td>\n",
       "      <td id=\"T_4cdf2_row6_col5\" class=\"data row6 col5\" >163</td>\n",
       "      <td id=\"T_4cdf2_row6_col6\" class=\"data row6 col6\" >124</td>\n",
       "      <td id=\"T_4cdf2_row6_col7\" class=\"data row6 col7\" >0</td>\n",
       "      <td id=\"T_4cdf2_row6_col8\" class=\"data row6 col8\" >0.7607</td>\n",
       "    </tr>\n",
       "    <tr>\n",
       "      <th id=\"T_4cdf2_level0_row7\" class=\"row_heading level0 row7\" >7</th>\n",
       "      <td id=\"T_4cdf2_row7_col0\" class=\"data row7 col0\" >https://www.rockwellautomation.com/campaigns/thank-you-smart-downloads</td>\n",
       "      <td id=\"T_4cdf2_row7_col1\" class=\"data row7 col1\" >37.000000</td>\n",
       "      <td id=\"T_4cdf2_row7_col2\" class=\"data row7 col2\" >6.000000</td>\n",
       "      <td id=\"T_4cdf2_row7_col3\" class=\"data row7 col3\" >0.162162</td>\n",
       "      <td id=\"T_4cdf2_row7_col4\" class=\"data row7 col4\" >31.000000</td>\n",
       "      <td id=\"T_4cdf2_row7_col5\" class=\"data row7 col5\" >129</td>\n",
       "      <td id=\"T_4cdf2_row7_col6\" class=\"data row7 col6\" >98</td>\n",
       "      <td id=\"T_4cdf2_row7_col7\" class=\"data row7 col7\" >0</td>\n",
       "      <td id=\"T_4cdf2_row7_col8\" class=\"data row7 col8\" >0.7597</td>\n",
       "    </tr>\n",
       "    <tr>\n",
       "      <th id=\"T_4cdf2_level0_row8\" class=\"row_heading level0 row8\" >8</th>\n",
       "      <td id=\"T_4cdf2_row8_col0\" class=\"data row8 col0\" >https://www.rockwellautomation.com/company/events/webinars/product-registration</td>\n",
       "      <td id=\"T_4cdf2_row8_col1\" class=\"data row8 col1\" >140.000000</td>\n",
       "      <td id=\"T_4cdf2_row8_col2\" class=\"data row8 col2\" >85.000000</td>\n",
       "      <td id=\"T_4cdf2_row8_col3\" class=\"data row8 col3\" >0.607143</td>\n",
       "      <td id=\"T_4cdf2_row8_col4\" class=\"data row8 col4\" >55.000000</td>\n",
       "      <td id=\"T_4cdf2_row8_col5\" class=\"data row8 col5\" >218</td>\n",
       "      <td id=\"T_4cdf2_row8_col6\" class=\"data row8 col6\" >163</td>\n",
       "      <td id=\"T_4cdf2_row8_col7\" class=\"data row8 col7\" >0</td>\n",
       "      <td id=\"T_4cdf2_row8_col8\" class=\"data row8 col8\" >0.7477</td>\n",
       "    </tr>\n",
       "    <tr>\n",
       "      <th id=\"T_4cdf2_level0_row9\" class=\"row_heading level0 row9\" >9</th>\n",
       "      <td id=\"T_4cdf2_row9_col0\" class=\"data row9 col0\" >https://www.rockwellautomation.com/campaigns/emea/en/company/events/webinars/tech-talks/hms-claroty-stratus</td>\n",
       "      <td id=\"T_4cdf2_row9_col1\" class=\"data row9 col1\" >nan</td>\n",
       "      <td id=\"T_4cdf2_row9_col2\" class=\"data row9 col2\" >nan</td>\n",
       "      <td id=\"T_4cdf2_row9_col3\" class=\"data row9 col3\" >nan</td>\n",
       "      <td id=\"T_4cdf2_row9_col4\" class=\"data row9 col4\" >nan</td>\n",
       "      <td id=\"T_4cdf2_row9_col5\" class=\"data row9 col5\" >202</td>\n",
       "      <td id=\"T_4cdf2_row9_col6\" class=\"data row9 col6\" >151</td>\n",
       "      <td id=\"T_4cdf2_row9_col7\" class=\"data row9 col7\" >0</td>\n",
       "      <td id=\"T_4cdf2_row9_col8\" class=\"data row9 col8\" >0.7475</td>\n",
       "    </tr>\n",
       "    <tr>\n",
       "      <th id=\"T_4cdf2_level0_row10\" class=\"row_heading level0 row10\" >10</th>\n",
       "      <td id=\"T_4cdf2_row10_col0\" class=\"data row10 col0\" >https://www.rockwellautomation.com/company/events/webinars/techconnect-genius-webinar--subscription-portal-overview-session2</td>\n",
       "      <td id=\"T_4cdf2_row10_col1\" class=\"data row10 col1\" >1148.000000</td>\n",
       "      <td id=\"T_4cdf2_row10_col2\" class=\"data row10 col2\" >754.000000</td>\n",
       "      <td id=\"T_4cdf2_row10_col3\" class=\"data row10 col3\" >0.656794</td>\n",
       "      <td id=\"T_4cdf2_row10_col4\" class=\"data row10 col4\" >394.000000</td>\n",
       "      <td id=\"T_4cdf2_row10_col5\" class=\"data row10 col5\" >1447</td>\n",
       "      <td id=\"T_4cdf2_row10_col6\" class=\"data row10 col6\" >1057</td>\n",
       "      <td id=\"T_4cdf2_row10_col7\" class=\"data row10 col7\" >0</td>\n",
       "      <td id=\"T_4cdf2_row10_col8\" class=\"data row10 col8\" >0.7305</td>\n",
       "    </tr>\n",
       "    <tr>\n",
       "      <th id=\"T_4cdf2_level0_row11\" class=\"row_heading level0 row11\" >11</th>\n",
       "      <td id=\"T_4cdf2_row11_col0\" class=\"data row11 col0\" >https://www.rockwellautomation.com/company/events/webinars/404</td>\n",
       "      <td id=\"T_4cdf2_row11_col1\" class=\"data row11 col1\" >92.000000</td>\n",
       "      <td id=\"T_4cdf2_row11_col2\" class=\"data row11 col2\" >50.000000</td>\n",
       "      <td id=\"T_4cdf2_row11_col3\" class=\"data row11 col3\" >0.543478</td>\n",
       "      <td id=\"T_4cdf2_row11_col4\" class=\"data row11 col4\" >42.000000</td>\n",
       "      <td id=\"T_4cdf2_row11_col5\" class=\"data row11 col5\" >151</td>\n",
       "      <td id=\"T_4cdf2_row11_col6\" class=\"data row11 col6\" >109</td>\n",
       "      <td id=\"T_4cdf2_row11_col7\" class=\"data row11 col7\" >0</td>\n",
       "      <td id=\"T_4cdf2_row11_col8\" class=\"data row11 col8\" >0.7219</td>\n",
       "    </tr>\n",
       "    <tr>\n",
       "      <th id=\"T_4cdf2_level0_row12\" class=\"row_heading level0 row12\" >12</th>\n",
       "      <td id=\"T_4cdf2_row12_col0\" class=\"data row12 col0\" >https://www.rockwellautomation.com/campaigns/emea/en/company/events/webinars/technical-competency-updates/unleash-the-new-capabilities-of-edge-analytics</td>\n",
       "      <td id=\"T_4cdf2_row12_col1\" class=\"data row12 col1\" >nan</td>\n",
       "      <td id=\"T_4cdf2_row12_col2\" class=\"data row12 col2\" >nan</td>\n",
       "      <td id=\"T_4cdf2_row12_col3\" class=\"data row12 col3\" >nan</td>\n",
       "      <td id=\"T_4cdf2_row12_col4\" class=\"data row12 col4\" >nan</td>\n",
       "      <td id=\"T_4cdf2_row12_col5\" class=\"data row12 col5\" >372</td>\n",
       "      <td id=\"T_4cdf2_row12_col6\" class=\"data row12 col6\" >266</td>\n",
       "      <td id=\"T_4cdf2_row12_col7\" class=\"data row12 col7\" >0</td>\n",
       "      <td id=\"T_4cdf2_row12_col8\" class=\"data row12 col8\" >0.7151</td>\n",
       "    </tr>\n",
       "    <tr>\n",
       "      <th id=\"T_4cdf2_level0_row13\" class=\"row_heading level0 row13\" >13</th>\n",
       "      <td id=\"T_4cdf2_row13_col0\" class=\"data row13 col0\" >https://www.rockwellautomation.com/en-mde/products/hardware/allen-bradley/drives</td>\n",
       "      <td id=\"T_4cdf2_row13_col1\" class=\"data row13 col1\" >nan</td>\n",
       "      <td id=\"T_4cdf2_row13_col2\" class=\"data row13 col2\" >nan</td>\n",
       "      <td id=\"T_4cdf2_row13_col3\" class=\"data row13 col3\" >nan</td>\n",
       "      <td id=\"T_4cdf2_row13_col4\" class=\"data row13 col4\" >nan</td>\n",
       "      <td id=\"T_4cdf2_row13_col5\" class=\"data row13 col5\" >101</td>\n",
       "      <td id=\"T_4cdf2_row13_col6\" class=\"data row13 col6\" >72</td>\n",
       "      <td id=\"T_4cdf2_row13_col7\" class=\"data row13 col7\" >0</td>\n",
       "      <td id=\"T_4cdf2_row13_col8\" class=\"data row13 col8\" >0.7129</td>\n",
       "    </tr>\n",
       "    <tr>\n",
       "      <th id=\"T_4cdf2_level0_row14\" class=\"row_heading level0 row14\" >14</th>\n",
       "      <td id=\"T_4cdf2_row14_col0\" class=\"data row14 col0\" >https://www.rockwellautomation.com/support/product/product-selection-configuration/global-short-circuit-current-ratings-tool</td>\n",
       "      <td id=\"T_4cdf2_row14_col1\" class=\"data row14 col1\" >6124.000000</td>\n",
       "      <td id=\"T_4cdf2_row14_col2\" class=\"data row14 col2\" >4058.000000</td>\n",
       "      <td id=\"T_4cdf2_row14_col3\" class=\"data row14 col3\" >0.662639</td>\n",
       "      <td id=\"T_4cdf2_row14_col4\" class=\"data row14 col4\" >2066.000000</td>\n",
       "      <td id=\"T_4cdf2_row14_col5\" class=\"data row14 col5\" >7015</td>\n",
       "      <td id=\"T_4cdf2_row14_col6\" class=\"data row14 col6\" >4995</td>\n",
       "      <td id=\"T_4cdf2_row14_col7\" class=\"data row14 col7\" >0</td>\n",
       "      <td id=\"T_4cdf2_row14_col8\" class=\"data row14 col8\" >0.7120</td>\n",
       "    </tr>\n",
       "    <tr>\n",
       "      <th id=\"T_4cdf2_level0_row15\" class=\"row_heading level0 row15\" >15</th>\n",
       "      <td id=\"T_4cdf2_row15_col0\" class=\"data row15 col0\" >https://www.rockwellautomation.com/company/events/in-person-events/partnernetwork-conference</td>\n",
       "      <td id=\"T_4cdf2_row15_col1\" class=\"data row15 col1\" >119.000000</td>\n",
       "      <td id=\"T_4cdf2_row15_col2\" class=\"data row15 col2\" >48.000000</td>\n",
       "      <td id=\"T_4cdf2_row15_col3\" class=\"data row15 col3\" >0.403361</td>\n",
       "      <td id=\"T_4cdf2_row15_col4\" class=\"data row15 col4\" >71.000000</td>\n",
       "      <td id=\"T_4cdf2_row15_col5\" class=\"data row15 col5\" >245</td>\n",
       "      <td id=\"T_4cdf2_row15_col6\" class=\"data row15 col6\" >174</td>\n",
       "      <td id=\"T_4cdf2_row15_col7\" class=\"data row15 col7\" >0</td>\n",
       "      <td id=\"T_4cdf2_row15_col8\" class=\"data row15 col8\" >0.7102</td>\n",
       "    </tr>\n",
       "    <tr>\n",
       "      <th id=\"T_4cdf2_level0_row16\" class=\"row_heading level0 row16\" >16</th>\n",
       "      <td id=\"T_4cdf2_row16_col0\" class=\"data row16 col0\" >https://www.rockwellautomation.com/industries/chemical/vfd-energy-savings-calculator</td>\n",
       "      <td id=\"T_4cdf2_row16_col1\" class=\"data row16 col1\" >108.000000</td>\n",
       "      <td id=\"T_4cdf2_row16_col2\" class=\"data row16 col2\" >45.000000</td>\n",
       "      <td id=\"T_4cdf2_row16_col3\" class=\"data row16 col3\" >0.416667</td>\n",
       "      <td id=\"T_4cdf2_row16_col4\" class=\"data row16 col4\" >63.000000</td>\n",
       "      <td id=\"T_4cdf2_row16_col5\" class=\"data row16 col5\" >215</td>\n",
       "      <td id=\"T_4cdf2_row16_col6\" class=\"data row16 col6\" >152</td>\n",
       "      <td id=\"T_4cdf2_row16_col7\" class=\"data row16 col7\" >0</td>\n",
       "      <td id=\"T_4cdf2_row16_col8\" class=\"data row16 col8\" >0.7070</td>\n",
       "    </tr>\n",
       "    <tr>\n",
       "      <th id=\"T_4cdf2_level0_row17\" class=\"row_heading level0 row17\" >17</th>\n",
       "      <td id=\"T_4cdf2_row17_col0\" class=\"data row17 col0\" >https://www.rockwellautomation.com/company/news/column/executive_news_japan</td>\n",
       "      <td id=\"T_4cdf2_row17_col1\" class=\"data row17 col1\" >48.000000</td>\n",
       "      <td id=\"T_4cdf2_row17_col2\" class=\"data row17 col2\" >15.000000</td>\n",
       "      <td id=\"T_4cdf2_row17_col3\" class=\"data row17 col3\" >0.312500</td>\n",
       "      <td id=\"T_4cdf2_row17_col4\" class=\"data row17 col4\" >33.000000</td>\n",
       "      <td id=\"T_4cdf2_row17_col5\" class=\"data row17 col5\" >112</td>\n",
       "      <td id=\"T_4cdf2_row17_col6\" class=\"data row17 col6\" >79</td>\n",
       "      <td id=\"T_4cdf2_row17_col7\" class=\"data row17 col7\" >0</td>\n",
       "      <td id=\"T_4cdf2_row17_col8\" class=\"data row17 col8\" >0.7054</td>\n",
       "    </tr>\n",
       "    <tr>\n",
       "      <th id=\"T_4cdf2_level0_row18\" class=\"row_heading level0 row18\" >18</th>\n",
       "      <td id=\"T_4cdf2_row18_col0\" class=\"data row18 col0\" >https://www.rockwellautomation.com/en-mde/support/product/product-compatibility-migration/product-lifecycle-status</td>\n",
       "      <td id=\"T_4cdf2_row18_col1\" class=\"data row18 col1\" >nan</td>\n",
       "      <td id=\"T_4cdf2_row18_col2\" class=\"data row18 col2\" >nan</td>\n",
       "      <td id=\"T_4cdf2_row18_col3\" class=\"data row18 col3\" >nan</td>\n",
       "      <td id=\"T_4cdf2_row18_col4\" class=\"data row18 col4\" >nan</td>\n",
       "      <td id=\"T_4cdf2_row18_col5\" class=\"data row18 col5\" >280</td>\n",
       "      <td id=\"T_4cdf2_row18_col6\" class=\"data row18 col6\" >196</td>\n",
       "      <td id=\"T_4cdf2_row18_col7\" class=\"data row18 col7\" >0</td>\n",
       "      <td id=\"T_4cdf2_row18_col8\" class=\"data row18 col8\" >0.7000</td>\n",
       "    </tr>\n",
       "    <tr>\n",
       "      <th id=\"T_4cdf2_level0_row19\" class=\"row_heading level0 row19\" >19</th>\n",
       "      <td id=\"T_4cdf2_row19_col0\" class=\"data row19 col0\" >https://www.rockwellautomation.com/campaigns/emea/en/company/events/webinars/tech-talks/cisco-prosoft-spectrum-controls</td>\n",
       "      <td id=\"T_4cdf2_row19_col1\" class=\"data row19 col1\" >nan</td>\n",
       "      <td id=\"T_4cdf2_row19_col2\" class=\"data row19 col2\" >nan</td>\n",
       "      <td id=\"T_4cdf2_row19_col3\" class=\"data row19 col3\" >nan</td>\n",
       "      <td id=\"T_4cdf2_row19_col4\" class=\"data row19 col4\" >nan</td>\n",
       "      <td id=\"T_4cdf2_row19_col5\" class=\"data row19 col5\" >120</td>\n",
       "      <td id=\"T_4cdf2_row19_col6\" class=\"data row19 col6\" >84</td>\n",
       "      <td id=\"T_4cdf2_row19_col7\" class=\"data row19 col7\" >0</td>\n",
       "      <td id=\"T_4cdf2_row19_col8\" class=\"data row19 col8\" >0.7000</td>\n",
       "    </tr>\n",
       "    <tr>\n",
       "      <th id=\"T_4cdf2_level0_row20\" class=\"row_heading level0 row20\" >20</th>\n",
       "      <td id=\"T_4cdf2_row20_col0\" class=\"data row20 col0\" >https://www.rockwellautomation.com/company/events/webinars/micro-control-integrated-automation-solution</td>\n",
       "      <td id=\"T_4cdf2_row20_col1\" class=\"data row20 col1\" >217.000000</td>\n",
       "      <td id=\"T_4cdf2_row20_col2\" class=\"data row20 col2\" >133.000000</td>\n",
       "      <td id=\"T_4cdf2_row20_col3\" class=\"data row20 col3\" >0.612903</td>\n",
       "      <td id=\"T_4cdf2_row20_col4\" class=\"data row20 col4\" >84.000000</td>\n",
       "      <td id=\"T_4cdf2_row20_col5\" class=\"data row20 col5\" >280</td>\n",
       "      <td id=\"T_4cdf2_row20_col6\" class=\"data row20 col6\" >194</td>\n",
       "      <td id=\"T_4cdf2_row20_col7\" class=\"data row20 col7\" >0</td>\n",
       "      <td id=\"T_4cdf2_row20_col8\" class=\"data row20 col8\" >0.6929</td>\n",
       "    </tr>\n",
       "    <tr>\n",
       "      <th id=\"T_4cdf2_level0_row21\" class=\"row_heading level0 row21\" >21</th>\n",
       "      <td id=\"T_4cdf2_row21_col0\" class=\"data row21 col0\" >https://www.rockwellautomation.com/company/events/webinars/protect-your-gigafactory-with-industrial-security</td>\n",
       "      <td id=\"T_4cdf2_row21_col1\" class=\"data row21 col1\" >135.000000</td>\n",
       "      <td id=\"T_4cdf2_row21_col2\" class=\"data row21 col2\" >82.000000</td>\n",
       "      <td id=\"T_4cdf2_row21_col3\" class=\"data row21 col3\" >0.607407</td>\n",
       "      <td id=\"T_4cdf2_row21_col4\" class=\"data row21 col4\" >53.000000</td>\n",
       "      <td id=\"T_4cdf2_row21_col5\" class=\"data row21 col5\" >169</td>\n",
       "      <td id=\"T_4cdf2_row21_col6\" class=\"data row21 col6\" >116</td>\n",
       "      <td id=\"T_4cdf2_row21_col7\" class=\"data row21 col7\" >0</td>\n",
       "      <td id=\"T_4cdf2_row21_col8\" class=\"data row21 col8\" >0.6864</td>\n",
       "    </tr>\n",
       "    <tr>\n",
       "      <th id=\"T_4cdf2_level0_row22\" class=\"row_heading level0 row22\" >22</th>\n",
       "      <td id=\"T_4cdf2_row22_col0\" class=\"data row22 col0\" >https://www.rockwellautomation.com/support/documentation/technical-data/proposalworkssuppleme20180213-1403</td>\n",
       "      <td id=\"T_4cdf2_row22_col1\" class=\"data row22 col1\" >92.000000</td>\n",
       "      <td id=\"T_4cdf2_row22_col2\" class=\"data row22 col2\" >56.000000</td>\n",
       "      <td id=\"T_4cdf2_row22_col3\" class=\"data row22 col3\" >0.608696</td>\n",
       "      <td id=\"T_4cdf2_row22_col4\" class=\"data row22 col4\" >36.000000</td>\n",
       "      <td id=\"T_4cdf2_row22_col5\" class=\"data row22 col5\" >114</td>\n",
       "      <td id=\"T_4cdf2_row22_col6\" class=\"data row22 col6\" >78</td>\n",
       "      <td id=\"T_4cdf2_row22_col7\" class=\"data row22 col7\" >0</td>\n",
       "      <td id=\"T_4cdf2_row22_col8\" class=\"data row22 col8\" >0.6842</td>\n",
       "    </tr>\n",
       "    <tr>\n",
       "      <th id=\"T_4cdf2_level0_row23\" class=\"row_heading level0 row23\" >23</th>\n",
       "      <td id=\"T_4cdf2_row23_col0\" class=\"data row23 col0\" >https://www.rockwellautomation.com/company/events/webinars/technology-partner-genius-webinar-with-prosoft-technology---conn</td>\n",
       "      <td id=\"T_4cdf2_row23_col1\" class=\"data row23 col1\" >90.000000</td>\n",
       "      <td id=\"T_4cdf2_row23_col2\" class=\"data row23 col2\" >54.000000</td>\n",
       "      <td id=\"T_4cdf2_row23_col3\" class=\"data row23 col3\" >0.600000</td>\n",
       "      <td id=\"T_4cdf2_row23_col4\" class=\"data row23 col4\" >36.000000</td>\n",
       "      <td id=\"T_4cdf2_row23_col5\" class=\"data row23 col5\" >114</td>\n",
       "      <td id=\"T_4cdf2_row23_col6\" class=\"data row23 col6\" >78</td>\n",
       "      <td id=\"T_4cdf2_row23_col7\" class=\"data row23 col7\" >0</td>\n",
       "      <td id=\"T_4cdf2_row23_col8\" class=\"data row23 col8\" >0.6842</td>\n",
       "    </tr>\n",
       "    <tr>\n",
       "      <th id=\"T_4cdf2_level0_row24\" class=\"row_heading level0 row24\" >24</th>\n",
       "      <td id=\"T_4cdf2_row24_col0\" class=\"data row24 col0\" >https://www.rockwellautomation.com/support/documentation/technical-data/proposalworksaddinghe20180213-1349</td>\n",
       "      <td id=\"T_4cdf2_row24_col1\" class=\"data row24 col1\" >85.000000</td>\n",
       "      <td id=\"T_4cdf2_row24_col2\" class=\"data row24 col2\" >52.000000</td>\n",
       "      <td id=\"T_4cdf2_row24_col3\" class=\"data row24 col3\" >0.611765</td>\n",
       "      <td id=\"T_4cdf2_row24_col4\" class=\"data row24 col4\" >33.000000</td>\n",
       "      <td id=\"T_4cdf2_row24_col5\" class=\"data row24 col5\" >104</td>\n",
       "      <td id=\"T_4cdf2_row24_col6\" class=\"data row24 col6\" >71</td>\n",
       "      <td id=\"T_4cdf2_row24_col7\" class=\"data row24 col7\" >0</td>\n",
       "      <td id=\"T_4cdf2_row24_col8\" class=\"data row24 col8\" >0.6827</td>\n",
       "    </tr>\n",
       "    <tr>\n",
       "      <th id=\"T_4cdf2_level0_row25\" class=\"row_heading level0 row25\" >25</th>\n",
       "      <td id=\"T_4cdf2_row25_col0\" class=\"data row25 col0\" >https://www.rockwellautomation.com/company/events/in-person-events/roklive/emea/faq</td>\n",
       "      <td id=\"T_4cdf2_row25_col1\" class=\"data row25 col1\" >218.000000</td>\n",
       "      <td id=\"T_4cdf2_row25_col2\" class=\"data row25 col2\" >114.000000</td>\n",
       "      <td id=\"T_4cdf2_row25_col3\" class=\"data row25 col3\" >0.522936</td>\n",
       "      <td id=\"T_4cdf2_row25_col4\" class=\"data row25 col4\" >104.000000</td>\n",
       "      <td id=\"T_4cdf2_row25_col5\" class=\"data row25 col5\" >321</td>\n",
       "      <td id=\"T_4cdf2_row25_col6\" class=\"data row25 col6\" >219</td>\n",
       "      <td id=\"T_4cdf2_row25_col7\" class=\"data row25 col7\" >0</td>\n",
       "      <td id=\"T_4cdf2_row25_col8\" class=\"data row25 col8\" >0.6822</td>\n",
       "    </tr>\n",
       "    <tr>\n",
       "      <th id=\"T_4cdf2_level0_row26\" class=\"row_heading level0 row26\" >26</th>\n",
       "      <td id=\"T_4cdf2_row26_col0\" class=\"data row26 col0\" >https://www.rockwellautomation.com/company/events/webinars/technology-partner-genius-webinar-with-oden-technologies</td>\n",
       "      <td id=\"T_4cdf2_row26_col1\" class=\"data row26 col1\" >644.000000</td>\n",
       "      <td id=\"T_4cdf2_row26_col2\" class=\"data row26 col2\" >391.000000</td>\n",
       "      <td id=\"T_4cdf2_row26_col3\" class=\"data row26 col3\" >0.607143</td>\n",
       "      <td id=\"T_4cdf2_row26_col4\" class=\"data row26 col4\" >253.000000</td>\n",
       "      <td id=\"T_4cdf2_row26_col5\" class=\"data row26 col5\" >796</td>\n",
       "      <td id=\"T_4cdf2_row26_col6\" class=\"data row26 col6\" >542</td>\n",
       "      <td id=\"T_4cdf2_row26_col7\" class=\"data row26 col7\" >0</td>\n",
       "      <td id=\"T_4cdf2_row26_col8\" class=\"data row26 col8\" >0.6809</td>\n",
       "    </tr>\n",
       "    <tr>\n",
       "      <th id=\"T_4cdf2_level0_row27\" class=\"row_heading level0 row27\" >27</th>\n",
       "      <td id=\"T_4cdf2_row27_col0\" class=\"data row27 col0\" >https://www.rockwellautomation.com/company/news/blogs/single-use-system-lifesciences-pt2</td>\n",
       "      <td id=\"T_4cdf2_row27_col1\" class=\"data row27 col1\" >36.000000</td>\n",
       "      <td id=\"T_4cdf2_row27_col2\" class=\"data row27 col2\" >3.000000</td>\n",
       "      <td id=\"T_4cdf2_row27_col3\" class=\"data row27 col3\" >0.083333</td>\n",
       "      <td id=\"T_4cdf2_row27_col4\" class=\"data row27 col4\" >33.000000</td>\n",
       "      <td id=\"T_4cdf2_row27_col5\" class=\"data row27 col5\" >102</td>\n",
       "      <td id=\"T_4cdf2_row27_col6\" class=\"data row27 col6\" >69</td>\n",
       "      <td id=\"T_4cdf2_row27_col7\" class=\"data row27 col7\" >0</td>\n",
       "      <td id=\"T_4cdf2_row27_col8\" class=\"data row27 col8\" >0.6765</td>\n",
       "    </tr>\n",
       "    <tr>\n",
       "      <th id=\"T_4cdf2_level0_row28\" class=\"row_heading level0 row28\" >28</th>\n",
       "      <td id=\"T_4cdf2_row28_col0\" class=\"data row28 col0\" >https://www.rockwellautomation.com/company/news/demonstrations/safety-automation-builder-software-demonstration</td>\n",
       "      <td id=\"T_4cdf2_row28_col1\" class=\"data row28 col1\" >289.000000</td>\n",
       "      <td id=\"T_4cdf2_row28_col2\" class=\"data row28 col2\" >190.000000</td>\n",
       "      <td id=\"T_4cdf2_row28_col3\" class=\"data row28 col3\" >0.657439</td>\n",
       "      <td id=\"T_4cdf2_row28_col4\" class=\"data row28 col4\" >99.000000</td>\n",
       "      <td id=\"T_4cdf2_row28_col5\" class=\"data row28 col5\" >307</td>\n",
       "      <td id=\"T_4cdf2_row28_col6\" class=\"data row28 col6\" >207</td>\n",
       "      <td id=\"T_4cdf2_row28_col7\" class=\"data row28 col7\" >0</td>\n",
       "      <td id=\"T_4cdf2_row28_col8\" class=\"data row28 col8\" >0.6743</td>\n",
       "    </tr>\n",
       "    <tr>\n",
       "      <th id=\"T_4cdf2_level0_row29\" class=\"row_heading level0 row29\" >29</th>\n",
       "      <td id=\"T_4cdf2_row29_col0\" class=\"data row29 col0\" >https://www.rockwellautomation.com/company/news/blogs/from-automation-to-autonomy</td>\n",
       "      <td id=\"T_4cdf2_row29_col1\" class=\"data row29 col1\" >67.000000</td>\n",
       "      <td id=\"T_4cdf2_row29_col2\" class=\"data row29 col2\" >16.000000</td>\n",
       "      <td id=\"T_4cdf2_row29_col3\" class=\"data row29 col3\" >0.238806</td>\n",
       "      <td id=\"T_4cdf2_row29_col4\" class=\"data row29 col4\" >51.000000</td>\n",
       "      <td id=\"T_4cdf2_row29_col5\" class=\"data row29 col5\" >153</td>\n",
       "      <td id=\"T_4cdf2_row29_col6\" class=\"data row29 col6\" >103</td>\n",
       "      <td id=\"T_4cdf2_row29_col7\" class=\"data row29 col7\" >0</td>\n",
       "      <td id=\"T_4cdf2_row29_col8\" class=\"data row29 col8\" >0.6732</td>\n",
       "    </tr>\n",
       "  </tbody>\n",
       "</table>\n"
      ],
      "text/plain": [
       "<pandas.io.formats.style.Styler at 0x7f73c1589250>"
      ]
     },
     "execution_count": 203,
     "metadata": {},
     "output_type": "execute_result"
    }
   ],
   "source": [
    "comparison = result_wei.merge(result_check, on=\"clean_PageURL\", suffixes=[\"_wei\", \"_inkoo\"], how=\"right\")\n",
    "comparison.style"
   ]
  },
  {
   "cell_type": "code",
   "execution_count": 38,
   "id": "ddf91be1",
   "metadata": {
    "ExecuteTime": {
     "end_time": "2022-12-15T19:27:02.288947Z",
     "start_time": "2022-12-15T19:27:02.272232Z"
    }
   },
   "outputs": [],
   "source": [
    "# aem_raw[aem_raw[\"PageURL\"]==\"https://www.rockwellautomation.com/company/news/presentations/event_materials_page\"]"
   ]
  },
  {
   "cell_type": "markdown",
   "id": "02e35068",
   "metadata": {},
   "source": [
    "#### URL checking"
   ]
  },
  {
   "cell_type": "code",
   "execution_count": null,
   "id": "08e8cfc6",
   "metadata": {},
   "outputs": [],
   "source": [
    "url_maps = stage1_raw[[\"clean_PageURL\", \"PageURL\"]].drop_duplicates()"
   ]
  },
  {
   "cell_type": "code",
   "execution_count": 204,
   "id": "8b7f712d",
   "metadata": {
    "ExecuteTime": {
     "end_time": "2022-12-15T20:24:19.248560Z",
     "start_time": "2022-12-15T20:24:19.235940Z"
    }
   },
   "outputs": [],
   "source": [
    "# b = aa.reset_index()\n",
    "# c = b[b[\"clean_PageURL\"].str.contains(\"emea\")]\n",
    "# c[(c[\"total\"]>100) & (c[\"ratio\"]>0.05)].head(40).style"
   ]
  },
  {
   "cell_type": "code",
   "execution_count": 195,
   "id": "40af983a",
   "metadata": {
    "ExecuteTime": {
     "end_time": "2022-12-15T20:22:23.798349Z",
     "start_time": "2022-12-15T20:22:23.785206Z"
    }
   },
   "outputs": [],
   "source": [
    "# url_maps[url_maps[\"clean_PageURL\"].str.contains(\"emea\")].head().style"
   ]
  },
  {
   "cell_type": "code",
   "execution_count": null,
   "id": "b039102b",
   "metadata": {
    "ExecuteTime": {
     "end_time": "2022-12-15T18:44:58.202799Z",
     "start_time": "2022-12-15T18:44:58.202789Z"
    }
   },
   "outputs": [],
   "source": [
    "# url_idf = pd.DataFrame([vectorizer.get_feature_names(), vectorizer.idf_.tolist()]).T\n",
    "# url_idf.columns = [\"url\", \"idf\"]\n",
    "# with_idf = b.reset_index().merge(url_idf, left_on=\"clean_PageURL\", right_on=\"url\", how=\"left\")\n",
    "# with_idf.sort_values(by=\"idf\")"
   ]
  },
  {
   "cell_type": "markdown",
   "id": "72f8ee4c",
   "metadata": {
    "ExecuteTime": {
     "end_time": "2022-12-01T19:52:24.373754Z",
     "start_time": "2022-12-01T19:52:24.363288Z"
    }
   },
   "source": [
    "# Feature Engineering\n"
   ]
  },
  {
   "cell_type": "markdown",
   "id": "73fe9c01",
   "metadata": {},
   "source": [
    "## Preprocessing - TF-IDF (NLP)\n",
    "\n",
    "- TF-IDF = Term Frequency (TF) * Inverse Document Frequency (IDF)\n",
    "    - idf(t) = log(N/(df + 1))\n",
    "<!--         <img src=\"https://cdn-media-1.freecodecamp.org/images/1*q3qYevXqQOjJf6Pwdlx8Mw.png\" width=\"300\"/> -->\n",
    "<!--         <img src=\"https://preview.redd.it/clwuxvtqpeq91.png?width=397&format=png&auto=webp&s=ae6788cefae9b83b3033db3612ec83e8f5ded24f\" width=\"300\"/> -->\n",
    "    - rather directly using count frequency in the naive bayesian, using TF-IDF to adjust the features\n",
    "    \n",
    "- preprocessing.StandardScaler()\n",
    "    - should not use because the features importance are dependent on the frequency, which is already kind of information"
   ]
  },
  {
   "cell_type": "markdown",
   "id": "b68f4dbd",
   "metadata": {},
   "source": [
    "## stage1: wrapping data\n",
    "- label: Submitted gated form (target)\n",
    "    - generated by EventList\n",
    "- features:\n",
    "    - choosed:\n",
    "        - BingeScoredAssetPath: Current BingeScoredAssetPath interaction on one session ( content sequence )\n",
    "        - DateTime_UTC -> for concat sequence in visited order\n",
    "    - possible:\n",
    "        - BingeScoredAssetScore = manually set -> importance level for sales people\n",
    "        - BingeCriticalScore = manually threshold -> initial threshold for sales people\n",
    "        - PageURL? what information this URL can bring into model?\n",
    "        \n",
    "- original asset score manual setup ideas:\n",
    "    - asset weight average is 1, if it is more important/meaningful -> bump up to 2;\n",
    "    - if there are 5 assets in total, then default basic threshold is 5"
   ]
  },
  {
   "cell_type": "code",
   "execution_count": 39,
   "id": "2e6e752d",
   "metadata": {
    "ExecuteTime": {
     "end_time": "2022-12-15T19:27:24.583758Z",
     "start_time": "2022-12-15T19:27:24.578452Z"
    }
   },
   "outputs": [],
   "source": [
    "SEP_TOKEN_PATTERN = \"[^\\$]+\"\n",
    "SEED = 42\n",
    "TEST_SIZE = 0.2"
   ]
  },
  {
   "cell_type": "markdown",
   "id": "7de72f6b",
   "metadata": {},
   "source": [
    "# Modeling\n",
    "\n"
   ]
  },
  {
   "cell_type": "markdown",
   "id": "571b4581",
   "metadata": {},
   "source": [
    "## Stage-1: Scoring content - visitor preference \n",
    "- rethink:\n",
    "    - what is the most attractive content for visitor v.s. what is the most attractive content for salespeople?\n",
    "        - SubmitGatedForm action is not marked by sales people, it's kind of inclination level from user side\n",
    "        - the model is trying to know which asset is more important for SubmitGatedForm \n",
    "        - how important for user to submit GCDC\n",
    "\n",
    "    - weight should be from sales people definition, but current method can only get the attractive score on visitor aspect => \n",
    "        - assumption-1: more clicks => interesting to connect? <font color=red>submit GCDC == made a reach out decision? YES?</font>\n",
    "        - they will think the information are valuable for them, want to get more related information -> salespeople reach out? When is the time = threshold?"
   ]
  },
  {
   "cell_type": "code",
   "execution_count": 307,
   "id": "680db51f",
   "metadata": {
    "ExecuteTime": {
     "end_time": "2022-12-12T21:53:08.857799Z",
     "start_time": "2022-12-12T21:53:08.852818Z"
    }
   },
   "outputs": [],
   "source": [
    "# def page_journey_aggregation(user_journey, sep=\"$\"):\n",
    "#     label = user_journey[\"label\"].unique()\n",
    "#     assert len(label) == 1\n",
    "#     y = label[0]\n",
    "            \n",
    "#     page_view = sep.join(user_journey.sort_values(by=\"DateTime_UTC\")[\"clean_PageURL\"].tolist())\n",
    "#     return pd.Series([page_view, y], index=[\"features\", \"label\"])\n",
    "\n",
    "# data = stage1_raw.groupby(\"mcvisid\").progress_apply(lambda x: page_journey_aggregation(x))"
   ]
  },
  {
   "cell_type": "code",
   "execution_count": 68,
   "id": "da9e2d87",
   "metadata": {
    "ExecuteTime": {
     "end_time": "2022-12-15T19:34:55.822003Z",
     "start_time": "2022-12-15T19:34:21.138886Z"
    }
   },
   "outputs": [],
   "source": [
    "# y_sum = stage1_raw.groupby(\"mcvisid\")[\"label\"].sum()\n",
    "# y_size = stage1_raw.groupby(\"mcvisid\")[\"label\"].size()\n",
    "# y_validation = pd.concat([y_size, y_sum], axis=1)\n",
    "# y_validation.columns=[\"y_size\",\"y_sum\"]\n",
    "# y_pos = y_validation[y_validation[\"y_sum\"]>0]\n",
    "# y_pos[y_pos[\"y_size\"] != y_pos[\"y_sum\"]]# should be unique zero"
   ]
  },
  {
   "cell_type": "code",
   "execution_count": 81,
   "id": "77a88dbd",
   "metadata": {
    "ExecuteTime": {
     "end_time": "2022-12-15T19:38:19.272244Z",
     "start_time": "2022-12-15T19:38:19.257310Z"
    }
   },
   "outputs": [],
   "source": [
    "# stage1_raw[stage1_raw[\"mcvisid\"] == \"00000092262929664423777026703889338013\"]"
   ]
  },
  {
   "cell_type": "code",
   "execution_count": 83,
   "id": "f6b3a3f4",
   "metadata": {
    "ExecuteTime": {
     "end_time": "2022-12-15T19:41:04.102425Z",
     "start_time": "2022-12-15T19:38:25.445231Z"
    }
   },
   "outputs": [
    {
     "name": "stderr",
     "output_type": "stream",
     "text": [
      "100%|██████████████████████████████| 5364609/5364609 [01:57<00:00, 45465.23it/s]\n"
     ]
    }
   ],
   "source": [
    "X = stage1_raw.sort_values(by=[\"date\",\"hour\"]).groupby(\"mcvisid\").progress_apply(lambda x: \"$\".join(x[\"clean_PageURL\"]))\n",
    "y = stage1_raw.groupby(\"mcvisid\")[\"label\"].sum()>0"
   ]
  },
  {
   "cell_type": "markdown",
   "id": "eece798e",
   "metadata": {},
   "source": [
    "### minium visit frequency data viewer\n",
    "- at least valid five visit"
   ]
  },
  {
   "cell_type": "code",
   "execution_count": 84,
   "id": "9cb86d7d",
   "metadata": {
    "ExecuteTime": {
     "end_time": "2022-12-15T19:42:24.226831Z",
     "start_time": "2022-12-15T19:41:04.104708Z"
    }
   },
   "outputs": [],
   "source": [
    "stage1_raw.to_csv(\"tableau_eda.csv\")\n"
   ]
  },
  {
   "cell_type": "code",
   "execution_count": null,
   "id": "a6752add",
   "metadata": {},
   "outputs": [],
   "source": []
  },
  {
   "cell_type": "code",
   "execution_count": 85,
   "id": "e184b63f",
   "metadata": {
    "ExecuteTime": {
     "end_time": "2022-12-15T19:44:22.765562Z",
     "start_time": "2022-12-15T19:42:24.227852Z"
    },
    "scrolled": true
   },
   "outputs": [
    {
     "name": "stderr",
     "output_type": "stream",
     "text": [
      "100%|███████████████████████████████████████████| 14/14 [01:40<00:00,  7.21s/it]\n"
     ]
    }
   ],
   "source": [
    "fts = pd.DataFrame()\n",
    "unique_fts = pd.DataFrame()\n",
    "visit_freq = stage1_raw.groupby(\"mcvisid\").size().sort_values()\n",
    "for mini_records in tqdm(range(1,15)):\n",
    "    target_visit = visit_freq[visit_freq>=mini_records]\n",
    "    target_raw = stage1_raw[stage1_raw[\"mcvisid\"].isin(target_visit.index)]\n",
    "    ft = target_raw[\"label\"].value_counts().rename(f\"min{mini_records}\").to_frame().T\n",
    "    unique_ft = target_raw[[\"mcvisid\",\"label\"]].drop_duplicates()[\"label\"].value_counts().rename(f\"u-min{mini_records}\").to_frame().T\n",
    "    fts = pd.concat([fts, ft])\n",
    "    unique_fts = pd.concat([unique_ft,unique_fts])\n"
   ]
  },
  {
   "cell_type": "code",
   "execution_count": 90,
   "id": "1da73bb4",
   "metadata": {
    "ExecuteTime": {
     "end_time": "2022-12-15T19:44:52.958604Z",
     "start_time": "2022-12-15T19:44:52.950229Z"
    }
   },
   "outputs": [],
   "source": [
    "# unique_fts\n",
    "unique_fts = unique_fts.sort_values(by=1, ascending=False)"
   ]
  },
  {
   "cell_type": "code",
   "execution_count": 91,
   "id": "5f69fff2",
   "metadata": {
    "ExecuteTime": {
     "end_time": "2022-12-15T19:44:53.477955Z",
     "start_time": "2022-12-15T19:44:53.367822Z"
    }
   },
   "outputs": [
    {
     "data": {
      "text/html": [
       "<div>\n",
       "<style scoped>\n",
       "    .dataframe tbody tr th:only-of-type {\n",
       "        vertical-align: middle;\n",
       "    }\n",
       "\n",
       "    .dataframe tbody tr th {\n",
       "        vertical-align: top;\n",
       "    }\n",
       "\n",
       "    .dataframe thead th {\n",
       "        text-align: right;\n",
       "    }\n",
       "</style>\n",
       "<table border=\"1\" class=\"dataframe\">\n",
       "  <thead>\n",
       "    <tr style=\"text-align: right;\">\n",
       "      <th></th>\n",
       "      <th>0</th>\n",
       "      <th>1</th>\n",
       "      <th>ratio</th>\n",
       "    </tr>\n",
       "  </thead>\n",
       "  <tbody>\n",
       "    <tr>\n",
       "      <th>u-min1</th>\n",
       "      <td>5213220</td>\n",
       "      <td>151389</td>\n",
       "      <td>34.43592</td>\n",
       "    </tr>\n",
       "    <tr>\n",
       "      <th>u-min2</th>\n",
       "      <td>1217262</td>\n",
       "      <td>135080</td>\n",
       "      <td>9.01142</td>\n",
       "    </tr>\n",
       "    <tr>\n",
       "      <th>u-min3</th>\n",
       "      <td>769527</td>\n",
       "      <td>121244</td>\n",
       "      <td>6.34693</td>\n",
       "    </tr>\n",
       "    <tr>\n",
       "      <th>u-min4</th>\n",
       "      <td>545558</td>\n",
       "      <td>109618</td>\n",
       "      <td>4.97690</td>\n",
       "    </tr>\n",
       "    <tr>\n",
       "      <th>u-min5</th>\n",
       "      <td>411538</td>\n",
       "      <td>99749</td>\n",
       "      <td>4.12574</td>\n",
       "    </tr>\n",
       "    <tr>\n",
       "      <th>u-min6</th>\n",
       "      <td>324392</td>\n",
       "      <td>91175</td>\n",
       "      <td>3.55791</td>\n",
       "    </tr>\n",
       "    <tr>\n",
       "      <th>u-min7</th>\n",
       "      <td>263600</td>\n",
       "      <td>83803</td>\n",
       "      <td>3.14547</td>\n",
       "    </tr>\n",
       "    <tr>\n",
       "      <th>u-min8</th>\n",
       "      <td>219315</td>\n",
       "      <td>77285</td>\n",
       "      <td>2.83774</td>\n",
       "    </tr>\n",
       "    <tr>\n",
       "      <th>u-min9</th>\n",
       "      <td>185813</td>\n",
       "      <td>71699</td>\n",
       "      <td>2.59157</td>\n",
       "    </tr>\n",
       "    <tr>\n",
       "      <th>u-min10</th>\n",
       "      <td>160238</td>\n",
       "      <td>66678</td>\n",
       "      <td>2.40316</td>\n",
       "    </tr>\n",
       "    <tr>\n",
       "      <th>u-min11</th>\n",
       "      <td>140044</td>\n",
       "      <td>62374</td>\n",
       "      <td>2.24523</td>\n",
       "    </tr>\n",
       "    <tr>\n",
       "      <th>u-min12</th>\n",
       "      <td>123654</td>\n",
       "      <td>58347</td>\n",
       "      <td>2.11929</td>\n",
       "    </tr>\n",
       "    <tr>\n",
       "      <th>u-min13</th>\n",
       "      <td>110191</td>\n",
       "      <td>54902</td>\n",
       "      <td>2.00705</td>\n",
       "    </tr>\n",
       "    <tr>\n",
       "      <th>u-min14</th>\n",
       "      <td>98890</td>\n",
       "      <td>51711</td>\n",
       "      <td>1.91236</td>\n",
       "    </tr>\n",
       "  </tbody>\n",
       "</table>\n",
       "</div>"
      ],
      "text/plain": [
       "               0       1    ratio\n",
       "u-min1   5213220  151389 34.43592\n",
       "u-min2   1217262  135080  9.01142\n",
       "u-min3    769527  121244  6.34693\n",
       "u-min4    545558  109618  4.97690\n",
       "u-min5    411538   99749  4.12574\n",
       "u-min6    324392   91175  3.55791\n",
       "u-min7    263600   83803  3.14547\n",
       "u-min8    219315   77285  2.83774\n",
       "u-min9    185813   71699  2.59157\n",
       "u-min10   160238   66678  2.40316\n",
       "u-min11   140044   62374  2.24523\n",
       "u-min12   123654   58347  2.11929\n",
       "u-min13   110191   54902  2.00705\n",
       "u-min14    98890   51711  1.91236"
      ]
     },
     "execution_count": 91,
     "metadata": {},
     "output_type": "execute_result"
    },
    {
     "data": {
      "image/png": "[encoded data removed]",
      "text/plain": [
       "<Figure size 432x288 with 1 Axes>"
      ]
     },
     "metadata": {
      "needs_background": "light"
     },
     "output_type": "display_data"
    }
   ],
   "source": [
    "unique_fts.plot()\n",
    "unique_fts[\"ratio\"] = unique_fts[0]/unique_fts[1]\n",
    "unique_fts"
   ]
  },
  {
   "cell_type": "code",
   "execution_count": 92,
   "id": "f343ae2d",
   "metadata": {
    "ExecuteTime": {
     "end_time": "2022-12-15T19:45:02.848188Z",
     "start_time": "2022-12-15T19:45:02.758352Z"
    }
   },
   "outputs": [
    {
     "data": {
      "text/html": [
       "<div>\n",
       "<style scoped>\n",
       "    .dataframe tbody tr th:only-of-type {\n",
       "        vertical-align: middle;\n",
       "    }\n",
       "\n",
       "    .dataframe tbody tr th {\n",
       "        vertical-align: top;\n",
       "    }\n",
       "\n",
       "    .dataframe thead th {\n",
       "        text-align: right;\n",
       "    }\n",
       "</style>\n",
       "<table border=\"1\" class=\"dataframe\">\n",
       "  <thead>\n",
       "    <tr style=\"text-align: right;\">\n",
       "      <th></th>\n",
       "      <th>0</th>\n",
       "      <th>1</th>\n",
       "      <th>ratio</th>\n",
       "    </tr>\n",
       "  </thead>\n",
       "  <tbody>\n",
       "    <tr>\n",
       "      <th>min1</th>\n",
       "      <td>11660898</td>\n",
       "      <td>3072844</td>\n",
       "      <td>3.79482</td>\n",
       "    </tr>\n",
       "    <tr>\n",
       "      <th>min2</th>\n",
       "      <td>7664940</td>\n",
       "      <td>3056535</td>\n",
       "      <td>2.50772</td>\n",
       "    </tr>\n",
       "    <tr>\n",
       "      <th>min3</th>\n",
       "      <td>6769470</td>\n",
       "      <td>3028863</td>\n",
       "      <td>2.23499</td>\n",
       "    </tr>\n",
       "    <tr>\n",
       "      <th>min4</th>\n",
       "      <td>6097563</td>\n",
       "      <td>2993985</td>\n",
       "      <td>2.03660</td>\n",
       "    </tr>\n",
       "    <tr>\n",
       "      <th>min5</th>\n",
       "      <td>5561483</td>\n",
       "      <td>2954509</td>\n",
       "      <td>1.88237</td>\n",
       "    </tr>\n",
       "    <tr>\n",
       "      <th>min6</th>\n",
       "      <td>5125753</td>\n",
       "      <td>2911639</td>\n",
       "      <td>1.76044</td>\n",
       "    </tr>\n",
       "    <tr>\n",
       "      <th>min7</th>\n",
       "      <td>4761001</td>\n",
       "      <td>2867407</td>\n",
       "      <td>1.66039</td>\n",
       "    </tr>\n",
       "    <tr>\n",
       "      <th>min8</th>\n",
       "      <td>4451006</td>\n",
       "      <td>2821781</td>\n",
       "      <td>1.57737</td>\n",
       "    </tr>\n",
       "    <tr>\n",
       "      <th>min9</th>\n",
       "      <td>4182990</td>\n",
       "      <td>2777093</td>\n",
       "      <td>1.50625</td>\n",
       "    </tr>\n",
       "    <tr>\n",
       "      <th>min10</th>\n",
       "      <td>3952815</td>\n",
       "      <td>2731904</td>\n",
       "      <td>1.44691</td>\n",
       "    </tr>\n",
       "    <tr>\n",
       "      <th>min11</th>\n",
       "      <td>3750875</td>\n",
       "      <td>2688864</td>\n",
       "      <td>1.39497</td>\n",
       "    </tr>\n",
       "    <tr>\n",
       "      <th>min12</th>\n",
       "      <td>3570585</td>\n",
       "      <td>2644567</td>\n",
       "      <td>1.35016</td>\n",
       "    </tr>\n",
       "    <tr>\n",
       "      <th>min13</th>\n",
       "      <td>3409029</td>\n",
       "      <td>2603227</td>\n",
       "      <td>1.30954</td>\n",
       "    </tr>\n",
       "    <tr>\n",
       "      <th>min14</th>\n",
       "      <td>3262116</td>\n",
       "      <td>2561744</td>\n",
       "      <td>1.27340</td>\n",
       "    </tr>\n",
       "  </tbody>\n",
       "</table>\n",
       "</div>"
      ],
      "text/plain": [
       "              0        1   ratio\n",
       "min1   11660898  3072844 3.79482\n",
       "min2    7664940  3056535 2.50772\n",
       "min3    6769470  3028863 2.23499\n",
       "min4    6097563  2993985 2.03660\n",
       "min5    5561483  2954509 1.88237\n",
       "min6    5125753  2911639 1.76044\n",
       "min7    4761001  2867407 1.66039\n",
       "min8    4451006  2821781 1.57737\n",
       "min9    4182990  2777093 1.50625\n",
       "min10   3952815  2731904 1.44691\n",
       "min11   3750875  2688864 1.39497\n",
       "min12   3570585  2644567 1.35016\n",
       "min13   3409029  2603227 1.30954\n",
       "min14   3262116  2561744 1.27340"
      ]
     },
     "execution_count": 92,
     "metadata": {},
     "output_type": "execute_result"
    },
    {
     "data": {
      "image/png": "[encoded data removed]",
      "text/plain": [
       "<Figure size 432x288 with 1 Axes>"
      ]
     },
     "metadata": {
      "needs_background": "light"
     },
     "output_type": "display_data"
    }
   ],
   "source": [
    "fts.plot()\n",
    "fts[\"ratio\"] = fts[0]/fts[1]\n",
    "fts"
   ]
  },
  {
   "cell_type": "code",
   "execution_count": 93,
   "id": "c15b76f8",
   "metadata": {
    "ExecuteTime": {
     "end_time": "2022-12-15T19:45:11.984923Z",
     "start_time": "2022-12-15T19:45:05.639870Z"
    }
   },
   "outputs": [],
   "source": [
    "target_visit = visit_freq[(visit_freq>=5)]\n",
    "target_raw = stage1_raw[stage1_raw[\"mcvisid\"].isin(target_visit.index)]"
   ]
  },
  {
   "cell_type": "code",
   "execution_count": 94,
   "id": "017b5de6",
   "metadata": {
    "ExecuteTime": {
     "end_time": "2022-12-15T19:45:55.607501Z",
     "start_time": "2022-12-15T19:45:27.297447Z"
    }
   },
   "outputs": [
    {
     "name": "stderr",
     "output_type": "stream",
     "text": [
      "100%|████████████████████████████████| 511287/511287 [00:18<00:00, 27075.88it/s]\n"
     ]
    }
   ],
   "source": [
    "X = target_raw.sort_values(by=[\"date\",\"hour\"]).groupby(\"mcvisid\").progress_apply(lambda x: \"$\".join(x[\"clean_PageURL\"]))\n",
    "y = target_raw.groupby(\"mcvisid\")[\"label\"].sum()>0"
   ]
  },
  {
   "cell_type": "code",
   "execution_count": 127,
   "id": "b84a6412",
   "metadata": {
    "ExecuteTime": {
     "end_time": "2022-12-15T19:51:41.723167Z",
     "start_time": "2022-12-15T19:51:41.718145Z"
    }
   },
   "outputs": [],
   "source": [
    "# target_pageurls = target_raw[[\"PageURL\", \"clean_PageURL\"]].drop_duplicates()"
   ]
  },
  {
   "cell_type": "code",
   "execution_count": 95,
   "id": "da42f42d",
   "metadata": {
    "ExecuteTime": {
     "end_time": "2022-12-15T19:45:55.733030Z",
     "start_time": "2022-12-15T19:45:55.609235Z"
    }
   },
   "outputs": [],
   "source": [
    "data = pd.concat([X, y], axis=1)\n",
    "data.columns = [\"features\", \"label\"]\n",
    "\n",
    "### increase threshold\n",
    "# data = data.loc[target_visit.index]\n",
    "# print(\"reduce rows:\", X.shape[0] - data.shape[0], \"from \", X.shape[0], \"keep rows: \", data.shape[0])"
   ]
  },
  {
   "cell_type": "code",
   "execution_count": null,
   "id": "8b2d75de",
   "metadata": {
    "ExecuteTime": {
     "end_time": "2022-12-15T19:44:25.779770Z",
     "start_time": "2022-12-15T19:44:25.779763Z"
    }
   },
   "outputs": [],
   "source": [
    "# data[\"features\"].drop_duplicates()"
   ]
  },
  {
   "cell_type": "code",
   "execution_count": null,
   "id": "9344fa58",
   "metadata": {
    "ExecuteTime": {
     "end_time": "2022-12-15T19:44:25.783964Z",
     "start_time": "2022-12-15T19:44:25.783956Z"
    }
   },
   "outputs": [],
   "source": [
    "# aa = data.groupby(\"features\", group_keys=False).size().sort_values() # 检查是否有 同样数据 但是不同的 label 的数据\n",
    "# aa.to_frame().tail(40).style"
   ]
  },
  {
   "cell_type": "markdown",
   "id": "de640e58",
   "metadata": {},
   "source": [
    "### Data split + TFIDF\n",
    "<!-- \n",
    "# ## outdated\n",
    "# data = stage1_raw.groupby(\"SessionVisitorId\").apply(lambda x: processing_stage1(x, target_method=1, feature_method=\"bow\"))\n",
    "# data[\"submitted_form\"].value_counts()\n",
    "\n",
    "# def tfidf_transform(dtm, idf=None):\n",
    "#     N = dtm.shape[0] # number of document\n",
    "#     tf = (dtm/(dtm.sum(axis=1).reshape(-1,1)))\n",
    "\n",
    "#     if idf is None:\n",
    "#         idf = np.log(1 + N/(dtm.astype(bool).sum(axis=0)))\n",
    "        \n",
    "#     tfidf = tf * idf\n",
    "#     return tfidf, idf\n",
    "# v = DictVectorizer(sparse=False)\n",
    "# X_train_dtm = v.fit_transform(X_train)\n",
    "# X_test_dtm = v.transform(X_test)\n",
    "# X_train_arr, idf = tfidf_transform(X_train_dtm)\n",
    "# X_test_arr, _ = tfidf_transform(X_test_dtm, idf) -->"
   ]
  },
  {
   "cell_type": "code",
   "execution_count": 182,
   "id": "a4d35535",
   "metadata": {
    "ExecuteTime": {
     "end_time": "2022-12-15T20:07:36.647119Z",
     "start_time": "2022-12-15T20:07:36.221614Z"
    }
   },
   "outputs": [
    {
     "data": {
      "text/html": [
       "<style type=\"text/css\">\n",
       "</style>\n",
       "<table id=\"T_8ddc5_\">\n",
       "  <thead>\n",
       "    <tr>\n",
       "      <th class=\"blank level0\" >&nbsp;</th>\n",
       "      <th class=\"col_heading level0 col0\" >features_seq</th>\n",
       "      <th class=\"col_heading level0 col1\" >label</th>\n",
       "    </tr>\n",
       "    <tr>\n",
       "      <th class=\"index_name level0\" >mcvisid</th>\n",
       "      <th class=\"blank col0\" >&nbsp;</th>\n",
       "      <th class=\"blank col1\" >&nbsp;</th>\n",
       "    </tr>\n",
       "  </thead>\n",
       "  <tbody>\n",
       "    <tr>\n",
       "      <th id=\"T_8ddc5_level0_row0\" class=\"row_heading level0 row0\" >00752956491585750399092274822195998449</th>\n",
       "      <td id=\"T_8ddc5_row0_col0\" class=\"data row0 col0\" >['https://www.rockwellautomation.com/products/software/factorytalk/designsuite/studio-5000', 'https://www.rockwellautomation.com/products', 'https://www.rockwellautomation.com/products', 'https://www.rockwellautomation.com/support/product/product-downloads', 'https://www.rockwellautomation.com/support', 'https://www.rockwellautomation.com/capabilities', 'https://www.rockwellautomation.com/products/software/factorytalk/operationsuite/view']</td>\n",
       "      <td id=\"T_8ddc5_row0_col1\" class=\"data row0 col1\" >False</td>\n",
       "    </tr>\n",
       "    <tr>\n",
       "      <th id=\"T_8ddc5_level0_row1\" class=\"row_heading level0 row1\" >11275546366618658743887050212027124167</th>\n",
       "      <td id=\"T_8ddc5_row1_col0\" class=\"data row1 col0\" >['https://www.rockwellautomation.com/products/hardware/allen-bradley', 'https://www.rockwellautomation.com/company/careers', 'https://www.rockwellautomation.com/products/hardware/allen-bradley/motion-control/encoders/absolute-encoders/absolute-encoders-on-ethernet-ip', 'https://www.rockwellautomation.com/industries/automotive-tire', 'https://www.rockwellautomation.com/company/news/press-releases/rockwell-automation-launches-singapore-s-first-fully-integrated-csec']</td>\n",
       "      <td id=\"T_8ddc5_row1_col1\" class=\"data row1 col1\" >False</td>\n",
       "    </tr>\n",
       "    <tr>\n",
       "      <th id=\"T_8ddc5_level0_row2\" class=\"row_heading level0 row2\" >26888984371369230672498044291015803969</th>\n",
       "      <td id=\"T_8ddc5_row2_col0\" class=\"data row2 col0\" >['https://www.rockwellautomation.com/search', 'https://www.rockwellautomation.com/support/documentation/literature-library', 'https://www.rockwellautomation.com/products/details.100-C30D10', 'https://www.rockwellautomation.com/products/details.4983-DS120-401', 'https://www.rockwellautomation.com/search', 'https://www.rockwellautomation.com/support/documentation/literature-library', 'https://www.rockwellautomation.com/search', 'https://www.rockwellautomation.com/support/documentation/literature-library']</td>\n",
       "      <td id=\"T_8ddc5_row2_col1\" class=\"data row2 col1\" >False</td>\n",
       "    </tr>\n",
       "    <tr>\n",
       "      <th id=\"T_8ddc5_level0_row3\" class=\"row_heading level0 row3\" >48419368413719575903194716878033976028</th>\n",
       "      <td id=\"T_8ddc5_row3_col0\" class=\"data row3 col0\" >['https://www.rockwellautomation.com/lang-selection', 'https://www.rockwellautomation.com/sales', 'https://www.rockwellautomation.com/company/about-us/contact-us', 'https://www.rockwellautomation.com/sales', 'https://www.rockwellautomation.com/company/about-us/contact-us', 'https://www.rockwellautomation.com/contact', 'https://www.rockwellautomation.com/capabilities/industrial-maintenance-support/product-application-support/remanufacturing-exchange-services']</td>\n",
       "      <td id=\"T_8ddc5_row3_col1\" class=\"data row3 col1\" >False</td>\n",
       "    </tr>\n",
       "    <tr>\n",
       "      <th id=\"T_8ddc5_level0_row4\" class=\"row_heading level0 row4\" >54021224076475894202370149879749691426</th>\n",
       "      <td id=\"T_8ddc5_row4_col0\" class=\"data row4 col0\" >['https://www.rockwellautomation.com/en-gb', 'https://www.rockwellautomation.com/en-us', 'https://www.rockwellautomation.com/lang-selection', 'https://www.rockwellautomation.com/support', 'https://www.rockwellautomation.com/en-gb']</td>\n",
       "      <td id=\"T_8ddc5_row4_col1\" class=\"data row4 col1\" >False</td>\n",
       "    </tr>\n",
       "    <tr>\n",
       "      <th id=\"T_8ddc5_level0_row5\" class=\"row_heading level0 row5\" >31557635028282397681411732608670103731</th>\n",
       "      <td id=\"T_8ddc5_row5_col0\" class=\"data row5 col0\" >['https://www.rockwellautomation.com/products/hardware/allen-bradley/energy-monitoring/1408-powermonitor-1000', 'https://www.rockwellautomation.com/en-us', 'https://www.rockwellautomation.com/support/training', 'https://www.rockwellautomation.com/sales', 'https://www.rockwellautomation.com/company/news/the-journal/pid-control-tuning-software-handles-complex-work']</td>\n",
       "      <td id=\"T_8ddc5_row5_col1\" class=\"data row5 col1\" >True</td>\n",
       "    </tr>\n",
       "    <tr>\n",
       "      <th id=\"T_8ddc5_level0_row6\" class=\"row_heading level0 row6\" >37636782091219907962043760245575385434</th>\n",
       "      <td id=\"T_8ddc5_row6_col0\" class=\"data row6 col0\" >['https://www.rockwellautomation.com/search', 'https://www.rockwellautomation.com/search', 'https://www.rockwellautomation.com/products/details.889D-F4ACDM-25', 'https://www.rockwellautomation.com/products/details.440N-Z21W1PH', 'https://www.rockwellautomation.com/products/details.440R-N23132', 'https://www.rockwellautomation.com/products/details.440R-N23135']</td>\n",
       "      <td id=\"T_8ddc5_row6_col1\" class=\"data row6 col1\" >False</td>\n",
       "    </tr>\n",
       "    <tr>\n",
       "      <th id=\"T_8ddc5_level0_row7\" class=\"row_heading level0 row7\" >85229116900511734031747618727944775292</th>\n",
       "      <td id=\"T_8ddc5_row7_col0\" class=\"data row7 col0\" >['https://www.rockwellautomation.com/search', 'https://www.rockwellautomation.com/products', 'https://www.rockwellautomation.com/products/software/arena-simulation', 'https://www.rockwellautomation.com/products/software/arena-simulation/buying-options/download', 'https://www.rockwellautomation.com/products/software/arena-simulation/buying-options']</td>\n",
       "      <td id=\"T_8ddc5_row7_col1\" class=\"data row7 col1\" >False</td>\n",
       "    </tr>\n",
       "    <tr>\n",
       "      <th id=\"T_8ddc5_level0_row8\" class=\"row_heading level0 row8\" >83572902225678297113384642938078405595</th>\n",
       "      <td id=\"T_8ddc5_row8_col0\" class=\"data row8 col0\" >['https://www.rockwellautomation.com/company/about-us/contact-us', 'https://www.rockwellautomation.com/support', 'https://www.rockwellautomation.com/company/about-us/contact-us', 'https://www.rockwellautomation.com/products/hardware/allen-bradley', 'https://www.rockwellautomation.com/support/training']</td>\n",
       "      <td id=\"T_8ddc5_row8_col1\" class=\"data row8 col1\" >False</td>\n",
       "    </tr>\n",
       "    <tr>\n",
       "      <th id=\"T_8ddc5_level0_row9\" class=\"row_heading level0 row9\" >47491653668902155464399080146275152993</th>\n",
       "      <td id=\"T_8ddc5_row9_col0\" class=\"data row9 col0\" >['https://www.rockwellautomation.com/search', 'https://www.rockwellautomation.com/support/documentation/literature-library', 'https://www.rockwellautomation.com/products/details.1492-PD3141', 'https://www.rockwellautomation.com/products/details.1492-ACABLE010Z', 'https://www.rockwellautomation.com/products/details.1492-IFM20F']</td>\n",
       "      <td id=\"T_8ddc5_row9_col1\" class=\"data row9 col1\" >False</td>\n",
       "    </tr>\n",
       "    <tr>\n",
       "      <th id=\"T_8ddc5_level0_row10\" class=\"row_heading level0 row10\" >74686849593509931750495277674559220024</th>\n",
       "      <td id=\"T_8ddc5_row10_col0\" class=\"data row10 col0\" >['https://www.rockwellautomation.com/sales', 'https://www.rockwellautomation.com/company/partnernetwork/authorized-distributors', 'https://www.rockwellautomation.com/company/partnernetwork/oem-original-equipment-manufacturer-partners', 'https://www.rockwellautomation.com/sales', 'https://www.rockwellautomation.com/sales']</td>\n",
       "      <td id=\"T_8ddc5_row10_col1\" class=\"data row10 col1\" >False</td>\n",
       "    </tr>\n",
       "    <tr>\n",
       "      <th id=\"T_8ddc5_level0_row11\" class=\"row_heading level0 row11\" >58687571272883383581688822462557750980</th>\n",
       "      <td id=\"T_8ddc5_row11_col0\" class=\"data row11 col0\" >['https://www.rockwellautomation.com/en-us', 'https://www.rockwellautomation.com/lang-selection', 'https://www.rockwellautomation.com/support', 'https://www.rockwellautomation.com/support/product/product-downloads', 'https://www.rockwellautomation.com/tools', 'https://www.rockwellautomation.com/support/product/product-selection-configuration/proposalworks-proposal-builder']</td>\n",
       "      <td id=\"T_8ddc5_row11_col1\" class=\"data row11 col1\" >True</td>\n",
       "    </tr>\n",
       "    <tr>\n",
       "      <th id=\"T_8ddc5_level0_row12\" class=\"row_heading level0 row12\" >82592890538404904831683215550376312318</th>\n",
       "      <td id=\"T_8ddc5_row12_col0\" class=\"data row12 col0\" >['https://www.rockwellautomation.com/search', 'https://www.rockwellautomation.com/industries', 'https://www.rockwellautomation.com/search', 'https://www.rockwellautomation.com/sales', 'https://www.rockwellautomation.com/products/details.700-HLT2Z24', 'https://www.rockwellautomation.com/products/details.700S-CF620EJBC', 'https://www.rockwellautomation.com/products/details.25C-D1P4N114']</td>\n",
       "      <td id=\"T_8ddc5_row12_col1\" class=\"data row12 col1\" >False</td>\n",
       "    </tr>\n",
       "    <tr>\n",
       "      <th id=\"T_8ddc5_level0_row13\" class=\"row_heading level0 row13\" >09410139930340358550002991291741731145</th>\n",
       "      <td id=\"T_8ddc5_row13_col0\" class=\"data row13 col0\" >['https://www.rockwellautomation.com/products/hardware/allen-bradley', 'https://www.rockwellautomation.com/lang-selection', 'https://www.rockwellautomation.com/en-us', 'https://www.rockwellautomation.com/sales', 'https://www.rockwellautomation.com/search', 'https://www.rockwellautomation.com/products/hardware/allen-bradley']</td>\n",
       "      <td id=\"T_8ddc5_row13_col1\" class=\"data row13 col1\" >False</td>\n",
       "    </tr>\n",
       "    <tr>\n",
       "      <th id=\"T_8ddc5_level0_row14\" class=\"row_heading level0 row14\" >41505405964619119871708718486596360686</th>\n",
       "      <td id=\"T_8ddc5_row14_col0\" class=\"data row14 col0\" >['https://www.rockwellautomation.com/products/hardware/allen-bradley/motor-control', 'https://www.rockwellautomation.com/industries/life-sciences/pharmaceutical-manufacturing', 'https://www.rockwellautomation.com/en-us', 'https://www.rockwellautomation.com/sales', 'https://www.rockwellautomation.com/company/partnernetwork']</td>\n",
       "      <td id=\"T_8ddc5_row14_col1\" class=\"data row14 col1\" >False</td>\n",
       "    </tr>\n",
       "    <tr>\n",
       "      <th id=\"T_8ddc5_level0_row15\" class=\"row_heading level0 row15\" >54524348605832395081135005717781093939</th>\n",
       "      <td id=\"T_8ddc5_row15_col0\" class=\"data row15 col0\" >['https://www.rockwellautomation.com/en-us', 'https://www.rockwellautomation.com/en-us', 'https://www.rockwellautomation.com/en-us', 'https://www.rockwellautomation.com/en-us', 'https://www.rockwellautomation.com/en-us', 'https://www.rockwellautomation.com/en-us', 'https://www.rockwellautomation.com/en-us']</td>\n",
       "      <td id=\"T_8ddc5_row15_col1\" class=\"data row15 col1\" >False</td>\n",
       "    </tr>\n",
       "    <tr>\n",
       "      <th id=\"T_8ddc5_level0_row16\" class=\"row_heading level0 row16\" >23291840314278011362811345378920626611</th>\n",
       "      <td id=\"T_8ddc5_row16_col0\" class=\"data row16 col0\" >['https://www.rockwellautomation.com/company/about-us', 'https://www.rockwellautomation.com/company/about-us/sustainability', 'https://www.rockwellautomation.com/company/about-us', 'https://www.rockwellautomation.com/sales', 'https://www.rockwellautomation.com/industries/automotive-tire', 'https://www.rockwellautomation.com/company/about-us', 'https://www.rockwellautomation.com/company/about-us', 'https://www.rockwellautomation.com/company/about-us']</td>\n",
       "      <td id=\"T_8ddc5_row16_col1\" class=\"data row16 col1\" >False</td>\n",
       "    </tr>\n",
       "    <tr>\n",
       "      <th id=\"T_8ddc5_level0_row17\" class=\"row_heading level0 row17\" >00106054054193559872101527609548985377</th>\n",
       "      <td id=\"T_8ddc5_row17_col0\" class=\"data row17 col0\" >['https://www.rockwellautomation.com/search', 'https://www.rockwellautomation.com/company/about-us/lists/authorizeddistributor', 'https://www.rockwellautomation.com/sales', 'https://www.rockwellautomation.com/company/about-us/lists/authorizeddistributor', 'https://www.rockwellautomation.com/sales', 'https://www.rockwellautomation.com/company/about-us/contact-us', 'https://www.rockwellautomation.com/products/details.1734-OE2C']</td>\n",
       "      <td id=\"T_8ddc5_row17_col1\" class=\"data row17 col1\" >False</td>\n",
       "    </tr>\n",
       "    <tr>\n",
       "      <th id=\"T_8ddc5_level0_row18\" class=\"row_heading level0 row18\" >43722974827968092384609684252571957350</th>\n",
       "      <td id=\"T_8ddc5_row18_col0\" class=\"data row18 col0\" >['https://www.rockwellautomation.com/products/software/factorytalk', 'https://www.rockwellautomation.com/search', 'https://www.rockwellautomation.com/support/product/product-compatibility-migration/product-lifecycle-status', 'https://www.rockwellautomation.com/products/details.1783-MS06T', 'https://www.rockwellautomation.com/support/training']</td>\n",
       "      <td id=\"T_8ddc5_row18_col1\" class=\"data row18 col1\" >False</td>\n",
       "    </tr>\n",
       "    <tr>\n",
       "      <th id=\"T_8ddc5_level0_row19\" class=\"row_heading level0 row19\" >03214543998253954272321841017892175737</th>\n",
       "      <td id=\"T_8ddc5_row19_col0\" class=\"data row19 col0\" >['https://www.rockwellautomation.com/search', 'https://www.rockwellautomation.com/support/documentation', 'https://www.rockwellautomation.com/products/hardware/allen-bradley', 'https://www.rockwellautomation.com/support/documentation/literature-library', 'https://www.rockwellautomation.com/products/hardware/allen-bradley', 'https://www.rockwellautomation.com/search', 'https://www.rockwellautomation.com/support/documentation/literature-library', 'https://www.rockwellautomation.com/products/hardware/allen-bradley']</td>\n",
       "      <td id=\"T_8ddc5_row19_col1\" class=\"data row19 col1\" >False</td>\n",
       "    </tr>\n",
       "    <tr>\n",
       "      <th id=\"T_8ddc5_level0_row20\" class=\"row_heading level0 row20\" >70396967224779238923062489717217854364</th>\n",
       "      <td id=\"T_8ddc5_row20_col0\" class=\"data row20 col0\" >['https://www.rockwellautomation.com/support/documentation/literature-library', 'https://www.rockwellautomation.com/products/hardware/allen-bradley', 'https://www.rockwellautomation.com/en-us', 'https://www.rockwellautomation.com/search', 'https://www.rockwellautomation.com/support/documentation/literature-library']</td>\n",
       "      <td id=\"T_8ddc5_row20_col1\" class=\"data row20 col1\" >True</td>\n",
       "    </tr>\n",
       "    <tr>\n",
       "      <th id=\"T_8ddc5_level0_row21\" class=\"row_heading level0 row21\" >73351396591557150500779925217789854319</th>\n",
       "      <td id=\"T_8ddc5_row21_col0\" class=\"data row21 col0\" >['https://www.rockwellautomation.com/lang-selection', 'https://www.rockwellautomation.com/en-us', 'https://www.rockwellautomation.com/capabilities/industrial-security', 'https://www.rockwellautomation.com/capabilities/industrial-security/industrial-security-services', 'https://www.rockwellautomation.com/capabilities/industrial-security/security-advisories', 'https://www.rockwellautomation.com/capabilities/industrial-security/security-products']</td>\n",
       "      <td id=\"T_8ddc5_row21_col1\" class=\"data row21 col1\" >False</td>\n",
       "    </tr>\n",
       "    <tr>\n",
       "      <th id=\"T_8ddc5_level0_row22\" class=\"row_heading level0 row22\" >30651174406944345273418744944165620022</th>\n",
       "      <td id=\"T_8ddc5_row22_col0\" class=\"data row22 col0\" >['https://www.rockwellautomation.com/fr-be', 'https://www.rockwellautomation.com/products/software/factorytalk/designsuite/studio-5000', 'https://www.rockwellautomation.com/support/product/product-downloads', 'https://www.rockwellautomation.com/products/hardware/allen-bradley', 'https://www.rockwellautomation.com/products/software/factorytalk/designsuite/studio-5000', 'https://www.rockwellautomation.com/support/product/product-downloads']</td>\n",
       "      <td id=\"T_8ddc5_row22_col1\" class=\"data row22 col1\" >False</td>\n",
       "    </tr>\n",
       "    <tr>\n",
       "      <th id=\"T_8ddc5_level0_row23\" class=\"row_heading level0 row23\" >67212965038593929412707480182948145961</th>\n",
       "      <td id=\"T_8ddc5_row23_col0\" class=\"data row23 col0\" >['https://www.rockwellautomation.com/ko-kr', 'https://www.rockwellautomation.com/products/hardware/allen-bradley', 'https://www.rockwellautomation.com/search', 'https://www.rockwellautomation.com/support', 'https://www.rockwellautomation.com/products/details.1756-CN2R', 'https://www.rockwellautomation.com/ko-kr', 'https://www.rockwellautomation.com/sales', 'https://www.rockwellautomation.com/company/about-us/lists/authorizeddistributor', 'https://www.rockwellautomation.com']</td>\n",
       "      <td id=\"T_8ddc5_row23_col1\" class=\"data row23 col1\" >False</td>\n",
       "    </tr>\n",
       "    <tr>\n",
       "      <th id=\"T_8ddc5_level0_row24\" class=\"row_heading level0 row24\" >05824557309244363252087382014207667726</th>\n",
       "      <td id=\"T_8ddc5_row24_col0\" class=\"data row24 col0\" >['https://www.rockwellautomation.com/search', 'https://www.rockwellautomation.com/search', 'https://www.rockwellautomation.com/search', 'https://www.rockwellautomation.com/search', 'https://www.rockwellautomation.com/products', 'https://www.rockwellautomation.com/products/software/factorytalk/operationsuite/view', 'https://www.rockwellautomation.com/products/software/factorytalk/operationsuite/view/factorytalk-view-site-edition', 'https://www.rockwellautomation.com/search']</td>\n",
       "      <td id=\"T_8ddc5_row24_col1\" class=\"data row24 col1\" >False</td>\n",
       "    </tr>\n",
       "    <tr>\n",
       "      <th id=\"T_8ddc5_level0_row25\" class=\"row_heading level0 row25\" >91283803670418026790834601711082718909</th>\n",
       "      <td id=\"T_8ddc5_row25_col0\" class=\"data row25 col0\" >['https://www.rockwellautomation.com/capabilities/digital-transformation', 'https://www.rockwellautomation.com/en-us', 'https://www.rockwellautomation.com/company/careers', 'https://www.rockwellautomation.com/company/news/case-studies/caterpillar-unearths-data-to-optimize-production', 'https://www.rockwellautomation.com/capabilities/digital-transformation', 'https://www.rockwellautomation.com/industries/aerospace', 'https://www.rockwellautomation.com/capabilities/digital-engineering-software']</td>\n",
       "      <td id=\"T_8ddc5_row25_col1\" class=\"data row25 col1\" >False</td>\n",
       "    </tr>\n",
       "    <tr>\n",
       "      <th id=\"T_8ddc5_level0_row26\" class=\"row_heading level0 row26\" >64793156878383311670204740067494477757</th>\n",
       "      <td id=\"T_8ddc5_row26_col0\" class=\"data row26 col0\" >['https://www.rockwellautomation.com/sales', 'https://www.rockwellautomation.com/products/details.1769-L30ERMK', 'https://www.rockwellautomation.com/products/hardware/allen-bradley', 'https://www.rockwellautomation.com/sales', 'https://www.rockwellautomation.com/products/hardware/allen-bradley', 'https://www.rockwellautomation.com/products/details.1769-L33ER', 'https://www.rockwellautomation.com/products/details.1747-L553', 'https://www.rockwellautomation.com/products/details.1769-L37ERM']</td>\n",
       "      <td id=\"T_8ddc5_row26_col1\" class=\"data row26 col1\" >False</td>\n",
       "    </tr>\n",
       "    <tr>\n",
       "      <th id=\"T_8ddc5_level0_row27\" class=\"row_heading level0 row27\" >47685061603529831138333473356891818195</th>\n",
       "      <td id=\"T_8ddc5_row27_col0\" class=\"data row27 col0\" >['https://www.rockwellautomation.com/company/news/blogs/augmented-reality-sandbox', 'https://www.rockwellautomation.com/company/events/in-person-events/roklive', 'https://www.rockwellautomation.com/company/events/in-person-events/roklive/attend', 'https://www.rockwellautomation.com/company/events/in-person-events/roklive/attend', 'https://www.rockwellautomation.com/company/events/in-person-events/roklive/attend', 'https://www.rockwellautomation.com/company/events/in-person-events/roklive/attend']</td>\n",
       "      <td id=\"T_8ddc5_row27_col1\" class=\"data row27 col1\" >False</td>\n",
       "    </tr>\n",
       "    <tr>\n",
       "      <th id=\"T_8ddc5_level0_row28\" class=\"row_heading level0 row28\" >58297363100722947932371046861441754656</th>\n",
       "      <td id=\"T_8ddc5_row28_col0\" class=\"data row28 col0\" >['https://www.rockwellautomation.com/industries/life-sciences/pharmaceutical-manufacturing', 'https://www.rockwellautomation.com/industries/life-sciences/pharmaceutical-manufacturing', 'https://www.rockwellautomation.com/industries/chemical', 'https://www.rockwellautomation.com/industries/chemical', 'https://www.rockwellautomation.com/industries/chemical']</td>\n",
       "      <td id=\"T_8ddc5_row28_col1\" class=\"data row28 col1\" >True</td>\n",
       "    </tr>\n",
       "    <tr>\n",
       "      <th id=\"T_8ddc5_level0_row29\" class=\"row_heading level0 row29\" >49727998193839767911671605398265758092</th>\n",
       "      <td id=\"T_8ddc5_row29_col0\" class=\"data row29 col0\" >['https://www.rockwellautomation.com/products', 'https://www.rockwellautomation.com/products/hardware/allen-bradley/drives', 'https://www.rockwellautomation.com/search', 'https://www.rockwellautomation.com/products/hardware/allen-bradley/drives', 'https://www.rockwellautomation.com/products/details.VPL-B0633T-PK14AA']</td>\n",
       "      <td id=\"T_8ddc5_row29_col1\" class=\"data row29 col1\" >False</td>\n",
       "    </tr>\n",
       "  </tbody>\n",
       "</table>\n"
      ],
      "text/plain": [
       "<pandas.io.formats.style.Styler at 0x7f7628fa4cd0>"
      ]
     },
     "execution_count": 182,
     "metadata": {},
     "output_type": "execute_result"
    }
   ],
   "source": [
    "samples_checking = data[data[\"features\"].transform(len)<500]\n",
    "seeds= 10\n",
    "samples_30 = samples_checking.assign(features_seq = samples_checking[\"features\"].transform(lambda x: x.split(\"$\"))).sample(30, random_state=seeds)\n",
    "samples_30[[\"features_seq\", \"label\"]].style"
   ]
  },
  {
   "cell_type": "code",
   "execution_count": null,
   "id": "7b14ee1e",
   "metadata": {},
   "outputs": [],
   "source": []
  },
  {
   "cell_type": "code",
   "execution_count": 96,
   "id": "dccfbe05",
   "metadata": {
    "ExecuteTime": {
     "end_time": "2022-12-15T19:45:56.615867Z",
     "start_time": "2022-12-15T19:45:55.734349Z"
    }
   },
   "outputs": [
    {
     "name": "stdout",
     "output_type": "stream",
     "text": [
      "pos vs neg in training set: Counter({False: 411538, True: 99749})\n",
      "training sample label proportion: Counter({False: 329230, True: 79799})\n",
      "testing sample label proportion: Counter({False: 82308, True: 19950})\n",
      "after up/down-sampling, testing sample label proportion: Counter({False: 329230, True: 329230})\n"
     ]
    }
   ],
   "source": [
    "print(\"pos vs neg in training set:\",  Counter(data[\"label\"]))\n",
    "X_train, X_test, y_train, y_test = train_test_split(data[\"features\"], data[\"label\"], test_size=TEST_SIZE, stratify=data[\"label\"].values, random_state=SEED)\n",
    "print(\"training sample label proportion:\", Counter(y_train))\n",
    "print(\"testing sample label proportion:\", Counter(y_test))\n",
    "\n",
    "## down-sampling/up-sampling\n",
    "data_train = pd.concat([X_train, y_train], axis=1)\n",
    "# pos_size = y_train.sum()\n",
    "# data_train = data_train.groupby('label', group_keys=False).apply(lambda x: x.sample(pos_size, replace=False))\n",
    "neg_size = (~y_train).sum()\n",
    "data_train = data_train.groupby('label', group_keys=False).apply(lambda x: x.sample(neg_size, replace=True))\n",
    "X_train = data_train[\"features\"]\n",
    "y_train = data_train[\"label\"]\n",
    "print(\"after up/down-sampling, testing sample label proportion:\", Counter(y_train))"
   ]
  },
  {
   "cell_type": "code",
   "execution_count": 137,
   "id": "d74f2323",
   "metadata": {
    "ExecuteTime": {
     "end_time": "2022-12-15T19:56:26.978373Z",
     "start_time": "2022-12-15T19:56:16.950170Z"
    }
   },
   "outputs": [
    {
     "name": "stdout",
     "output_type": "stream",
     "text": [
      "feature dimension 6715 with min_df = 50 max_df = 0.95\n"
     ]
    }
   ],
   "source": [
    "MIN_DF = 50\n",
    "MAX_DF = 0.95\n",
    "vectorizer = TfidfVectorizer(token_pattern=SEP_TOKEN_PATTERN, binary=False, max_df=MAX_DF, min_df=MIN_DF,dtype=np.float64)\n",
    "\n",
    "X_train_arr = vectorizer.fit_transform(X_train)\n",
    "X_test_arr = vectorizer.transform(X_test)\n",
    "print(f\"feature dimension {len(vectorizer.get_feature_names())} with min_df = {MIN_DF} max_df = {MAX_DF}\")"
   ]
  },
  {
   "cell_type": "code",
   "execution_count": 98,
   "id": "8d3d85ae",
   "metadata": {
    "ExecuteTime": {
     "end_time": "2022-12-15T19:46:06.642750Z",
     "start_time": "2022-12-15T19:46:06.641182Z"
    }
   },
   "outputs": [],
   "source": [
    "# vectorizer.get_feature_names() # others = assign zero"
   ]
  },
  {
   "cell_type": "markdown",
   "id": "0ebf5676",
   "metadata": {},
   "source": [
    "### Models"
   ]
  },
  {
   "cell_type": "markdown",
   "id": "4cada077",
   "metadata": {},
   "source": [
    "#### dimension reduction\n",
    "- for improve prediction accuracy only, not assigning weight"
   ]
  },
  {
   "cell_type": "code",
   "execution_count": 130,
   "id": "44019d7d",
   "metadata": {
    "ExecuteTime": {
     "end_time": "2022-12-15T19:55:45.188568Z",
     "start_time": "2022-12-15T19:55:45.180221Z"
    }
   },
   "outputs": [],
   "source": [
    "from sklearn.decomposition import TruncatedSVD\n",
    "from sklearn.manifold import TSNE\n",
    "import seaborn as sns\n",
    "from matplotlib import colors"
   ]
  },
  {
   "cell_type": "code",
   "execution_count": 131,
   "id": "0b7258c7",
   "metadata": {
    "ExecuteTime": {
     "end_time": "2022-12-15T19:55:45.405975Z",
     "start_time": "2022-12-15T19:55:45.397160Z"
    }
   },
   "outputs": [],
   "source": [
    "# pca = TruncatedSVD(n_components=3)\n",
    "# pca_result = pca.fit_transform(X_train_arr)\n",
    "# vis = pd.DataFrame()\n",
    "# vis['pca-one'] = pca_result[:,0]\n",
    "# vis['pca-two'] = pca_result[:,1] \n",
    "# vis['pca-three'] = pca_result[:,2]\n",
    "# vis[\"y\"]= y_train\n",
    "# print('Explained variation per principal component: {}'.format(pca.explained_variance_ratio_))"
   ]
  },
  {
   "cell_type": "code",
   "execution_count": 132,
   "id": "169c9ed9",
   "metadata": {
    "ExecuteTime": {
     "end_time": "2022-12-15T19:55:45.554777Z",
     "start_time": "2022-12-15T19:55:45.543619Z"
    }
   },
   "outputs": [],
   "source": [
    "# ax = plt.figure(figsize=(16,10)).gca(projection='3d')\n",
    "# ax.scatter(\n",
    "#     xs=vis[\"pca-one\"], \n",
    "#     ys=vis[\"pca-two\"], \n",
    "#     zs=vis[\"pca-three\"], \n",
    "#     c=vis[\"y\"], \n",
    "#     cmap='tab10'\n",
    "# )\n",
    "# ax.set_xlabel('pca-one')\n",
    "# ax.set_ylabel('pca-two')\n",
    "# ax.set_zlabel('pca-three')\n",
    "# plt.show()"
   ]
  },
  {
   "cell_type": "code",
   "execution_count": 133,
   "id": "998336a8",
   "metadata": {
    "ExecuteTime": {
     "end_time": "2022-12-15T19:55:45.692430Z",
     "start_time": "2022-12-15T19:55:45.679490Z"
    },
    "scrolled": true
   },
   "outputs": [],
   "source": [
    "# data_subset = data.sample(50000, random_state=22 )\n",
    "# tsne = TSNE(n_components=3, verbose=1, perplexity=40, n_iter=250)\n",
    "# tsne_results = tsne.fit_transform(vectorizer.transform(data_subset[\"features\"]))\n",
    "\n",
    "# data_subset['tsne-3d-one'] = tsne_results[:,0]\n",
    "# data_subset['tsne-3d-two'] = tsne_results[:,1]\n",
    "# data_subset['tsne-3d-three'] = tsne_results[:,2]\n",
    "\n",
    "# ax = plt.figure(figsize=(16,10)).gca(projection='3d')\n",
    "# ax.scatter(\n",
    "#     xs=data_subset['tsne-3d-one'],\n",
    "#     ys=data_subset['tsne-3d-two'],\n",
    "#     zs=data_subset['tsne-3d-three'],\n",
    "#     c=data_subset[\"label\"], \n",
    "#     cmap=colors.ListedColormap(['blue', 'red'])\n",
    "# )\n",
    "# ax.set_xlabel('tsne-3d-one')\n",
    "# ax.set_ylabel('tsne-3d-two')\n",
    "# ax.set_zlabel('tsne-3d-three')\n",
    "# plt.show()\n",
    "# data_subset[\"label\"].value_counts()"
   ]
  },
  {
   "cell_type": "markdown",
   "id": "844852d5",
   "metadata": {},
   "source": [
    "#### LR"
   ]
  },
  {
   "cell_type": "code",
   "execution_count": 141,
   "id": "93e33028",
   "metadata": {
    "ExecuteTime": {
     "end_time": "2022-12-15T19:56:57.241442Z",
     "start_time": "2022-12-15T19:56:49.055136Z"
    }
   },
   "outputs": [
    {
     "name": "stdout",
     "output_type": "stream",
     "text": [
      "              precision    recall  f1-score   support\n",
      "\n",
      "       False       0.91      0.74      0.81     82308\n",
      "        True       0.39      0.68      0.49     19950\n",
      "\n",
      "    accuracy                           0.73    102258\n",
      "   macro avg       0.65      0.71      0.65    102258\n",
      "weighted avg       0.80      0.73      0.75    102258\n",
      "\n"
     ]
    },
    {
     "data": {
      "image/png": "[encoded data removed]",
      "text/plain": [
       "<Figure size 432x288 with 2 Axes>"
      ]
     },
     "metadata": {
      "needs_background": "light"
     },
     "output_type": "display_data"
    },
    {
     "name": "stdout",
     "output_type": "stream",
     "text": [
      "AUC: 71.02%, PRC: 56.58%\n"
     ]
    }
   ],
   "source": [
    "model = LogisticRegression()\n",
    "model.fit(X_train_arr, y_train)\n",
    "# model.coef_\n",
    "y_pred = model.predict(X_test_arr)\n",
    "evaluate_metrics(y_test, y_pred, show_plots = True)"
   ]
  },
  {
   "cell_type": "markdown",
   "id": "be5dd6b0",
   "metadata": {},
   "source": [
    "#### svm (x)\n",
    "- no weight but only predict prob "
   ]
  },
  {
   "cell_type": "code",
   "execution_count": 138,
   "id": "04e33c66",
   "metadata": {
    "ExecuteTime": {
     "end_time": "2022-12-15T19:56:38.319274Z",
     "start_time": "2022-12-15T19:56:26.979487Z"
    }
   },
   "outputs": [
    {
     "name": "stdout",
     "output_type": "stream",
     "text": [
      "              precision    recall  f1-score   support\n",
      "\n",
      "       False       0.90      0.74      0.81     82308\n",
      "        True       0.38      0.68      0.49     19950\n",
      "\n",
      "    accuracy                           0.73    102258\n",
      "   macro avg       0.64      0.71      0.65    102258\n",
      "weighted avg       0.80      0.73      0.75    102258\n",
      "\n"
     ]
    },
    {
     "data": {
      "image/png": "[encoded data removed]",
      "text/plain": [
       "<Figure size 432x288 with 2 Axes>"
      ]
     },
     "metadata": {
      "needs_background": "light"
     },
     "output_type": "display_data"
    },
    {
     "name": "stdout",
     "output_type": "stream",
     "text": [
      "AUC: 70.85%, PRC: 56.39%\n"
     ]
    }
   ],
   "source": [
    "svm_clf = svm.LinearSVC(C=1)\n",
    "svm_clf.fit(X_train_arr, y_train)\n",
    "y_pred = svm_clf.predict(X_test_arr)\n",
    "evaluate_metrics(y_test, y_pred, show_plots = True)"
   ]
  },
  {
   "cell_type": "markdown",
   "id": "f59ab946",
   "metadata": {},
   "source": [
    "#### naive bayes\n",
    "- $\\theta_{yi}$ is the probability $P(x_i \\mid y)$ of feature i appearing in a sample belonging to class y."
   ]
  },
  {
   "cell_type": "code",
   "execution_count": 140,
   "id": "4efd0d6c",
   "metadata": {
    "ExecuteTime": {
     "end_time": "2022-12-15T19:56:46.595943Z",
     "start_time": "2022-12-15T19:56:46.240448Z"
    }
   },
   "outputs": [
    {
     "name": "stdout",
     "output_type": "stream",
     "text": [
      "              precision    recall  f1-score   support\n",
      "\n",
      "       False       0.89      0.58      0.70     82308\n",
      "        True       0.29      0.70      0.41     19950\n",
      "\n",
      "    accuracy                           0.60    102258\n",
      "   macro avg       0.59      0.64      0.56    102258\n",
      "weighted avg       0.77      0.60      0.65    102258\n",
      "\n"
     ]
    },
    {
     "data": {
      "image/png": "[encoded data removed]",
      "text/plain": [
       "<Figure size 432x288 with 2 Axes>"
      ]
     },
     "metadata": {
      "needs_background": "light"
     },
     "output_type": "display_data"
    },
    {
     "name": "stdout",
     "output_type": "stream",
     "text": [
      "AUC: 70.24%, PRC: 38.96%\n"
     ]
    }
   ],
   "source": [
    "clf = MultinomialNB().fit(X_train_arr, y_train)\n",
    "asset_prob = np.exp(clf.feature_log_prob_[0])\n",
    "# clf.feature_log_prob_[0]\n",
    "y_pred = (clf.predict_proba(X_test_arr))[:, 1]\n",
    "evaluate_metrics(y_test, y_pred, show_plots = True)"
   ]
  },
  {
   "cell_type": "markdown",
   "id": "a8e7c9b3",
   "metadata": {},
   "source": [
    "### <font color=red>cross validation</font>\n",
    "<img src=\"https://scikit-learn.org/stable/_images/grid_search_cross_validation.png\" width=\"300\"/>"
   ]
  },
  {
   "cell_type": "code",
   "execution_count": 107,
   "id": "259d3d5b",
   "metadata": {
    "ExecuteTime": {
     "end_time": "2022-12-15T19:47:51.993122Z",
     "start_time": "2022-12-15T19:47:51.301105Z"
    }
   },
   "outputs": [
    {
     "name": "stdout",
     "output_type": "stream",
     "text": [
      "0.66 accuracy with a standard deviation of 0.00\n"
     ]
    }
   ],
   "source": [
    "scores = cross_validate(clf, X_train_arr, y_train, cv=5)\n",
    "print(\"%0.2f accuracy with a standard deviation of %0.2f\" % (scores[\"test_score\"].mean(), scores[\"test_score\"].std()))"
   ]
  },
  {
   "cell_type": "markdown",
   "id": "83e5af7e",
   "metadata": {},
   "source": [
    "### Assign Weight\n",
    "- conditional prob"
   ]
  },
  {
   "cell_type": "code",
   "execution_count": 108,
   "id": "c0fdaca2",
   "metadata": {
    "ExecuteTime": {
     "end_time": "2022-12-15T19:47:51.996480Z",
     "start_time": "2022-12-15T19:47:51.994509Z"
    }
   },
   "outputs": [],
   "source": [
    "# log p(w|c=1) + log p(w|c=0)\n",
    "asset_prob = np.exp(clf.feature_log_prob_[0])"
   ]
  },
  {
   "cell_type": "code",
   "execution_count": 109,
   "id": "16b12430",
   "metadata": {
    "ExecuteTime": {
     "end_time": "2022-12-15T19:47:53.012109Z",
     "start_time": "2022-12-15T19:47:52.471955Z"
    }
   },
   "outputs": [],
   "source": [
    "weights = pd.DataFrame([vectorizer.get_feature_names(), asset_prob.tolist()]).T\n",
    "weights.columns = [\"asset\", \"weight\"]\n",
    "# weights.sort_values(by=\"weight\", ascending=False).style\n",
    "# weights = weights[weights[\"weight\"]>weights[\"weight\"].mean()]"
   ]
  },
  {
   "cell_type": "markdown",
   "id": "d490fddd",
   "metadata": {},
   "source": [
    "## Correlation"
   ]
  },
  {
   "cell_type": "code",
   "execution_count": null,
   "id": "1ff0fc23",
   "metadata": {
    "ExecuteTime": {
     "end_time": "2022-12-15T19:44:25.798857Z",
     "start_time": "2022-12-15T19:44:25.798850Z"
    }
   },
   "outputs": [],
   "source": [
    "# mat2 = pd.DataFrame(np.hstack([y_train.reshape(-1,1), X_train_arr.toarray()]), columns=[\"y\"]+vectorizer.get_feature_names())\n",
    "# corr = mat2.corr().iloc[1:, 0:1].sort_values(\"y\")\n",
    "# corr.plot(kind=\"bar\")\n",
    "# corr"
   ]
  },
  {
   "cell_type": "code",
   "execution_count": null,
   "id": "870fb372",
   "metadata": {
    "ExecuteTime": {
     "end_time": "2022-12-15T19:44:25.800136Z",
     "start_time": "2022-12-15T19:44:25.800126Z"
    }
   },
   "outputs": [],
   "source": [
    "# corr.style.background_gradient(cmap='coolwarm', axis=None)"
   ]
  },
  {
   "cell_type": "code",
   "execution_count": null,
   "id": "bb7a98c5",
   "metadata": {},
   "outputs": [],
   "source": []
  },
  {
   "cell_type": "markdown",
   "id": "b74392d1",
   "metadata": {},
   "source": [
    "## Weight Rescaling\n",
    "lowest level is 1, decide which one has higher importance score. start with 1"
   ]
  },
  {
   "cell_type": "code",
   "execution_count": 110,
   "id": "f0fb396f",
   "metadata": {
    "ExecuteTime": {
     "end_time": "2022-12-15T19:47:55.603105Z",
     "start_time": "2022-12-15T19:47:55.581223Z"
    }
   },
   "outputs": [
    {
     "data": {
      "text/plain": [
       "count   30590.00000\n",
       "mean        0.00003\n",
       "std         0.00045\n",
       "min         0.00000\n",
       "25%         0.00000\n",
       "50%         0.00000\n",
       "75%         0.00001\n",
       "max         0.04583\n",
       "Name: weight, dtype: float64"
      ]
     },
     "execution_count": 110,
     "metadata": {},
     "output_type": "execute_result"
    }
   ],
   "source": [
    "x = weights[\"weight\"].astype(float)\n",
    "x.describe()"
   ]
  },
  {
   "cell_type": "markdown",
   "id": "8eff53c7",
   "metadata": {
    "ExecuteTime": {
     "end_time": "2022-12-07T22:41:22.564446Z",
     "start_time": "2022-12-07T22:41:22.557939Z"
    }
   },
   "source": [
    "### Three levels (prefer)"
   ]
  },
  {
   "cell_type": "code",
   "execution_count": 111,
   "id": "11a12c84",
   "metadata": {
    "ExecuteTime": {
     "end_time": "2022-12-15T19:47:57.997756Z",
     "start_time": "2022-12-15T19:47:57.989142Z"
    }
   },
   "outputs": [],
   "source": [
    "num_levels = 3\n",
    "color_opts = ['lightskyblue', 'turquoise', 'orange', 'blue', 'red']"
   ]
  },
  {
   "cell_type": "code",
   "execution_count": 112,
   "id": "087e2056",
   "metadata": {
    "ExecuteTime": {
     "end_time": "2022-12-15T19:47:58.871237Z",
     "start_time": "2022-12-15T19:47:58.846084Z"
    }
   },
   "outputs": [],
   "source": [
    "xx = pd.concat([weights[\"asset\"], x, pd.cut(x, num_levels)], axis=1)\n",
    "xx.columns = [\"asset\", \"weight\", \"bins\"]\n",
    "xx[\"bins\"] = xx[\"bins\"].map(lambda x: f\"[{str(x.left)}, {str(x.right)}]\")\n",
    "bin_dict = sorted(xx[\"bins\"].unique().tolist())\n",
    "\n",
    "colors = dict(zip(bin_dict, color_opts[0:num_levels]))\n",
    "labels = dict(zip(bin_dict, range(1, len(bin_dict)+1)))"
   ]
  },
  {
   "cell_type": "code",
   "execution_count": 113,
   "id": "d7e531ca",
   "metadata": {
    "ExecuteTime": {
     "end_time": "2022-12-15T19:48:31.635318Z",
     "start_time": "2022-12-15T19:47:59.465043Z"
    }
   },
   "outputs": [
    {
     "data": {
      "image/png": "[encoded data removed]",
      "text/plain": [
       "<Figure size 1080x576 with 1 Axes>"
      ]
     },
     "metadata": {
      "needs_background": "light"
     },
     "output_type": "display_data"
    }
   ],
   "source": [
    "xx[\"color\"] = xx[\"bins\"].apply(lambda x: colors[x] if x in colors else \"NA\")\n",
    "xx[\"auto_score\"] = xx[\"bins\"].apply(lambda x: labels[x] if x in colors else \"NA\")\n",
    "\n",
    "plt.figure(figsize=(15,8))\n",
    "\n",
    "for idx, item in xx.groupby(\"bins\"):\n",
    "    if item.shape[0] ==0:\n",
    "        continue\n",
    "    plt.bar(x=item.index, height = item[\"weight\"], color=item[\"color\"], label=item[\"auto_score\"].iloc[0])\n",
    "\n",
    "for pair in bin_dict:\n",
    "    upper_line = eval(pair)[1]\n",
    "    plt.plot([0, xx.index[-1]],[upper_line,upper_line])\n",
    "\n",
    "    \n",
    "plt.xlabel(\"Asset Number\")\n",
    "plt.ylabel(\"Model Assign Weight\")\n",
    "plt.title(\"Asset auto standardized score\")\n",
    "plt.legend()\n",
    "plt.show()"
   ]
  },
  {
   "cell_type": "code",
   "execution_count": 114,
   "id": "253ae683",
   "metadata": {
    "ExecuteTime": {
     "end_time": "2022-12-15T19:48:31.646147Z",
     "start_time": "2022-12-15T19:48:31.636436Z"
    }
   },
   "outputs": [
    {
     "data": {
      "text/html": [
       "<div>\n",
       "<style scoped>\n",
       "    .dataframe tbody tr th:only-of-type {\n",
       "        vertical-align: middle;\n",
       "    }\n",
       "\n",
       "    .dataframe tbody tr th {\n",
       "        vertical-align: top;\n",
       "    }\n",
       "\n",
       "    .dataframe thead th {\n",
       "        text-align: right;\n",
       "    }\n",
       "</style>\n",
       "<table border=\"1\" class=\"dataframe\">\n",
       "  <thead>\n",
       "    <tr style=\"text-align: right;\">\n",
       "      <th></th>\n",
       "      <th>asset</th>\n",
       "      <th>auto_score</th>\n",
       "    </tr>\n",
       "  </thead>\n",
       "  <tbody>\n",
       "    <tr>\n",
       "      <th>0</th>\n",
       "      <td>file/ppt_bw4.pdf</td>\n",
       "      <td>1</td>\n",
       "    </tr>\n",
       "    <tr>\n",
       "      <th>1</th>\n",
       "      <td>https://www.rockwellautomation.com</td>\n",
       "      <td>1</td>\n",
       "    </tr>\n",
       "    <tr>\n",
       "      <th>2</th>\n",
       "      <td>https://www.rockwellautomation.com-ch/products</td>\n",
       "      <td>1</td>\n",
       "    </tr>\n",
       "    <tr>\n",
       "      <th>3</th>\n",
       "      <td>https://www.rockwellautomation.com/%20820</td>\n",
       "      <td>1</td>\n",
       "    </tr>\n",
       "    <tr>\n",
       "      <th>4</th>\n",
       "      <td>https://www.rockwellautomation.com/%20assetrel...</td>\n",
       "      <td>1</td>\n",
       "    </tr>\n",
       "    <tr>\n",
       "      <th>...</th>\n",
       "      <td>...</td>\n",
       "      <td>...</td>\n",
       "    </tr>\n",
       "    <tr>\n",
       "      <th>30585</th>\n",
       "      <td>https://www.rockwellautomation.com/webrex</td>\n",
       "      <td>1</td>\n",
       "    </tr>\n",
       "    <tr>\n",
       "      <th>30586</th>\n",
       "      <td>https://www.rockwellautomation.com/webx</td>\n",
       "      <td>1</td>\n",
       "    </tr>\n",
       "    <tr>\n",
       "      <th>30587</th>\n",
       "      <td>https://www.rockwellautomation.com/whitepaper-...</td>\n",
       "      <td>1</td>\n",
       "    </tr>\n",
       "    <tr>\n",
       "      <th>30588</th>\n",
       "      <td>https://www.rockwellautomation.com/zc-tw</td>\n",
       "      <td>1</td>\n",
       "    </tr>\n",
       "    <tr>\n",
       "      <th>30589</th>\n",
       "      <td>https://www.rockwellautomation.com/zh-tw</td>\n",
       "      <td>1</td>\n",
       "    </tr>\n",
       "  </tbody>\n",
       "</table>\n",
       "<p>30590 rows × 2 columns</p>\n",
       "</div>"
      ],
      "text/plain": [
       "                                                   asset auto_score\n",
       "0                                       file/ppt_bw4.pdf          1\n",
       "1                     https://www.rockwellautomation.com          1\n",
       "2         https://www.rockwellautomation.com-ch/products          1\n",
       "3              https://www.rockwellautomation.com/%20820          1\n",
       "4      https://www.rockwellautomation.com/%20assetrel...          1\n",
       "...                                                  ...        ...\n",
       "30585          https://www.rockwellautomation.com/webrex          1\n",
       "30586            https://www.rockwellautomation.com/webx          1\n",
       "30587  https://www.rockwellautomation.com/whitepaper-...          1\n",
       "30588           https://www.rockwellautomation.com/zc-tw          1\n",
       "30589           https://www.rockwellautomation.com/zh-tw          1\n",
       "\n",
       "[30590 rows x 2 columns]"
      ]
     },
     "execution_count": 114,
     "metadata": {},
     "output_type": "execute_result"
    }
   ],
   "source": [
    "xx[[\"asset\", \"auto_score\"]]"
   ]
  },
  {
   "cell_type": "code",
   "execution_count": 115,
   "id": "aefe173b",
   "metadata": {
    "ExecuteTime": {
     "end_time": "2022-12-15T19:48:31.652979Z",
     "start_time": "2022-12-15T19:48:31.647179Z"
    }
   },
   "outputs": [
    {
     "data": {
      "text/html": [
       "<div>\n",
       "<style scoped>\n",
       "    .dataframe tbody tr th:only-of-type {\n",
       "        vertical-align: middle;\n",
       "    }\n",
       "\n",
       "    .dataframe tbody tr th {\n",
       "        vertical-align: top;\n",
       "    }\n",
       "\n",
       "    .dataframe thead th {\n",
       "        text-align: right;\n",
       "    }\n",
       "</style>\n",
       "<table border=\"1\" class=\"dataframe\">\n",
       "  <thead>\n",
       "    <tr style=\"text-align: right;\">\n",
       "      <th></th>\n",
       "      <th>asset</th>\n",
       "      <th>weight</th>\n",
       "      <th>bins</th>\n",
       "      <th>color</th>\n",
       "      <th>auto_score</th>\n",
       "    </tr>\n",
       "  </thead>\n",
       "  <tbody>\n",
       "    <tr>\n",
       "      <th>3262</th>\n",
       "      <td>https://www.rockwellautomation.com/en-us</td>\n",
       "      <td>0.03866</td>\n",
       "      <td>[0.0306, 0.0458]</td>\n",
       "      <td>orange</td>\n",
       "      <td>3</td>\n",
       "    </tr>\n",
       "    <tr>\n",
       "      <th>28358</th>\n",
       "      <td>https://www.rockwellautomation.com/products/ha...</td>\n",
       "      <td>0.02399</td>\n",
       "      <td>[0.0153, 0.0306]</td>\n",
       "      <td>turquoise</td>\n",
       "      <td>2</td>\n",
       "    </tr>\n",
       "    <tr>\n",
       "      <th>29998</th>\n",
       "      <td>https://www.rockwellautomation.com/search</td>\n",
       "      <td>0.04583</td>\n",
       "      <td>[0.0306, 0.0458]</td>\n",
       "      <td>orange</td>\n",
       "      <td>3</td>\n",
       "    </tr>\n",
       "  </tbody>\n",
       "</table>\n",
       "</div>"
      ],
      "text/plain": [
       "                                                   asset  weight  \\\n",
       "3262            https://www.rockwellautomation.com/en-us 0.03866   \n",
       "28358  https://www.rockwellautomation.com/products/ha... 0.02399   \n",
       "29998          https://www.rockwellautomation.com/search 0.04583   \n",
       "\n",
       "                   bins      color auto_score  \n",
       "3262   [0.0306, 0.0458]     orange          3  \n",
       "28358  [0.0153, 0.0306]  turquoise          2  \n",
       "29998  [0.0306, 0.0458]     orange          3  "
      ]
     },
     "execution_count": 115,
     "metadata": {},
     "output_type": "execute_result"
    }
   ],
   "source": [
    "xx[xx[\"auto_score\"]>1]"
   ]
  },
  {
   "cell_type": "code",
   "execution_count": null,
   "id": "cd5daf32",
   "metadata": {},
   "outputs": [],
   "source": []
  },
  {
   "cell_type": "markdown",
   "id": "f98d7a3b",
   "metadata": {},
   "source": [
    "### min-max Normalization"
   ]
  },
  {
   "cell_type": "code",
   "execution_count": null,
   "id": "eaddd466",
   "metadata": {
    "ExecuteTime": {
     "end_time": "2022-12-15T19:44:25.806240Z",
     "start_time": "2022-12-15T19:44:25.806234Z"
    }
   },
   "outputs": [],
   "source": [
    "x = weights[\"weight\"].astype(float) \n",
    "x = (x-x.min())/(x.max()-x.min()) * 5\n",
    "x.plot(kind=\"bar\")"
   ]
  },
  {
   "cell_type": "markdown",
   "id": "a1cf9f47",
   "metadata": {},
   "source": [
    "### z-score Standardization"
   ]
  },
  {
   "cell_type": "code",
   "execution_count": null,
   "id": "35dcd0eb",
   "metadata": {
    "ExecuteTime": {
     "end_time": "2022-12-15T19:44:25.806790Z",
     "start_time": "2022-12-15T19:44:25.806782Z"
    }
   },
   "outputs": [],
   "source": [
    "x = weights[\"weight\"].astype(float) \n",
    "x = 1 + ((x-x.mean())/x.std())\n",
    "x.plot(kind=\"bar\")"
   ]
  },
  {
   "cell_type": "code",
   "execution_count": null,
   "id": "7ab78289",
   "metadata": {},
   "outputs": [],
   "source": []
  },
  {
   "cell_type": "markdown",
   "id": "1c762bed",
   "metadata": {},
   "source": [
    "## Others "
   ]
  },
  {
   "cell_type": "code",
   "execution_count": null,
   "id": "554378e1",
   "metadata": {},
   "outputs": [],
   "source": []
  },
  {
   "cell_type": "code",
   "execution_count": null,
   "id": "2f944084",
   "metadata": {},
   "outputs": [],
   "source": []
  },
  {
   "cell_type": "markdown",
   "id": "30dc28fe",
   "metadata": {},
   "source": [
    "# Store model and prediction"
   ]
  },
  {
   "cell_type": "code",
   "execution_count": null,
   "id": "db82c4bd",
   "metadata": {
    "ExecuteTime": {
     "end_time": "2022-12-15T19:44:25.807262Z",
     "start_time": "2022-12-15T19:44:25.807255Z"
    }
   },
   "outputs": [],
   "source": [
    "import pickle"
   ]
  },
  {
   "cell_type": "code",
   "execution_count": null,
   "id": "7c82e93d",
   "metadata": {
    "ExecuteTime": {
     "end_time": "2022-12-15T19:44:25.808256Z",
     "start_time": "2022-12-15T19:44:25.808248Z"
    }
   },
   "outputs": [],
   "source": [
    "with open('model_v1.pkl','wb') as f:\n",
    "    pickle.dump(clf, f)"
   ]
  },
  {
   "cell_type": "code",
   "execution_count": null,
   "id": "beb1cd18",
   "metadata": {
    "ExecuteTime": {
     "end_time": "2022-12-15T19:44:25.809262Z",
     "start_time": "2022-12-15T19:44:25.809254Z"
    }
   },
   "outputs": [],
   "source": [
    "# load\n",
    "with open('model_v1.pkl', 'rb') as f:\n",
    "    clf2 = pickle.load(f)"
   ]
  },
  {
   "cell_type": "markdown",
   "id": "83439a3a",
   "metadata": {},
   "source": [
    "## Prediction/Test with the latest month data"
   ]
  },
  {
   "cell_type": "code",
   "execution_count": null,
   "id": "64bd5bfb",
   "metadata": {},
   "outputs": [],
   "source": []
  },
  {
   "cell_type": "markdown",
   "id": "2936585c",
   "metadata": {},
   "source": [
    "# Post to AEM"
   ]
  },
  {
   "cell_type": "code",
   "execution_count": null,
   "id": "378bd963",
   "metadata": {},
   "outputs": [],
   "source": []
  },
  {
   "cell_type": "code",
   "execution_count": null,
   "id": "16149dcb",
   "metadata": {
    "ExecuteTime": {
     "end_time": "2022-12-12T20:20:39.995781Z",
     "start_time": "2022-12-12T20:20:39.995774Z"
    },
    "scrolled": true
   },
   "outputs": [],
   "source": [
    "# np.exp(clf2.feature_log_prob_[0])"
   ]
  },
  {
   "cell_type": "code",
   "execution_count": null,
   "id": "7b1e7b7c",
   "metadata": {},
   "outputs": [],
   "source": []
  },
  {
   "cell_type": "code",
   "execution_count": null,
   "id": "33c62ef7",
   "metadata": {},
   "outputs": [],
   "source": []
  },
  {
   "cell_type": "code",
   "execution_count": null,
   "id": "cc08e878",
   "metadata": {},
   "outputs": [],
   "source": []
  },
  {
   "cell_type": "code",
   "execution_count": null,
   "id": "bb5ba2d0",
   "metadata": {},
   "outputs": [],
   "source": []
  },
  {
   "cell_type": "markdown",
   "id": "16204d08",
   "metadata": {},
   "source": [
    "# Checking"
   ]
  },
  {
   "cell_type": "code",
   "execution_count": null,
   "id": "8470b0c6",
   "metadata": {},
   "outputs": [],
   "source": []
  }
 ],
 "metadata": {
  "kernelspec": {
   "display_name": "Python 3 (ipykernel)",
   "language": "python",
   "name": "python3"
  },
  "language_info": {
   "codemirror_mode": {
    "name": "ipython",
    "version": 3
   },
   "file_extension": ".py",
   "mimetype": "text/x-python",
   "name": "python",
   "nbconvert_exporter": "python",
   "pygments_lexer": "ipython3",
   "version": "3.9.7"
  },
  "toc": {
   "base_numbering": 1,
   "nav_menu": {},
   "number_sections": true,
   "sideBar": true,
   "skip_h1_title": false,
   "title_cell": "Table of Contents",
   "title_sidebar": "Contents",
   "toc_cell": false,
   "toc_position": {
    "height": "calc(100% - 180px)",
    "left": "10px",
    "top": "150px",
    "width": "341.812px"
   },
   "toc_section_display": true,
   "toc_window_display": true
  }
 },
 "nbformat": 4,
 "nbformat_minor": 5
}
