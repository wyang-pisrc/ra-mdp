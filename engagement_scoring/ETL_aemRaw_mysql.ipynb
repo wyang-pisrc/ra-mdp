{
 "cells": [
  {
   "cell_type": "markdown",
   "id": "8e629481",
   "metadata": {
    "ExecuteTime": {
     "end_time": "2022-12-15T15:09:36.748295Z",
     "start_time": "2022-12-15T15:09:36.732618Z"
    }
   },
   "source": [
    "### utils "
   ]
  },
  {
   "cell_type": "code",
   "execution_count": 8,
   "id": "38084324",
   "metadata": {
    "ExecuteTime": {
     "end_time": "2023-01-03T15:08:00.376947Z",
     "start_time": "2023-01-03T15:08:00.352297Z"
    }
   },
   "outputs": [],
   "source": [
    "from contentScoreShareUtils import * \n",
    "\n",
    "def add_timestamp_columns(stage1_raw):\n",
    "    stage1_raw[\"date\"] = stage1_raw[\"DateTime_UTC\"].apply(lambda x: x[0:10]) ## 2022-11-01 00:00:02-06:00\n",
    "    stage1_raw[\"hour\"] = stage1_raw[\"DateTime_UTC\"].apply(lambda x: x[11:13]) ## 2022-11-01 00:00:02-06:00\n",
    "    # stage1_raw[\"minute\"] = datetime.apply(lambda x: x.minute)\n",
    "    return stage1_raw;\n",
    "\n",
    "def convert_schema(stage1_raw):\n",
    "    columns = pd.io.json.build_table_schema(stage1_raw)\n",
    "    df_schema = {col[\"name\"]:dtype_convert(col[\"type\"]) for col in columns[\"fields\"]}\n",
    "    return df_schema\n",
    "\n",
    "def dtype_convert(pandas_type):\n",
    "    type = \"Unknown\"\n",
    "    if pandas_type == \"integer\":\n",
    "        type = INTEGER()\n",
    "    elif pandas_type == \"string\":\n",
    "        type = VARCHAR(255)\n",
    "    elif pandas_type == \"number\":\n",
    "        type = FLOAT(asdecimal=True)\n",
    "    elif pandas_type == \"boolean\":\n",
    "        type = BOOLEAN()\n",
    "    return type\n",
    "\n",
    "def chunker(seq, size):\n",
    "    return (seq[pos:pos + size] for pos in range(0, len(seq), size))\n",
    "\n",
    "def insert_with_progress(df, connection, table_name, insert_mode=False, dtype=None):\n",
    "    chunksize = int(len(df) / 100) # 10%\n",
    "    with tqdm(total=len(df)) as pbar:\n",
    "        for i, cdf in enumerate(chunker(df, chunksize)):\n",
    "            replace = \"replace\" if (i == 0 and insert_mode is False) else \"append\"\n",
    "            cdf.to_sql(con=connection, name=table_name, dtype=dtype, if_exists=replace, index=False)\n",
    "            pbar.update(chunksize)\n",
    "                    \n",
    "def load_csv_iter(glob_pattern=\"./target_mcvisid/*.csv\"):\n",
    "    files = sorted([file for file in glob(glob_pattern) if \"aemRaw_keyColumns_2022\" in file])\n",
    "    for file in files:\n",
    "        current = pd.read_csv(file)\n",
    "        print(\"current file, \", file)\n",
    "        yield file, current\n",
    "\n"
   ]
  },
  {
   "cell_type": "markdown",
   "id": "feee906f",
   "metadata": {},
   "source": [
    "### key filters "
   ]
  },
  {
   "cell_type": "code",
   "execution_count": 9,
   "id": "d4723412",
   "metadata": {
    "ExecuteTime": {
     "end_time": "2023-01-03T15:08:02.340516Z",
     "start_time": "2023-01-03T15:08:02.318760Z"
    }
   },
   "outputs": [
    {
     "data": {
      "text/plain": [
       "'https://www.rockwellautomation.com'"
      ]
     },
     "execution_count": 9,
     "metadata": {},
     "output_type": "execute_result"
    }
   ],
   "source": [
    "def url_clean(x):\n",
    "    x = re.sub(',|;', \"\", x) # clean special symbol\n",
    "    x = re.sub(\"(#|.page|.aspx|.js|.php|adfs).*\", \"\", x)  # clean tailing start with\n",
    "    # x = re.sub(\"details.[\\w-]*\",\"details.{ID}\", x) # grouping product details\n",
    "    x = re.sub(\"com.cn\", \"com\", x) # replace china area website URL\n",
    "    # x = re.sub(\"%20\", \" \", x) # keep URL encoding\n",
    "    \n",
    "    # grouping different language\n",
    "    x = re.sub(\"/$|(\\.html)$|/[a-zA-Z]{2}$\", \"\", x)  # remove html, etc /\n",
    "    x = re.sub(\"/(global|go)/\", \"/\", x)  \n",
    "    x = re.sub(\".com/[a-zA-Z]{2,3}/\", \".com/\", x)  \n",
    "    x = re.sub(\"/[a-zA-Z]{2}[-_][a-zA-Z]{2,3}$\", \"\", x)  # grouping homepage\n",
    "    x = re.sub(\"/[a-zA-Z]{2}[-_][a-zA-Z]{2}[-_][a-zA-Z]{2}$\", \"\", x)  # grouping search page\n",
    "    x = re.sub(\"/[a-zA-Z]{2}[-_][a-zA-Z]{2,3}/|/[a-zA-Z]{2}/\", \"/\", x)  # grouping different language\n",
    "    \n",
    "    return x\n",
    "\n",
    "def url_filter(url_maps):\n",
    "    url_maps = url_maps[(~url_maps[\"PageURL\"].str.contains(\"file://.+\")) & (url_maps[\"PageURL\"].str.startswith(\"https://www.rockwellautomation\"))] \n",
    "#     url_maps.query(\"('file://.+' not in PageURL) or https://www.rockwellautomation in PageURL\") # query mode\n",
    "    return url_maps\n",
    "    \n",
    "# x = \"https://www.rockwellautomation.com/ja-jp/company/events/in-person-events/archive.html\"\n",
    "# x = \"https://www.rockwellautomation.com/ja-jp/company/events/in-person-events/search/en-us-ab\"\n",
    "# x = \"https://www.rockwellautomation.com/zh_TW\"\n",
    "# x = \"https://www.rockwellautomation.com/hu-huhtml\"\n",
    "# x = \"https://www.rockwellautomation.com/en-us/products/details.700-N400A1.html).html#adfdasf\"\n",
    "# x = \"https://www.rockwellautomation.com/rockwellautomation/support/pcdc.page%7D%7D%7D/f0/fs20\"\n",
    "# x = \"https://www.rockwellautomation.com/ja/fa.pagedfsdfa\"\n",
    "# x = \"https://www.rockwellautomation.com/chl/overview.page\"\n",
    "# x = \"https://www.rockwellautomation.com/adfs/oauth2/authorize\"\n",
    "# x = \"https://www.rockwellautomation.com/en-nz/\"\n",
    "# url_clean(x)"
   ]
  },
  {
   "cell_type": "markdown",
   "id": "32079497",
   "metadata": {},
   "source": [
    "### Config"
   ]
  },
  {
   "cell_type": "code",
   "execution_count": null,
   "id": "40ab87c8",
   "metadata": {},
   "outputs": [],
   "source": [
    "VERSION = \"v1.2\"\n",
    "table_name = f\"stage1_raw_{VERSION}\"\n",
    "\n",
    "refresh_table = True\n",
    "mydb = create_engine('mysql+pymysql://rockwell:%s@localhost:3306/page_scoring' % quote('rockwell'))\n",
    "testing = False\n",
    "folder_dir = './aem_raw/'"
   ]
  },
  {
   "cell_type": "markdown",
   "id": "d7b8dbbf",
   "metadata": {},
   "source": [
    "### start ETL"
   ]
  },
  {
   "cell_type": "markdown",
   "id": "a29bdbc3",
   "metadata": {},
   "source": [
    "#### define schema"
   ]
  },
  {
   "cell_type": "code",
   "execution_count": 3,
   "id": "5672dea9",
   "metadata": {
    "ExecuteTime": {
     "end_time": "2022-12-15T21:45:20.630913Z",
     "start_time": "2022-12-15T21:45:20.616552Z"
    }
   },
   "outputs": [],
   "source": [
    "\n",
    "schema = {'index': INTEGER(),\n",
    " 'SessionVisitorId': VARCHAR(length=255),\n",
    " 'VisitPageNumber': INTEGER(),\n",
    " 'VisitNumber': INTEGER(),\n",
    " 'NewVisit': BOOLEAN(),\n",
    " 'EventList': VARCHAR(length=511),\n",
    " 'DateTime_UTC': VARCHAR(length=255),\n",
    " 'PageURL': VARCHAR(length=255),\n",
    " 'VisitReferrer': VARCHAR(length=255),\n",
    " 'VisitReferrerType': INTEGER(),\n",
    " 'VisitorDomain': VARCHAR(length=255),\n",
    " 'External_Audience': VARCHAR(length=255),\n",
    " 'External_AudienceSegment': VARCHAR(length=255),\n",
    " 'External_Industry': VARCHAR(length=255),\n",
    " 'External_Website': VARCHAR(length=255),\n",
    " 'EloquaContactId': VARCHAR(length=255),\n",
    " 'EloquaGUID': FLOAT(asdecimal=True),\n",
    " 'mcvisid': VARCHAR(length=255),\n",
    " 'GeoCity': VARCHAR(length=255),\n",
    " 'GeoCountry': VARCHAR(length=255),\n",
    " 'GeoRegion': VARCHAR(length=255),\n",
    " 'PDFurl': VARCHAR(length=255),\n",
    " 'PDFpagecount': FLOAT(asdecimal=True),\n",
    " 'BingeId': VARCHAR(length=255),\n",
    " 'BingeCriticalScore': FLOAT(asdecimal=True),\n",
    " 'BingeScoredAssetPath': VARCHAR(length=255),\n",
    " 'BingeScoredAssetScore': FLOAT(asdecimal=True)}"
   ]
  },
  {
   "cell_type": "markdown",
   "id": "12e5233e",
   "metadata": {},
   "source": [
    "#### batch processing"
   ]
  },
  {
   "cell_type": "code",
   "execution_count": 4,
   "id": "f3fa83d0",
   "metadata": {
    "ExecuteTime": {
     "end_time": "2022-12-15T22:15:41.468351Z",
     "start_time": "2022-12-15T21:45:20.631711Z"
    }
   },
   "outputs": [
    {
     "name": "stdout",
     "output_type": "stream",
     "text": [
      "current file,  ./aem_raw/aemRaw_keyColumns_20220401-20220415.csv\n",
      "{'index': INTEGER(), 'SessionVisitorId': VARCHAR(length=255), 'VisitPageNumber': INTEGER(), 'VisitNumber': INTEGER(), 'NewVisit': BOOLEAN(), 'EventList': VARCHAR(length=511), 'DateTime_UTC': VARCHAR(length=255), 'PageURL': VARCHAR(length=255), 'VisitReferrer': VARCHAR(length=255), 'VisitReferrerType': INTEGER(), 'VisitorDomain': VARCHAR(length=255), 'External_Audience': VARCHAR(length=255), 'External_AudienceSegment': VARCHAR(length=255), 'External_Industry': VARCHAR(length=255), 'External_Website': VARCHAR(length=255), 'EloquaContactId': VARCHAR(length=255), 'EloquaGUID': FLOAT(asdecimal=True), 'mcvisid': VARCHAR(length=255), 'GeoCity': VARCHAR(length=255), 'GeoCountry': VARCHAR(length=255), 'GeoRegion': VARCHAR(length=255), 'PDFurl': VARCHAR(length=255), 'PDFpagecount': FLOAT(asdecimal=True), 'BingeId': VARCHAR(length=255), 'BingeCriticalScore': FLOAT(asdecimal=True), 'BingeScoredAssetPath': VARCHAR(length=255), 'BingeScoredAssetScore': FLOAT(asdecimal=True)}\n",
      "original raw rows: 5584815\n",
      "Drop irrelevant mcvisid (testing emails) with rows: 296510\n",
      "start dedup with considering only unique records in hours granularity...\n",
      "Drop duplicate rows by [\"mcvisid\",\"date\", \"hour\", \"PageURL\"]: 3946964 ratio 0.7463571030793421\n",
      "Drop irrelevant PageURL (by inner join) with rows: 34676\n",
      "stage1_raw: keep mcvisid rows:  1306665\n",
      "stage1_raw: keep unique mcvisid:  639212\n",
      "stage1_raw: keep unique pageURL:  212245\n"
     ]
    },
    {
     "name": "stderr",
     "output_type": "stream",
     "text": [
      "1319666it [01:32, 14304.03it/s]                                                 \n"
     ]
    },
    {
     "name": "stdout",
     "output_type": "stream",
     "text": [
      "Table stage1_raw insert successfully.\n",
      "current file,  ./aem_raw/aemRaw_keyColumns_20220415-20220430.csv\n",
      "original raw rows: 5235230\n",
      "Drop irrelevant mcvisid (testing emails) with rows: 276607\n",
      "start dedup with considering only unique records in hours granularity...\n",
      "Drop duplicate rows by [\"mcvisid\",\"date\", \"hour\", \"PageURL\"]: 3563994 ratio 0.7187467165783726\n",
      "Drop irrelevant PageURL (by inner join) with rows: 52367\n",
      "stage1_raw: keep mcvisid rows:  1342262\n",
      "stage1_raw: keep unique mcvisid:  689118\n",
      "stage1_raw: keep unique pageURL:  263823\n"
     ]
    },
    {
     "name": "stderr",
     "output_type": "stream",
     "text": [
      "1355622it [01:38, 13695.28it/s]                                                 \n"
     ]
    },
    {
     "name": "stdout",
     "output_type": "stream",
     "text": [
      "Table stage1_raw insert successfully.\n",
      "current file,  ./aem_raw/aemRaw_keyColumns_20220501-20220515.csv\n",
      "original raw rows: 5495277\n",
      "Drop irrelevant mcvisid (testing emails) with rows: 351812\n",
      "start dedup with considering only unique records in hours granularity...\n",
      "Drop duplicate rows by [\"mcvisid\",\"date\", \"hour\", \"PageURL\"]: 4163824 ratio 0.8095367616966384\n",
      "Drop irrelevant PageURL (by inner join) with rows: 36675\n",
      "stage1_raw: keep mcvisid rows:  942966\n",
      "stage1_raw: keep unique mcvisid:  366467\n",
      "stage1_raw: keep unique pageURL:  24130\n"
     ]
    },
    {
     "name": "stderr",
     "output_type": "stream",
     "text": [
      "952329it [01:09, 13750.62it/s]                                                  \n"
     ]
    },
    {
     "name": "stdout",
     "output_type": "stream",
     "text": [
      "Table stage1_raw insert successfully.\n",
      "current file,  ./aem_raw/aemRaw_keyColumns_20220515-20220531.csv\n",
      "original raw rows: 6413570\n",
      "Drop irrelevant mcvisid (testing emails) with rows: 398732\n",
      "start dedup with considering only unique records in hours granularity...\n",
      "Drop duplicate rows by [\"mcvisid\",\"date\", \"hour\", \"PageURL\"]: 4901685 ratio 0.8149321727368218\n",
      "Drop irrelevant PageURL (by inner join) with rows: 39072\n",
      "stage1_raw: keep mcvisid rows:  1074081\n",
      "stage1_raw: keep unique mcvisid:  408249\n",
      "stage1_raw: keep unique pageURL:  23598\n"
     ]
    },
    {
     "name": "stderr",
     "output_type": "stream",
     "text": [
      "1084740it [01:15, 14424.51it/s]                                                 \n"
     ]
    },
    {
     "name": "stdout",
     "output_type": "stream",
     "text": [
      "Table stage1_raw insert successfully.\n",
      "current file,  ./aem_raw/aemRaw_keyColumns_20220601-20220615.csv\n",
      "original raw rows: 5490207\n",
      "Drop irrelevant mcvisid (testing emails) with rows: 331552\n",
      "start dedup with considering only unique records in hours granularity...\n",
      "Drop duplicate rows by [\"mcvisid\",\"date\", \"hour\", \"PageURL\"]: 4339802 ratio 0.8412661827550011\n",
      "Drop irrelevant PageURL (by inner join) with rows: 39825\n",
      "stage1_raw: keep mcvisid rows:  779028\n",
      "stage1_raw: keep unique mcvisid:  296519\n",
      "stage1_raw: keep unique pageURL:  20613\n"
     ]
    },
    {
     "name": "stderr",
     "output_type": "stream",
     "text": [
      "786790it [00:55, 14162.39it/s]                                                  \n"
     ]
    },
    {
     "name": "stdout",
     "output_type": "stream",
     "text": [
      "Table stage1_raw insert successfully.\n",
      "current file,  ./aem_raw/aemRaw_keyColumns_20220615-20220630.csv\n",
      "original raw rows: 2997171\n",
      "Drop irrelevant mcvisid (testing emails) with rows: 196137\n",
      "start dedup with considering only unique records in hours granularity...\n",
      "Drop duplicate rows by [\"mcvisid\",\"date\", \"hour\", \"PageURL\"]: 2624213 ratio 0.9368729547731303\n",
      "Drop irrelevant PageURL (by inner join) with rows: 43507\n",
      "stage1_raw: keep mcvisid rows:  133314\n",
      "stage1_raw: keep unique mcvisid:  74084\n",
      "stage1_raw: keep unique pageURL:  165\n"
     ]
    },
    {
     "name": "stderr",
     "output_type": "stream",
     "text": [
      "134633it [00:09, 14043.30it/s]                                                  \n"
     ]
    },
    {
     "name": "stdout",
     "output_type": "stream",
     "text": [
      "Table stage1_raw insert successfully.\n",
      "current file,  ./aem_raw/aemRaw_keyColumns_20220701-20220715.csv\n",
      "original raw rows: 4322589\n",
      "Drop irrelevant mcvisid (testing emails) with rows: 229350\n",
      "start dedup with considering only unique records in hours granularity...\n",
      "Drop duplicate rows by [\"mcvisid\",\"date\", \"hour\", \"PageURL\"]: 3592882 ratio 0.8777601307912878\n",
      "Drop irrelevant PageURL (by inner join) with rows: 38013\n",
      "stage1_raw: keep mcvisid rows:  462344\n",
      "stage1_raw: keep unique mcvisid:  205315\n",
      "stage1_raw: keep unique pageURL:  13698\n"
     ]
    },
    {
     "name": "stderr",
     "output_type": "stream",
     "text": [
      "466923it [00:32, 14333.95it/s]                                                  \n"
     ]
    },
    {
     "name": "stdout",
     "output_type": "stream",
     "text": [
      "Table stage1_raw insert successfully.\n",
      "current file,  ./aem_raw/aemRaw_keyColumns_20220715-20220731.csv\n",
      "original raw rows: 3680306\n",
      "Drop irrelevant mcvisid (testing emails) with rows: 209329\n",
      "start dedup with considering only unique records in hours granularity...\n",
      "Drop duplicate rows by [\"mcvisid\",\"date\", \"hour\", \"PageURL\"]: 3087756 ratio 0.8895927573129986\n",
      "Drop irrelevant PageURL (by inner join) with rows: 50801\n",
      "stage1_raw: keep mcvisid rows:  332420\n",
      "stage1_raw: keep unique mcvisid:  217731\n",
      "stage1_raw: keep unique pageURL:  3788\n"
     ]
    },
    {
     "name": "stderr",
     "output_type": "stream",
     "text": [
      "335724it [00:22, 15230.32it/s]                                                  \n"
     ]
    },
    {
     "name": "stdout",
     "output_type": "stream",
     "text": [
      "Table stage1_raw insert successfully.\n",
      "current file,  ./aem_raw/aemRaw_keyColumns_20220801-20220815.csv\n",
      "original raw rows: 4565584\n",
      "Drop irrelevant mcvisid (testing emails) with rows: 225676\n",
      "start dedup with considering only unique records in hours granularity...\n",
      "Drop duplicate rows by [\"mcvisid\",\"date\", \"hour\", \"PageURL\"]: 3708392 ratio 0.8544863162997925\n",
      "Drop irrelevant PageURL (by inner join) with rows: 36363\n",
      "stage1_raw: keep mcvisid rows:  595153\n",
      "stage1_raw: keep unique mcvisid:  305846\n",
      "stage1_raw: keep unique pageURL:  15452\n"
     ]
    },
    {
     "name": "stderr",
     "output_type": "stream",
     "text": [
      "601051it [00:40, 14817.02it/s]                                                  \n"
     ]
    },
    {
     "name": "stdout",
     "output_type": "stream",
     "text": [
      "Table stage1_raw insert successfully.\n",
      "current file,  ./aem_raw/aemRaw_keyColumns_20220815-20220831.csv\n",
      "original raw rows: 8746625\n",
      "Drop irrelevant mcvisid (testing emails) with rows: 449514\n",
      "start dedup with considering only unique records in hours granularity...\n",
      "Drop duplicate rows by [\"mcvisid\",\"date\", \"hour\", \"PageURL\"]: 7084384 ratio 0.8538374381155079\n",
      "Drop irrelevant PageURL (by inner join) with rows: 26845\n",
      "stage1_raw: keep mcvisid rows:  1185882\n",
      "stage1_raw: keep unique mcvisid:  499031\n",
      "stage1_raw: keep unique pageURL:  23965\n"
     ]
    },
    {
     "name": "stderr",
     "output_type": "stream",
     "text": [
      "1197658it [01:26, 13775.11it/s]                                                 \n"
     ]
    },
    {
     "name": "stdout",
     "output_type": "stream",
     "text": [
      "Table stage1_raw insert successfully.\n",
      "current file,  ./aem_raw/aemRaw_keyColumns_20220901-20220915.csv\n",
      "original raw rows: 7084004\n",
      "Drop irrelevant mcvisid (testing emails) with rows: 383296\n",
      "start dedup with considering only unique records in hours granularity...\n",
      "Drop duplicate rows by [\"mcvisid\",\"date\", \"hour\", \"PageURL\"]: 5736282 ratio 0.8560710301060723\n",
      "Drop irrelevant PageURL (by inner join) with rows: 7516\n",
      "stage1_raw: keep mcvisid rows:  956910\n",
      "stage1_raw: keep unique mcvisid:  416858\n",
      "stage1_raw: keep unique pageURL:  22370\n"
     ]
    },
    {
     "name": "stderr",
     "output_type": "stream",
     "text": [
      "966469it [01:08, 14047.64it/s]                                                  \n"
     ]
    },
    {
     "name": "stdout",
     "output_type": "stream",
     "text": [
      "Table stage1_raw insert successfully.\n",
      "current file,  ./aem_raw/aemRaw_keyColumns_20220915-20220930.csv\n",
      "original raw rows: 7222517\n",
      "Drop irrelevant mcvisid (testing emails) with rows: 418310\n",
      "start dedup with considering only unique records in hours granularity...\n",
      "Drop duplicate rows by [\"mcvisid\",\"date\", \"hour\", \"PageURL\"]: 5623244 ratio 0.8264363503344327\n",
      "Drop irrelevant PageURL (by inner join) with rows: 12230\n",
      "stage1_raw: keep mcvisid rows:  1168733\n",
      "stage1_raw: keep unique mcvisid:  481827\n",
      "stage1_raw: keep unique pageURL:  23283\n"
     ]
    },
    {
     "name": "stderr",
     "output_type": "stream",
     "text": [
      "1180387it [01:22, 14356.97it/s]                                                 \n"
     ]
    },
    {
     "name": "stdout",
     "output_type": "stream",
     "text": [
      "Table stage1_raw insert successfully.\n",
      "current file,  ./aem_raw/aemRaw_keyColumns_20221001-20221015.csv\n",
      "original raw rows: 6240070\n",
      "Drop irrelevant mcvisid (testing emails) with rows: 370816\n",
      "start dedup with considering only unique records in hours granularity...\n",
      "Drop duplicate rows by [\"mcvisid\",\"date\", \"hour\", \"PageURL\"]: 4771402 ratio 0.8129486302688553\n",
      "Drop irrelevant PageURL (by inner join) with rows: 11134\n",
      "stage1_raw: keep mcvisid rows:  1086718\n",
      "stage1_raw: keep unique mcvisid:  445014\n",
      "stage1_raw: keep unique pageURL:  23098\n"
     ]
    },
    {
     "name": "stderr",
     "output_type": "stream",
     "text": [
      "1097567it [01:17, 14164.83it/s]                                                 \n"
     ]
    },
    {
     "name": "stdout",
     "output_type": "stream",
     "text": [
      "Table stage1_raw insert successfully.\n",
      "current file,  ./aem_raw/aemRaw_keyColumns_20221015-20221031.csv\n",
      "original raw rows: 6988682\n",
      "Drop irrelevant mcvisid (testing emails) with rows: 344546\n",
      "start dedup with considering only unique records in hours granularity...\n",
      "Drop duplicate rows by [\"mcvisid\",\"date\", \"hour\", \"PageURL\"]: 5570933 ratio 0.838473655566352\n",
      "Drop irrelevant PageURL (by inner join) with rows: 10378\n",
      "stage1_raw: keep mcvisid rows:  1062825\n",
      "stage1_raw: keep unique mcvisid:  447921\n",
      "stage1_raw: keep unique pageURL:  23141\n"
     ]
    },
    {
     "name": "stderr",
     "output_type": "stream",
     "text": [
      "1073428it [01:15, 14262.96it/s]                                                 \n"
     ]
    },
    {
     "name": "stdout",
     "output_type": "stream",
     "text": [
      "Table stage1_raw insert successfully.\n",
      "current file,  ./aem_raw/aemRaw_keyColumns_20221101-20221115.csv\n",
      "original raw rows: 7904562\n",
      "Drop irrelevant mcvisid (testing emails) with rows: 411787\n",
      "start dedup with considering only unique records in hours granularity...\n",
      "Drop duplicate rows by [\"mcvisid\",\"date\", \"hour\", \"PageURL\"]: 6329490 ratio 0.8447457717601289\n",
      "Drop irrelevant PageURL (by inner join) with rows: 14374\n",
      "stage1_raw: keep mcvisid rows:  1148911\n",
      "stage1_raw: keep unique mcvisid:  462094\n",
      "stage1_raw: keep unique pageURL:  25632\n"
     ]
    },
    {
     "name": "stderr",
     "output_type": "stream",
     "text": [
      "1160389it [01:18, 14719.28it/s]                                                 \n"
     ]
    },
    {
     "name": "stdout",
     "output_type": "stream",
     "text": [
      "Table stage1_raw insert successfully.\n",
      "current file,  ./aem_raw/aemRaw_keyColumns_20221115-20221130.csv\n",
      "original raw rows: 7898931\n",
      "Drop irrelevant mcvisid (testing emails) with rows: 344666\n",
      "start dedup with considering only unique records in hours granularity...\n",
      "Drop duplicate rows by [\"mcvisid\",\"date\", \"hour\", \"PageURL\"]: 6389764 ratio 0.8458485372170556\n",
      "Drop irrelevant PageURL (by inner join) with rows: 8971\n",
      "stage1_raw: keep mcvisid rows:  1155530\n",
      "stage1_raw: keep unique mcvisid:  469041\n",
      "stage1_raw: keep unique pageURL:  26315\n"
     ]
    },
    {
     "name": "stderr",
     "output_type": "stream",
     "text": [
      "1167055it [01:20, 14507.73it/s]                                                 \n"
     ]
    },
    {
     "name": "stdout",
     "output_type": "stream",
     "text": [
      "Table stage1_raw insert successfully.\n"
     ]
    }
   ],
   "source": [
    "# aem_raw = load_csv_batches(glob_pattern=\"./aem_raw/*.csv\", num=None, keep=\"last\", iterator=False)\n",
    "aem_raws = load_csv_iter(glob_pattern=folder_dir+\"*.csv\")\n",
    "\n",
    "if refresh_table is True:\n",
    "    with mydb.connect() as connection:\n",
    "        connection.execute(f\"\"\"DROP TABLE IF EXISTS {table_name};\"\"\")\n",
    "\n",
    "### preload data, could update as a query\n",
    "email_mcvisid = pd.read_csv(\"mcvisid_elqid_email_all.csv\")\n",
    "email_mcvisid, drop_mcvisid = email_cleanup(email_mcvisid, \"EmailAddress\")\n",
    "positive_mcvisid = email_mcvisid[\"mcvisid\"].drop_duplicates() ## all along the past, if mcvisid existed with corresponding elqid, then it is positive sigal\n",
    "\n",
    "\n",
    "\n",
    "logs = []\n",
    "for idx, (file, aem_raw) in enumerate(aem_raws):\n",
    "    log = []\n",
    "    log.append(file)\n",
    "    stage1_raw = aem_raw #.dropna(subset=[\"BingeScoredAssetPath\"]).reset_index(drop=True)\n",
    "    if idx < 1:\n",
    "        df_schema = convert_schema(stage1_raw) if not schema else schema\n",
    "        print(df_schema)\n",
    "    row1 = stage1_raw.shape[0]\n",
    "    print(f\"original raw rows: {row1}\")\n",
    "    log.append(row1)\n",
    "\n",
    "    stage1_raw = stage1_raw[~stage1_raw[\"mcvisid\"].isin(drop_mcvisid[\"mcvisid\"])] # drop irrelevant mcvisid\n",
    "    row2 = stage1_raw.shape[0]\n",
    "    print(f\"Drop irrelevant mcvisid (testing emails) with rows: {row1 - row2}\")\n",
    "    log.append(row1 - row2)\n",
    "\n",
    "    ## deduplicate with hour granularity\n",
    "    print(\"start dedup with considering only unique records in hours granularity...\")\n",
    "    stage1_raw = add_timestamp_columns(stage1_raw)    \n",
    "    stage1_raw = stage1_raw.drop_duplicates(subset=[\"mcvisid\",\"date\", \"hour\", \"PageURL\"], keep=\"first\")\n",
    "    row3 = stage1_raw.shape[0]\n",
    "    print(f\"\"\"Drop duplicate rows by [\"mcvisid\",\"date\", \"hour\", \"PageURL\"]: {row2 - row3} ratio {(row2 - row3)/row2}\"\"\")\n",
    "    log.append(row2 - row3)\n",
    "    log.append((row2 - row3)/row2)\n",
    "\n",
    "    ## get clean PageURL and drop irrelevant PageURL - inner join to drop unmatched rows\n",
    "    url_maps = url_filter(stage1_raw[[\"PageURL\"]].drop_duplicates())\n",
    "    url_maps[\"clean_PageURL\"] = url_maps[\"PageURL\"].apply(lambda x: url_clean(x))\n",
    "    # s = url_maps[url_maps[\"PageURL\"].str.contains(\"details\")].sample(100)\n",
    "    stage1_raw = stage1_raw.merge(url_maps, on=\"PageURL\")\n",
    "    row4 = stage1_raw.shape[0]\n",
    "    print(f\"Drop irrelevant PageURL (by inner join) with rows: {row3 - row4}\")\n",
    "    log.append(row3 - row4)\n",
    "\n",
    "    ## create labels\n",
    "    stage1_raw[\"label\"] = stage1_raw[\"mcvisid\"].isin(positive_mcvisid) # mark pos and neg mcvisid\n",
    "    row5 = stage1_raw.shape[0]\n",
    "    print(\"stage1_raw: keep mcvisid rows: \", row5)\n",
    "    print(\"stage1_raw: keep unique mcvisid: \", stage1_raw[\"mcvisid\"].unique().shape[0])\n",
    "    print(\"stage1_raw: keep unique pageURL: \", stage1_raw[\"clean_PageURL\"].unique().shape[0])\n",
    "    log.append(row5)\n",
    "    log.append(stage1_raw[\"mcvisid\"].unique().shape[0])\n",
    "    log.append(stage1_raw[\"clean_PageURL\"].unique().shape[0])\n",
    "    \n",
    "    try:\n",
    "        insert_with_progress(stage1_raw, mydb, table_name=table_name, insert_mode=True, dtype=df_schema)\n",
    "    except ValueError as vx:\n",
    "        print(vx)\n",
    "    except Exception as ex:\n",
    "        print(ex)\n",
    "    else:\n",
    "        print(\"Table %s insert successfully.\" % table_name)\n",
    "    \n",
    "    logs.append(log)    \n",
    "    if testing is True:\n",
    "        break\n",
    "\n",
    "with mydb.connect() as connection:\n",
    "    connection.execute(f\"\"\"ALTER TABLE {table_name} ADD KEY(mcvisid(255));\"\"\")\n",
    "    connection.execute(f\"\"\"ALTER TABLE {table_name} ADD KEY(EloquaContactId(255));\"\"\")"
   ]
  },
  {
   "cell_type": "markdown",
   "id": "a566ffd4",
   "metadata": {
    "ExecuteTime": {
     "end_time": "2023-01-03T15:05:01.906181Z",
     "start_time": "2023-01-03T15:05:01.899679Z"
    }
   },
   "source": [
    "#### logs"
   ]
  },
  {
   "cell_type": "code",
   "execution_count": 5,
   "id": "72b545ba",
   "metadata": {
    "ExecuteTime": {
     "end_time": "2022-12-15T22:15:41.530594Z",
     "start_time": "2022-12-15T22:15:41.475641Z"
    }
   },
   "outputs": [],
   "source": [
    "logs_df = pd.DataFrame(logs, columns=[\n",
    "            \"file\",\n",
    "            \"original raw rows\",\n",
    "            \"Drop irrelevant mcvisid (testing emails) with rows\",\n",
    "            \"Drop duplicate rows by ['mcvisid','date', 'hour', 'PageURL']\",\n",
    "            \"Drop duplicate rows by ['mcvisid','date', 'hour', 'PageURL'] ratio\",\n",
    "            \"Drop irrelevant PageURL (by inner join) with rows\",\n",
    "            \"After ETL keep mcvisid rows\",\n",
    "            \"After ETL keep unique mcvisid\",\n",
    "            \"After ETL keep unique pageURL\",])\n",
    "\n",
    "logs_df.to_excel(f\"{table_name}_table_ETL_logs.xlsx\")\n",
    "\n",
    "url_maps[\"isChanged\"] = url_maps[\"clean_PageURL\"]!=url_maps[\"PageURL\"]\n",
    "url_maps.to_csv(\"clean_PageURL_checking.csv\", encoding='utf-8')"
   ]
  },
  {
   "cell_type": "markdown",
   "id": "751859a2",
   "metadata": {},
   "source": [
    "### retrieve and store in local"
   ]
  },
  {
   "cell_type": "code",
   "execution_count": 7,
   "id": "5ea25743",
   "metadata": {
    "ExecuteTime": {
     "end_time": "2022-12-15T22:15:41.825590Z",
     "start_time": "2022-12-15T22:15:41.823134Z"
    }
   },
   "outputs": [],
   "source": [
    "usecols = [\n",
    "    \"mcvisid\", \"clean_PageURL\", \"label\", \"PDFurl\", \"BingeScoredAssetPath\", \"BingeId\", \"date\", \"hour\",\n",
    "    \"VisitReferrer\", \"VisitorDomain\", 'External_Audience',\n",
    "    'External_AudienceSegment', 'External_Industry', 'External_Website',\n",
    "    \"EloquaContactId\", \"PageURL\"\n",
    "]"
   ]
  },
  {
   "cell_type": "code",
   "execution_count": 8,
   "id": "768b1593",
   "metadata": {
    "ExecuteTime": {
     "end_time": "2022-12-15T22:23:17.684648Z",
     "start_time": "2022-12-15T22:15:41.826617Z"
    }
   },
   "outputs": [],
   "source": [
    "# table_name = \"stage1_raw\"\n",
    "mydb = create_engine('mysql+pymysql://rockwell:%s@localhost:3306/page_scoring' % quote('rockwell'))\n",
    "    \n",
    "with mydb.connect() as connection:\n",
    "    stage1_raw_2 = pd.read_sql_query(f'SELECT {\", \".join(usecols)} FROM {table_name}',connection)\n",
    "    \n",
    "stage1_raw_2.to_csv(f\"stage1_raw_{VERSION}.csv\")"
   ]
  },
  {
   "cell_type": "code",
   "execution_count": null,
   "id": "c4f20280",
   "metadata": {},
   "outputs": [],
   "source": []
  },
  {
   "cell_type": "markdown",
   "id": "8e83bb9f",
   "metadata": {},
   "source": [
    "### conversion ratio"
   ]
  },
  {
   "cell_type": "code",
   "execution_count": 140,
   "id": "57fb3002",
   "metadata": {
    "ExecuteTime": {
     "end_time": "2023-01-03T16:24:39.937583Z",
     "start_time": "2023-01-03T16:24:37.308029Z"
    }
   },
   "outputs": [],
   "source": [
    "# stage1_raw_2 = pd.read_csv(f\"stage1_raw_{VERSION}.csv\", nrows=None)\n",
    "aem_raw = stage1_raw_2\n",
    "aem_raw = aem_raw[aem_raw[\"date\"]>\"2022-10-01\"] ## should be done on query part to reduce memory consumption\n",
    "\n",
    "view3 = aem_raw.groupby(\"clean_PageURL\")[\"mcvisid\"].count().rename(\"page_visit_count\").to_frame()\n",
    "stopwords = view3[view3[\"page_visit_count\"]>100000].sort_values(\"page_visit_count\") # stopwords\n",
    "stopwords.to_excel(f\"high_frequency_pages_{VERSION}.xlsx\")"
   ]
  },
  {
   "cell_type": "markdown",
   "id": "e17703cf",
   "metadata": {},
   "source": [
    "#### preload"
   ]
  },
  {
   "cell_type": "code",
   "execution_count": 21,
   "id": "d531058e",
   "metadata": {
    "ExecuteTime": {
     "end_time": "2023-01-03T15:17:10.501879Z",
     "start_time": "2023-01-03T15:16:06.983036Z"
    }
   },
   "outputs": [],
   "source": [
    "email_mcvisid = pd.read_csv(\"mcvisid_elqid_email_all.csv\")\n",
    "email_mcvisid, drop_mcvisid = email_cleanup(email_mcvisid, \"EmailAddress\")\n",
    "\n",
    "_lead = pd.read_csv(\"crm_Lead_20221116_all.csv\", index_col=0)\n",
    "crm_lead, drop_rows = email_cleanup(_lead, \"emailaddress1\")"
   ]
  },
  {
   "cell_type": "markdown",
   "id": "a7080a99",
   "metadata": {},
   "source": [
    "#### define positive signal"
   ]
  },
  {
   "cell_type": "code",
   "execution_count": 141,
   "id": "2bbd5d58",
   "metadata": {
    "ExecuteTime": {
     "end_time": "2023-01-03T16:26:11.488726Z",
     "start_time": "2023-01-03T16:24:54.637706Z"
    }
   },
   "outputs": [],
   "source": [
    "statecodename_positive_rules = {\"Qualified\": 1}\n",
    "statuscodename_positive_rules = {\"Already Active Opportunity\": 1, \"Assigned to Distribution\":1}\n",
    "crm_lead[\"statecode_signal\"] = crm_lead[\"statecodename\"].map(statecodename_positive_rules).fillna(0)\n",
    "crm_lead[\"statuscode_signal\"] = crm_lead[\"statuscodename\"].map(statuscodename_positive_rules).fillna(0)\n",
    "\n",
    "def label_assign_rules(x):\n",
    "    target_cols = x[[\"statuscode_signal\", \"statecode_signal\"]]\n",
    "    is_positive = target_cols.sum().sum()>0 # one of them is positive\n",
    "    return is_positive\n",
    "\n",
    "email_updated_label = crm_lead.groupby(\"emailaddress1\").apply(lambda x: label_assign_rules(x))\n",
    "email_updated_label = email_updated_label.reset_index()\n",
    "email_updated_label.columns = [\"EmailAddress\", \"label\"]\n",
    "\n",
    "mcvisid_labels = email_mcvisid.merge(email_updated_label, on=\"EmailAddress\", how=\"left\")\n",
    "mcvisid_labels[\"label\"].fillna(False, inplace=True)\n",
    "positive_mcvisid = mcvisid_labels[mcvisid_labels[\"label\"] == True][\"mcvisid\"]\n",
    "updated_labels = mcvisid_labels[[\"mcvisid\",\"label\"]].drop_duplicates()"
   ]
  },
  {
   "cell_type": "code",
   "execution_count": 142,
   "id": "4dd254ef",
   "metadata": {
    "ExecuteTime": {
     "end_time": "2023-01-03T16:26:27.052953Z",
     "start_time": "2023-01-03T16:26:11.491406Z"
    }
   },
   "outputs": [
    {
     "name": "stdout",
     "output_type": "stream",
     "text": [
      "nan      3546400\n",
      "False     831349\n",
      "True       52446\n",
      "Name: label, dtype: int64\n",
      "False    831349\n",
      "True      52446\n",
      "Name: label, dtype: int64\n",
      "after drop high freq website:\n",
      " False    550522\n",
      "True      33645\n",
      "Name: label, dtype: int64\n"
     ]
    }
   ],
   "source": [
    "stage1_raw = aem_raw.drop(columns=[\"label\"]).merge(updated_labels, on=\"mcvisid\", how=\"left\") # drop no valid mcvisid\n",
    "print(stage1_raw[\"label\"].fillna(\"nan\").value_counts())\n",
    "# stage1_raw[\"label\"] = stage1_raw[\"label\"].fillna(False)\n",
    "stage1_raw.dropna(subset=[\"label\"], inplace=True)\n",
    "print(stage1_raw[\"label\"].fillna(\"nan\").value_counts())\n",
    "stage1_raw.to_csv(\"model_input_EDA\" + \"_\"+VERSION)\n",
    "stage1_raw = stage1_raw[~stage1_raw[\"clean_PageURL\"].isin(stopwords.index)] ## drop stopwords\n",
    "print(\"after drop high freq website:\\n\", stage1_raw[\"label\"].fillna(\"nan\").value_counts())"
   ]
  },
  {
   "cell_type": "code",
   "execution_count": 143,
   "id": "9e325f1a",
   "metadata": {
    "ExecuteTime": {
     "end_time": "2023-01-03T16:26:27.441327Z",
     "start_time": "2023-01-03T16:26:27.055246Z"
    }
   },
   "outputs": [],
   "source": [
    "total = stage1_raw.groupby(\"clean_PageURL\").size().rename(\"total\")\n",
    "pos = stage1_raw.groupby(\"clean_PageURL\")[\"label\"].sum().rename(\"positive\") * 1\n",
    "result = pd.concat([total, pos], axis=1)\n",
    "result[\"ratio\"] = result[\"positive\"]/result[\"total\"]\n",
    "result[\"negative\"] = (result[\"total\"] - result[\"positive\"])*1"
   ]
  },
  {
   "cell_type": "code",
   "execution_count": 144,
   "id": "77776ee5",
   "metadata": {
    "ExecuteTime": {
     "end_time": "2023-01-03T16:26:29.576043Z",
     "start_time": "2023-01-03T16:26:27.443703Z"
    }
   },
   "outputs": [],
   "source": [
    "result.to_excel(f\"result_{VERSION}.xlsx\")"
   ]
  },
  {
   "cell_type": "markdown",
   "id": "edf6d04b",
   "metadata": {},
   "source": [
    "#### assign score"
   ]
  },
  {
   "cell_type": "code",
   "execution_count": 145,
   "id": "d4f9a79c",
   "metadata": {
    "ExecuteTime": {
     "end_time": "2023-01-03T16:26:29.579141Z",
     "start_time": "2023-01-03T16:26:29.577328Z"
    }
   },
   "outputs": [],
   "source": [
    "# def assign_score(row):\n",
    "#     if 10000<row[\"total\"] || row[\"total\"]>50:\n",
    "#         return 1\n",
    "#     else:"
   ]
  },
  {
   "cell_type": "code",
   "execution_count": 146,
   "id": "03bae832",
   "metadata": {
    "ExecuteTime": {
     "end_time": "2023-01-03T16:26:29.591586Z",
     "start_time": "2023-01-03T16:26:29.580028Z"
    }
   },
   "outputs": [],
   "source": [
    "plot_data = result.query(\"10000>`total`>50 and `ratio`>0.05\")\n",
    "x = plot_data[\"ratio\"].astype(float)\n",
    "\n",
    "### min-max\n",
    "# x = (x-x.min())/(x.max()-x.min()) * 5\n",
    "\n",
    "### z-score\n",
    "# x = ((x-x.mean())/x.std())\n",
    "\n",
    "index = plot_data.assign(clean_PageURL=lambda x: x.index)[\"clean_PageURL\"]"
   ]
  },
  {
   "cell_type": "code",
   "execution_count": 152,
   "id": "1eec8978",
   "metadata": {
    "ExecuteTime": {
     "end_time": "2023-01-03T16:28:44.542704Z",
     "start_time": "2023-01-03T16:28:43.477801Z"
    }
   },
   "outputs": [
    {
     "data": {
      "image/png": "[encoded data removed]",
      "text/plain": [
       "<Figure size 1440x720 with 1 Axes>"
      ]
     },
     "metadata": {
      "needs_background": "light"
     },
     "output_type": "display_data"
    }
   ],
   "source": [
    "xx = score_bar_plot(index, x, num_levels = 5)"
   ]
  },
  {
   "cell_type": "code",
   "execution_count": 155,
   "id": "3b13bb9d",
   "metadata": {
    "ExecuteTime": {
     "end_time": "2023-01-03T16:31:41.887447Z",
     "start_time": "2023-01-03T16:31:41.858989Z"
    }
   },
   "outputs": [
    {
     "data": {
      "text/html": [
       "<style type=\"text/css\">\n",
       "</style>\n",
       "<table id=\"T_c9b20_\">\n",
       "  <thead>\n",
       "    <tr>\n",
       "      <th class=\"blank level0\" >&nbsp;</th>\n",
       "      <th class=\"col_heading level0 col0\" >clean_PageURL</th>\n",
       "      <th class=\"col_heading level0 col1\" >asset</th>\n",
       "      <th class=\"col_heading level0 col2\" >weight</th>\n",
       "      <th class=\"col_heading level0 col3\" >bins</th>\n",
       "      <th class=\"col_heading level0 col4\" >color</th>\n",
       "      <th class=\"col_heading level0 col5\" >auto_score</th>\n",
       "    </tr>\n",
       "  </thead>\n",
       "  <tbody>\n",
       "    <tr>\n",
       "      <th id=\"T_c9b20_level0_row0\" class=\"row_heading level0 row0\" >2</th>\n",
       "      <td id=\"T_c9b20_row0_col0\" class=\"data row0 col0\" >https://www.rockwellautomation.com/capabilities/connected-enterprise/management-perspectives</td>\n",
       "      <td id=\"T_c9b20_row0_col1\" class=\"data row0 col1\" >https://www.rockwellautomation.com/capabilities/connected-enterprise/management-perspectives</td>\n",
       "      <td id=\"T_c9b20_row0_col2\" class=\"data row0 col2\" >0.296875</td>\n",
       "      <td id=\"T_c9b20_row0_col3\" class=\"data row0 col3\" >[0.253, 0.304]</td>\n",
       "      <td id=\"T_c9b20_row0_col4\" class=\"data row0 col4\" >red</td>\n",
       "      <td id=\"T_c9b20_row0_col5\" class=\"data row0 col5\" >5</td>\n",
       "    </tr>\n",
       "    <tr>\n",
       "      <th id=\"T_c9b20_level0_row1\" class=\"row_heading level0 row1\" >585</th>\n",
       "      <td id=\"T_c9b20_row1_col0\" class=\"data row1 col0\" >https://www.rockwellautomation.com/products/software/rockwell-software</td>\n",
       "      <td id=\"T_c9b20_row1_col1\" class=\"data row1 col1\" >https://www.rockwellautomation.com/products/software/rockwell-software</td>\n",
       "      <td id=\"T_c9b20_row1_col2\" class=\"data row1 col2\" >0.303951</td>\n",
       "      <td id=\"T_c9b20_row1_col3\" class=\"data row1 col3\" >[0.253, 0.304]</td>\n",
       "      <td id=\"T_c9b20_row1_col4\" class=\"data row1 col4\" >red</td>\n",
       "      <td id=\"T_c9b20_row1_col5\" class=\"data row1 col5\" >5</td>\n",
       "    </tr>\n",
       "    <tr>\n",
       "      <th id=\"T_c9b20_level0_row2\" class=\"row_heading level0 row2\" >23</th>\n",
       "      <td id=\"T_c9b20_row2_col0\" class=\"data row2 col0\" >https://www.rockwellautomation.com/capabilities/industrial-safety-solutions/risk-assess-software-tool</td>\n",
       "      <td id=\"T_c9b20_row2_col1\" class=\"data row2 col1\" >https://www.rockwellautomation.com/capabilities/industrial-safety-solutions/risk-assess-software-tool</td>\n",
       "      <td id=\"T_c9b20_row2_col2\" class=\"data row2 col2\" >0.225352</td>\n",
       "      <td id=\"T_c9b20_row2_col3\" class=\"data row2 col3\" >[0.202, 0.253]</td>\n",
       "      <td id=\"T_c9b20_row2_col4\" class=\"data row2 col4\" >blue</td>\n",
       "      <td id=\"T_c9b20_row2_col5\" class=\"data row2 col5\" >4</td>\n",
       "    </tr>\n",
       "    <tr>\n",
       "      <th id=\"T_c9b20_level0_row3\" class=\"row_heading level0 row3\" >4</th>\n",
       "      <td id=\"T_c9b20_row3_col0\" class=\"data row3 col0\" >https://www.rockwellautomation.com/capabilities/digital-transformation</td>\n",
       "      <td id=\"T_c9b20_row3_col1\" class=\"data row3 col1\" >https://www.rockwellautomation.com/capabilities/digital-transformation</td>\n",
       "      <td id=\"T_c9b20_row3_col2\" class=\"data row3 col2\" >0.209677</td>\n",
       "      <td id=\"T_c9b20_row3_col3\" class=\"data row3 col3\" >[0.202, 0.253]</td>\n",
       "      <td id=\"T_c9b20_row3_col4\" class=\"data row3 col4\" >blue</td>\n",
       "      <td id=\"T_c9b20_row3_col5\" class=\"data row3 col5\" >4</td>\n",
       "    </tr>\n",
       "    <tr>\n",
       "      <th id=\"T_c9b20_level0_row4\" class=\"row_heading level0 row4\" >315</th>\n",
       "      <td id=\"T_c9b20_row4_col0\" class=\"data row4 col0\" >https://www.rockwellautomation.com/products/hardware/allen-bradley/drives/low-voltage-ac-drives/architecture-drives/20d-powerflex-700s</td>\n",
       "      <td id=\"T_c9b20_row4_col1\" class=\"data row4 col1\" >https://www.rockwellautomation.com/products/hardware/allen-bradley/drives/low-voltage-ac-drives/architecture-drives/20d-powerflex-700s</td>\n",
       "      <td id=\"T_c9b20_row4_col2\" class=\"data row4 col2\" >0.156627</td>\n",
       "      <td id=\"T_c9b20_row4_col3\" class=\"data row4 col3\" >[0.152, 0.202]</td>\n",
       "      <td id=\"T_c9b20_row4_col4\" class=\"data row4 col4\" >orange</td>\n",
       "      <td id=\"T_c9b20_row4_col5\" class=\"data row4 col5\" >3</td>\n",
       "    </tr>\n",
       "    <tr>\n",
       "      <th id=\"T_c9b20_level0_row5\" class=\"row_heading level0 row5\" >521</th>\n",
       "      <td id=\"T_c9b20_row5_col0\" class=\"data row5 col0\" >https://www.rockwellautomation.com/products/hardware/allen-bradley/safety-products/safety-sensors/safety-interlock-switches/non-contact-interlock-switches/440n-ferrogard-1--2--20--21</td>\n",
       "      <td id=\"T_c9b20_row5_col1\" class=\"data row5 col1\" >https://www.rockwellautomation.com/products/hardware/allen-bradley/safety-products/safety-sensors/safety-interlock-switches/non-contact-interlock-switches/440n-ferrogard-1--2--20--21</td>\n",
       "      <td id=\"T_c9b20_row5_col2\" class=\"data row5 col2\" >0.162500</td>\n",
       "      <td id=\"T_c9b20_row5_col3\" class=\"data row5 col3\" >[0.152, 0.202]</td>\n",
       "      <td id=\"T_c9b20_row5_col4\" class=\"data row5 col4\" >orange</td>\n",
       "      <td id=\"T_c9b20_row5_col5\" class=\"data row5 col5\" >3</td>\n",
       "    </tr>\n",
       "    <tr>\n",
       "      <th id=\"T_c9b20_level0_row6\" class=\"row_heading level0 row6\" >66</th>\n",
       "      <td id=\"T_c9b20_row6_col0\" class=\"data row6 col0\" >https://www.rockwellautomation.com/company/events/webinars/technology-partner-genius-webinar-with-spectrum-controls</td>\n",
       "      <td id=\"T_c9b20_row6_col1\" class=\"data row6 col1\" >https://www.rockwellautomation.com/company/events/webinars/technology-partner-genius-webinar-with-spectrum-controls</td>\n",
       "      <td id=\"T_c9b20_row6_col2\" class=\"data row6 col2\" >0.164213</td>\n",
       "      <td id=\"T_c9b20_row6_col3\" class=\"data row6 col3\" >[0.152, 0.202]</td>\n",
       "      <td id=\"T_c9b20_row6_col4\" class=\"data row6 col4\" >orange</td>\n",
       "      <td id=\"T_c9b20_row6_col5\" class=\"data row6 col5\" >3</td>\n",
       "    </tr>\n",
       "    <tr>\n",
       "      <th id=\"T_c9b20_level0_row7\" class=\"row_heading level0 row7\" >68</th>\n",
       "      <td id=\"T_c9b20_row7_col0\" class=\"data row7 col0\" >https://www.rockwellautomation.com/company/events/webinars/thingworx-fundamentals--your-iiot-platform</td>\n",
       "      <td id=\"T_c9b20_row7_col1\" class=\"data row7 col1\" >https://www.rockwellautomation.com/company/events/webinars/thingworx-fundamentals--your-iiot-platform</td>\n",
       "      <td id=\"T_c9b20_row7_col2\" class=\"data row7 col2\" >0.158192</td>\n",
       "      <td id=\"T_c9b20_row7_col3\" class=\"data row7 col3\" >[0.152, 0.202]</td>\n",
       "      <td id=\"T_c9b20_row7_col4\" class=\"data row7 col4\" >orange</td>\n",
       "      <td id=\"T_c9b20_row7_col5\" class=\"data row7 col5\" >3</td>\n",
       "    </tr>\n",
       "    <tr>\n",
       "      <th id=\"T_c9b20_level0_row8\" class=\"row_heading level0 row8\" >372</th>\n",
       "      <td id=\"T_c9b20_row8_col0\" class=\"data row8 col0\" >https://www.rockwellautomation.com/products/hardware/allen-bradley/industrial-control-products/line-load-power-solutions</td>\n",
       "      <td id=\"T_c9b20_row8_col1\" class=\"data row8 col1\" >https://www.rockwellautomation.com/products/hardware/allen-bradley/industrial-control-products/line-load-power-solutions</td>\n",
       "      <td id=\"T_c9b20_row8_col2\" class=\"data row8 col2\" >0.166667</td>\n",
       "      <td id=\"T_c9b20_row8_col3\" class=\"data row8 col3\" >[0.152, 0.202]</td>\n",
       "      <td id=\"T_c9b20_row8_col4\" class=\"data row8 col4\" >orange</td>\n",
       "      <td id=\"T_c9b20_row8_col5\" class=\"data row8 col5\" >3</td>\n",
       "    </tr>\n",
       "    <tr>\n",
       "      <th id=\"T_c9b20_level0_row9\" class=\"row_heading level0 row9\" >584</th>\n",
       "      <td id=\"T_c9b20_row9_col0\" class=\"data row9 col0\" >https://www.rockwellautomation.com/products/software/factorytalk/whats-new</td>\n",
       "      <td id=\"T_c9b20_row9_col1\" class=\"data row9 col1\" >https://www.rockwellautomation.com/products/software/factorytalk/whats-new</td>\n",
       "      <td id=\"T_c9b20_row9_col2\" class=\"data row9 col2\" >0.156627</td>\n",
       "      <td id=\"T_c9b20_row9_col3\" class=\"data row9 col3\" >[0.152, 0.202]</td>\n",
       "      <td id=\"T_c9b20_row9_col4\" class=\"data row9 col4\" >orange</td>\n",
       "      <td id=\"T_c9b20_row9_col5\" class=\"data row9 col5\" >3</td>\n",
       "    </tr>\n",
       "    <tr>\n",
       "      <th id=\"T_c9b20_level0_row10\" class=\"row_heading level0 row10\" >226</th>\n",
       "      <td id=\"T_c9b20_row10_col0\" class=\"data row10 col0\" >https://www.rockwellautomation.com/products/details.5069-IB8S</td>\n",
       "      <td id=\"T_c9b20_row10_col1\" class=\"data row10 col1\" >https://www.rockwellautomation.com/products/details.5069-IB8S</td>\n",
       "      <td id=\"T_c9b20_row10_col2\" class=\"data row10 col2\" >0.169811</td>\n",
       "      <td id=\"T_c9b20_row10_col3\" class=\"data row10 col3\" >[0.152, 0.202]</td>\n",
       "      <td id=\"T_c9b20_row10_col4\" class=\"data row10 col4\" >orange</td>\n",
       "      <td id=\"T_c9b20_row10_col5\" class=\"data row10 col5\" >3</td>\n",
       "    </tr>\n",
       "    <tr>\n",
       "      <th id=\"T_c9b20_level0_row11\" class=\"row_heading level0 row11\" >61</th>\n",
       "      <td id=\"T_c9b20_row11_col0\" class=\"data row11 col0\" >https://www.rockwellautomation.com/company/events/webinars/accelerate-digital-transformation-securely</td>\n",
       "      <td id=\"T_c9b20_row11_col1\" class=\"data row11 col1\" >https://www.rockwellautomation.com/company/events/webinars/accelerate-digital-transformation-securely</td>\n",
       "      <td id=\"T_c9b20_row11_col2\" class=\"data row11 col2\" >0.156522</td>\n",
       "      <td id=\"T_c9b20_row11_col3\" class=\"data row11 col3\" >[0.152, 0.202]</td>\n",
       "      <td id=\"T_c9b20_row11_col4\" class=\"data row11 col4\" >orange</td>\n",
       "      <td id=\"T_c9b20_row11_col5\" class=\"data row11 col5\" >3</td>\n",
       "    </tr>\n",
       "    <tr>\n",
       "      <th id=\"T_c9b20_level0_row12\" class=\"row_heading level0 row12\" >48</th>\n",
       "      <td id=\"T_c9b20_row12_col0\" class=\"data row12 col0\" >https://www.rockwellautomation.com/company/events/in-person-events/automation-fair/virtual-experience/operations-management</td>\n",
       "      <td id=\"T_c9b20_row12_col1\" class=\"data row12 col1\" >https://www.rockwellautomation.com/company/events/in-person-events/automation-fair/virtual-experience/operations-management</td>\n",
       "      <td id=\"T_c9b20_row12_col2\" class=\"data row12 col2\" >0.160000</td>\n",
       "      <td id=\"T_c9b20_row12_col3\" class=\"data row12 col3\" >[0.152, 0.202]</td>\n",
       "      <td id=\"T_c9b20_row12_col4\" class=\"data row12 col4\" >orange</td>\n",
       "      <td id=\"T_c9b20_row12_col5\" class=\"data row12 col5\" >3</td>\n",
       "    </tr>\n",
       "    <tr>\n",
       "      <th id=\"T_c9b20_level0_row13\" class=\"row_heading level0 row13\" >483</th>\n",
       "      <td id=\"T_c9b20_row13_col0\" class=\"data row13 col0\" >https://www.rockwellautomation.com/products/hardware/allen-bradley/relays-and-timers/general-purpose-relays/700-hf-miniature-square-base</td>\n",
       "      <td id=\"T_c9b20_row13_col1\" class=\"data row13 col1\" >https://www.rockwellautomation.com/products/hardware/allen-bradley/relays-and-timers/general-purpose-relays/700-hf-miniature-square-base</td>\n",
       "      <td id=\"T_c9b20_row13_col2\" class=\"data row13 col2\" >0.176471</td>\n",
       "      <td id=\"T_c9b20_row13_col3\" class=\"data row13 col3\" >[0.152, 0.202]</td>\n",
       "      <td id=\"T_c9b20_row13_col4\" class=\"data row13 col4\" >orange</td>\n",
       "      <td id=\"T_c9b20_row13_col5\" class=\"data row13 col5\" >3</td>\n",
       "    </tr>\n",
       "    <tr>\n",
       "      <th id=\"T_c9b20_level0_row14\" class=\"row_heading level0 row14\" >426</th>\n",
       "      <td id=\"T_c9b20_row14_col0\" class=\"data row14 col0\" >https://www.rockwellautomation.com/products/hardware/allen-bradley/network-security-and-infrastructure/ethernet-networks/stratix-4300-remote-access-router</td>\n",
       "      <td id=\"T_c9b20_row14_col1\" class=\"data row14 col1\" >https://www.rockwellautomation.com/products/hardware/allen-bradley/network-security-and-infrastructure/ethernet-networks/stratix-4300-remote-access-router</td>\n",
       "      <td id=\"T_c9b20_row14_col2\" class=\"data row14 col2\" >0.134921</td>\n",
       "      <td id=\"T_c9b20_row14_col3\" class=\"data row14 col3\" >[0.101, 0.152]</td>\n",
       "      <td id=\"T_c9b20_row14_col4\" class=\"data row14 col4\" >turquoise</td>\n",
       "      <td id=\"T_c9b20_row14_col5\" class=\"data row14 col5\" >2</td>\n",
       "    </tr>\n",
       "    <tr>\n",
       "      <th id=\"T_c9b20_level0_row15\" class=\"row_heading level0 row15\" >432</th>\n",
       "      <td id=\"T_c9b20_row15_col0\" class=\"data row15 col0\" >https://www.rockwellautomation.com/products/hardware/allen-bradley/network-security-and-infrastructure/ethernet-networks/stratix-8300-layer-3-modular-managed</td>\n",
       "      <td id=\"T_c9b20_row15_col1\" class=\"data row15 col1\" >https://www.rockwellautomation.com/products/hardware/allen-bradley/network-security-and-infrastructure/ethernet-networks/stratix-8300-layer-3-modular-managed</td>\n",
       "      <td id=\"T_c9b20_row15_col2\" class=\"data row15 col2\" >0.107438</td>\n",
       "      <td id=\"T_c9b20_row15_col3\" class=\"data row15 col3\" >[0.101, 0.152]</td>\n",
       "      <td id=\"T_c9b20_row15_col4\" class=\"data row15 col4\" >turquoise</td>\n",
       "      <td id=\"T_c9b20_row15_col5\" class=\"data row15 col5\" >2</td>\n",
       "    </tr>\n",
       "    <tr>\n",
       "      <th id=\"T_c9b20_level0_row16\" class=\"row_heading level0 row16\" >419</th>\n",
       "      <td id=\"T_c9b20_row16_col0\" class=\"data row16 col0\" >https://www.rockwellautomation.com/products/hardware/allen-bradley/network-security-and-infrastructure/ethernet-networks</td>\n",
       "      <td id=\"T_c9b20_row16_col1\" class=\"data row16 col1\" >https://www.rockwellautomation.com/products/hardware/allen-bradley/network-security-and-infrastructure/ethernet-networks</td>\n",
       "      <td id=\"T_c9b20_row16_col2\" class=\"data row16 col2\" >0.110294</td>\n",
       "      <td id=\"T_c9b20_row16_col3\" class=\"data row16 col3\" >[0.101, 0.152]</td>\n",
       "      <td id=\"T_c9b20_row16_col4\" class=\"data row16 col4\" >turquoise</td>\n",
       "      <td id=\"T_c9b20_row16_col5\" class=\"data row16 col5\" >2</td>\n",
       "    </tr>\n",
       "    <tr>\n",
       "      <th id=\"T_c9b20_level0_row17\" class=\"row_heading level0 row17\" >398</th>\n",
       "      <td id=\"T_c9b20_row17_col0\" class=\"data row17 col0\" >https://www.rockwellautomation.com/products/hardware/allen-bradley/motion-control/servo-drives/single-axis-control/kinetix-5300</td>\n",
       "      <td id=\"T_c9b20_row17_col1\" class=\"data row17 col1\" >https://www.rockwellautomation.com/products/hardware/allen-bradley/motion-control/servo-drives/single-axis-control/kinetix-5300</td>\n",
       "      <td id=\"T_c9b20_row17_col2\" class=\"data row17 col2\" >0.112717</td>\n",
       "      <td id=\"T_c9b20_row17_col3\" class=\"data row17 col3\" >[0.101, 0.152]</td>\n",
       "      <td id=\"T_c9b20_row17_col4\" class=\"data row17 col4\" >turquoise</td>\n",
       "      <td id=\"T_c9b20_row17_col5\" class=\"data row17 col5\" >2</td>\n",
       "    </tr>\n",
       "    <tr>\n",
       "      <th id=\"T_c9b20_level0_row18\" class=\"row_heading level0 row18\" >416</th>\n",
       "      <td id=\"T_c9b20_row18_col0\" class=\"data row18 col0\" >https://www.rockwellautomation.com/products/hardware/allen-bradley/network-security-and-infrastructure</td>\n",
       "      <td id=\"T_c9b20_row18_col1\" class=\"data row18 col1\" >https://www.rockwellautomation.com/products/hardware/allen-bradley/network-security-and-infrastructure</td>\n",
       "      <td id=\"T_c9b20_row18_col2\" class=\"data row18 col2\" >0.114420</td>\n",
       "      <td id=\"T_c9b20_row18_col3\" class=\"data row18 col3\" >[0.101, 0.152]</td>\n",
       "      <td id=\"T_c9b20_row18_col4\" class=\"data row18 col4\" >turquoise</td>\n",
       "      <td id=\"T_c9b20_row18_col5\" class=\"data row18 col5\" >2</td>\n",
       "    </tr>\n",
       "    <tr>\n",
       "      <th id=\"T_c9b20_level0_row19\" class=\"row_heading level0 row19\" >399</th>\n",
       "      <td id=\"T_c9b20_row19_col0\" class=\"data row19 col0\" >https://www.rockwellautomation.com/products/hardware/allen-bradley/motion-control/servo-drives/standalone-control</td>\n",
       "      <td id=\"T_c9b20_row19_col1\" class=\"data row19 col1\" >https://www.rockwellautomation.com/products/hardware/allen-bradley/motion-control/servo-drives/standalone-control</td>\n",
       "      <td id=\"T_c9b20_row19_col2\" class=\"data row19 col2\" >0.124378</td>\n",
       "      <td id=\"T_c9b20_row19_col3\" class=\"data row19 col3\" >[0.101, 0.152]</td>\n",
       "      <td id=\"T_c9b20_row19_col4\" class=\"data row19 col4\" >turquoise</td>\n",
       "      <td id=\"T_c9b20_row19_col5\" class=\"data row19 col5\" >2</td>\n",
       "    </tr>\n",
       "    <tr>\n",
       "      <th id=\"T_c9b20_level0_row20\" class=\"row_heading level0 row20\" >445</th>\n",
       "      <td id=\"T_c9b20_row20_col0\" class=\"data row20 col0\" >https://www.rockwellautomation.com/products/hardware/allen-bradley/power-supplies/switched-mode-power-supplies</td>\n",
       "      <td id=\"T_c9b20_row20_col1\" class=\"data row20 col1\" >https://www.rockwellautomation.com/products/hardware/allen-bradley/power-supplies/switched-mode-power-supplies</td>\n",
       "      <td id=\"T_c9b20_row20_col2\" class=\"data row20 col2\" >0.136986</td>\n",
       "      <td id=\"T_c9b20_row20_col3\" class=\"data row20 col3\" >[0.101, 0.152]</td>\n",
       "      <td id=\"T_c9b20_row20_col4\" class=\"data row20 col4\" >turquoise</td>\n",
       "      <td id=\"T_c9b20_row20_col5\" class=\"data row20 col5\" >2</td>\n",
       "    </tr>\n",
       "    <tr>\n",
       "      <th id=\"T_c9b20_level0_row21\" class=\"row_heading level0 row21\" >395</th>\n",
       "      <td id=\"T_c9b20_row21_col0\" class=\"data row21 col0\" >https://www.rockwellautomation.com/products/hardware/allen-bradley/motion-control/servo-drives/single-axis-control</td>\n",
       "      <td id=\"T_c9b20_row21_col1\" class=\"data row21 col1\" >https://www.rockwellautomation.com/products/hardware/allen-bradley/motion-control/servo-drives/single-axis-control</td>\n",
       "      <td id=\"T_c9b20_row21_col2\" class=\"data row21 col2\" >0.107368</td>\n",
       "      <td id=\"T_c9b20_row21_col3\" class=\"data row21 col3\" >[0.101, 0.152]</td>\n",
       "      <td id=\"T_c9b20_row21_col4\" class=\"data row21 col4\" >turquoise</td>\n",
       "      <td id=\"T_c9b20_row21_col5\" class=\"data row21 col5\" >2</td>\n",
       "    </tr>\n",
       "    <tr>\n",
       "      <th id=\"T_c9b20_level0_row22\" class=\"row_heading level0 row22\" >392</th>\n",
       "      <td id=\"T_c9b20_row22_col0\" class=\"data row22 col0\" >https://www.rockwellautomation.com/products/hardware/allen-bradley/motion-control/servo-drives/multi-axis-control/2094-kinetix-6000</td>\n",
       "      <td id=\"T_c9b20_row22_col1\" class=\"data row22 col1\" >https://www.rockwellautomation.com/products/hardware/allen-bradley/motion-control/servo-drives/multi-axis-control/2094-kinetix-6000</td>\n",
       "      <td id=\"T_c9b20_row22_col2\" class=\"data row22 col2\" >0.110000</td>\n",
       "      <td id=\"T_c9b20_row22_col3\" class=\"data row22 col3\" >[0.101, 0.152]</td>\n",
       "      <td id=\"T_c9b20_row22_col4\" class=\"data row22 col4\" >turquoise</td>\n",
       "      <td id=\"T_c9b20_row22_col5\" class=\"data row22 col5\" >2</td>\n",
       "    </tr>\n",
       "    <tr>\n",
       "      <th id=\"T_c9b20_level0_row23\" class=\"row_heading level0 row23\" >391</th>\n",
       "      <td id=\"T_c9b20_row23_col0\" class=\"data row23 col0\" >https://www.rockwellautomation.com/products/hardware/allen-bradley/motion-control/servo-drives/multi-axis-control</td>\n",
       "      <td id=\"T_c9b20_row23_col1\" class=\"data row23 col1\" >https://www.rockwellautomation.com/products/hardware/allen-bradley/motion-control/servo-drives/multi-axis-control</td>\n",
       "      <td id=\"T_c9b20_row23_col2\" class=\"data row23 col2\" >0.124011</td>\n",
       "      <td id=\"T_c9b20_row23_col3\" class=\"data row23 col3\" >[0.101, 0.152]</td>\n",
       "      <td id=\"T_c9b20_row23_col4\" class=\"data row23 col4\" >turquoise</td>\n",
       "      <td id=\"T_c9b20_row23_col5\" class=\"data row23 col5\" >2</td>\n",
       "    </tr>\n",
       "    <tr>\n",
       "      <th id=\"T_c9b20_level0_row24\" class=\"row_heading level0 row24\" >390</th>\n",
       "      <td id=\"T_c9b20_row24_col0\" class=\"data row24 col0\" >https://www.rockwellautomation.com/products/hardware/allen-bradley/motion-control/servo-drives/complete-motion-systems-for-smart-machines</td>\n",
       "      <td id=\"T_c9b20_row24_col1\" class=\"data row24 col1\" >https://www.rockwellautomation.com/products/hardware/allen-bradley/motion-control/servo-drives/complete-motion-systems-for-smart-machines</td>\n",
       "      <td id=\"T_c9b20_row24_col2\" class=\"data row24 col2\" >0.112903</td>\n",
       "      <td id=\"T_c9b20_row24_col3\" class=\"data row24 col3\" >[0.101, 0.152]</td>\n",
       "      <td id=\"T_c9b20_row24_col4\" class=\"data row24 col4\" >turquoise</td>\n",
       "      <td id=\"T_c9b20_row24_col5\" class=\"data row24 col5\" >2</td>\n",
       "    </tr>\n",
       "    <tr>\n",
       "      <th id=\"T_c9b20_level0_row25\" class=\"row_heading level0 row25\" >378</th>\n",
       "      <td id=\"T_c9b20_row25_col0\" class=\"data row25 col0\" >https://www.rockwellautomation.com/products/hardware/allen-bradley/motion-control/encoders/absolute/842e-843e-ethernet-ip</td>\n",
       "      <td id=\"T_c9b20_row25_col1\" class=\"data row25 col1\" >https://www.rockwellautomation.com/products/hardware/allen-bradley/motion-control/encoders/absolute/842e-843e-ethernet-ip</td>\n",
       "      <td id=\"T_c9b20_row25_col2\" class=\"data row25 col2\" >0.112821</td>\n",
       "      <td id=\"T_c9b20_row25_col3\" class=\"data row25 col3\" >[0.101, 0.152]</td>\n",
       "      <td id=\"T_c9b20_row25_col4\" class=\"data row25 col4\" >turquoise</td>\n",
       "      <td id=\"T_c9b20_row25_col5\" class=\"data row25 col5\" >2</td>\n",
       "    </tr>\n",
       "    <tr>\n",
       "      <th id=\"T_c9b20_level0_row26\" class=\"row_heading level0 row26\" >377</th>\n",
       "      <td id=\"T_c9b20_row26_col0\" class=\"data row26 col0\" >https://www.rockwellautomation.com/products/hardware/allen-bradley/motion-control/encoders/absolute</td>\n",
       "      <td id=\"T_c9b20_row26_col1\" class=\"data row26 col1\" >https://www.rockwellautomation.com/products/hardware/allen-bradley/motion-control/encoders/absolute</td>\n",
       "      <td id=\"T_c9b20_row26_col2\" class=\"data row26 col2\" >0.136646</td>\n",
       "      <td id=\"T_c9b20_row26_col3\" class=\"data row26 col3\" >[0.101, 0.152]</td>\n",
       "      <td id=\"T_c9b20_row26_col4\" class=\"data row26 col4\" >turquoise</td>\n",
       "      <td id=\"T_c9b20_row26_col5\" class=\"data row26 col5\" >2</td>\n",
       "    </tr>\n",
       "    <tr>\n",
       "      <th id=\"T_c9b20_level0_row27\" class=\"row_heading level0 row27\" >438</th>\n",
       "      <td id=\"T_c9b20_row27_col0\" class=\"data row27 col0\" >https://www.rockwellautomation.com/products/hardware/allen-bradley/new/armor-powerflex</td>\n",
       "      <td id=\"T_c9b20_row27_col1\" class=\"data row27 col1\" >https://www.rockwellautomation.com/products/hardware/allen-bradley/new/armor-powerflex</td>\n",
       "      <td id=\"T_c9b20_row27_col2\" class=\"data row27 col2\" >0.113269</td>\n",
       "      <td id=\"T_c9b20_row27_col3\" class=\"data row27 col3\" >[0.101, 0.152]</td>\n",
       "      <td id=\"T_c9b20_row27_col4\" class=\"data row27 col4\" >turquoise</td>\n",
       "      <td id=\"T_c9b20_row27_col5\" class=\"data row27 col5\" >2</td>\n",
       "    </tr>\n",
       "    <tr>\n",
       "      <th id=\"T_c9b20_level0_row28\" class=\"row_heading level0 row28\" >490</th>\n",
       "      <td id=\"T_c9b20_row28_col0\" class=\"data row28 col0\" >https://www.rockwellautomation.com/products/hardware/allen-bradley/relays-and-timers/iec-industrial-relays/700-cf-control-relays</td>\n",
       "      <td id=\"T_c9b20_row28_col1\" class=\"data row28 col1\" >https://www.rockwellautomation.com/products/hardware/allen-bradley/relays-and-timers/iec-industrial-relays/700-cf-control-relays</td>\n",
       "      <td id=\"T_c9b20_row28_col2\" class=\"data row28 col2\" >0.116402</td>\n",
       "      <td id=\"T_c9b20_row28_col3\" class=\"data row28 col3\" >[0.101, 0.152]</td>\n",
       "      <td id=\"T_c9b20_row28_col4\" class=\"data row28 col4\" >turquoise</td>\n",
       "      <td id=\"T_c9b20_row28_col5\" class=\"data row28 col5\" >2</td>\n",
       "    </tr>\n",
       "    <tr>\n",
       "      <th id=\"T_c9b20_level0_row29\" class=\"row_heading level0 row29\" >446</th>\n",
       "      <td id=\"T_c9b20_row29_col0\" class=\"data row29 col0\" >https://www.rockwellautomation.com/products/hardware/allen-bradley/power-supplies/switched-mode-power-supplies/1606-xl-standard</td>\n",
       "      <td id=\"T_c9b20_row29_col1\" class=\"data row29 col1\" >https://www.rockwellautomation.com/products/hardware/allen-bradley/power-supplies/switched-mode-power-supplies/1606-xl-standard</td>\n",
       "      <td id=\"T_c9b20_row29_col2\" class=\"data row29 col2\" >0.142857</td>\n",
       "      <td id=\"T_c9b20_row29_col3\" class=\"data row29 col3\" >[0.101, 0.152]</td>\n",
       "      <td id=\"T_c9b20_row29_col4\" class=\"data row29 col4\" >turquoise</td>\n",
       "      <td id=\"T_c9b20_row29_col5\" class=\"data row29 col5\" >2</td>\n",
       "    </tr>\n",
       "    <tr>\n",
       "      <th id=\"T_c9b20_level0_row30\" class=\"row_heading level0 row30\" >458</th>\n",
       "      <td id=\"T_c9b20_row30_col0\" class=\"data row30 col0\" >https://www.rockwellautomation.com/products/hardware/allen-bradley/programmable-controllers/micro-controllers/micro800-family/micro870-controllers</td>\n",
       "      <td id=\"T_c9b20_row30_col1\" class=\"data row30 col1\" >https://www.rockwellautomation.com/products/hardware/allen-bradley/programmable-controllers/micro-controllers/micro800-family/micro870-controllers</td>\n",
       "      <td id=\"T_c9b20_row30_col2\" class=\"data row30 col2\" >0.104790</td>\n",
       "      <td id=\"T_c9b20_row30_col3\" class=\"data row30 col3\" >[0.101, 0.152]</td>\n",
       "      <td id=\"T_c9b20_row30_col4\" class=\"data row30 col4\" >turquoise</td>\n",
       "      <td id=\"T_c9b20_row30_col5\" class=\"data row30 col5\" >2</td>\n",
       "    </tr>\n",
       "    <tr>\n",
       "      <th id=\"T_c9b20_level0_row31\" class=\"row_heading level0 row31\" >609</th>\n",
       "      <td id=\"T_c9b20_row31_col0\" class=\"data row31 col0\" >https://www.rockwellautomation.com/support/documentation/technical/motion-control/single-axis-control-servo-drives</td>\n",
       "      <td id=\"T_c9b20_row31_col1\" class=\"data row31 col1\" >https://www.rockwellautomation.com/support/documentation/technical/motion-control/single-axis-control-servo-drives</td>\n",
       "      <td id=\"T_c9b20_row31_col2\" class=\"data row31 col2\" >0.143836</td>\n",
       "      <td id=\"T_c9b20_row31_col3\" class=\"data row31 col3\" >[0.101, 0.152]</td>\n",
       "      <td id=\"T_c9b20_row31_col4\" class=\"data row31 col4\" >turquoise</td>\n",
       "      <td id=\"T_c9b20_row31_col5\" class=\"data row31 col5\" >2</td>\n",
       "    </tr>\n",
       "    <tr>\n",
       "      <th id=\"T_c9b20_level0_row32\" class=\"row_heading level0 row32\" >607</th>\n",
       "      <td id=\"T_c9b20_row32_col0\" class=\"data row32 col0\" >https://www.rockwellautomation.com/support/documentation/technical/motion-control/multi-axis-control-servo-drives</td>\n",
       "      <td id=\"T_c9b20_row32_col1\" class=\"data row32 col1\" >https://www.rockwellautomation.com/support/documentation/technical/motion-control/multi-axis-control-servo-drives</td>\n",
       "      <td id=\"T_c9b20_row32_col2\" class=\"data row32 col2\" >0.105932</td>\n",
       "      <td id=\"T_c9b20_row32_col3\" class=\"data row32 col3\" >[0.101, 0.152]</td>\n",
       "      <td id=\"T_c9b20_row32_col4\" class=\"data row32 col4\" >turquoise</td>\n",
       "      <td id=\"T_c9b20_row32_col5\" class=\"data row32 col5\" >2</td>\n",
       "    </tr>\n",
       "    <tr>\n",
       "      <th id=\"T_c9b20_level0_row33\" class=\"row_heading level0 row33\" >594</th>\n",
       "      <td id=\"T_c9b20_row33_col0\" class=\"data row33 col0\" >https://www.rockwellautomation.com/support/documentation/technical-data/functionalsafetydocum20180905-1614</td>\n",
       "      <td id=\"T_c9b20_row33_col1\" class=\"data row33 col1\" >https://www.rockwellautomation.com/support/documentation/technical-data/functionalsafetydocum20180905-1614</td>\n",
       "      <td id=\"T_c9b20_row33_col2\" class=\"data row33 col2\" >0.125407</td>\n",
       "      <td id=\"T_c9b20_row33_col3\" class=\"data row33 col3\" >[0.101, 0.152]</td>\n",
       "      <td id=\"T_c9b20_row33_col4\" class=\"data row33 col4\" >turquoise</td>\n",
       "      <td id=\"T_c9b20_row33_col5\" class=\"data row33 col5\" >2</td>\n",
       "    </tr>\n",
       "    <tr>\n",
       "      <th id=\"T_c9b20_level0_row34\" class=\"row_heading level0 row34\" >579</th>\n",
       "      <td id=\"T_c9b20_row34_col0\" class=\"data row34 col0\" >https://www.rockwellautomation.com/products/software/factorytalk/optix</td>\n",
       "      <td id=\"T_c9b20_row34_col1\" class=\"data row34 col1\" >https://www.rockwellautomation.com/products/software/factorytalk/optix</td>\n",
       "      <td id=\"T_c9b20_row34_col2\" class=\"data row34 col2\" >0.125874</td>\n",
       "      <td id=\"T_c9b20_row34_col3\" class=\"data row34 col3\" >[0.101, 0.152]</td>\n",
       "      <td id=\"T_c9b20_row34_col4\" class=\"data row34 col4\" >turquoise</td>\n",
       "      <td id=\"T_c9b20_row34_col5\" class=\"data row34 col5\" >2</td>\n",
       "    </tr>\n",
       "    <tr>\n",
       "      <th id=\"T_c9b20_level0_row35\" class=\"row_heading level0 row35\" >578</th>\n",
       "      <td id=\"T_c9b20_row35_col0\" class=\"data row35 col0\" >https://www.rockwellautomation.com/products/software/factorytalk/operationsuite/transaction-manager</td>\n",
       "      <td id=\"T_c9b20_row35_col1\" class=\"data row35 col1\" >https://www.rockwellautomation.com/products/software/factorytalk/operationsuite/transaction-manager</td>\n",
       "      <td id=\"T_c9b20_row35_col2\" class=\"data row35 col2\" >0.109170</td>\n",
       "      <td id=\"T_c9b20_row35_col3\" class=\"data row35 col3\" >[0.101, 0.152]</td>\n",
       "      <td id=\"T_c9b20_row35_col4\" class=\"data row35 col4\" >turquoise</td>\n",
       "      <td id=\"T_c9b20_row35_col5\" class=\"data row35 col5\" >2</td>\n",
       "    </tr>\n",
       "    <tr>\n",
       "      <th id=\"T_c9b20_level0_row36\" class=\"row_heading level0 row36\" >575</th>\n",
       "      <td id=\"T_c9b20_row36_col0\" class=\"data row36 col0\" >https://www.rockwellautomation.com/products/software/factorytalk/operationsuite/pavilion8</td>\n",
       "      <td id=\"T_c9b20_row36_col1\" class=\"data row36 col1\" >https://www.rockwellautomation.com/products/software/factorytalk/operationsuite/pavilion8</td>\n",
       "      <td id=\"T_c9b20_row36_col2\" class=\"data row36 col2\" >0.142857</td>\n",
       "      <td id=\"T_c9b20_row36_col3\" class=\"data row36 col3\" >[0.101, 0.152]</td>\n",
       "      <td id=\"T_c9b20_row36_col4\" class=\"data row36 col4\" >turquoise</td>\n",
       "      <td id=\"T_c9b20_row36_col5\" class=\"data row36 col5\" >2</td>\n",
       "    </tr>\n",
       "    <tr>\n",
       "      <th id=\"T_c9b20_level0_row37\" class=\"row_heading level0 row37\" >570</th>\n",
       "      <td id=\"T_c9b20_row37_col0\" class=\"data row37 col0\" >https://www.rockwellautomation.com/products/software/factorytalk/operationsuite/dataview</td>\n",
       "      <td id=\"T_c9b20_row37_col1\" class=\"data row37 col1\" >https://www.rockwellautomation.com/products/software/factorytalk/operationsuite/dataview</td>\n",
       "      <td id=\"T_c9b20_row37_col2\" class=\"data row37 col2\" >0.103734</td>\n",
       "      <td id=\"T_c9b20_row37_col3\" class=\"data row37 col3\" >[0.101, 0.152]</td>\n",
       "      <td id=\"T_c9b20_row37_col4\" class=\"data row37 col4\" >turquoise</td>\n",
       "      <td id=\"T_c9b20_row37_col5\" class=\"data row37 col5\" >2</td>\n",
       "    </tr>\n",
       "    <tr>\n",
       "      <th id=\"T_c9b20_level0_row38\" class=\"row_heading level0 row38\" >566</th>\n",
       "      <td id=\"T_c9b20_row38_col0\" class=\"data row38 col0\" >https://www.rockwellautomation.com/products/software/factorytalk/maintenancesuite/network-manager</td>\n",
       "      <td id=\"T_c9b20_row38_col1\" class=\"data row38 col1\" >https://www.rockwellautomation.com/products/software/factorytalk/maintenancesuite/network-manager</td>\n",
       "      <td id=\"T_c9b20_row38_col2\" class=\"data row38 col2\" >0.116147</td>\n",
       "      <td id=\"T_c9b20_row38_col3\" class=\"data row38 col3\" >[0.101, 0.152]</td>\n",
       "      <td id=\"T_c9b20_row38_col4\" class=\"data row38 col4\" >turquoise</td>\n",
       "      <td id=\"T_c9b20_row38_col5\" class=\"data row38 col5\" >2</td>\n",
       "    </tr>\n",
       "    <tr>\n",
       "      <th id=\"T_c9b20_level0_row39\" class=\"row_heading level0 row39\" >564</th>\n",
       "      <td id=\"T_c9b20_row39_col0\" class=\"data row39 col0\" >https://www.rockwellautomation.com/products/software/factorytalk/maintenancesuite/fiix</td>\n",
       "      <td id=\"T_c9b20_row39_col1\" class=\"data row39 col1\" >https://www.rockwellautomation.com/products/software/factorytalk/maintenancesuite/fiix</td>\n",
       "      <td id=\"T_c9b20_row39_col2\" class=\"data row39 col2\" >0.104712</td>\n",
       "      <td id=\"T_c9b20_row39_col3\" class=\"data row39 col3\" >[0.101, 0.152]</td>\n",
       "      <td id=\"T_c9b20_row39_col4\" class=\"data row39 col4\" >turquoise</td>\n",
       "      <td id=\"T_c9b20_row39_col5\" class=\"data row39 col5\" >2</td>\n",
       "    </tr>\n",
       "    <tr>\n",
       "      <th id=\"T_c9b20_level0_row40\" class=\"row_heading level0 row40\" >554</th>\n",
       "      <td id=\"T_c9b20_row40_col0\" class=\"data row40 col0\" >https://www.rockwellautomation.com/products/software/factorytalk/designhub</td>\n",
       "      <td id=\"T_c9b20_row40_col1\" class=\"data row40 col1\" >https://www.rockwellautomation.com/products/software/factorytalk/designhub</td>\n",
       "      <td id=\"T_c9b20_row40_col2\" class=\"data row40 col2\" >0.131687</td>\n",
       "      <td id=\"T_c9b20_row40_col3\" class=\"data row40 col3\" >[0.101, 0.152]</td>\n",
       "      <td id=\"T_c9b20_row40_col4\" class=\"data row40 col4\" >turquoise</td>\n",
       "      <td id=\"T_c9b20_row40_col5\" class=\"data row40 col5\" >2</td>\n",
       "    </tr>\n",
       "    <tr>\n",
       "      <th id=\"T_c9b20_level0_row41\" class=\"row_heading level0 row41\" >552</th>\n",
       "      <td id=\"T_c9b20_row41_col0\" class=\"data row41 col0\" >https://www.rockwellautomation.com/products/software/cloud-manufacturing</td>\n",
       "      <td id=\"T_c9b20_row41_col1\" class=\"data row41 col1\" >https://www.rockwellautomation.com/products/software/cloud-manufacturing</td>\n",
       "      <td id=\"T_c9b20_row41_col2\" class=\"data row41 col2\" >0.130137</td>\n",
       "      <td id=\"T_c9b20_row41_col3\" class=\"data row41 col3\" >[0.101, 0.152]</td>\n",
       "      <td id=\"T_c9b20_row41_col4\" class=\"data row41 col4\" >turquoise</td>\n",
       "      <td id=\"T_c9b20_row41_col5\" class=\"data row41 col5\" >2</td>\n",
       "    </tr>\n",
       "    <tr>\n",
       "      <th id=\"T_c9b20_level0_row42\" class=\"row_heading level0 row42\" >551</th>\n",
       "      <td id=\"T_c9b20_row42_col0\" class=\"data row42 col0\" >https://www.rockwellautomation.com/products/hardware/independent-cart-technology/quickstick-intelligent-conveyor-system</td>\n",
       "      <td id=\"T_c9b20_row42_col1\" class=\"data row42 col1\" >https://www.rockwellautomation.com/products/hardware/independent-cart-technology/quickstick-intelligent-conveyor-system</td>\n",
       "      <td id=\"T_c9b20_row42_col2\" class=\"data row42 col2\" >0.129032</td>\n",
       "      <td id=\"T_c9b20_row42_col3\" class=\"data row42 col3\" >[0.101, 0.152]</td>\n",
       "      <td id=\"T_c9b20_row42_col4\" class=\"data row42 col4\" >turquoise</td>\n",
       "      <td id=\"T_c9b20_row42_col5\" class=\"data row42 col5\" >2</td>\n",
       "    </tr>\n",
       "    <tr>\n",
       "      <th id=\"T_c9b20_level0_row43\" class=\"row_heading level0 row43\" >502</th>\n",
       "      <td id=\"T_c9b20_row43_col0\" class=\"data row43 col0\" >https://www.rockwellautomation.com/products/hardware/allen-bradley/safety-products/safety-presence-sensors/safezone-laser-scanners</td>\n",
       "      <td id=\"T_c9b20_row43_col1\" class=\"data row43 col1\" >https://www.rockwellautomation.com/products/hardware/allen-bradley/safety-products/safety-presence-sensors/safezone-laser-scanners</td>\n",
       "      <td id=\"T_c9b20_row43_col2\" class=\"data row43 col2\" >0.123596</td>\n",
       "      <td id=\"T_c9b20_row43_col3\" class=\"data row43 col3\" >[0.101, 0.152]</td>\n",
       "      <td id=\"T_c9b20_row43_col4\" class=\"data row43 col4\" >turquoise</td>\n",
       "      <td id=\"T_c9b20_row43_col5\" class=\"data row43 col5\" >2</td>\n",
       "    </tr>\n",
       "    <tr>\n",
       "      <th id=\"T_c9b20_level0_row44\" class=\"row_heading level0 row44\" >489</th>\n",
       "      <td id=\"T_c9b20_row44_col0\" class=\"data row44 col0\" >https://www.rockwellautomation.com/products/hardware/allen-bradley/relays-and-timers/iec-industrial-relays</td>\n",
       "      <td id=\"T_c9b20_row44_col1\" class=\"data row44 col1\" >https://www.rockwellautomation.com/products/hardware/allen-bradley/relays-and-timers/iec-industrial-relays</td>\n",
       "      <td id=\"T_c9b20_row44_col2\" class=\"data row44 col2\" >0.102273</td>\n",
       "      <td id=\"T_c9b20_row44_col3\" class=\"data row44 col3\" >[0.101, 0.152]</td>\n",
       "      <td id=\"T_c9b20_row44_col4\" class=\"data row44 col4\" >turquoise</td>\n",
       "      <td id=\"T_c9b20_row44_col5\" class=\"data row44 col5\" >2</td>\n",
       "    </tr>\n",
       "    <tr>\n",
       "      <th id=\"T_c9b20_level0_row45\" class=\"row_heading level0 row45\" >472</th>\n",
       "      <td id=\"T_c9b20_row45_col0\" class=\"data row45 col0\" >https://www.rockwellautomation.com/products/hardware/allen-bradley/push-buttons-and-signaling-devices/audible-signaling-devices/855x-hazloc-horns-and-beacons</td>\n",
       "      <td id=\"T_c9b20_row45_col1\" class=\"data row45 col1\" >https://www.rockwellautomation.com/products/hardware/allen-bradley/push-buttons-and-signaling-devices/audible-signaling-devices/855x-hazloc-horns-and-beacons</td>\n",
       "      <td id=\"T_c9b20_row45_col2\" class=\"data row45 col2\" >0.109091</td>\n",
       "      <td id=\"T_c9b20_row45_col3\" class=\"data row45 col3\" >[0.101, 0.152]</td>\n",
       "      <td id=\"T_c9b20_row45_col4\" class=\"data row45 col4\" >turquoise</td>\n",
       "      <td id=\"T_c9b20_row45_col5\" class=\"data row45 col5\" >2</td>\n",
       "    </tr>\n",
       "    <tr>\n",
       "      <th id=\"T_c9b20_level0_row46\" class=\"row_heading level0 row46\" >376</th>\n",
       "      <td id=\"T_c9b20_row46_col0\" class=\"data row46 col0\" >https://www.rockwellautomation.com/products/hardware/allen-bradley/motion-control/encoders/2198-output-module</td>\n",
       "      <td id=\"T_c9b20_row46_col1\" class=\"data row46 col1\" >https://www.rockwellautomation.com/products/hardware/allen-bradley/motion-control/encoders/2198-output-module</td>\n",
       "      <td id=\"T_c9b20_row46_col2\" class=\"data row46 col2\" >0.105263</td>\n",
       "      <td id=\"T_c9b20_row46_col3\" class=\"data row46 col3\" >[0.101, 0.152]</td>\n",
       "      <td id=\"T_c9b20_row46_col4\" class=\"data row46 col4\" >turquoise</td>\n",
       "      <td id=\"T_c9b20_row46_col5\" class=\"data row46 col5\" >2</td>\n",
       "    </tr>\n",
       "    <tr>\n",
       "      <th id=\"T_c9b20_level0_row47\" class=\"row_heading level0 row47\" >350</th>\n",
       "      <td id=\"T_c9b20_row47_col0\" class=\"data row47 col0\" >https://www.rockwellautomation.com/products/hardware/allen-bradley/i-o/in-cabinet-modular-i-o/flexha-5000-io-modules</td>\n",
       "      <td id=\"T_c9b20_row47_col1\" class=\"data row47 col1\" >https://www.rockwellautomation.com/products/hardware/allen-bradley/i-o/in-cabinet-modular-i-o/flexha-5000-io-modules</td>\n",
       "      <td id=\"T_c9b20_row47_col2\" class=\"data row47 col2\" >0.118980</td>\n",
       "      <td id=\"T_c9b20_row47_col3\" class=\"data row47 col3\" >[0.101, 0.152]</td>\n",
       "      <td id=\"T_c9b20_row47_col4\" class=\"data row47 col4\" >turquoise</td>\n",
       "      <td id=\"T_c9b20_row47_col5\" class=\"data row47 col5\" >2</td>\n",
       "    </tr>\n",
       "    <tr>\n",
       "      <th id=\"T_c9b20_level0_row48\" class=\"row_heading level0 row48\" >365</th>\n",
       "      <td id=\"T_c9b20_row48_col0\" class=\"data row48 col0\" >https://www.rockwellautomation.com/products/hardware/allen-bradley/industrial-computers-monitors/industrial-monitors/6176m-standard-monitors</td>\n",
       "      <td id=\"T_c9b20_row48_col1\" class=\"data row48 col1\" >https://www.rockwellautomation.com/products/hardware/allen-bradley/industrial-computers-monitors/industrial-monitors/6176m-standard-monitors</td>\n",
       "      <td id=\"T_c9b20_row48_col2\" class=\"data row48 col2\" >0.125000</td>\n",
       "      <td id=\"T_c9b20_row48_col3\" class=\"data row48 col3\" >[0.101, 0.152]</td>\n",
       "      <td id=\"T_c9b20_row48_col4\" class=\"data row48 col4\" >turquoise</td>\n",
       "      <td id=\"T_c9b20_row48_col5\" class=\"data row48 col5\" >2</td>\n",
       "    </tr>\n",
       "    <tr>\n",
       "      <th id=\"T_c9b20_level0_row49\" class=\"row_heading level0 row49\" >54</th>\n",
       "      <td id=\"T_c9b20_row49_col0\" class=\"data row49 col0\" >https://www.rockwellautomation.com/company/events/in-person-events/process-solutions-user-group/sessions</td>\n",
       "      <td id=\"T_c9b20_row49_col1\" class=\"data row49 col1\" >https://www.rockwellautomation.com/company/events/in-person-events/process-solutions-user-group/sessions</td>\n",
       "      <td id=\"T_c9b20_row49_col2\" class=\"data row49 col2\" >0.132388</td>\n",
       "      <td id=\"T_c9b20_row49_col3\" class=\"data row49 col3\" >[0.101, 0.152]</td>\n",
       "      <td id=\"T_c9b20_row49_col4\" class=\"data row49 col4\" >turquoise</td>\n",
       "      <td id=\"T_c9b20_row49_col5\" class=\"data row49 col5\" >2</td>\n",
       "    </tr>\n",
       "    <tr>\n",
       "      <th id=\"T_c9b20_level0_row50\" class=\"row_heading level0 row50\" >65</th>\n",
       "      <td id=\"T_c9b20_row50_col0\" class=\"data row50 col0\" >https://www.rockwellautomation.com/company/events/webinars/technology-partner-genius-webinar-with-oden-technologies</td>\n",
       "      <td id=\"T_c9b20_row50_col1\" class=\"data row50 col1\" >https://www.rockwellautomation.com/company/events/webinars/technology-partner-genius-webinar-with-oden-technologies</td>\n",
       "      <td id=\"T_c9b20_row50_col2\" class=\"data row50 col2\" >0.150510</td>\n",
       "      <td id=\"T_c9b20_row50_col3\" class=\"data row50 col3\" >[0.101, 0.152]</td>\n",
       "      <td id=\"T_c9b20_row50_col4\" class=\"data row50 col4\" >turquoise</td>\n",
       "      <td id=\"T_c9b20_row50_col5\" class=\"data row50 col5\" >2</td>\n",
       "    </tr>\n",
       "    <tr>\n",
       "      <th id=\"T_c9b20_level0_row51\" class=\"row_heading level0 row51\" >64</th>\n",
       "      <td id=\"T_c9b20_row51_col0\" class=\"data row51 col0\" >https://www.rockwellautomation.com/company/events/webinars/techconnect-genius-webinar--subscription-portal-overview-session2</td>\n",
       "      <td id=\"T_c9b20_row51_col1\" class=\"data row51 col1\" >https://www.rockwellautomation.com/company/events/webinars/techconnect-genius-webinar--subscription-portal-overview-session2</td>\n",
       "      <td id=\"T_c9b20_row51_col2\" class=\"data row51 col2\" >0.141196</td>\n",
       "      <td id=\"T_c9b20_row51_col3\" class=\"data row51 col3\" >[0.101, 0.152]</td>\n",
       "      <td id=\"T_c9b20_row51_col4\" class=\"data row51 col4\" >turquoise</td>\n",
       "      <td id=\"T_c9b20_row51_col5\" class=\"data row51 col5\" >2</td>\n",
       "    </tr>\n",
       "    <tr>\n",
       "      <th id=\"T_c9b20_level0_row52\" class=\"row_heading level0 row52\" >63</th>\n",
       "      <td id=\"T_c9b20_row52_col0\" class=\"data row52 col0\" >https://www.rockwellautomation.com/company/events/webinars/on-demand</td>\n",
       "      <td id=\"T_c9b20_row52_col1\" class=\"data row52 col1\" >https://www.rockwellautomation.com/company/events/webinars/on-demand</td>\n",
       "      <td id=\"T_c9b20_row52_col2\" class=\"data row52 col2\" >0.117241</td>\n",
       "      <td id=\"T_c9b20_row52_col3\" class=\"data row52 col3\" >[0.101, 0.152]</td>\n",
       "      <td id=\"T_c9b20_row52_col4\" class=\"data row52 col4\" >turquoise</td>\n",
       "      <td id=\"T_c9b20_row52_col5\" class=\"data row52 col5\" >2</td>\n",
       "    </tr>\n",
       "    <tr>\n",
       "      <th id=\"T_c9b20_level0_row53\" class=\"row_heading level0 row53\" >59</th>\n",
       "      <td id=\"T_c9b20_row53_col0\" class=\"data row53 col0\" >https://www.rockwellautomation.com/company/events/in-person-events/sps</td>\n",
       "      <td id=\"T_c9b20_row53_col1\" class=\"data row53 col1\" >https://www.rockwellautomation.com/company/events/in-person-events/sps</td>\n",
       "      <td id=\"T_c9b20_row53_col2\" class=\"data row53 col2\" >0.121739</td>\n",
       "      <td id=\"T_c9b20_row53_col3\" class=\"data row53 col3\" >[0.101, 0.152]</td>\n",
       "      <td id=\"T_c9b20_row53_col4\" class=\"data row53 col4\" >turquoise</td>\n",
       "      <td id=\"T_c9b20_row53_col5\" class=\"data row53 col5\" >2</td>\n",
       "    </tr>\n",
       "    <tr>\n",
       "      <th id=\"T_c9b20_level0_row54\" class=\"row_heading level0 row54\" >58</th>\n",
       "      <td id=\"T_c9b20_row54_col0\" class=\"data row54 col0\" >https://www.rockwellautomation.com/company/events/in-person-events/roklive/emea/good-to-know</td>\n",
       "      <td id=\"T_c9b20_row54_col1\" class=\"data row54 col1\" >https://www.rockwellautomation.com/company/events/in-person-events/roklive/emea/good-to-know</td>\n",
       "      <td id=\"T_c9b20_row54_col2\" class=\"data row54 col2\" >0.127907</td>\n",
       "      <td id=\"T_c9b20_row54_col3\" class=\"data row54 col3\" >[0.101, 0.152]</td>\n",
       "      <td id=\"T_c9b20_row54_col4\" class=\"data row54 col4\" >turquoise</td>\n",
       "      <td id=\"T_c9b20_row54_col5\" class=\"data row54 col5\" >2</td>\n",
       "    </tr>\n",
       "    <tr>\n",
       "      <th id=\"T_c9b20_level0_row55\" class=\"row_heading level0 row55\" >56</th>\n",
       "      <td id=\"T_c9b20_row55_col0\" class=\"data row55 col0\" >https://www.rockwellautomation.com/company/events/in-person-events/roklive/emea</td>\n",
       "      <td id=\"T_c9b20_row55_col1\" class=\"data row55 col1\" >https://www.rockwellautomation.com/company/events/in-person-events/roklive/emea</td>\n",
       "      <td id=\"T_c9b20_row55_col2\" class=\"data row55 col2\" >0.117886</td>\n",
       "      <td id=\"T_c9b20_row55_col3\" class=\"data row55 col3\" >[0.101, 0.152]</td>\n",
       "      <td id=\"T_c9b20_row55_col4\" class=\"data row55 col4\" >turquoise</td>\n",
       "      <td id=\"T_c9b20_row55_col5\" class=\"data row55 col5\" >2</td>\n",
       "    </tr>\n",
       "    <tr>\n",
       "      <th id=\"T_c9b20_level0_row56\" class=\"row_heading level0 row56\" >55</th>\n",
       "      <td id=\"T_c9b20_row56_col0\" class=\"data row56 col0\" >https://www.rockwellautomation.com/company/events/in-person-events/roklive</td>\n",
       "      <td id=\"T_c9b20_row56_col1\" class=\"data row56 col1\" >https://www.rockwellautomation.com/company/events/in-person-events/roklive</td>\n",
       "      <td id=\"T_c9b20_row56_col2\" class=\"data row56 col2\" >0.143564</td>\n",
       "      <td id=\"T_c9b20_row56_col3\" class=\"data row56 col3\" >[0.101, 0.152]</td>\n",
       "      <td id=\"T_c9b20_row56_col4\" class=\"data row56 col4\" >turquoise</td>\n",
       "      <td id=\"T_c9b20_row56_col5\" class=\"data row56 col5\" >2</td>\n",
       "    </tr>\n",
       "    <tr>\n",
       "      <th id=\"T_c9b20_level0_row57\" class=\"row_heading level0 row57\" >53</th>\n",
       "      <td id=\"T_c9b20_row57_col0\" class=\"data row57 col0\" >https://www.rockwellautomation.com/company/events/in-person-events/process-solutions-user-group</td>\n",
       "      <td id=\"T_c9b20_row57_col1\" class=\"data row57 col1\" >https://www.rockwellautomation.com/company/events/in-person-events/process-solutions-user-group</td>\n",
       "      <td id=\"T_c9b20_row57_col2\" class=\"data row57 col2\" >0.128834</td>\n",
       "      <td id=\"T_c9b20_row57_col3\" class=\"data row57 col3\" >[0.101, 0.152]</td>\n",
       "      <td id=\"T_c9b20_row57_col4\" class=\"data row57 col4\" >turquoise</td>\n",
       "      <td id=\"T_c9b20_row57_col5\" class=\"data row57 col5\" >2</td>\n",
       "    </tr>\n",
       "    <tr>\n",
       "      <th id=\"T_c9b20_level0_row58\" class=\"row_heading level0 row58\" >72</th>\n",
       "      <td id=\"T_c9b20_row58_col0\" class=\"data row58 col0\" >https://www.rockwellautomation.com/company/news/blogs/shaping-the-future-of-manufacturing-with-cloud</td>\n",
       "      <td id=\"T_c9b20_row58_col1\" class=\"data row58 col1\" >https://www.rockwellautomation.com/company/news/blogs/shaping-the-future-of-manufacturing-with-cloud</td>\n",
       "      <td id=\"T_c9b20_row58_col2\" class=\"data row58 col2\" >0.148936</td>\n",
       "      <td id=\"T_c9b20_row58_col3\" class=\"data row58 col3\" >[0.101, 0.152]</td>\n",
       "      <td id=\"T_c9b20_row58_col4\" class=\"data row58 col4\" >turquoise</td>\n",
       "      <td id=\"T_c9b20_row58_col5\" class=\"data row58 col5\" >2</td>\n",
       "    </tr>\n",
       "    <tr>\n",
       "      <th id=\"T_c9b20_level0_row59\" class=\"row_heading level0 row59\" >51</th>\n",
       "      <td id=\"T_c9b20_row59_col0\" class=\"data row59 col0\" >https://www.rockwellautomation.com/company/events/in-person-events/automation-fair/virtual-experience/technology-services</td>\n",
       "      <td id=\"T_c9b20_row59_col1\" class=\"data row59 col1\" >https://www.rockwellautomation.com/company/events/in-person-events/automation-fair/virtual-experience/technology-services</td>\n",
       "      <td id=\"T_c9b20_row59_col2\" class=\"data row59 col2\" >0.116279</td>\n",
       "      <td id=\"T_c9b20_row59_col3\" class=\"data row59 col3\" >[0.101, 0.152]</td>\n",
       "      <td id=\"T_c9b20_row59_col4\" class=\"data row59 col4\" >turquoise</td>\n",
       "      <td id=\"T_c9b20_row59_col5\" class=\"data row59 col5\" >2</td>\n",
       "    </tr>\n",
       "    <tr>\n",
       "      <th id=\"T_c9b20_level0_row60\" class=\"row_heading level0 row60\" >50</th>\n",
       "      <td id=\"T_c9b20_row60_col0\" class=\"data row60 col0\" >https://www.rockwellautomation.com/company/events/in-person-events/automation-fair/virtual-experience/smart-manufacturing</td>\n",
       "      <td id=\"T_c9b20_row60_col1\" class=\"data row60 col1\" >https://www.rockwellautomation.com/company/events/in-person-events/automation-fair/virtual-experience/smart-manufacturing</td>\n",
       "      <td id=\"T_c9b20_row60_col2\" class=\"data row60 col2\" >0.150289</td>\n",
       "      <td id=\"T_c9b20_row60_col3\" class=\"data row60 col3\" >[0.101, 0.152]</td>\n",
       "      <td id=\"T_c9b20_row60_col4\" class=\"data row60 col4\" >turquoise</td>\n",
       "      <td id=\"T_c9b20_row60_col5\" class=\"data row60 col5\" >2</td>\n",
       "    </tr>\n",
       "    <tr>\n",
       "      <th id=\"T_c9b20_level0_row61\" class=\"row_heading level0 row61\" >49</th>\n",
       "      <td id=\"T_c9b20_row61_col0\" class=\"data row61 col0\" >https://www.rockwellautomation.com/company/events/in-person-events/automation-fair/virtual-experience/security-networking</td>\n",
       "      <td id=\"T_c9b20_row61_col1\" class=\"data row61 col1\" >https://www.rockwellautomation.com/company/events/in-person-events/automation-fair/virtual-experience/security-networking</td>\n",
       "      <td id=\"T_c9b20_row61_col2\" class=\"data row61 col2\" >0.104575</td>\n",
       "      <td id=\"T_c9b20_row61_col3\" class=\"data row61 col3\" >[0.101, 0.152]</td>\n",
       "      <td id=\"T_c9b20_row61_col4\" class=\"data row61 col4\" >turquoise</td>\n",
       "      <td id=\"T_c9b20_row61_col5\" class=\"data row61 col5\" >2</td>\n",
       "    </tr>\n",
       "    <tr>\n",
       "      <th id=\"T_c9b20_level0_row62\" class=\"row_heading level0 row62\" >47</th>\n",
       "      <td id=\"T_c9b20_row62_col0\" class=\"data row62 col0\" >https://www.rockwellautomation.com/company/events/in-person-events/automation-fair/virtual-experience/industry-solutions</td>\n",
       "      <td id=\"T_c9b20_row62_col1\" class=\"data row62 col1\" >https://www.rockwellautomation.com/company/events/in-person-events/automation-fair/virtual-experience/industry-solutions</td>\n",
       "      <td id=\"T_c9b20_row62_col2\" class=\"data row62 col2\" >0.140351</td>\n",
       "      <td id=\"T_c9b20_row62_col3\" class=\"data row62 col3\" >[0.101, 0.152]</td>\n",
       "      <td id=\"T_c9b20_row62_col4\" class=\"data row62 col4\" >turquoise</td>\n",
       "      <td id=\"T_c9b20_row62_col5\" class=\"data row62 col5\" >2</td>\n",
       "    </tr>\n",
       "    <tr>\n",
       "      <th id=\"T_c9b20_level0_row63\" class=\"row_heading level0 row63\" >45</th>\n",
       "      <td id=\"T_c9b20_row63_col0\" class=\"data row63 col0\" >https://www.rockwellautomation.com/company/events/in-person-events/automation-fair/virtual-experience</td>\n",
       "      <td id=\"T_c9b20_row63_col1\" class=\"data row63 col1\" >https://www.rockwellautomation.com/company/events/in-person-events/automation-fair/virtual-experience</td>\n",
       "      <td id=\"T_c9b20_row63_col2\" class=\"data row63 col2\" >0.120978</td>\n",
       "      <td id=\"T_c9b20_row63_col3\" class=\"data row63 col3\" >[0.101, 0.152]</td>\n",
       "      <td id=\"T_c9b20_row63_col4\" class=\"data row63 col4\" >turquoise</td>\n",
       "      <td id=\"T_c9b20_row63_col5\" class=\"data row63 col5\" >2</td>\n",
       "    </tr>\n",
       "    <tr>\n",
       "      <th id=\"T_c9b20_level0_row64\" class=\"row_heading level0 row64\" >39</th>\n",
       "      <td id=\"T_c9b20_row64_col0\" class=\"data row64 col0\" >https://www.rockwellautomation.com/company/events/in-person-events/automation-fair/activities</td>\n",
       "      <td id=\"T_c9b20_row64_col1\" class=\"data row64 col1\" >https://www.rockwellautomation.com/company/events/in-person-events/automation-fair/activities</td>\n",
       "      <td id=\"T_c9b20_row64_col2\" class=\"data row64 col2\" >0.105206</td>\n",
       "      <td id=\"T_c9b20_row64_col3\" class=\"data row64 col3\" >[0.101, 0.152]</td>\n",
       "      <td id=\"T_c9b20_row64_col4\" class=\"data row64 col4\" >turquoise</td>\n",
       "      <td id=\"T_c9b20_row64_col5\" class=\"data row64 col5\" >2</td>\n",
       "    </tr>\n",
       "    <tr>\n",
       "      <th id=\"T_c9b20_level0_row65\" class=\"row_heading level0 row65\" >33</th>\n",
       "      <td id=\"T_c9b20_row65_col0\" class=\"data row65 col0\" >https://www.rockwellautomation.com/company/about-us/legal-notices/supply-chain-lead-times</td>\n",
       "      <td id=\"T_c9b20_row65_col1\" class=\"data row65 col1\" >https://www.rockwellautomation.com/company/about-us/legal-notices/supply-chain-lead-times</td>\n",
       "      <td id=\"T_c9b20_row65_col2\" class=\"data row65 col2\" >0.121044</td>\n",
       "      <td id=\"T_c9b20_row65_col3\" class=\"data row65 col3\" >[0.101, 0.152]</td>\n",
       "      <td id=\"T_c9b20_row65_col4\" class=\"data row65 col4\" >turquoise</td>\n",
       "      <td id=\"T_c9b20_row65_col5\" class=\"data row65 col5\" >2</td>\n",
       "    </tr>\n",
       "    <tr>\n",
       "      <th id=\"T_c9b20_level0_row66\" class=\"row_heading level0 row66\" >71</th>\n",
       "      <td id=\"T_c9b20_row66_col0\" class=\"data row66 col0\" >https://www.rockwellautomation.com/company/news/blogs/controlling-multiple-motors-with-one-vfd</td>\n",
       "      <td id=\"T_c9b20_row66_col1\" class=\"data row66 col1\" >https://www.rockwellautomation.com/company/news/blogs/controlling-multiple-motors-with-one-vfd</td>\n",
       "      <td id=\"T_c9b20_row66_col2\" class=\"data row66 col2\" >0.104651</td>\n",
       "      <td id=\"T_c9b20_row66_col3\" class=\"data row66 col3\" >[0.101, 0.152]</td>\n",
       "      <td id=\"T_c9b20_row66_col4\" class=\"data row66 col4\" >turquoise</td>\n",
       "      <td id=\"T_c9b20_row66_col5\" class=\"data row66 col5\" >2</td>\n",
       "    </tr>\n",
       "    <tr>\n",
       "      <th id=\"T_c9b20_level0_row67\" class=\"row_heading level0 row67\" >78</th>\n",
       "      <td id=\"T_c9b20_row67_col0\" class=\"data row67 col0\" >https://www.rockwellautomation.com/company/partnernetwork/oem-original-equipment-manufacturer-partners</td>\n",
       "      <td id=\"T_c9b20_row67_col1\" class=\"data row67 col1\" >https://www.rockwellautomation.com/company/partnernetwork/oem-original-equipment-manufacturer-partners</td>\n",
       "      <td id=\"T_c9b20_row67_col2\" class=\"data row67 col2\" >0.125874</td>\n",
       "      <td id=\"T_c9b20_row67_col3\" class=\"data row67 col3\" >[0.101, 0.152]</td>\n",
       "      <td id=\"T_c9b20_row67_col4\" class=\"data row67 col4\" >turquoise</td>\n",
       "      <td id=\"T_c9b20_row67_col5\" class=\"data row67 col5\" >2</td>\n",
       "    </tr>\n",
       "    <tr>\n",
       "      <th id=\"T_c9b20_level0_row68\" class=\"row_heading level0 row68\" >364</th>\n",
       "      <td id=\"T_c9b20_row68_col0\" class=\"data row68 col0\" >https://www.rockwellautomation.com/products/hardware/allen-bradley/industrial-computers-monitors/industrial-computers/versavirtual-appliance</td>\n",
       "      <td id=\"T_c9b20_row68_col1\" class=\"data row68 col1\" >https://www.rockwellautomation.com/products/hardware/allen-bradley/industrial-computers-monitors/industrial-computers/versavirtual-appliance</td>\n",
       "      <td id=\"T_c9b20_row68_col2\" class=\"data row68 col2\" >0.111111</td>\n",
       "      <td id=\"T_c9b20_row68_col3\" class=\"data row68 col3\" >[0.101, 0.152]</td>\n",
       "      <td id=\"T_c9b20_row68_col4\" class=\"data row68 col4\" >turquoise</td>\n",
       "      <td id=\"T_c9b20_row68_col5\" class=\"data row68 col5\" >2</td>\n",
       "    </tr>\n",
       "    <tr>\n",
       "      <th id=\"T_c9b20_level0_row69\" class=\"row_heading level0 row69\" >236</th>\n",
       "      <td id=\"T_c9b20_row69_col0\" class=\"data row69 col0\" >https://www.rockwellautomation.com/products/details.5069-OBV8S</td>\n",
       "      <td id=\"T_c9b20_row69_col1\" class=\"data row69 col1\" >https://www.rockwellautomation.com/products/details.5069-OBV8S</td>\n",
       "      <td id=\"T_c9b20_row69_col2\" class=\"data row69 col2\" >0.114943</td>\n",
       "      <td id=\"T_c9b20_row69_col3\" class=\"data row69 col3\" >[0.101, 0.152]</td>\n",
       "      <td id=\"T_c9b20_row69_col4\" class=\"data row69 col4\" >turquoise</td>\n",
       "      <td id=\"T_c9b20_row69_col5\" class=\"data row69 col5\" >2</td>\n",
       "    </tr>\n",
       "    <tr>\n",
       "      <th id=\"T_c9b20_level0_row70\" class=\"row_heading level0 row70\" >358</th>\n",
       "      <td id=\"T_c9b20_row70_col0\" class=\"data row70 col0\" >https://www.rockwellautomation.com/products/hardware/allen-bradley/industrial-computers-monitors/hazardous-location-computers</td>\n",
       "      <td id=\"T_c9b20_row70_col1\" class=\"data row70 col1\" >https://www.rockwellautomation.com/products/hardware/allen-bradley/industrial-computers-monitors/hazardous-location-computers</td>\n",
       "      <td id=\"T_c9b20_row70_col2\" class=\"data row70 col2\" >0.118644</td>\n",
       "      <td id=\"T_c9b20_row70_col3\" class=\"data row70 col3\" >[0.101, 0.152]</td>\n",
       "      <td id=\"T_c9b20_row70_col4\" class=\"data row70 col4\" >turquoise</td>\n",
       "      <td id=\"T_c9b20_row70_col5\" class=\"data row70 col5\" >2</td>\n",
       "    </tr>\n",
       "    <tr>\n",
       "      <th id=\"T_c9b20_level0_row71\" class=\"row_heading level0 row71\" >354</th>\n",
       "      <td id=\"T_c9b20_row71_col0\" class=\"data row71 col0\" >https://www.rockwellautomation.com/products/hardware/allen-bradley/i-o/on-machine--no-enclosure--block/5032-armorblock-5000-i-o</td>\n",
       "      <td id=\"T_c9b20_row71_col1\" class=\"data row71 col1\" >https://www.rockwellautomation.com/products/hardware/allen-bradley/i-o/on-machine--no-enclosure--block/5032-armorblock-5000-i-o</td>\n",
       "      <td id=\"T_c9b20_row71_col2\" class=\"data row71 col2\" >0.105691</td>\n",
       "      <td id=\"T_c9b20_row71_col3\" class=\"data row71 col3\" >[0.101, 0.152]</td>\n",
       "      <td id=\"T_c9b20_row71_col4\" class=\"data row71 col4\" >turquoise</td>\n",
       "      <td id=\"T_c9b20_row71_col5\" class=\"data row71 col5\" >2</td>\n",
       "    </tr>\n",
       "    <tr>\n",
       "      <th id=\"T_c9b20_level0_row72\" class=\"row_heading level0 row72\" >349</th>\n",
       "      <td id=\"T_c9b20_row72_col0\" class=\"data row72 col0\" >https://www.rockwellautomation.com/products/hardware/allen-bradley/i-o/in-cabinet-modular-i-o/5094-flex-5000-i-o-modules</td>\n",
       "      <td id=\"T_c9b20_row72_col1\" class=\"data row72 col1\" >https://www.rockwellautomation.com/products/hardware/allen-bradley/i-o/in-cabinet-modular-i-o/5094-flex-5000-i-o-modules</td>\n",
       "      <td id=\"T_c9b20_row72_col2\" class=\"data row72 col2\" >0.120034</td>\n",
       "      <td id=\"T_c9b20_row72_col3\" class=\"data row72 col3\" >[0.101, 0.152]</td>\n",
       "      <td id=\"T_c9b20_row72_col4\" class=\"data row72 col4\" >turquoise</td>\n",
       "      <td id=\"T_c9b20_row72_col5\" class=\"data row72 col5\" >2</td>\n",
       "    </tr>\n",
       "    <tr>\n",
       "      <th id=\"T_c9b20_level0_row73\" class=\"row_heading level0 row73\" >301</th>\n",
       "      <td id=\"T_c9b20_row73_col0\" class=\"data row73 col0\" >https://www.rockwellautomation.com/products/hardware/allen-bradley/connection-devices/terminal-blocks/marking-systems/1492-clearmark-advanced</td>\n",
       "      <td id=\"T_c9b20_row73_col1\" class=\"data row73 col1\" >https://www.rockwellautomation.com/products/hardware/allen-bradley/connection-devices/terminal-blocks/marking-systems/1492-clearmark-advanced</td>\n",
       "      <td id=\"T_c9b20_row73_col2\" class=\"data row73 col2\" >0.132075</td>\n",
       "      <td id=\"T_c9b20_row73_col3\" class=\"data row73 col3\" >[0.101, 0.152]</td>\n",
       "      <td id=\"T_c9b20_row73_col4\" class=\"data row73 col4\" >turquoise</td>\n",
       "      <td id=\"T_c9b20_row73_col5\" class=\"data row73 col5\" >2</td>\n",
       "    </tr>\n",
       "    <tr>\n",
       "      <th id=\"T_c9b20_level0_row74\" class=\"row_heading level0 row74\" >283</th>\n",
       "      <td id=\"T_c9b20_row74_col0\" class=\"data row74 col0\" >https://www.rockwellautomation.com/products/hardware/allen-bradley/circuit-and-load-protection/fuse-holders/140f-fuse-holders</td>\n",
       "      <td id=\"T_c9b20_row74_col1\" class=\"data row74 col1\" >https://www.rockwellautomation.com/products/hardware/allen-bradley/circuit-and-load-protection/fuse-holders/140f-fuse-holders</td>\n",
       "      <td id=\"T_c9b20_row74_col2\" class=\"data row74 col2\" >0.106667</td>\n",
       "      <td id=\"T_c9b20_row74_col3\" class=\"data row74 col3\" >[0.101, 0.152]</td>\n",
       "      <td id=\"T_c9b20_row74_col4\" class=\"data row74 col4\" >turquoise</td>\n",
       "      <td id=\"T_c9b20_row74_col5\" class=\"data row74 col5\" >2</td>\n",
       "    </tr>\n",
       "    <tr>\n",
       "      <th id=\"T_c9b20_level0_row75\" class=\"row_heading level0 row75\" >249</th>\n",
       "      <td id=\"T_c9b20_row75_col0\" class=\"data row75 col0\" >https://www.rockwellautomation.com/products/details.889D-F8AB-10</td>\n",
       "      <td id=\"T_c9b20_row75_col1\" class=\"data row75 col1\" >https://www.rockwellautomation.com/products/details.889D-F8AB-10</td>\n",
       "      <td id=\"T_c9b20_row75_col2\" class=\"data row75 col2\" >0.123596</td>\n",
       "      <td id=\"T_c9b20_row75_col3\" class=\"data row75 col3\" >[0.101, 0.152]</td>\n",
       "      <td id=\"T_c9b20_row75_col4\" class=\"data row75 col4\" >turquoise</td>\n",
       "      <td id=\"T_c9b20_row75_col5\" class=\"data row75 col5\" >2</td>\n",
       "    </tr>\n",
       "    <tr>\n",
       "      <th id=\"T_c9b20_level0_row76\" class=\"row_heading level0 row76\" >248</th>\n",
       "      <td id=\"T_c9b20_row76_col0\" class=\"data row76 col0\" >https://www.rockwellautomation.com/products/details.700S-CFB620EJC</td>\n",
       "      <td id=\"T_c9b20_row76_col1\" class=\"data row76 col1\" >https://www.rockwellautomation.com/products/details.700S-CFB620EJC</td>\n",
       "      <td id=\"T_c9b20_row76_col2\" class=\"data row76 col2\" >0.121622</td>\n",
       "      <td id=\"T_c9b20_row76_col3\" class=\"data row76 col3\" >[0.101, 0.152]</td>\n",
       "      <td id=\"T_c9b20_row76_col4\" class=\"data row76 col4\" >turquoise</td>\n",
       "      <td id=\"T_c9b20_row76_col5\" class=\"data row76 col5\" >2</td>\n",
       "    </tr>\n",
       "    <tr>\n",
       "      <th id=\"T_c9b20_level0_row77\" class=\"row_heading level0 row77\" >235</th>\n",
       "      <td id=\"T_c9b20_row77_col0\" class=\"data row77 col0\" >https://www.rockwellautomation.com/products/details.5069-L330ERS2</td>\n",
       "      <td id=\"T_c9b20_row77_col1\" class=\"data row77 col1\" >https://www.rockwellautomation.com/products/details.5069-L330ERS2</td>\n",
       "      <td id=\"T_c9b20_row77_col2\" class=\"data row77 col2\" >0.114286</td>\n",
       "      <td id=\"T_c9b20_row77_col3\" class=\"data row77 col3\" >[0.101, 0.152]</td>\n",
       "      <td id=\"T_c9b20_row77_col4\" class=\"data row77 col4\" >turquoise</td>\n",
       "      <td id=\"T_c9b20_row77_col5\" class=\"data row77 col5\" >2</td>\n",
       "    </tr>\n",
       "    <tr>\n",
       "      <th id=\"T_c9b20_level0_row78\" class=\"row_heading level0 row78\" >79</th>\n",
       "      <td id=\"T_c9b20_row78_col0\" class=\"data row78 col0\" >https://www.rockwellautomation.com/company/partnernetwork/system-integrator-partners</td>\n",
       "      <td id=\"T_c9b20_row78_col1\" class=\"data row78 col1\" >https://www.rockwellautomation.com/company/partnernetwork/system-integrator-partners</td>\n",
       "      <td id=\"T_c9b20_row78_col2\" class=\"data row78 col2\" >0.109259</td>\n",
       "      <td id=\"T_c9b20_row78_col3\" class=\"data row78 col3\" >[0.101, 0.152]</td>\n",
       "      <td id=\"T_c9b20_row78_col4\" class=\"data row78 col4\" >turquoise</td>\n",
       "      <td id=\"T_c9b20_row78_col5\" class=\"data row78 col5\" >2</td>\n",
       "    </tr>\n",
       "    <tr>\n",
       "      <th id=\"T_c9b20_level0_row79\" class=\"row_heading level0 row79\" >228</th>\n",
       "      <td id=\"T_c9b20_row79_col0\" class=\"data row79 col0\" >https://www.rockwellautomation.com/products/details.5069-L306ERS2</td>\n",
       "      <td id=\"T_c9b20_row79_col1\" class=\"data row79 col1\" >https://www.rockwellautomation.com/products/details.5069-L306ERS2</td>\n",
       "      <td id=\"T_c9b20_row79_col2\" class=\"data row79 col2\" >0.113636</td>\n",
       "      <td id=\"T_c9b20_row79_col3\" class=\"data row79 col3\" >[0.101, 0.152]</td>\n",
       "      <td id=\"T_c9b20_row79_col4\" class=\"data row79 col4\" >turquoise</td>\n",
       "      <td id=\"T_c9b20_row79_col5\" class=\"data row79 col5\" >2</td>\n",
       "    </tr>\n",
       "    <tr>\n",
       "      <th id=\"T_c9b20_level0_row80\" class=\"row_heading level0 row80\" >227</th>\n",
       "      <td id=\"T_c9b20_row80_col0\" class=\"data row80 col0\" >https://www.rockwellautomation.com/products/details.5069-IY4</td>\n",
       "      <td id=\"T_c9b20_row80_col1\" class=\"data row80 col1\" >https://www.rockwellautomation.com/products/details.5069-IY4</td>\n",
       "      <td id=\"T_c9b20_row80_col2\" class=\"data row80 col2\" >0.132653</td>\n",
       "      <td id=\"T_c9b20_row80_col3\" class=\"data row80 col3\" >[0.101, 0.152]</td>\n",
       "      <td id=\"T_c9b20_row80_col4\" class=\"data row80 col4\" >turquoise</td>\n",
       "      <td id=\"T_c9b20_row80_col5\" class=\"data row80 col5\" >2</td>\n",
       "    </tr>\n",
       "    <tr>\n",
       "      <th id=\"T_c9b20_level0_row81\" class=\"row_heading level0 row81\" >190</th>\n",
       "      <td id=\"T_c9b20_row81_col0\" class=\"data row81 col0\" >https://www.rockwellautomation.com/products/details.194R-J30-1753</td>\n",
       "      <td id=\"T_c9b20_row81_col1\" class=\"data row81 col1\" >https://www.rockwellautomation.com/products/details.194R-J30-1753</td>\n",
       "      <td id=\"T_c9b20_row81_col2\" class=\"data row81 col2\" >0.137931</td>\n",
       "      <td id=\"T_c9b20_row81_col3\" class=\"data row81 col3\" >[0.101, 0.152]</td>\n",
       "      <td id=\"T_c9b20_row81_col4\" class=\"data row81 col4\" >turquoise</td>\n",
       "      <td id=\"T_c9b20_row81_col5\" class=\"data row81 col5\" >2</td>\n",
       "    </tr>\n",
       "    <tr>\n",
       "      <th id=\"T_c9b20_level0_row82\" class=\"row_heading level0 row82\" >189</th>\n",
       "      <td id=\"T_c9b20_row82_col0\" class=\"data row82 col0\" >https://www.rockwellautomation.com/products/details.194R-J200-1753</td>\n",
       "      <td id=\"T_c9b20_row82_col1\" class=\"data row82 col1\" >https://www.rockwellautomation.com/products/details.194R-J200-1753</td>\n",
       "      <td id=\"T_c9b20_row82_col2\" class=\"data row82 col2\" >0.137931</td>\n",
       "      <td id=\"T_c9b20_row82_col3\" class=\"data row82 col3\" >[0.101, 0.152]</td>\n",
       "      <td id=\"T_c9b20_row82_col4\" class=\"data row82 col4\" >turquoise</td>\n",
       "      <td id=\"T_c9b20_row82_col5\" class=\"data row82 col5\" >2</td>\n",
       "    </tr>\n",
       "    <tr>\n",
       "      <th id=\"T_c9b20_level0_row83\" class=\"row_heading level0 row83\" >181</th>\n",
       "      <td id=\"T_c9b20_row83_col0\" class=\"data row83 col0\" >https://www.rockwellautomation.com/products/details.1783-SFP1GSX</td>\n",
       "      <td id=\"T_c9b20_row83_col1\" class=\"data row83 col1\" >https://www.rockwellautomation.com/products/details.1783-SFP1GSX</td>\n",
       "      <td id=\"T_c9b20_row83_col2\" class=\"data row83 col2\" >0.111111</td>\n",
       "      <td id=\"T_c9b20_row83_col3\" class=\"data row83 col3\" >[0.101, 0.152]</td>\n",
       "      <td id=\"T_c9b20_row83_col4\" class=\"data row83 col4\" >turquoise</td>\n",
       "      <td id=\"T_c9b20_row83_col5\" class=\"data row83 col5\" >2</td>\n",
       "    </tr>\n",
       "    <tr>\n",
       "      <th id=\"T_c9b20_level0_row84\" class=\"row_heading level0 row84\" >148</th>\n",
       "      <td id=\"T_c9b20_row84_col0\" class=\"data row84 col0\" >https://www.rockwellautomation.com/products/details.1762-L40BWA</td>\n",
       "      <td id=\"T_c9b20_row84_col1\" class=\"data row84 col1\" >https://www.rockwellautomation.com/products/details.1762-L40BWA</td>\n",
       "      <td id=\"T_c9b20_row84_col2\" class=\"data row84 col2\" >0.127273</td>\n",
       "      <td id=\"T_c9b20_row84_col3\" class=\"data row84 col3\" >[0.101, 0.152]</td>\n",
       "      <td id=\"T_c9b20_row84_col4\" class=\"data row84 col4\" >turquoise</td>\n",
       "      <td id=\"T_c9b20_row84_col5\" class=\"data row84 col5\" >2</td>\n",
       "    </tr>\n",
       "    <tr>\n",
       "      <th id=\"T_c9b20_level0_row85\" class=\"row_heading level0 row85\" >83</th>\n",
       "      <td id=\"T_c9b20_row85_col0\" class=\"data row85 col0\" >https://www.rockwellautomation.com/industries/life-sciences</td>\n",
       "      <td id=\"T_c9b20_row85_col1\" class=\"data row85 col1\" >https://www.rockwellautomation.com/industries/life-sciences</td>\n",
       "      <td id=\"T_c9b20_row85_col2\" class=\"data row85 col2\" >0.146789</td>\n",
       "      <td id=\"T_c9b20_row85_col3\" class=\"data row85 col3\" >[0.101, 0.152]</td>\n",
       "      <td id=\"T_c9b20_row85_col4\" class=\"data row85 col4\" >turquoise</td>\n",
       "      <td id=\"T_c9b20_row85_col5\" class=\"data row85 col5\" >2</td>\n",
       "    </tr>\n",
       "    <tr>\n",
       "      <th id=\"T_c9b20_level0_row86\" class=\"row_heading level0 row86\" >626</th>\n",
       "      <td id=\"T_c9b20_row86_col0\" class=\"data row86 col0\" >https://www.rockwellautomation.com/support/product/product-selection-configuration/global-short-circuit-current-ratings-tool</td>\n",
       "      <td id=\"T_c9b20_row86_col1\" class=\"data row86 col1\" >https://www.rockwellautomation.com/support/product/product-selection-configuration/global-short-circuit-current-ratings-tool</td>\n",
       "      <td id=\"T_c9b20_row86_col2\" class=\"data row86 col2\" >0.134632</td>\n",
       "      <td id=\"T_c9b20_row86_col3\" class=\"data row86 col3\" >[0.101, 0.152]</td>\n",
       "      <td id=\"T_c9b20_row86_col4\" class=\"data row86 col4\" >turquoise</td>\n",
       "      <td id=\"T_c9b20_row86_col5\" class=\"data row86 col5\" >2</td>\n",
       "    </tr>\n",
       "  </tbody>\n",
       "</table>\n"
      ],
      "text/plain": [
       "<pandas.io.formats.style.Styler at 0x7fe44e186250>"
      ]
     },
     "execution_count": 155,
     "metadata": {},
     "output_type": "execute_result"
    }
   ],
   "source": [
    "xx[xx[\"auto_score\"]>1].sort_values(by=\"auto_score\", ascending=False).style"
   ]
  },
  {
   "cell_type": "code",
   "execution_count": 153,
   "id": "baf277ed",
   "metadata": {
    "ExecuteTime": {
     "end_time": "2023-01-03T16:30:04.118132Z",
     "start_time": "2023-01-03T16:30:04.104481Z"
    }
   },
   "outputs": [
    {
     "data": {
      "text/plain": [
       "(637, 6)"
      ]
     },
     "execution_count": 153,
     "metadata": {},
     "output_type": "execute_result"
    }
   ],
   "source": [
    "xx.shape"
   ]
  },
  {
   "cell_type": "markdown",
   "id": "465fbfc3",
   "metadata": {},
   "source": [
    "### post to AEM"
   ]
  },
  {
   "cell_type": "code",
   "execution_count": null,
   "id": "8375f417",
   "metadata": {},
   "outputs": [],
   "source": []
  },
  {
   "cell_type": "code",
   "execution_count": null,
   "id": "b5fc0c01",
   "metadata": {},
   "outputs": [],
   "source": []
  },
  {
   "cell_type": "code",
   "execution_count": null,
   "id": "686a9a35",
   "metadata": {},
   "outputs": [],
   "source": []
  },
  {
   "cell_type": "code",
   "execution_count": null,
   "id": "53faa95f",
   "metadata": {},
   "outputs": [],
   "source": []
  }
 ],
 "metadata": {
  "kernelspec": {
   "display_name": "Python 3 (ipykernel)",
   "language": "python",
   "name": "python3"
  },
  "language_info": {
   "codemirror_mode": {
    "name": "ipython",
    "version": 3
   },
   "file_extension": ".py",
   "mimetype": "text/x-python",
   "name": "python",
   "nbconvert_exporter": "python",
   "pygments_lexer": "ipython3",
   "version": "3.9.7"
  },
  "toc": {
   "base_numbering": 1,
   "nav_menu": {},
   "number_sections": true,
   "sideBar": true,
   "skip_h1_title": false,
   "title_cell": "Table of Contents",
   "title_sidebar": "Contents",
   "toc_cell": false,
   "toc_position": {},
   "toc_section_display": true,
   "toc_window_display": true
  }
 },
 "nbformat": 4,
 "nbformat_minor": 5
}
