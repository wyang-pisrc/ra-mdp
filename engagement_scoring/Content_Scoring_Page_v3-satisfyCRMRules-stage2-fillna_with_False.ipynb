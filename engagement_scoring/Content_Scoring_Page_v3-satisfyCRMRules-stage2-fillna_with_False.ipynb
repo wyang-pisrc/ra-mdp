{
 "cells": [
  {
   "cell_type": "markdown",
   "id": "40fe2f74",
   "metadata": {},
   "source": [
    "# Init"
   ]
  },
  {
   "cell_type": "markdown",
   "id": "d6b62799",
   "metadata": {},
   "source": [
    "## Utils"
   ]
  },
  {
   "cell_type": "code",
   "execution_count": 1,
   "id": "6d8c3275",
   "metadata": {
    "ExecuteTime": {
     "end_time": "2022-12-15T19:23:05.714545Z",
     "start_time": "2022-12-15T19:23:03.661455Z"
    }
   },
   "outputs": [],
   "source": [
    "from contentScoreShareUtils import * "
   ]
  },
  {
   "cell_type": "markdown",
   "id": "d5243ed3",
   "metadata": {},
   "source": [
    "# Data"
   ]
  },
  {
   "cell_type": "markdown",
   "id": "ba5a5d32",
   "metadata": {},
   "source": [
    "## Load Data"
   ]
  },
  {
   "cell_type": "markdown",
   "id": "eb544f4f",
   "metadata": {
    "ExecuteTime": {
     "end_time": "2022-12-07T21:11:39.137646Z",
     "start_time": "2022-12-07T21:11:39.131786Z"
    }
   },
   "source": [
    "### elo.contact (mcvisid_elqid_email)\n",
    "- conclusion\n",
    "    - every elqid should have a matched email. \n",
    "    - every elqid is corresponding with one Form. So, one visitor can have multiple elqid\n",
    "    - not all the email can be found on CRM.Lead table\n",
    "    - <font color=red>if shared EloquaContactId or EmailAddress = aggregate as one User (not handle yet)</font>\n",
    "- Latest one month\n",
    "    - <font color=red>all mcvisid in mcvisid_elqid_email are the positive signal: </font>\n",
    "    - all other mcvisid not in mcvisid_elqid_email but in aem_raw is the negative signal: \n",
    "    \n",
    "- mcvisid_elqid_email_all: no time range selection\n",
    "\n",
    "<!-- WITH TMP1 AS (\n",
    "SELECT DISTINCT [EloquaContactId], [mcvisid]\n",
    "FROM [Staging].[aem].[RawTraffic]\n",
    "WHERE EloquaContactId <> ''\n",
    "), \n",
    "\n",
    "TMP2 AS (\n",
    "SELECT DISTINCT  TMP1.[mcvisid], elq.EloquaContactId, LOWER(elq.[EmailAddress]) AS \"EmailAddress\"\n",
    "FROM [Staging].[elq].[Contact] AS elq\n",
    "INNER JOIN TMP1 ON TMP1.EloquaContactId = elq.EloquaContactId\n",
    "WHERE elq.EloquaContactId <> ''\n",
    ")\n",
    "\n",
    "SELECT *\n",
    "FROM TMP2 -->\n",
    "\n",
    "- mcvisid_elqid_email_all: VisitStartDateTime > '2022-04-21'\n",
    "\n",
    "\n",
    "<!-- WITH TMP1 AS (\n",
    "SELECT DISTINCT [EloquaContactId], [mcvisid]\n",
    "FROM [Staging].[aem].[RawTraffic]\n",
    "WHERE EloquaContactId <> '' AND VisitStartDateTime > '2022-04-21'\n",
    "), \n",
    "\n",
    "TMP2 AS (\n",
    "SELECT DISTINCT  TMP1.[mcvisid], elq.EloquaContactId, LOWER(elq.[EmailAddress]) AS \"EmailAddress\"\n",
    "FROM [Staging].[elq].[Contact] AS elq\n",
    "INNER JOIN TMP1 ON TMP1.EloquaContactId = elq.EloquaContactId\n",
    "WHERE elq.EloquaContactId <> ''\n",
    ")\n",
    "\n",
    "SELECT *\n",
    "FROM TMP2 -->"
   ]
  },
  {
   "cell_type": "code",
   "execution_count": 2,
   "id": "3026dfd1",
   "metadata": {
    "ExecuteTime": {
     "end_time": "2022-12-15T19:23:07.090749Z",
     "start_time": "2022-12-15T19:23:05.745975Z"
    }
   },
   "outputs": [],
   "source": [
    "email_mcvisid = pd.read_csv(\"mcvisid_elqid_email_all.csv\")\n",
    "email_mcvisid, drop_mcvisid = email_cleanup(email_mcvisid, \"EmailAddress\")"
   ]
  },
  {
   "cell_type": "markdown",
   "id": "cef52e35",
   "metadata": {},
   "source": [
    "#### positive label 1\n",
    "- if can find the elq contact ID, then treated as positive"
   ]
  },
  {
   "cell_type": "code",
   "execution_count": null,
   "id": "ca662dda",
   "metadata": {},
   "outputs": [],
   "source": [
    "positive_mcvisid = email_mcvisid[\"mcvisid\"].drop_duplicates() ## all along the past, if mcvisid existed with corresponding elqid, then it is positive sigal"
   ]
  },
  {
   "cell_type": "markdown",
   "id": "6a8b329a",
   "metadata": {},
   "source": [
    "### crm Lead\n",
    "- unique EloquaContactId -> do some update on this table for the same ID\n",
    "- statuscodename: \n",
    "        ['New', 'Does not meet campaign criteria', 'Duplicate Lead', 'Already Active Opportunity', 'Insufficient information to contact', 'No buying intention', 'Not Decision Maker', 'Not buying or influence location', 'No Interest', 'Qualified', 'Unable to make contact (via phone,email)', 'No viable contact', 'Max Attempts', 'Unable to make contact', 'No RA solution', 'Assigned to Distribution', 'Bad Contact Information', 'Admin Only: Abandoned by Sales', 'Selling barrier to high', 'Not Buying Location', 'Unable to Process', 'Competitor/Non RA distributor', nan, 'Credit hold or watch', 'External Processing']\n",
    "- statecodename: \n",
    "        ['Open', 'Disqualified', 'Qualified', nan]\n",
    "- ra_generalengagementscore: \n",
    "        ['B4', nan, 'D4', 'A4', 'B1', 'B2', 'A2', 'D1', 'A1', 'A3', 'C2', 'C1', 'C4', 'B3', 'C3', 'D3', 'D2', '953810003.0']\n",
    "- ra_salesacceptedname: \n",
    "        [nan, 'Yes', 'No']\n"
   ]
  },
  {
   "cell_type": "code",
   "execution_count": 210,
   "id": "b9ce2e35",
   "metadata": {
    "ExecuteTime": {
     "end_time": "2022-12-15T20:27:03.246494Z",
     "start_time": "2022-12-15T20:26:53.311848Z"
    },
    "scrolled": true
   },
   "outputs": [],
   "source": [
    "_lead = pd.read_csv(\"crm_Lead_20221116_all.csv\", index_col=0)\n",
    "crm_lead, drop_rows = email_cleanup(_lead, \"emailaddress1\")"
   ]
  },
  {
   "cell_type": "code",
   "execution_count": 262,
   "id": "0ecfd0b2",
   "metadata": {
    "ExecuteTime": {
     "end_time": "2022-12-15T20:46:58.272847Z",
     "start_time": "2022-12-15T20:46:58.104641Z"
    }
   },
   "outputs": [],
   "source": [
    "statecodename_positive_rules = {\"Qualified\": 1}\n",
    "statuscodename_positive_rules = {\"Already Active Opportunity\": 1, \"Assigned to Distribution\":1}\n",
    "crm_lead[\"statecode_signal\"] = crm_lead[\"statecodename\"].map(statecodename_positive_rules).fillna(0)\n",
    "crm_lead[\"statuscode_signal\"] = crm_lead[\"statuscodename\"].map(statuscodename_positive_rules).fillna(0)\n",
    "\n",
    "def label_assign_rules(x):\n",
    "    target_cols = x[[\"statuscode_signal\", \"statecode_signal\"]]\n",
    "    is_positive = target_cols.sum().sum()>0 # one of them is positive\n",
    "    return is_positive\n",
    "\n",
    "x = crm_lead[crm_lead[\"emailaddress1\"] == \"idy1983@163.com\"]\n",
    "x.to_excel(\"sample_lead-1.xlsx\")\n",
    "\n",
    "email_updated_label = crm_lead.groupby(\"emailaddress1\").apply(lambda x: label_assign_rules(x))\n",
    "email_updated_label = email_updated_label.reset_index()\n",
    "email_updated_label.columns = [\"EmailAddress\", \"label\"]"
   ]
  },
  {
   "cell_type": "markdown",
   "id": "8d35a1cb",
   "metadata": {},
   "source": [
    "#### positive label 2\n",
    "- if can find the elq contact ID, and rules are satisfied in CRM table, then treated as positive \n",
    "- rules diagram: https://app.diagrams.net/#G1cZkJWofiA_C-lV5Iqe0PBud0n3IuZVuT"
   ]
  },
  {
   "cell_type": "code",
   "execution_count": 291,
   "id": "494ba38b",
   "metadata": {
    "ExecuteTime": {
     "end_time": "2022-12-15T20:58:35.334129Z",
     "start_time": "2022-12-15T20:58:35.306989Z"
    }
   },
   "outputs": [
    {
     "name": "stdout",
     "output_type": "stream",
     "text": [
      "False    101227\n",
      "True      33925\n",
      "Name: label, dtype: int64\n"
     ]
    },
    {
     "data": {
      "text/html": [
       "<div>\n",
       "<style scoped>\n",
       "    .dataframe tbody tr th:only-of-type {\n",
       "        vertical-align: middle;\n",
       "    }\n",
       "\n",
       "    .dataframe tbody tr th {\n",
       "        vertical-align: top;\n",
       "    }\n",
       "\n",
       "    .dataframe thead th {\n",
       "        text-align: right;\n",
       "    }\n",
       "</style>\n",
       "<table border=\"1\" class=\"dataframe\">\n",
       "  <thead>\n",
       "    <tr style=\"text-align: right;\">\n",
       "      <th></th>\n",
       "      <th>EmailAddress</th>\n",
       "      <th>label</th>\n",
       "    </tr>\n",
       "  </thead>\n",
       "  <tbody>\n",
       "    <tr>\n",
       "      <th>83271</th>\n",
       "      <td>matt.gidley@pcmc.com</td>\n",
       "      <td>False</td>\n",
       "    </tr>\n",
       "    <tr>\n",
       "      <th>76425</th>\n",
       "      <td>linda@wizcad.co.za</td>\n",
       "      <td>True</td>\n",
       "    </tr>\n",
       "    <tr>\n",
       "      <th>125963</th>\n",
       "      <td>tommy.w.byerly@clarios.com</td>\n",
       "      <td>False</td>\n",
       "    </tr>\n",
       "    <tr>\n",
       "      <th>25508</th>\n",
       "      <td>compras@prodismo.com</td>\n",
       "      <td>True</td>\n",
       "    </tr>\n",
       "    <tr>\n",
       "      <th>71195</th>\n",
       "      <td>kerry.sacilotto@riotinto.com</td>\n",
       "      <td>False</td>\n",
       "    </tr>\n",
       "    <tr>\n",
       "      <th>68914</th>\n",
       "      <td>jyarcia@mondelez.com</td>\n",
       "      <td>False</td>\n",
       "    </tr>\n",
       "    <tr>\n",
       "      <th>63921</th>\n",
       "      <td>john.koester@spsx.com</td>\n",
       "      <td>False</td>\n",
       "    </tr>\n",
       "    <tr>\n",
       "      <th>35523</th>\n",
       "      <td>dsouweine@fitchcompany.com</td>\n",
       "      <td>False</td>\n",
       "    </tr>\n",
       "    <tr>\n",
       "      <th>80582</th>\n",
       "      <td>marcelo.araujo@crwautomacao.com.br</td>\n",
       "      <td>True</td>\n",
       "    </tr>\n",
       "    <tr>\n",
       "      <th>130694</th>\n",
       "      <td>wanghaiying7@portqhd.com</td>\n",
       "      <td>True</td>\n",
       "    </tr>\n",
       "  </tbody>\n",
       "</table>\n",
       "</div>"
      ],
      "text/plain": [
       "                              EmailAddress  label\n",
       "83271                 matt.gidley@pcmc.com  False\n",
       "76425                   linda@wizcad.co.za   True\n",
       "125963          tommy.w.byerly@clarios.com  False\n",
       "25508                 compras@prodismo.com   True\n",
       "71195         kerry.sacilotto@riotinto.com  False\n",
       "68914                 jyarcia@mondelez.com  False\n",
       "63921                john.koester@spsx.com  False\n",
       "35523           dsouweine@fitchcompany.com  False\n",
       "80582   marcelo.araujo@crwautomacao.com.br   True\n",
       "130694            wanghaiying7@portqhd.com   True"
      ]
     },
     "execution_count": 291,
     "metadata": {},
     "output_type": "execute_result"
    }
   ],
   "source": [
    "print(email_updated_label[\"label\"].value_counts())\n",
    "email_updated_label.sample(10)"
   ]
  },
  {
   "cell_type": "code",
   "execution_count": 325,
   "id": "a856dfd5",
   "metadata": {
    "ExecuteTime": {
     "end_time": "2022-12-15T21:16:46.808908Z",
     "start_time": "2022-12-15T21:16:46.495092Z"
    }
   },
   "outputs": [],
   "source": [
    "mcvisid_labels = email_mcvisid.merge(email_updated_label, on=\"EmailAddress\", how=\"left\")\n",
    "mcvisid_labels[\"label\"].fillna(False, inplace=True)\n",
    "positive_mcvisid = mcvisid_labels[mcvisid_labels[\"label\"] == True][\"mcvisid\"]\n",
    "updated_labels = mcvisid_labels[[\"mcvisid\",\"label\"]].drop_duplicates()"
   ]
  },
  {
   "cell_type": "markdown",
   "id": "10615b24",
   "metadata": {},
   "source": [
    "#### correlation analysis"
   ]
  },
  {
   "cell_type": "code",
   "execution_count": null,
   "id": "3887bb72",
   "metadata": {
    "ExecuteTime": {
     "end_time": "2022-12-15T21:12:11.954185Z",
     "start_time": "2022-12-15T21:12:11.933912Z"
    }
   },
   "outputs": [],
   "source": []
  },
  {
   "cell_type": "markdown",
   "id": "c11e97bb",
   "metadata": {},
   "source": [
    "### AEM.raw \n",
    "```python\n",
    "'SessionVisitorId', 'VisitPageNumber', 'VisitNumber', 'NewVisit',\n",
    "'EventList', 'DateTime_UTC', 'PageURL', 'VisitReferrer',\n",
    "'VisitReferrerType', 'VisitorDomain', 'External_Audience',\n",
    "'External_AudienceSegment', 'External_Industry', 'External_Website',\n",
    "'EloquaContactId', 'EloquaGUID', 'mcvisid', 'GeoCity', 'GeoCountry',\n",
    "'GeoRegion', 'PDFurl', 'PDFpagecount', 'BingeId', 'BingeCriticalScore',\n",
    "'BingeScoredAssetPath', 'BingeScoredAssetScore', 'date', 'hour',\n",
    "'clean_PageURL', 'label'\n",
    "```"
   ]
  },
  {
   "cell_type": "code",
   "execution_count": 4,
   "id": "183cf292",
   "metadata": {
    "ExecuteTime": {
     "end_time": "2022-12-15T19:23:22.671135Z",
     "start_time": "2022-12-15T19:23:22.665541Z"
    }
   },
   "outputs": [],
   "source": [
    "usecols = [\n",
    "    \"mcvisid\", \"clean_PageURL\", \"label\", \"PDFurl\", \"BingeScoredAssetPath\", \"BingeId\", \"date\", \"hour\",\n",
    "    \"VisitReferrer\", \"VisitorDomain\", 'External_Audience',\n",
    "    'External_AudienceSegment', 'External_Industry', 'External_Website',\n",
    "    \"EloquaContactId\", \"PageURL\"\n",
    "]"
   ]
  },
  {
   "cell_type": "code",
   "execution_count": 5,
   "id": "d8437d96",
   "metadata": {
    "ExecuteTime": {
     "end_time": "2022-12-15T19:23:57.046685Z",
     "start_time": "2022-12-15T19:23:22.866427Z"
    }
   },
   "outputs": [],
   "source": [
    "# aem_raw = load_csv_batches(glob_pattern=\"./aem_raw/*.csv\", num=2, keep=\"last\") \n",
    "aem_raw = pd.read_csv(\"stage1_raw_v1.1.csv\", nrows=None, usecols=usecols)"
   ]
  },
  {
   "cell_type": "code",
   "execution_count": 6,
   "id": "a797f9f6",
   "metadata": {
    "ExecuteTime": {
     "end_time": "2022-12-15T19:24:00.140137Z",
     "start_time": "2022-12-15T19:23:57.047934Z"
    }
   },
   "outputs": [
    {
     "data": {
      "text/html": [
       "<div>\n",
       "<style scoped>\n",
       "    .dataframe tbody tr th:only-of-type {\n",
       "        vertical-align: middle;\n",
       "    }\n",
       "\n",
       "    .dataframe tbody tr th {\n",
       "        vertical-align: top;\n",
       "    }\n",
       "\n",
       "    .dataframe thead th {\n",
       "        text-align: right;\n",
       "    }\n",
       "</style>\n",
       "<table border=\"1\" class=\"dataframe\">\n",
       "  <thead>\n",
       "    <tr style=\"text-align: right;\">\n",
       "      <th></th>\n",
       "      <th>page_visit_count</th>\n",
       "    </tr>\n",
       "    <tr>\n",
       "      <th>clean_PageURL</th>\n",
       "      <th></th>\n",
       "    </tr>\n",
       "  </thead>\n",
       "  <tbody>\n",
       "    <tr>\n",
       "      <th>https://www.rockwellautomation.com/products/details.440T-MSTUE110B</th>\n",
       "      <td>1</td>\n",
       "    </tr>\n",
       "    <tr>\n",
       "      <th>https://www.rockwellautomation.com/products/details.800A-C2CC4LC</th>\n",
       "      <td>1</td>\n",
       "    </tr>\n",
       "    <tr>\n",
       "      <th>https://www.rockwellautomation.com/products/details.800A-C2CC2L</th>\n",
       "      <td>1</td>\n",
       "    </tr>\n",
       "    <tr>\n",
       "      <th>https://www.rockwellautomation.com/products/details.800A-C2CC24C</th>\n",
       "      <td>1</td>\n",
       "    </tr>\n",
       "    <tr>\n",
       "      <th>https://www.rockwellautomation.com/products/details.800A-C2CC24</th>\n",
       "      <td>1</td>\n",
       "    </tr>\n",
       "    <tr>\n",
       "      <th>...</th>\n",
       "      <td>...</td>\n",
       "    </tr>\n",
       "    <tr>\n",
       "      <th>https://www.rockwellautomation.com/support</th>\n",
       "      <td>232691</td>\n",
       "    </tr>\n",
       "    <tr>\n",
       "      <th>https://www.rockwellautomation.com/products/hardware/allen-bradley</th>\n",
       "      <td>677975</td>\n",
       "    </tr>\n",
       "    <tr>\n",
       "      <th>https://www.rockwellautomation.com/en-us</th>\n",
       "      <td>1347109</td>\n",
       "    </tr>\n",
       "    <tr>\n",
       "      <th>https://www.rockwellautomation.com/lang-selection</th>\n",
       "      <td>1404213</td>\n",
       "    </tr>\n",
       "    <tr>\n",
       "      <th>https://www.rockwellautomation.com/search</th>\n",
       "      <td>1738860</td>\n",
       "    </tr>\n",
       "  </tbody>\n",
       "</table>\n",
       "<p>462480 rows × 1 columns</p>\n",
       "</div>"
      ],
      "text/plain": [
       "                                                    page_visit_count\n",
       "clean_PageURL                                                       \n",
       "https://www.rockwellautomation.com/products/det...                 1\n",
       "https://www.rockwellautomation.com/products/det...                 1\n",
       "https://www.rockwellautomation.com/products/det...                 1\n",
       "https://www.rockwellautomation.com/products/det...                 1\n",
       "https://www.rockwellautomation.com/products/det...                 1\n",
       "...                                                              ...\n",
       "https://www.rockwellautomation.com/support                    232691\n",
       "https://www.rockwellautomation.com/products/har...            677975\n",
       "https://www.rockwellautomation.com/en-us                     1347109\n",
       "https://www.rockwellautomation.com/lang-selection            1404213\n",
       "https://www.rockwellautomation.com/search                    1738860\n",
       "\n",
       "[462480 rows x 1 columns]"
      ]
     },
     "execution_count": 6,
     "metadata": {},
     "output_type": "execute_result"
    }
   ],
   "source": [
    "view3 = aem_raw.groupby(\"clean_PageURL\")[\"mcvisid\"].count().rename(\"page_visit_count\").to_frame()\n",
    "view3.sort_values(by=\"page_visit_count\")"
   ]
  },
  {
   "cell_type": "code",
   "execution_count": 331,
   "id": "2a7d8f01",
   "metadata": {
    "ExecuteTime": {
     "end_time": "2022-12-15T21:18:31.953429Z",
     "start_time": "2022-12-15T21:18:31.932233Z"
    }
   },
   "outputs": [
    {
     "data": {
      "text/html": [
       "<div>\n",
       "<style scoped>\n",
       "    .dataframe tbody tr th:only-of-type {\n",
       "        vertical-align: middle;\n",
       "    }\n",
       "\n",
       "    .dataframe tbody tr th {\n",
       "        vertical-align: top;\n",
       "    }\n",
       "\n",
       "    .dataframe thead th {\n",
       "        text-align: right;\n",
       "    }\n",
       "</style>\n",
       "<table border=\"1\" class=\"dataframe\">\n",
       "  <thead>\n",
       "    <tr style=\"text-align: right;\">\n",
       "      <th></th>\n",
       "      <th>page_visit_count</th>\n",
       "    </tr>\n",
       "    <tr>\n",
       "      <th>clean_PageURL</th>\n",
       "      <th></th>\n",
       "    </tr>\n",
       "  </thead>\n",
       "  <tbody>\n",
       "    <tr>\n",
       "      <th>https://www.rockwellautomation.com/company/events/in-person-events/automation-fair</th>\n",
       "      <td>108723</td>\n",
       "    </tr>\n",
       "    <tr>\n",
       "      <th>https://www.rockwellautomation.com/products/software/factorytalk</th>\n",
       "      <td>116044</td>\n",
       "    </tr>\n",
       "    <tr>\n",
       "      <th>https://www.rockwellautomation.com/sales</th>\n",
       "      <td>124975</td>\n",
       "    </tr>\n",
       "    <tr>\n",
       "      <th>https://www.rockwellautomation.com/products/hardware/allen-bradley/programmable-controllers</th>\n",
       "      <td>135873</td>\n",
       "    </tr>\n",
       "    <tr>\n",
       "      <th>https://www.rockwellautomation.com</th>\n",
       "      <td>139829</td>\n",
       "    </tr>\n",
       "    <tr>\n",
       "      <th>https://www.rockwellautomation.com/support/product/product-compatibility-migration/product-lifecycle-status</th>\n",
       "      <td>155410</td>\n",
       "    </tr>\n",
       "    <tr>\n",
       "      <th>https://www.rockwellautomation.com/support/documentation/literature-library</th>\n",
       "      <td>155754</td>\n",
       "    </tr>\n",
       "    <tr>\n",
       "      <th>https://www.rockwellautomation.com/products</th>\n",
       "      <td>156632</td>\n",
       "    </tr>\n",
       "    <tr>\n",
       "      <th>https://www.rockwellautomation.com/company/about-us</th>\n",
       "      <td>165237</td>\n",
       "    </tr>\n",
       "    <tr>\n",
       "      <th>https://www.rockwellautomation.com/support/product/product-downloads</th>\n",
       "      <td>175463</td>\n",
       "    </tr>\n",
       "    <tr>\n",
       "      <th>https://www.rockwellautomation.com/support</th>\n",
       "      <td>232691</td>\n",
       "    </tr>\n",
       "    <tr>\n",
       "      <th>https://www.rockwellautomation.com/products/hardware/allen-bradley</th>\n",
       "      <td>677975</td>\n",
       "    </tr>\n",
       "    <tr>\n",
       "      <th>https://www.rockwellautomation.com/en-us</th>\n",
       "      <td>1347109</td>\n",
       "    </tr>\n",
       "    <tr>\n",
       "      <th>https://www.rockwellautomation.com/lang-selection</th>\n",
       "      <td>1404213</td>\n",
       "    </tr>\n",
       "    <tr>\n",
       "      <th>https://www.rockwellautomation.com/search</th>\n",
       "      <td>1738860</td>\n",
       "    </tr>\n",
       "  </tbody>\n",
       "</table>\n",
       "</div>"
      ],
      "text/plain": [
       "                                                    page_visit_count\n",
       "clean_PageURL                                                       \n",
       "https://www.rockwellautomation.com/company/even...            108723\n",
       "https://www.rockwellautomation.com/products/sof...            116044\n",
       "https://www.rockwellautomation.com/sales                      124975\n",
       "https://www.rockwellautomation.com/products/har...            135873\n",
       "https://www.rockwellautomation.com                            139829\n",
       "https://www.rockwellautomation.com/support/prod...            155410\n",
       "https://www.rockwellautomation.com/support/docu...            155754\n",
       "https://www.rockwellautomation.com/products                   156632\n",
       "https://www.rockwellautomation.com/company/abou...            165237\n",
       "https://www.rockwellautomation.com/support/prod...            175463\n",
       "https://www.rockwellautomation.com/support                    232691\n",
       "https://www.rockwellautomation.com/products/har...            677975\n",
       "https://www.rockwellautomation.com/en-us                     1347109\n",
       "https://www.rockwellautomation.com/lang-selection            1404213\n",
       "https://www.rockwellautomation.com/search                    1738860"
      ]
     },
     "execution_count": 331,
     "metadata": {},
     "output_type": "execute_result"
    }
   ],
   "source": [
    "view3[view3[\"page_visit_count\"]>100000].sort_values(\"page_visit_count\")"
   ]
  },
  {
   "cell_type": "code",
   "execution_count": 332,
   "id": "36fb737c",
   "metadata": {
    "ExecuteTime": {
     "end_time": "2022-12-15T21:18:32.111215Z",
     "start_time": "2022-12-15T21:18:32.081843Z"
    }
   },
   "outputs": [
    {
     "data": {
      "text/plain": [
       "count   19590.00000\n",
       "mean      373.29632\n",
       "std      2393.07215\n",
       "min        11.00000\n",
       "25%        17.00000\n",
       "50%        33.00000\n",
       "75%       101.00000\n",
       "max     87730.00000\n",
       "Name: page_visit_count, dtype: float64"
      ]
     },
     "execution_count": 332,
     "metadata": {},
     "output_type": "execute_result"
    }
   ],
   "source": [
    "view4 = view3[(view3[\"page_visit_count\"]>10) & (view3[\"page_visit_count\"]<100000)]\n",
    "view4[\"page_visit_count\"].describe()"
   ]
  },
  {
   "cell_type": "code",
   "execution_count": null,
   "id": "8ffaff44",
   "metadata": {
    "ExecuteTime": {
     "start_time": "2022-12-15T21:36:14.911Z"
    }
   },
   "outputs": [],
   "source": [
    "stage1_raw = aem_raw.drop(columns=[\"label\"]).merge(updated_labels, on=\"mcvisid\", how=\"left\")\n",
    "print(stage1_raw[\"label\"].fillna(\"nan\").value_counts())\n",
    "# stage1_raw[\"label\"] = stage1_raw[\"label\"].fillna(False)\n",
    "stage1_raw.dropna(subset=[\"label\"])\n",
    "print(stage1_raw[\"label\"].fillna(\"nan\").value_counts())"
   ]
  },
  {
   "cell_type": "markdown",
   "id": "92ff5ed3",
   "metadata": {},
   "source": [
    "## Summary\n",
    "positive_mcvisid is all the valid mcvisid that has elqID in AEM Raw"
   ]
  },
  {
   "cell_type": "markdown",
   "id": "292223f1",
   "metadata": {},
   "source": [
    "### unique version"
   ]
  },
  {
   "cell_type": "code",
   "execution_count": 338,
   "id": "794f1de7",
   "metadata": {
    "ExecuteTime": {
     "end_time": "2022-12-15T21:21:25.578194Z",
     "start_time": "2022-12-15T21:21:20.174772Z"
    }
   },
   "outputs": [
    {
     "data": {
      "text/html": [
       "<div>\n",
       "<style scoped>\n",
       "    .dataframe tbody tr th:only-of-type {\n",
       "        vertical-align: middle;\n",
       "    }\n",
       "\n",
       "    .dataframe tbody tr th {\n",
       "        vertical-align: top;\n",
       "    }\n",
       "\n",
       "    .dataframe thead th {\n",
       "        text-align: right;\n",
       "    }\n",
       "</style>\n",
       "<table border=\"1\" class=\"dataframe\">\n",
       "  <thead>\n",
       "    <tr style=\"text-align: right;\">\n",
       "      <th></th>\n",
       "      <th>mcvisid</th>\n",
       "      <th>mcvisid</th>\n",
       "    </tr>\n",
       "  </thead>\n",
       "  <tbody>\n",
       "    <tr>\n",
       "      <th>False</th>\n",
       "      <td>5357728</td>\n",
       "      <td>0.99872</td>\n",
       "    </tr>\n",
       "    <tr>\n",
       "      <th>True</th>\n",
       "      <td>6881</td>\n",
       "      <td>0.00128</td>\n",
       "    </tr>\n",
       "  </tbody>\n",
       "</table>\n",
       "</div>"
      ],
      "text/plain": [
       "       mcvisid  mcvisid\n",
       "False  5357728  0.99872\n",
       "True      6881  0.00128"
      ]
     },
     "execution_count": 338,
     "metadata": {},
     "output_type": "execute_result"
    }
   ],
   "source": [
    "aem_raw_unique_mcvisid = stage1_raw[\"mcvisid\"].drop_duplicates()\n",
    "labels = aem_raw_unique_mcvisid.isin(positive_mcvisid)\n",
    "freq = labels.value_counts()\n",
    "view_mcvisid = pd.concat([freq,freq/freq.sum()], axis=1)\n",
    "view_mcvisid"
   ]
  },
  {
   "cell_type": "code",
   "execution_count": null,
   "id": "e27183c0",
   "metadata": {},
   "outputs": [],
   "source": []
  },
  {
   "cell_type": "markdown",
   "id": "8b2cccfb",
   "metadata": {},
   "source": [
    "### non-unique version"
   ]
  },
  {
   "cell_type": "code",
   "execution_count": 339,
   "id": "988c53f3",
   "metadata": {
    "ExecuteTime": {
     "end_time": "2022-12-15T21:22:16.869012Z",
     "start_time": "2022-12-15T21:22:15.823488Z"
    }
   },
   "outputs": [
    {
     "data": {
      "text/html": [
       "<div>\n",
       "<style scoped>\n",
       "    .dataframe tbody tr th:only-of-type {\n",
       "        vertical-align: middle;\n",
       "    }\n",
       "\n",
       "    .dataframe tbody tr th {\n",
       "        vertical-align: top;\n",
       "    }\n",
       "\n",
       "    .dataframe thead th {\n",
       "        text-align: right;\n",
       "    }\n",
       "</style>\n",
       "<table border=\"1\" class=\"dataframe\">\n",
       "  <thead>\n",
       "    <tr style=\"text-align: right;\">\n",
       "      <th></th>\n",
       "      <th>mcvisid</th>\n",
       "      <th>mcvisid</th>\n",
       "    </tr>\n",
       "  </thead>\n",
       "  <tbody>\n",
       "    <tr>\n",
       "      <th>False</th>\n",
       "      <td>14538095</td>\n",
       "      <td>0.98557</td>\n",
       "    </tr>\n",
       "    <tr>\n",
       "      <th>True</th>\n",
       "      <td>212834</td>\n",
       "      <td>0.01443</td>\n",
       "    </tr>\n",
       "  </tbody>\n",
       "</table>\n",
       "</div>"
      ],
      "text/plain": [
       "        mcvisid  mcvisid\n",
       "False  14538095  0.98557\n",
       "True     212834  0.01443"
      ]
     },
     "execution_count": 339,
     "metadata": {},
     "output_type": "execute_result"
    }
   ],
   "source": [
    "labels = stage1_raw[\"mcvisid\"].isin(positive_mcvisid)\n",
    "freq = labels.value_counts()\n",
    "view_mcvisid = pd.concat([freq,freq/freq.sum()], axis=1)\n",
    "view_mcvisid"
   ]
  },
  {
   "cell_type": "markdown",
   "id": "0384f205",
   "metadata": {},
   "source": [
    "### page conversion ratio"
   ]
  },
  {
   "cell_type": "code",
   "execution_count": 340,
   "id": "554a2567",
   "metadata": {
    "ExecuteTime": {
     "end_time": "2022-12-15T21:22:28.058267Z",
     "start_time": "2022-12-15T21:22:22.863650Z"
    }
   },
   "outputs": [],
   "source": [
    "total = stage1_raw.groupby(\"clean_PageURL\").size().rename(\"total\")\n",
    "pos = stage1_raw.groupby(\"clean_PageURL\")[\"label\"].sum().rename(\"positive\")\n",
    "aa = pd.concat([total, pos], axis=1)\n",
    "aa[\"ratio\"] = aa[\"positive\"]/aa[\"total\"]\n",
    "aa[\"negative\"] = aa[\"total\"] - aa[\"positive\"]"
   ]
  },
  {
   "cell_type": "code",
   "execution_count": 342,
   "id": "f2281bb9",
   "metadata": {
    "ExecuteTime": {
     "end_time": "2022-12-15T21:22:34.372838Z",
     "start_time": "2022-12-15T21:22:34.348402Z"
    }
   },
   "outputs": [
    {
     "data": {
      "text/html": [
       "<div>\n",
       "<style scoped>\n",
       "    .dataframe tbody tr th:only-of-type {\n",
       "        vertical-align: middle;\n",
       "    }\n",
       "\n",
       "    .dataframe tbody tr th {\n",
       "        vertical-align: top;\n",
       "    }\n",
       "\n",
       "    .dataframe thead th {\n",
       "        text-align: right;\n",
       "    }\n",
       "</style>\n",
       "<table border=\"1\" class=\"dataframe\">\n",
       "  <thead>\n",
       "    <tr style=\"text-align: right;\">\n",
       "      <th></th>\n",
       "      <th>total</th>\n",
       "      <th>positive</th>\n",
       "      <th>ratio</th>\n",
       "      <th>negative</th>\n",
       "    </tr>\n",
       "    <tr>\n",
       "      <th>clean_PageURL</th>\n",
       "      <th></th>\n",
       "      <th></th>\n",
       "      <th></th>\n",
       "      <th></th>\n",
       "    </tr>\n",
       "  </thead>\n",
       "  <tbody>\n",
       "    <tr>\n",
       "      <th>https://www.rockwellautomation.com/company/news/presentations/totalforce-technology-video</th>\n",
       "      <td>139</td>\n",
       "      <td>7</td>\n",
       "      <td>0.05036</td>\n",
       "      <td>132</td>\n",
       "    </tr>\n",
       "    <tr>\n",
       "      <th>https://www.rockwellautomation.com/company/events/webinars/achieving-sustainability-goals-through-digital-technologies</th>\n",
       "      <td>296</td>\n",
       "      <td>15</td>\n",
       "      <td>0.05068</td>\n",
       "      <td>281</td>\n",
       "    </tr>\n",
       "    <tr>\n",
       "      <th>https://www.rockwellautomation.com/company/events/webinars/cip-security</th>\n",
       "      <td>531</td>\n",
       "      <td>27</td>\n",
       "      <td>0.05085</td>\n",
       "      <td>504</td>\n",
       "    </tr>\n",
       "    <tr>\n",
       "      <th>https://www.rockwellautomation.com/support/documentation/technical-data/functionalsafetydocum20180905-1614</th>\n",
       "      <td>3433</td>\n",
       "      <td>175</td>\n",
       "      <td>0.05098</td>\n",
       "      <td>3258</td>\n",
       "    </tr>\n",
       "    <tr>\n",
       "      <th>https://www.rockwellautomation.com/products/software/factorytalk/designhub/optix</th>\n",
       "      <td>1248</td>\n",
       "      <td>64</td>\n",
       "      <td>0.05128</td>\n",
       "      <td>1184</td>\n",
       "    </tr>\n",
       "    <tr>\n",
       "      <th>...</th>\n",
       "      <td>...</td>\n",
       "      <td>...</td>\n",
       "      <td>...</td>\n",
       "      <td>...</td>\n",
       "    </tr>\n",
       "    <tr>\n",
       "      <th>https://www.rockwellautomation.com/nl-be</th>\n",
       "      <td>585</td>\n",
       "      <td>86</td>\n",
       "      <td>0.14701</td>\n",
       "      <td>499</td>\n",
       "    </tr>\n",
       "    <tr>\n",
       "      <th>https://www.rockwellautomation.com/fr-be</th>\n",
       "      <td>633</td>\n",
       "      <td>96</td>\n",
       "      <td>0.15166</td>\n",
       "      <td>537</td>\n",
       "    </tr>\n",
       "    <tr>\n",
       "      <th>https://www.rockwellautomation.com/company/events/in-person-events/roklive-2022-sydney---get-inspired-to-innovate-/recommended-accommodation</th>\n",
       "      <td>150</td>\n",
       "      <td>25</td>\n",
       "      <td>0.16667</td>\n",
       "      <td>125</td>\n",
       "    </tr>\n",
       "    <tr>\n",
       "      <th>https://www.rockwellautomation.com/products/details.1756-A10K</th>\n",
       "      <td>181</td>\n",
       "      <td>34</td>\n",
       "      <td>0.18785</td>\n",
       "      <td>147</td>\n",
       "    </tr>\n",
       "    <tr>\n",
       "      <th>https://www.rockwellautomation.com/en-nz</th>\n",
       "      <td>983</td>\n",
       "      <td>236</td>\n",
       "      <td>0.24008</td>\n",
       "      <td>747</td>\n",
       "    </tr>\n",
       "  </tbody>\n",
       "</table>\n",
       "<p>88 rows × 4 columns</p>\n",
       "</div>"
      ],
      "text/plain": [
       "                                                    total  positive   ratio  \\\n",
       "clean_PageURL                                                                 \n",
       "https://www.rockwellautomation.com/company/news...    139         7 0.05036   \n",
       "https://www.rockwellautomation.com/company/even...    296        15 0.05068   \n",
       "https://www.rockwellautomation.com/company/even...    531        27 0.05085   \n",
       "https://www.rockwellautomation.com/support/docu...   3433       175 0.05098   \n",
       "https://www.rockwellautomation.com/products/sof...   1248        64 0.05128   \n",
       "...                                                   ...       ...     ...   \n",
       "https://www.rockwellautomation.com/nl-be              585        86 0.14701   \n",
       "https://www.rockwellautomation.com/fr-be              633        96 0.15166   \n",
       "https://www.rockwellautomation.com/company/even...    150        25 0.16667   \n",
       "https://www.rockwellautomation.com/products/det...    181        34 0.18785   \n",
       "https://www.rockwellautomation.com/en-nz              983       236 0.24008   \n",
       "\n",
       "                                                    negative  \n",
       "clean_PageURL                                                 \n",
       "https://www.rockwellautomation.com/company/news...       132  \n",
       "https://www.rockwellautomation.com/company/even...       281  \n",
       "https://www.rockwellautomation.com/company/even...       504  \n",
       "https://www.rockwellautomation.com/support/docu...      3258  \n",
       "https://www.rockwellautomation.com/products/sof...      1184  \n",
       "...                                                      ...  \n",
       "https://www.rockwellautomation.com/nl-be                 499  \n",
       "https://www.rockwellautomation.com/fr-be                 537  \n",
       "https://www.rockwellautomation.com/company/even...       125  \n",
       "https://www.rockwellautomation.com/products/det...       147  \n",
       "https://www.rockwellautomation.com/en-nz                 747  \n",
       "\n",
       "[88 rows x 4 columns]"
      ]
     },
     "execution_count": 342,
     "metadata": {},
     "output_type": "execute_result"
    }
   ],
   "source": [
    "aa[(aa[\"total\"]>100) & (aa[\"ratio\"]>0.05)].sort_values(\"ratio\")"
   ]
  },
  {
   "cell_type": "code",
   "execution_count": null,
   "id": "fcdc55de",
   "metadata": {},
   "outputs": [],
   "source": []
  },
  {
   "cell_type": "code",
   "execution_count": null,
   "id": "2990b11c",
   "metadata": {},
   "outputs": [],
   "source": []
  },
  {
   "cell_type": "code",
   "execution_count": null,
   "id": "3d129f70",
   "metadata": {},
   "outputs": [],
   "source": []
  },
  {
   "cell_type": "markdown",
   "id": "da4c0580",
   "metadata": {},
   "source": [
    "#### regex checking with missing url"
   ]
  },
  {
   "cell_type": "code",
   "execution_count": 343,
   "id": "17c123ed",
   "metadata": {
    "ExecuteTime": {
     "end_time": "2022-12-15T21:23:10.752522Z",
     "start_time": "2022-12-15T21:23:10.738883Z"
    }
   },
   "outputs": [],
   "source": [
    "result_list = \"\"\"|/company/news/presentations/event_materials_page.html                                                                       |   125 |    125 |    0 | 1.0000 |\n",
    "|/company/news/magazines/beat-the-heat-when-mounting-low-voltage-ac-drives.html                                              |   106 |    100 |    0 | 0.9434 |\n",
    "|/company/events/in-person-events/partnernetwork-conf-kr.html                                                                |   155 |    129 |    0 | 0.8323 |\n",
    "|/company/events/webinars/functional-safety-techconnect.html                                                                 |   103 |     80 |    0 | 0.7767 |\n",
    "|/company/events/in-person-events/archive.html                                                                               |   146 |    113 |    0 | 0.7740 |\n",
    "|/company/events/webinars/webinaire-process-dcs-plantpax.html                                                                |   148 |    113 |    0 | 0.7635 |\n",
    "|/company/events/webinars/modernising-to-smart-connected-systems.html                                                        |   163 |    124 |    0 | 0.7607 |\n",
    "|/campaigns/thank-you-smart-downloads.html                                                                                   |   129 |     98 |    0 | 0.7597 |\n",
    "|/company/events/webinars/product-registration.html                                                                          |   218 |    163 |    0 | 0.7477 |\n",
    "|/campaigns/emea/en/company/events/webinars/tech-talks/hms-claroty-stratus.html                                              |   202 |    151 |    0 | 0.7475 |\n",
    "|/company/events/webinars/techconnect-genius-webinar--subscription-portal-overview-session2.html                             |  1447 |   1057 |    0 | 0.7305 |\n",
    "|/company/events/webinars/404.html                                                                                           |   151 |    109 |    0 | 0.7219 |\n",
    "|/campaigns/emea/en/company/events/webinars/technical-competency-updates/unleash-the-new-capabilities-of-edge-analytics.html |   372 |    266 |    0 | 0.7151 |\n",
    "|/en-mde/products/hardware/allen-bradley/drives.html                                                                         |   101 |     72 |    0 | 0.7129 |\n",
    "|/support/product/product-selection-configuration/global-short-circuit-current-ratings-tool.html                             |  7015 |   4995 |    0 | 0.7120 |\n",
    "|/company/events/in-person-events/partnernetwork-conference.html                                                             |   245 |    174 |    0 | 0.7102 |\n",
    "|/industries/chemical/vfd-energy-savings-calculator.html                                                                     |   215 |    152 |    0 | 0.7070 |\n",
    "|/company/news/column/executive_news_japan.html                                                                              |   112 |     79 |    0 | 0.7054 |\n",
    "|/en-mde/support/product/product-compatibility-migration/product-lifecycle-status.html                                       |   280 |    196 |    0 | 0.7000 |\n",
    "|/campaigns/emea/en/company/events/webinars/tech-talks/cisco-prosoft-spectrum-controls.html                                  |   120 |     84 |    0 | 0.7000 |\n",
    "|/company/events/webinars/micro-control-integrated-automation-solution.html                                                  |   280 |    194 |    0 | 0.6929 |\n",
    "|/company/events/webinars/protect-your-gigafactory-with-industrial-security.html                                             |   169 |    116 |    0 | 0.6864 |\n",
    "|/support/documentation/technical-data/proposalworkssuppleme20180213-1403.html                                               |   114 |     78 |    0 | 0.6842 |\n",
    "|/company/events/webinars/technology-partner-genius-webinar-with-prosoft-technology---conn.html                              |   114 |     78 |    0 | 0.6842 |\n",
    "|/support/documentation/technical-data/proposalworksaddinghe20180213-1349.html                                               |   104 |     71 |    0 | 0.6827 |\n",
    "|/company/events/in-person-events/roklive/emea/faq.html                                                                      |   321 |    219 |    0 | 0.6822 |\n",
    "|/company/events/webinars/technology-partner-genius-webinar-with-oden-technologies.html                                      |   796 |    542 |    0 | 0.6809 |\n",
    "|/company/news/blogs/single-use-system-lifesciences-pt2.html                                                                 |   102 |     69 |    0 | 0.6765 |\n",
    "|/company/news/demonstrations/safety-automation-builder-software-demonstration.html                                          |   307 |    207 |    0 | 0.6743 |\n",
    "|/company/news/blogs/from-automation-to-autonomy.html                                                                        |   153 |    103 |    0 | 0.6732 |\"\"\""
   ]
  },
  {
   "cell_type": "code",
   "execution_count": 344,
   "id": "18e2d356",
   "metadata": {
    "ExecuteTime": {
     "end_time": "2022-12-15T21:23:24.110291Z",
     "start_time": "2022-12-15T21:23:11.128797Z"
    }
   },
   "outputs": [],
   "source": [
    "xx = \"detail\"\n",
    "result_check = pd.DataFrame([[item.strip() for item in row.split(\"|\") if len(item)>1 ]for row in result_list.split(\"\\n\") ], columns=[\"clean_PageURL\", \"total\", \"eloqua\",\"crm\", \"ratio\"])\n",
    "# stage1_raw[stage1_raw[\"PageURL\"].str.contains(xx)][[\"clean_PageURL\", \"PageURL\"]].drop_duplicates().head(50).style\n",
    "clean_urls = stage1_raw[\"clean_PageURL\"].drop_duplicates()\n",
    "all_urls = stage1_raw[\"PageURL\"].drop_duplicates()\n",
    "for row in result_check[\"clean_PageURL\"].tolist():\n",
    "    a = clean_urls.str.contains(xx).any()\n",
    "    b = all_urls.str.contains(xx).any()\n",
    "    if a is False or b is False:\n",
    "        print(row)\n",
    "        \n",
    "result_check[\"clean_PageURL\"] = result_check[\"clean_PageURL\"].apply(lambda x: \"https://www.rockwellautomation.com\" + x[:-5])\n",
    "# result_check.style"
   ]
  },
  {
   "cell_type": "code",
   "execution_count": 345,
   "id": "cb8697bf",
   "metadata": {
    "ExecuteTime": {
     "end_time": "2022-12-15T21:23:28.929459Z",
     "start_time": "2022-12-15T21:23:24.111617Z"
    }
   },
   "outputs": [],
   "source": [
    "ss = aem_raw[aem_raw[\"PageURL\"].str.contains(\"beat-the-heat-when-mounting-low-voltage-ac-drives\")]"
   ]
  },
  {
   "cell_type": "code",
   "execution_count": 346,
   "id": "78c86691",
   "metadata": {
    "ExecuteTime": {
     "end_time": "2022-12-15T21:23:29.004030Z",
     "start_time": "2022-12-15T21:23:28.930269Z"
    },
    "scrolled": true
   },
   "outputs": [
    {
     "data": {
      "text/html": [
       "<div>\n",
       "<style scoped>\n",
       "    .dataframe tbody tr th:only-of-type {\n",
       "        vertical-align: middle;\n",
       "    }\n",
       "\n",
       "    .dataframe tbody tr th {\n",
       "        vertical-align: top;\n",
       "    }\n",
       "\n",
       "    .dataframe thead th {\n",
       "        text-align: right;\n",
       "    }\n",
       "</style>\n",
       "<table border=\"1\" class=\"dataframe\">\n",
       "  <thead>\n",
       "    <tr style=\"text-align: right;\">\n",
       "      <th></th>\n",
       "      <th>total</th>\n",
       "      <th>positive</th>\n",
       "      <th>ratio</th>\n",
       "      <th>negative</th>\n",
       "    </tr>\n",
       "  </thead>\n",
       "  <tbody>\n",
       "    <tr>\n",
       "      <th>count</th>\n",
       "      <td>462480.00000</td>\n",
       "      <td>462480.00000</td>\n",
       "      <td>462480.00000</td>\n",
       "      <td>462480.00000</td>\n",
       "    </tr>\n",
       "    <tr>\n",
       "      <th>mean</th>\n",
       "      <td>31.89528</td>\n",
       "      <td>0.42304</td>\n",
       "      <td>0.00143</td>\n",
       "      <td>31.47224</td>\n",
       "    </tr>\n",
       "    <tr>\n",
       "      <th>std</th>\n",
       "      <td>4071.00327</td>\n",
       "      <td>55.97115</td>\n",
       "      <td>0.02236</td>\n",
       "      <td>4023.01308</td>\n",
       "    </tr>\n",
       "    <tr>\n",
       "      <th>min</th>\n",
       "      <td>1.00000</td>\n",
       "      <td>0.00000</td>\n",
       "      <td>0.00000</td>\n",
       "      <td>0.00000</td>\n",
       "    </tr>\n",
       "    <tr>\n",
       "      <th>25%</th>\n",
       "      <td>1.00000</td>\n",
       "      <td>0.00000</td>\n",
       "      <td>0.00000</td>\n",
       "      <td>1.00000</td>\n",
       "    </tr>\n",
       "    <tr>\n",
       "      <th>50%</th>\n",
       "      <td>1.00000</td>\n",
       "      <td>0.00000</td>\n",
       "      <td>0.00000</td>\n",
       "      <td>1.00000</td>\n",
       "    </tr>\n",
       "    <tr>\n",
       "      <th>75%</th>\n",
       "      <td>1.00000</td>\n",
       "      <td>0.00000</td>\n",
       "      <td>0.00000</td>\n",
       "      <td>1.00000</td>\n",
       "    </tr>\n",
       "    <tr>\n",
       "      <th>max</th>\n",
       "      <td>1741369.00000</td>\n",
       "      <td>27200.00000</td>\n",
       "      <td>1.00000</td>\n",
       "      <td>1714169.00000</td>\n",
       "    </tr>\n",
       "  </tbody>\n",
       "</table>\n",
       "</div>"
      ],
      "text/plain": [
       "              total     positive        ratio      negative\n",
       "count  462480.00000 462480.00000 462480.00000  462480.00000\n",
       "mean       31.89528      0.42304      0.00143      31.47224\n",
       "std      4071.00327     55.97115      0.02236    4023.01308\n",
       "min         1.00000      0.00000      0.00000       0.00000\n",
       "25%         1.00000      0.00000      0.00000       1.00000\n",
       "50%         1.00000      0.00000      0.00000       1.00000\n",
       "75%         1.00000      0.00000      0.00000       1.00000\n",
       "max   1741369.00000  27200.00000      1.00000 1714169.00000"
      ]
     },
     "execution_count": 346,
     "metadata": {},
     "output_type": "execute_result"
    }
   ],
   "source": [
    "result_wei = aa.reset_index().sort_values(by=\"ratio\")\n",
    "result_wei.describe()\n",
    "# result_wei[(result_wei[\"total\"]>50) & (result_wei[\"ratio\"]>0.05)].tail(50)"
   ]
  },
  {
   "cell_type": "code",
   "execution_count": 347,
   "id": "31e133c7",
   "metadata": {
    "ExecuteTime": {
     "end_time": "2022-12-15T21:23:29.023676Z",
     "start_time": "2022-12-15T21:23:29.005486Z"
    }
   },
   "outputs": [
    {
     "data": {
      "text/html": [
       "<div>\n",
       "<style scoped>\n",
       "    .dataframe tbody tr th:only-of-type {\n",
       "        vertical-align: middle;\n",
       "    }\n",
       "\n",
       "    .dataframe tbody tr th {\n",
       "        vertical-align: top;\n",
       "    }\n",
       "\n",
       "    .dataframe thead th {\n",
       "        text-align: right;\n",
       "    }\n",
       "</style>\n",
       "<table border=\"1\" class=\"dataframe\">\n",
       "  <thead>\n",
       "    <tr style=\"text-align: right;\">\n",
       "      <th></th>\n",
       "      <th>total</th>\n",
       "      <th>positive</th>\n",
       "      <th>ratio</th>\n",
       "      <th>negative</th>\n",
       "    </tr>\n",
       "  </thead>\n",
       "  <tbody>\n",
       "    <tr>\n",
       "      <th>count</th>\n",
       "      <td>190.00000</td>\n",
       "      <td>190.00000</td>\n",
       "      <td>190.00000</td>\n",
       "      <td>190.00000</td>\n",
       "    </tr>\n",
       "    <tr>\n",
       "      <th>mean</th>\n",
       "      <td>451.96842</td>\n",
       "      <td>36.20000</td>\n",
       "      <td>0.07862</td>\n",
       "      <td>415.76842</td>\n",
       "    </tr>\n",
       "    <tr>\n",
       "      <th>std</th>\n",
       "      <td>961.62834</td>\n",
       "      <td>79.63915</td>\n",
       "      <td>0.04522</td>\n",
       "      <td>884.48943</td>\n",
       "    </tr>\n",
       "    <tr>\n",
       "      <th>min</th>\n",
       "      <td>51.00000</td>\n",
       "      <td>3.00000</td>\n",
       "      <td>0.05036</td>\n",
       "      <td>38.00000</td>\n",
       "    </tr>\n",
       "    <tr>\n",
       "      <th>25%</th>\n",
       "      <td>64.00000</td>\n",
       "      <td>4.00000</td>\n",
       "      <td>0.05556</td>\n",
       "      <td>59.00000</td>\n",
       "    </tr>\n",
       "    <tr>\n",
       "      <th>50%</th>\n",
       "      <td>94.00000</td>\n",
       "      <td>7.50000</td>\n",
       "      <td>0.06452</td>\n",
       "      <td>87.00000</td>\n",
       "    </tr>\n",
       "    <tr>\n",
       "      <th>75%</th>\n",
       "      <td>294.00000</td>\n",
       "      <td>22.75000</td>\n",
       "      <td>0.08502</td>\n",
       "      <td>279.00000</td>\n",
       "    </tr>\n",
       "    <tr>\n",
       "      <th>max</th>\n",
       "      <td>7560.00000</td>\n",
       "      <td>621.00000</td>\n",
       "      <td>0.40217</td>\n",
       "      <td>6939.00000</td>\n",
       "    </tr>\n",
       "  </tbody>\n",
       "</table>\n",
       "</div>"
      ],
      "text/plain": [
       "           total  positive     ratio   negative\n",
       "count  190.00000 190.00000 190.00000  190.00000\n",
       "mean   451.96842  36.20000   0.07862  415.76842\n",
       "std    961.62834  79.63915   0.04522  884.48943\n",
       "min     51.00000   3.00000   0.05036   38.00000\n",
       "25%     64.00000   4.00000   0.05556   59.00000\n",
       "50%     94.00000   7.50000   0.06452   87.00000\n",
       "75%    294.00000  22.75000   0.08502  279.00000\n",
       "max   7560.00000 621.00000   0.40217 6939.00000"
      ]
     },
     "execution_count": 347,
     "metadata": {},
     "output_type": "execute_result"
    }
   ],
   "source": [
    "plot_data = result_wei.query(\"10000>`total`>50 and `ratio`>0.05\")\n",
    "plot_data.describe()"
   ]
  },
  {
   "cell_type": "code",
   "execution_count": 380,
   "id": "a9cc69ab",
   "metadata": {
    "ExecuteTime": {
     "end_time": "2022-12-15T21:31:18.957319Z",
     "start_time": "2022-12-15T21:31:18.849584Z"
    }
   },
   "outputs": [
    {
     "data": {
      "image/png": "[encoded data removed]",
      "text/plain": [
       "<Figure size 432x288 with 1 Axes>"
      ]
     },
     "metadata": {
      "needs_background": "light"
     },
     "output_type": "display_data"
    }
   ],
   "source": [
    "from sklearn.linear_model import LinearRegression\n",
    "# [(result_wei[\"freq\"]>50)  & (result_wei[\"ratio\"]>0.05)]\n",
    "x = plot_data[\"positive\"].values.reshape(-1,1)\n",
    "y = plot_data[\"negative\"].values.reshape(-1,1)\n",
    "linear_regressor = LinearRegression()\n",
    "linear_regressor.fit(x, y)\n",
    "y_pred = linear_regressor.predict(x)\n",
    "\n",
    "plt.scatter(x, y)\n",
    "plt.xlabel(\"positive\")\n",
    "plt.ylabel(\"negative\")\n",
    "plt.plot(x, y_pred, color='red', label=f'positive-negative y={round(linear_regressor.coef_[0][0],4)}x')\n",
    "# plt.plot([0,10000],[0,10000], color='blue', label=\"y=x\")\n",
    "plt.legend()\n",
    "plt.show()"
   ]
  },
  {
   "cell_type": "code",
   "execution_count": 349,
   "id": "8a32abd0",
   "metadata": {
    "ExecuteTime": {
     "end_time": "2022-12-15T21:23:34.500324Z",
     "start_time": "2022-12-15T21:23:33.286597Z"
    }
   },
   "outputs": [],
   "source": [
    "result_wei.to_csv(\"result_wei.csv\")"
   ]
  },
  {
   "cell_type": "code",
   "execution_count": 350,
   "id": "18bf2aca",
   "metadata": {
    "ExecuteTime": {
     "end_time": "2022-12-15T21:23:34.503173Z",
     "start_time": "2022-12-15T21:23:34.501308Z"
    }
   },
   "outputs": [],
   "source": [
    "# cc = result_wei[result_wei[\"clean_PageURL\"].str.contains(\".pdf\")]\n",
    "# cc[cc[\"total\"]>2].sort_values([\"ratio\"], ascending=False).style"
   ]
  },
  {
   "cell_type": "code",
   "execution_count": 351,
   "id": "aa50bcef",
   "metadata": {
    "ExecuteTime": {
     "end_time": "2022-12-15T21:23:36.229002Z",
     "start_time": "2022-12-15T21:23:34.504607Z"
    }
   },
   "outputs": [
    {
     "data": {
      "text/html": [
       "<style type=\"text/css\">\n",
       "</style>\n",
       "<table id=\"T_9e2e4_\">\n",
       "  <thead>\n",
       "    <tr>\n",
       "      <th class=\"blank level0\" >&nbsp;</th>\n",
       "      <th class=\"col_heading level0 col0\" >clean_PageURL</th>\n",
       "      <th class=\"col_heading level0 col1\" >total_wei</th>\n",
       "      <th class=\"col_heading level0 col2\" >positive</th>\n",
       "      <th class=\"col_heading level0 col3\" >ratio_wei</th>\n",
       "      <th class=\"col_heading level0 col4\" >negative</th>\n",
       "      <th class=\"col_heading level0 col5\" >total_inkoo</th>\n",
       "      <th class=\"col_heading level0 col6\" >eloqua</th>\n",
       "      <th class=\"col_heading level0 col7\" >crm</th>\n",
       "      <th class=\"col_heading level0 col8\" >ratio_inkoo</th>\n",
       "    </tr>\n",
       "  </thead>\n",
       "  <tbody>\n",
       "    <tr>\n",
       "      <th id=\"T_9e2e4_level0_row0\" class=\"row_heading level0 row0\" >0</th>\n",
       "      <td id=\"T_9e2e4_row0_col0\" class=\"data row0 col0\" >https://www.rockwellautomation.com/company/news/presentations/event_materials_page</td>\n",
       "      <td id=\"T_9e2e4_row0_col1\" class=\"data row0 col1\" >nan</td>\n",
       "      <td id=\"T_9e2e4_row0_col2\" class=\"data row0 col2\" >nan</td>\n",
       "      <td id=\"T_9e2e4_row0_col3\" class=\"data row0 col3\" >nan</td>\n",
       "      <td id=\"T_9e2e4_row0_col4\" class=\"data row0 col4\" >nan</td>\n",
       "      <td id=\"T_9e2e4_row0_col5\" class=\"data row0 col5\" >125</td>\n",
       "      <td id=\"T_9e2e4_row0_col6\" class=\"data row0 col6\" >125</td>\n",
       "      <td id=\"T_9e2e4_row0_col7\" class=\"data row0 col7\" >0</td>\n",
       "      <td id=\"T_9e2e4_row0_col8\" class=\"data row0 col8\" >1.0000</td>\n",
       "    </tr>\n",
       "    <tr>\n",
       "      <th id=\"T_9e2e4_level0_row1\" class=\"row_heading level0 row1\" >1</th>\n",
       "      <td id=\"T_9e2e4_row1_col0\" class=\"data row1 col0\" >https://www.rockwellautomation.com/company/news/magazines/beat-the-heat-when-mounting-low-voltage-ac-drives</td>\n",
       "      <td id=\"T_9e2e4_row1_col1\" class=\"data row1 col1\" >8.000000</td>\n",
       "      <td id=\"T_9e2e4_row1_col2\" class=\"data row1 col2\" >0.000000</td>\n",
       "      <td id=\"T_9e2e4_row1_col3\" class=\"data row1 col3\" >0.000000</td>\n",
       "      <td id=\"T_9e2e4_row1_col4\" class=\"data row1 col4\" >8.000000</td>\n",
       "      <td id=\"T_9e2e4_row1_col5\" class=\"data row1 col5\" >106</td>\n",
       "      <td id=\"T_9e2e4_row1_col6\" class=\"data row1 col6\" >100</td>\n",
       "      <td id=\"T_9e2e4_row1_col7\" class=\"data row1 col7\" >0</td>\n",
       "      <td id=\"T_9e2e4_row1_col8\" class=\"data row1 col8\" >0.9434</td>\n",
       "    </tr>\n",
       "    <tr>\n",
       "      <th id=\"T_9e2e4_level0_row2\" class=\"row_heading level0 row2\" >2</th>\n",
       "      <td id=\"T_9e2e4_row2_col0\" class=\"data row2 col0\" >https://www.rockwellautomation.com/company/events/in-person-events/partnernetwork-conf-kr</td>\n",
       "      <td id=\"T_9e2e4_row2_col1\" class=\"data row2 col1\" >98.000000</td>\n",
       "      <td id=\"T_9e2e4_row2_col2\" class=\"data row2 col2\" >13.000000</td>\n",
       "      <td id=\"T_9e2e4_row2_col3\" class=\"data row2 col3\" >0.132653</td>\n",
       "      <td id=\"T_9e2e4_row2_col4\" class=\"data row2 col4\" >85.000000</td>\n",
       "      <td id=\"T_9e2e4_row2_col5\" class=\"data row2 col5\" >155</td>\n",
       "      <td id=\"T_9e2e4_row2_col6\" class=\"data row2 col6\" >129</td>\n",
       "      <td id=\"T_9e2e4_row2_col7\" class=\"data row2 col7\" >0</td>\n",
       "      <td id=\"T_9e2e4_row2_col8\" class=\"data row2 col8\" >0.8323</td>\n",
       "    </tr>\n",
       "    <tr>\n",
       "      <th id=\"T_9e2e4_level0_row3\" class=\"row_heading level0 row3\" >3</th>\n",
       "      <td id=\"T_9e2e4_row3_col0\" class=\"data row3 col0\" >https://www.rockwellautomation.com/company/events/webinars/functional-safety-techconnect</td>\n",
       "      <td id=\"T_9e2e4_row3_col1\" class=\"data row3 col1\" >87.000000</td>\n",
       "      <td id=\"T_9e2e4_row3_col2\" class=\"data row3 col2\" >7.000000</td>\n",
       "      <td id=\"T_9e2e4_row3_col3\" class=\"data row3 col3\" >0.080460</td>\n",
       "      <td id=\"T_9e2e4_row3_col4\" class=\"data row3 col4\" >80.000000</td>\n",
       "      <td id=\"T_9e2e4_row3_col5\" class=\"data row3 col5\" >103</td>\n",
       "      <td id=\"T_9e2e4_row3_col6\" class=\"data row3 col6\" >80</td>\n",
       "      <td id=\"T_9e2e4_row3_col7\" class=\"data row3 col7\" >0</td>\n",
       "      <td id=\"T_9e2e4_row3_col8\" class=\"data row3 col8\" >0.7767</td>\n",
       "    </tr>\n",
       "    <tr>\n",
       "      <th id=\"T_9e2e4_level0_row4\" class=\"row_heading level0 row4\" >4</th>\n",
       "      <td id=\"T_9e2e4_row4_col0\" class=\"data row4 col0\" >https://www.rockwellautomation.com/company/events/in-person-events/archive</td>\n",
       "      <td id=\"T_9e2e4_row4_col1\" class=\"data row4 col1\" >47.000000</td>\n",
       "      <td id=\"T_9e2e4_row4_col2\" class=\"data row4 col2\" >0.000000</td>\n",
       "      <td id=\"T_9e2e4_row4_col3\" class=\"data row4 col3\" >0.000000</td>\n",
       "      <td id=\"T_9e2e4_row4_col4\" class=\"data row4 col4\" >47.000000</td>\n",
       "      <td id=\"T_9e2e4_row4_col5\" class=\"data row4 col5\" >146</td>\n",
       "      <td id=\"T_9e2e4_row4_col6\" class=\"data row4 col6\" >113</td>\n",
       "      <td id=\"T_9e2e4_row4_col7\" class=\"data row4 col7\" >0</td>\n",
       "      <td id=\"T_9e2e4_row4_col8\" class=\"data row4 col8\" >0.7740</td>\n",
       "    </tr>\n",
       "    <tr>\n",
       "      <th id=\"T_9e2e4_level0_row5\" class=\"row_heading level0 row5\" >5</th>\n",
       "      <td id=\"T_9e2e4_row5_col0\" class=\"data row5 col0\" >https://www.rockwellautomation.com/company/events/webinars/webinaire-process-dcs-plantpax</td>\n",
       "      <td id=\"T_9e2e4_row5_col1\" class=\"data row5 col1\" >51.000000</td>\n",
       "      <td id=\"T_9e2e4_row5_col2\" class=\"data row5 col2\" >3.000000</td>\n",
       "      <td id=\"T_9e2e4_row5_col3\" class=\"data row5 col3\" >0.058824</td>\n",
       "      <td id=\"T_9e2e4_row5_col4\" class=\"data row5 col4\" >48.000000</td>\n",
       "      <td id=\"T_9e2e4_row5_col5\" class=\"data row5 col5\" >148</td>\n",
       "      <td id=\"T_9e2e4_row5_col6\" class=\"data row5 col6\" >113</td>\n",
       "      <td id=\"T_9e2e4_row5_col7\" class=\"data row5 col7\" >0</td>\n",
       "      <td id=\"T_9e2e4_row5_col8\" class=\"data row5 col8\" >0.7635</td>\n",
       "    </tr>\n",
       "    <tr>\n",
       "      <th id=\"T_9e2e4_level0_row6\" class=\"row_heading level0 row6\" >6</th>\n",
       "      <td id=\"T_9e2e4_row6_col0\" class=\"data row6 col0\" >https://www.rockwellautomation.com/company/events/webinars/modernising-to-smart-connected-systems</td>\n",
       "      <td id=\"T_9e2e4_row6_col1\" class=\"data row6 col1\" >52.000000</td>\n",
       "      <td id=\"T_9e2e4_row6_col2\" class=\"data row6 col2\" >3.000000</td>\n",
       "      <td id=\"T_9e2e4_row6_col3\" class=\"data row6 col3\" >0.057692</td>\n",
       "      <td id=\"T_9e2e4_row6_col4\" class=\"data row6 col4\" >49.000000</td>\n",
       "      <td id=\"T_9e2e4_row6_col5\" class=\"data row6 col5\" >163</td>\n",
       "      <td id=\"T_9e2e4_row6_col6\" class=\"data row6 col6\" >124</td>\n",
       "      <td id=\"T_9e2e4_row6_col7\" class=\"data row6 col7\" >0</td>\n",
       "      <td id=\"T_9e2e4_row6_col8\" class=\"data row6 col8\" >0.7607</td>\n",
       "    </tr>\n",
       "    <tr>\n",
       "      <th id=\"T_9e2e4_level0_row7\" class=\"row_heading level0 row7\" >7</th>\n",
       "      <td id=\"T_9e2e4_row7_col0\" class=\"data row7 col0\" >https://www.rockwellautomation.com/campaigns/thank-you-smart-downloads</td>\n",
       "      <td id=\"T_9e2e4_row7_col1\" class=\"data row7 col1\" >37.000000</td>\n",
       "      <td id=\"T_9e2e4_row7_col2\" class=\"data row7 col2\" >1.000000</td>\n",
       "      <td id=\"T_9e2e4_row7_col3\" class=\"data row7 col3\" >0.027027</td>\n",
       "      <td id=\"T_9e2e4_row7_col4\" class=\"data row7 col4\" >36.000000</td>\n",
       "      <td id=\"T_9e2e4_row7_col5\" class=\"data row7 col5\" >129</td>\n",
       "      <td id=\"T_9e2e4_row7_col6\" class=\"data row7 col6\" >98</td>\n",
       "      <td id=\"T_9e2e4_row7_col7\" class=\"data row7 col7\" >0</td>\n",
       "      <td id=\"T_9e2e4_row7_col8\" class=\"data row7 col8\" >0.7597</td>\n",
       "    </tr>\n",
       "    <tr>\n",
       "      <th id=\"T_9e2e4_level0_row8\" class=\"row_heading level0 row8\" >8</th>\n",
       "      <td id=\"T_9e2e4_row8_col0\" class=\"data row8 col0\" >https://www.rockwellautomation.com/company/events/webinars/product-registration</td>\n",
       "      <td id=\"T_9e2e4_row8_col1\" class=\"data row8 col1\" >141.000000</td>\n",
       "      <td id=\"T_9e2e4_row8_col2\" class=\"data row8 col2\" >2.000000</td>\n",
       "      <td id=\"T_9e2e4_row8_col3\" class=\"data row8 col3\" >0.014184</td>\n",
       "      <td id=\"T_9e2e4_row8_col4\" class=\"data row8 col4\" >139.000000</td>\n",
       "      <td id=\"T_9e2e4_row8_col5\" class=\"data row8 col5\" >218</td>\n",
       "      <td id=\"T_9e2e4_row8_col6\" class=\"data row8 col6\" >163</td>\n",
       "      <td id=\"T_9e2e4_row8_col7\" class=\"data row8 col7\" >0</td>\n",
       "      <td id=\"T_9e2e4_row8_col8\" class=\"data row8 col8\" >0.7477</td>\n",
       "    </tr>\n",
       "    <tr>\n",
       "      <th id=\"T_9e2e4_level0_row9\" class=\"row_heading level0 row9\" >9</th>\n",
       "      <td id=\"T_9e2e4_row9_col0\" class=\"data row9 col0\" >https://www.rockwellautomation.com/campaigns/emea/en/company/events/webinars/tech-talks/hms-claroty-stratus</td>\n",
       "      <td id=\"T_9e2e4_row9_col1\" class=\"data row9 col1\" >nan</td>\n",
       "      <td id=\"T_9e2e4_row9_col2\" class=\"data row9 col2\" >nan</td>\n",
       "      <td id=\"T_9e2e4_row9_col3\" class=\"data row9 col3\" >nan</td>\n",
       "      <td id=\"T_9e2e4_row9_col4\" class=\"data row9 col4\" >nan</td>\n",
       "      <td id=\"T_9e2e4_row9_col5\" class=\"data row9 col5\" >202</td>\n",
       "      <td id=\"T_9e2e4_row9_col6\" class=\"data row9 col6\" >151</td>\n",
       "      <td id=\"T_9e2e4_row9_col7\" class=\"data row9 col7\" >0</td>\n",
       "      <td id=\"T_9e2e4_row9_col8\" class=\"data row9 col8\" >0.7475</td>\n",
       "    </tr>\n",
       "    <tr>\n",
       "      <th id=\"T_9e2e4_level0_row10\" class=\"row_heading level0 row10\" >10</th>\n",
       "      <td id=\"T_9e2e4_row10_col0\" class=\"data row10 col0\" >https://www.rockwellautomation.com/company/events/webinars/techconnect-genius-webinar--subscription-portal-overview-session2</td>\n",
       "      <td id=\"T_9e2e4_row10_col1\" class=\"data row10 col1\" >1157.000000</td>\n",
       "      <td id=\"T_9e2e4_row10_col2\" class=\"data row10 col2\" >128.000000</td>\n",
       "      <td id=\"T_9e2e4_row10_col3\" class=\"data row10 col3\" >0.110631</td>\n",
       "      <td id=\"T_9e2e4_row10_col4\" class=\"data row10 col4\" >1029.000000</td>\n",
       "      <td id=\"T_9e2e4_row10_col5\" class=\"data row10 col5\" >1447</td>\n",
       "      <td id=\"T_9e2e4_row10_col6\" class=\"data row10 col6\" >1057</td>\n",
       "      <td id=\"T_9e2e4_row10_col7\" class=\"data row10 col7\" >0</td>\n",
       "      <td id=\"T_9e2e4_row10_col8\" class=\"data row10 col8\" >0.7305</td>\n",
       "    </tr>\n",
       "    <tr>\n",
       "      <th id=\"T_9e2e4_level0_row11\" class=\"row_heading level0 row11\" >11</th>\n",
       "      <td id=\"T_9e2e4_row11_col0\" class=\"data row11 col0\" >https://www.rockwellautomation.com/company/events/webinars/404</td>\n",
       "      <td id=\"T_9e2e4_row11_col1\" class=\"data row11 col1\" >92.000000</td>\n",
       "      <td id=\"T_9e2e4_row11_col2\" class=\"data row11 col2\" >5.000000</td>\n",
       "      <td id=\"T_9e2e4_row11_col3\" class=\"data row11 col3\" >0.054348</td>\n",
       "      <td id=\"T_9e2e4_row11_col4\" class=\"data row11 col4\" >87.000000</td>\n",
       "      <td id=\"T_9e2e4_row11_col5\" class=\"data row11 col5\" >151</td>\n",
       "      <td id=\"T_9e2e4_row11_col6\" class=\"data row11 col6\" >109</td>\n",
       "      <td id=\"T_9e2e4_row11_col7\" class=\"data row11 col7\" >0</td>\n",
       "      <td id=\"T_9e2e4_row11_col8\" class=\"data row11 col8\" >0.7219</td>\n",
       "    </tr>\n",
       "    <tr>\n",
       "      <th id=\"T_9e2e4_level0_row12\" class=\"row_heading level0 row12\" >12</th>\n",
       "      <td id=\"T_9e2e4_row12_col0\" class=\"data row12 col0\" >https://www.rockwellautomation.com/campaigns/emea/en/company/events/webinars/technical-competency-updates/unleash-the-new-capabilities-of-edge-analytics</td>\n",
       "      <td id=\"T_9e2e4_row12_col1\" class=\"data row12 col1\" >nan</td>\n",
       "      <td id=\"T_9e2e4_row12_col2\" class=\"data row12 col2\" >nan</td>\n",
       "      <td id=\"T_9e2e4_row12_col3\" class=\"data row12 col3\" >nan</td>\n",
       "      <td id=\"T_9e2e4_row12_col4\" class=\"data row12 col4\" >nan</td>\n",
       "      <td id=\"T_9e2e4_row12_col5\" class=\"data row12 col5\" >372</td>\n",
       "      <td id=\"T_9e2e4_row12_col6\" class=\"data row12 col6\" >266</td>\n",
       "      <td id=\"T_9e2e4_row12_col7\" class=\"data row12 col7\" >0</td>\n",
       "      <td id=\"T_9e2e4_row12_col8\" class=\"data row12 col8\" >0.7151</td>\n",
       "    </tr>\n",
       "    <tr>\n",
       "      <th id=\"T_9e2e4_level0_row13\" class=\"row_heading level0 row13\" >13</th>\n",
       "      <td id=\"T_9e2e4_row13_col0\" class=\"data row13 col0\" >https://www.rockwellautomation.com/en-mde/products/hardware/allen-bradley/drives</td>\n",
       "      <td id=\"T_9e2e4_row13_col1\" class=\"data row13 col1\" >nan</td>\n",
       "      <td id=\"T_9e2e4_row13_col2\" class=\"data row13 col2\" >nan</td>\n",
       "      <td id=\"T_9e2e4_row13_col3\" class=\"data row13 col3\" >nan</td>\n",
       "      <td id=\"T_9e2e4_row13_col4\" class=\"data row13 col4\" >nan</td>\n",
       "      <td id=\"T_9e2e4_row13_col5\" class=\"data row13 col5\" >101</td>\n",
       "      <td id=\"T_9e2e4_row13_col6\" class=\"data row13 col6\" >72</td>\n",
       "      <td id=\"T_9e2e4_row13_col7\" class=\"data row13 col7\" >0</td>\n",
       "      <td id=\"T_9e2e4_row13_col8\" class=\"data row13 col8\" >0.7129</td>\n",
       "    </tr>\n",
       "    <tr>\n",
       "      <th id=\"T_9e2e4_level0_row14\" class=\"row_heading level0 row14\" >14</th>\n",
       "      <td id=\"T_9e2e4_row14_col0\" class=\"data row14 col0\" >https://www.rockwellautomation.com/support/product/product-selection-configuration/global-short-circuit-current-ratings-tool</td>\n",
       "      <td id=\"T_9e2e4_row14_col1\" class=\"data row14 col1\" >6168.000000</td>\n",
       "      <td id=\"T_9e2e4_row14_col2\" class=\"data row14 col2\" >460.000000</td>\n",
       "      <td id=\"T_9e2e4_row14_col3\" class=\"data row14 col3\" >0.074578</td>\n",
       "      <td id=\"T_9e2e4_row14_col4\" class=\"data row14 col4\" >5708.000000</td>\n",
       "      <td id=\"T_9e2e4_row14_col5\" class=\"data row14 col5\" >7015</td>\n",
       "      <td id=\"T_9e2e4_row14_col6\" class=\"data row14 col6\" >4995</td>\n",
       "      <td id=\"T_9e2e4_row14_col7\" class=\"data row14 col7\" >0</td>\n",
       "      <td id=\"T_9e2e4_row14_col8\" class=\"data row14 col8\" >0.7120</td>\n",
       "    </tr>\n",
       "    <tr>\n",
       "      <th id=\"T_9e2e4_level0_row15\" class=\"row_heading level0 row15\" >15</th>\n",
       "      <td id=\"T_9e2e4_row15_col0\" class=\"data row15 col0\" >https://www.rockwellautomation.com/company/events/in-person-events/partnernetwork-conference</td>\n",
       "      <td id=\"T_9e2e4_row15_col1\" class=\"data row15 col1\" >121.000000</td>\n",
       "      <td id=\"T_9e2e4_row15_col2\" class=\"data row15 col2\" >4.000000</td>\n",
       "      <td id=\"T_9e2e4_row15_col3\" class=\"data row15 col3\" >0.033058</td>\n",
       "      <td id=\"T_9e2e4_row15_col4\" class=\"data row15 col4\" >117.000000</td>\n",
       "      <td id=\"T_9e2e4_row15_col5\" class=\"data row15 col5\" >245</td>\n",
       "      <td id=\"T_9e2e4_row15_col6\" class=\"data row15 col6\" >174</td>\n",
       "      <td id=\"T_9e2e4_row15_col7\" class=\"data row15 col7\" >0</td>\n",
       "      <td id=\"T_9e2e4_row15_col8\" class=\"data row15 col8\" >0.7102</td>\n",
       "    </tr>\n",
       "    <tr>\n",
       "      <th id=\"T_9e2e4_level0_row16\" class=\"row_heading level0 row16\" >16</th>\n",
       "      <td id=\"T_9e2e4_row16_col0\" class=\"data row16 col0\" >https://www.rockwellautomation.com/industries/chemical/vfd-energy-savings-calculator</td>\n",
       "      <td id=\"T_9e2e4_row16_col1\" class=\"data row16 col1\" >108.000000</td>\n",
       "      <td id=\"T_9e2e4_row16_col2\" class=\"data row16 col2\" >1.000000</td>\n",
       "      <td id=\"T_9e2e4_row16_col3\" class=\"data row16 col3\" >0.009259</td>\n",
       "      <td id=\"T_9e2e4_row16_col4\" class=\"data row16 col4\" >107.000000</td>\n",
       "      <td id=\"T_9e2e4_row16_col5\" class=\"data row16 col5\" >215</td>\n",
       "      <td id=\"T_9e2e4_row16_col6\" class=\"data row16 col6\" >152</td>\n",
       "      <td id=\"T_9e2e4_row16_col7\" class=\"data row16 col7\" >0</td>\n",
       "      <td id=\"T_9e2e4_row16_col8\" class=\"data row16 col8\" >0.7070</td>\n",
       "    </tr>\n",
       "    <tr>\n",
       "      <th id=\"T_9e2e4_level0_row17\" class=\"row_heading level0 row17\" >17</th>\n",
       "      <td id=\"T_9e2e4_row17_col0\" class=\"data row17 col0\" >https://www.rockwellautomation.com/company/news/column/executive_news_japan</td>\n",
       "      <td id=\"T_9e2e4_row17_col1\" class=\"data row17 col1\" >48.000000</td>\n",
       "      <td id=\"T_9e2e4_row17_col2\" class=\"data row17 col2\" >0.000000</td>\n",
       "      <td id=\"T_9e2e4_row17_col3\" class=\"data row17 col3\" >0.000000</td>\n",
       "      <td id=\"T_9e2e4_row17_col4\" class=\"data row17 col4\" >48.000000</td>\n",
       "      <td id=\"T_9e2e4_row17_col5\" class=\"data row17 col5\" >112</td>\n",
       "      <td id=\"T_9e2e4_row17_col6\" class=\"data row17 col6\" >79</td>\n",
       "      <td id=\"T_9e2e4_row17_col7\" class=\"data row17 col7\" >0</td>\n",
       "      <td id=\"T_9e2e4_row17_col8\" class=\"data row17 col8\" >0.7054</td>\n",
       "    </tr>\n",
       "    <tr>\n",
       "      <th id=\"T_9e2e4_level0_row18\" class=\"row_heading level0 row18\" >18</th>\n",
       "      <td id=\"T_9e2e4_row18_col0\" class=\"data row18 col0\" >https://www.rockwellautomation.com/en-mde/support/product/product-compatibility-migration/product-lifecycle-status</td>\n",
       "      <td id=\"T_9e2e4_row18_col1\" class=\"data row18 col1\" >nan</td>\n",
       "      <td id=\"T_9e2e4_row18_col2\" class=\"data row18 col2\" >nan</td>\n",
       "      <td id=\"T_9e2e4_row18_col3\" class=\"data row18 col3\" >nan</td>\n",
       "      <td id=\"T_9e2e4_row18_col4\" class=\"data row18 col4\" >nan</td>\n",
       "      <td id=\"T_9e2e4_row18_col5\" class=\"data row18 col5\" >280</td>\n",
       "      <td id=\"T_9e2e4_row18_col6\" class=\"data row18 col6\" >196</td>\n",
       "      <td id=\"T_9e2e4_row18_col7\" class=\"data row18 col7\" >0</td>\n",
       "      <td id=\"T_9e2e4_row18_col8\" class=\"data row18 col8\" >0.7000</td>\n",
       "    </tr>\n",
       "    <tr>\n",
       "      <th id=\"T_9e2e4_level0_row19\" class=\"row_heading level0 row19\" >19</th>\n",
       "      <td id=\"T_9e2e4_row19_col0\" class=\"data row19 col0\" >https://www.rockwellautomation.com/campaigns/emea/en/company/events/webinars/tech-talks/cisco-prosoft-spectrum-controls</td>\n",
       "      <td id=\"T_9e2e4_row19_col1\" class=\"data row19 col1\" >nan</td>\n",
       "      <td id=\"T_9e2e4_row19_col2\" class=\"data row19 col2\" >nan</td>\n",
       "      <td id=\"T_9e2e4_row19_col3\" class=\"data row19 col3\" >nan</td>\n",
       "      <td id=\"T_9e2e4_row19_col4\" class=\"data row19 col4\" >nan</td>\n",
       "      <td id=\"T_9e2e4_row19_col5\" class=\"data row19 col5\" >120</td>\n",
       "      <td id=\"T_9e2e4_row19_col6\" class=\"data row19 col6\" >84</td>\n",
       "      <td id=\"T_9e2e4_row19_col7\" class=\"data row19 col7\" >0</td>\n",
       "      <td id=\"T_9e2e4_row19_col8\" class=\"data row19 col8\" >0.7000</td>\n",
       "    </tr>\n",
       "    <tr>\n",
       "      <th id=\"T_9e2e4_level0_row20\" class=\"row_heading level0 row20\" >20</th>\n",
       "      <td id=\"T_9e2e4_row20_col0\" class=\"data row20 col0\" >https://www.rockwellautomation.com/company/events/webinars/micro-control-integrated-automation-solution</td>\n",
       "      <td id=\"T_9e2e4_row20_col1\" class=\"data row20 col1\" >222.000000</td>\n",
       "      <td id=\"T_9e2e4_row20_col2\" class=\"data row20 col2\" >19.000000</td>\n",
       "      <td id=\"T_9e2e4_row20_col3\" class=\"data row20 col3\" >0.085586</td>\n",
       "      <td id=\"T_9e2e4_row20_col4\" class=\"data row20 col4\" >203.000000</td>\n",
       "      <td id=\"T_9e2e4_row20_col5\" class=\"data row20 col5\" >280</td>\n",
       "      <td id=\"T_9e2e4_row20_col6\" class=\"data row20 col6\" >194</td>\n",
       "      <td id=\"T_9e2e4_row20_col7\" class=\"data row20 col7\" >0</td>\n",
       "      <td id=\"T_9e2e4_row20_col8\" class=\"data row20 col8\" >0.6929</td>\n",
       "    </tr>\n",
       "    <tr>\n",
       "      <th id=\"T_9e2e4_level0_row21\" class=\"row_heading level0 row21\" >21</th>\n",
       "      <td id=\"T_9e2e4_row21_col0\" class=\"data row21 col0\" >https://www.rockwellautomation.com/company/events/webinars/protect-your-gigafactory-with-industrial-security</td>\n",
       "      <td id=\"T_9e2e4_row21_col1\" class=\"data row21 col1\" >135.000000</td>\n",
       "      <td id=\"T_9e2e4_row21_col2\" class=\"data row21 col2\" >6.000000</td>\n",
       "      <td id=\"T_9e2e4_row21_col3\" class=\"data row21 col3\" >0.044444</td>\n",
       "      <td id=\"T_9e2e4_row21_col4\" class=\"data row21 col4\" >129.000000</td>\n",
       "      <td id=\"T_9e2e4_row21_col5\" class=\"data row21 col5\" >169</td>\n",
       "      <td id=\"T_9e2e4_row21_col6\" class=\"data row21 col6\" >116</td>\n",
       "      <td id=\"T_9e2e4_row21_col7\" class=\"data row21 col7\" >0</td>\n",
       "      <td id=\"T_9e2e4_row21_col8\" class=\"data row21 col8\" >0.6864</td>\n",
       "    </tr>\n",
       "    <tr>\n",
       "      <th id=\"T_9e2e4_level0_row22\" class=\"row_heading level0 row22\" >22</th>\n",
       "      <td id=\"T_9e2e4_row22_col0\" class=\"data row22 col0\" >https://www.rockwellautomation.com/support/documentation/technical-data/proposalworkssuppleme20180213-1403</td>\n",
       "      <td id=\"T_9e2e4_row22_col1\" class=\"data row22 col1\" >92.000000</td>\n",
       "      <td id=\"T_9e2e4_row22_col2\" class=\"data row22 col2\" >2.000000</td>\n",
       "      <td id=\"T_9e2e4_row22_col3\" class=\"data row22 col3\" >0.021739</td>\n",
       "      <td id=\"T_9e2e4_row22_col4\" class=\"data row22 col4\" >90.000000</td>\n",
       "      <td id=\"T_9e2e4_row22_col5\" class=\"data row22 col5\" >114</td>\n",
       "      <td id=\"T_9e2e4_row22_col6\" class=\"data row22 col6\" >78</td>\n",
       "      <td id=\"T_9e2e4_row22_col7\" class=\"data row22 col7\" >0</td>\n",
       "      <td id=\"T_9e2e4_row22_col8\" class=\"data row22 col8\" >0.6842</td>\n",
       "    </tr>\n",
       "    <tr>\n",
       "      <th id=\"T_9e2e4_level0_row23\" class=\"row_heading level0 row23\" >23</th>\n",
       "      <td id=\"T_9e2e4_row23_col0\" class=\"data row23 col0\" >https://www.rockwellautomation.com/company/events/webinars/technology-partner-genius-webinar-with-prosoft-technology---conn</td>\n",
       "      <td id=\"T_9e2e4_row23_col1\" class=\"data row23 col1\" >90.000000</td>\n",
       "      <td id=\"T_9e2e4_row23_col2\" class=\"data row23 col2\" >8.000000</td>\n",
       "      <td id=\"T_9e2e4_row23_col3\" class=\"data row23 col3\" >0.088889</td>\n",
       "      <td id=\"T_9e2e4_row23_col4\" class=\"data row23 col4\" >82.000000</td>\n",
       "      <td id=\"T_9e2e4_row23_col5\" class=\"data row23 col5\" >114</td>\n",
       "      <td id=\"T_9e2e4_row23_col6\" class=\"data row23 col6\" >78</td>\n",
       "      <td id=\"T_9e2e4_row23_col7\" class=\"data row23 col7\" >0</td>\n",
       "      <td id=\"T_9e2e4_row23_col8\" class=\"data row23 col8\" >0.6842</td>\n",
       "    </tr>\n",
       "    <tr>\n",
       "      <th id=\"T_9e2e4_level0_row24\" class=\"row_heading level0 row24\" >24</th>\n",
       "      <td id=\"T_9e2e4_row24_col0\" class=\"data row24 col0\" >https://www.rockwellautomation.com/support/documentation/technical-data/proposalworksaddinghe20180213-1349</td>\n",
       "      <td id=\"T_9e2e4_row24_col1\" class=\"data row24 col1\" >85.000000</td>\n",
       "      <td id=\"T_9e2e4_row24_col2\" class=\"data row24 col2\" >4.000000</td>\n",
       "      <td id=\"T_9e2e4_row24_col3\" class=\"data row24 col3\" >0.047059</td>\n",
       "      <td id=\"T_9e2e4_row24_col4\" class=\"data row24 col4\" >81.000000</td>\n",
       "      <td id=\"T_9e2e4_row24_col5\" class=\"data row24 col5\" >104</td>\n",
       "      <td id=\"T_9e2e4_row24_col6\" class=\"data row24 col6\" >71</td>\n",
       "      <td id=\"T_9e2e4_row24_col7\" class=\"data row24 col7\" >0</td>\n",
       "      <td id=\"T_9e2e4_row24_col8\" class=\"data row24 col8\" >0.6827</td>\n",
       "    </tr>\n",
       "    <tr>\n",
       "      <th id=\"T_9e2e4_level0_row25\" class=\"row_heading level0 row25\" >25</th>\n",
       "      <td id=\"T_9e2e4_row25_col0\" class=\"data row25 col0\" >https://www.rockwellautomation.com/company/events/in-person-events/roklive/emea/faq</td>\n",
       "      <td id=\"T_9e2e4_row25_col1\" class=\"data row25 col1\" >218.000000</td>\n",
       "      <td id=\"T_9e2e4_row25_col2\" class=\"data row25 col2\" >12.000000</td>\n",
       "      <td id=\"T_9e2e4_row25_col3\" class=\"data row25 col3\" >0.055046</td>\n",
       "      <td id=\"T_9e2e4_row25_col4\" class=\"data row25 col4\" >206.000000</td>\n",
       "      <td id=\"T_9e2e4_row25_col5\" class=\"data row25 col5\" >321</td>\n",
       "      <td id=\"T_9e2e4_row25_col6\" class=\"data row25 col6\" >219</td>\n",
       "      <td id=\"T_9e2e4_row25_col7\" class=\"data row25 col7\" >0</td>\n",
       "      <td id=\"T_9e2e4_row25_col8\" class=\"data row25 col8\" >0.6822</td>\n",
       "    </tr>\n",
       "    <tr>\n",
       "      <th id=\"T_9e2e4_level0_row26\" class=\"row_heading level0 row26\" >26</th>\n",
       "      <td id=\"T_9e2e4_row26_col0\" class=\"data row26 col0\" >https://www.rockwellautomation.com/company/events/webinars/technology-partner-genius-webinar-with-oden-technologies</td>\n",
       "      <td id=\"T_9e2e4_row26_col1\" class=\"data row26 col1\" >645.000000</td>\n",
       "      <td id=\"T_9e2e4_row26_col2\" class=\"data row26 col2\" >59.000000</td>\n",
       "      <td id=\"T_9e2e4_row26_col3\" class=\"data row26 col3\" >0.091473</td>\n",
       "      <td id=\"T_9e2e4_row26_col4\" class=\"data row26 col4\" >586.000000</td>\n",
       "      <td id=\"T_9e2e4_row26_col5\" class=\"data row26 col5\" >796</td>\n",
       "      <td id=\"T_9e2e4_row26_col6\" class=\"data row26 col6\" >542</td>\n",
       "      <td id=\"T_9e2e4_row26_col7\" class=\"data row26 col7\" >0</td>\n",
       "      <td id=\"T_9e2e4_row26_col8\" class=\"data row26 col8\" >0.6809</td>\n",
       "    </tr>\n",
       "    <tr>\n",
       "      <th id=\"T_9e2e4_level0_row27\" class=\"row_heading level0 row27\" >27</th>\n",
       "      <td id=\"T_9e2e4_row27_col0\" class=\"data row27 col0\" >https://www.rockwellautomation.com/company/news/blogs/single-use-system-lifesciences-pt2</td>\n",
       "      <td id=\"T_9e2e4_row27_col1\" class=\"data row27 col1\" >36.000000</td>\n",
       "      <td id=\"T_9e2e4_row27_col2\" class=\"data row27 col2\" >1.000000</td>\n",
       "      <td id=\"T_9e2e4_row27_col3\" class=\"data row27 col3\" >0.027778</td>\n",
       "      <td id=\"T_9e2e4_row27_col4\" class=\"data row27 col4\" >35.000000</td>\n",
       "      <td id=\"T_9e2e4_row27_col5\" class=\"data row27 col5\" >102</td>\n",
       "      <td id=\"T_9e2e4_row27_col6\" class=\"data row27 col6\" >69</td>\n",
       "      <td id=\"T_9e2e4_row27_col7\" class=\"data row27 col7\" >0</td>\n",
       "      <td id=\"T_9e2e4_row27_col8\" class=\"data row27 col8\" >0.6765</td>\n",
       "    </tr>\n",
       "    <tr>\n",
       "      <th id=\"T_9e2e4_level0_row28\" class=\"row_heading level0 row28\" >28</th>\n",
       "      <td id=\"T_9e2e4_row28_col0\" class=\"data row28 col0\" >https://www.rockwellautomation.com/company/news/demonstrations/safety-automation-builder-software-demonstration</td>\n",
       "      <td id=\"T_9e2e4_row28_col1\" class=\"data row28 col1\" >289.000000</td>\n",
       "      <td id=\"T_9e2e4_row28_col2\" class=\"data row28 col2\" >12.000000</td>\n",
       "      <td id=\"T_9e2e4_row28_col3\" class=\"data row28 col3\" >0.041522</td>\n",
       "      <td id=\"T_9e2e4_row28_col4\" class=\"data row28 col4\" >277.000000</td>\n",
       "      <td id=\"T_9e2e4_row28_col5\" class=\"data row28 col5\" >307</td>\n",
       "      <td id=\"T_9e2e4_row28_col6\" class=\"data row28 col6\" >207</td>\n",
       "      <td id=\"T_9e2e4_row28_col7\" class=\"data row28 col7\" >0</td>\n",
       "      <td id=\"T_9e2e4_row28_col8\" class=\"data row28 col8\" >0.6743</td>\n",
       "    </tr>\n",
       "    <tr>\n",
       "      <th id=\"T_9e2e4_level0_row29\" class=\"row_heading level0 row29\" >29</th>\n",
       "      <td id=\"T_9e2e4_row29_col0\" class=\"data row29 col0\" >https://www.rockwellautomation.com/company/news/blogs/from-automation-to-autonomy</td>\n",
       "      <td id=\"T_9e2e4_row29_col1\" class=\"data row29 col1\" >67.000000</td>\n",
       "      <td id=\"T_9e2e4_row29_col2\" class=\"data row29 col2\" >0.000000</td>\n",
       "      <td id=\"T_9e2e4_row29_col3\" class=\"data row29 col3\" >0.000000</td>\n",
       "      <td id=\"T_9e2e4_row29_col4\" class=\"data row29 col4\" >67.000000</td>\n",
       "      <td id=\"T_9e2e4_row29_col5\" class=\"data row29 col5\" >153</td>\n",
       "      <td id=\"T_9e2e4_row29_col6\" class=\"data row29 col6\" >103</td>\n",
       "      <td id=\"T_9e2e4_row29_col7\" class=\"data row29 col7\" >0</td>\n",
       "      <td id=\"T_9e2e4_row29_col8\" class=\"data row29 col8\" >0.6732</td>\n",
       "    </tr>\n",
       "  </tbody>\n",
       "</table>\n"
      ],
      "text/plain": [
       "<pandas.io.formats.style.Styler at 0x7f763ad1e130>"
      ]
     },
     "execution_count": 351,
     "metadata": {},
     "output_type": "execute_result"
    }
   ],
   "source": [
    "comparison = result_wei.merge(result_check, on=\"clean_PageURL\", suffixes=[\"_wei\", \"_inkoo\"], how=\"right\")\n",
    "comparison.style"
   ]
  },
  {
   "cell_type": "code",
   "execution_count": 352,
   "id": "ddf91be1",
   "metadata": {
    "ExecuteTime": {
     "end_time": "2022-12-15T21:23:36.231824Z",
     "start_time": "2022-12-15T21:23:36.229962Z"
    }
   },
   "outputs": [],
   "source": [
    "# aem_raw[aem_raw[\"PageURL\"]==\"https://www.rockwellautomation.com/company/news/presentations/event_materials_page\"]"
   ]
  },
  {
   "cell_type": "markdown",
   "id": "02e35068",
   "metadata": {},
   "source": [
    "#### URL checking"
   ]
  },
  {
   "cell_type": "code",
   "execution_count": 353,
   "id": "54c788e6",
   "metadata": {
    "ExecuteTime": {
     "end_time": "2022-12-15T21:23:49.771295Z",
     "start_time": "2022-12-15T21:23:36.234051Z"
    }
   },
   "outputs": [],
   "source": [
    "url_maps = stage1_raw[[\"clean_PageURL\", \"PageURL\"]].drop_duplicates()"
   ]
  },
  {
   "cell_type": "code",
   "execution_count": 354,
   "id": "8b7f712d",
   "metadata": {
    "ExecuteTime": {
     "end_time": "2022-12-15T21:23:49.776222Z",
     "start_time": "2022-12-15T21:23:49.773509Z"
    }
   },
   "outputs": [],
   "source": [
    "# b = aa.reset_index()\n",
    "# c = b[b[\"clean_PageURL\"].str.contains(\"emea\")]\n",
    "# c[(c[\"total\"]>100) & (c[\"ratio\"]>0.05)].head(40).style"
   ]
  },
  {
   "cell_type": "code",
   "execution_count": 355,
   "id": "ed2efcde",
   "metadata": {
    "ExecuteTime": {
     "end_time": "2022-12-15T21:23:49.778985Z",
     "start_time": "2022-12-15T21:23:49.777233Z"
    }
   },
   "outputs": [],
   "source": [
    "# url_maps[url_maps[\"clean_PageURL\"].str.contains(\"emea\")].head().style"
   ]
  },
  {
   "cell_type": "code",
   "execution_count": 356,
   "id": "b039102b",
   "metadata": {
    "ExecuteTime": {
     "end_time": "2022-12-15T21:23:49.781503Z",
     "start_time": "2022-12-15T21:23:49.780013Z"
    }
   },
   "outputs": [],
   "source": [
    "# url_idf = pd.DataFrame([vectorizer.get_feature_names(), vectorizer.idf_.tolist()]).T\n",
    "# url_idf.columns = [\"url\", \"idf\"]\n",
    "# with_idf = b.reset_index().merge(url_idf, left_on=\"clean_PageURL\", right_on=\"url\", how=\"left\")\n",
    "# with_idf.sort_values(by=\"idf\")"
   ]
  },
  {
   "cell_type": "markdown",
   "id": "72f8ee4c",
   "metadata": {
    "ExecuteTime": {
     "end_time": "2022-12-01T19:52:24.373754Z",
     "start_time": "2022-12-01T19:52:24.363288Z"
    }
   },
   "source": [
    "# Feature Engineering\n"
   ]
  },
  {
   "cell_type": "markdown",
   "id": "73fe9c01",
   "metadata": {},
   "source": [
    "## Preprocessing - TF-IDF (NLP)\n",
    "\n",
    "- TF-IDF = Term Frequency (TF) * Inverse Document Frequency (IDF)\n",
    "    - idf(t) = log(N/(df + 1))\n",
    "<!--         <img src=\"https://cdn-media-1.freecodecamp.org/images/1*q3qYevXqQOjJf6Pwdlx8Mw.png\" width=\"300\"/> -->\n",
    "<!--         <img src=\"https://preview.redd.it/clwuxvtqpeq91.png?width=397&format=png&auto=webp&s=ae6788cefae9b83b3033db3612ec83e8f5ded24f\" width=\"300\"/> -->\n",
    "    - rather directly using count frequency in the naive bayesian, using TF-IDF to adjust the features\n",
    "    \n",
    "- preprocessing.StandardScaler()\n",
    "    - should not use because the features importance are dependent on the frequency, which is already kind of information"
   ]
  },
  {
   "cell_type": "markdown",
   "id": "b68f4dbd",
   "metadata": {},
   "source": [
    "## stage1: wrapping data\n",
    "- label: Submitted gated form (target)\n",
    "    - generated by EventList\n",
    "- features:\n",
    "    - choosed:\n",
    "        - BingeScoredAssetPath: Current BingeScoredAssetPath interaction on one session ( content sequence )\n",
    "        - DateTime_UTC -> for concat sequence in visited order\n",
    "    - possible:\n",
    "        - BingeScoredAssetScore = manually set -> importance level for sales people\n",
    "        - BingeCriticalScore = manually threshold -> initial threshold for sales people\n",
    "        - PageURL? what information this URL can bring into model?\n",
    "        \n",
    "- original asset score manual setup ideas:\n",
    "    - asset weight average is 1, if it is more important/meaningful -> bump up to 2;\n",
    "    - if there are 5 assets in total, then default basic threshold is 5"
   ]
  },
  {
   "cell_type": "code",
   "execution_count": 357,
   "id": "2e6e752d",
   "metadata": {
    "ExecuteTime": {
     "end_time": "2022-12-15T21:23:49.784343Z",
     "start_time": "2022-12-15T21:23:49.782399Z"
    }
   },
   "outputs": [],
   "source": [
    "SEP_TOKEN_PATTERN = \"[^\\$]+\"\n",
    "SEED = 42\n",
    "TEST_SIZE = 0.2"
   ]
  },
  {
   "cell_type": "markdown",
   "id": "7de72f6b",
   "metadata": {},
   "source": [
    "# Modeling\n",
    "\n"
   ]
  },
  {
   "cell_type": "markdown",
   "id": "571b4581",
   "metadata": {},
   "source": [
    "## Stage-1: Scoring content - visitor preference \n",
    "- rethink:\n",
    "    - what is the most attractive content for visitor v.s. what is the most attractive content for salespeople?\n",
    "        - SubmitGatedForm action is not marked by sales people, it's kind of inclination level from user side\n",
    "        - the model is trying to know which asset is more important for SubmitGatedForm \n",
    "        - how important for user to submit GCDC\n",
    "\n",
    "    - weight should be from sales people definition, but current method can only get the attractive score on visitor aspect => \n",
    "        - assumption-1: more clicks => interesting to connect? <font color=red>submit GCDC == made a reach out decision? YES?</font>\n",
    "        - they will think the information are valuable for them, want to get more related information -> salespeople reach out? When is the time = threshold?"
   ]
  },
  {
   "cell_type": "code",
   "execution_count": 358,
   "id": "680db51f",
   "metadata": {
    "ExecuteTime": {
     "end_time": "2022-12-15T21:23:49.787688Z",
     "start_time": "2022-12-15T21:23:49.785333Z"
    }
   },
   "outputs": [],
   "source": [
    "# def page_journey_aggregation(user_journey, sep=\"$\"):\n",
    "#     label = user_journey[\"label\"].unique()\n",
    "#     assert len(label) == 1\n",
    "#     y = label[0]\n",
    "            \n",
    "#     page_view = sep.join(user_journey.sort_values(by=\"DateTime_UTC\")[\"clean_PageURL\"].tolist())\n",
    "#     return pd.Series([page_view, y], index=[\"features\", \"label\"])\n",
    "\n",
    "# data = stage1_raw.groupby(\"mcvisid\").progress_apply(lambda x: page_journey_aggregation(x))"
   ]
  },
  {
   "cell_type": "code",
   "execution_count": 359,
   "id": "176e5a88",
   "metadata": {
    "ExecuteTime": {
     "end_time": "2022-12-15T21:23:49.791123Z",
     "start_time": "2022-12-15T21:23:49.789165Z"
    }
   },
   "outputs": [],
   "source": [
    "# y_sum = stage1_raw.groupby(\"mcvisid\")[\"label\"].sum()\n",
    "# y_size = stage1_raw.groupby(\"mcvisid\")[\"label\"].size()\n",
    "# y_validation = pd.concat([y_size, y_sum], axis=1)\n",
    "# y_validation.columns=[\"y_size\",\"y_sum\"]\n",
    "# y_pos = y_validation[y_validation[\"y_sum\"]>0]\n",
    "# y_pos[y_pos[\"y_size\"] != y_pos[\"y_sum\"]]# should be unique zero"
   ]
  },
  {
   "cell_type": "code",
   "execution_count": 360,
   "id": "f8f14c75",
   "metadata": {
    "ExecuteTime": {
     "end_time": "2022-12-15T21:23:49.793875Z",
     "start_time": "2022-12-15T21:23:49.792245Z"
    }
   },
   "outputs": [],
   "source": [
    "# stage1_raw[stage1_raw[\"mcvisid\"] == \"00000092262929664423777026703889338013\"]"
   ]
  },
  {
   "cell_type": "code",
   "execution_count": 361,
   "id": "f6b3a3f4",
   "metadata": {
    "ExecuteTime": {
     "end_time": "2022-12-15T21:26:34.792173Z",
     "start_time": "2022-12-15T21:23:49.795120Z"
    }
   },
   "outputs": [
    {
     "name": "stderr",
     "output_type": "stream",
     "text": [
      "100%|██████████████████████████████| 5364609/5364609 [02:02<00:00, 43872.58it/s]\n"
     ]
    }
   ],
   "source": [
    "X = stage1_raw.sort_values(by=[\"date\",\"hour\"]).groupby(\"mcvisid\").progress_apply(lambda x: \"$\".join(x[\"clean_PageURL\"]))\n",
    "y = stage1_raw.groupby(\"mcvisid\")[\"label\"].sum()>0"
   ]
  },
  {
   "cell_type": "markdown",
   "id": "eece798e",
   "metadata": {},
   "source": [
    "### minium visit frequency data viewer\n",
    "- at least valid five visit"
   ]
  },
  {
   "cell_type": "code",
   "execution_count": 362,
   "id": "9cb86d7d",
   "metadata": {
    "ExecuteTime": {
     "end_time": "2022-12-15T21:27:56.082721Z",
     "start_time": "2022-12-15T21:26:34.794345Z"
    }
   },
   "outputs": [],
   "source": [
    "stage1_raw.to_csv(\"tableau_eda.csv\")"
   ]
  },
  {
   "cell_type": "code",
   "execution_count": null,
   "id": "47bac7b9",
   "metadata": {},
   "outputs": [],
   "source": []
  },
  {
   "cell_type": "code",
   "execution_count": 363,
   "id": "e184b63f",
   "metadata": {
    "ExecuteTime": {
     "end_time": "2022-12-15T21:30:27.211347Z",
     "start_time": "2022-12-15T21:27:56.085079Z"
    },
    "scrolled": true
   },
   "outputs": [
    {
     "name": "stderr",
     "output_type": "stream",
     "text": [
      "100%|███████████████████████████████████████████| 14/14 [02:13<00:00,  9.51s/it]\n"
     ]
    }
   ],
   "source": [
    "fts = pd.DataFrame()\n",
    "unique_fts = pd.DataFrame()\n",
    "visit_freq = stage1_raw.groupby(\"mcvisid\").size().sort_values()\n",
    "for mini_records in tqdm(range(1,15)):\n",
    "    target_visit = visit_freq[visit_freq>=mini_records]\n",
    "    target_raw = stage1_raw[stage1_raw[\"mcvisid\"].isin(target_visit.index)]\n",
    "    ft = target_raw[\"label\"].value_counts().rename(f\"min{mini_records}\").to_frame().T\n",
    "    unique_ft = target_raw[[\"mcvisid\",\"label\"]].drop_duplicates()[\"label\"].value_counts().rename(f\"u-min{mini_records}\").to_frame().T\n",
    "    fts = pd.concat([fts, ft])\n",
    "    unique_fts = pd.concat([unique_ft,unique_fts])\n"
   ]
  },
  {
   "cell_type": "code",
   "execution_count": 364,
   "id": "1da73bb4",
   "metadata": {
    "ExecuteTime": {
     "end_time": "2022-12-15T21:30:27.217239Z",
     "start_time": "2022-12-15T21:30:27.213480Z"
    }
   },
   "outputs": [],
   "source": [
    "# unique_fts\n",
    "unique_fts = unique_fts.sort_values(by=1, ascending=False)"
   ]
  },
  {
   "cell_type": "code",
   "execution_count": 365,
   "id": "5f69fff2",
   "metadata": {
    "ExecuteTime": {
     "end_time": "2022-12-15T21:30:27.307192Z",
     "start_time": "2022-12-15T21:30:27.218532Z"
    }
   },
   "outputs": [
    {
     "data": {
      "text/html": [
       "<div>\n",
       "<style scoped>\n",
       "    .dataframe tbody tr th:only-of-type {\n",
       "        vertical-align: middle;\n",
       "    }\n",
       "\n",
       "    .dataframe tbody tr th {\n",
       "        vertical-align: top;\n",
       "    }\n",
       "\n",
       "    .dataframe thead th {\n",
       "        text-align: right;\n",
       "    }\n",
       "</style>\n",
       "<table border=\"1\" class=\"dataframe\">\n",
       "  <thead>\n",
       "    <tr style=\"text-align: right;\">\n",
       "      <th></th>\n",
       "      <th>False</th>\n",
       "      <th>True</th>\n",
       "      <th>ratio</th>\n",
       "    </tr>\n",
       "  </thead>\n",
       "  <tbody>\n",
       "    <tr>\n",
       "      <th>u-min1</th>\n",
       "      <td>5358164</td>\n",
       "      <td>6881</td>\n",
       "      <td>778.68973</td>\n",
       "    </tr>\n",
       "    <tr>\n",
       "      <th>u-min2</th>\n",
       "      <td>1346499</td>\n",
       "      <td>6298</td>\n",
       "      <td>213.79787</td>\n",
       "    </tr>\n",
       "    <tr>\n",
       "      <th>u-min3</th>\n",
       "      <td>885374</td>\n",
       "      <td>5829</td>\n",
       "      <td>151.89123</td>\n",
       "    </tr>\n",
       "    <tr>\n",
       "      <th>u-min4</th>\n",
       "      <td>650179</td>\n",
       "      <td>5449</td>\n",
       "      <td>119.32079</td>\n",
       "    </tr>\n",
       "    <tr>\n",
       "      <th>u-min5</th>\n",
       "      <td>506597</td>\n",
       "      <td>5126</td>\n",
       "      <td>98.82891</td>\n",
       "    </tr>\n",
       "    <tr>\n",
       "      <th>u-min6</th>\n",
       "      <td>411169</td>\n",
       "      <td>4851</td>\n",
       "      <td>84.75964</td>\n",
       "    </tr>\n",
       "    <tr>\n",
       "      <th>u-min7</th>\n",
       "      <td>343244</td>\n",
       "      <td>4578</td>\n",
       "      <td>74.97685</td>\n",
       "    </tr>\n",
       "    <tr>\n",
       "      <th>u-min8</th>\n",
       "      <td>292687</td>\n",
       "      <td>4348</td>\n",
       "      <td>67.31532</td>\n",
       "    </tr>\n",
       "    <tr>\n",
       "      <th>u-min9</th>\n",
       "      <td>253791</td>\n",
       "      <td>4140</td>\n",
       "      <td>61.30217</td>\n",
       "    </tr>\n",
       "    <tr>\n",
       "      <th>u-min10</th>\n",
       "      <td>223383</td>\n",
       "      <td>3954</td>\n",
       "      <td>56.49545</td>\n",
       "    </tr>\n",
       "    <tr>\n",
       "      <th>u-min11</th>\n",
       "      <td>199047</td>\n",
       "      <td>3778</td>\n",
       "      <td>52.68581</td>\n",
       "    </tr>\n",
       "    <tr>\n",
       "      <th>u-min12</th>\n",
       "      <td>178786</td>\n",
       "      <td>3634</td>\n",
       "      <td>49.19813</td>\n",
       "    </tr>\n",
       "    <tr>\n",
       "      <th>u-min13</th>\n",
       "      <td>162025</td>\n",
       "      <td>3484</td>\n",
       "      <td>46.50545</td>\n",
       "    </tr>\n",
       "    <tr>\n",
       "      <th>u-min14</th>\n",
       "      <td>147693</td>\n",
       "      <td>3332</td>\n",
       "      <td>44.32563</td>\n",
       "    </tr>\n",
       "  </tbody>\n",
       "</table>\n",
       "</div>"
      ],
      "text/plain": [
       "           False  True     ratio\n",
       "u-min1   5358164  6881 778.68973\n",
       "u-min2   1346499  6298 213.79787\n",
       "u-min3    885374  5829 151.89123\n",
       "u-min4    650179  5449 119.32079\n",
       "u-min5    506597  5126  98.82891\n",
       "u-min6    411169  4851  84.75964\n",
       "u-min7    343244  4578  74.97685\n",
       "u-min8    292687  4348  67.31532\n",
       "u-min9    253791  4140  61.30217\n",
       "u-min10   223383  3954  56.49545\n",
       "u-min11   199047  3778  52.68581\n",
       "u-min12   178786  3634  49.19813\n",
       "u-min13   162025  3484  46.50545\n",
       "u-min14   147693  3332  44.32563"
      ]
     },
     "execution_count": 365,
     "metadata": {},
     "output_type": "execute_result"
    },
    {
     "data": {
      "image/png": "[encoded data removed]",
      "text/plain": [
       "<Figure size 432x288 with 1 Axes>"
      ]
     },
     "metadata": {
      "needs_background": "light"
     },
     "output_type": "display_data"
    }
   ],
   "source": [
    "unique_fts.plot()\n",
    "unique_fts[\"ratio\"] = unique_fts[0]/unique_fts[1]\n",
    "unique_fts"
   ]
  },
  {
   "cell_type": "code",
   "execution_count": 366,
   "id": "f343ae2d",
   "metadata": {
    "ExecuteTime": {
     "end_time": "2022-12-15T21:30:27.396575Z",
     "start_time": "2022-12-15T21:30:27.308403Z"
    }
   },
   "outputs": [
    {
     "data": {
      "text/html": [
       "<div>\n",
       "<style scoped>\n",
       "    .dataframe tbody tr th:only-of-type {\n",
       "        vertical-align: middle;\n",
       "    }\n",
       "\n",
       "    .dataframe tbody tr th {\n",
       "        vertical-align: top;\n",
       "    }\n",
       "\n",
       "    .dataframe thead th {\n",
       "        text-align: right;\n",
       "    }\n",
       "</style>\n",
       "<table border=\"1\" class=\"dataframe\">\n",
       "  <thead>\n",
       "    <tr style=\"text-align: right;\">\n",
       "      <th></th>\n",
       "      <th>False</th>\n",
       "      <th>True</th>\n",
       "      <th>ratio</th>\n",
       "    </tr>\n",
       "  </thead>\n",
       "  <tbody>\n",
       "    <tr>\n",
       "      <th>min1</th>\n",
       "      <td>14555282</td>\n",
       "      <td>195647</td>\n",
       "      <td>74.39563</td>\n",
       "    </tr>\n",
       "    <tr>\n",
       "      <th>min2</th>\n",
       "      <td>10543617</td>\n",
       "      <td>195064</td>\n",
       "      <td>54.05209</td>\n",
       "    </tr>\n",
       "    <tr>\n",
       "      <th>min3</th>\n",
       "      <td>9621386</td>\n",
       "      <td>194145</td>\n",
       "      <td>49.55773</td>\n",
       "    </tr>\n",
       "    <tr>\n",
       "      <th>min4</th>\n",
       "      <td>8915801</td>\n",
       "      <td>193005</td>\n",
       "      <td>46.19466</td>\n",
       "    </tr>\n",
       "    <tr>\n",
       "      <th>min5</th>\n",
       "      <td>8341503</td>\n",
       "      <td>191743</td>\n",
       "      <td>43.50356</td>\n",
       "    </tr>\n",
       "    <tr>\n",
       "      <th>min6</th>\n",
       "      <td>7864363</td>\n",
       "      <td>190368</td>\n",
       "      <td>41.31137</td>\n",
       "    </tr>\n",
       "    <tr>\n",
       "      <th>min7</th>\n",
       "      <td>7456873</td>\n",
       "      <td>188790</td>\n",
       "      <td>39.49824</td>\n",
       "    </tr>\n",
       "    <tr>\n",
       "      <th>min8</th>\n",
       "      <td>7102974</td>\n",
       "      <td>187180</td>\n",
       "      <td>37.94729</td>\n",
       "    </tr>\n",
       "    <tr>\n",
       "      <th>min9</th>\n",
       "      <td>6791862</td>\n",
       "      <td>185572</td>\n",
       "      <td>36.59961</td>\n",
       "    </tr>\n",
       "    <tr>\n",
       "      <th>min10</th>\n",
       "      <td>6518190</td>\n",
       "      <td>183898</td>\n",
       "      <td>35.44459</td>\n",
       "    </tr>\n",
       "    <tr>\n",
       "      <th>min11</th>\n",
       "      <td>6274915</td>\n",
       "      <td>182223</td>\n",
       "      <td>34.43536</td>\n",
       "    </tr>\n",
       "    <tr>\n",
       "      <th>min12</th>\n",
       "      <td>6052044</td>\n",
       "      <td>180639</td>\n",
       "      <td>33.50353</td>\n",
       "    </tr>\n",
       "    <tr>\n",
       "      <th>min13</th>\n",
       "      <td>5850948</td>\n",
       "      <td>178875</td>\n",
       "      <td>32.70970</td>\n",
       "    </tr>\n",
       "    <tr>\n",
       "      <th>min14</th>\n",
       "      <td>5664632</td>\n",
       "      <td>176899</td>\n",
       "      <td>32.02184</td>\n",
       "    </tr>\n",
       "  </tbody>\n",
       "</table>\n",
       "</div>"
      ],
      "text/plain": [
       "          False    True    ratio\n",
       "min1   14555282  195647 74.39563\n",
       "min2   10543617  195064 54.05209\n",
       "min3    9621386  194145 49.55773\n",
       "min4    8915801  193005 46.19466\n",
       "min5    8341503  191743 43.50356\n",
       "min6    7864363  190368 41.31137\n",
       "min7    7456873  188790 39.49824\n",
       "min8    7102974  187180 37.94729\n",
       "min9    6791862  185572 36.59961\n",
       "min10   6518190  183898 35.44459\n",
       "min11   6274915  182223 34.43536\n",
       "min12   6052044  180639 33.50353\n",
       "min13   5850948  178875 32.70970\n",
       "min14   5664632  176899 32.02184"
      ]
     },
     "execution_count": 366,
     "metadata": {},
     "output_type": "execute_result"
    },
    {
     "data": {
      "image/png": "[encoded data removed]",
      "text/plain": [
       "<Figure size 432x288 with 1 Axes>"
      ]
     },
     "metadata": {
      "needs_background": "light"
     },
     "output_type": "display_data"
    }
   ],
   "source": [
    "fts.plot()\n",
    "fts[\"ratio\"] = fts[0]/fts[1]\n",
    "fts"
   ]
  },
  {
   "cell_type": "code",
   "execution_count": 367,
   "id": "c15b76f8",
   "metadata": {
    "ExecuteTime": {
     "end_time": "2022-12-15T21:30:33.637472Z",
     "start_time": "2022-12-15T21:30:27.397693Z"
    }
   },
   "outputs": [],
   "source": [
    "target_visit = visit_freq[(visit_freq>=5)]\n",
    "target_raw = stage1_raw[stage1_raw[\"mcvisid\"].isin(target_visit.index)]"
   ]
  },
  {
   "cell_type": "code",
   "execution_count": 368,
   "id": "017b5de6",
   "metadata": {
    "ExecuteTime": {
     "end_time": "2022-12-15T21:31:02.314833Z",
     "start_time": "2022-12-15T21:30:33.638966Z"
    }
   },
   "outputs": [
    {
     "name": "stderr",
     "output_type": "stream",
     "text": [
      "100%|████████████████████████████████| 511321/511321 [00:19<00:00, 26623.79it/s]\n"
     ]
    }
   ],
   "source": [
    "X = target_raw.sort_values(by=[\"date\",\"hour\"]).groupby(\"mcvisid\").progress_apply(lambda x: \"$\".join(x[\"clean_PageURL\"]))\n",
    "y = target_raw.groupby(\"mcvisid\")[\"label\"].sum()>0"
   ]
  },
  {
   "cell_type": "code",
   "execution_count": 369,
   "id": "e10453d9",
   "metadata": {
    "ExecuteTime": {
     "end_time": "2022-12-15T21:31:02.318777Z",
     "start_time": "2022-12-15T21:31:02.316388Z"
    }
   },
   "outputs": [],
   "source": [
    "# target_pageurls = target_raw[[\"PageURL\", \"clean_PageURL\"]].drop_duplicates()"
   ]
  },
  {
   "cell_type": "code",
   "execution_count": 370,
   "id": "da42f42d",
   "metadata": {
    "ExecuteTime": {
     "end_time": "2022-12-15T21:31:02.501931Z",
     "start_time": "2022-12-15T21:31:02.319440Z"
    }
   },
   "outputs": [],
   "source": [
    "data = pd.concat([X, y], axis=1)\n",
    "data.columns = [\"features\", \"label\"]\n",
    "\n",
    "### increase threshold\n",
    "# data = data.loc[target_visit.index]\n",
    "# print(\"reduce rows:\", X.shape[0] - data.shape[0], \"from \", X.shape[0], \"keep rows: \", data.shape[0])"
   ]
  },
  {
   "cell_type": "code",
   "execution_count": 371,
   "id": "8b2d75de",
   "metadata": {
    "ExecuteTime": {
     "end_time": "2022-12-15T21:31:02.509425Z",
     "start_time": "2022-12-15T21:31:02.507961Z"
    }
   },
   "outputs": [],
   "source": [
    "# data[\"features\"].drop_duplicates()"
   ]
  },
  {
   "cell_type": "code",
   "execution_count": 372,
   "id": "9344fa58",
   "metadata": {
    "ExecuteTime": {
     "end_time": "2022-12-15T21:31:02.512129Z",
     "start_time": "2022-12-15T21:31:02.510374Z"
    }
   },
   "outputs": [],
   "source": [
    "# aa = data.groupby(\"features\", group_keys=False).size().sort_values() # 检查是否有 同样数据 但是不同的 label 的数据\n",
    "# aa.to_frame().tail(40).style"
   ]
  },
  {
   "cell_type": "markdown",
   "id": "de640e58",
   "metadata": {},
   "source": [
    "### Data split + TFIDF\n",
    "<!-- \n",
    "# ## outdated\n",
    "# data = stage1_raw.groupby(\"SessionVisitorId\").apply(lambda x: processing_stage1(x, target_method=1, feature_method=\"bow\"))\n",
    "# data[\"submitted_form\"].value_counts()\n",
    "\n",
    "# def tfidf_transform(dtm, idf=None):\n",
    "#     N = dtm.shape[0] # number of document\n",
    "#     tf = (dtm/(dtm.sum(axis=1).reshape(-1,1)))\n",
    "\n",
    "#     if idf is None:\n",
    "#         idf = np.log(1 + N/(dtm.astype(bool).sum(axis=0)))\n",
    "        \n",
    "#     tfidf = tf * idf\n",
    "#     return tfidf, idf\n",
    "# v = DictVectorizer(sparse=False)\n",
    "# X_train_dtm = v.fit_transform(X_train)\n",
    "# X_test_dtm = v.transform(X_test)\n",
    "# X_train_arr, idf = tfidf_transform(X_train_dtm)\n",
    "# X_test_arr, _ = tfidf_transform(X_test_dtm, idf) -->"
   ]
  },
  {
   "cell_type": "code",
   "execution_count": 373,
   "id": "a9d48adf",
   "metadata": {
    "ExecuteTime": {
     "end_time": "2022-12-15T21:31:03.674294Z",
     "start_time": "2022-12-15T21:31:02.512819Z"
    }
   },
   "outputs": [
    {
     "data": {
      "text/html": [
       "<style type=\"text/css\">\n",
       "</style>\n",
       "<table id=\"T_5d65d_\">\n",
       "  <thead>\n",
       "    <tr>\n",
       "      <th class=\"blank level0\" >&nbsp;</th>\n",
       "      <th class=\"col_heading level0 col0\" >features_seq</th>\n",
       "      <th class=\"col_heading level0 col1\" >label</th>\n",
       "    </tr>\n",
       "    <tr>\n",
       "      <th class=\"index_name level0\" >mcvisid</th>\n",
       "      <th class=\"blank col0\" >&nbsp;</th>\n",
       "      <th class=\"blank col1\" >&nbsp;</th>\n",
       "    </tr>\n",
       "  </thead>\n",
       "  <tbody>\n",
       "    <tr>\n",
       "      <th id=\"T_5d65d_level0_row0\" class=\"row_heading level0 row0\" >33157002874268034653922816459310381195</th>\n",
       "      <td id=\"T_5d65d_row0_col0\" class=\"data row0 col0\" >['https://www.rockwellautomation.com/en-us', 'https://www.rockwellautomation.com/capabilities/sustainable-solutions/sustainability-roadmap', 'https://www.rockwellautomation.com/search', 'https://www.rockwellautomation.com/company/events/webinars/create-a-modern-maintenance-program-with-fiix', 'https://www.rockwellautomation.com/company/news/blogs/enabling-the-power-of-the-gigafactory', 'https://www.rockwellautomation.com/company/events/in-person-events/win-eurasia']</td>\n",
       "      <td id=\"T_5d65d_row0_col1\" class=\"data row0 col1\" >False</td>\n",
       "    </tr>\n",
       "    <tr>\n",
       "      <th id=\"T_5d65d_level0_row1\" class=\"row_heading level0 row1\" >04058247754941867581885526478808471845</th>\n",
       "      <td id=\"T_5d65d_row1_col0\" class=\"data row1 col0\" >['https://www.rockwellautomation.com/products/hardware/allen-bradley', 'https://www.rockwellautomation.com/lang-selection', 'https://www.rockwellautomation.com/en-us', 'https://www.rockwellautomation.com/lang-selection', 'https://www.rockwellautomation.com/search', 'https://www.rockwellautomation.com/products/hardware/allen-bradley/drives/drive-software']</td>\n",
       "      <td id=\"T_5d65d_row1_col1\" class=\"data row1 col1\" >False</td>\n",
       "    </tr>\n",
       "    <tr>\n",
       "      <th id=\"T_5d65d_level0_row2\" class=\"row_heading level0 row2\" >29385111926510844802259227538688413593</th>\n",
       "      <td id=\"T_5d65d_row2_col0\" class=\"data row2 col0\" >['https://www.rockwellautomation.com/company/about-us', 'https://www.rockwellautomation.com/products/software/factorytalk', 'https://www.rockwellautomation.com/products/hardware/allen-bradley/programmable-controllers/micro-controllers/micrologix-family/micrologix-1100-controllers', 'https://www.rockwellautomation.com/products/details.1766-L32BXB', 'https://www.rockwellautomation.com/products/hardware/allen-bradley/i-o/chassis-based-i-o/1762-micrologix-expansion-i-o']</td>\n",
       "      <td id=\"T_5d65d_row2_col1\" class=\"data row2 col1\" >False</td>\n",
       "    </tr>\n",
       "    <tr>\n",
       "      <th id=\"T_5d65d_level0_row3\" class=\"row_heading level0 row3\" >73194307753914001230130280539437184516</th>\n",
       "      <td id=\"T_5d65d_row3_col0\" class=\"data row3 col0\" >['https://www.rockwellautomation.com/en-us', 'https://www.rockwellautomation.com/en-us', 'https://www.rockwellautomation.com/en-us', 'https://www.rockwellautomation.com/en-us', 'https://www.rockwellautomation.com/en-us', 'https://www.rockwellautomation.com/en-us', 'https://www.rockwellautomation.com/en-us', 'https://www.rockwellautomation.com/en-us', 'https://www.rockwellautomation.com/en-us', 'https://www.rockwellautomation.com/en-us', 'https://www.rockwellautomation.com/en-us', 'https://www.rockwellautomation.com/en-us']</td>\n",
       "      <td id=\"T_5d65d_row3_col1\" class=\"data row3 col1\" >False</td>\n",
       "    </tr>\n",
       "    <tr>\n",
       "      <th id=\"T_5d65d_level0_row4\" class=\"row_heading level0 row4\" >15127193125604689200902995775705702364</th>\n",
       "      <td id=\"T_5d65d_row4_col0\" class=\"data row4 col0\" >['https://www.rockwellautomation.com/products/hardware/allen-bradley', 'https://www.rockwellautomation.com/search', 'https://www.rockwellautomation.com/products/hardware/allen-bradley/motor-control/soft-starters--low-voltage/smc-3-smart-motor-controller', 'https://www.rockwellautomation.com/products/details.150-SC3NBD', 'https://www.rockwellautomation.com/products/details.150-C317NBR']</td>\n",
       "      <td id=\"T_5d65d_row4_col1\" class=\"data row4 col1\" >False</td>\n",
       "    </tr>\n",
       "    <tr>\n",
       "      <th id=\"T_5d65d_level0_row5\" class=\"row_heading level0 row5\" >11801933283959235961653509154048774017</th>\n",
       "      <td id=\"T_5d65d_row5_col0\" class=\"data row5 col0\" >['https://www.rockwellautomation.com/search', 'https://www.rockwellautomation.com/search', 'https://www.rockwellautomation.com/search', 'https://www.rockwellautomation.com/search', 'https://www.rockwellautomation.com/search', 'https://www.rockwellautomation.com/search', 'https://www.rockwellautomation.com/lang-selection', 'https://www.rockwellautomation.com/search']</td>\n",
       "      <td id=\"T_5d65d_row5_col1\" class=\"data row5 col1\" >False</td>\n",
       "    </tr>\n",
       "    <tr>\n",
       "      <th id=\"T_5d65d_level0_row6\" class=\"row_heading level0 row6\" >17674901021446132983256913034148126541</th>\n",
       "      <td id=\"T_5d65d_row6_col0\" class=\"data row6 col0\" >['https://www.rockwellautomation.com/company/about-us', 'https://www.rockwellautomation.com/company', 'https://www.rockwellautomation.com/company/about-us/our-history', 'https://www.rockwellautomation.com/industries', 'https://www.rockwellautomation.com/company', 'https://www.rockwellautomation.com/company/about-us/our-community']</td>\n",
       "      <td id=\"T_5d65d_row6_col1\" class=\"data row6 col1\" >False</td>\n",
       "    </tr>\n",
       "    <tr>\n",
       "      <th id=\"T_5d65d_level0_row7\" class=\"row_heading level0 row7\" >41899077931156909800531878527066634833</th>\n",
       "      <td id=\"T_5d65d_row7_col0\" class=\"data row7 col0\" >['https://www.rockwellautomation.com/en-us', 'https://www.rockwellautomation.com/sales', 'https://www.rockwellautomation.com/sales', 'https://www.rockwellautomation.com/products/hardware/allen-bradley', 'https://www.rockwellautomation.com/company/news/press-releases/celebrating50yearsint-20190523-1359', 'https://www.rockwellautomation.com/company/news/blogs/fifty-not-out--and-just-getting-started-']</td>\n",
       "      <td id=\"T_5d65d_row7_col1\" class=\"data row7 col1\" >False</td>\n",
       "    </tr>\n",
       "    <tr>\n",
       "      <th id=\"T_5d65d_level0_row8\" class=\"row_heading level0 row8\" >48388540400854098610564508697378055730</th>\n",
       "      <td id=\"T_5d65d_row8_col0\" class=\"data row8 col0\" >['https://www.rockwellautomation.com/capabilities/industrial-automation-control/design-and-configuration-software', 'https://www.rockwellautomation.com/support', 'https://www.rockwellautomation.com/products', 'https://www.rockwellautomation.com/products/hardware/allen-bradley/motion-control', 'https://www.rockwellautomation.com/company/news', 'https://www.rockwellautomation.com/company/news/case-studies/helping-global-automaker-expand-capabilities']</td>\n",
       "      <td id=\"T_5d65d_row8_col1\" class=\"data row8 col1\" >False</td>\n",
       "    </tr>\n",
       "    <tr>\n",
       "      <th id=\"T_5d65d_level0_row9\" class=\"row_heading level0 row9\" >16549135019043845753028928312064211345</th>\n",
       "      <td id=\"T_5d65d_row9_col0\" class=\"data row9 col0\" >['https://www.rockwellautomation.com/support/documentation', 'https://www.rockwellautomation.com/products/hardware/allen-bradley/motion-control/rotary-servo-motors/mpl-low-inertia', 'https://www.rockwellautomation.com/support/documentation/technical/motion-control/rotary-motors', 'https://www.rockwellautomation.com/products/hardware/allen-bradley/motion-control/rotary-servo-motors/mpl-low-inertia', 'https://www.rockwellautomation.com/support/documentation/technical/motion-control/rotary-motors']</td>\n",
       "      <td id=\"T_5d65d_row9_col1\" class=\"data row9 col1\" >False</td>\n",
       "    </tr>\n",
       "    <tr>\n",
       "      <th id=\"T_5d65d_level0_row10\" class=\"row_heading level0 row10\" >42518661150249575003126776159595615486</th>\n",
       "      <td id=\"T_5d65d_row10_col0\" class=\"data row10 col0\" >['https://www.rockwellautomation.com/products/software/arena-simulation/buying-options/download', 'https://www.rockwellautomation.com/products/software', 'https://www.rockwellautomation.com/products/software/arena-simulation', 'https://www.rockwellautomation.com/products/software/arena-simulation/buying-options/download', 'https://www.rockwellautomation.com/products/software/arena-simulation/support']</td>\n",
       "      <td id=\"T_5d65d_row10_col1\" class=\"data row10 col1\" >False</td>\n",
       "    </tr>\n",
       "    <tr>\n",
       "      <th id=\"T_5d65d_level0_row11\" class=\"row_heading level0 row11\" >06580106583442881861974869631184211310</th>\n",
       "      <td id=\"T_5d65d_row11_col0\" class=\"data row11 col0\" >['https://www.rockwellautomation.com/search', 'https://www.rockwellautomation.com/support/product/product-compatibility-migration/product-lifecycle-status', 'https://www.rockwellautomation.com/products/details.2711P-T7C22D9P-B', 'https://www.rockwellautomation.com/search', 'https://www.rockwellautomation.com/products/details.1734-OB8', 'https://www.rockwellautomation.com/products/details.1734-TOP']</td>\n",
       "      <td id=\"T_5d65d_row11_col1\" class=\"data row11 col1\" >False</td>\n",
       "    </tr>\n",
       "    <tr>\n",
       "      <th id=\"T_5d65d_level0_row12\" class=\"row_heading level0 row12\" >35101164035062632003328554083814682655</th>\n",
       "      <td id=\"T_5d65d_row12_col0\" class=\"data row12 col0\" >['https://www.rockwellautomation.com/support/training/training-calendar', 'https://www.rockwellautomation.com/products/hardware/allen-bradley', 'https://www.rockwellautomation.com/search', 'https://www.rockwellautomation.com/products/details.1734-EP24DCK', 'https://www.rockwellautomation.com/search', 'https://www.rockwellautomation.com/search', 'https://www.rockwellautomation.com/search', 'https://www.rockwellautomation.com/search', 'https://www.rockwellautomation.com/search']</td>\n",
       "      <td id=\"T_5d65d_row12_col1\" class=\"data row12 col1\" >False</td>\n",
       "    </tr>\n",
       "    <tr>\n",
       "      <th id=\"T_5d65d_level0_row13\" class=\"row_heading level0 row13\" >13227759691997646703244366267522258504</th>\n",
       "      <td id=\"T_5d65d_row13_col0\" class=\"data row13 col0\" >['https://www.rockwellautomation.com/search', 'https://www.rockwellautomation.com/company/about-us', 'https://www.rockwellautomation.com/capabilities/smart-manufacturing', 'https://www.rockwellautomation.com/company/news/the-journal/what-is-an-ip67-rated-machine-vision-camera-', 'https://www.rockwellautomation.com/products/hardware/allen-bradley/discontinued-products/48ms-multisight']</td>\n",
       "      <td id=\"T_5d65d_row13_col1\" class=\"data row13 col1\" >False</td>\n",
       "    </tr>\n",
       "    <tr>\n",
       "      <th id=\"T_5d65d_level0_row14\" class=\"row_heading level0 row14\" >84588047165841891610636479024765639351</th>\n",
       "      <td id=\"T_5d65d_row14_col0\" class=\"data row14 col0\" >['https://www.rockwellautomation.com/en-us', 'https://www.rockwellautomation.com/en-us', 'https://www.rockwellautomation.com/en-us', 'https://www.rockwellautomation.com/en-us', 'https://www.rockwellautomation.com/en-us']</td>\n",
       "      <td id=\"T_5d65d_row14_col1\" class=\"data row14 col1\" >False</td>\n",
       "    </tr>\n",
       "    <tr>\n",
       "      <th id=\"T_5d65d_level0_row15\" class=\"row_heading level0 row15\" >36186725903003945663469343883095744793</th>\n",
       "      <td id=\"T_5d65d_row15_col0\" class=\"data row15 col0\" >['https://www.rockwellautomation.com/en-us', 'https://www.rockwellautomation.com/en-us', 'https://www.rockwellautomation.com/en-us', 'https://www.rockwellautomation.com/en-us', 'https://www.rockwellautomation.com/en-us']</td>\n",
       "      <td id=\"T_5d65d_row15_col1\" class=\"data row15 col1\" >False</td>\n",
       "    </tr>\n",
       "    <tr>\n",
       "      <th id=\"T_5d65d_level0_row16\" class=\"row_heading level0 row16\" >26093761135205573563502125292675272301</th>\n",
       "      <td id=\"T_5d65d_row16_col0\" class=\"data row16 col0\" >['https://www.rockwellautomation.com/en-us', 'https://www.rockwellautomation.com/en-us', 'https://www.rockwellautomation.com/en-us', 'https://www.rockwellautomation.com/en-us', 'https://www.rockwellautomation.com/en-us', 'https://www.rockwellautomation.com/en-us', 'https://www.rockwellautomation.com/en-us', 'https://www.rockwellautomation.com/en-us', 'https://www.rockwellautomation.com/en-us', 'https://www.rockwellautomation.com/en-us', 'https://www.rockwellautomation.com/en-us']</td>\n",
       "      <td id=\"T_5d65d_row16_col1\" class=\"data row16 col1\" >False</td>\n",
       "    </tr>\n",
       "    <tr>\n",
       "      <th id=\"T_5d65d_level0_row17\" class=\"row_heading level0 row17\" >82279042631132918414234255289942239424</th>\n",
       "      <td id=\"T_5d65d_row17_col0\" class=\"data row17 col0\" >['https://www.rockwellautomation.com/products/hardware/allen-bradley/drives/low-voltage-ac-drives/architecture-drives/20g-powerflex-755', 'https://www.rockwellautomation.com/en-us', 'https://www.rockwellautomation.com/support', 'https://www.rockwellautomation.com/company/about-us/contact-us', 'https://www.rockwellautomation.com/support/customer-care', 'https://www.rockwellautomation.com/products/hardware/allen-bradley/drives/20p-powerflex-dc']</td>\n",
       "      <td id=\"T_5d65d_row17_col1\" class=\"data row17 col1\" >False</td>\n",
       "    </tr>\n",
       "    <tr>\n",
       "      <th id=\"T_5d65d_level0_row18\" class=\"row_heading level0 row18\" >70609948347857117923214591032595332533</th>\n",
       "      <td id=\"T_5d65d_row18_col0\" class=\"data row18 col0\" >['https://www.rockwellautomation.com/products/software/arena-simulation/buying-options/download', 'https://www.rockwellautomation.com/products/software/arena-simulation', 'https://www.rockwellautomation.com/products/software/arena-simulation/buying-options', 'https://www.rockwellautomation.com/tools/software-subscriptions-updated', 'https://www.rockwellautomation.com/products/software/arena-simulation/buying-options']</td>\n",
       "      <td id=\"T_5d65d_row18_col1\" class=\"data row18 col1\" >False</td>\n",
       "    </tr>\n",
       "    <tr>\n",
       "      <th id=\"T_5d65d_level0_row19\" class=\"row_heading level0 row19\" >05784755201957695224017246359383554793</th>\n",
       "      <td id=\"T_5d65d_row19_col0\" class=\"data row19 col0\" >['https://www.rockwellautomation.com/products/software/factorytalk/maintenancesuite/assetcentre', 'https://www.rockwellautomation.com/rockwellautomation/support/downloads', 'https://www.rockwellautomation.com/support', 'https://www.rockwellautomation.com/support', 'https://www.rockwellautomation.com/products/hardware/allen-bradley', 'https://www.rockwellautomation.com/products/software/factorytalk', 'https://www.rockwellautomation.com/support/documentation/literature-library']</td>\n",
       "      <td id=\"T_5d65d_row19_col1\" class=\"data row19 col1\" >False</td>\n",
       "    </tr>\n",
       "    <tr>\n",
       "      <th id=\"T_5d65d_level0_row20\" class=\"row_heading level0 row20\" >50262749992437831082486771572560397243</th>\n",
       "      <td id=\"T_5d65d_row20_col0\" class=\"data row20 col0\" >['https://www.rockwellautomation.com/search', 'https://www.rockwellautomation.com/products/hardware/allen-bradley', 'https://www.rockwellautomation.com/capabilities/software-ordering-options', 'https://www.rockwellautomation.com/products/software/factorytalk/operationsuite/view', 'https://www.rockwellautomation.com/products/software/factorytalk/operationsuite/view/factorytalk-view-site-edition']</td>\n",
       "      <td id=\"T_5d65d_row20_col1\" class=\"data row20 col1\" >False</td>\n",
       "    </tr>\n",
       "    <tr>\n",
       "      <th id=\"T_5d65d_level0_row21\" class=\"row_heading level0 row21\" >51752145207540610064448937729156988935</th>\n",
       "      <td id=\"T_5d65d_row21_col0\" class=\"data row21 col0\" >['https://www.rockwellautomation.com/products/software/arena-simulation', 'https://www.rockwellautomation.com/products/software/arena-simulation', 'https://www.rockwellautomation.com/products/software/arena-simulation/buying-options/download', 'https://www.rockwellautomation.com/products/software/arena-simulation/buying-options/download', 'https://www.rockwellautomation.com/products/software/arena-simulation']</td>\n",
       "      <td id=\"T_5d65d_row21_col1\" class=\"data row21 col1\" >False</td>\n",
       "    </tr>\n",
       "    <tr>\n",
       "      <th id=\"T_5d65d_level0_row22\" class=\"row_heading level0 row22\" >47945073162023239290842934560100086414</th>\n",
       "      <td id=\"T_5d65d_row22_col0\" class=\"data row22 col0\" >['https://www.rockwellautomation.com/products/hardware/allen-bradley/motion-control/rotary-servo-motors', 'https://www.rockwellautomation.com/en-in', 'https://www.rockwellautomation.com/products/hardware/allen-bradley/motion-control', 'https://www.rockwellautomation.com/products/hardware/allen-bradley/motor-control', 'https://www.rockwellautomation.com/products/hardware/allen-bradley/drives', 'https://www.rockwellautomation.com/products/hardware']</td>\n",
       "      <td id=\"T_5d65d_row22_col1\" class=\"data row22 col1\" >False</td>\n",
       "    </tr>\n",
       "    <tr>\n",
       "      <th id=\"T_5d65d_level0_row23\" class=\"row_heading level0 row23\" >65500380245346350274032531177785026291</th>\n",
       "      <td id=\"T_5d65d_row23_col0\" class=\"data row23 col0\" >['https://www.rockwellautomation.com/company/about-us', 'https://www.rockwellautomation.com/company/careers', 'https://www.rockwellautomation.com/en-us', 'https://www.rockwellautomation.com/company/careers', 'https://www.rockwellautomation.com/company/careers']</td>\n",
       "      <td id=\"T_5d65d_row23_col1\" class=\"data row23 col1\" >False</td>\n",
       "    </tr>\n",
       "    <tr>\n",
       "      <th id=\"T_5d65d_level0_row24\" class=\"row_heading level0 row24\" >87539283182874286802043337982387413009</th>\n",
       "      <td id=\"T_5d65d_row24_col0\" class=\"data row24 col0\" >['https://www.rockwellautomation.com/company/news/blogs/scale-with-iiot', 'https://www.rockwellautomation.com/company/news/blogs/scale-with-iiot', 'https://www.rockwellautomation.com/company/news/blogs/scale-with-iiot', 'https://www.rockwellautomation.com/company/news/blogs/scale-with-iiot', 'https://www.rockwellautomation.com/company/news/blogs/scale-with-iiot', 'https://www.rockwellautomation.com/company/news/blogs/scale-with-iiot', 'https://www.rockwellautomation.com/company/news/blogs/scale-with-iiot']</td>\n",
       "      <td id=\"T_5d65d_row24_col1\" class=\"data row24 col1\" >False</td>\n",
       "    </tr>\n",
       "    <tr>\n",
       "      <th id=\"T_5d65d_level0_row25\" class=\"row_heading level0 row25\" >05817759958056457152463770682975910080</th>\n",
       "      <td id=\"T_5d65d_row25_col0\" class=\"data row25 col0\" >['https://www.rockwellautomation.com/search', 'https://www.rockwellautomation.com/products/details.889D-F8AB-10', 'https://www.rockwellautomation.com/products/hardware/allen-bradley/safety-products/safety-presence-sensors/light-curtains/poc-safety-light-curtains/450l-b-safety-light-curtain', 'https://www.rockwellautomation.com/products/details.450L-APT-PW-8', 'https://www.rockwellautomation.com/products/details.450L-E4HL1800YD', 'https://www.rockwellautomation.com/products/details.1783-US16T']</td>\n",
       "      <td id=\"T_5d65d_row25_col1\" class=\"data row25 col1\" >False</td>\n",
       "    </tr>\n",
       "    <tr>\n",
       "      <th id=\"T_5d65d_level0_row26\" class=\"row_heading level0 row26\" >45671677443339189523577792677356246946</th>\n",
       "      <td id=\"T_5d65d_row26_col0\" class=\"data row26 col0\" >['https://www.rockwellautomation.com/company/events/in-person-events/roklive', 'https://www.rockwellautomation.com/company/news/magazines/plantapilotocommaquin', 'https://www.rockwellautomation.com/products/software/factorytalk/innovationsuite/thingWorx-iiot-platform', 'https://www.rockwellautomation.com/products/hardware/allen-bradley/drives/low-voltage-ac-drives/compact-drives/25b-powerflex-525', 'https://www.rockwellautomation.com/company/partnernetwork']</td>\n",
       "      <td id=\"T_5d65d_row26_col1\" class=\"data row26 col1\" >False</td>\n",
       "    </tr>\n",
       "    <tr>\n",
       "      <th id=\"T_5d65d_level0_row27\" class=\"row_heading level0 row27\" >29698963003519293090703044852261195386</th>\n",
       "      <td id=\"T_5d65d_row27_col0\" class=\"data row27 col0\" >['https://www.rockwellautomation.com/products', 'https://www.rockwellautomation.com/company/about-us', 'https://www.rockwellautomation.com/tools', 'https://www.rockwellautomation.com/search', 'https://www.rockwellautomation.com/products/details.9324-RLM0100ENM']</td>\n",
       "      <td id=\"T_5d65d_row27_col1\" class=\"data row27 col1\" >False</td>\n",
       "    </tr>\n",
       "    <tr>\n",
       "      <th id=\"T_5d65d_level0_row28\" class=\"row_heading level0 row28\" >32746119478502502463899991031318826546</th>\n",
       "      <td id=\"T_5d65d_row28_col0\" class=\"data row28 col0\" >['https://www.rockwellautomation.com/capabilities/industrial-automation-control/design-and-configuration-software', 'https://www.rockwellautomation.com/sales', 'https://www.rockwellautomation.com/products/software', 'https://www.rockwellautomation.com/search', 'https://www.rockwellautomation.com/products/software']</td>\n",
       "      <td id=\"T_5d65d_row28_col1\" class=\"data row28 col1\" >False</td>\n",
       "    </tr>\n",
       "    <tr>\n",
       "      <th id=\"T_5d65d_level0_row29\" class=\"row_heading level0 row29\" >79083032373703613620676616699605227792</th>\n",
       "      <td id=\"T_5d65d_row29_col0\" class=\"data row29 col0\" >['https://www.rockwellautomation.com/en-us', 'https://www.rockwellautomation.com/en-us', 'https://www.rockwellautomation.com/en-us', 'https://www.rockwellautomation.com/en-us', 'https://www.rockwellautomation.com/en-us', 'https://www.rockwellautomation.com/en-us', 'https://www.rockwellautomation.com/en-us', 'https://www.rockwellautomation.com/en-us']</td>\n",
       "      <td id=\"T_5d65d_row29_col1\" class=\"data row29 col1\" >False</td>\n",
       "    </tr>\n",
       "  </tbody>\n",
       "</table>\n"
      ],
      "text/plain": [
       "<pandas.io.formats.style.Styler at 0x7f783600b220>"
      ]
     },
     "execution_count": 373,
     "metadata": {},
     "output_type": "execute_result"
    }
   ],
   "source": [
    "samples_checking = data[data[\"features\"].transform(len)<500]\n",
    "seeds= 10\n",
    "samples_30 = samples_checking.assign(features_seq = samples_checking[\"features\"].transform(lambda x: x.split(\"$\"))).sample(30, random_state=seeds)\n",
    "samples_30[[\"features_seq\", \"label\"]].style"
   ]
  },
  {
   "cell_type": "code",
   "execution_count": null,
   "id": "294ddb24",
   "metadata": {},
   "outputs": [],
   "source": []
  },
  {
   "cell_type": "code",
   "execution_count": 374,
   "id": "dccfbe05",
   "metadata": {
    "ExecuteTime": {
     "end_time": "2022-12-15T21:31:04.812278Z",
     "start_time": "2022-12-15T21:31:03.675166Z"
    }
   },
   "outputs": [
    {
     "name": "stdout",
     "output_type": "stream",
     "text": [
      "pos vs neg in training set: Counter({False: 506195, True: 5126})\n",
      "training sample label proportion: Counter({False: 404955, True: 4101})\n",
      "testing sample label proportion: Counter({False: 101240, True: 1025})\n",
      "after up/down-sampling, testing sample label proportion: Counter({False: 404955, True: 404955})\n"
     ]
    }
   ],
   "source": [
    "print(\"pos vs neg in training set:\",  Counter(data[\"label\"]))\n",
    "X_train, X_test, y_train, y_test = train_test_split(data[\"features\"], data[\"label\"], test_size=TEST_SIZE, stratify=data[\"label\"].values, random_state=SEED)\n",
    "print(\"training sample label proportion:\", Counter(y_train))\n",
    "print(\"testing sample label proportion:\", Counter(y_test))\n",
    "\n",
    "## down-sampling/up-sampling\n",
    "data_train = pd.concat([X_train, y_train], axis=1)\n",
    "# pos_size = y_train.sum()\n",
    "# data_train = data_train.groupby('label', group_keys=False).apply(lambda x: x.sample(pos_size, replace=False))\n",
    "neg_size = (~y_train).sum()\n",
    "data_train = data_train.groupby('label', group_keys=False).apply(lambda x: x.sample(neg_size, replace=True))\n",
    "X_train = data_train[\"features\"]\n",
    "y_train = data_train[\"label\"]\n",
    "print(\"after up/down-sampling, testing sample label proportion:\", Counter(y_train))"
   ]
  },
  {
   "cell_type": "code",
   "execution_count": 375,
   "id": "d74f2323",
   "metadata": {
    "ExecuteTime": {
     "end_time": "2022-12-15T21:31:18.838393Z",
     "start_time": "2022-12-15T21:31:04.813197Z"
    }
   },
   "outputs": [
    {
     "name": "stdout",
     "output_type": "stream",
     "text": [
      "feature dimension 8307 with min_df = 50 max_df = 0.95\n"
     ]
    }
   ],
   "source": [
    "MIN_DF = 50\n",
    "MAX_DF = 0.95\n",
    "vectorizer = TfidfVectorizer(token_pattern=SEP_TOKEN_PATTERN, binary=False, max_df=MAX_DF, min_df=MIN_DF,dtype=np.float64)\n",
    "\n",
    "X_train_arr = vectorizer.fit_transform(X_train)\n",
    "X_test_arr = vectorizer.transform(X_test)\n",
    "print(f\"feature dimension {len(vectorizer.get_feature_names())} with min_df = {MIN_DF} max_df = {MAX_DF}\")"
   ]
  },
  {
   "cell_type": "code",
   "execution_count": 376,
   "id": "8d3d85ae",
   "metadata": {
    "ExecuteTime": {
     "end_time": "2022-12-15T21:31:18.840837Z",
     "start_time": "2022-12-15T21:31:18.839154Z"
    }
   },
   "outputs": [],
   "source": [
    "# vectorizer.get_feature_names() # others = assign zero"
   ]
  },
  {
   "cell_type": "markdown",
   "id": "0ebf5676",
   "metadata": {},
   "source": [
    "### Models"
   ]
  },
  {
   "cell_type": "markdown",
   "id": "4cada077",
   "metadata": {},
   "source": [
    "#### dimension reduction\n",
    "- for improve prediction accuracy only, not assigning weight"
   ]
  },
  {
   "cell_type": "code",
   "execution_count": 377,
   "id": "44019d7d",
   "metadata": {
    "ExecuteTime": {
     "end_time": "2022-12-15T21:31:18.843506Z",
     "start_time": "2022-12-15T21:31:18.841582Z"
    }
   },
   "outputs": [],
   "source": [
    "from sklearn.decomposition import TruncatedSVD\n",
    "from sklearn.manifold import TSNE\n",
    "import seaborn as sns\n",
    "from matplotlib import colors"
   ]
  },
  {
   "cell_type": "code",
   "execution_count": 378,
   "id": "0b7258c7",
   "metadata": {
    "ExecuteTime": {
     "end_time": "2022-12-15T21:31:18.846180Z",
     "start_time": "2022-12-15T21:31:18.844288Z"
    }
   },
   "outputs": [],
   "source": [
    "# pca = TruncatedSVD(n_components=3)\n",
    "# pca_result = pca.fit_transform(X_train_arr)\n",
    "# vis = pd.DataFrame()\n",
    "# vis['pca-one'] = pca_result[:,0]\n",
    "# vis['pca-two'] = pca_result[:,1] \n",
    "# vis['pca-three'] = pca_result[:,2]\n",
    "# vis[\"y\"]= y_train\n",
    "# print('Explained variation per principal component: {}'.format(pca.explained_variance_ratio_))"
   ]
  },
  {
   "cell_type": "code",
   "execution_count": 379,
   "id": "169c9ed9",
   "metadata": {
    "ExecuteTime": {
     "end_time": "2022-12-15T21:31:18.848703Z",
     "start_time": "2022-12-15T21:31:18.847123Z"
    }
   },
   "outputs": [],
   "source": [
    "# ax = plt.figure(figsize=(16,10)).gca(projection='3d')\n",
    "# ax.scatter(\n",
    "#     xs=vis[\"pca-one\"], \n",
    "#     ys=vis[\"pca-two\"], \n",
    "#     zs=vis[\"pca-three\"], \n",
    "#     c=vis[\"y\"], \n",
    "#     cmap='tab10'\n",
    "# )\n",
    "# ax.set_xlabel('pca-one')\n",
    "# ax.set_ylabel('pca-two')\n",
    "# ax.set_zlabel('pca-three')\n",
    "# plt.show()"
   ]
  },
  {
   "cell_type": "code",
   "execution_count": 133,
   "id": "998336a8",
   "metadata": {
    "ExecuteTime": {
     "end_time": "2022-12-15T19:55:45.692430Z",
     "start_time": "2022-12-15T19:55:45.679490Z"
    },
    "scrolled": true
   },
   "outputs": [],
   "source": [
    "# data_subset = data.sample(50000, random_state=22 )\n",
    "# tsne = TSNE(n_components=3, verbose=1, perplexity=40, n_iter=250)\n",
    "# tsne_results = tsne.fit_transform(vectorizer.transform(data_subset[\"features\"]))\n",
    "\n",
    "# data_subset['tsne-3d-one'] = tsne_results[:,0]\n",
    "# data_subset['tsne-3d-two'] = tsne_results[:,1]\n",
    "# data_subset['tsne-3d-three'] = tsne_results[:,2]\n",
    "\n",
    "# ax = plt.figure(figsize=(16,10)).gca(projection='3d')\n",
    "# ax.scatter(\n",
    "#     xs=data_subset['tsne-3d-one'],\n",
    "#     ys=data_subset['tsne-3d-two'],\n",
    "#     zs=data_subset['tsne-3d-three'],\n",
    "#     c=data_subset[\"label\"], \n",
    "#     cmap=colors.ListedColormap(['blue', 'red'])\n",
    "# )\n",
    "# ax.set_xlabel('tsne-3d-one')\n",
    "# ax.set_ylabel('tsne-3d-two')\n",
    "# ax.set_zlabel('tsne-3d-three')\n",
    "# plt.show()\n",
    "# data_subset[\"label\"].value_counts()"
   ]
  },
  {
   "cell_type": "markdown",
   "id": "844852d5",
   "metadata": {},
   "source": [
    "#### LR"
   ]
  },
  {
   "cell_type": "code",
   "execution_count": 381,
   "id": "93e33028",
   "metadata": {
    "ExecuteTime": {
     "end_time": "2022-12-15T21:31:28.405690Z",
     "start_time": "2022-12-15T21:31:18.958831Z"
    }
   },
   "outputs": [
    {
     "name": "stdout",
     "output_type": "stream",
     "text": [
      "              precision    recall  f1-score   support\n",
      "\n",
      "       False       1.00      0.84      0.91    101240\n",
      "        True       0.04      0.59      0.07      1025\n",
      "\n",
      "    accuracy                           0.84    102265\n",
      "   macro avg       0.52      0.72      0.49    102265\n",
      "weighted avg       0.99      0.84      0.90    102265\n",
      "\n"
     ]
    },
    {
     "data": {
      "image/png": "[encoded data removed]",
      "text/plain": [
       "<Figure size 432x288 with 2 Axes>"
      ]
     },
     "metadata": {
      "needs_background": "light"
     },
     "output_type": "display_data"
    },
    {
     "name": "stdout",
     "output_type": "stream",
     "text": [
      "AUC: 71.79%, PRC: 31.66%\n"
     ]
    }
   ],
   "source": [
    "model = LogisticRegression()\n",
    "model.fit(X_train_arr, y_train)\n",
    "# model.coef_\n",
    "y_pred = model.predict(X_test_arr)\n",
    "evaluate_metrics(y_test, y_pred, show_plots = True)"
   ]
  },
  {
   "cell_type": "markdown",
   "id": "be5dd6b0",
   "metadata": {},
   "source": [
    "#### svm (x)\n",
    "- no weight but only predict prob "
   ]
  },
  {
   "cell_type": "code",
   "execution_count": 382,
   "id": "04e33c66",
   "metadata": {
    "ExecuteTime": {
     "end_time": "2022-12-15T21:31:40.843444Z",
     "start_time": "2022-12-15T21:31:28.406842Z"
    }
   },
   "outputs": [
    {
     "name": "stdout",
     "output_type": "stream",
     "text": [
      "              precision    recall  f1-score   support\n",
      "\n",
      "       False       0.99      0.86      0.92    101240\n",
      "        True       0.03      0.49      0.06      1025\n",
      "\n",
      "    accuracy                           0.86    102265\n",
      "   macro avg       0.51      0.68      0.49    102265\n",
      "weighted avg       0.98      0.86      0.91    102265\n",
      "\n"
     ]
    },
    {
     "data": {
      "image/png": "[encoded data removed]",
      "text/plain": [
       "<Figure size 432x288 with 2 Axes>"
      ]
     },
     "metadata": {
      "needs_background": "light"
     },
     "output_type": "display_data"
    },
    {
     "name": "stdout",
     "output_type": "stream",
     "text": [
      "AUC: 67.76%, PRC: 26.72%\n"
     ]
    }
   ],
   "source": [
    "svm_clf = svm.LinearSVC(C=1)\n",
    "svm_clf.fit(X_train_arr, y_train)\n",
    "y_pred = svm_clf.predict(X_test_arr)\n",
    "evaluate_metrics(y_test, y_pred, show_plots = True)"
   ]
  },
  {
   "cell_type": "markdown",
   "id": "f59ab946",
   "metadata": {},
   "source": [
    "#### naive bayes\n",
    "- $\\theta_{yi}$ is the probability $P(x_i \\mid y)$ of feature i appearing in a sample belonging to class y."
   ]
  },
  {
   "cell_type": "code",
   "execution_count": 383,
   "id": "4efd0d6c",
   "metadata": {
    "ExecuteTime": {
     "end_time": "2022-12-15T21:31:41.183270Z",
     "start_time": "2022-12-15T21:31:40.844344Z"
    }
   },
   "outputs": [
    {
     "name": "stdout",
     "output_type": "stream",
     "text": [
      "              precision    recall  f1-score   support\n",
      "\n",
      "       False       0.99      0.77      0.87    101240\n",
      "        True       0.03      0.59      0.05      1025\n",
      "\n",
      "    accuracy                           0.77    102265\n",
      "   macro avg       0.51      0.68      0.46    102265\n",
      "weighted avg       0.98      0.77      0.86    102265\n",
      "\n"
     ]
    },
    {
     "data": {
      "image/png": "[encoded data removed]",
      "text/plain": [
       "<Figure size 432x288 with 2 Axes>"
      ]
     },
     "metadata": {
      "needs_background": "light"
     },
     "output_type": "display_data"
    },
    {
     "name": "stdout",
     "output_type": "stream",
     "text": [
      "AUC: 72.44%, PRC: 4.60%\n"
     ]
    }
   ],
   "source": [
    "clf = MultinomialNB().fit(X_train_arr, y_train)\n",
    "asset_prob = np.exp(clf.feature_log_prob_[0])\n",
    "# clf.feature_log_prob_[0]\n",
    "y_pred = (clf.predict_proba(X_test_arr))[:, 1]\n",
    "evaluate_metrics(y_test, y_pred, show_plots = True)"
   ]
  },
  {
   "cell_type": "markdown",
   "id": "a8e7c9b3",
   "metadata": {},
   "source": [
    "### <font color=red>cross validation</font>\n",
    "<img src=\"https://scikit-learn.org/stable/_images/grid_search_cross_validation.png\" width=\"300\"/>"
   ]
  },
  {
   "cell_type": "code",
   "execution_count": 384,
   "id": "259d3d5b",
   "metadata": {
    "ExecuteTime": {
     "end_time": "2022-12-15T21:31:42.162916Z",
     "start_time": "2022-12-15T21:31:41.184142Z"
    }
   },
   "outputs": [
    {
     "name": "stdout",
     "output_type": "stream",
     "text": [
      "0.79 accuracy with a standard deviation of 0.00\n"
     ]
    }
   ],
   "source": [
    "scores = cross_validate(clf, X_train_arr, y_train, cv=5)\n",
    "print(\"%0.2f accuracy with a standard deviation of %0.2f\" % (scores[\"test_score\"].mean(), scores[\"test_score\"].std()))"
   ]
  },
  {
   "cell_type": "markdown",
   "id": "83e5af7e",
   "metadata": {},
   "source": [
    "### Assign Weight\n",
    "- conditional prob"
   ]
  },
  {
   "cell_type": "code",
   "execution_count": 385,
   "id": "c0fdaca2",
   "metadata": {
    "ExecuteTime": {
     "end_time": "2022-12-15T21:31:42.165910Z",
     "start_time": "2022-12-15T21:31:42.163950Z"
    }
   },
   "outputs": [],
   "source": [
    "# log p(w|c=1) + log p(w|c=0)\n",
    "asset_prob = np.exp(clf.feature_log_prob_[0])"
   ]
  },
  {
   "cell_type": "code",
   "execution_count": 386,
   "id": "16b12430",
   "metadata": {
    "ExecuteTime": {
     "end_time": "2022-12-15T21:31:42.307585Z",
     "start_time": "2022-12-15T21:31:42.166706Z"
    }
   },
   "outputs": [],
   "source": [
    "weights = pd.DataFrame([vectorizer.get_feature_names(), asset_prob.tolist()]).T\n",
    "weights.columns = [\"asset\", \"weight\"]\n",
    "# weights.sort_values(by=\"weight\", ascending=False).style\n",
    "# weights = weights[weights[\"weight\"]>weights[\"weight\"].mean()]"
   ]
  },
  {
   "cell_type": "markdown",
   "id": "d490fddd",
   "metadata": {},
   "source": [
    "## Correlation"
   ]
  },
  {
   "cell_type": "code",
   "execution_count": 387,
   "id": "1ff0fc23",
   "metadata": {
    "ExecuteTime": {
     "end_time": "2022-12-15T21:31:42.310198Z",
     "start_time": "2022-12-15T21:31:42.308633Z"
    }
   },
   "outputs": [],
   "source": [
    "# mat2 = pd.DataFrame(np.hstack([y_train.reshape(-1,1), X_train_arr.toarray()]), columns=[\"y\"]+vectorizer.get_feature_names())\n",
    "# corr = mat2.corr().iloc[1:, 0:1].sort_values(\"y\")\n",
    "# corr.plot(kind=\"bar\")\n",
    "# corr"
   ]
  },
  {
   "cell_type": "code",
   "execution_count": 388,
   "id": "870fb372",
   "metadata": {
    "ExecuteTime": {
     "end_time": "2022-12-15T21:31:42.312651Z",
     "start_time": "2022-12-15T21:31:42.311181Z"
    }
   },
   "outputs": [],
   "source": [
    "# corr.style.background_gradient(cmap='coolwarm', axis=None)"
   ]
  },
  {
   "cell_type": "code",
   "execution_count": null,
   "id": "bb7a98c5",
   "metadata": {},
   "outputs": [],
   "source": []
  },
  {
   "cell_type": "markdown",
   "id": "b74392d1",
   "metadata": {},
   "source": [
    "## Weight Rescaling\n",
    "lowest level is 1, decide which one has higher importance score. start with 1"
   ]
  },
  {
   "cell_type": "code",
   "execution_count": 389,
   "id": "f0fb396f",
   "metadata": {
    "ExecuteTime": {
     "end_time": "2022-12-15T21:31:42.318028Z",
     "start_time": "2022-12-15T21:31:42.313468Z"
    }
   },
   "outputs": [
    {
     "data": {
      "text/plain": [
       "count   8307.00000\n",
       "mean       0.00012\n",
       "std        0.00096\n",
       "min        0.00000\n",
       "25%        0.00001\n",
       "50%        0.00002\n",
       "75%        0.00005\n",
       "max        0.05279\n",
       "Name: weight, dtype: float64"
      ]
     },
     "execution_count": 389,
     "metadata": {},
     "output_type": "execute_result"
    }
   ],
   "source": [
    "x = weights[\"weight\"].astype(float)\n",
    "x.describe()"
   ]
  },
  {
   "cell_type": "markdown",
   "id": "8eff53c7",
   "metadata": {
    "ExecuteTime": {
     "end_time": "2022-12-07T22:41:22.564446Z",
     "start_time": "2022-12-07T22:41:22.557939Z"
    }
   },
   "source": [
    "### Three levels (prefer)"
   ]
  },
  {
   "cell_type": "code",
   "execution_count": 390,
   "id": "11a12c84",
   "metadata": {
    "ExecuteTime": {
     "end_time": "2022-12-15T21:31:42.320550Z",
     "start_time": "2022-12-15T21:31:42.318829Z"
    }
   },
   "outputs": [],
   "source": [
    "num_levels = 3\n",
    "color_opts = ['lightskyblue', 'turquoise', 'orange', 'blue', 'red']"
   ]
  },
  {
   "cell_type": "code",
   "execution_count": 391,
   "id": "087e2056",
   "metadata": {
    "ExecuteTime": {
     "end_time": "2022-12-15T21:31:42.328927Z",
     "start_time": "2022-12-15T21:31:42.321302Z"
    }
   },
   "outputs": [],
   "source": [
    "xx = pd.concat([weights[\"asset\"], x, pd.cut(x, num_levels)], axis=1)\n",
    "xx.columns = [\"asset\", \"weight\", \"bins\"]\n",
    "xx[\"bins\"] = xx[\"bins\"].map(lambda x: f\"[{str(x.left)}, {str(x.right)}]\")\n",
    "bin_dict = sorted(xx[\"bins\"].unique().tolist())\n",
    "\n",
    "colors = dict(zip(bin_dict, color_opts[0:num_levels]))\n",
    "labels = dict(zip(bin_dict, range(1, len(bin_dict)+1)))"
   ]
  },
  {
   "cell_type": "code",
   "execution_count": 392,
   "id": "d7e531ca",
   "metadata": {
    "ExecuteTime": {
     "end_time": "2022-12-15T21:31:51.207296Z",
     "start_time": "2022-12-15T21:31:42.330270Z"
    }
   },
   "outputs": [
    {
     "data": {
      "image/png": "[encoded data removed]",
      "text/plain": [
       "<Figure size 1080x576 with 1 Axes>"
      ]
     },
     "metadata": {
      "needs_background": "light"
     },
     "output_type": "display_data"
    }
   ],
   "source": [
    "xx[\"color\"] = xx[\"bins\"].apply(lambda x: colors[x] if x in colors else \"NA\")\n",
    "xx[\"auto_score\"] = xx[\"bins\"].apply(lambda x: labels[x] if x in colors else \"NA\")\n",
    "\n",
    "plt.figure(figsize=(15,8))\n",
    "\n",
    "for idx, item in xx.groupby(\"bins\"):\n",
    "    if item.shape[0] ==0:\n",
    "        continue\n",
    "    plt.bar(x=item.index, height = item[\"weight\"], color=item[\"color\"], label=item[\"auto_score\"].iloc[0])\n",
    "\n",
    "for pair in bin_dict:\n",
    "    upper_line = eval(pair)[1]\n",
    "    plt.plot([0, xx.index[-1]],[upper_line,upper_line])\n",
    "\n",
    "    \n",
    "plt.xlabel(\"Asset Number\")\n",
    "plt.ylabel(\"Model Assign Weight\")\n",
    "plt.title(\"Asset auto standardized score\")\n",
    "plt.legend()\n",
    "plt.show()"
   ]
  },
  {
   "cell_type": "code",
   "execution_count": 393,
   "id": "253ae683",
   "metadata": {
    "ExecuteTime": {
     "end_time": "2022-12-15T21:31:51.214707Z",
     "start_time": "2022-12-15T21:31:51.208088Z"
    }
   },
   "outputs": [
    {
     "data": {
      "text/html": [
       "<div>\n",
       "<style scoped>\n",
       "    .dataframe tbody tr th:only-of-type {\n",
       "        vertical-align: middle;\n",
       "    }\n",
       "\n",
       "    .dataframe tbody tr th {\n",
       "        vertical-align: top;\n",
       "    }\n",
       "\n",
       "    .dataframe thead th {\n",
       "        text-align: right;\n",
       "    }\n",
       "</style>\n",
       "<table border=\"1\" class=\"dataframe\">\n",
       "  <thead>\n",
       "    <tr style=\"text-align: right;\">\n",
       "      <th></th>\n",
       "      <th>asset</th>\n",
       "      <th>auto_score</th>\n",
       "    </tr>\n",
       "  </thead>\n",
       "  <tbody>\n",
       "    <tr>\n",
       "      <th>0</th>\n",
       "      <td>https://www.rockwellautomation.com</td>\n",
       "      <td>1</td>\n",
       "    </tr>\n",
       "    <tr>\n",
       "      <th>1</th>\n",
       "      <td>https://www.rockwellautomation.com/%20e300</td>\n",
       "      <td>1</td>\n",
       "    </tr>\n",
       "    <tr>\n",
       "      <th>2</th>\n",
       "      <td>https://www.rockwellautomation.com//404</td>\n",
       "      <td>1</td>\n",
       "    </tr>\n",
       "    <tr>\n",
       "      <th>3</th>\n",
       "      <td>https://www.rockwellautomation.com/404</td>\n",
       "      <td>1</td>\n",
       "    </tr>\n",
       "    <tr>\n",
       "      <th>4</th>\n",
       "      <td>https://www.rockwellautomation.com/answers/det...</td>\n",
       "      <td>1</td>\n",
       "    </tr>\n",
       "    <tr>\n",
       "      <th>...</th>\n",
       "      <td>...</td>\n",
       "      <td>...</td>\n",
       "    </tr>\n",
       "    <tr>\n",
       "      <th>8302</th>\n",
       "      <td>https://www.rockwellautomation.com/webappng/si...</td>\n",
       "      <td>1</td>\n",
       "    </tr>\n",
       "    <tr>\n",
       "      <th>8303</th>\n",
       "      <td>https://www.rockwellautomation.com/webex</td>\n",
       "      <td>1</td>\n",
       "    </tr>\n",
       "    <tr>\n",
       "      <th>8304</th>\n",
       "      <td>https://www.rockwellautomation.com/webex.com</td>\n",
       "      <td>1</td>\n",
       "    </tr>\n",
       "    <tr>\n",
       "      <th>8305</th>\n",
       "      <td>https://www.rockwellautomation.com/whitepaper-...</td>\n",
       "      <td>1</td>\n",
       "    </tr>\n",
       "    <tr>\n",
       "      <th>8306</th>\n",
       "      <td>https://www.rockwellautomation.com/zh-tw</td>\n",
       "      <td>1</td>\n",
       "    </tr>\n",
       "  </tbody>\n",
       "</table>\n",
       "<p>8307 rows × 2 columns</p>\n",
       "</div>"
      ],
      "text/plain": [
       "                                                  asset auto_score\n",
       "0                    https://www.rockwellautomation.com          1\n",
       "1            https://www.rockwellautomation.com/%20e300          1\n",
       "2               https://www.rockwellautomation.com//404          1\n",
       "3                https://www.rockwellautomation.com/404          1\n",
       "4     https://www.rockwellautomation.com/answers/det...          1\n",
       "...                                                 ...        ...\n",
       "8302  https://www.rockwellautomation.com/webappng/si...          1\n",
       "8303           https://www.rockwellautomation.com/webex          1\n",
       "8304       https://www.rockwellautomation.com/webex.com          1\n",
       "8305  https://www.rockwellautomation.com/whitepaper-...          1\n",
       "8306           https://www.rockwellautomation.com/zh-tw          1\n",
       "\n",
       "[8307 rows x 2 columns]"
      ]
     },
     "execution_count": 393,
     "metadata": {},
     "output_type": "execute_result"
    }
   ],
   "source": [
    "xx[[\"asset\", \"auto_score\"]]"
   ]
  },
  {
   "cell_type": "code",
   "execution_count": 394,
   "id": "aefe173b",
   "metadata": {
    "ExecuteTime": {
     "end_time": "2022-12-15T21:31:51.221007Z",
     "start_time": "2022-12-15T21:31:51.215680Z"
    }
   },
   "outputs": [
    {
     "data": {
      "text/html": [
       "<div>\n",
       "<style scoped>\n",
       "    .dataframe tbody tr th:only-of-type {\n",
       "        vertical-align: middle;\n",
       "    }\n",
       "\n",
       "    .dataframe tbody tr th {\n",
       "        vertical-align: top;\n",
       "    }\n",
       "\n",
       "    .dataframe thead th {\n",
       "        text-align: right;\n",
       "    }\n",
       "</style>\n",
       "<table border=\"1\" class=\"dataframe\">\n",
       "  <thead>\n",
       "    <tr style=\"text-align: right;\">\n",
       "      <th></th>\n",
       "      <th>asset</th>\n",
       "      <th>weight</th>\n",
       "      <th>bins</th>\n",
       "      <th>color</th>\n",
       "      <th>auto_score</th>\n",
       "    </tr>\n",
       "  </thead>\n",
       "  <tbody>\n",
       "    <tr>\n",
       "      <th>1301</th>\n",
       "      <td>https://www.rockwellautomation.com/en-us</td>\n",
       "      <td>0.04224</td>\n",
       "      <td>[0.0352, 0.0528]</td>\n",
       "      <td>orange</td>\n",
       "      <td>3</td>\n",
       "    </tr>\n",
       "    <tr>\n",
       "      <th>6752</th>\n",
       "      <td>https://www.rockwellautomation.com/products/ha...</td>\n",
       "      <td>0.02844</td>\n",
       "      <td>[0.0176, 0.0352]</td>\n",
       "      <td>turquoise</td>\n",
       "      <td>2</td>\n",
       "    </tr>\n",
       "    <tr>\n",
       "      <th>7992</th>\n",
       "      <td>https://www.rockwellautomation.com/search</td>\n",
       "      <td>0.05279</td>\n",
       "      <td>[0.0352, 0.0528]</td>\n",
       "      <td>orange</td>\n",
       "      <td>3</td>\n",
       "    </tr>\n",
       "  </tbody>\n",
       "</table>\n",
       "</div>"
      ],
      "text/plain": [
       "                                                  asset  weight  \\\n",
       "1301           https://www.rockwellautomation.com/en-us 0.04224   \n",
       "6752  https://www.rockwellautomation.com/products/ha... 0.02844   \n",
       "7992          https://www.rockwellautomation.com/search 0.05279   \n",
       "\n",
       "                  bins      color auto_score  \n",
       "1301  [0.0352, 0.0528]     orange          3  \n",
       "6752  [0.0176, 0.0352]  turquoise          2  \n",
       "7992  [0.0352, 0.0528]     orange          3  "
      ]
     },
     "execution_count": 394,
     "metadata": {},
     "output_type": "execute_result"
    }
   ],
   "source": [
    "xx[xx[\"auto_score\"]>1]"
   ]
  },
  {
   "cell_type": "code",
   "execution_count": null,
   "id": "cd5daf32",
   "metadata": {},
   "outputs": [],
   "source": []
  },
  {
   "cell_type": "markdown",
   "id": "f98d7a3b",
   "metadata": {},
   "source": [
    "### min-max Normalization"
   ]
  },
  {
   "cell_type": "code",
   "execution_count": null,
   "id": "eaddd466",
   "metadata": {
    "ExecuteTime": {
     "end_time": "2022-12-15T19:44:25.806240Z",
     "start_time": "2022-12-15T19:44:25.806234Z"
    }
   },
   "outputs": [],
   "source": [
    "x = weights[\"weight\"].astype(float) \n",
    "x = (x-x.min())/(x.max()-x.min()) * 5\n",
    "x.plot(kind=\"bar\")"
   ]
  },
  {
   "cell_type": "markdown",
   "id": "a1cf9f47",
   "metadata": {},
   "source": [
    "### z-score Standardization"
   ]
  },
  {
   "cell_type": "code",
   "execution_count": null,
   "id": "35dcd0eb",
   "metadata": {
    "ExecuteTime": {
     "end_time": "2022-12-15T19:44:25.806790Z",
     "start_time": "2022-12-15T19:44:25.806782Z"
    }
   },
   "outputs": [],
   "source": [
    "x = weights[\"weight\"].astype(float) \n",
    "x = 1 + ((x-x.mean())/x.std())\n",
    "x.plot(kind=\"bar\")"
   ]
  },
  {
   "cell_type": "code",
   "execution_count": null,
   "id": "7ab78289",
   "metadata": {},
   "outputs": [],
   "source": []
  },
  {
   "cell_type": "markdown",
   "id": "1c762bed",
   "metadata": {},
   "source": [
    "## Others "
   ]
  },
  {
   "cell_type": "code",
   "execution_count": null,
   "id": "554378e1",
   "metadata": {},
   "outputs": [],
   "source": []
  },
  {
   "cell_type": "code",
   "execution_count": null,
   "id": "2f944084",
   "metadata": {},
   "outputs": [],
   "source": []
  },
  {
   "cell_type": "markdown",
   "id": "30dc28fe",
   "metadata": {},
   "source": [
    "# Store model and prediction"
   ]
  },
  {
   "cell_type": "code",
   "execution_count": null,
   "id": "db82c4bd",
   "metadata": {
    "ExecuteTime": {
     "end_time": "2022-12-15T19:44:25.807262Z",
     "start_time": "2022-12-15T19:44:25.807255Z"
    }
   },
   "outputs": [],
   "source": [
    "import pickle"
   ]
  },
  {
   "cell_type": "code",
   "execution_count": null,
   "id": "7c82e93d",
   "metadata": {
    "ExecuteTime": {
     "end_time": "2022-12-15T19:44:25.808256Z",
     "start_time": "2022-12-15T19:44:25.808248Z"
    }
   },
   "outputs": [],
   "source": [
    "with open('model_v1.pkl','wb') as f:\n",
    "    pickle.dump(clf, f)"
   ]
  },
  {
   "cell_type": "code",
   "execution_count": null,
   "id": "beb1cd18",
   "metadata": {
    "ExecuteTime": {
     "end_time": "2022-12-15T19:44:25.809262Z",
     "start_time": "2022-12-15T19:44:25.809254Z"
    }
   },
   "outputs": [],
   "source": [
    "# load\n",
    "with open('model_v1.pkl', 'rb') as f:\n",
    "    clf2 = pickle.load(f)"
   ]
  },
  {
   "cell_type": "markdown",
   "id": "83439a3a",
   "metadata": {},
   "source": [
    "## Prediction/Test with the latest month data"
   ]
  },
  {
   "cell_type": "code",
   "execution_count": null,
   "id": "6082132f",
   "metadata": {},
   "outputs": [],
   "source": []
  },
  {
   "cell_type": "markdown",
   "id": "2936585c",
   "metadata": {},
   "source": [
    "# Post to AEM"
   ]
  },
  {
   "cell_type": "code",
   "execution_count": null,
   "id": "2a9bdd3d",
   "metadata": {},
   "outputs": [],
   "source": []
  },
  {
   "cell_type": "code",
   "execution_count": null,
   "id": "16149dcb",
   "metadata": {
    "ExecuteTime": {
     "end_time": "2022-12-12T20:20:39.995781Z",
     "start_time": "2022-12-12T20:20:39.995774Z"
    },
    "scrolled": true
   },
   "outputs": [],
   "source": [
    "# np.exp(clf2.feature_log_prob_[0])"
   ]
  },
  {
   "cell_type": "code",
   "execution_count": null,
   "id": "7b1e7b7c",
   "metadata": {},
   "outputs": [],
   "source": []
  },
  {
   "cell_type": "code",
   "execution_count": null,
   "id": "33c62ef7",
   "metadata": {},
   "outputs": [],
   "source": []
  },
  {
   "cell_type": "code",
   "execution_count": null,
   "id": "cc08e878",
   "metadata": {},
   "outputs": [],
   "source": []
  },
  {
   "cell_type": "code",
   "execution_count": null,
   "id": "bb5ba2d0",
   "metadata": {},
   "outputs": [],
   "source": []
  },
  {
   "cell_type": "markdown",
   "id": "16204d08",
   "metadata": {},
   "source": [
    "# Checking"
   ]
  },
  {
   "cell_type": "code",
   "execution_count": null,
   "id": "8470b0c6",
   "metadata": {},
   "outputs": [],
   "source": []
  }
 ],
 "metadata": {
  "kernelspec": {
   "display_name": "Python 3 (ipykernel)",
   "language": "python",
   "name": "python3"
  },
  "language_info": {
   "codemirror_mode": {
    "name": "ipython",
    "version": 3
   },
   "file_extension": ".py",
   "mimetype": "text/x-python",
   "name": "python",
   "nbconvert_exporter": "python",
   "pygments_lexer": "ipython3",
   "version": "3.9.7"
  },
  "toc": {
   "base_numbering": 1,
   "nav_menu": {},
   "number_sections": true,
   "sideBar": true,
   "skip_h1_title": false,
   "title_cell": "Table of Contents",
   "title_sidebar": "Contents",
   "toc_cell": false,
   "toc_position": {
    "height": "calc(100% - 180px)",
    "left": "10px",
    "top": "150px",
    "width": "341.812px"
   },
   "toc_section_display": true,
   "toc_window_display": true
  }
 },
 "nbformat": 4,
 "nbformat_minor": 5
}
