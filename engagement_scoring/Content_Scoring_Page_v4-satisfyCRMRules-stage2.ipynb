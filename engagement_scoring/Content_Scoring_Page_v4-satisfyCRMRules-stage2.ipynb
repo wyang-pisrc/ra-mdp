{
 "cells": [
  {
   "cell_type": "markdown",
   "id": "40fe2f74",
   "metadata": {},
   "source": [
    "# Init"
   ]
  },
  {
   "cell_type": "markdown",
   "id": "d6b62799",
   "metadata": {},
   "source": [
    "## Utils"
   ]
  },
  {
   "cell_type": "code",
   "execution_count": 1,
   "id": "6d8c3275",
   "metadata": {
    "ExecuteTime": {
     "end_time": "2022-12-16T16:43:04.611684Z",
     "start_time": "2022-12-16T16:43:02.914872Z"
    }
   },
   "outputs": [],
   "source": [
    "from contentScoreShareUtils import * \n",
    "VERSION = \"v1.2\""
   ]
  },
  {
   "cell_type": "markdown",
   "id": "d5243ed3",
   "metadata": {},
   "source": [
    "# Data"
   ]
  },
  {
   "cell_type": "markdown",
   "id": "ba5a5d32",
   "metadata": {},
   "source": [
    "## Load Data"
   ]
  },
  {
   "cell_type": "markdown",
   "id": "a7ba961c",
   "metadata": {
    "ExecuteTime": {
     "end_time": "2022-12-07T21:11:39.137646Z",
     "start_time": "2022-12-07T21:11:39.131786Z"
    }
   },
   "source": [
    "### elo.contact (mcvisid_elqid_email)\n",
    "- conclusion\n",
    "    - every elqid should have a matched email. \n",
    "    - every elqid is corresponding with one Form. So, one visitor can have multiple elqid\n",
    "    - not all the email can be found on CRM.Lead table\n",
    "    - <font color=red>if shared EloquaContactId or EmailAddress = aggregate as one User (not handle yet)</font>\n",
    "- Latest one month\n",
    "    - <font color=red>all mcvisid in mcvisid_elqid_email are the positive signal: </font>\n",
    "    - all other mcvisid not in mcvisid_elqid_email but in aem_raw is the negative signal: \n",
    "    \n",
    "- mcvisid_elqid_email_all: no time range selection\n",
    "\n",
    "<!-- WITH TMP1 AS (\n",
    "SELECT DISTINCT [EloquaContactId], [mcvisid]\n",
    "FROM [Staging].[aem].[RawTraffic]\n",
    "WHERE EloquaContactId <> ''\n",
    "), \n",
    "\n",
    "TMP2 AS (\n",
    "SELECT DISTINCT  TMP1.[mcvisid], elq.EloquaContactId, LOWER(elq.[EmailAddress]) AS \"EmailAddress\"\n",
    "FROM [Staging].[elq].[Contact] AS elq\n",
    "INNER JOIN TMP1 ON TMP1.EloquaContactId = elq.EloquaContactId\n",
    "WHERE elq.EloquaContactId <> ''\n",
    ")\n",
    "\n",
    "SELECT *\n",
    "FROM TMP2 -->\n",
    "\n",
    "- mcvisid_elqid_email_all: VisitStartDateTime > '2022-04-21'\n",
    "\n",
    "\n",
    "<!-- WITH TMP1 AS (\n",
    "SELECT DISTINCT [EloquaContactId], [mcvisid]\n",
    "FROM [Staging].[aem].[RawTraffic]\n",
    "WHERE EloquaContactId <> '' AND VisitStartDateTime > '2022-04-21'\n",
    "), \n",
    "\n",
    "TMP2 AS (\n",
    "SELECT DISTINCT  TMP1.[mcvisid], elq.EloquaContactId, LOWER(elq.[EmailAddress]) AS \"EmailAddress\"\n",
    "FROM [Staging].[elq].[Contact] AS elq\n",
    "INNER JOIN TMP1 ON TMP1.EloquaContactId = elq.EloquaContactId\n",
    "WHERE elq.EloquaContactId <> ''\n",
    ")\n",
    "\n",
    "SELECT *\n",
    "FROM TMP2 -->"
   ]
  },
  {
   "cell_type": "code",
   "execution_count": 2,
   "id": "3e1dff5d",
   "metadata": {
    "ExecuteTime": {
     "end_time": "2022-12-16T16:43:05.875079Z",
     "start_time": "2022-12-16T16:43:04.612598Z"
    }
   },
   "outputs": [],
   "source": [
    "email_mcvisid = pd.read_csv(\"mcvisid_elqid_email_all.csv\")\n",
    "email_mcvisid, drop_mcvisid = email_cleanup(email_mcvisid, \"EmailAddress\")"
   ]
  },
  {
   "cell_type": "markdown",
   "id": "a06123e9",
   "metadata": {},
   "source": [
    "#### positive label 1\n",
    "- if can find the elq contact ID, then treated as positive"
   ]
  },
  {
   "cell_type": "code",
   "execution_count": 3,
   "id": "fd2fc578",
   "metadata": {
    "ExecuteTime": {
     "end_time": "2022-12-16T16:43:05.937582Z",
     "start_time": "2022-12-16T16:43:05.877121Z"
    }
   },
   "outputs": [],
   "source": [
    "positive_mcvisid = email_mcvisid[\"mcvisid\"].drop_duplicates() ## all along the past, if mcvisid existed with corresponding elqid, then it is positive sigal"
   ]
  },
  {
   "cell_type": "markdown",
   "id": "6a8b329a",
   "metadata": {},
   "source": [
    "### crm Lead\n",
    "- unique EloquaContactId -> do some update on this table for the same ID\n",
    "- statuscodename: \n",
    "        ['New', 'Does not meet campaign criteria', 'Duplicate Lead', 'Already Active Opportunity', 'Insufficient information to contact', 'No buying intention', 'Not Decision Maker', 'Not buying or influence location', 'No Interest', 'Qualified', 'Unable to make contact (via phone,email)', 'No viable contact', 'Max Attempts', 'Unable to make contact', 'No RA solution', 'Assigned to Distribution', 'Bad Contact Information', 'Admin Only: Abandoned by Sales', 'Selling barrier to high', 'Not Buying Location', 'Unable to Process', 'Competitor/Non RA distributor', nan, 'Credit hold or watch', 'External Processing']\n",
    "- statecodename: \n",
    "        ['Open', 'Disqualified', 'Qualified', nan]\n",
    "- ra_generalengagementscore: \n",
    "        ['B4', nan, 'D4', 'A4', 'B1', 'B2', 'A2', 'D1', 'A1', 'A3', 'C2', 'C1', 'C4', 'B3', 'C3', 'D3', 'D2', '953810003.0']\n",
    "- ra_salesacceptedname: \n",
    "        [nan, 'Yes', 'No']\n"
   ]
  },
  {
   "cell_type": "code",
   "execution_count": 135,
   "id": "b9ce2e35",
   "metadata": {
    "ExecuteTime": {
     "end_time": "2022-12-16T21:52:58.576433Z",
     "start_time": "2022-12-16T21:52:43.661283Z"
    },
    "scrolled": true
   },
   "outputs": [],
   "source": [
    "_lead = pd.read_csv(\"crm_Lead_20221116_all.csv\", index_col=0)\n",
    "crm_lead, drop_rows = email_cleanup(_lead, \"emailaddress1\")\n",
    "orders = [ 'emailaddress1', 'leadid', 'leadqualitycodename', 'ra_datetelequalified', 'statecodename', 'statuscodename', 'ra_teleaccepted', 'ra_teleacceptedname', 'ra_teledisqualifyreasonname', 'ra_telequalified',  'ra_telerejectionreasonname', 'ra_telerepname', 'ra_salesqualifiedname', 'ra_salesrejectionreasonname', 'qualifyingopportunityidname','ra_opportunitygroupname', 'ra_opportunityname', 'ra_opportunitytype', 'ra_opportunitytypename', 'ra_opportunityzone', 'ra_opportunityzonename', 'ra_salesaccepted', 'ra_salesacceptedname', 'ra_salesdisqualifyreason', 'ra_salesdisqualifyreasonname', 'modifiedby', 'modifiedbyname', 'modifiedon', 'createdby', 'createdbyname', 'createdon', 'leadqualitycode', 'statecode', 'statuscode', \n",
    "          'accountid', 'accountidname', 'address1_addressid', 'address1_addresstypecode', 'address1_addresstypecodename', 'address1_city', 'address1_country', 'ra_teledisqualifyreason', 'ra_telequalifiedname', 'ra_telerejectionreason', 'ra_telerep',  'address1_county', 'ra_salesqualified', 'ra_opportunitygroup', 'ra_salesrejectionreason',  'address1_fax', 'address1_latitude', 'address1_line1', 'address1_line2', 'address1_line3', 'address1_longitude', 'address1_name', 'address1_postalcode', 'address1_postofficebox', 'address1_shippingmethodcode', 'address1_shippingmethodcodename', 'address1_stateorprovince', 'address1_telephone1', 'address1_telephone2', 'address1_telephone3', 'address1_upszone', 'address1_utcoffset', 'address2_addressid', 'address2_addresstypecode', 'address2_addresstypecodename', 'address2_city', 'address2_country', 'address2_county', 'address2_fax', 'address2_latitude', 'address2_line1', 'address2_line2', 'address2_line3', 'address2_longitude', 'address2_name', 'address2_postalcode', 'address2_postofficebox', 'address2_shippingmethodcode', 'address2_shippingmethodcodename', 'address2_stateorprovince', 'address2_telephone1', 'address2_telephone2', 'address2_telephone3', 'address2_upszone', 'address2_utcoffset', 'budgetamount', 'budgetamount_base', 'budgetstatus', 'budgetstatusname', 'campaignid', 'campaignidname', 'companyname', 'confirminterest', 'confirminterestname', 'contactid', 'contactidname', 'createdonbehalfby', 'createdonbehalfbyname', 'customerid', 'ra_datesalesaccepted', 'ra_datesalesqualified', 'ra_dateteleaccepted', 'ra_dateteleassigned', 'customeridname', 'customeridtype', 'decisionmaker', 'decisionmakername', 'donotbulkemail', 'donotbulkemailname', 'donotemail', 'donotemailname', 'donotfax', 'donotfaxname', 'donotphone', 'donotphonename', 'donotpostalmail', 'donotpostalmailname', 'donotsendmarketingmaterialname', 'donotsendmm', 'emailaddress2', 'emailaddress3', 'estimatedamount', 'estimatedamount_base', 'estimatedclosedate', 'estimatedvalue', 'evaluatefit', 'evaluatefitname', 'exchangerate', 'fax', 'firstname', 'followemail', 'followemailname', 'fullname', 'importsequencenumber', 'industrycode', 'industrycodename', 'initialcommunication', 'initialcommunicationname', 'isautocreatename', 'isprivatename', 'jobtitle', 'lastname', 'lastonholdtime', 'lastusedincampaign', 'leadsourcecode', 'leadsourcecodename', 'masterid', 'masterleadidname', 'merged', 'mergedname', 'middlename', 'mobilephone', 'modifiedonbehalfby', 'modifiedonbehalfbyname', 'msdyn_gdproptout', 'msdyn_gdproptoutname', 'msdyn_leadgrade', 'msdyn_leadgradename', 'msdyn_leadkpiid', 'msdyn_leadkpiidname', 'msdyn_leadscore', 'msdyn_leadscoretrend', 'msdyn_leadscoretrendname', 'msdyn_predictivescoreid', 'msdyn_predictivescoreidname', 'msdyn_salesassignmentresult', 'msdyn_salesassignmentresultname', 'msdyn_segmentid', 'msdyn_segmentidname', 'need', 'needname', 'numberofemployees', 'onholdtime', 'originatingcaseid', 'originatingcaseidname', 'overriddencreatedon', 'ownerid', 'owneridname', 'owneridtype', 'owningbusinessunit', 'owningteam', 'owninguser', 'pager', 'parentaccountid', 'parentaccountidname', 'parentcontactid', 'parentcontactidname', 'participatesinworkflow', 'participatesinworkflowname', 'preferredcontactmethodcode', 'preferredcontactmethodcodename', 'prioritycode', 'prioritycodename', 'processid', 'purchaseprocess', 'purchaseprocessname', 'purchasetimeframe', 'purchasetimeframename', 'qualifyingopportunityid', 'ra_account', 'ra_accountname', 'ra_areyouengagedwithraoradistributor', 'ra_areyouengagedwithraoradistributorname', 'ra_blockreroutetodistributor', 'ra_blockreroutetodistributorname', 'ra_businessprocess', 'ra_businessprocessname', 'ra_channeltomarket', 'ra_channeltomarketname', 'ra_cnvcmpmostrecent', 'ra_cnvcmporiginal', 'ra_cnvdatemostrecentcmp', 'ra_cnvdatemostrecentsrc', 'ra_cnvdateoriginal', 'ra_cnvsrccmpidmostrecent', 'ra_cnvsrccmpidoriginal', 'ra_cnvsrcmostrecent', 'ra_cnvsrcoriginal', 'ra_contact', 'ra_contactname', 'ra_datasrccode', 'ra_datemodified', 'ra_demandsource', 'ra_demandsourcename', 'ra_emailwhoknowswhom', 'ra_funding', 'ra_fundingname', 'ra_generalengagementscore', 'ra_isthereanactiveneed', 'ra_isthereanactiveneedname', 'ra_ketplaysection', 'ra_ketplaysectionname', 'ra_keyplayurl', 'ra_leadacceptanceduedate', 'ra_leadlineitemcount', 'ra_leadqualificationduedate', 'ra_leadstage', 'ra_leadstagename', 'ra_ledby', 'ra_ledbyname', 'ra_legacyleadid', 'ra_lmpcontactapr', 'ra_lmpdateassigned', 'ra_lmpdateclosed', 'ra_lmpdatecreated', 'ra_lmpdatemodified', 'ra_lmplink', 'ra_lmpopportunityproduct', 'ra_lmpopportunitystatus', 'ra_lmpopportunityvalue', 'ra_lmpopportunityvalue_base', 'ra_lmpowneremail', 'ra_lmpstatus', 'ra_parentlead', 'ra_parentleadname', 'ra_primarycontactidentified', 'ra_primarycontactidentifiedname', 'ra_reroutetodistributor', 'ra_reroutetodistributorname', 'ra_salesplanid', 'ra_salesplanidname', 'ra_secondarysourcecampaign', 'ra_secondarysourcecampaignname', 'ra_specificationposition', 'ra_specificationpositionname', 'ra_stateprovinceid', 'ra_stateprovinceidname', 'ra_wasteleperformed', 'ra_wasteleperformedname', 'ra_wouldyoulikefurthercontact', 'ra_wouldyoulikefurthercontactname', 'ra_z_internal_preventloopingofaccount', 'ra_z_internal_preventloopingofaccountname', 'ra_zcurrenter', 'ra_zpreviouser', 'ra_zsalesacceptancestageentered', 'relatedobjectid', 'relatedobjectidname', 'revenue', 'revenue_base', 'salesstage', 'salesstagecode', 'salesstagecodename', 'salesstagename', 'salutation', 'schedulefollowup_prospect', 'schedulefollowup_qualify', 'sic', 'slaid', 'slainvokedid', 'slainvokedidname', 'slaname', 'stageid', 'subject', 'teamsfollowed', 'telephone1', 'telephone2', 'telephone3', 'timezoneruleversionnumber', 'transactioncurrencyid', 'transactioncurrencyidname', 'utcconversiontimezonecode', 'websiteurl', 'owningbusinessunitname', 'ra_integrationsource', 'ra_integrationsourcename', 'ra_externalrecordid', 'ra_externalreroute', 'ra_externalreroutename',]\n",
    "crm_lead = crm_lead[orders].sort_values(by=\"modifiedon\")"
   ]
  },
  {
   "cell_type": "code",
   "execution_count": 5,
   "id": "be0c6f82",
   "metadata": {
    "ExecuteTime": {
     "end_time": "2022-12-16T16:44:05.605175Z",
     "start_time": "2022-12-16T16:43:13.817369Z"
    }
   },
   "outputs": [],
   "source": [
    "statecodename_positive_rules = {\"Qualified\": 1}\n",
    "statuscodename_positive_rules = {\"Already Active Opportunity\": 1, \"Assigned to Distribution\":1}\n",
    "crm_lead[\"statecode_signal\"] = crm_lead[\"statecodename\"].map(statecodename_positive_rules).fillna(0)\n",
    "crm_lead[\"statuscode_signal\"] = crm_lead[\"statuscodename\"].map(statuscodename_positive_rules).fillna(0)\n",
    "\n",
    "def label_assign_rules(x):\n",
    "    target_cols = x[[\"statuscode_signal\", \"statecode_signal\"]]\n",
    "    is_positive = target_cols.sum().sum()>0 # one of them is positive\n",
    "    return is_positive\n",
    "\n",
    "\n",
    "email_updated_label = crm_lead.groupby(\"emailaddress1\").apply(lambda x: label_assign_rules(x))\n",
    "email_updated_label = email_updated_label.reset_index()\n",
    "email_updated_label.columns = [\"EmailAddress\", \"label\"]"
   ]
  },
  {
   "cell_type": "markdown",
   "id": "e8c15945",
   "metadata": {},
   "source": [
    "#### sample output"
   ]
  },
  {
   "cell_type": "code",
   "execution_count": 136,
   "id": "4c4211ab",
   "metadata": {
    "ExecuteTime": {
     "end_time": "2022-12-16T21:53:00.014250Z",
     "start_time": "2022-12-16T21:52:58.579608Z"
    }
   },
   "outputs": [],
   "source": [
    "x = crm_lead[crm_lead[\"emailaddress1\"] == \"idy1983@163.com\"]\n",
    "x.to_excel(\"sample_lead-1.xlsx\")\n",
    "x = crm_lead[crm_lead[\"emailaddress1\"] == \"richard@modanz.com\"]\n",
    "x.to_excel(\"sample_lead-2.xlsx\")\n",
    "\n",
    "\n",
    "lead_size = crm_lead.groupby(\"emailaddress1\").size()\n",
    "a = lead_size[lead_size>10]\n",
    "b = email_updated_label[email_updated_label[\"label\"]==False][\"EmailAddress\"]\n",
    "neg_sample_list = a[a.index.isin(b.drop_duplicates())].sort_values()\n",
    "\n",
    "b = email_updated_label[email_updated_label[\"label\"]==True][\"EmailAddress\"]\n",
    "pos_sample_list = a[a.index.isin(b.drop_duplicates())].sort_values()\n",
    "\n",
    "with pd.ExcelWriter('sample_lead.xlsx') as writer:\n",
    "\n",
    "    x = crm_lead[crm_lead[\"emailaddress1\"] == \"jerry_li@lincolnelectric.com\"]\n",
    "    x.to_excel(writer, sheet_name=\"sample_lead-1-pos\")\n",
    "    x = crm_lead[crm_lead[\"emailaddress1\"] == \"pingpingzh@126.com\"]\n",
    "    x.to_excel(writer, sheet_name=\"sample_lead-2-pos\")\n",
    "    x = crm_lead[crm_lead[\"emailaddress1\"] == \"troy_jadro@virent.com\"]\n",
    "    x.to_excel(writer, sheet_name=\"sample_lead-1-neg\")\n",
    "    x = crm_lead[crm_lead[\"emailaddress1\"] == \"alovati@cosmopharma.com\"]\n",
    "    x.to_excel(writer, sheet_name=\"sample_lead-2-neg\")\n"
   ]
  },
  {
   "cell_type": "code",
   "execution_count": 129,
   "id": "7925cec3",
   "metadata": {
    "ExecuteTime": {
     "end_time": "2022-12-16T21:47:19.522307Z",
     "start_time": "2022-12-16T21:47:19.488775Z"
    }
   },
   "outputs": [],
   "source": []
  },
  {
   "cell_type": "code",
   "execution_count": null,
   "id": "46e68c9f",
   "metadata": {},
   "outputs": [],
   "source": []
  },
  {
   "cell_type": "markdown",
   "id": "fb552947",
   "metadata": {},
   "source": [
    "#### positive label 2\n",
    "- if can find the elq contact ID, and rules are satisfied in CRM table, then treated as positive \n",
    "- rules diagram: https://app.diagrams.net/#G1cZkJWofiA_C-lV5Iqe0PBud0n3IuZVuT"
   ]
  },
  {
   "cell_type": "code",
   "execution_count": 6,
   "id": "bb0cc4a8",
   "metadata": {
    "ExecuteTime": {
     "end_time": "2022-12-16T16:44:05.617402Z",
     "start_time": "2022-12-16T16:44:05.606078Z"
    }
   },
   "outputs": [
    {
     "name": "stdout",
     "output_type": "stream",
     "text": [
      "False    101227\n",
      "True      33925\n",
      "Name: label, dtype: int64\n"
     ]
    },
    {
     "data": {
      "text/html": [
       "<div>\n",
       "<style scoped>\n",
       "    .dataframe tbody tr th:only-of-type {\n",
       "        vertical-align: middle;\n",
       "    }\n",
       "\n",
       "    .dataframe tbody tr th {\n",
       "        vertical-align: top;\n",
       "    }\n",
       "\n",
       "    .dataframe thead th {\n",
       "        text-align: right;\n",
       "    }\n",
       "</style>\n",
       "<table border=\"1\" class=\"dataframe\">\n",
       "  <thead>\n",
       "    <tr style=\"text-align: right;\">\n",
       "      <th></th>\n",
       "      <th>EmailAddress</th>\n",
       "      <th>label</th>\n",
       "    </tr>\n",
       "  </thead>\n",
       "  <tbody>\n",
       "    <tr>\n",
       "      <th>121093</th>\n",
       "      <td>svirost@slb.com</td>\n",
       "      <td>False</td>\n",
       "    </tr>\n",
       "    <tr>\n",
       "      <th>84495</th>\n",
       "      <td>mbosman@ball.com</td>\n",
       "      <td>False</td>\n",
       "    </tr>\n",
       "    <tr>\n",
       "      <th>94468</th>\n",
       "      <td>nschroeder@coopertire.com</td>\n",
       "      <td>False</td>\n",
       "    </tr>\n",
       "    <tr>\n",
       "      <th>65287</th>\n",
       "      <td>jorge.quintanilla@alliancellc.com</td>\n",
       "      <td>False</td>\n",
       "    </tr>\n",
       "    <tr>\n",
       "      <th>20340</th>\n",
       "      <td>carlos.perez@brp.com</td>\n",
       "      <td>False</td>\n",
       "    </tr>\n",
       "    <tr>\n",
       "      <th>34243</th>\n",
       "      <td>dodge.bard@auerprecision.com</td>\n",
       "      <td>True</td>\n",
       "    </tr>\n",
       "    <tr>\n",
       "      <th>32615</th>\n",
       "      <td>dguey@stanion.com</td>\n",
       "      <td>True</td>\n",
       "    </tr>\n",
       "    <tr>\n",
       "      <th>110215</th>\n",
       "      <td>ryan.agnew@teck.com</td>\n",
       "      <td>True</td>\n",
       "    </tr>\n",
       "    <tr>\n",
       "      <th>39651</th>\n",
       "      <td>erjohnson@semprautilities.com</td>\n",
       "      <td>False</td>\n",
       "    </tr>\n",
       "    <tr>\n",
       "      <th>114566</th>\n",
       "      <td>sergio.docampo@synthon.com</td>\n",
       "      <td>False</td>\n",
       "    </tr>\n",
       "  </tbody>\n",
       "</table>\n",
       "</div>"
      ],
      "text/plain": [
       "                             EmailAddress  label\n",
       "121093                    svirost@slb.com  False\n",
       "84495                    mbosman@ball.com  False\n",
       "94468           nschroeder@coopertire.com  False\n",
       "65287   jorge.quintanilla@alliancellc.com  False\n",
       "20340                carlos.perez@brp.com  False\n",
       "34243        dodge.bard@auerprecision.com   True\n",
       "32615                   dguey@stanion.com   True\n",
       "110215                ryan.agnew@teck.com   True\n",
       "39651       erjohnson@semprautilities.com  False\n",
       "114566         sergio.docampo@synthon.com  False"
      ]
     },
     "execution_count": 6,
     "metadata": {},
     "output_type": "execute_result"
    }
   ],
   "source": [
    "print(email_updated_label[\"label\"].value_counts())\n",
    "email_updated_label.sample(10)"
   ]
  },
  {
   "cell_type": "code",
   "execution_count": null,
   "id": "793a3c24",
   "metadata": {},
   "outputs": [],
   "source": []
  },
  {
   "cell_type": "code",
   "execution_count": 7,
   "id": "c5eaf4df",
   "metadata": {
    "ExecuteTime": {
     "end_time": "2022-12-16T16:44:05.874780Z",
     "start_time": "2022-12-16T16:44:05.618599Z"
    }
   },
   "outputs": [],
   "source": [
    "mcvisid_labels = email_mcvisid.merge(email_updated_label, on=\"EmailAddress\", how=\"left\")\n",
    "mcvisid_labels[\"label\"].fillna(False, inplace=True)\n",
    "positive_mcvisid = mcvisid_labels[mcvisid_labels[\"label\"] == True][\"mcvisid\"]\n",
    "updated_labels = mcvisid_labels[[\"mcvisid\",\"label\"]].drop_duplicates()"
   ]
  },
  {
   "cell_type": "markdown",
   "id": "3ddd8456",
   "metadata": {},
   "source": [
    "#### correlation analysis"
   ]
  },
  {
   "cell_type": "code",
   "execution_count": null,
   "id": "14c6103a",
   "metadata": {
    "ExecuteTime": {
     "end_time": "2022-12-15T21:12:11.954185Z",
     "start_time": "2022-12-15T21:12:11.933912Z"
    }
   },
   "outputs": [],
   "source": []
  },
  {
   "cell_type": "markdown",
   "id": "c11e97bb",
   "metadata": {},
   "source": [
    "### AEM.raw \n",
    "```python\n",
    "'SessionVisitorId', 'VisitPageNumber', 'VisitNumber', 'NewVisit',\n",
    "'EventList', 'DateTime_UTC', 'PageURL', 'VisitReferrer',\n",
    "'VisitReferrerType', 'VisitorDomain', 'External_Audience',\n",
    "'External_AudienceSegment', 'External_Industry', 'External_Website',\n",
    "'EloquaContactId', 'EloquaGUID', 'mcvisid', 'GeoCity', 'GeoCountry',\n",
    "'GeoRegion', 'PDFurl', 'PDFpagecount', 'BingeId', 'BingeCriticalScore',\n",
    "'BingeScoredAssetPath', 'BingeScoredAssetScore', 'date', 'hour',\n",
    "'clean_PageURL', 'label'\n",
    "```"
   ]
  },
  {
   "cell_type": "code",
   "execution_count": 8,
   "id": "c30e4bde",
   "metadata": {
    "ExecuteTime": {
     "end_time": "2022-12-16T16:44:05.878022Z",
     "start_time": "2022-12-16T16:44:05.875801Z"
    }
   },
   "outputs": [],
   "source": [
    "usecols = [\n",
    "    \"mcvisid\", \"clean_PageURL\", \"label\", \"PDFurl\", \"BingeScoredAssetPath\", \"BingeId\", \"date\", \"hour\",\n",
    "    \"VisitReferrer\", \"VisitorDomain\", 'External_Audience',\n",
    "    'External_AudienceSegment', 'External_Industry', 'External_Website',\n",
    "    \"EloquaContactId\", \"PageURL\"\n",
    "]"
   ]
  },
  {
   "cell_type": "code",
   "execution_count": 9,
   "id": "d8437d96",
   "metadata": {
    "ExecuteTime": {
     "end_time": "2022-12-16T16:44:44.479895Z",
     "start_time": "2022-12-16T16:44:05.880292Z"
    }
   },
   "outputs": [],
   "source": [
    "# aem_raw = load_csv_batches(glob_pattern=\"./aem_raw/*.csv\", num=2, keep=\"last\") \n",
    "aem_raw = pd.read_csv(f\"stage1_raw_{VERSION}.csv\", nrows=None, usecols=usecols)"
   ]
  },
  {
   "cell_type": "code",
   "execution_count": 10,
   "id": "a797f9f6",
   "metadata": {
    "ExecuteTime": {
     "end_time": "2022-12-16T16:44:47.724720Z",
     "start_time": "2022-12-16T16:44:44.482289Z"
    }
   },
   "outputs": [
    {
     "data": {
      "text/html": [
       "<div>\n",
       "<style scoped>\n",
       "    .dataframe tbody tr th:only-of-type {\n",
       "        vertical-align: middle;\n",
       "    }\n",
       "\n",
       "    .dataframe tbody tr th {\n",
       "        vertical-align: top;\n",
       "    }\n",
       "\n",
       "    .dataframe thead th {\n",
       "        text-align: right;\n",
       "    }\n",
       "</style>\n",
       "<table border=\"1\" class=\"dataframe\">\n",
       "  <thead>\n",
       "    <tr style=\"text-align: right;\">\n",
       "      <th></th>\n",
       "      <th>page_visit_count</th>\n",
       "    </tr>\n",
       "    <tr>\n",
       "      <th>clean_PageURL</th>\n",
       "      <th></th>\n",
       "    </tr>\n",
       "  </thead>\n",
       "  <tbody>\n",
       "    <tr>\n",
       "      <th>https://www.rockwellautomation.com/products/details.440T-MSTUE11BA</th>\n",
       "      <td>1</td>\n",
       "    </tr>\n",
       "    <tr>\n",
       "      <th>https://www.rockwellautomation.com/products/details.800A-C2CR10</th>\n",
       "      <td>1</td>\n",
       "    </tr>\n",
       "    <tr>\n",
       "      <th>https://www.rockwellautomation.com/products/details.800A-C2CR0LC</th>\n",
       "      <td>1</td>\n",
       "    </tr>\n",
       "    <tr>\n",
       "      <th>https://www.rockwellautomation.com/products/details.800A-C2CR0L</th>\n",
       "      <td>1</td>\n",
       "    </tr>\n",
       "    <tr>\n",
       "      <th>https://www.rockwellautomation.com/products/details.800A-C2CR06</th>\n",
       "      <td>1</td>\n",
       "    </tr>\n",
       "    <tr>\n",
       "      <th>...</th>\n",
       "      <td>...</td>\n",
       "    </tr>\n",
       "    <tr>\n",
       "      <th>https://www.rockwellautomation.com/support</th>\n",
       "      <td>232691</td>\n",
       "    </tr>\n",
       "    <tr>\n",
       "      <th>https://www.rockwellautomation.com/products/hardware/allen-bradley</th>\n",
       "      <td>677975</td>\n",
       "    </tr>\n",
       "    <tr>\n",
       "      <th>https://www.rockwellautomation.com/lang-selection</th>\n",
       "      <td>1404213</td>\n",
       "    </tr>\n",
       "    <tr>\n",
       "      <th>https://www.rockwellautomation.com</th>\n",
       "      <td>1677584</td>\n",
       "    </tr>\n",
       "    <tr>\n",
       "      <th>https://www.rockwellautomation.com/search</th>\n",
       "      <td>1738860</td>\n",
       "    </tr>\n",
       "  </tbody>\n",
       "</table>\n",
       "<p>462391 rows × 1 columns</p>\n",
       "</div>"
      ],
      "text/plain": [
       "                                                    page_visit_count\n",
       "clean_PageURL                                                       \n",
       "https://www.rockwellautomation.com/products/det...                 1\n",
       "https://www.rockwellautomation.com/products/det...                 1\n",
       "https://www.rockwellautomation.com/products/det...                 1\n",
       "https://www.rockwellautomation.com/products/det...                 1\n",
       "https://www.rockwellautomation.com/products/det...                 1\n",
       "...                                                              ...\n",
       "https://www.rockwellautomation.com/support                    232691\n",
       "https://www.rockwellautomation.com/products/har...            677975\n",
       "https://www.rockwellautomation.com/lang-selection            1404213\n",
       "https://www.rockwellautomation.com                           1677584\n",
       "https://www.rockwellautomation.com/search                    1738860\n",
       "\n",
       "[462391 rows x 1 columns]"
      ]
     },
     "execution_count": 10,
     "metadata": {},
     "output_type": "execute_result"
    }
   ],
   "source": [
    "view3 = aem_raw.groupby(\"clean_PageURL\")[\"mcvisid\"].count().rename(\"page_visit_count\").to_frame()\n",
    "view3.sort_values(by=\"page_visit_count\")"
   ]
  },
  {
   "cell_type": "code",
   "execution_count": 11,
   "id": "5b7ceaac",
   "metadata": {
    "ExecuteTime": {
     "end_time": "2022-12-16T16:44:47.731919Z",
     "start_time": "2022-12-16T16:44:47.726331Z"
    }
   },
   "outputs": [
    {
     "data": {
      "text/html": [
       "<div>\n",
       "<style scoped>\n",
       "    .dataframe tbody tr th:only-of-type {\n",
       "        vertical-align: middle;\n",
       "    }\n",
       "\n",
       "    .dataframe tbody tr th {\n",
       "        vertical-align: top;\n",
       "    }\n",
       "\n",
       "    .dataframe thead th {\n",
       "        text-align: right;\n",
       "    }\n",
       "</style>\n",
       "<table border=\"1\" class=\"dataframe\">\n",
       "  <thead>\n",
       "    <tr style=\"text-align: right;\">\n",
       "      <th></th>\n",
       "      <th>page_visit_count</th>\n",
       "    </tr>\n",
       "    <tr>\n",
       "      <th>clean_PageURL</th>\n",
       "      <th></th>\n",
       "    </tr>\n",
       "  </thead>\n",
       "  <tbody>\n",
       "    <tr>\n",
       "      <th>https://www.rockwellautomation.com/company/events/in-person-events/automation-fair</th>\n",
       "      <td>108723</td>\n",
       "    </tr>\n",
       "    <tr>\n",
       "      <th>https://www.rockwellautomation.com/products/software/factorytalk</th>\n",
       "      <td>116044</td>\n",
       "    </tr>\n",
       "    <tr>\n",
       "      <th>https://www.rockwellautomation.com/sales</th>\n",
       "      <td>124975</td>\n",
       "    </tr>\n",
       "    <tr>\n",
       "      <th>https://www.rockwellautomation.com/products/hardware/allen-bradley/programmable-controllers</th>\n",
       "      <td>135873</td>\n",
       "    </tr>\n",
       "    <tr>\n",
       "      <th>https://www.rockwellautomation.com/support/product/product-compatibility-migration/product-lifecycle-status</th>\n",
       "      <td>155410</td>\n",
       "    </tr>\n",
       "    <tr>\n",
       "      <th>https://www.rockwellautomation.com/support/documentation/literature-library</th>\n",
       "      <td>155754</td>\n",
       "    </tr>\n",
       "    <tr>\n",
       "      <th>https://www.rockwellautomation.com/products</th>\n",
       "      <td>156632</td>\n",
       "    </tr>\n",
       "    <tr>\n",
       "      <th>https://www.rockwellautomation.com/company/about-us</th>\n",
       "      <td>165237</td>\n",
       "    </tr>\n",
       "    <tr>\n",
       "      <th>https://www.rockwellautomation.com/support/product/product-downloads</th>\n",
       "      <td>175463</td>\n",
       "    </tr>\n",
       "    <tr>\n",
       "      <th>https://www.rockwellautomation.com/support</th>\n",
       "      <td>232691</td>\n",
       "    </tr>\n",
       "    <tr>\n",
       "      <th>https://www.rockwellautomation.com/products/hardware/allen-bradley</th>\n",
       "      <td>677975</td>\n",
       "    </tr>\n",
       "    <tr>\n",
       "      <th>https://www.rockwellautomation.com/lang-selection</th>\n",
       "      <td>1404213</td>\n",
       "    </tr>\n",
       "    <tr>\n",
       "      <th>https://www.rockwellautomation.com</th>\n",
       "      <td>1677584</td>\n",
       "    </tr>\n",
       "    <tr>\n",
       "      <th>https://www.rockwellautomation.com/search</th>\n",
       "      <td>1738860</td>\n",
       "    </tr>\n",
       "  </tbody>\n",
       "</table>\n",
       "</div>"
      ],
      "text/plain": [
       "                                                    page_visit_count\n",
       "clean_PageURL                                                       \n",
       "https://www.rockwellautomation.com/company/even...            108723\n",
       "https://www.rockwellautomation.com/products/sof...            116044\n",
       "https://www.rockwellautomation.com/sales                      124975\n",
       "https://www.rockwellautomation.com/products/har...            135873\n",
       "https://www.rockwellautomation.com/support/prod...            155410\n",
       "https://www.rockwellautomation.com/support/docu...            155754\n",
       "https://www.rockwellautomation.com/products                   156632\n",
       "https://www.rockwellautomation.com/company/abou...            165237\n",
       "https://www.rockwellautomation.com/support/prod...            175463\n",
       "https://www.rockwellautomation.com/support                    232691\n",
       "https://www.rockwellautomation.com/products/har...            677975\n",
       "https://www.rockwellautomation.com/lang-selection            1404213\n",
       "https://www.rockwellautomation.com                           1677584\n",
       "https://www.rockwellautomation.com/search                    1738860"
      ]
     },
     "execution_count": 11,
     "metadata": {},
     "output_type": "execute_result"
    }
   ],
   "source": [
    "stopwords = view3[view3[\"page_visit_count\"]>100000].sort_values(\"page_visit_count\") # stopwords\n",
    "stopwords"
   ]
  },
  {
   "cell_type": "code",
   "execution_count": 12,
   "id": "91833048",
   "metadata": {
    "ExecuteTime": {
     "end_time": "2022-12-16T16:44:47.745305Z",
     "start_time": "2022-12-16T16:44:47.735251Z"
    }
   },
   "outputs": [
    {
     "data": {
      "text/plain": [
       "count    19555.000000\n",
       "mean       364.217489\n",
       "std       2365.259183\n",
       "min         11.000000\n",
       "25%         17.000000\n",
       "50%         33.000000\n",
       "75%        100.000000\n",
       "max      87730.000000\n",
       "Name: page_visit_count, dtype: float64"
      ]
     },
     "execution_count": 12,
     "metadata": {},
     "output_type": "execute_result"
    }
   ],
   "source": [
    "view4 = view3[(view3[\"page_visit_count\"]>10) & (view3[\"page_visit_count\"]<100000)]\n",
    "view4[\"page_visit_count\"].describe()"
   ]
  },
  {
   "cell_type": "code",
   "execution_count": 13,
   "id": "5ee8c700",
   "metadata": {
    "ExecuteTime": {
     "end_time": "2022-12-16T16:45:35.124342Z",
     "start_time": "2022-12-16T16:44:47.748691Z"
    }
   },
   "outputs": [
    {
     "name": "stdout",
     "output_type": "stream",
     "text": [
      "nan      11660898\n",
      "False     2894384\n",
      "True       195647\n",
      "Name: label, dtype: int64\n",
      "False    2894384\n",
      "True      195647\n",
      "Name: label, dtype: int64\n",
      "after drop high freq website:\n",
      " False    1521307\n",
      "True      104551\n",
      "Name: label, dtype: int64\n"
     ]
    }
   ],
   "source": [
    "stage1_raw = aem_raw.drop(columns=[\"label\"]).merge(updated_labels, on=\"mcvisid\", how=\"left\")\n",
    "print(stage1_raw[\"label\"].fillna(\"nan\").value_counts())\n",
    "# stage1_raw[\"label\"] = stage1_raw[\"label\"].fillna(False)\n",
    "stage1_raw.dropna(subset=[\"label\"], inplace=True)\n",
    "print(stage1_raw[\"label\"].fillna(\"nan\").value_counts())\n",
    "stage1_raw.to_csv(\"model_input_EDA\" + \"_\"+VERSION)\n",
    "stage1_raw = stage1_raw[~stage1_raw[\"clean_PageURL\"].isin(stopwords.index)] ## drop stopwords\n",
    "print(\"after drop high freq website:\\n\", stage1_raw[\"label\"].fillna(\"nan\").value_counts())"
   ]
  },
  {
   "cell_type": "markdown",
   "id": "92ff5ed3",
   "metadata": {},
   "source": [
    "## Summary\n",
    "positive_mcvisid is all the valid mcvisid that has elqID in AEM Raw"
   ]
  },
  {
   "cell_type": "markdown",
   "id": "292223f1",
   "metadata": {},
   "source": [
    "### unique version"
   ]
  },
  {
   "cell_type": "code",
   "execution_count": 14,
   "id": "794f1de7",
   "metadata": {
    "ExecuteTime": {
     "end_time": "2022-12-16T16:45:35.342457Z",
     "start_time": "2022-12-16T16:45:35.125884Z"
    }
   },
   "outputs": [
    {
     "data": {
      "text/html": [
       "<div>\n",
       "<style scoped>\n",
       "    .dataframe tbody tr th:only-of-type {\n",
       "        vertical-align: middle;\n",
       "    }\n",
       "\n",
       "    .dataframe tbody tr th {\n",
       "        vertical-align: top;\n",
       "    }\n",
       "\n",
       "    .dataframe thead th {\n",
       "        text-align: right;\n",
       "    }\n",
       "</style>\n",
       "<table border=\"1\" class=\"dataframe\">\n",
       "  <thead>\n",
       "    <tr style=\"text-align: right;\">\n",
       "      <th></th>\n",
       "      <th>mcvisid</th>\n",
       "      <th>mcvisid</th>\n",
       "    </tr>\n",
       "  </thead>\n",
       "  <tbody>\n",
       "    <tr>\n",
       "      <th>False</th>\n",
       "      <td>122861</td>\n",
       "      <td>0.950988</td>\n",
       "    </tr>\n",
       "    <tr>\n",
       "      <th>True</th>\n",
       "      <td>6332</td>\n",
       "      <td>0.049012</td>\n",
       "    </tr>\n",
       "  </tbody>\n",
       "</table>\n",
       "</div>"
      ],
      "text/plain": [
       "       mcvisid   mcvisid\n",
       "False   122861  0.950988\n",
       "True      6332  0.049012"
      ]
     },
     "execution_count": 14,
     "metadata": {},
     "output_type": "execute_result"
    }
   ],
   "source": [
    "aem_raw_unique_mcvisid = stage1_raw[\"mcvisid\"].drop_duplicates()\n",
    "labels = aem_raw_unique_mcvisid.isin(positive_mcvisid)\n",
    "freq = labels.value_counts()\n",
    "view_mcvisid = pd.concat([freq,freq/freq.sum()], axis=1)\n",
    "view_mcvisid"
   ]
  },
  {
   "cell_type": "markdown",
   "id": "8b2cccfb",
   "metadata": {},
   "source": [
    "### non-unique version"
   ]
  },
  {
   "cell_type": "code",
   "execution_count": 15,
   "id": "988c53f3",
   "metadata": {
    "ExecuteTime": {
     "end_time": "2022-12-16T16:45:35.447972Z",
     "start_time": "2022-12-16T16:45:35.343739Z"
    }
   },
   "outputs": [
    {
     "data": {
      "text/html": [
       "<div>\n",
       "<style scoped>\n",
       "    .dataframe tbody tr th:only-of-type {\n",
       "        vertical-align: middle;\n",
       "    }\n",
       "\n",
       "    .dataframe tbody tr th {\n",
       "        vertical-align: top;\n",
       "    }\n",
       "\n",
       "    .dataframe thead th {\n",
       "        text-align: right;\n",
       "    }\n",
       "</style>\n",
       "<table border=\"1\" class=\"dataframe\">\n",
       "  <thead>\n",
       "    <tr style=\"text-align: right;\">\n",
       "      <th></th>\n",
       "      <th>mcvisid</th>\n",
       "      <th>mcvisid</th>\n",
       "    </tr>\n",
       "  </thead>\n",
       "  <tbody>\n",
       "    <tr>\n",
       "      <th>False</th>\n",
       "      <td>1512484</td>\n",
       "      <td>0.930268</td>\n",
       "    </tr>\n",
       "    <tr>\n",
       "      <th>True</th>\n",
       "      <td>113374</td>\n",
       "      <td>0.069732</td>\n",
       "    </tr>\n",
       "  </tbody>\n",
       "</table>\n",
       "</div>"
      ],
      "text/plain": [
       "       mcvisid   mcvisid\n",
       "False  1512484  0.930268\n",
       "True    113374  0.069732"
      ]
     },
     "execution_count": 15,
     "metadata": {},
     "output_type": "execute_result"
    }
   ],
   "source": [
    "labels = stage1_raw[\"mcvisid\"].isin(positive_mcvisid)\n",
    "freq = labels.value_counts()\n",
    "view_mcvisid = pd.concat([freq,freq/freq.sum()], axis=1)\n",
    "view_mcvisid"
   ]
  },
  {
   "cell_type": "markdown",
   "id": "8784ec1f",
   "metadata": {},
   "source": [
    "### page conversion ratio"
   ]
  },
  {
   "cell_type": "code",
   "execution_count": 137,
   "id": "070e685e",
   "metadata": {
    "ExecuteTime": {
     "end_time": "2022-12-16T21:57:16.872147Z",
     "start_time": "2022-12-16T21:57:15.899014Z"
    }
   },
   "outputs": [],
   "source": [
    "total = stage1_raw.groupby(\"clean_PageURL\").size().rename(\"total\")\n",
    "pos = stage1_raw.groupby(\"clean_PageURL\")[\"label\"].sum().rename(\"positive\") * 1\n",
    "aa = pd.concat([total, pos], axis=1)\n",
    "aa[\"ratio\"] = aa[\"positive\"]/aa[\"total\"]\n",
    "aa[\"negative\"] = (aa[\"total\"] - aa[\"positive\"])*1"
   ]
  },
  {
   "cell_type": "code",
   "execution_count": 138,
   "id": "f2281bb9",
   "metadata": {
    "ExecuteTime": {
     "end_time": "2022-12-16T21:57:19.157314Z",
     "start_time": "2022-12-16T21:57:19.129121Z"
    }
   },
   "outputs": [
    {
     "data": {
      "text/html": [
       "<div>\n",
       "<style scoped>\n",
       "    .dataframe tbody tr th:only-of-type {\n",
       "        vertical-align: middle;\n",
       "    }\n",
       "\n",
       "    .dataframe tbody tr th {\n",
       "        vertical-align: top;\n",
       "    }\n",
       "\n",
       "    .dataframe thead th {\n",
       "        text-align: right;\n",
       "    }\n",
       "</style>\n",
       "<table border=\"1\" class=\"dataframe\">\n",
       "  <thead>\n",
       "    <tr style=\"text-align: right;\">\n",
       "      <th></th>\n",
       "      <th>total</th>\n",
       "      <th>positive</th>\n",
       "      <th>ratio</th>\n",
       "      <th>negative</th>\n",
       "    </tr>\n",
       "    <tr>\n",
       "      <th>clean_PageURL</th>\n",
       "      <th></th>\n",
       "      <th></th>\n",
       "      <th></th>\n",
       "      <th></th>\n",
       "    </tr>\n",
       "  </thead>\n",
       "  <tbody>\n",
       "    <tr>\n",
       "      <th>https://www.rockwellautomation.com/products/hardware/allen-bradley/network-security-and-infrastructure/controlnet-networks</th>\n",
       "      <td>439</td>\n",
       "      <td>22</td>\n",
       "      <td>0.050114</td>\n",
       "      <td>417</td>\n",
       "    </tr>\n",
       "    <tr>\n",
       "      <th>https://www.rockwellautomation.com/products/details.5069-IB16</th>\n",
       "      <td>419</td>\n",
       "      <td>21</td>\n",
       "      <td>0.050119</td>\n",
       "      <td>398</td>\n",
       "    </tr>\n",
       "    <tr>\n",
       "      <th>https://www.rockwellautomation.com/products/details.1783-LMS8</th>\n",
       "      <td>558</td>\n",
       "      <td>28</td>\n",
       "      <td>0.050179</td>\n",
       "      <td>530</td>\n",
       "    </tr>\n",
       "    <tr>\n",
       "      <th>https://www.rockwellautomation.com/products/hardware/allen-bradley/energy-monitoring/1426-powermonitor-5000</th>\n",
       "      <td>1076</td>\n",
       "      <td>54</td>\n",
       "      <td>0.050186</td>\n",
       "      <td>1022</td>\n",
       "    </tr>\n",
       "    <tr>\n",
       "      <th>https://www.rockwellautomation.com/products/software/factorytalk/designsuite</th>\n",
       "      <td>2409</td>\n",
       "      <td>121</td>\n",
       "      <td>0.050228</td>\n",
       "      <td>2288</td>\n",
       "    </tr>\n",
       "    <tr>\n",
       "      <th>...</th>\n",
       "      <td>...</td>\n",
       "      <td>...</td>\n",
       "      <td>...</td>\n",
       "      <td>...</td>\n",
       "    </tr>\n",
       "    <tr>\n",
       "      <th>https://www.rockwellautomation.com/company/events/webinars/networks-security-epc</th>\n",
       "      <td>120</td>\n",
       "      <td>25</td>\n",
       "      <td>0.208333</td>\n",
       "      <td>95</td>\n",
       "    </tr>\n",
       "    <tr>\n",
       "      <th>https://www.rockwellautomation.com/content/rockwell-automation/www/us/company/events/in-person-events/automation-fair/attend</th>\n",
       "      <td>214</td>\n",
       "      <td>48</td>\n",
       "      <td>0.224299</td>\n",
       "      <td>166</td>\n",
       "    </tr>\n",
       "    <tr>\n",
       "      <th>https://www.rockwellautomation.com/support/documentation/technical/independent-cart-technology/magnemover-lite</th>\n",
       "      <td>151</td>\n",
       "      <td>34</td>\n",
       "      <td>0.225166</td>\n",
       "      <td>117</td>\n",
       "    </tr>\n",
       "    <tr>\n",
       "      <th>https://www.rockwellautomation.com/capabilities/connected-enterprise/management-perspectives</th>\n",
       "      <td>203</td>\n",
       "      <td>48</td>\n",
       "      <td>0.236453</td>\n",
       "      <td>155</td>\n",
       "    </tr>\n",
       "    <tr>\n",
       "      <th>https://www.rockwellautomation.com/products/software/rockwell-software</th>\n",
       "      <td>787</td>\n",
       "      <td>242</td>\n",
       "      <td>0.307497</td>\n",
       "      <td>545</td>\n",
       "    </tr>\n",
       "  </tbody>\n",
       "</table>\n",
       "<p>1098 rows × 4 columns</p>\n",
       "</div>"
      ],
      "text/plain": [
       "                                                    total positive     ratio  \\\n",
       "clean_PageURL                                                                  \n",
       "https://www.rockwellautomation.com/products/har...    439       22  0.050114   \n",
       "https://www.rockwellautomation.com/products/det...    419       21  0.050119   \n",
       "https://www.rockwellautomation.com/products/det...    558       28  0.050179   \n",
       "https://www.rockwellautomation.com/products/har...   1076       54  0.050186   \n",
       "https://www.rockwellautomation.com/products/sof...   2409      121  0.050228   \n",
       "...                                                   ...      ...       ...   \n",
       "https://www.rockwellautomation.com/company/even...    120       25  0.208333   \n",
       "https://www.rockwellautomation.com/content/rock...    214       48  0.224299   \n",
       "https://www.rockwellautomation.com/support/docu...    151       34  0.225166   \n",
       "https://www.rockwellautomation.com/capabilities...    203       48  0.236453   \n",
       "https://www.rockwellautomation.com/products/sof...    787      242  0.307497   \n",
       "\n",
       "                                                   negative  \n",
       "clean_PageURL                                                \n",
       "https://www.rockwellautomation.com/products/har...      417  \n",
       "https://www.rockwellautomation.com/products/det...      398  \n",
       "https://www.rockwellautomation.com/products/det...      530  \n",
       "https://www.rockwellautomation.com/products/har...     1022  \n",
       "https://www.rockwellautomation.com/products/sof...     2288  \n",
       "...                                                     ...  \n",
       "https://www.rockwellautomation.com/company/even...       95  \n",
       "https://www.rockwellautomation.com/content/rock...      166  \n",
       "https://www.rockwellautomation.com/support/docu...      117  \n",
       "https://www.rockwellautomation.com/capabilities...      155  \n",
       "https://www.rockwellautomation.com/products/sof...      545  \n",
       "\n",
       "[1098 rows x 4 columns]"
      ]
     },
     "execution_count": 138,
     "metadata": {},
     "output_type": "execute_result"
    }
   ],
   "source": [
    "aa[(aa[\"total\"]>100) & (aa[\"ratio\"]>0.05)].sort_values(\"ratio\")"
   ]
  },
  {
   "cell_type": "code",
   "execution_count": 139,
   "id": "cc01017b",
   "metadata": {
    "ExecuteTime": {
     "end_time": "2022-12-16T21:57:22.153570Z",
     "start_time": "2022-12-16T21:57:22.125322Z"
    }
   },
   "outputs": [
    {
     "data": {
      "text/html": [
       "<div>\n",
       "<style scoped>\n",
       "    .dataframe tbody tr th:only-of-type {\n",
       "        vertical-align: middle;\n",
       "    }\n",
       "\n",
       "    .dataframe tbody tr th {\n",
       "        vertical-align: top;\n",
       "    }\n",
       "\n",
       "    .dataframe thead th {\n",
       "        text-align: right;\n",
       "    }\n",
       "</style>\n",
       "<table border=\"1\" class=\"dataframe\">\n",
       "  <thead>\n",
       "    <tr style=\"text-align: right;\">\n",
       "      <th></th>\n",
       "      <th>clean_PageURL</th>\n",
       "      <th>PageURL</th>\n",
       "    </tr>\n",
       "  </thead>\n",
       "  <tbody>\n",
       "  </tbody>\n",
       "</table>\n",
       "</div>"
      ],
      "text/plain": [
       "Empty DataFrame\n",
       "Columns: [clean_PageURL, PageURL]\n",
       "Index: []"
      ]
     },
     "execution_count": 139,
     "metadata": {},
     "output_type": "execute_result"
    }
   ],
   "source": [
    "url_maps[url_maps[\"clean_PageURL\"] == \"https://www.rockwellautomation.com/en-nz\"]"
   ]
  },
  {
   "cell_type": "code",
   "execution_count": 74,
   "id": "3a92f5fb",
   "metadata": {
    "ExecuteTime": {
     "end_time": "2022-12-16T17:43:32.497663Z",
     "start_time": "2022-12-16T17:43:32.027802Z"
    }
   },
   "outputs": [],
   "source": [
    "url_maps.drop_duplicates().to_csv(\"url_maps_\"+VERSION+\".csv\")"
   ]
  },
  {
   "cell_type": "code",
   "execution_count": 81,
   "id": "6b9b7534",
   "metadata": {
    "ExecuteTime": {
     "end_time": "2022-12-16T19:22:56.803525Z",
     "start_time": "2022-12-16T19:22:56.779235Z"
    }
   },
   "outputs": [
    {
     "data": {
      "text/html": [
       "<style type=\"text/css\">\n",
       "</style>\n",
       "<table id=\"T_85ae2_\">\n",
       "  <thead>\n",
       "    <tr>\n",
       "      <th class=\"blank level0\" >&nbsp;</th>\n",
       "      <th class=\"col_heading level0 col0\" >clean_PageURL</th>\n",
       "      <th class=\"col_heading level0 col1\" >PageURL</th>\n",
       "    </tr>\n",
       "  </thead>\n",
       "  <tbody>\n",
       "    <tr>\n",
       "      <th id=\"T_85ae2_level0_row0\" class=\"row_heading level0 row0\" >11368406</th>\n",
       "      <td id=\"T_85ae2_row0_col0\" class=\"data row0 col0\" >https://www.rockwellautomation.com/products/details.800TC-H33A2</td>\n",
       "      <td id=\"T_85ae2_row0_col1\" class=\"data row0 col1\" >https://www.rockwellautomation.com/en-us/products/details.800TC-H33A2.html</td>\n",
       "    </tr>\n",
       "    <tr>\n",
       "      <th id=\"T_85ae2_level0_row1\" class=\"row_heading level0 row1\" >5389982</th>\n",
       "      <td id=\"T_85ae2_row1_col0\" class=\"data row1 col0\" >https://www.rockwellautomation.com/products/details.1783-US08T</td>\n",
       "      <td id=\"T_85ae2_row1_col1\" class=\"data row1 col1\" >https://www.rockwellautomation.com/es-mx/products/details.1783-US08T.html</td>\n",
       "    </tr>\n",
       "    <tr>\n",
       "      <th id=\"T_85ae2_level0_row2\" class=\"row_heading level0 row2\" >873051</th>\n",
       "      <td id=\"T_85ae2_row2_col0\" class=\"data row2 col0\" >https://www.rockwellautomation.com/products/software/factorytalk/innovationsuite/analytics</td>\n",
       "      <td id=\"T_85ae2_row2_col1\" class=\"data row2 col1\" >https://www.rockwellautomation.com/es-mx/products/software/factorytalk/innovationsuite/analytics.html</td>\n",
       "    </tr>\n",
       "    <tr>\n",
       "      <th id=\"T_85ae2_level0_row3\" class=\"row_heading level0 row3\" >6041745</th>\n",
       "      <td id=\"T_85ae2_row3_col0\" class=\"data row3 col0\" >https://www.rockwellautomation.com/capabilities/process-solutions/process-systems/plantpax-distributed-control-system/what-to-expect-from-plantpax-modern-dcs-playlist</td>\n",
       "      <td id=\"T_85ae2_row3_col1\" class=\"data row3 col1\" >https://www.rockwellautomation.com/en-mde/capabilities/process-solutions/process-systems/plantpax-distributed-control-system/what-to-expect-from-plantpax-modern-dcs-playlist.html</td>\n",
       "    </tr>\n",
       "    <tr>\n",
       "      <th id=\"T_85ae2_level0_row4\" class=\"row_heading level0 row4\" >2622347</th>\n",
       "      <td id=\"T_85ae2_row4_col0\" class=\"data row4 col0\" >https://www.rockwellautomation.com/products/details.700-HLT1U1-EX</td>\n",
       "      <td id=\"T_85ae2_row4_col1\" class=\"data row4 col1\" >https://www.rockwellautomation.com/es-mx/products/details.700-HLT1U1-EX.html</td>\n",
       "    </tr>\n",
       "    <tr>\n",
       "      <th id=\"T_85ae2_level0_row5\" class=\"row_heading level0 row5\" >13540129</th>\n",
       "      <td id=\"T_85ae2_row5_col0\" class=\"data row5 col0\" >https://www.rockwellautomation.com/products/details.700-HAX2A24</td>\n",
       "      <td id=\"T_85ae2_row5_col1\" class=\"data row5 col1\" >https://www.rockwellautomation.com/en-us/products/details.700-HAX2A24.html</td>\n",
       "    </tr>\n",
       "    <tr>\n",
       "      <th id=\"T_85ae2_level0_row6\" class=\"row_heading level0 row6\" >3587654</th>\n",
       "      <td id=\"T_85ae2_row6_col0\" class=\"data row6 col0\" >https://www.rockwellautomation.com/products/details.856T-BTR3</td>\n",
       "      <td id=\"T_85ae2_row6_col1\" class=\"data row6 col1\" >https://www.rockwellautomation.com/es-ar/products/details.856T-BTR3.html</td>\n",
       "    </tr>\n",
       "    <tr>\n",
       "      <th id=\"T_85ae2_level0_row7\" class=\"row_heading level0 row7\" >1010063</th>\n",
       "      <td id=\"T_85ae2_row7_col0\" class=\"data row7 col0\" >https://www.rockwellautomation.com/products/hardware/allen-bradley/energy-monitoring/1411-current-transformers</td>\n",
       "      <td id=\"T_85ae2_row7_col1\" class=\"data row7 col1\" >https://www.rockwellautomation.com/ja-jp/products/hardware/allen-bradley/energy-monitoring/1411-current-transformers.html</td>\n",
       "    </tr>\n",
       "    <tr>\n",
       "      <th id=\"T_85ae2_level0_row8\" class=\"row_heading level0 row8\" >5446759</th>\n",
       "      <td id=\"T_85ae2_row8_col0\" class=\"data row8 col0\" >https://www.rockwellautomation.com/products/details.100-K12KF400M</td>\n",
       "      <td id=\"T_85ae2_row8_col1\" class=\"data row8 col1\" >https://www.rockwellautomation.com/en-us/products/details.100-K12KF400M.html</td>\n",
       "    </tr>\n",
       "    <tr>\n",
       "      <th id=\"T_85ae2_level0_row9\" class=\"row_heading level0 row9\" >10241302</th>\n",
       "      <td id=\"T_85ae2_row9_col0\" class=\"data row9 col0\" >https://www.rockwellautomation.com/products/details.150-C251NBR</td>\n",
       "      <td id=\"T_85ae2_row9_col1\" class=\"data row9 col1\" >https://www.rockwellautomation.com/en-us/products/details.150-C251NBR.html</td>\n",
       "    </tr>\n",
       "    <tr>\n",
       "      <th id=\"T_85ae2_level0_row10\" class=\"row_heading level0 row10\" >2373261</th>\n",
       "      <td id=\"T_85ae2_row10_col0\" class=\"data row10 col0\" >https://www.rockwellautomation.com/products/details.190E-CNEJ2-CC16X</td>\n",
       "      <td id=\"T_85ae2_row10_col1\" class=\"data row10 col1\" >https://www.rockwellautomation.com/de-de/products/details.190E-CNEJ2-CC16X.html</td>\n",
       "    </tr>\n",
       "    <tr>\n",
       "      <th id=\"T_85ae2_level0_row11\" class=\"row_heading level0 row11\" >4612083</th>\n",
       "      <td id=\"T_85ae2_row11_col0\" class=\"data row11 col0\" >https://www.rockwellautomation.com/products/hardware/allen-bradley/circuit-and-load-protection/disconnect-switches/rotary-disconnect-switches</td>\n",
       "      <td id=\"T_85ae2_row11_col1\" class=\"data row11 col1\" >https://www.rockwellautomation.com/ko-kr/products/hardware/allen-bradley/circuit-and-load-protection/disconnect-switches/rotary-disconnect-switches.html</td>\n",
       "    </tr>\n",
       "    <tr>\n",
       "      <th id=\"T_85ae2_level0_row12\" class=\"row_heading level0 row12\" >2315992</th>\n",
       "      <td id=\"T_85ae2_row12_col0\" class=\"data row12 col0\" >https://www.rockwellautomation.com/products/details.193-T1AC16</td>\n",
       "      <td id=\"T_85ae2_row12_col1\" class=\"data row12 col1\" >https://www.rockwellautomation.com/en-gb/products/details.193-T1AC16.html</td>\n",
       "    </tr>\n",
       "    <tr>\n",
       "      <th id=\"T_85ae2_level0_row13\" class=\"row_heading level0 row13\" >5428559</th>\n",
       "      <td id=\"T_85ae2_row13_col0\" class=\"data row13 col0\" >https://www.rockwellautomation.com/products/hardware/allen-bradley/drives/low-voltage-ac-drives/compact-drives/25a-powerflex-523</td>\n",
       "      <td id=\"T_85ae2_row13_col1\" class=\"data row13 col1\" >https://www.rockwellautomation.com/de-de/products/hardware/allen-bradley/drives/low-voltage-ac-drives/compact-drives/25a-powerflex-523.html</td>\n",
       "    </tr>\n",
       "    <tr>\n",
       "      <th id=\"T_85ae2_level0_row14\" class=\"row_heading level0 row14\" >2572119</th>\n",
       "      <td id=\"T_85ae2_row14_col0\" class=\"data row14 col0\" >https://www.rockwellautomation.com/products/details.193-EEFD</td>\n",
       "      <td id=\"T_85ae2_row14_col1\" class=\"data row14 col1\" >https://www.rockwellautomation.com/en-us/products/details.193-EEFD.html</td>\n",
       "    </tr>\n",
       "    <tr>\n",
       "      <th id=\"T_85ae2_level0_row15\" class=\"row_heading level0 row15\" >4663537</th>\n",
       "      <td id=\"T_85ae2_row15_col0\" class=\"data row15 col0\" >https://www.rockwellautomation.com/products/details.2090-SCVP1-0</td>\n",
       "      <td id=\"T_85ae2_row15_col1\" class=\"data row15 col1\" >https://www.rockwellautomation.com/ja-jp/products/details.2090-SCVP1-0.html</td>\n",
       "    </tr>\n",
       "    <tr>\n",
       "      <th id=\"T_85ae2_level0_row16\" class=\"row_heading level0 row16\" >9081746</th>\n",
       "      <td id=\"T_85ae2_row16_col0\" class=\"data row16 col0\" >https://www.rockwellautomation.com/company/news/the-journal/remote-alarms-help-food-firms-avoid-downtime</td>\n",
       "      <td id=\"T_85ae2_row16_col1\" class=\"data row16 col1\" >https://www.rockwellautomation.com/en-us/company/news/the-journal/remote-alarms-help-food-firms-avoid-downtime.html</td>\n",
       "    </tr>\n",
       "    <tr>\n",
       "      <th id=\"T_85ae2_level0_row17\" class=\"row_heading level0 row17\" >3527653</th>\n",
       "      <td id=\"T_85ae2_row17_col0\" class=\"data row17 col0\" >https://www.rockwellautomation.com/products/details.440G-T27256</td>\n",
       "      <td id=\"T_85ae2_row17_col1\" class=\"data row17 col1\" >https://www.rockwellautomation.com/de-de/products/details.440G-T27256.html</td>\n",
       "    </tr>\n",
       "    <tr>\n",
       "      <th id=\"T_85ae2_level0_row18\" class=\"row_heading level0 row18\" >9018888</th>\n",
       "      <td id=\"T_85ae2_row18_col0\" class=\"data row18 col0\" >https://www.rockwellautomation.com/products/hardware/allen-bradley/safety-products/safety-relays/specialty-safety-relays/safety-relays-speed</td>\n",
       "      <td id=\"T_85ae2_row18_col1\" class=\"data row18 col1\" >https://www.rockwellautomation.com/zh-tw/products/hardware/allen-bradley/safety-products/safety-relays/specialty-safety-relays/safety-relays-speed.html</td>\n",
       "    </tr>\n",
       "    <tr>\n",
       "      <th id=\"T_85ae2_level0_row19\" class=\"row_heading level0 row19\" >12385038</th>\n",
       "      <td id=\"T_85ae2_row19_col0\" class=\"data row19 col0\" >https://www.rockwellautomation.com/products/details.889N-F10AF-2</td>\n",
       "      <td id=\"T_85ae2_row19_col1\" class=\"data row19 col1\" >https://www.rockwellautomation.com/en-us/products/details.889N-F10AF-2.html</td>\n",
       "    </tr>\n",
       "    <tr>\n",
       "      <th id=\"T_85ae2_level0_row20\" class=\"row_heading level0 row20\" >9007670</th>\n",
       "      <td id=\"T_85ae2_row20_col0\" class=\"data row20 col0\" >https://www.rockwellautomation.com/company/news/blogs/get-a-countdown-to-downtime-with-drive-based-predictive-maintena</td>\n",
       "      <td id=\"T_85ae2_row20_col1\" class=\"data row20 col1\" >https://www.rockwellautomation.com/es-ar/company/news/blogs/get-a-countdown-to-downtime-with-drive-based-predictive-maintena.html</td>\n",
       "    </tr>\n",
       "    <tr>\n",
       "      <th id=\"T_85ae2_level0_row21\" class=\"row_heading level0 row21\" >10244767</th>\n",
       "      <td id=\"T_85ae2_row21_col0\" class=\"data row21 col0\" >https://www.rockwellautomation.com/products/details.MPAS-9092K-CABLE</td>\n",
       "      <td id=\"T_85ae2_row21_col1\" class=\"data row21 col1\" >https://www.rockwellautomation.com/en-us/products/details.MPAS-9092K-CABLE.html</td>\n",
       "    </tr>\n",
       "    <tr>\n",
       "      <th id=\"T_85ae2_level0_row22\" class=\"row_heading level0 row22\" >5996686</th>\n",
       "      <td id=\"T_85ae2_row22_col0\" class=\"data row22 col0\" >https://www.rockwellautomation.com/products/details.100S-E190KJ12C</td>\n",
       "      <td id=\"T_85ae2_row22_col1\" class=\"data row22 col1\" >https://www.rockwellautomation.com/en-us/products/details.100S-E190KJ12C.html</td>\n",
       "    </tr>\n",
       "    <tr>\n",
       "      <th id=\"T_85ae2_level0_row23\" class=\"row_heading level0 row23\" >13556047</th>\n",
       "      <td id=\"T_85ae2_row23_col0\" class=\"data row23 col0\" >https://www.rockwellautomation.com/support/documentation/technical/sensors-and-switches/ultrasonic-sensors</td>\n",
       "      <td id=\"T_85ae2_row23_col1\" class=\"data row23 col1\" >https://www.rockwellautomation.com/en-us/support/documentation/technical/sensors-and-switches/ultrasonic-sensors.html#873m</td>\n",
       "    </tr>\n",
       "    <tr>\n",
       "      <th id=\"T_85ae2_level0_row24\" class=\"row_heading level0 row24\" >2386839</th>\n",
       "      <td id=\"T_85ae2_row24_col0\" class=\"data row24 col0\" >https://www.rockwellautomation.com/products/hardware/allen-bradley/sensors-and-switches/presence-sensors/photoelectric-sensors</td>\n",
       "      <td id=\"T_85ae2_row24_col1\" class=\"data row24 col1\" >https://www.rockwellautomation.com/fr-fr/products/hardware/allen-bradley/sensors-and-switches/presence-sensors/photoelectric-sensors.html</td>\n",
       "    </tr>\n",
       "    <tr>\n",
       "      <th id=\"T_85ae2_level0_row25\" class=\"row_heading level0 row25\" >5439260</th>\n",
       "      <td id=\"T_85ae2_row25_col0\" class=\"data row25 col0\" >https://www.rockwellautomation.com/products/details.442G-MABL-URM-C00</td>\n",
       "      <td id=\"T_85ae2_row25_col1\" class=\"data row25 col1\" >https://www.rockwellautomation.com.cn/products/details.442G-MABL-URM-C00.html</td>\n",
       "    </tr>\n",
       "    <tr>\n",
       "      <th id=\"T_85ae2_level0_row26\" class=\"row_heading level0 row26\" >11368976</th>\n",
       "      <td id=\"T_85ae2_row26_col0\" class=\"data row26 col0\" >https://www.rockwellautomation.com/products/hardware/allen-bradley/sensors-and-switches/presence-sensors/photoelectric-sensors/photoelectric-laser-sensor/45lms-measurement</td>\n",
       "      <td id=\"T_85ae2_row26_col1\" class=\"data row26 col1\" >https://www.rockwellautomation.com/fr-fr/products/hardware/allen-bradley/sensors-and-switches/presence-sensors/photoelectric-sensors/photoelectric-laser-sensor/45lms-measurement.html</td>\n",
       "    </tr>\n",
       "    <tr>\n",
       "      <th id=\"T_85ae2_level0_row27\" class=\"row_heading level0 row27\" >1004460</th>\n",
       "      <td id=\"T_85ae2_row27_col0\" class=\"data row27 col0\" >https://www.rockwellautomation.com/products/hardware/allen-bradley/network-security-and-infrastructure/ethernet-networks/stratix-5700-industrial</td>\n",
       "      <td id=\"T_85ae2_row27_col1\" class=\"data row27 col1\" >https://www.rockwellautomation.com/en-il/products/hardware/allen-bradley/network-security-and-infrastructure/ethernet-networks/stratix-5700-industrial.html</td>\n",
       "    </tr>\n",
       "    <tr>\n",
       "      <th id=\"T_85ae2_level0_row28\" class=\"row_heading level0 row28\" >14676634</th>\n",
       "      <td id=\"T_85ae2_row28_col0\" class=\"data row28 col0\" >https://www.rockwellautomation.com/products/details.889D-R5NCDE-1</td>\n",
       "      <td id=\"T_85ae2_row28_col1\" class=\"data row28 col1\" >https://www.rockwellautomation.com/en-us/products/details.889D-R5NCDE-1.html</td>\n",
       "    </tr>\n",
       "    <tr>\n",
       "      <th id=\"T_85ae2_level0_row29\" class=\"row_heading level0 row29\" >10191250</th>\n",
       "      <td id=\"T_85ae2_row29_col0\" class=\"data row29 col0\" >https://www.rockwellautomation.com/products/details.MPL-A310P-HK72AA</td>\n",
       "      <td id=\"T_85ae2_row29_col1\" class=\"data row29 col1\" >https://www.rockwellautomation.com/en-us/products/details.MPL-A310P-HK72AA.html</td>\n",
       "    </tr>\n",
       "    <tr>\n",
       "      <th id=\"T_85ae2_level0_row30\" class=\"row_heading level0 row30\" >1082799</th>\n",
       "      <td id=\"T_85ae2_row30_col0\" class=\"data row30 col0\" >https://www.rockwellautomation.com/products/details.100L-C20FD4</td>\n",
       "      <td id=\"T_85ae2_row30_col1\" class=\"data row30 col1\" >https://www.rockwellautomation.com/en-us/products/details.100L-C20FD4.html</td>\n",
       "    </tr>\n",
       "    <tr>\n",
       "      <th id=\"T_85ae2_level0_row31\" class=\"row_heading level0 row31\" >4667394</th>\n",
       "      <td id=\"T_85ae2_row31_col0\" class=\"data row31 col0\" >https://www.rockwellautomation.com/products/hardware/allen-bradley/safety-products/safety-relays/safety-relays-control</td>\n",
       "      <td id=\"T_85ae2_row31_col1\" class=\"data row31 col1\" >https://www.rockwellautomation.com/sv-se/products/hardware/allen-bradley/safety-products/safety-relays/safety-relays-control.html</td>\n",
       "    </tr>\n",
       "    <tr>\n",
       "      <th id=\"T_85ae2_level0_row32\" class=\"row_heading level0 row32\" >7997141</th>\n",
       "      <td id=\"T_85ae2_row32_col0\" class=\"data row32 col0\" >https://www.rockwellautomation.com/products/details.1497B-A3-M17-3-N</td>\n",
       "      <td id=\"T_85ae2_row32_col1\" class=\"data row32 col1\" >https://www.rockwellautomation.com/en-us/products/details.1497B-A3-M17-3-N.html</td>\n",
       "    </tr>\n",
       "    <tr>\n",
       "      <th id=\"T_85ae2_level0_row33\" class=\"row_heading level0 row33\" >6971895</th>\n",
       "      <td id=\"T_85ae2_row33_col0\" class=\"data row33 col0\" >https://www.rockwellautomation.com/products/details.9328-CCWDEVENM</td>\n",
       "      <td id=\"T_85ae2_row33_col1\" class=\"data row33 col1\" >https://www.rockwellautomation.com/en-ie/products/details.9328-CCWDEVENM.html</td>\n",
       "    </tr>\n",
       "    <tr>\n",
       "      <th id=\"T_85ae2_level0_row34\" class=\"row_heading level0 row34\" >949154</th>\n",
       "      <td id=\"T_85ae2_row34_col0\" class=\"data row34 col0\" >https://www.rockwellautomation.com/products/details.1692-ZG4444</td>\n",
       "      <td id=\"T_85ae2_row34_col1\" class=\"data row34 col1\" >https://www.rockwellautomation.com/en-us/products/details.1692-ZG4444.html</td>\n",
       "    </tr>\n",
       "    <tr>\n",
       "      <th id=\"T_85ae2_level0_row35\" class=\"row_heading level0 row35\" >10212752</th>\n",
       "      <td id=\"T_85ae2_row35_col0\" class=\"data row35 col0\" >https://www.rockwellautomation.com/products/details.194R-J30-1753-M</td>\n",
       "      <td id=\"T_85ae2_row35_col1\" class=\"data row35 col1\" >https://www.rockwellautomation.com.cn/products/details.194R-J30-1753-M.html</td>\n",
       "    </tr>\n",
       "    <tr>\n",
       "      <th id=\"T_85ae2_level0_row36\" class=\"row_heading level0 row36\" >881917</th>\n",
       "      <td id=\"T_85ae2_row36_col0\" class=\"data row36 col0\" >https://www.rockwellautomation.com/capabilities/process-solutions/process-systems/plantpax-distributed-control-system</td>\n",
       "      <td id=\"T_85ae2_row36_col1\" class=\"data row36 col1\" >https://www.rockwellautomation.com/es-co/capabilities/process-solutions/process-systems/plantpax-distributed-control-system.html</td>\n",
       "    </tr>\n",
       "    <tr>\n",
       "      <th id=\"T_85ae2_level0_row37\" class=\"row_heading level0 row37\" >1077665</th>\n",
       "      <td id=\"T_85ae2_row37_col0\" class=\"data row37 col0\" >https://www.rockwellautomation.com/products/details.1492-P10PD4E-1B1FB250</td>\n",
       "      <td id=\"T_85ae2_row37_col1\" class=\"data row37 col1\" >https://www.rockwellautomation.com/en-us/products/details.1492-P10PD4E-1B1FB250.html</td>\n",
       "    </tr>\n",
       "    <tr>\n",
       "      <th id=\"T_85ae2_level0_row38\" class=\"row_heading level0 row38\" >3583504</th>\n",
       "      <td id=\"T_85ae2_row38_col0\" class=\"data row38 col0\" >https://www.rockwellautomation.com/products/details.700-HC24Z12-3-4</td>\n",
       "      <td id=\"T_85ae2_row38_col1\" class=\"data row38 col1\" >https://www.rockwellautomation.com/en-us/products/details.700-HC24Z12-3-4.html</td>\n",
       "    </tr>\n",
       "    <tr>\n",
       "      <th id=\"T_85ae2_level0_row39\" class=\"row_heading level0 row39\" >12381352</th>\n",
       "      <td id=\"T_85ae2_row39_col0\" class=\"data row39 col0\" >https://www.rockwellautomation.com/products/details.1492-CB1G060</td>\n",
       "      <td id=\"T_85ae2_row39_col1\" class=\"data row39 col1\" >https://www.rockwellautomation.com/en-us/products/details.1492-CB1G060.html</td>\n",
       "    </tr>\n",
       "    <tr>\n",
       "      <th id=\"T_85ae2_level0_row40\" class=\"row_heading level0 row40\" >802278</th>\n",
       "      <td id=\"T_85ae2_row40_col0\" class=\"data row40 col0\" >https://www.rockwellautomation.com/industries/automotive-tire</td>\n",
       "      <td id=\"T_85ae2_row40_col1\" class=\"data row40 col1\" >https://www.rockwellautomation.com/pt-br/industries/automotive-tire.html</td>\n",
       "    </tr>\n",
       "    <tr>\n",
       "      <th id=\"T_85ae2_level0_row41\" class=\"row_heading level0 row41\" >8095636</th>\n",
       "      <td id=\"T_85ae2_row41_col0\" class=\"data row41 col0\" >https://www.rockwellautomation.com/products/hardware/allen-bradley/motor-control/soft-starters</td>\n",
       "      <td id=\"T_85ae2_row41_col1\" class=\"data row41 col1\" >https://www.rockwellautomation.com/es-co/products/hardware/allen-bradley/motor-control/soft-starters.html</td>\n",
       "    </tr>\n",
       "    <tr>\n",
       "      <th id=\"T_85ae2_level0_row42\" class=\"row_heading level0 row42\" >10272446</th>\n",
       "      <td id=\"T_85ae2_row42_col0\" class=\"data row42 col0\" >https://www.rockwellautomation.com/products/details.9701M-VWSTDENTT60</td>\n",
       "      <td id=\"T_85ae2_row42_col1\" class=\"data row42 col1\" >https://www.rockwellautomation.com/es-pr/products/details.9701M-VWSTDENTT60.html</td>\n",
       "    </tr>\n",
       "    <tr>\n",
       "      <th id=\"T_85ae2_level0_row43\" class=\"row_heading level0 row43\" >1022597</th>\n",
       "      <td id=\"T_85ae2_row43_col0\" class=\"data row43 col0\" >https://www.rockwellautomation.com/support/product/product-compatibility-migration</td>\n",
       "      <td id=\"T_85ae2_row43_col1\" class=\"data row43 col1\" >https://www.rockwellautomation.com/en-id/support/product/product-compatibility-migration.html</td>\n",
       "    </tr>\n",
       "    <tr>\n",
       "      <th id=\"T_85ae2_level0_row44\" class=\"row_heading level0 row44\" >10276407</th>\n",
       "      <td id=\"T_85ae2_row44_col0\" class=\"data row44 col0\" >https://www.rockwellautomation.com/products/hardware/allen-bradley/discontinued-products/bulletin-842e-ethernet-ip-multi-turn</td>\n",
       "      <td id=\"T_85ae2_row44_col1\" class=\"data row44 col1\" >https://www.rockwellautomation.com/cs-cz/products/hardware/allen-bradley/discontinued-products/bulletin-842e-ethernet-ip-multi-turn.html</td>\n",
       "    </tr>\n",
       "    <tr>\n",
       "      <th id=\"T_85ae2_level0_row45\" class=\"row_heading level0 row45\" >1034975</th>\n",
       "      <td id=\"T_85ae2_row45_col0\" class=\"data row45 col0\" >https://www.rockwellautomation.com/products/details.42GRU-9001-QD</td>\n",
       "      <td id=\"T_85ae2_row45_col1\" class=\"data row45 col1\" >https://www.rockwellautomation.com/en-za/products/details.42GRU-9001-QD.html</td>\n",
       "    </tr>\n",
       "    <tr>\n",
       "      <th id=\"T_85ae2_level0_row46\" class=\"row_heading level0 row46\" >11338015</th>\n",
       "      <td id=\"T_85ae2_row46_col0\" class=\"data row46 col0\" >https://www.rockwellautomation.com/products/software/factorytalk/innovationsuite/production</td>\n",
       "      <td id=\"T_85ae2_row46_col1\" class=\"data row46 col1\" >https://www.rockwellautomation.com/pl-pl/products/software/factorytalk/innovationsuite/production.html</td>\n",
       "    </tr>\n",
       "    <tr>\n",
       "      <th id=\"T_85ae2_level0_row47\" class=\"row_heading level0 row47\" >9095819</th>\n",
       "      <td id=\"T_85ae2_row47_col0\" class=\"data row47 col0\" >https://www.rockwellautomation.com/company/news/blogs/water-supply-security</td>\n",
       "      <td id=\"T_85ae2_row47_col1\" class=\"data row47 col1\" >https://www.rockwellautomation.com/en-us/company/news/blogs/water-supply-security.html</td>\n",
       "    </tr>\n",
       "    <tr>\n",
       "      <th id=\"T_85ae2_level0_row48\" class=\"row_heading level0 row48\" >13588445</th>\n",
       "      <td id=\"T_85ae2_row48_col0\" class=\"data row48 col0\" >https://www.rockwellautomation.com/products/details.VPL-B1003T-QJ12AA</td>\n",
       "      <td id=\"T_85ae2_row48_col1\" class=\"data row48 col1\" >https://www.rockwellautomation.com/en-us/products/details.VPL-B1003T-QJ12AA.html</td>\n",
       "    </tr>\n",
       "    <tr>\n",
       "      <th id=\"T_85ae2_level0_row49\" class=\"row_heading level0 row49\" >5323416</th>\n",
       "      <td id=\"T_85ae2_row49_col0\" class=\"data row49 col0\" >https://www.rockwellautomation.com/products/details.1794-IE8H</td>\n",
       "      <td id=\"T_85ae2_row49_col1\" class=\"data row49 col1\" >https://www.rockwellautomation.com/en-in/products/details.1794-IE8H.html</td>\n",
       "    </tr>\n",
       "  </tbody>\n",
       "</table>\n"
      ],
      "text/plain": [
       "<pandas.io.formats.style.Styler at 0x7fd367e76dc0>"
      ]
     },
     "execution_count": 81,
     "metadata": {},
     "output_type": "execute_result"
    }
   ],
   "source": [
    "url_maps.sample(50).style"
   ]
  },
  {
   "cell_type": "markdown",
   "id": "da4c0580",
   "metadata": {},
   "source": [
    "#### regex checking with missing url"
   ]
  },
  {
   "cell_type": "code",
   "execution_count": 140,
   "id": "17c123ed",
   "metadata": {
    "ExecuteTime": {
     "end_time": "2022-12-16T21:57:25.305882Z",
     "start_time": "2022-12-16T21:57:25.287261Z"
    }
   },
   "outputs": [],
   "source": [
    "result_list = \"\"\"|/company/news/presentations/event_materials_page.html                                                                       |   125 |    125 |    0 | 1.0000 |\n",
    "|/company/news/magazines/beat-the-heat-when-mounting-low-voltage-ac-drives.html                                              |   106 |    100 |    0 | 0.9434 |\n",
    "|/company/events/in-person-events/partnernetwork-conf-kr.html                                                                |   155 |    129 |    0 | 0.8323 |\n",
    "|/company/events/webinars/functional-safety-techconnect.html                                                                 |   103 |     80 |    0 | 0.7767 |\n",
    "|/company/events/in-person-events/archive.html                                                                               |   146 |    113 |    0 | 0.7740 |\n",
    "|/company/events/webinars/webinaire-process-dcs-plantpax.html                                                                |   148 |    113 |    0 | 0.7635 |\n",
    "|/company/events/webinars/modernising-to-smart-connected-systems.html                                                        |   163 |    124 |    0 | 0.7607 |\n",
    "|/campaigns/thank-you-smart-downloads.html                                                                                   |   129 |     98 |    0 | 0.7597 |\n",
    "|/company/events/webinars/product-registration.html                                                                          |   218 |    163 |    0 | 0.7477 |\n",
    "|/campaigns/emea/en/company/events/webinars/tech-talks/hms-claroty-stratus.html                                              |   202 |    151 |    0 | 0.7475 |\n",
    "|/company/events/webinars/techconnect-genius-webinar--subscription-portal-overview-session2.html                             |  1447 |   1057 |    0 | 0.7305 |\n",
    "|/company/events/webinars/404.html                                                                                           |   151 |    109 |    0 | 0.7219 |\n",
    "|/campaigns/emea/en/company/events/webinars/technical-competency-updates/unleash-the-new-capabilities-of-edge-analytics.html |   372 |    266 |    0 | 0.7151 |\n",
    "|/en-mde/products/hardware/allen-bradley/drives.html                                                                         |   101 |     72 |    0 | 0.7129 |\n",
    "|/support/product/product-selection-configuration/global-short-circuit-current-ratings-tool.html                             |  7015 |   4995 |    0 | 0.7120 |\n",
    "|/company/events/in-person-events/partnernetwork-conference.html                                                             |   245 |    174 |    0 | 0.7102 |\n",
    "|/industries/chemical/vfd-energy-savings-calculator.html                                                                     |   215 |    152 |    0 | 0.7070 |\n",
    "|/company/news/column/executive_news_japan.html                                                                              |   112 |     79 |    0 | 0.7054 |\n",
    "|/en-mde/support/product/product-compatibility-migration/product-lifecycle-status.html                                       |   280 |    196 |    0 | 0.7000 |\n",
    "|/campaigns/emea/en/company/events/webinars/tech-talks/cisco-prosoft-spectrum-controls.html                                  |   120 |     84 |    0 | 0.7000 |\n",
    "|/company/events/webinars/micro-control-integrated-automation-solution.html                                                  |   280 |    194 |    0 | 0.6929 |\n",
    "|/company/events/webinars/protect-your-gigafactory-with-industrial-security.html                                             |   169 |    116 |    0 | 0.6864 |\n",
    "|/support/documentation/technical-data/proposalworkssuppleme20180213-1403.html                                               |   114 |     78 |    0 | 0.6842 |\n",
    "|/company/events/webinars/technology-partner-genius-webinar-with-prosoft-technology---conn.html                              |   114 |     78 |    0 | 0.6842 |\n",
    "|/support/documentation/technical-data/proposalworksaddinghe20180213-1349.html                                               |   104 |     71 |    0 | 0.6827 |\n",
    "|/company/events/in-person-events/roklive/emea/faq.html                                                                      |   321 |    219 |    0 | 0.6822 |\n",
    "|/company/events/webinars/technology-partner-genius-webinar-with-oden-technologies.html                                      |   796 |    542 |    0 | 0.6809 |\n",
    "|/company/news/blogs/single-use-system-lifesciences-pt2.html                                                                 |   102 |     69 |    0 | 0.6765 |\n",
    "|/company/news/demonstrations/safety-automation-builder-software-demonstration.html                                          |   307 |    207 |    0 | 0.6743 |\n",
    "|/company/news/blogs/from-automation-to-autonomy.html                                                                        |   153 |    103 |    0 | 0.6732 |\"\"\""
   ]
  },
  {
   "cell_type": "code",
   "execution_count": 141,
   "id": "18e2d356",
   "metadata": {
    "ExecuteTime": {
     "end_time": "2022-12-16T21:57:27.878350Z",
     "start_time": "2022-12-16T21:57:25.459118Z"
    }
   },
   "outputs": [],
   "source": [
    "xx = \"detail\"\n",
    "result_check = pd.DataFrame([[item.strip() for item in row.split(\"|\") if len(item)>1 ]for row in result_list.split(\"\\n\") ], columns=[\"clean_PageURL\", \"total\", \"eloqua\",\"crm\", \"ratio\"])\n",
    "# stage1_raw[stage1_raw[\"PageURL\"].str.contains(xx)][[\"clean_PageURL\", \"PageURL\"]].drop_duplicates().head(50).style\n",
    "clean_urls = stage1_raw[\"clean_PageURL\"].drop_duplicates()\n",
    "all_urls = stage1_raw[\"PageURL\"].drop_duplicates()\n",
    "for row in result_check[\"clean_PageURL\"].tolist():\n",
    "    a = clean_urls.str.contains(xx).any()\n",
    "    b = all_urls.str.contains(xx).any()\n",
    "    if a is False or b is False:\n",
    "        print(row)\n",
    "        \n",
    "result_check[\"clean_PageURL\"] = result_check[\"clean_PageURL\"].apply(lambda x: \"https://www.rockwellautomation.com\" + x[:-5])\n",
    "# result_check.style"
   ]
  },
  {
   "cell_type": "code",
   "execution_count": 142,
   "id": "78c86691",
   "metadata": {
    "ExecuteTime": {
     "end_time": "2022-12-16T21:57:27.911407Z",
     "start_time": "2022-12-16T21:57:27.879729Z"
    },
    "scrolled": true
   },
   "outputs": [
    {
     "data": {
      "text/html": [
       "<div>\n",
       "<style scoped>\n",
       "    .dataframe tbody tr th:only-of-type {\n",
       "        vertical-align: middle;\n",
       "    }\n",
       "\n",
       "    .dataframe tbody tr th {\n",
       "        vertical-align: top;\n",
       "    }\n",
       "\n",
       "    .dataframe thead th {\n",
       "        text-align: right;\n",
       "    }\n",
       "</style>\n",
       "<table border=\"1\" class=\"dataframe\">\n",
       "  <thead>\n",
       "    <tr style=\"text-align: right;\">\n",
       "      <th></th>\n",
       "      <th>total</th>\n",
       "    </tr>\n",
       "  </thead>\n",
       "  <tbody>\n",
       "    <tr>\n",
       "      <th>count</th>\n",
       "      <td>40030.000000</td>\n",
       "    </tr>\n",
       "    <tr>\n",
       "      <th>mean</th>\n",
       "      <td>40.615988</td>\n",
       "    </tr>\n",
       "    <tr>\n",
       "      <th>std</th>\n",
       "      <td>418.950375</td>\n",
       "    </tr>\n",
       "    <tr>\n",
       "      <th>min</th>\n",
       "      <td>1.000000</td>\n",
       "    </tr>\n",
       "    <tr>\n",
       "      <th>25%</th>\n",
       "      <td>1.000000</td>\n",
       "    </tr>\n",
       "    <tr>\n",
       "      <th>50%</th>\n",
       "      <td>2.000000</td>\n",
       "    </tr>\n",
       "    <tr>\n",
       "      <th>75%</th>\n",
       "      <td>6.000000</td>\n",
       "    </tr>\n",
       "    <tr>\n",
       "      <th>max</th>\n",
       "      <td>22026.000000</td>\n",
       "    </tr>\n",
       "  </tbody>\n",
       "</table>\n",
       "</div>"
      ],
      "text/plain": [
       "              total\n",
       "count  40030.000000\n",
       "mean      40.615988\n",
       "std      418.950375\n",
       "min        1.000000\n",
       "25%        1.000000\n",
       "50%        2.000000\n",
       "75%        6.000000\n",
       "max    22026.000000"
      ]
     },
     "execution_count": 142,
     "metadata": {},
     "output_type": "execute_result"
    }
   ],
   "source": [
    "result_wei = aa.reset_index().sort_values(by=\"ratio\")\n",
    "result_wei.describe()\n",
    "# result_wei[(result_wei[\"total\"]>50) & (result_wei[\"ratio\"]>0.05)].tail(50)"
   ]
  },
  {
   "cell_type": "code",
   "execution_count": 143,
   "id": "e50362ce",
   "metadata": {
    "ExecuteTime": {
     "end_time": "2022-12-16T21:57:32.179938Z",
     "start_time": "2022-12-16T21:57:32.028078Z"
    }
   },
   "outputs": [
    {
     "data": {
      "image/png": "[encoded data removed]",
      "text/plain": [
       "<Figure size 432x288 with 1 Axes>"
      ]
     },
     "metadata": {
      "needs_background": "light"
     },
     "output_type": "display_data"
    },
    {
     "data": {
      "text/html": [
       "<div>\n",
       "<style scoped>\n",
       "    .dataframe tbody tr th:only-of-type {\n",
       "        vertical-align: middle;\n",
       "    }\n",
       "\n",
       "    .dataframe tbody tr th {\n",
       "        vertical-align: top;\n",
       "    }\n",
       "\n",
       "    .dataframe thead th {\n",
       "        text-align: right;\n",
       "    }\n",
       "</style>\n",
       "<table border=\"1\" class=\"dataframe\">\n",
       "  <thead>\n",
       "    <tr style=\"text-align: right;\">\n",
       "      <th></th>\n",
       "      <th>total</th>\n",
       "    </tr>\n",
       "  </thead>\n",
       "  <tbody>\n",
       "    <tr>\n",
       "      <th>count</th>\n",
       "      <td>1564.000000</td>\n",
       "    </tr>\n",
       "    <tr>\n",
       "      <th>mean</th>\n",
       "      <td>576.402813</td>\n",
       "    </tr>\n",
       "    <tr>\n",
       "      <th>std</th>\n",
       "      <td>1147.173750</td>\n",
       "    </tr>\n",
       "    <tr>\n",
       "      <th>min</th>\n",
       "      <td>51.000000</td>\n",
       "    </tr>\n",
       "    <tr>\n",
       "      <th>25%</th>\n",
       "      <td>85.000000</td>\n",
       "    </tr>\n",
       "    <tr>\n",
       "      <th>50%</th>\n",
       "      <td>188.000000</td>\n",
       "    </tr>\n",
       "    <tr>\n",
       "      <th>75%</th>\n",
       "      <td>504.000000</td>\n",
       "    </tr>\n",
       "    <tr>\n",
       "      <th>max</th>\n",
       "      <td>9706.000000</td>\n",
       "    </tr>\n",
       "  </tbody>\n",
       "</table>\n",
       "</div>"
      ],
      "text/plain": [
       "             total\n",
       "count  1564.000000\n",
       "mean    576.402813\n",
       "std    1147.173750\n",
       "min      51.000000\n",
       "25%      85.000000\n",
       "50%     188.000000\n",
       "75%     504.000000\n",
       "max    9706.000000"
      ]
     },
     "execution_count": 143,
     "metadata": {},
     "output_type": "execute_result"
    }
   ],
   "source": [
    "from sklearn.linear_model import LinearRegression\n",
    "plot_data = result_wei.query(\"10000>`total`>50 and `ratio`>0.05\")\n",
    "# [(result_wei[\"freq\"]>50)  & (result_wei[\"ratio\"]>0.05)]\n",
    "x = plot_data[\"positive\"].values.reshape(-1,1)\n",
    "y = plot_data[\"negative\"].values.reshape(-1,1)\n",
    "linear_regressor = LinearRegression()\n",
    "linear_regressor.fit(x, y)\n",
    "y_pred = linear_regressor.predict(x)\n",
    "\n",
    "plt.scatter(x, y)\n",
    "plt.xlabel(\"positive\")\n",
    "plt.ylabel(\"negative\")\n",
    "plt.plot(x, y_pred, color='red', label=f'positive-negative y={round(linear_regressor.coef_[0][0],4)}x')\n",
    "# plt.plot([0,10000],[0,10000], color='blue', label=\"y=x\")\n",
    "plt.legend()\n",
    "plt.show()\n",
    "plot_data.describe()"
   ]
  },
  {
   "cell_type": "code",
   "execution_count": 150,
   "id": "194ebc4b",
   "metadata": {
    "ExecuteTime": {
     "end_time": "2022-12-16T21:58:24.908268Z",
     "start_time": "2022-12-16T21:58:24.752643Z"
    }
   },
   "outputs": [],
   "source": [
    "result_wei.sort_values(by=\"ratio\", ascending=False).to_csv(f\"result_wei_{VERSION}.csv\")"
   ]
  },
  {
   "cell_type": "code",
   "execution_count": 145,
   "id": "18bf2aca",
   "metadata": {
    "ExecuteTime": {
     "end_time": "2022-12-16T21:57:33.052319Z",
     "start_time": "2022-12-16T21:57:33.045238Z"
    }
   },
   "outputs": [
    {
     "data": {
      "text/html": [
       "<div>\n",
       "<style scoped>\n",
       "    .dataframe tbody tr th:only-of-type {\n",
       "        vertical-align: middle;\n",
       "    }\n",
       "\n",
       "    .dataframe tbody tr th {\n",
       "        vertical-align: top;\n",
       "    }\n",
       "\n",
       "    .dataframe thead th {\n",
       "        text-align: right;\n",
       "    }\n",
       "</style>\n",
       "<table border=\"1\" class=\"dataframe\">\n",
       "  <thead>\n",
       "    <tr style=\"text-align: right;\">\n",
       "      <th></th>\n",
       "      <th>clean_PageURL</th>\n",
       "      <th>total</th>\n",
       "      <th>positive</th>\n",
       "      <th>ratio</th>\n",
       "      <th>negative</th>\n",
       "    </tr>\n",
       "  </thead>\n",
       "  <tbody>\n",
       "    <tr>\n",
       "      <th>0</th>\n",
       "      <td>https://www.rockwellautomation.com-ch/products</td>\n",
       "      <td>1</td>\n",
       "      <td>0</td>\n",
       "      <td>0.0</td>\n",
       "      <td>1</td>\n",
       "    </tr>\n",
       "    <tr>\n",
       "      <th>25167</th>\n",
       "      <td>https://www.rockwellautomation.com/products/de...</td>\n",
       "      <td>2</td>\n",
       "      <td>0</td>\n",
       "      <td>0.0</td>\n",
       "      <td>2</td>\n",
       "    </tr>\n",
       "    <tr>\n",
       "      <th>25166</th>\n",
       "      <td>https://www.rockwellautomation.com/products/de...</td>\n",
       "      <td>1</td>\n",
       "      <td>0</td>\n",
       "      <td>0.0</td>\n",
       "      <td>1</td>\n",
       "    </tr>\n",
       "    <tr>\n",
       "      <th>25165</th>\n",
       "      <td>https://www.rockwellautomation.com/products/de...</td>\n",
       "      <td>1</td>\n",
       "      <td>0</td>\n",
       "      <td>0.0</td>\n",
       "      <td>1</td>\n",
       "    </tr>\n",
       "    <tr>\n",
       "      <th>25164</th>\n",
       "      <td>https://www.rockwellautomation.com/products/de...</td>\n",
       "      <td>5</td>\n",
       "      <td>0</td>\n",
       "      <td>0.0</td>\n",
       "      <td>5</td>\n",
       "    </tr>\n",
       "    <tr>\n",
       "      <th>...</th>\n",
       "      <td>...</td>\n",
       "      <td>...</td>\n",
       "      <td>...</td>\n",
       "      <td>...</td>\n",
       "      <td>...</td>\n",
       "    </tr>\n",
       "    <tr>\n",
       "      <th>29402</th>\n",
       "      <td>https://www.rockwellautomation.com/products/de...</td>\n",
       "      <td>2</td>\n",
       "      <td>2</td>\n",
       "      <td>1.0</td>\n",
       "      <td>0</td>\n",
       "    </tr>\n",
       "    <tr>\n",
       "      <th>31166</th>\n",
       "      <td>https://www.rockwellautomation.com/products/de...</td>\n",
       "      <td>1</td>\n",
       "      <td>1</td>\n",
       "      <td>1.0</td>\n",
       "      <td>0</td>\n",
       "    </tr>\n",
       "    <tr>\n",
       "      <th>7282</th>\n",
       "      <td>https://www.rockwellautomation.com/products/de...</td>\n",
       "      <td>1</td>\n",
       "      <td>1</td>\n",
       "      <td>1.0</td>\n",
       "      <td>0</td>\n",
       "    </tr>\n",
       "    <tr>\n",
       "      <th>20408</th>\n",
       "      <td>https://www.rockwellautomation.com/products/de...</td>\n",
       "      <td>1</td>\n",
       "      <td>1</td>\n",
       "      <td>1.0</td>\n",
       "      <td>0</td>\n",
       "    </tr>\n",
       "    <tr>\n",
       "      <th>24986</th>\n",
       "      <td>https://www.rockwellautomation.com/products/de...</td>\n",
       "      <td>1</td>\n",
       "      <td>1</td>\n",
       "      <td>1.0</td>\n",
       "      <td>0</td>\n",
       "    </tr>\n",
       "  </tbody>\n",
       "</table>\n",
       "<p>40030 rows × 5 columns</p>\n",
       "</div>"
      ],
      "text/plain": [
       "                                           clean_PageURL  total positive  \\\n",
       "0         https://www.rockwellautomation.com-ch/products      1        0   \n",
       "25167  https://www.rockwellautomation.com/products/de...      2        0   \n",
       "25166  https://www.rockwellautomation.com/products/de...      1        0   \n",
       "25165  https://www.rockwellautomation.com/products/de...      1        0   \n",
       "25164  https://www.rockwellautomation.com/products/de...      5        0   \n",
       "...                                                  ...    ...      ...   \n",
       "29402  https://www.rockwellautomation.com/products/de...      2        2   \n",
       "31166  https://www.rockwellautomation.com/products/de...      1        1   \n",
       "7282   https://www.rockwellautomation.com/products/de...      1        1   \n",
       "20408  https://www.rockwellautomation.com/products/de...      1        1   \n",
       "24986  https://www.rockwellautomation.com/products/de...      1        1   \n",
       "\n",
       "      ratio negative  \n",
       "0       0.0        1  \n",
       "25167   0.0        2  \n",
       "25166   0.0        1  \n",
       "25165   0.0        1  \n",
       "25164   0.0        5  \n",
       "...     ...      ...  \n",
       "29402   1.0        0  \n",
       "31166   1.0        0  \n",
       "7282    1.0        0  \n",
       "20408   1.0        0  \n",
       "24986   1.0        0  \n",
       "\n",
       "[40030 rows x 5 columns]"
      ]
     },
     "execution_count": 145,
     "metadata": {},
     "output_type": "execute_result"
    }
   ],
   "source": [
    "# cc = result_wei[result_wei[\"clean_PageURL\"].str.contains(\".pdf\")]\n",
    "# cc[cc[\"total\"]>2].sort_values([\"ratio\"], ascending=False).style\n",
    "result_wei"
   ]
  },
  {
   "cell_type": "code",
   "execution_count": 83,
   "id": "aa50bcef",
   "metadata": {
    "ExecuteTime": {
     "end_time": "2022-12-16T19:23:47.305543Z",
     "start_time": "2022-12-16T19:23:47.216210Z"
    }
   },
   "outputs": [
    {
     "data": {
      "text/html": [
       "<style type=\"text/css\">\n",
       "</style>\n",
       "<table id=\"T_4387c_\">\n",
       "  <thead>\n",
       "    <tr>\n",
       "      <th class=\"blank level0\" >&nbsp;</th>\n",
       "      <th class=\"col_heading level0 col0\" >clean_PageURL</th>\n",
       "      <th class=\"col_heading level0 col1\" >total_wei</th>\n",
       "      <th class=\"col_heading level0 col2\" >positive</th>\n",
       "      <th class=\"col_heading level0 col3\" >ratio_wei</th>\n",
       "      <th class=\"col_heading level0 col4\" >negative</th>\n",
       "      <th class=\"col_heading level0 col5\" >total_inkoo</th>\n",
       "      <th class=\"col_heading level0 col6\" >eloqua</th>\n",
       "      <th class=\"col_heading level0 col7\" >crm</th>\n",
       "      <th class=\"col_heading level0 col8\" >ratio_inkoo</th>\n",
       "    </tr>\n",
       "  </thead>\n",
       "  <tbody>\n",
       "    <tr>\n",
       "      <th id=\"T_4387c_level0_row0\" class=\"row_heading level0 row0\" >0</th>\n",
       "      <td id=\"T_4387c_row0_col0\" class=\"data row0 col0\" >https://www.rockwellautomation.com/company/news/presentations/event_materials_page</td>\n",
       "      <td id=\"T_4387c_row0_col1\" class=\"data row0 col1\" >nan</td>\n",
       "      <td id=\"T_4387c_row0_col2\" class=\"data row0 col2\" >nan</td>\n",
       "      <td id=\"T_4387c_row0_col3\" class=\"data row0 col3\" >nan</td>\n",
       "      <td id=\"T_4387c_row0_col4\" class=\"data row0 col4\" >nan</td>\n",
       "      <td id=\"T_4387c_row0_col5\" class=\"data row0 col5\" >125</td>\n",
       "      <td id=\"T_4387c_row0_col6\" class=\"data row0 col6\" >125</td>\n",
       "      <td id=\"T_4387c_row0_col7\" class=\"data row0 col7\" >0</td>\n",
       "      <td id=\"T_4387c_row0_col8\" class=\"data row0 col8\" >1.0000</td>\n",
       "    </tr>\n",
       "    <tr>\n",
       "      <th id=\"T_4387c_level0_row1\" class=\"row_heading level0 row1\" >1</th>\n",
       "      <td id=\"T_4387c_row1_col0\" class=\"data row1 col0\" >https://www.rockwellautomation.com/company/news/magazines/beat-the-heat-when-mounting-low-voltage-ac-drives</td>\n",
       "      <td id=\"T_4387c_row1_col1\" class=\"data row1 col1\" >2.000000</td>\n",
       "      <td id=\"T_4387c_row1_col2\" class=\"data row1 col2\" >0</td>\n",
       "      <td id=\"T_4387c_row1_col3\" class=\"data row1 col3\" >0.000000</td>\n",
       "      <td id=\"T_4387c_row1_col4\" class=\"data row1 col4\" >2</td>\n",
       "      <td id=\"T_4387c_row1_col5\" class=\"data row1 col5\" >106</td>\n",
       "      <td id=\"T_4387c_row1_col6\" class=\"data row1 col6\" >100</td>\n",
       "      <td id=\"T_4387c_row1_col7\" class=\"data row1 col7\" >0</td>\n",
       "      <td id=\"T_4387c_row1_col8\" class=\"data row1 col8\" >0.9434</td>\n",
       "    </tr>\n",
       "    <tr>\n",
       "      <th id=\"T_4387c_level0_row2\" class=\"row_heading level0 row2\" >2</th>\n",
       "      <td id=\"T_4387c_row2_col0\" class=\"data row2 col0\" >https://www.rockwellautomation.com/company/events/in-person-events/partnernetwork-conf-kr</td>\n",
       "      <td id=\"T_4387c_row2_col1\" class=\"data row2 col1\" >72.000000</td>\n",
       "      <td id=\"T_4387c_row2_col2\" class=\"data row2 col2\" >13</td>\n",
       "      <td id=\"T_4387c_row2_col3\" class=\"data row2 col3\" >0.180556</td>\n",
       "      <td id=\"T_4387c_row2_col4\" class=\"data row2 col4\" >59</td>\n",
       "      <td id=\"T_4387c_row2_col5\" class=\"data row2 col5\" >155</td>\n",
       "      <td id=\"T_4387c_row2_col6\" class=\"data row2 col6\" >129</td>\n",
       "      <td id=\"T_4387c_row2_col7\" class=\"data row2 col7\" >0</td>\n",
       "      <td id=\"T_4387c_row2_col8\" class=\"data row2 col8\" >0.8323</td>\n",
       "    </tr>\n",
       "    <tr>\n",
       "      <th id=\"T_4387c_level0_row3\" class=\"row_heading level0 row3\" >3</th>\n",
       "      <td id=\"T_4387c_row3_col0\" class=\"data row3 col0\" >https://www.rockwellautomation.com/company/events/webinars/functional-safety-techconnect</td>\n",
       "      <td id=\"T_4387c_row3_col1\" class=\"data row3 col1\" >64.000000</td>\n",
       "      <td id=\"T_4387c_row3_col2\" class=\"data row3 col2\" >7</td>\n",
       "      <td id=\"T_4387c_row3_col3\" class=\"data row3 col3\" >0.109375</td>\n",
       "      <td id=\"T_4387c_row3_col4\" class=\"data row3 col4\" >57</td>\n",
       "      <td id=\"T_4387c_row3_col5\" class=\"data row3 col5\" >103</td>\n",
       "      <td id=\"T_4387c_row3_col6\" class=\"data row3 col6\" >80</td>\n",
       "      <td id=\"T_4387c_row3_col7\" class=\"data row3 col7\" >0</td>\n",
       "      <td id=\"T_4387c_row3_col8\" class=\"data row3 col8\" >0.7767</td>\n",
       "    </tr>\n",
       "    <tr>\n",
       "      <th id=\"T_4387c_level0_row4\" class=\"row_heading level0 row4\" >4</th>\n",
       "      <td id=\"T_4387c_row4_col0\" class=\"data row4 col0\" >https://www.rockwellautomation.com/company/events/in-person-events/archive</td>\n",
       "      <td id=\"T_4387c_row4_col1\" class=\"data row4 col1\" >14.000000</td>\n",
       "      <td id=\"T_4387c_row4_col2\" class=\"data row4 col2\" >0</td>\n",
       "      <td id=\"T_4387c_row4_col3\" class=\"data row4 col3\" >0.000000</td>\n",
       "      <td id=\"T_4387c_row4_col4\" class=\"data row4 col4\" >14</td>\n",
       "      <td id=\"T_4387c_row4_col5\" class=\"data row4 col5\" >146</td>\n",
       "      <td id=\"T_4387c_row4_col6\" class=\"data row4 col6\" >113</td>\n",
       "      <td id=\"T_4387c_row4_col7\" class=\"data row4 col7\" >0</td>\n",
       "      <td id=\"T_4387c_row4_col8\" class=\"data row4 col8\" >0.7740</td>\n",
       "    </tr>\n",
       "    <tr>\n",
       "      <th id=\"T_4387c_level0_row5\" class=\"row_heading level0 row5\" >5</th>\n",
       "      <td id=\"T_4387c_row5_col0\" class=\"data row5 col0\" >https://www.rockwellautomation.com/company/events/webinars/webinaire-process-dcs-plantpax</td>\n",
       "      <td id=\"T_4387c_row5_col1\" class=\"data row5 col1\" >17.000000</td>\n",
       "      <td id=\"T_4387c_row5_col2\" class=\"data row5 col2\" >3</td>\n",
       "      <td id=\"T_4387c_row5_col3\" class=\"data row5 col3\" >0.176471</td>\n",
       "      <td id=\"T_4387c_row5_col4\" class=\"data row5 col4\" >14</td>\n",
       "      <td id=\"T_4387c_row5_col5\" class=\"data row5 col5\" >148</td>\n",
       "      <td id=\"T_4387c_row5_col6\" class=\"data row5 col6\" >113</td>\n",
       "      <td id=\"T_4387c_row5_col7\" class=\"data row5 col7\" >0</td>\n",
       "      <td id=\"T_4387c_row5_col8\" class=\"data row5 col8\" >0.7635</td>\n",
       "    </tr>\n",
       "    <tr>\n",
       "      <th id=\"T_4387c_level0_row6\" class=\"row_heading level0 row6\" >6</th>\n",
       "      <td id=\"T_4387c_row6_col0\" class=\"data row6 col0\" >https://www.rockwellautomation.com/company/events/webinars/modernising-to-smart-connected-systems</td>\n",
       "      <td id=\"T_4387c_row6_col1\" class=\"data row6 col1\" >13.000000</td>\n",
       "      <td id=\"T_4387c_row6_col2\" class=\"data row6 col2\" >3</td>\n",
       "      <td id=\"T_4387c_row6_col3\" class=\"data row6 col3\" >0.230769</td>\n",
       "      <td id=\"T_4387c_row6_col4\" class=\"data row6 col4\" >10</td>\n",
       "      <td id=\"T_4387c_row6_col5\" class=\"data row6 col5\" >163</td>\n",
       "      <td id=\"T_4387c_row6_col6\" class=\"data row6 col6\" >124</td>\n",
       "      <td id=\"T_4387c_row6_col7\" class=\"data row6 col7\" >0</td>\n",
       "      <td id=\"T_4387c_row6_col8\" class=\"data row6 col8\" >0.7607</td>\n",
       "    </tr>\n",
       "    <tr>\n",
       "      <th id=\"T_4387c_level0_row7\" class=\"row_heading level0 row7\" >7</th>\n",
       "      <td id=\"T_4387c_row7_col0\" class=\"data row7 col0\" >https://www.rockwellautomation.com/campaigns/thank-you-smart-downloads</td>\n",
       "      <td id=\"T_4387c_row7_col1\" class=\"data row7 col1\" >6.000000</td>\n",
       "      <td id=\"T_4387c_row7_col2\" class=\"data row7 col2\" >1</td>\n",
       "      <td id=\"T_4387c_row7_col3\" class=\"data row7 col3\" >0.166667</td>\n",
       "      <td id=\"T_4387c_row7_col4\" class=\"data row7 col4\" >5</td>\n",
       "      <td id=\"T_4387c_row7_col5\" class=\"data row7 col5\" >129</td>\n",
       "      <td id=\"T_4387c_row7_col6\" class=\"data row7 col6\" >98</td>\n",
       "      <td id=\"T_4387c_row7_col7\" class=\"data row7 col7\" >0</td>\n",
       "      <td id=\"T_4387c_row7_col8\" class=\"data row7 col8\" >0.7597</td>\n",
       "    </tr>\n",
       "    <tr>\n",
       "      <th id=\"T_4387c_level0_row8\" class=\"row_heading level0 row8\" >8</th>\n",
       "      <td id=\"T_4387c_row8_col0\" class=\"data row8 col0\" >https://www.rockwellautomation.com/company/events/webinars/product-registration</td>\n",
       "      <td id=\"T_4387c_row8_col1\" class=\"data row8 col1\" >86.000000</td>\n",
       "      <td id=\"T_4387c_row8_col2\" class=\"data row8 col2\" >2</td>\n",
       "      <td id=\"T_4387c_row8_col3\" class=\"data row8 col3\" >0.023256</td>\n",
       "      <td id=\"T_4387c_row8_col4\" class=\"data row8 col4\" >84</td>\n",
       "      <td id=\"T_4387c_row8_col5\" class=\"data row8 col5\" >218</td>\n",
       "      <td id=\"T_4387c_row8_col6\" class=\"data row8 col6\" >163</td>\n",
       "      <td id=\"T_4387c_row8_col7\" class=\"data row8 col7\" >0</td>\n",
       "      <td id=\"T_4387c_row8_col8\" class=\"data row8 col8\" >0.7477</td>\n",
       "    </tr>\n",
       "    <tr>\n",
       "      <th id=\"T_4387c_level0_row9\" class=\"row_heading level0 row9\" >9</th>\n",
       "      <td id=\"T_4387c_row9_col0\" class=\"data row9 col0\" >https://www.rockwellautomation.com/campaigns/emea/en/company/events/webinars/tech-talks/hms-claroty-stratus</td>\n",
       "      <td id=\"T_4387c_row9_col1\" class=\"data row9 col1\" >nan</td>\n",
       "      <td id=\"T_4387c_row9_col2\" class=\"data row9 col2\" >nan</td>\n",
       "      <td id=\"T_4387c_row9_col3\" class=\"data row9 col3\" >nan</td>\n",
       "      <td id=\"T_4387c_row9_col4\" class=\"data row9 col4\" >nan</td>\n",
       "      <td id=\"T_4387c_row9_col5\" class=\"data row9 col5\" >202</td>\n",
       "      <td id=\"T_4387c_row9_col6\" class=\"data row9 col6\" >151</td>\n",
       "      <td id=\"T_4387c_row9_col7\" class=\"data row9 col7\" >0</td>\n",
       "      <td id=\"T_4387c_row9_col8\" class=\"data row9 col8\" >0.7475</td>\n",
       "    </tr>\n",
       "    <tr>\n",
       "      <th id=\"T_4387c_level0_row10\" class=\"row_heading level0 row10\" >10</th>\n",
       "      <td id=\"T_4387c_row10_col0\" class=\"data row10 col0\" >https://www.rockwellautomation.com/company/events/webinars/techconnect-genius-webinar--subscription-portal-overview-session2</td>\n",
       "      <td id=\"T_4387c_row10_col1\" class=\"data row10 col1\" >763.000000</td>\n",
       "      <td id=\"T_4387c_row10_col2\" class=\"data row10 col2\" >128</td>\n",
       "      <td id=\"T_4387c_row10_col3\" class=\"data row10 col3\" >0.167759</td>\n",
       "      <td id=\"T_4387c_row10_col4\" class=\"data row10 col4\" >635</td>\n",
       "      <td id=\"T_4387c_row10_col5\" class=\"data row10 col5\" >1447</td>\n",
       "      <td id=\"T_4387c_row10_col6\" class=\"data row10 col6\" >1057</td>\n",
       "      <td id=\"T_4387c_row10_col7\" class=\"data row10 col7\" >0</td>\n",
       "      <td id=\"T_4387c_row10_col8\" class=\"data row10 col8\" >0.7305</td>\n",
       "    </tr>\n",
       "    <tr>\n",
       "      <th id=\"T_4387c_level0_row11\" class=\"row_heading level0 row11\" >11</th>\n",
       "      <td id=\"T_4387c_row11_col0\" class=\"data row11 col0\" >https://www.rockwellautomation.com/company/events/webinars/404</td>\n",
       "      <td id=\"T_4387c_row11_col1\" class=\"data row11 col1\" >50.000000</td>\n",
       "      <td id=\"T_4387c_row11_col2\" class=\"data row11 col2\" >5</td>\n",
       "      <td id=\"T_4387c_row11_col3\" class=\"data row11 col3\" >0.100000</td>\n",
       "      <td id=\"T_4387c_row11_col4\" class=\"data row11 col4\" >45</td>\n",
       "      <td id=\"T_4387c_row11_col5\" class=\"data row11 col5\" >151</td>\n",
       "      <td id=\"T_4387c_row11_col6\" class=\"data row11 col6\" >109</td>\n",
       "      <td id=\"T_4387c_row11_col7\" class=\"data row11 col7\" >0</td>\n",
       "      <td id=\"T_4387c_row11_col8\" class=\"data row11 col8\" >0.7219</td>\n",
       "    </tr>\n",
       "    <tr>\n",
       "      <th id=\"T_4387c_level0_row12\" class=\"row_heading level0 row12\" >12</th>\n",
       "      <td id=\"T_4387c_row12_col0\" class=\"data row12 col0\" >https://www.rockwellautomation.com/campaigns/emea/en/company/events/webinars/technical-competency-updates/unleash-the-new-capabilities-of-edge-analytics</td>\n",
       "      <td id=\"T_4387c_row12_col1\" class=\"data row12 col1\" >nan</td>\n",
       "      <td id=\"T_4387c_row12_col2\" class=\"data row12 col2\" >nan</td>\n",
       "      <td id=\"T_4387c_row12_col3\" class=\"data row12 col3\" >nan</td>\n",
       "      <td id=\"T_4387c_row12_col4\" class=\"data row12 col4\" >nan</td>\n",
       "      <td id=\"T_4387c_row12_col5\" class=\"data row12 col5\" >372</td>\n",
       "      <td id=\"T_4387c_row12_col6\" class=\"data row12 col6\" >266</td>\n",
       "      <td id=\"T_4387c_row12_col7\" class=\"data row12 col7\" >0</td>\n",
       "      <td id=\"T_4387c_row12_col8\" class=\"data row12 col8\" >0.7151</td>\n",
       "    </tr>\n",
       "    <tr>\n",
       "      <th id=\"T_4387c_level0_row13\" class=\"row_heading level0 row13\" >13</th>\n",
       "      <td id=\"T_4387c_row13_col0\" class=\"data row13 col0\" >https://www.rockwellautomation.com/en-mde/products/hardware/allen-bradley/drives</td>\n",
       "      <td id=\"T_4387c_row13_col1\" class=\"data row13 col1\" >nan</td>\n",
       "      <td id=\"T_4387c_row13_col2\" class=\"data row13 col2\" >nan</td>\n",
       "      <td id=\"T_4387c_row13_col3\" class=\"data row13 col3\" >nan</td>\n",
       "      <td id=\"T_4387c_row13_col4\" class=\"data row13 col4\" >nan</td>\n",
       "      <td id=\"T_4387c_row13_col5\" class=\"data row13 col5\" >101</td>\n",
       "      <td id=\"T_4387c_row13_col6\" class=\"data row13 col6\" >72</td>\n",
       "      <td id=\"T_4387c_row13_col7\" class=\"data row13 col7\" >0</td>\n",
       "      <td id=\"T_4387c_row13_col8\" class=\"data row13 col8\" >0.7129</td>\n",
       "    </tr>\n",
       "    <tr>\n",
       "      <th id=\"T_4387c_level0_row14\" class=\"row_heading level0 row14\" >14</th>\n",
       "      <td id=\"T_4387c_row14_col0\" class=\"data row14 col0\" >https://www.rockwellautomation.com/support/product/product-selection-configuration/global-short-circuit-current-ratings-tool</td>\n",
       "      <td id=\"T_4387c_row14_col1\" class=\"data row14 col1\" >4102.000000</td>\n",
       "      <td id=\"T_4387c_row14_col2\" class=\"data row14 col2\" >460</td>\n",
       "      <td id=\"T_4387c_row14_col3\" class=\"data row14 col3\" >0.112140</td>\n",
       "      <td id=\"T_4387c_row14_col4\" class=\"data row14 col4\" >3642</td>\n",
       "      <td id=\"T_4387c_row14_col5\" class=\"data row14 col5\" >7015</td>\n",
       "      <td id=\"T_4387c_row14_col6\" class=\"data row14 col6\" >4995</td>\n",
       "      <td id=\"T_4387c_row14_col7\" class=\"data row14 col7\" >0</td>\n",
       "      <td id=\"T_4387c_row14_col8\" class=\"data row14 col8\" >0.7120</td>\n",
       "    </tr>\n",
       "    <tr>\n",
       "      <th id=\"T_4387c_level0_row15\" class=\"row_heading level0 row15\" >15</th>\n",
       "      <td id=\"T_4387c_row15_col0\" class=\"data row15 col0\" >https://www.rockwellautomation.com/company/events/in-person-events/partnernetwork-conference</td>\n",
       "      <td id=\"T_4387c_row15_col1\" class=\"data row15 col1\" >50.000000</td>\n",
       "      <td id=\"T_4387c_row15_col2\" class=\"data row15 col2\" >4</td>\n",
       "      <td id=\"T_4387c_row15_col3\" class=\"data row15 col3\" >0.080000</td>\n",
       "      <td id=\"T_4387c_row15_col4\" class=\"data row15 col4\" >46</td>\n",
       "      <td id=\"T_4387c_row15_col5\" class=\"data row15 col5\" >245</td>\n",
       "      <td id=\"T_4387c_row15_col6\" class=\"data row15 col6\" >174</td>\n",
       "      <td id=\"T_4387c_row15_col7\" class=\"data row15 col7\" >0</td>\n",
       "      <td id=\"T_4387c_row15_col8\" class=\"data row15 col8\" >0.7102</td>\n",
       "    </tr>\n",
       "    <tr>\n",
       "      <th id=\"T_4387c_level0_row16\" class=\"row_heading level0 row16\" >16</th>\n",
       "      <td id=\"T_4387c_row16_col0\" class=\"data row16 col0\" >https://www.rockwellautomation.com/industries/chemical/vfd-energy-savings-calculator</td>\n",
       "      <td id=\"T_4387c_row16_col1\" class=\"data row16 col1\" >45.000000</td>\n",
       "      <td id=\"T_4387c_row16_col2\" class=\"data row16 col2\" >1</td>\n",
       "      <td id=\"T_4387c_row16_col3\" class=\"data row16 col3\" >0.022222</td>\n",
       "      <td id=\"T_4387c_row16_col4\" class=\"data row16 col4\" >44</td>\n",
       "      <td id=\"T_4387c_row16_col5\" class=\"data row16 col5\" >215</td>\n",
       "      <td id=\"T_4387c_row16_col6\" class=\"data row16 col6\" >152</td>\n",
       "      <td id=\"T_4387c_row16_col7\" class=\"data row16 col7\" >0</td>\n",
       "      <td id=\"T_4387c_row16_col8\" class=\"data row16 col8\" >0.7070</td>\n",
       "    </tr>\n",
       "    <tr>\n",
       "      <th id=\"T_4387c_level0_row17\" class=\"row_heading level0 row17\" >17</th>\n",
       "      <td id=\"T_4387c_row17_col0\" class=\"data row17 col0\" >https://www.rockwellautomation.com/company/news/column/executive_news_japan</td>\n",
       "      <td id=\"T_4387c_row17_col1\" class=\"data row17 col1\" >15.000000</td>\n",
       "      <td id=\"T_4387c_row17_col2\" class=\"data row17 col2\" >0</td>\n",
       "      <td id=\"T_4387c_row17_col3\" class=\"data row17 col3\" >0.000000</td>\n",
       "      <td id=\"T_4387c_row17_col4\" class=\"data row17 col4\" >15</td>\n",
       "      <td id=\"T_4387c_row17_col5\" class=\"data row17 col5\" >112</td>\n",
       "      <td id=\"T_4387c_row17_col6\" class=\"data row17 col6\" >79</td>\n",
       "      <td id=\"T_4387c_row17_col7\" class=\"data row17 col7\" >0</td>\n",
       "      <td id=\"T_4387c_row17_col8\" class=\"data row17 col8\" >0.7054</td>\n",
       "    </tr>\n",
       "    <tr>\n",
       "      <th id=\"T_4387c_level0_row18\" class=\"row_heading level0 row18\" >18</th>\n",
       "      <td id=\"T_4387c_row18_col0\" class=\"data row18 col0\" >https://www.rockwellautomation.com/en-mde/support/product/product-compatibility-migration/product-lifecycle-status</td>\n",
       "      <td id=\"T_4387c_row18_col1\" class=\"data row18 col1\" >nan</td>\n",
       "      <td id=\"T_4387c_row18_col2\" class=\"data row18 col2\" >nan</td>\n",
       "      <td id=\"T_4387c_row18_col3\" class=\"data row18 col3\" >nan</td>\n",
       "      <td id=\"T_4387c_row18_col4\" class=\"data row18 col4\" >nan</td>\n",
       "      <td id=\"T_4387c_row18_col5\" class=\"data row18 col5\" >280</td>\n",
       "      <td id=\"T_4387c_row18_col6\" class=\"data row18 col6\" >196</td>\n",
       "      <td id=\"T_4387c_row18_col7\" class=\"data row18 col7\" >0</td>\n",
       "      <td id=\"T_4387c_row18_col8\" class=\"data row18 col8\" >0.7000</td>\n",
       "    </tr>\n",
       "    <tr>\n",
       "      <th id=\"T_4387c_level0_row19\" class=\"row_heading level0 row19\" >19</th>\n",
       "      <td id=\"T_4387c_row19_col0\" class=\"data row19 col0\" >https://www.rockwellautomation.com/campaigns/emea/en/company/events/webinars/tech-talks/cisco-prosoft-spectrum-controls</td>\n",
       "      <td id=\"T_4387c_row19_col1\" class=\"data row19 col1\" >nan</td>\n",
       "      <td id=\"T_4387c_row19_col2\" class=\"data row19 col2\" >nan</td>\n",
       "      <td id=\"T_4387c_row19_col3\" class=\"data row19 col3\" >nan</td>\n",
       "      <td id=\"T_4387c_row19_col4\" class=\"data row19 col4\" >nan</td>\n",
       "      <td id=\"T_4387c_row19_col5\" class=\"data row19 col5\" >120</td>\n",
       "      <td id=\"T_4387c_row19_col6\" class=\"data row19 col6\" >84</td>\n",
       "      <td id=\"T_4387c_row19_col7\" class=\"data row19 col7\" >0</td>\n",
       "      <td id=\"T_4387c_row19_col8\" class=\"data row19 col8\" >0.7000</td>\n",
       "    </tr>\n",
       "    <tr>\n",
       "      <th id=\"T_4387c_level0_row20\" class=\"row_heading level0 row20\" >20</th>\n",
       "      <td id=\"T_4387c_row20_col0\" class=\"data row20 col0\" >https://www.rockwellautomation.com/company/events/webinars/micro-control-integrated-automation-solution</td>\n",
       "      <td id=\"T_4387c_row20_col1\" class=\"data row20 col1\" >138.000000</td>\n",
       "      <td id=\"T_4387c_row20_col2\" class=\"data row20 col2\" >19</td>\n",
       "      <td id=\"T_4387c_row20_col3\" class=\"data row20 col3\" >0.137681</td>\n",
       "      <td id=\"T_4387c_row20_col4\" class=\"data row20 col4\" >119</td>\n",
       "      <td id=\"T_4387c_row20_col5\" class=\"data row20 col5\" >280</td>\n",
       "      <td id=\"T_4387c_row20_col6\" class=\"data row20 col6\" >194</td>\n",
       "      <td id=\"T_4387c_row20_col7\" class=\"data row20 col7\" >0</td>\n",
       "      <td id=\"T_4387c_row20_col8\" class=\"data row20 col8\" >0.6929</td>\n",
       "    </tr>\n",
       "    <tr>\n",
       "      <th id=\"T_4387c_level0_row21\" class=\"row_heading level0 row21\" >21</th>\n",
       "      <td id=\"T_4387c_row21_col0\" class=\"data row21 col0\" >https://www.rockwellautomation.com/company/events/webinars/protect-your-gigafactory-with-industrial-security</td>\n",
       "      <td id=\"T_4387c_row21_col1\" class=\"data row21 col1\" >82.000000</td>\n",
       "      <td id=\"T_4387c_row21_col2\" class=\"data row21 col2\" >6</td>\n",
       "      <td id=\"T_4387c_row21_col3\" class=\"data row21 col3\" >0.073171</td>\n",
       "      <td id=\"T_4387c_row21_col4\" class=\"data row21 col4\" >76</td>\n",
       "      <td id=\"T_4387c_row21_col5\" class=\"data row21 col5\" >169</td>\n",
       "      <td id=\"T_4387c_row21_col6\" class=\"data row21 col6\" >116</td>\n",
       "      <td id=\"T_4387c_row21_col7\" class=\"data row21 col7\" >0</td>\n",
       "      <td id=\"T_4387c_row21_col8\" class=\"data row21 col8\" >0.6864</td>\n",
       "    </tr>\n",
       "    <tr>\n",
       "      <th id=\"T_4387c_level0_row22\" class=\"row_heading level0 row22\" >22</th>\n",
       "      <td id=\"T_4387c_row22_col0\" class=\"data row22 col0\" >https://www.rockwellautomation.com/support/documentation/technical-data/proposalworkssuppleme20180213-1403</td>\n",
       "      <td id=\"T_4387c_row22_col1\" class=\"data row22 col1\" >56.000000</td>\n",
       "      <td id=\"T_4387c_row22_col2\" class=\"data row22 col2\" >2</td>\n",
       "      <td id=\"T_4387c_row22_col3\" class=\"data row22 col3\" >0.035714</td>\n",
       "      <td id=\"T_4387c_row22_col4\" class=\"data row22 col4\" >54</td>\n",
       "      <td id=\"T_4387c_row22_col5\" class=\"data row22 col5\" >114</td>\n",
       "      <td id=\"T_4387c_row22_col6\" class=\"data row22 col6\" >78</td>\n",
       "      <td id=\"T_4387c_row22_col7\" class=\"data row22 col7\" >0</td>\n",
       "      <td id=\"T_4387c_row22_col8\" class=\"data row22 col8\" >0.6842</td>\n",
       "    </tr>\n",
       "    <tr>\n",
       "      <th id=\"T_4387c_level0_row23\" class=\"row_heading level0 row23\" >23</th>\n",
       "      <td id=\"T_4387c_row23_col0\" class=\"data row23 col0\" >https://www.rockwellautomation.com/company/events/webinars/technology-partner-genius-webinar-with-prosoft-technology---conn</td>\n",
       "      <td id=\"T_4387c_row23_col1\" class=\"data row23 col1\" >54.000000</td>\n",
       "      <td id=\"T_4387c_row23_col2\" class=\"data row23 col2\" >8</td>\n",
       "      <td id=\"T_4387c_row23_col3\" class=\"data row23 col3\" >0.148148</td>\n",
       "      <td id=\"T_4387c_row23_col4\" class=\"data row23 col4\" >46</td>\n",
       "      <td id=\"T_4387c_row23_col5\" class=\"data row23 col5\" >114</td>\n",
       "      <td id=\"T_4387c_row23_col6\" class=\"data row23 col6\" >78</td>\n",
       "      <td id=\"T_4387c_row23_col7\" class=\"data row23 col7\" >0</td>\n",
       "      <td id=\"T_4387c_row23_col8\" class=\"data row23 col8\" >0.6842</td>\n",
       "    </tr>\n",
       "    <tr>\n",
       "      <th id=\"T_4387c_level0_row24\" class=\"row_heading level0 row24\" >24</th>\n",
       "      <td id=\"T_4387c_row24_col0\" class=\"data row24 col0\" >https://www.rockwellautomation.com/support/documentation/technical-data/proposalworksaddinghe20180213-1349</td>\n",
       "      <td id=\"T_4387c_row24_col1\" class=\"data row24 col1\" >52.000000</td>\n",
       "      <td id=\"T_4387c_row24_col2\" class=\"data row24 col2\" >4</td>\n",
       "      <td id=\"T_4387c_row24_col3\" class=\"data row24 col3\" >0.076923</td>\n",
       "      <td id=\"T_4387c_row24_col4\" class=\"data row24 col4\" >48</td>\n",
       "      <td id=\"T_4387c_row24_col5\" class=\"data row24 col5\" >104</td>\n",
       "      <td id=\"T_4387c_row24_col6\" class=\"data row24 col6\" >71</td>\n",
       "      <td id=\"T_4387c_row24_col7\" class=\"data row24 col7\" >0</td>\n",
       "      <td id=\"T_4387c_row24_col8\" class=\"data row24 col8\" >0.6827</td>\n",
       "    </tr>\n",
       "    <tr>\n",
       "      <th id=\"T_4387c_level0_row25\" class=\"row_heading level0 row25\" >25</th>\n",
       "      <td id=\"T_4387c_row25_col0\" class=\"data row25 col0\" >https://www.rockwellautomation.com/company/events/in-person-events/roklive/emea/faq</td>\n",
       "      <td id=\"T_4387c_row25_col1\" class=\"data row25 col1\" >114.000000</td>\n",
       "      <td id=\"T_4387c_row25_col2\" class=\"data row25 col2\" >12</td>\n",
       "      <td id=\"T_4387c_row25_col3\" class=\"data row25 col3\" >0.105263</td>\n",
       "      <td id=\"T_4387c_row25_col4\" class=\"data row25 col4\" >102</td>\n",
       "      <td id=\"T_4387c_row25_col5\" class=\"data row25 col5\" >321</td>\n",
       "      <td id=\"T_4387c_row25_col6\" class=\"data row25 col6\" >219</td>\n",
       "      <td id=\"T_4387c_row25_col7\" class=\"data row25 col7\" >0</td>\n",
       "      <td id=\"T_4387c_row25_col8\" class=\"data row25 col8\" >0.6822</td>\n",
       "    </tr>\n",
       "    <tr>\n",
       "      <th id=\"T_4387c_level0_row26\" class=\"row_heading level0 row26\" >26</th>\n",
       "      <td id=\"T_4387c_row26_col0\" class=\"data row26 col0\" >https://www.rockwellautomation.com/company/events/webinars/technology-partner-genius-webinar-with-oden-technologies</td>\n",
       "      <td id=\"T_4387c_row26_col1\" class=\"data row26 col1\" >392.000000</td>\n",
       "      <td id=\"T_4387c_row26_col2\" class=\"data row26 col2\" >59</td>\n",
       "      <td id=\"T_4387c_row26_col3\" class=\"data row26 col3\" >0.150510</td>\n",
       "      <td id=\"T_4387c_row26_col4\" class=\"data row26 col4\" >333</td>\n",
       "      <td id=\"T_4387c_row26_col5\" class=\"data row26 col5\" >796</td>\n",
       "      <td id=\"T_4387c_row26_col6\" class=\"data row26 col6\" >542</td>\n",
       "      <td id=\"T_4387c_row26_col7\" class=\"data row26 col7\" >0</td>\n",
       "      <td id=\"T_4387c_row26_col8\" class=\"data row26 col8\" >0.6809</td>\n",
       "    </tr>\n",
       "    <tr>\n",
       "      <th id=\"T_4387c_level0_row27\" class=\"row_heading level0 row27\" >27</th>\n",
       "      <td id=\"T_4387c_row27_col0\" class=\"data row27 col0\" >https://www.rockwellautomation.com/company/news/blogs/single-use-system-lifesciences-pt2</td>\n",
       "      <td id=\"T_4387c_row27_col1\" class=\"data row27 col1\" >3.000000</td>\n",
       "      <td id=\"T_4387c_row27_col2\" class=\"data row27 col2\" >1</td>\n",
       "      <td id=\"T_4387c_row27_col3\" class=\"data row27 col3\" >0.333333</td>\n",
       "      <td id=\"T_4387c_row27_col4\" class=\"data row27 col4\" >2</td>\n",
       "      <td id=\"T_4387c_row27_col5\" class=\"data row27 col5\" >102</td>\n",
       "      <td id=\"T_4387c_row27_col6\" class=\"data row27 col6\" >69</td>\n",
       "      <td id=\"T_4387c_row27_col7\" class=\"data row27 col7\" >0</td>\n",
       "      <td id=\"T_4387c_row27_col8\" class=\"data row27 col8\" >0.6765</td>\n",
       "    </tr>\n",
       "    <tr>\n",
       "      <th id=\"T_4387c_level0_row28\" class=\"row_heading level0 row28\" >28</th>\n",
       "      <td id=\"T_4387c_row28_col0\" class=\"data row28 col0\" >https://www.rockwellautomation.com/company/news/demonstrations/safety-automation-builder-software-demonstration</td>\n",
       "      <td id=\"T_4387c_row28_col1\" class=\"data row28 col1\" >190.000000</td>\n",
       "      <td id=\"T_4387c_row28_col2\" class=\"data row28 col2\" >12</td>\n",
       "      <td id=\"T_4387c_row28_col3\" class=\"data row28 col3\" >0.063158</td>\n",
       "      <td id=\"T_4387c_row28_col4\" class=\"data row28 col4\" >178</td>\n",
       "      <td id=\"T_4387c_row28_col5\" class=\"data row28 col5\" >307</td>\n",
       "      <td id=\"T_4387c_row28_col6\" class=\"data row28 col6\" >207</td>\n",
       "      <td id=\"T_4387c_row28_col7\" class=\"data row28 col7\" >0</td>\n",
       "      <td id=\"T_4387c_row28_col8\" class=\"data row28 col8\" >0.6743</td>\n",
       "    </tr>\n",
       "    <tr>\n",
       "      <th id=\"T_4387c_level0_row29\" class=\"row_heading level0 row29\" >29</th>\n",
       "      <td id=\"T_4387c_row29_col0\" class=\"data row29 col0\" >https://www.rockwellautomation.com/company/news/blogs/from-automation-to-autonomy</td>\n",
       "      <td id=\"T_4387c_row29_col1\" class=\"data row29 col1\" >16.000000</td>\n",
       "      <td id=\"T_4387c_row29_col2\" class=\"data row29 col2\" >0</td>\n",
       "      <td id=\"T_4387c_row29_col3\" class=\"data row29 col3\" >0.000000</td>\n",
       "      <td id=\"T_4387c_row29_col4\" class=\"data row29 col4\" >16</td>\n",
       "      <td id=\"T_4387c_row29_col5\" class=\"data row29 col5\" >153</td>\n",
       "      <td id=\"T_4387c_row29_col6\" class=\"data row29 col6\" >103</td>\n",
       "      <td id=\"T_4387c_row29_col7\" class=\"data row29 col7\" >0</td>\n",
       "      <td id=\"T_4387c_row29_col8\" class=\"data row29 col8\" >0.6732</td>\n",
       "    </tr>\n",
       "  </tbody>\n",
       "</table>\n"
      ],
      "text/plain": [
       "<pandas.io.formats.style.Styler at 0x7fd373781a60>"
      ]
     },
     "execution_count": 83,
     "metadata": {},
     "output_type": "execute_result"
    }
   ],
   "source": [
    "comparison = result_wei.merge(result_check, on=\"clean_PageURL\", suffixes=[\"_wei\", \"_inkoo\"], how=\"right\")\n",
    "comparison.style"
   ]
  },
  {
   "cell_type": "code",
   "execution_count": 28,
   "id": "ddf91be1",
   "metadata": {
    "ExecuteTime": {
     "end_time": "2022-12-16T17:05:59.953461Z",
     "start_time": "2022-12-16T17:05:59.951571Z"
    }
   },
   "outputs": [],
   "source": [
    "# aem_raw[aem_raw[\"PageURL\"]==\"https://www.rockwellautomation.com/company/news/presentations/event_materials_page\"]"
   ]
  },
  {
   "cell_type": "markdown",
   "id": "02e35068",
   "metadata": {},
   "source": [
    "#### URL checking"
   ]
  },
  {
   "cell_type": "code",
   "execution_count": 29,
   "id": "ad86731e",
   "metadata": {
    "ExecuteTime": {
     "end_time": "2022-12-16T17:06:00.746439Z",
     "start_time": "2022-12-16T17:05:59.954376Z"
    }
   },
   "outputs": [],
   "source": [
    "url_maps = stage1_raw[[\"clean_PageURL\", \"PageURL\"]].drop_duplicates()"
   ]
  },
  {
   "cell_type": "code",
   "execution_count": 30,
   "id": "8b7f712d",
   "metadata": {
    "ExecuteTime": {
     "end_time": "2022-12-16T17:06:00.750169Z",
     "start_time": "2022-12-16T17:06:00.748594Z"
    }
   },
   "outputs": [],
   "source": [
    "# b = aa.reset_index()\n",
    "# c = b[b[\"clean_PageURL\"].str.contains(\"emea\")]\n",
    "# c[(c[\"total\"]>100) & (c[\"ratio\"]>0.05)].head(40).style"
   ]
  },
  {
   "cell_type": "code",
   "execution_count": 31,
   "id": "7860ec5d",
   "metadata": {
    "ExecuteTime": {
     "end_time": "2022-12-16T17:06:00.752617Z",
     "start_time": "2022-12-16T17:06:00.750958Z"
    }
   },
   "outputs": [],
   "source": [
    "# url_maps[url_maps[\"clean_PageURL\"].str.contains(\"emea\")].head().style"
   ]
  },
  {
   "cell_type": "code",
   "execution_count": 32,
   "id": "b039102b",
   "metadata": {
    "ExecuteTime": {
     "end_time": "2022-12-16T17:06:00.754891Z",
     "start_time": "2022-12-16T17:06:00.753364Z"
    }
   },
   "outputs": [],
   "source": [
    "# url_idf = pd.DataFrame([vectorizer.get_feature_names(), vectorizer.idf_.tolist()]).T\n",
    "# url_idf.columns = [\"url\", \"idf\"]\n",
    "# with_idf = b.reset_index().merge(url_idf, left_on=\"clean_PageURL\", right_on=\"url\", how=\"left\")\n",
    "# with_idf.sort_values(by=\"idf\")"
   ]
  },
  {
   "cell_type": "markdown",
   "id": "72f8ee4c",
   "metadata": {
    "ExecuteTime": {
     "end_time": "2022-12-01T19:52:24.373754Z",
     "start_time": "2022-12-01T19:52:24.363288Z"
    }
   },
   "source": [
    "# Feature Engineering\n"
   ]
  },
  {
   "cell_type": "markdown",
   "id": "73fe9c01",
   "metadata": {},
   "source": [
    "## Preprocessing - TF-IDF (NLP)\n",
    "\n",
    "- TF-IDF = Term Frequency (TF) * Inverse Document Frequency (IDF)\n",
    "    - idf(t) = log(N/(df + 1))\n",
    "<!--         <img src=\"https://cdn-media-1.freecodecamp.org/images/1*q3qYevXqQOjJf6Pwdlx8Mw.png\" width=\"300\"/> -->\n",
    "<!--         <img src=\"https://preview.redd.it/clwuxvtqpeq91.png?width=397&format=png&auto=webp&s=ae6788cefae9b83b3033db3612ec83e8f5ded24f\" width=\"300\"/> -->\n",
    "    - rather directly using count frequency in the naive bayesian, using TF-IDF to adjust the features\n",
    "    \n",
    "- preprocessing.StandardScaler()\n",
    "    - should not use because the features importance are dependent on the frequency, which is already kind of information"
   ]
  },
  {
   "cell_type": "markdown",
   "id": "b68f4dbd",
   "metadata": {},
   "source": [
    "## stage1: wrapping data\n",
    "- label: Submitted gated form (target)\n",
    "    - generated by EventList\n",
    "- features:\n",
    "    - choosed:\n",
    "        - BingeScoredAssetPath: Current BingeScoredAssetPath interaction on one session ( content sequence )\n",
    "        - DateTime_UTC -> for concat sequence in visited order\n",
    "    - possible:\n",
    "        - BingeScoredAssetScore = manually set -> importance level for sales people\n",
    "        - BingeCriticalScore = manually threshold -> initial threshold for sales people\n",
    "        - PageURL? what information this URL can bring into model?\n",
    "        \n",
    "- original asset score manual setup ideas:\n",
    "    - asset weight average is 1, if it is more important/meaningful -> bump up to 2;\n",
    "    - if there are 5 assets in total, then default basic threshold is 5"
   ]
  },
  {
   "cell_type": "code",
   "execution_count": 33,
   "id": "2e6e752d",
   "metadata": {
    "ExecuteTime": {
     "end_time": "2022-12-16T17:06:00.757533Z",
     "start_time": "2022-12-16T17:06:00.755745Z"
    }
   },
   "outputs": [],
   "source": [
    "SEP_TOKEN_PATTERN = \"[^\\$]+\"\n",
    "SEED = 42\n",
    "TEST_SIZE = 0.2"
   ]
  },
  {
   "cell_type": "markdown",
   "id": "7de72f6b",
   "metadata": {},
   "source": [
    "# Modeling\n",
    "\n"
   ]
  },
  {
   "cell_type": "markdown",
   "id": "571b4581",
   "metadata": {},
   "source": [
    "## Stage-1: Scoring content - visitor preference \n",
    "- rethink:\n",
    "    - what is the most attractive content for visitor v.s. what is the most attractive content for salespeople?\n",
    "        - SubmitGatedForm action is not marked by sales people, it's kind of inclination level from user side\n",
    "        - the model is trying to know which asset is more important for SubmitGatedForm \n",
    "        - how important for user to submit GCDC\n",
    "\n",
    "    - weight should be from sales people definition, but current method can only get the attractive score on visitor aspect => \n",
    "        - assumption-1: more clicks => interesting to connect? <font color=red>submit GCDC == made a reach out decision? YES?</font>\n",
    "        - they will think the information are valuable for them, want to get more related information -> salespeople reach out? When is the time = threshold?"
   ]
  },
  {
   "cell_type": "code",
   "execution_count": 34,
   "id": "680db51f",
   "metadata": {
    "ExecuteTime": {
     "end_time": "2022-12-16T17:06:01.071855Z",
     "start_time": "2022-12-16T17:06:01.067382Z"
    }
   },
   "outputs": [],
   "source": [
    "# def page_journey_aggregation(user_journey, sep=\"$\"):\n",
    "#     label = user_journey[\"label\"].unique()\n",
    "#     assert len(label) == 1\n",
    "#     y = label[0]\n",
    "            \n",
    "#     page_view = sep.join(user_journey.sort_values(by=\"DateTime_UTC\")[\"clean_PageURL\"].tolist())\n",
    "#     return pd.Series([page_view, y], index=[\"features\", \"label\"])\n",
    "\n",
    "# data = stage1_raw.groupby(\"mcvisid\").progress_apply(lambda x: page_journey_aggregation(x))"
   ]
  },
  {
   "cell_type": "code",
   "execution_count": 35,
   "id": "08d0a3c7",
   "metadata": {
    "ExecuteTime": {
     "end_time": "2022-12-16T17:06:01.269528Z",
     "start_time": "2022-12-16T17:06:01.261970Z"
    }
   },
   "outputs": [],
   "source": [
    "# y_sum = stage1_raw.groupby(\"mcvisid\")[\"label\"].sum()\n",
    "# y_size = stage1_raw.groupby(\"mcvisid\")[\"label\"].size()\n",
    "# y_validation = pd.concat([y_size, y_sum], axis=1)\n",
    "# y_validation.columns=[\"y_size\",\"y_sum\"]\n",
    "# y_pos = y_validation[y_validation[\"y_sum\"]>0]\n",
    "# y_pos[y_pos[\"y_size\"] != y_pos[\"y_sum\"]]# should be unique zero"
   ]
  },
  {
   "cell_type": "code",
   "execution_count": 36,
   "id": "c6aa233c",
   "metadata": {
    "ExecuteTime": {
     "end_time": "2022-12-16T17:06:01.499087Z",
     "start_time": "2022-12-16T17:06:01.495059Z"
    }
   },
   "outputs": [],
   "source": [
    "# stage1_raw[stage1_raw[\"mcvisid\"] == \"00000092262929664423777026703889338013\"]"
   ]
  },
  {
   "cell_type": "code",
   "execution_count": 37,
   "id": "f6b3a3f4",
   "metadata": {
    "ExecuteTime": {
     "end_time": "2022-12-16T17:06:09.083384Z",
     "start_time": "2022-12-16T17:06:01.666091Z"
    }
   },
   "outputs": [
    {
     "name": "stderr",
     "output_type": "stream",
     "text": [
      "100%|████████████████████████████████| 129193/129193 [00:04<00:00, 29629.98it/s]\n"
     ]
    }
   ],
   "source": [
    "X = stage1_raw.sort_values(by=[\"date\",\"hour\"]).groupby(\"mcvisid\").progress_apply(lambda x: \"$\".join(x[\"clean_PageURL\"]))\n",
    "y = stage1_raw.groupby(\"mcvisid\")[\"label\"].sum()>0"
   ]
  },
  {
   "cell_type": "markdown",
   "id": "eece798e",
   "metadata": {},
   "source": [
    "### minium visit frequency data viewer\n",
    "- at least valid five visit"
   ]
  },
  {
   "cell_type": "code",
   "execution_count": 38,
   "id": "9cb86d7d",
   "metadata": {
    "ExecuteTime": {
     "end_time": "2022-12-16T17:06:19.784165Z",
     "start_time": "2022-12-16T17:06:09.084962Z"
    }
   },
   "outputs": [],
   "source": [
    "stage1_raw.to_csv(f\"tableau_eda_{VERSION}.csv\")"
   ]
  },
  {
   "cell_type": "code",
   "execution_count": null,
   "id": "6fc899a5",
   "metadata": {},
   "outputs": [],
   "source": []
  },
  {
   "cell_type": "code",
   "execution_count": 39,
   "id": "e184b63f",
   "metadata": {
    "ExecuteTime": {
     "end_time": "2022-12-16T17:06:31.721944Z",
     "start_time": "2022-12-16T17:06:19.785013Z"
    },
    "scrolled": true
   },
   "outputs": [
    {
     "name": "stderr",
     "output_type": "stream",
     "text": [
      "100%|███████████████████████████████████████████| 14/14 [00:11<00:00,  1.22it/s]\n"
     ]
    }
   ],
   "source": [
    "fts = pd.DataFrame()\n",
    "unique_fts = pd.DataFrame()\n",
    "visit_freq = stage1_raw.groupby(\"mcvisid\").size().sort_values()\n",
    "for mini_records in tqdm(range(1,15)):\n",
    "    target_visit = visit_freq[visit_freq>=mini_records]\n",
    "    target_raw = stage1_raw[stage1_raw[\"mcvisid\"].isin(target_visit.index)]\n",
    "    ft = target_raw[\"label\"].value_counts().rename(f\"min{mini_records}\").to_frame().T\n",
    "    unique_ft = target_raw[[\"mcvisid\",\"label\"]].drop_duplicates()[\"label\"].value_counts().rename(f\"u-min{mini_records}\").to_frame().T\n",
    "    fts = pd.concat([fts, ft])\n",
    "    unique_fts = pd.concat([unique_ft,unique_fts])\n"
   ]
  },
  {
   "cell_type": "code",
   "execution_count": 40,
   "id": "1da73bb4",
   "metadata": {
    "ExecuteTime": {
     "end_time": "2022-12-16T17:06:31.728273Z",
     "start_time": "2022-12-16T17:06:31.725157Z"
    }
   },
   "outputs": [],
   "source": [
    "# unique_fts\n",
    "unique_fts = unique_fts.sort_values(by=1, ascending=False)"
   ]
  },
  {
   "cell_type": "code",
   "execution_count": 41,
   "id": "5f69fff2",
   "metadata": {
    "ExecuteTime": {
     "end_time": "2022-12-16T17:06:31.821344Z",
     "start_time": "2022-12-16T17:06:31.729696Z"
    }
   },
   "outputs": [
    {
     "data": {
      "text/html": [
       "<div>\n",
       "<style scoped>\n",
       "    .dataframe tbody tr th:only-of-type {\n",
       "        vertical-align: middle;\n",
       "    }\n",
       "\n",
       "    .dataframe tbody tr th {\n",
       "        vertical-align: top;\n",
       "    }\n",
       "\n",
       "    .dataframe thead th {\n",
       "        text-align: right;\n",
       "    }\n",
       "</style>\n",
       "<table border=\"1\" class=\"dataframe\">\n",
       "  <thead>\n",
       "    <tr style=\"text-align: right;\">\n",
       "      <th></th>\n",
       "      <th>False</th>\n",
       "      <th>True</th>\n",
       "      <th>ratio</th>\n",
       "    </tr>\n",
       "  </thead>\n",
       "  <tbody>\n",
       "    <tr>\n",
       "      <th>u-min1</th>\n",
       "      <td>123280</td>\n",
       "      <td>6332</td>\n",
       "      <td>19.469362</td>\n",
       "    </tr>\n",
       "    <tr>\n",
       "      <th>u-min2</th>\n",
       "      <td>102884</td>\n",
       "      <td>5626</td>\n",
       "      <td>18.287238</td>\n",
       "    </tr>\n",
       "    <tr>\n",
       "      <th>u-min3</th>\n",
       "      <td>87106</td>\n",
       "      <td>5000</td>\n",
       "      <td>17.421200</td>\n",
       "    </tr>\n",
       "    <tr>\n",
       "      <th>u-min4</th>\n",
       "      <td>75145</td>\n",
       "      <td>4542</td>\n",
       "      <td>16.544474</td>\n",
       "    </tr>\n",
       "    <tr>\n",
       "      <th>u-min5</th>\n",
       "      <td>65642</td>\n",
       "      <td>4105</td>\n",
       "      <td>15.990743</td>\n",
       "    </tr>\n",
       "    <tr>\n",
       "      <th>u-min6</th>\n",
       "      <td>58028</td>\n",
       "      <td>3776</td>\n",
       "      <td>15.367585</td>\n",
       "    </tr>\n",
       "    <tr>\n",
       "      <th>u-min7</th>\n",
       "      <td>51860</td>\n",
       "      <td>3459</td>\n",
       "      <td>14.992772</td>\n",
       "    </tr>\n",
       "    <tr>\n",
       "      <th>u-min8</th>\n",
       "      <td>46657</td>\n",
       "      <td>3232</td>\n",
       "      <td>14.435953</td>\n",
       "    </tr>\n",
       "    <tr>\n",
       "      <th>u-min9</th>\n",
       "      <td>42381</td>\n",
       "      <td>3004</td>\n",
       "      <td>14.108189</td>\n",
       "    </tr>\n",
       "    <tr>\n",
       "      <th>u-min10</th>\n",
       "      <td>38772</td>\n",
       "      <td>2816</td>\n",
       "      <td>13.768466</td>\n",
       "    </tr>\n",
       "    <tr>\n",
       "      <th>u-min11</th>\n",
       "      <td>35578</td>\n",
       "      <td>2651</td>\n",
       "      <td>13.420596</td>\n",
       "    </tr>\n",
       "    <tr>\n",
       "      <th>u-min12</th>\n",
       "      <td>32920</td>\n",
       "      <td>2498</td>\n",
       "      <td>13.178543</td>\n",
       "    </tr>\n",
       "    <tr>\n",
       "      <th>u-min13</th>\n",
       "      <td>30492</td>\n",
       "      <td>2347</td>\n",
       "      <td>12.991905</td>\n",
       "    </tr>\n",
       "    <tr>\n",
       "      <th>u-min14</th>\n",
       "      <td>28454</td>\n",
       "      <td>2227</td>\n",
       "      <td>12.776830</td>\n",
       "    </tr>\n",
       "  </tbody>\n",
       "</table>\n",
       "</div>"
      ],
      "text/plain": [
       "          False  True      ratio\n",
       "u-min1   123280  6332  19.469362\n",
       "u-min2   102884  5626  18.287238\n",
       "u-min3    87106  5000  17.421200\n",
       "u-min4    75145  4542  16.544474\n",
       "u-min5    65642  4105  15.990743\n",
       "u-min6    58028  3776  15.367585\n",
       "u-min7    51860  3459  14.992772\n",
       "u-min8    46657  3232  14.435953\n",
       "u-min9    42381  3004  14.108189\n",
       "u-min10   38772  2816  13.768466\n",
       "u-min11   35578  2651  13.420596\n",
       "u-min12   32920  2498  13.178543\n",
       "u-min13   30492  2347  12.991905\n",
       "u-min14   28454  2227  12.776830"
      ]
     },
     "execution_count": 41,
     "metadata": {},
     "output_type": "execute_result"
    },
    {
     "data": {
      "image/png": "[encoded data removed]",
      "text/plain": [
       "<Figure size 432x288 with 1 Axes>"
      ]
     },
     "metadata": {
      "needs_background": "light"
     },
     "output_type": "display_data"
    }
   ],
   "source": [
    "unique_fts.plot()\n",
    "unique_fts[\"ratio\"] = unique_fts[0]/unique_fts[1]\n",
    "unique_fts"
   ]
  },
  {
   "cell_type": "code",
   "execution_count": 42,
   "id": "f343ae2d",
   "metadata": {
    "ExecuteTime": {
     "end_time": "2022-12-16T17:06:31.895585Z",
     "start_time": "2022-12-16T17:06:31.822671Z"
    }
   },
   "outputs": [
    {
     "data": {
      "text/html": [
       "<div>\n",
       "<style scoped>\n",
       "    .dataframe tbody tr th:only-of-type {\n",
       "        vertical-align: middle;\n",
       "    }\n",
       "\n",
       "    .dataframe tbody tr th {\n",
       "        vertical-align: top;\n",
       "    }\n",
       "\n",
       "    .dataframe thead th {\n",
       "        text-align: right;\n",
       "    }\n",
       "</style>\n",
       "<table border=\"1\" class=\"dataframe\">\n",
       "  <thead>\n",
       "    <tr style=\"text-align: right;\">\n",
       "      <th></th>\n",
       "      <th>False</th>\n",
       "      <th>True</th>\n",
       "      <th>ratio</th>\n",
       "    </tr>\n",
       "  </thead>\n",
       "  <tbody>\n",
       "    <tr>\n",
       "      <th>min1</th>\n",
       "      <td>1521307</td>\n",
       "      <td>104551</td>\n",
       "      <td>14.550860</td>\n",
       "    </tr>\n",
       "    <tr>\n",
       "      <th>min2</th>\n",
       "      <td>1500911</td>\n",
       "      <td>103845</td>\n",
       "      <td>14.453378</td>\n",
       "    </tr>\n",
       "    <tr>\n",
       "      <th>min3</th>\n",
       "      <td>1469384</td>\n",
       "      <td>102622</td>\n",
       "      <td>14.318411</td>\n",
       "    </tr>\n",
       "    <tr>\n",
       "      <th>min4</th>\n",
       "      <td>1433501</td>\n",
       "      <td>101248</td>\n",
       "      <td>14.158314</td>\n",
       "    </tr>\n",
       "    <tr>\n",
       "      <th>min5</th>\n",
       "      <td>1395553</td>\n",
       "      <td>99564</td>\n",
       "      <td>14.016643</td>\n",
       "    </tr>\n",
       "    <tr>\n",
       "      <th>min6</th>\n",
       "      <td>1357483</td>\n",
       "      <td>97919</td>\n",
       "      <td>13.863326</td>\n",
       "    </tr>\n",
       "    <tr>\n",
       "      <th>min7</th>\n",
       "      <td>1320568</td>\n",
       "      <td>96110</td>\n",
       "      <td>13.740173</td>\n",
       "    </tr>\n",
       "    <tr>\n",
       "      <th>min8</th>\n",
       "      <td>1284147</td>\n",
       "      <td>94521</td>\n",
       "      <td>13.585838</td>\n",
       "    </tr>\n",
       "    <tr>\n",
       "      <th>min9</th>\n",
       "      <td>1250007</td>\n",
       "      <td>92765</td>\n",
       "      <td>13.474985</td>\n",
       "    </tr>\n",
       "    <tr>\n",
       "      <th>min10</th>\n",
       "      <td>1217526</td>\n",
       "      <td>91073</td>\n",
       "      <td>13.368682</td>\n",
       "    </tr>\n",
       "    <tr>\n",
       "      <th>min11</th>\n",
       "      <td>1185661</td>\n",
       "      <td>89498</td>\n",
       "      <td>13.247905</td>\n",
       "    </tr>\n",
       "    <tr>\n",
       "      <th>min12</th>\n",
       "      <td>1156423</td>\n",
       "      <td>87815</td>\n",
       "      <td>13.168855</td>\n",
       "    </tr>\n",
       "    <tr>\n",
       "      <th>min13</th>\n",
       "      <td>1127383</td>\n",
       "      <td>86099</td>\n",
       "      <td>13.094031</td>\n",
       "    </tr>\n",
       "    <tr>\n",
       "      <th>min14</th>\n",
       "      <td>1100889</td>\n",
       "      <td>84539</td>\n",
       "      <td>13.022262</td>\n",
       "    </tr>\n",
       "  </tbody>\n",
       "</table>\n",
       "</div>"
      ],
      "text/plain": [
       "         False    True      ratio\n",
       "min1   1521307  104551  14.550860\n",
       "min2   1500911  103845  14.453378\n",
       "min3   1469384  102622  14.318411\n",
       "min4   1433501  101248  14.158314\n",
       "min5   1395553   99564  14.016643\n",
       "min6   1357483   97919  13.863326\n",
       "min7   1320568   96110  13.740173\n",
       "min8   1284147   94521  13.585838\n",
       "min9   1250007   92765  13.474985\n",
       "min10  1217526   91073  13.368682\n",
       "min11  1185661   89498  13.247905\n",
       "min12  1156423   87815  13.168855\n",
       "min13  1127383   86099  13.094031\n",
       "min14  1100889   84539  13.022262"
      ]
     },
     "execution_count": 42,
     "metadata": {},
     "output_type": "execute_result"
    },
    {
     "data": {
      "image/png": "[encoded data removed]",
      "text/plain": [
       "<Figure size 432x288 with 1 Axes>"
      ]
     },
     "metadata": {
      "needs_background": "light"
     },
     "output_type": "display_data"
    }
   ],
   "source": [
    "fts.plot()\n",
    "fts[\"ratio\"] = fts[0]/fts[1]\n",
    "fts"
   ]
  },
  {
   "cell_type": "code",
   "execution_count": 43,
   "id": "c15b76f8",
   "metadata": {
    "ExecuteTime": {
     "end_time": "2022-12-16T17:06:32.366646Z",
     "start_time": "2022-12-16T17:06:31.896724Z"
    }
   },
   "outputs": [],
   "source": [
    "target_visit = visit_freq[(visit_freq>=5)]\n",
    "target_raw = stage1_raw[stage1_raw[\"mcvisid\"].isin(target_visit.index)]"
   ]
  },
  {
   "cell_type": "code",
   "execution_count": 44,
   "id": "017b5de6",
   "metadata": {
    "ExecuteTime": {
     "end_time": "2022-12-16T17:06:35.925581Z",
     "start_time": "2022-12-16T17:06:32.368115Z"
    }
   },
   "outputs": [
    {
     "name": "stderr",
     "output_type": "stream",
     "text": [
      "100%|██████████████████████████████████| 69389/69389 [00:02<00:00, 29870.18it/s]\n"
     ]
    }
   ],
   "source": [
    "X = target_raw.sort_values(by=[\"date\",\"hour\"]).groupby(\"mcvisid\").progress_apply(lambda x: \"$\".join(x[\"clean_PageURL\"]))\n",
    "y = target_raw.groupby(\"mcvisid\")[\"label\"].sum()>0"
   ]
  },
  {
   "cell_type": "code",
   "execution_count": 45,
   "id": "c250cabb",
   "metadata": {
    "ExecuteTime": {
     "end_time": "2022-12-16T17:06:35.928090Z",
     "start_time": "2022-12-16T17:06:35.926498Z"
    }
   },
   "outputs": [],
   "source": [
    "# target_pageurls = target_raw[[\"PageURL\", \"clean_PageURL\"]].drop_duplicates()"
   ]
  },
  {
   "cell_type": "code",
   "execution_count": 46,
   "id": "da42f42d",
   "metadata": {
    "ExecuteTime": {
     "end_time": "2022-12-16T17:06:35.956400Z",
     "start_time": "2022-12-16T17:06:35.930521Z"
    }
   },
   "outputs": [],
   "source": [
    "data = pd.concat([X, y], axis=1)\n",
    "data.columns = [\"features\", \"label\"]\n",
    "\n",
    "### increase threshold\n",
    "# data = data.loc[target_visit.index]\n",
    "# print(\"reduce rows:\", X.shape[0] - data.shape[0], \"from \", X.shape[0], \"keep rows: \", data.shape[0])"
   ]
  },
  {
   "cell_type": "code",
   "execution_count": 47,
   "id": "8b2d75de",
   "metadata": {
    "ExecuteTime": {
     "end_time": "2022-12-16T17:06:35.959163Z",
     "start_time": "2022-12-16T17:06:35.957450Z"
    }
   },
   "outputs": [],
   "source": [
    "# data[\"features\"].drop_duplicates()"
   ]
  },
  {
   "cell_type": "code",
   "execution_count": 48,
   "id": "9344fa58",
   "metadata": {
    "ExecuteTime": {
     "end_time": "2022-12-16T17:06:35.961586Z",
     "start_time": "2022-12-16T17:06:35.960252Z"
    }
   },
   "outputs": [],
   "source": [
    "# aa = data.groupby(\"features\", group_keys=False).size().sort_values() # 检查是否有 同样数据 但是不同的 label 的数据\n",
    "# aa.to_frame().tail(40).style"
   ]
  },
  {
   "cell_type": "markdown",
   "id": "de640e58",
   "metadata": {},
   "source": [
    "### Data split + TFIDF\n",
    "<!-- \n",
    "# ## outdated\n",
    "# data = stage1_raw.groupby(\"SessionVisitorId\").apply(lambda x: processing_stage1(x, target_method=1, feature_method=\"bow\"))\n",
    "# data[\"submitted_form\"].value_counts()\n",
    "\n",
    "# def tfidf_transform(dtm, idf=None):\n",
    "#     N = dtm.shape[0] # number of document\n",
    "#     tf = (dtm/(dtm.sum(axis=1).reshape(-1,1)))\n",
    "\n",
    "#     if idf is None:\n",
    "#         idf = np.log(1 + N/(dtm.astype(bool).sum(axis=0)))\n",
    "        \n",
    "#     tfidf = tf * idf\n",
    "#     return tfidf, idf\n",
    "# v = DictVectorizer(sparse=False)\n",
    "# X_train_dtm = v.fit_transform(X_train)\n",
    "# X_test_dtm = v.transform(X_test)\n",
    "# X_train_arr, idf = tfidf_transform(X_train_dtm)\n",
    "# X_test_arr, _ = tfidf_transform(X_test_dtm, idf) -->"
   ]
  },
  {
   "cell_type": "code",
   "execution_count": 49,
   "id": "aa062e9a",
   "metadata": {
    "ExecuteTime": {
     "end_time": "2022-12-16T17:06:36.281967Z",
     "start_time": "2022-12-16T17:06:35.962593Z"
    }
   },
   "outputs": [
    {
     "data": {
      "text/html": [
       "<style type=\"text/css\">\n",
       "</style>\n",
       "<table id=\"T_7e473_\">\n",
       "  <thead>\n",
       "    <tr>\n",
       "      <th class=\"blank level0\" >&nbsp;</th>\n",
       "      <th class=\"col_heading level0 col0\" >features_seq</th>\n",
       "      <th class=\"col_heading level0 col1\" >label</th>\n",
       "    </tr>\n",
       "    <tr>\n",
       "      <th class=\"index_name level0\" >mcvisid</th>\n",
       "      <th class=\"blank col0\" >&nbsp;</th>\n",
       "      <th class=\"blank col1\" >&nbsp;</th>\n",
       "    </tr>\n",
       "  </thead>\n",
       "  <tbody>\n",
       "    <tr>\n",
       "      <th id=\"T_7e473_level0_row0\" class=\"row_heading level0 row0\" >36865645799817340933860350092266427854</th>\n",
       "      <td id=\"T_7e473_row0_col0\" class=\"data row0 col0\" >['https://www.rockwellautomation.com/products/hardware/allen-bradley/network-security-and-infrastructure/devicenet-networks', 'https://www.rockwellautomation.com/products/hardware/allen-bradley/motor-control/low-voltage-starters/armorstart-distributed-motor-controllers', 'https://www.rockwellautomation.com/products/hardware/allen-bradley/motor-control/low-voltage-starters/armorstart-distributed-motor-controllers', 'https://www.rockwellautomation.com/products/hardware/allen-bradley/motor-control/low-voltage-starters/armorstart-distributed-motor-controllers', 'https://www.rockwellautomation.com/products/details.1791ES-IB16']</td>\n",
       "      <td id=\"T_7e473_row0_col1\" class=\"data row0 col1\" >False</td>\n",
       "    </tr>\n",
       "    <tr>\n",
       "      <th id=\"T_7e473_level0_row1\" class=\"row_heading level0 row1\" >31681164737141278610068565336580780041</th>\n",
       "      <td id=\"T_7e473_row1_col0\" class=\"data row1 col0\" >['https://www.rockwellautomation.com/products/software/factorytalk/designsuite/studio-5000', 'https://www.rockwellautomation.com/capabilities/software-ordering-options', 'https://www.rockwellautomation.com/products/software/factorytalk/designsuite/studio-5000/studio-5000-logix-designer', 'https://www.rockwellautomation.com/support/documentation/overview/studio-5000-design-environment-overview', 'https://www.rockwellautomation.com/products/software/factorytalk/designsuite/studio-5000/studio-5000-logix-designer', 'https://www.rockwellautomation.com/products/software/factorytalk/designsuite/studio-5000/studio-5000-logix-designer', 'https://www.rockwellautomation.com/products/software/factorytalk/designsuite/studio-5000', 'https://www.rockwellautomation.com/capabilities/software-ordering-options', 'https://www.rockwellautomation.com/products/software/factorytalk/designsuite/studio-5000/studio-5000-logix-designer', 'https://www.rockwellautomation.com/products/software/factorytalk/designsuite/studio-5000', 'https://www.rockwellautomation.com/tools/software-subscriptions-updated', 'https://www.rockwellautomation.com/capabilities/epc', 'https://www.rockwellautomation.com/rockwellautomation/support/activations']</td>\n",
       "      <td id=\"T_7e473_row1_col1\" class=\"data row1 col1\" >False</td>\n",
       "    </tr>\n",
       "    <tr>\n",
       "      <th id=\"T_7e473_level0_row2\" class=\"row_heading level0 row2\" >27514056952888852442679816754433789997</th>\n",
       "      <td id=\"T_7e473_row2_col0\" class=\"data row2 col0\" >['https://www.rockwellautomation.com/tools/software-subscriptions-updated', 'https://www.rockwellautomation.com/partner', 'https://www.rockwellautomation.com/capabilities/industrial-automation-control/design-and-configuration-software', 'https://www.rockwellautomation.com/products/hardware/allen-bradley/programmable-controllers/micro-controllers/micro800-family/micro870-controllers', 'https://www.rockwellautomation.com/capabilities/industrial-automation-control/design-and-configuration-software']</td>\n",
       "      <td id=\"T_7e473_row2_col1\" class=\"data row2 col1\" >False</td>\n",
       "    </tr>\n",
       "    <tr>\n",
       "      <th id=\"T_7e473_level0_row3\" class=\"row_heading level0 row3\" >27904156301782694273677843385962253389</th>\n",
       "      <td id=\"T_7e473_row3_col0\" class=\"data row3 col0\" >['https://www.rockwellautomation.com/products/details.1756-L82E', 'https://www.rockwellautomation.com/products/details.1756-L72', 'https://www.rockwellautomation.com/products/details.1756-L82E', 'https://www.rockwellautomation.com/products/hardware/allen-bradley/industrial-computers-monitors/thin-clients', 'https://www.rockwellautomation.com/products/hardware/allen-bradley/industrial-computers-monitors/thin-clients/6300t-box-thin-client']</td>\n",
       "      <td id=\"T_7e473_row3_col1\" class=\"data row3 col1\" >False</td>\n",
       "    </tr>\n",
       "    <tr>\n",
       "      <th id=\"T_7e473_level0_row4\" class=\"row_heading level0 row4\" >80218428201543401074504367661198922647</th>\n",
       "      <td id=\"T_7e473_row4_col0\" class=\"data row4 col0\" >['https://www.rockwellautomation.com/products/details.5069-L310ER-NSE', 'https://www.rockwellautomation.com/company/events/in-person-events/roklive-2022-sydney---get-inspired-to-innovate-', 'https://www.rockwellautomation.com/company/events/in-person-events/roklive-2022-sydney---get-inspired-to-innovate-', 'https://www.rockwellautomation.com/company/events/in-person-events/roklive-2022-sydney---get-inspired-to-innovate-', 'https://www.rockwellautomation.com/products/hardware/allen-bradley/i-o/chassis-based-i-o/5069-compact-i-o', 'https://www.rockwellautomation.com/products/hardware/allen-bradley/i-o/chassis-based-i-o/5069-compact-i-o', 'https://www.rockwellautomation.com/support/product/product-downloads/application-code-library/sample-code', 'https://www.rockwellautomation.com/products/hardware/allen-bradley/i-o/chassis-based-i-o/5069-compact-i-o', 'https://www.rockwellautomation.com/products/hardware/allen-bradley/i-o/chassis-based-i-o/5069-compact-i-o', 'https://www.rockwellautomation.com/products/hardware/allen-bradley/i-o/chassis-based-i-o/5069-compact-i-o', 'https://www.rockwellautomation.com/products/software/factorytalk/designsuite/logix-echo']</td>\n",
       "      <td id=\"T_7e473_row4_col1\" class=\"data row4 col1\" >False</td>\n",
       "    </tr>\n",
       "    <tr>\n",
       "      <th id=\"T_7e473_level0_row5\" class=\"row_heading level0 row5\" >41303133750904225021603861651989857074</th>\n",
       "      <td id=\"T_7e473_row5_col0\" class=\"data row5 col0\" >['https://www.rockwellautomation.com/support/documentation/overview/electronic-data-sheets--eds-', 'https://www.rockwellautomation.com/support/documentation/electronic-datasheets', 'https://www.rockwellautomation.com/products/details.1756-L72S', 'https://www.rockwellautomation.com/products/details.1756-L72S', 'https://www.rockwellautomation.com/capabilities/process-solutions/process-systems/plantpax-distributed-control-system', 'https://www.rockwellautomation.com/support/documentation/electronic-datasheets', 'https://www.rockwellautomation.com/products/details.1756-L62S']</td>\n",
       "      <td id=\"T_7e473_row5_col1\" class=\"data row5 col1\" >False</td>\n",
       "    </tr>\n",
       "    <tr>\n",
       "      <th id=\"T_7e473_level0_row6\" class=\"row_heading level0 row6\" >69384800843210571391345676283014570598</th>\n",
       "      <td id=\"T_7e473_row6_col0\" class=\"data row6 col0\" >['https://www.rockwellautomation.com/products/software/factorytalk/designsuite/studio-5000/studio-5000-logix-designer', 'https://www.rockwellautomation.com/products/software/factorytalk/designsuite', 'https://www.rockwellautomation.com/products/software/factorytalk/version-history', 'https://www.rockwellautomation.com/products/software', 'https://www.rockwellautomation.com/tools/software-subscriptions-updated', 'https://www.rockwellautomation.com/tools', 'https://www.rockwellautomation.com/tools/software-subscriptions-updated', 'https://www.rockwellautomation.com/products/hardware/allen-bradley/discontinued-products/2092-ultra1500-single-axis', 'https://www.rockwellautomation.com/company/about-us/contact-us', 'https://www.rockwellautomation.com/tools/software-subscriptions-updated', 'https://www.rockwellautomation.com/tools/software-subscriptions-updated', 'https://www.rockwellautomation.com/support/training', 'https://www.rockwellautomation.com/support/training/learning-training-subscriptions', 'https://www.rockwellautomation.com/tools/software-subscriptions-updated', 'https://www.rockwellautomation.com/products/software', 'https://www.rockwellautomation.com/support/training/learning-training-subscriptions', 'https://www.rockwellautomation.com/support/training/e-learning-courses', 'https://www.rockwellautomation.com/support/training/learning-training-subscriptions', 'https://www.rockwellautomation.com/support/training/learning-training-subscriptions', 'https://www.rockwellautomation.com/support/training/learning-training-subscriptions', 'https://www.rockwellautomation.com/support/training/learning-training-subscriptions']</td>\n",
       "      <td id=\"T_7e473_row6_col1\" class=\"data row6 col1\" >False</td>\n",
       "    </tr>\n",
       "    <tr>\n",
       "      <th id=\"T_7e473_level0_row7\" class=\"row_heading level0 row7\" >82773365517161078871858762298735446821</th>\n",
       "      <td id=\"T_7e473_row7_col0\" class=\"data row7 col0\" >['https://www.rockwellautomation.com/products/hardware/allen-bradley/safety-products/safety-relays/440c-cr30', 'https://www.rockwellautomation.com/products/hardware/allen-bradley/safety-products/safety-relays', 'https://www.rockwellautomation.com/support/product/product-selection-configuration/proposalworks-proposal-builder', 'https://www.rockwellautomation.com/products/details.1747-UIC', 'https://www.rockwellautomation.com/products/details.9300-USBCBL-ABHR2', 'https://www.rockwellautomation.com/products/hardware/allen-bradley/connection-devices/network-media/9300-usb-cables', 'https://www.rockwellautomation.com/products/details.800T-N376G', 'https://www.rockwellautomation.com/products/details.1747-UIC']</td>\n",
       "      <td id=\"T_7e473_row7_col1\" class=\"data row7 col1\" >False</td>\n",
       "    </tr>\n",
       "    <tr>\n",
       "      <th id=\"T_7e473_level0_row8\" class=\"row_heading level0 row8\" >09302339905318569781736572262248367353</th>\n",
       "      <td id=\"T_7e473_row8_col0\" class=\"data row8 col0\" >['https://www.rockwellautomation.com/products/details.1747-L543', 'https://www.rockwellautomation.com/products/hardware/allen-bradley/motor-control/contactors/iec-contactors/iec-safety-contactors', 'https://www.rockwellautomation.com/products/hardware/allen-bradley/programmable-controllers/small-controllers/compactlogix-family/compactlogix-5380-controllers', 'https://www.rockwellautomation.com/products/details.1734-IB8', 'https://www.rockwellautomation.com/products/hardware/allen-bradley/safety-products/safety-relays/specialty-safety-relays/safety-relays-sipha', 'https://www.rockwellautomation.com/products/hardware/allen-bradley/safety-products/safety-sensors/safety-interlock-switches/non-contact-interlock-switches/440n-sipha-sensors', 'https://www.rockwellautomation.com/products/details.440N-S32013', 'https://www.rockwellautomation.com/products/hardware/allen-bradley/circuit-and-load-protection/circuit-breakers--circuit-protection/circuit-breakers--motor-protection', 'https://www.rockwellautomation.com/products/hardware/allen-bradley/circuit-and-load-protection/circuit-breakers--circuit-protection/circuit-breakers--motor-protection/140mt-mpcb', 'https://www.rockwellautomation.com/products/hardware/allen-bradley/programmable-controllers/small-controllers/compactlogix-family/compactlogix-5380-controllers', 'https://www.rockwellautomation.com/products/hardware/allen-bradley/programmable-controllers/process-controllers', 'https://www.rockwellautomation.com/support/documentation/overview/electronic-data-sheets--eds-', 'https://www.rockwellautomation.com/products/details.1756-DNB', 'https://www.rockwellautomation.com/products/details.2711P-T10C4D1', 'https://www.rockwellautomation.com/products/details.2711P-T10C4D1', 'https://www.rockwellautomation.com/products/details.1734-IB8', 'https://www.rockwellautomation.com/products/hardware/allen-bradley/i-o/chassis-based-i-o/1746-slc-i-o', 'https://www.rockwellautomation.com/products/details.5069-L310ER-NSE', 'https://www.rockwellautomation.com/products/details.1769-AENTR', 'https://www.rockwellautomation.com/products/hardware/allen-bradley/connection-devices/1492-i-o-wiring-systems']</td>\n",
       "      <td id=\"T_7e473_row8_col1\" class=\"data row8 col1\" >False</td>\n",
       "    </tr>\n",
       "    <tr>\n",
       "      <th id=\"T_7e473_level0_row9\" class=\"row_heading level0 row9\" >56794631194917951197711517182299773229</th>\n",
       "      <td id=\"T_7e473_row9_col0\" class=\"data row9 col0\" >['https://www.rockwellautomation.com/products/hardware/allen-bradley/circuit-and-load-protection/circuit-breakers--circuit-protection/circuit-breakers--molded-case/140g-circuit-breakers', 'https://www.rockwellautomation.com/products/hardware/allen-bradley/circuit-and-load-protection/circuit-breakers--circuit-protection/circuit-breakers--molded-case/140g-circuit-breakers', 'https://www.rockwellautomation.com/products/details.1756-EN4TRXT', 'https://www.rockwellautomation.com/support/product/product-selection-configuration', 'https://www.rockwellautomation.com/products/details.2080-LC20-20QBB', 'https://www.rockwellautomation.com/support/product/product-selection-configuration/integrated-architecture-builder', 'https://www.rockwellautomation.com/products/hardware/allen-bradley/programmable-controllers/small-controllers/compactlogix-family/compactlogix-5380-controllers', 'https://www.rockwellautomation.com/products/hardware/allen-bradley/programmable-controllers/all-products', 'https://www.rockwellautomation.com/products/hardware/allen-bradley/programmable-controllers/small-controllers/compactlogix-family/compactlogix-5380-controllers', 'https://www.rockwellautomation.com/products/hardware/allen-bradley/programmable-controllers/small-controllers/compactlogix-family/compactlogix-5370-controllers', 'https://www.rockwellautomation.com/products/hardware/allen-bradley/programmable-controllers/small-controllers/smartguard-controllers', 'https://www.rockwellautomation.com/support/product/product-selection-configuration', 'https://www.rockwellautomation.com/support/customer-care', 'https://www.rockwellautomation.com/tools/software-subscriptions-updated', 'https://www.rockwellautomation.com/tools/software-subscriptions-updated', 'https://www.rockwellautomation.com/products/hardware/allen-bradley/network-security-and-infrastructure/ethernet-networks/9300-nat', 'https://www.rockwellautomation.com/products/details.1734-IJ', 'https://www.rockwellautomation.com/products/details.1783-ETAP']</td>\n",
       "      <td id=\"T_7e473_row9_col1\" class=\"data row9 col1\" >False</td>\n",
       "    </tr>\n",
       "    <tr>\n",
       "      <th id=\"T_7e473_level0_row10\" class=\"row_heading level0 row10\" >20043652331513574040549776940134270853</th>\n",
       "      <td id=\"T_7e473_row10_col0\" class=\"data row10 col0\" >['https://www.rockwellautomation.com/capabilities/mes', 'https://www.rockwellautomation.com/capabilities/mes/what-is-manufacturing-execution-system', 'https://www.rockwellautomation.com/capabilities/mes/mes-vs-erp', 'https://www.rockwellautomation.com/capabilities/mes/mes-get-started', 'https://www.rockwellautomation.com/capabilities/mes/mes-iiot', 'https://www.rockwellautomation.com/industries/life-sciences/pharma-building-management', 'https://www.rockwellautomation.com/industries/life-sciences/pharmaceutical-manufacturing', 'https://www.rockwellautomation.com/industries/life-sciences/serialization', 'https://www.rockwellautomation.com/company/news/magazines/the-power-of-innovation-in-times-of-crisis']</td>\n",
       "      <td id=\"T_7e473_row10_col1\" class=\"data row10 col1\" >False</td>\n",
       "    </tr>\n",
       "    <tr>\n",
       "      <th id=\"T_7e473_level0_row11\" class=\"row_heading level0 row11\" >18726942212926471641074226687928230247</th>\n",
       "      <td id=\"T_7e473_row11_col0\" class=\"data row11 col0\" >['https://www.rockwellautomation.com/products/hardware/allen-bradley/power-supplies/control-transformers', 'https://www.rockwellautomation.com/capabilities/industrial-automation-control/design-and-configuration-software', 'https://www.rockwellautomation.com/capabilities/industrial-automation-control/design-and-configuration-software', 'https://www.rockwellautomation.com/products/hardware/allen-bradley/programmable-controllers/micro-controllers/micro800-family/micro820-controllers', 'https://www.rockwellautomation.com/capabilities/industrial-automation-control/design-and-configuration-software/ccw-software-training-videos', 'https://www.rockwellautomation.com/products/hardware/allen-bradley/programmable-controllers/micro-controllers/micro800-family/micro800-training-videos', 'https://www.rockwellautomation.com/capabilities/industrial-automation-control/design-and-configuration-software', 'https://www.rockwellautomation.com/capabilities/industrial-automation-control/design-and-configuration-software', 'https://www.rockwellautomation.com/capabilities/industrial-automation-control/design-and-configuration-software/ccw-software-training-videos', 'https://www.rockwellautomation.com/capabilities/industrial-automation-control/design-and-configuration-software', 'https://www.rockwellautomation.com/capabilities/industrial-automation-control/design-and-configuration-software']</td>\n",
       "      <td id=\"T_7e473_row11_col1\" class=\"data row11 col1\" >False</td>\n",
       "    </tr>\n",
       "    <tr>\n",
       "      <th id=\"T_7e473_level0_row12\" class=\"row_heading level0 row12\" >33146460492232926980996216514972542334</th>\n",
       "      <td id=\"T_7e473_row12_col0\" class=\"data row12 col0\" >['https://www.rockwellautomation.com/support/product/microsoft-patch-qualifications', 'https://www.rockwellautomation.com/products/software/factorytalk/operationsuite/view/factorytalk-view-site-edition', 'https://www.rockwellautomation.com/products/software/factorytalk/designsuite/studio-5000/studio-5000-application-code-manager', 'https://www.rockwellautomation.com/products/software/factorytalk/operationsuite/communications/linx', 'https://www.rockwellautomation.com/products/details.1783-MMX16T', 'https://www.rockwellautomation.com/products/details.1783-MMS10R', 'https://www.rockwellautomation.com/capabilities/industrial-automation-control/design-and-configuration-software', 'https://www.rockwellautomation.com/capabilities/industrial-automation-control/design-and-configuration-software/ccw-software-training-videos', 'https://www.rockwellautomation.com/products/hardware/allen-bradley/drives', 'https://www.rockwellautomation.com/products/details.140G-M6I3-D63', 'https://www.rockwellautomation.com/products/hardware/allen-bradley/motor-control/soft-starters--low-voltage/smc-3-smart-motor-controller', 'https://www.rockwellautomation.com/products/details.150-C60NBD']</td>\n",
       "      <td id=\"T_7e473_row12_col1\" class=\"data row12 col1\" >False</td>\n",
       "    </tr>\n",
       "    <tr>\n",
       "      <th id=\"T_7e473_level0_row13\" class=\"row_heading level0 row13\" >08302982807942750410913226493886065598</th>\n",
       "      <td id=\"T_7e473_row13_col0\" class=\"data row13 col0\" >['https://www.rockwellautomation.com/support/documentation/overview/electronic-data-sheets--eds-', 'https://www.rockwellautomation.com/products/software/factorytalk/operationsuite/mes', 'https://www.rockwellautomation.com/company/careers', 'https://www.rockwellautomation.com/products/software/factorytalk/operationsuite/mes', 'https://www.rockwellautomation.com/products/software/factorytalk/operationsuite/mes/automotive', 'https://www.rockwellautomation.com/company/events/in-person-events/automation-fair/learn/sessions', 'https://www.rockwellautomation.com/company/events/in-person-events/automation-fair/learn']</td>\n",
       "      <td id=\"T_7e473_row13_col1\" class=\"data row13 col1\" >False</td>\n",
       "    </tr>\n",
       "    <tr>\n",
       "      <th id=\"T_7e473_level0_row14\" class=\"row_heading level0 row14\" >80950980555125678720337274653208819734</th>\n",
       "      <td id=\"T_7e473_row14_col0\" class=\"data row14 col0\" >['https://www.rockwellautomation.com/support/product/product-selection-configuration/control-systems-configuration-tools', 'https://www.rockwellautomation.com/support/documentation/overview/functional-safety-for-machinery-introduction--saf-tuv1', 'https://www.rockwellautomation.com/products/hardware/allen-bradley/industrial-control-products', 'https://www.rockwellautomation.com/products/hardware/allen-bradley/motor-control', 'https://www.rockwellautomation.com/products/hardware/allen-bradley/network-security-and-infrastructure', 'https://www.rockwellautomation.com/products/hardware/allen-bradley/safety-products', 'https://www.rockwellautomation.com/products/software/factorytalk/operationsuite', 'https://www.rockwellautomation.com/products/hardware/allen-bradley/motor-control/low-voltage-starters/armorstart-distributed-motor-controllers', 'https://www.rockwellautomation.com/products/details.193-ESM-VIG-30A-C23', 'https://www.rockwellautomation.com/products/details.193-ESM-VIG-30A-C23', 'https://www.rockwellautomation.com/products/hardware/allen-bradley/condition-monitoring/condition-monitoring-sensors']</td>\n",
       "      <td id=\"T_7e473_row14_col1\" class=\"data row14 col1\" >False</td>\n",
       "    </tr>\n",
       "    <tr>\n",
       "      <th id=\"T_7e473_level0_row15\" class=\"row_heading level0 row15\" >09285156172338435224398397191881719473</th>\n",
       "      <td id=\"T_7e473_row15_col0\" class=\"data row15 col0\" >['https://www.rockwellautomation.com/company/events/in-person-events/process-solutions-user-group', 'https://www.rockwellautomation.com/company/events/in-person-events/process-solutions-user-group', 'https://www.rockwellautomation.com/capabilities/software-ordering-options', 'https://www.rockwellautomation.com/tools/software-subscriptions-updated', 'https://www.rockwellautomation.com/products/software/factorytalk/designsuite/studio-5000', 'https://www.rockwellautomation.com/products/software/factorytalk/designsuite', 'https://www.rockwellautomation.com/products/software/factorytalk/designsuite/studio-5000', 'https://www.rockwellautomation.com/products/software/factorytalk/designsuite/studio-5000', 'https://www.rockwellautomation.com/products/software/factorytalk/maintenancesuite/fiix']</td>\n",
       "      <td id=\"T_7e473_row15_col1\" class=\"data row15 col1\" >False</td>\n",
       "    </tr>\n",
       "    <tr>\n",
       "      <th id=\"T_7e473_level0_row16\" class=\"row_heading level0 row16\" >90820461428441451409209749719269270616</th>\n",
       "      <td id=\"T_7e473_row16_col0\" class=\"data row16 col0\" >['https://www.rockwellautomation.com/support/product', 'https://www.rockwellautomation.com/company/about-us/contact-us', 'https://www.rockwellautomation.com/company/about-us/contact-us', 'https://www.rockwellautomation.com/products/hardware/allen-bradley/drives/low-voltage-ac-drives/component-drives/25b-powerflex-525', 'https://www.rockwellautomation.com/products/hardware/allen-bradley/human-machine-interface/graphic-terminals/2711p-panelview-plus-7']</td>\n",
       "      <td id=\"T_7e473_row16_col1\" class=\"data row16 col1\" >False</td>\n",
       "    </tr>\n",
       "    <tr>\n",
       "      <th id=\"T_7e473_level0_row17\" class=\"row_heading level0 row17\" >60217678544379720313402291684293895507</th>\n",
       "      <td id=\"T_7e473_row17_col0\" class=\"data row17 col0\" >['https://www.rockwellautomation.com/capabilities/industrial-maintenance-support', 'https://www.rockwellautomation.com/support/product/product-selection-configuration/proposalworks-proposal-builder', 'https://www.rockwellautomation.com/support/product/product-selection-configuration', 'https://www.rockwellautomation.com/capabilities/industrial-maintenance-support', 'https://www.rockwellautomation.com/support/training', 'https://www.rockwellautomation.com/products/details.440P-MALB22E', 'https://www.rockwellautomation.com/products/hardware', 'https://www.rockwellautomation.com/products/hardware/allen-bradley/network-security-and-infrastructure', 'https://www.rockwellautomation.com/products/hardware/allen-bradley/network-security-and-infrastructure/ethernet-networks/stratix-5700-industrial', 'https://www.rockwellautomation.com/products/hardware/allen-bradley/human-machine-interface/graphic-terminals/2711p-panelview-plus-7', 'https://www.rockwellautomation.com/capabilities/software-ordering-options', 'https://www.rockwellautomation.com/products/software/factorytalk/operationsuite/view', 'https://www.rockwellautomation.com/products/hardware/allen-bradley/human-machine-interface', 'https://www.rockwellautomation.com/products/details.2711P-T12W22D9P']</td>\n",
       "      <td id=\"T_7e473_row17_col1\" class=\"data row17 col1\" >False</td>\n",
       "    </tr>\n",
       "    <tr>\n",
       "      <th id=\"T_7e473_level0_row18\" class=\"row_heading level0 row18\" >91268395164121971573843737536718497774</th>\n",
       "      <td id=\"T_7e473_row18_col0\" class=\"data row18 col0\" >['https://www.rockwellautomation.com/capabilities/industrial-automation-control/design-and-configuration-software', 'https://www.rockwellautomation.com/capabilities/industrial-automation-control/design-and-configuration-software', 'https://www.rockwellautomation.com/capabilities/industrial-automation-control/design-and-configuration-software', 'https://www.rockwellautomation.com/capabilities/industrial-automation-control/design-and-configuration-software', 'https://www.rockwellautomation.com/capabilities/industrial-automation-control/design-and-configuration-software']</td>\n",
       "      <td id=\"T_7e473_row18_col1\" class=\"data row18 col1\" >False</td>\n",
       "    </tr>\n",
       "    <tr>\n",
       "      <th id=\"T_7e473_level0_row19\" class=\"row_heading level0 row19\" >50190447518970178793723757724353298130</th>\n",
       "      <td id=\"T_7e473_row19_col0\" class=\"data row19 col0\" >['https://www.rockwellautomation.com/support/documentation/product-drawings', 'https://www.rockwellautomation.com/products/details.194R-NU200-1753', 'https://www.rockwellautomation.com/products/hardware/allen-bradley/connection-devices', 'https://www.rockwellautomation.com/products/hardware/allen-bradley/connection-devices/cables-and-cordsets/mini-connection-devices', 'https://www.rockwellautomation.com/products/hardware/allen-bradley/connection-devices/cables-and-cordsets/dc-micro--m12-', 'https://www.rockwellautomation.com/products/hardware/allen-bradley/connection-devices/cables-and-cordsets/dc-micro--m12-/dc-micro-cordsets-and-patchcords', 'https://www.rockwellautomation.com/products/hardware/allen-bradley/connection-devices/network-media/ethernet/1585-cable-spools', 'https://www.rockwellautomation.com/products/hardware/allen-bradley/connection-devices/1492-i-o-wiring-systems', 'https://www.rockwellautomation.com/products/hardware/allen-bradley/connection-devices/network-media/ethernet', 'https://www.rockwellautomation.com/products/hardware/allen-bradley/connection-devices/network-media/ethernet/1585-m12-and-variant-1', 'https://www.rockwellautomation.com/products/hardware/allen-bradley/connection-devices/network-media/ethernet/1585-rj45-connectors', 'https://www.rockwellautomation.com/products/hardware/allen-bradley/connection-devices/cables-and-cordsets/pico--m8-', 'https://www.rockwellautomation.com/support/documentation/product-drawings', 'https://www.rockwellautomation.com/products/details.871TM-B15N30-N3', 'https://www.rockwellautomation.com/products/details.871A-BRS30', 'https://www.rockwellautomation.com/support/documentation/product-drawings', 'https://www.rockwellautomation.com/products/hardware/allen-bradley/connection-devices/cables-and-cordsets/dc-micro--m12-/dc-micro-cordsets-and-patchcords', 'https://www.rockwellautomation.com/products/details.856T-B24QD8C', 'https://www.rockwellautomation.com/products/details.889D-F8AB-2', 'https://www.rockwellautomation.com/products/details.889D-F8AC-2', 'https://www.rockwellautomation.com/404', 'https://www.rockwellautomation.com/support/documentation/product-drawings', 'https://www.rockwellautomation.com/support/documentation/product-drawings', 'https://www.rockwellautomation.com/products/hardware/allen-bradley/sensors-and-switches/presence-sensors/inductive-proximity-sensors/tubular-inductive-proximity-sensors/871tm-stainless-steel', 'https://www.rockwellautomation.com/products/details.871TM-B8N18-R3', 'https://www.rockwellautomation.com/products/hardware/allen-bradley/circuit-and-load-protection', 'https://www.rockwellautomation.com/products/hardware/allen-bradley/circuit-and-load-protection/electronic-circuit-protection-modules/1692-electronic-circuit-protection', 'https://www.rockwellautomation.com/products/hardware/allen-bradley/circuit-and-load-protection/electronic-circuit-protection-modules/1694-electronic-circuit-protection', 'https://www.rockwellautomation.com/products/hardware/allen-bradley/circuit-and-load-protection/electronic-circuit-protection-modules', 'https://www.rockwellautomation.com/products/hardware/allen-bradley/circuit-and-load-protection/electronic-circuit-protection-modules/1692-electronic-circuit-protection', 'https://www.rockwellautomation.com/support/documentation/product-drawings', 'https://www.rockwellautomation.com/products/hardware/allen-bradley/circuit-and-load-protection', 'https://www.rockwellautomation.com/support/product/product-selection-configuration', 'https://www.rockwellautomation.com/products/hardware/allen-bradley/circuit-and-load-protection/electronic-circuit-protection-modules/1692-electronic-circuit-protection', 'https://www.rockwellautomation.com/products/details.1692-ZRCLSS', 'https://www.rockwellautomation.com/support/product', 'https://www.rockwellautomation.com/products/details.1692-ZRCLSS', 'https://www.rockwellautomation.com/support/documentation/product-drawings', 'https://www.rockwellautomation.com/products/details.889N-F5AF-20F']</td>\n",
       "      <td id=\"T_7e473_row19_col1\" class=\"data row19 col1\" >False</td>\n",
       "    </tr>\n",
       "    <tr>\n",
       "      <th id=\"T_7e473_level0_row20\" class=\"row_heading level0 row20\" >41063056191831565113671394606323436627</th>\n",
       "      <td id=\"T_7e473_row20_col0\" class=\"data row20 col0\" >['https://www.rockwellautomation.com/support/documentation/product-drawings', 'https://www.rockwellautomation.com/support/documentation/product-drawings', 'https://www.rockwellautomation.com/support/documentation/product-drawings', 'https://www.rockwellautomation.com/company/events/webinars/technology-partner-genius-webinar-with-control-station--inc---lo', 'https://www.rockwellautomation.com/products/hardware/allen-bradley/programmable-controllers/process-controllers', 'https://www.rockwellautomation.com/company/events/webinars/modernize-intrinsically-safe-io-installations', 'https://www.rockwellautomation.com/products/details.1783-LMS8', 'https://www.rockwellautomation.com/products/details.1756-OB16I', 'https://www.rockwellautomation.com/products/details.1492-AIFM8S-3', 'https://www.rockwellautomation.com/products/software/factorytalk/operationsuite/historian/site-edition', 'https://www.rockwellautomation.com/products/software/factorytalk/operationsuite/historian']</td>\n",
       "      <td id=\"T_7e473_row20_col1\" class=\"data row20 col1\" >False</td>\n",
       "    </tr>\n",
       "    <tr>\n",
       "      <th id=\"T_7e473_level0_row21\" class=\"row_heading level0 row21\" >81498360432531359863883812973455272566</th>\n",
       "      <td id=\"T_7e473_row21_col0\" class=\"data row21 col0\" >['https://www.rockwellautomation.com/products/hardware/allen-bradley/discontinued-products/micrologix-1500-controllers', 'https://www.rockwellautomation.com/products/details.2711R-T10T', 'https://www.rockwellautomation.com/products/hardware/allen-bradley/i-o/chassis-based-i-o/5069-compact-i-o', 'https://www.rockwellautomation.com/support/product/product-selection-configuration/integrated-architecture-builder', 'https://www.rockwellautomation.com/products/hardware/allen-bradley/i-o/chassis-based-i-o/1762-micrologix-expansion-i-o', 'https://www.rockwellautomation.com/products/details.1766-L32AWA', 'https://www.rockwellautomation.com/products/hardware/allen-bradley/human-machine-interface/graphic-terminals/2711p-panelview-plus-7', 'https://www.rockwellautomation.com/products/hardware/allen-bradley/human-machine-interface/graphic-terminals', 'https://www.rockwellautomation.com/products/hardware/allen-bradley/human-machine-interface/graphic-terminals/2711p-panelview-plus-7', 'https://www.rockwellautomation.com/products/details.1769-L33ER', 'https://www.rockwellautomation.com/products/details.1769-AENTR', 'https://www.rockwellautomation.com/products/details.1783-ETAP', 'https://www.rockwellautomation.com/products/details.2711P-T10C22D9P', 'https://www.rockwellautomation.com/tools/software-subscriptions-updated', 'https://www.rockwellautomation.com/products/software/factorytalk/designsuite/studio-5000/studio-5000-logix-designer', 'https://www.rockwellautomation.com/products/software/factorytalk/operationsuite/view', 'https://www.rockwellautomation.com/products/software', 'https://www.rockwellautomation.com/products/software/factorytalk/operationsuite/view/factorytalk-view-machine-edition', 'https://www.rockwellautomation.com/tools/software-subscriptions-updated', 'https://www.rockwellautomation.com/products/software/factorytalk/operationsuite/view', 'https://www.rockwellautomation.com/products/software', 'https://www.rockwellautomation.com/company/partnernetwork/authorized-distributors', 'https://www.rockwellautomation.com/products/software/factorytalk/operationsuite/view/factorytalk-view-machine-edition']</td>\n",
       "      <td id=\"T_7e473_row21_col1\" class=\"data row21 col1\" >True</td>\n",
       "    </tr>\n",
       "    <tr>\n",
       "      <th id=\"T_7e473_level0_row22\" class=\"row_heading level0 row22\" >88718840112215653592117798968003048548</th>\n",
       "      <td id=\"T_7e473_row22_col0\" class=\"data row22 col0\" >['https://www.rockwellautomation.com/support/documentation/technical-data/iabethernetipcapacity20180213-1449', 'https://www.rockwellautomation.com/products/details.1769-L33ERM', 'https://www.rockwellautomation.com/products/details.1769-L33ERM', 'https://www.rockwellautomation.com/products/details.25B-D2P3N104', 'https://www.rockwellautomation.com/products/hardware/allen-bradley/drives/low-voltage-ac-drives/compact-drives/22b-powerflex-40', 'https://www.rockwellautomation.com/products/details.22B-D2P3N104', 'https://www.rockwellautomation.com/products/details.1769-PB4', 'https://www.rockwellautomation.com/products/details.1769-PB4', 'https://www.rockwellautomation.com/products/software/factorytalk/maintenancesuite/manage-software-and-firmware-with-ease', 'https://www.rockwellautomation.com/products/software/factorytalk/maintenancesuite/manage-software-and-firmware-with-ease']</td>\n",
       "      <td id=\"T_7e473_row22_col1\" class=\"data row22 col1\" >False</td>\n",
       "    </tr>\n",
       "    <tr>\n",
       "      <th id=\"T_7e473_level0_row23\" class=\"row_heading level0 row23\" >81354118957948095380801550413886056774</th>\n",
       "      <td id=\"T_7e473_row23_col0\" class=\"data row23 col0\" >['https://www.rockwellautomation.com/products/hardware/allen-bradley/programmable-controllers/micro-controllers/micro800-family/micro850-controllers', 'https://www.rockwellautomation.com/company/about-us/contact-us', 'https://www.rockwellautomation.com/company/about-us/contact-us', 'https://www.rockwellautomation.com/products/software/factorytalk/designsuite/studio-5000/studio-5000-architect', 'https://www.rockwellautomation.com/products/software/factorytalk/designsuite/studio-5000/studio-5000-logix-emulate']</td>\n",
       "      <td id=\"T_7e473_row23_col1\" class=\"data row23 col1\" >False</td>\n",
       "    </tr>\n",
       "    <tr>\n",
       "      <th id=\"T_7e473_level0_row24\" class=\"row_heading level0 row24\" >55042865644235782221011193448623964880</th>\n",
       "      <td id=\"T_7e473_row24_col0\" class=\"data row24 col0\" >['https://www.rockwellautomation.com/products/hardware/allen-bradley/industrial-control-products', 'https://www.rockwellautomation.com/products/details.800T-D2LA2', 'https://www.rockwellautomation.com/support/documentation', 'https://www.rockwellautomation.com/products/hardware/allen-bradley/push-buttons-and-signaling-devices/30-mm-operators--nema/800t-h-nema-push-buttons', 'https://www.rockwellautomation.com/products/details.800T-D2LA2']</td>\n",
       "      <td id=\"T_7e473_row24_col1\" class=\"data row24 col1\" >False</td>\n",
       "    </tr>\n",
       "    <tr>\n",
       "      <th id=\"T_7e473_level0_row25\" class=\"row_heading level0 row25\" >06361835927229703272541188382975511076</th>\n",
       "      <td id=\"T_7e473_row25_col0\" class=\"data row25 col0\" >['https://www.rockwellautomation.com/company/events/in-person-events/automation-fair/activities', 'https://www.rockwellautomation.com/capabilities/process-solutions/process-safety-systems/safety-instrumented-systems', 'https://www.rockwellautomation.com/products/hardware/allen-bradley/circuit-and-load-protection/circuit-breakers--circuit-protection', 'https://www.rockwellautomation.com/products/hardware/allen-bradley/circuit-and-load-protection/circuit-breakers--circuit-protection/circuit-breakers--molded-case/140g-circuit-breakers', 'https://www.rockwellautomation.com/products/hardware/allen-bradley/circuit-and-load-protection/circuit-breakers--circuit-protection/circuit-breakers--molded-case', 'https://www.rockwellautomation.com/products/hardware/allen-bradley/motor-control/low-voltage-starters/lv-nema-combination-starters', 'https://www.rockwellautomation.com/products/hardware/allen-bradley/circuit-and-load-protection/circuit-breakers--circuit-protection', 'https://www.rockwellautomation.com/products/hardware/allen-bradley/circuit-and-load-protection/circuit-breakers--circuit-protection/circuit-breakers--molded-case', 'https://www.rockwellautomation.com/products/hardware/allen-bradley/circuit-and-load-protection/circuit-breakers--circuit-protection/circuit-breakers--molded-case/140g-circuit-breakers', 'https://www.rockwellautomation.com/support/product/product-selection-configuration', 'https://www.rockwellautomation.com/support/product/product-selection-configuration/control-systems-configuration-tools', 'https://www.rockwellautomation.com/products/hardware/allen-bradley/circuit-and-load-protection/circuit-breakers--circuit-protection', 'https://www.rockwellautomation.com/support/product', 'https://www.rockwellautomation.com/support/product/product-selection-configuration', 'https://www.rockwellautomation.com/support/product/product-selection-configuration/proposalworks-proposal-builder', 'https://www.rockwellautomation.com/products/hardware/allen-bradley/industrial-control-products', 'https://www.rockwellautomation.com/products/hardware/allen-bradley/lighting-control', 'https://www.rockwellautomation.com/support/product/product-selection-configuration', 'https://www.rockwellautomation.com/industries', 'https://www.rockwellautomation.com/support/product/product-selection-configuration/control-systems-configuration-tools', 'https://www.rockwellautomation.com/support/product/product-selection-configuration/integrated-architecture-builder', 'https://www.rockwellautomation.com/products/hardware/allen-bradley/circuit-and-load-protection/circuit-breakers--circuit-protection', 'https://www.rockwellautomation.com/support/product', 'https://www.rockwellautomation.com/products/hardware/allen-bradley/lighting-control/multi-pole-lighting-contactors/100l-electrically-held', 'https://www.rockwellautomation.com/products/hardware/allen-bradley/motor-control', 'https://www.rockwellautomation.com/support/product/product-selection-configuration/integrated-architecture-builder', 'https://www.rockwellautomation.com/products/hardware/allen-bradley/motor-control/low-voltage-starters/lv-nema-combination-starters', 'https://www.rockwellautomation.com/products/hardware/allen-bradley/circuit-and-load-protection/motor-protectors--low-voltage/overload-relays--solid-state/193-iec-e100-relays', 'https://www.rockwellautomation.com/products/hardware/allen-bradley/motor-control/contactors/nema-combination-contactors', 'https://www.rockwellautomation.com/products/details.502-BCB-24R', 'https://www.rockwellautomation.com/products/hardware/allen-bradley/circuit-and-load-protection/motor-protectors--low-voltage/overload-relays--solid-state/193-iec-e100-relays']</td>\n",
       "      <td id=\"T_7e473_row25_col1\" class=\"data row25 col1\" >False</td>\n",
       "    </tr>\n",
       "    <tr>\n",
       "      <th id=\"T_7e473_level0_row26\" class=\"row_heading level0 row26\" >23527954538117999233924178722987133018</th>\n",
       "      <td id=\"T_7e473_row26_col0\" class=\"data row26 col0\" >['https://www.rockwellautomation.com/tools/software-subscriptions-updated', 'https://www.rockwellautomation.com/products/software/factorytalk/designsuite/studio-5000', 'https://www.rockwellautomation.com/products/software/factorytalk/designsuite/studio-5000/studio-5000-logix-designer', 'https://www.rockwellautomation.com/company/events/in-person-events/process-solutions-user-group', 'https://www.rockwellautomation.com/support/documentation', 'https://www.rockwellautomation.com/support/documentation']</td>\n",
       "      <td id=\"T_7e473_row26_col1\" class=\"data row26 col1\" >False</td>\n",
       "    </tr>\n",
       "    <tr>\n",
       "      <th id=\"T_7e473_level0_row27\" class=\"row_heading level0 row27\" >62362441076913087631536325439160098910</th>\n",
       "      <td id=\"T_7e473_row27_col0\" class=\"data row27 col0\" >['https://www.rockwellautomation.com/products/hardware/allen-bradley/sensors-and-switches/condition-sensors/temperature-controllers/837t-solid-state', 'https://www.rockwellautomation.com/products/details.1734-IB8', 'https://www.rockwellautomation.com/products/hardware/allen-bradley/i-o', 'https://www.rockwellautomation.com/products/hardware/allen-bradley/i-o/chassis-based-i-o/1769-compact-i-o', 'https://www.rockwellautomation.com/products/details.5069-IB16', 'https://www.rockwellautomation.com/products/hardware/allen-bradley/i-o/chassis-based-i-o/5069-compact-i-o', 'https://www.rockwellautomation.com/products/details.5069-OB8', 'https://www.rockwellautomation.com/products/hardware/allen-bradley/i-o', 'https://www.rockwellautomation.com/products/hardware/allen-bradley/condition-monitoring/protection-modules/1440-xm-442', 'https://www.rockwellautomation.com/products/hardware/allen-bradley/i-o/chassis-based-i-o/5069-compact-i-o', 'https://www.rockwellautomation.com/products/details.1762-OW8']</td>\n",
       "      <td id=\"T_7e473_row27_col1\" class=\"data row27 col1\" >False</td>\n",
       "    </tr>\n",
       "    <tr>\n",
       "      <th id=\"T_7e473_level0_row28\" class=\"row_heading level0 row28\" >78400745142491048912866781296835070010</th>\n",
       "      <td id=\"T_7e473_row28_col0\" class=\"data row28 col0\" >['https://www.rockwellautomation.com/support/training/e-learning-courses', 'https://www.rockwellautomation.com/support/training/e-learning-courses', 'https://www.rockwellautomation.com/support/training/training-workstations', 'https://www.rockwellautomation.com/support/product/product-downloads/application-code-library/sample-code', 'https://www.rockwellautomation.com/support/training/learning-training-subscriptions', 'https://www.rockwellautomation.com/support/training/e-learning-courses', 'https://www.rockwellautomation.com/support/training/learning-training-subscriptions', 'https://www.rockwellautomation.com/company/about-us/contact-us', 'https://www.rockwellautomation.com/support/training/e-learning-courses', 'https://www.rockwellautomation.com/products/hardware', 'https://www.rockwellautomation.com/products/hardware/allen-bradley/power-supplies', 'https://www.rockwellautomation.com/404']</td>\n",
       "      <td id=\"T_7e473_row28_col1\" class=\"data row28 col1\" >True</td>\n",
       "    </tr>\n",
       "    <tr>\n",
       "      <th id=\"T_7e473_level0_row29\" class=\"row_heading level0 row29\" >57024454722482470263682404959683533920</th>\n",
       "      <td id=\"T_7e473_row29_col0\" class=\"data row29 col0\" >['https://www.rockwellautomation.com/company/events/in-person-events/automation-fair/activities', 'https://www.rockwellautomation.com/company/events/in-person-events/process-solutions-user-group', 'https://www.rockwellautomation.com/content/rockwell-automation/www/us/company/events/in-person-events/automation-fair/attend', 'https://www.rockwellautomation.com/industries', 'https://www.rockwellautomation.com/industries/food-beverage', 'https://www.rockwellautomation.com/company/events/in-person-events/automation-fair/attend', 'https://www.rockwellautomation.com/company/events', 'https://www.rockwellautomation.com/company/events/in-person-events/process-solutions-user-group', 'https://www.rockwellautomation.com/company/events/in-person-events/automation-fair/learn', 'https://www.rockwellautomation.com/company/events', 'https://www.rockwellautomation.com/company/events/in-person-events/process-solutions-user-group', 'https://www.rockwellautomation.com/content/rockwell-automation/www/us/company/events/in-person-events/automation-fair/attend', 'https://www.rockwellautomation.com/company/events/in-person-events/process-solutions-user-group']</td>\n",
       "      <td id=\"T_7e473_row29_col1\" class=\"data row29 col1\" >False</td>\n",
       "    </tr>\n",
       "  </tbody>\n",
       "</table>\n"
      ],
      "text/plain": [
       "<pandas.io.formats.style.Styler at 0x7fd365f61940>"
      ]
     },
     "execution_count": 49,
     "metadata": {},
     "output_type": "execute_result"
    }
   ],
   "source": [
    "samples_checking = data[data[\"features\"].transform(len)<5000]\n",
    "seeds= 10\n",
    "samples_30 = samples_checking.assign(features_seq = samples_checking[\"features\"].transform(lambda x: x.split(\"$\"))).sample(30, random_state=seeds)\n",
    "samples_30[[\"features_seq\", \"label\"]].style"
   ]
  },
  {
   "cell_type": "code",
   "execution_count": null,
   "id": "c202151e",
   "metadata": {},
   "outputs": [],
   "source": []
  },
  {
   "cell_type": "code",
   "execution_count": 50,
   "id": "dccfbe05",
   "metadata": {
    "ExecuteTime": {
     "end_time": "2022-12-16T17:06:36.374754Z",
     "start_time": "2022-12-16T17:06:36.283211Z"
    }
   },
   "outputs": [
    {
     "name": "stdout",
     "output_type": "stream",
     "text": [
      "pos vs neg in training set: Counter({False: 65284, True: 4105})\n",
      "training sample label proportion: Counter({False: 52227, True: 3284})\n",
      "testing sample label proportion: Counter({False: 13057, True: 821})\n",
      "after up/down-sampling, testing sample label proportion: Counter({False: 52227, True: 52227})\n"
     ]
    }
   ],
   "source": [
    "print(\"pos vs neg in training set:\",  Counter(data[\"label\"]))\n",
    "X_train, X_test, y_train, y_test = train_test_split(data[\"features\"], data[\"label\"], test_size=TEST_SIZE, stratify=data[\"label\"].values, random_state=SEED)\n",
    "print(\"training sample label proportion:\", Counter(y_train))\n",
    "print(\"testing sample label proportion:\", Counter(y_test))\n",
    "\n",
    "## down-sampling/up-sampling\n",
    "data_train = pd.concat([X_train, y_train], axis=1)\n",
    "# pos_size = y_train.sum()\n",
    "# data_train = data_train.groupby('label', group_keys=False).apply(lambda x: x.sample(pos_size, replace=False))\n",
    "neg_size = (~y_train).sum()\n",
    "data_train = data_train.groupby('label', group_keys=False).apply(lambda x: x.sample(neg_size, replace=True))\n",
    "X_train = data_train[\"features\"]\n",
    "y_train = data_train[\"label\"]\n",
    "print(\"after up/down-sampling, testing sample label proportion:\", Counter(y_train))"
   ]
  },
  {
   "cell_type": "code",
   "execution_count": 51,
   "id": "d74f2323",
   "metadata": {
    "ExecuteTime": {
     "end_time": "2022-12-16T17:06:38.220482Z",
     "start_time": "2022-12-16T17:06:36.375735Z"
    }
   },
   "outputs": [
    {
     "name": "stdout",
     "output_type": "stream",
     "text": [
      "feature dimension 11474 with min_df = 5 max_df = 0.99\n"
     ]
    }
   ],
   "source": [
    "MIN_DF = 5\n",
    "MAX_DF = 0.99\n",
    "vectorizer = TfidfVectorizer(token_pattern=SEP_TOKEN_PATTERN, binary=False, max_df=MAX_DF, min_df=MIN_DF,dtype=np.float64)\n",
    "\n",
    "X_train_arr = vectorizer.fit_transform(X_train)\n",
    "X_test_arr = vectorizer.transform(X_test)\n",
    "print(f\"feature dimension {len(vectorizer.get_feature_names())} with min_df = {MIN_DF} max_df = {MAX_DF}\")"
   ]
  },
  {
   "cell_type": "code",
   "execution_count": 52,
   "id": "8d3d85ae",
   "metadata": {
    "ExecuteTime": {
     "end_time": "2022-12-16T17:06:38.223687Z",
     "start_time": "2022-12-16T17:06:38.221454Z"
    }
   },
   "outputs": [],
   "source": [
    "# vectorizer.get_feature_names() # others = assign zero"
   ]
  },
  {
   "cell_type": "markdown",
   "id": "0ebf5676",
   "metadata": {},
   "source": [
    "### Models"
   ]
  },
  {
   "cell_type": "markdown",
   "id": "4cada077",
   "metadata": {},
   "source": [
    "#### dimension reduction\n",
    "- for improve prediction accuracy only, not assigning weight"
   ]
  },
  {
   "cell_type": "code",
   "execution_count": 53,
   "id": "44019d7d",
   "metadata": {
    "ExecuteTime": {
     "end_time": "2022-12-16T17:06:38.392238Z",
     "start_time": "2022-12-16T17:06:38.224848Z"
    }
   },
   "outputs": [],
   "source": [
    "from sklearn.decomposition import TruncatedSVD\n",
    "from sklearn.manifold import TSNE\n",
    "import seaborn as sns\n",
    "from matplotlib import colors"
   ]
  },
  {
   "cell_type": "code",
   "execution_count": 54,
   "id": "0b7258c7",
   "metadata": {
    "ExecuteTime": {
     "end_time": "2022-12-16T17:06:38.394778Z",
     "start_time": "2022-12-16T17:06:38.393101Z"
    }
   },
   "outputs": [],
   "source": [
    "# pca = TruncatedSVD(n_components=3)\n",
    "# pca_result = pca.fit_transform(X_train_arr)\n",
    "# vis = pd.DataFrame()\n",
    "# vis['pca-one'] = pca_result[:,0]\n",
    "# vis['pca-two'] = pca_result[:,1] \n",
    "# vis['pca-three'] = pca_result[:,2]\n",
    "# vis[\"y\"]= y_train\n",
    "# print('Explained variation per principal component: {}'.format(pca.explained_variance_ratio_))"
   ]
  },
  {
   "cell_type": "code",
   "execution_count": 55,
   "id": "169c9ed9",
   "metadata": {
    "ExecuteTime": {
     "end_time": "2022-12-16T17:06:38.397128Z",
     "start_time": "2022-12-16T17:06:38.395587Z"
    }
   },
   "outputs": [],
   "source": [
    "# ax = plt.figure(figsize=(16,10)).gca(projection='3d')\n",
    "# ax.scatter(\n",
    "#     xs=vis[\"pca-one\"], \n",
    "#     ys=vis[\"pca-two\"], \n",
    "#     zs=vis[\"pca-three\"], \n",
    "#     c=vis[\"y\"], \n",
    "#     cmap='tab10'\n",
    "# )\n",
    "# ax.set_xlabel('pca-one')\n",
    "# ax.set_ylabel('pca-two')\n",
    "# ax.set_zlabel('pca-three')\n",
    "# plt.show()"
   ]
  },
  {
   "cell_type": "code",
   "execution_count": 56,
   "id": "998336a8",
   "metadata": {
    "ExecuteTime": {
     "end_time": "2022-12-16T17:06:38.399674Z",
     "start_time": "2022-12-16T17:06:38.397921Z"
    },
    "scrolled": true
   },
   "outputs": [],
   "source": [
    "# data_subset = data.sample(50000, random_state=22 )\n",
    "# tsne = TSNE(n_components=3, verbose=1, perplexity=40, n_iter=250)\n",
    "# tsne_results = tsne.fit_transform(vectorizer.transform(data_subset[\"features\"]))\n",
    "\n",
    "# data_subset['tsne-3d-one'] = tsne_results[:,0]\n",
    "# data_subset['tsne-3d-two'] = tsne_results[:,1]\n",
    "# data_subset['tsne-3d-three'] = tsne_results[:,2]\n",
    "\n",
    "# ax = plt.figure(figsize=(16,10)).gca(projection='3d')\n",
    "# ax.scatter(\n",
    "#     xs=data_subset['tsne-3d-one'],\n",
    "#     ys=data_subset['tsne-3d-two'],\n",
    "#     zs=data_subset['tsne-3d-three'],\n",
    "#     c=data_subset[\"label\"], \n",
    "#     cmap=colors.ListedColormap(['blue', 'red'])\n",
    "# )\n",
    "# ax.set_xlabel('tsne-3d-one')\n",
    "# ax.set_ylabel('tsne-3d-two')\n",
    "# ax.set_zlabel('tsne-3d-three')\n",
    "# plt.show()\n",
    "# data_subset[\"label\"].value_counts()"
   ]
  },
  {
   "cell_type": "markdown",
   "id": "844852d5",
   "metadata": {},
   "source": [
    "#### LR"
   ]
  },
  {
   "cell_type": "code",
   "execution_count": 57,
   "id": "93e33028",
   "metadata": {
    "ExecuteTime": {
     "end_time": "2022-12-16T17:06:40.001555Z",
     "start_time": "2022-12-16T17:06:38.400405Z"
    }
   },
   "outputs": [
    {
     "name": "stdout",
     "output_type": "stream",
     "text": [
      "              precision    recall  f1-score   support\n",
      "\n",
      "       False       0.96      0.77      0.85     13057\n",
      "        True       0.11      0.45      0.17       821\n",
      "\n",
      "    accuracy                           0.75     13878\n",
      "   macro avg       0.53      0.61      0.51     13878\n",
      "weighted avg       0.91      0.75      0.81     13878\n",
      "\n"
     ]
    },
    {
     "data": {
      "image/png": "[encoded data removed]",
      "text/plain": [
       "<Figure size 432x288 with 2 Axes>"
      ]
     },
     "metadata": {
      "needs_background": "light"
     },
     "output_type": "display_data"
    },
    {
     "name": "stdout",
     "output_type": "stream",
     "text": [
      "AUC: 60.85%, PRC: 29.47%\n"
     ]
    }
   ],
   "source": [
    "model = LogisticRegression()\n",
    "model.fit(X_train_arr, y_train)\n",
    "# model.coef_\n",
    "y_pred = model.predict(X_test_arr)\n",
    "evaluate_metrics(y_test, y_pred, show_plots = True)"
   ]
  },
  {
   "cell_type": "markdown",
   "id": "be5dd6b0",
   "metadata": {},
   "source": [
    "#### svm (x)\n",
    "- no weight but only predict prob "
   ]
  },
  {
   "cell_type": "code",
   "execution_count": 58,
   "id": "04e33c66",
   "metadata": {
    "ExecuteTime": {
     "end_time": "2022-12-16T17:06:40.919866Z",
     "start_time": "2022-12-16T17:06:40.002869Z"
    }
   },
   "outputs": [
    {
     "name": "stdout",
     "output_type": "stream",
     "text": [
      "              precision    recall  f1-score   support\n",
      "\n",
      "       False       0.95      0.80      0.87     13057\n",
      "        True       0.11      0.38      0.17       821\n",
      "\n",
      "    accuracy                           0.77     13878\n",
      "   macro avg       0.53      0.59      0.52     13878\n",
      "weighted avg       0.90      0.77      0.83     13878\n",
      "\n"
     ]
    },
    {
     "data": {
      "image/png": "[encoded data removed]",
      "text/plain": [
       "<Figure size 432x288 with 2 Axes>"
      ]
     },
     "metadata": {
      "needs_background": "light"
     },
     "output_type": "display_data"
    },
    {
     "name": "stdout",
     "output_type": "stream",
     "text": [
      "AUC: 58.97%, PRC: 26.29%\n"
     ]
    }
   ],
   "source": [
    "svm_clf = svm.LinearSVC(C=1)\n",
    "svm_clf.fit(X_train_arr, y_train)\n",
    "y_pred = svm_clf.predict(X_test_arr)\n",
    "evaluate_metrics(y_test, y_pred, show_plots = True)"
   ]
  },
  {
   "cell_type": "markdown",
   "id": "f59ab946",
   "metadata": {},
   "source": [
    "#### naive bayes\n",
    "- $\\theta_{yi}$ is the probability $P(x_i \\mid y)$ of feature i appearing in a sample belonging to class y."
   ]
  },
  {
   "cell_type": "code",
   "execution_count": 59,
   "id": "4efd0d6c",
   "metadata": {
    "ExecuteTime": {
     "end_time": "2022-12-16T17:06:41.079098Z",
     "start_time": "2022-12-16T17:06:40.920806Z"
    }
   },
   "outputs": [
    {
     "name": "stdout",
     "output_type": "stream",
     "text": [
      "              precision    recall  f1-score   support\n",
      "\n",
      "       False       0.96      0.74      0.84     13057\n",
      "        True       0.10      0.47      0.17       821\n",
      "\n",
      "    accuracy                           0.73     13878\n",
      "   macro avg       0.53      0.61      0.50     13878\n",
      "weighted avg       0.91      0.73      0.80     13878\n",
      "\n"
     ]
    },
    {
     "data": {
      "image/png": "[encoded data removed]",
      "text/plain": [
       "<Figure size 432x288 with 2 Axes>"
      ]
     },
     "metadata": {
      "needs_background": "light"
     },
     "output_type": "display_data"
    },
    {
     "name": "stdout",
     "output_type": "stream",
     "text": [
      "AUC: 65.76%, PRC: 12.10%\n"
     ]
    }
   ],
   "source": [
    "clf = MultinomialNB().fit(X_train_arr, y_train)\n",
    "asset_prob = np.exp(clf.feature_log_prob_[0])\n",
    "# clf.feature_log_prob_[0]\n",
    "y_pred = (clf.predict_proba(X_test_arr))[:, 1]\n",
    "evaluate_metrics(y_test, y_pred, show_plots = True)"
   ]
  },
  {
   "cell_type": "markdown",
   "id": "a8e7c9b3",
   "metadata": {},
   "source": [
    "### <font color=red>cross validation</font>\n",
    "<img src=\"https://scikit-learn.org/stable/_images/grid_search_cross_validation.png\" width=\"300\"/>"
   ]
  },
  {
   "cell_type": "code",
   "execution_count": 60,
   "id": "259d3d5b",
   "metadata": {
    "ExecuteTime": {
     "end_time": "2022-12-16T17:06:41.204905Z",
     "start_time": "2022-12-16T17:06:41.080800Z"
    }
   },
   "outputs": [
    {
     "name": "stdout",
     "output_type": "stream",
     "text": [
      "0.79 accuracy with a standard deviation of 0.00\n"
     ]
    }
   ],
   "source": [
    "scores = cross_validate(clf, X_train_arr, y_train, cv=5)\n",
    "print(\"%0.2f accuracy with a standard deviation of %0.2f\" % (scores[\"test_score\"].mean(), scores[\"test_score\"].std()))"
   ]
  },
  {
   "cell_type": "markdown",
   "id": "83e5af7e",
   "metadata": {},
   "source": [
    "### Assign Weight\n",
    "- conditional prob"
   ]
  },
  {
   "cell_type": "code",
   "execution_count": 61,
   "id": "c0fdaca2",
   "metadata": {
    "ExecuteTime": {
     "end_time": "2022-12-16T17:06:41.207503Z",
     "start_time": "2022-12-16T17:06:41.205673Z"
    }
   },
   "outputs": [],
   "source": [
    "# log p(w|c=1) + log p(w|c=0)\n",
    "asset_prob = np.exp(clf.feature_log_prob_[0])"
   ]
  },
  {
   "cell_type": "code",
   "execution_count": 62,
   "id": "16b12430",
   "metadata": {
    "ExecuteTime": {
     "end_time": "2022-12-16T17:06:41.397943Z",
     "start_time": "2022-12-16T17:06:41.208311Z"
    }
   },
   "outputs": [],
   "source": [
    "weights = pd.DataFrame([vectorizer.get_feature_names(), asset_prob.tolist()]).T\n",
    "weights.columns = [\"asset\", \"weight\"]\n",
    "# weights.sort_values(by=\"weight\", ascending=False).style\n",
    "# weights = weights[weights[\"weight\"]>weights[\"weight\"].mean()]"
   ]
  },
  {
   "cell_type": "markdown",
   "id": "d490fddd",
   "metadata": {},
   "source": [
    "## Correlation"
   ]
  },
  {
   "cell_type": "code",
   "execution_count": 63,
   "id": "1ff0fc23",
   "metadata": {
    "ExecuteTime": {
     "end_time": "2022-12-16T17:06:41.400342Z",
     "start_time": "2022-12-16T17:06:41.398720Z"
    }
   },
   "outputs": [],
   "source": [
    "# mat2 = pd.DataFrame(np.hstack([y_train.reshape(-1,1), X_train_arr.toarray()]), columns=[\"y\"]+vectorizer.get_feature_names())\n",
    "# corr = mat2.corr().iloc[1:, 0:1].sort_values(\"y\")\n",
    "# corr.plot(kind=\"bar\")\n",
    "# corr"
   ]
  },
  {
   "cell_type": "code",
   "execution_count": 64,
   "id": "870fb372",
   "metadata": {
    "ExecuteTime": {
     "end_time": "2022-12-16T17:06:41.405343Z",
     "start_time": "2022-12-16T17:06:41.403838Z"
    }
   },
   "outputs": [],
   "source": [
    "# corr.style.background_gradient(cmap='coolwarm', axis=None)"
   ]
  },
  {
   "cell_type": "code",
   "execution_count": null,
   "id": "bb7a98c5",
   "metadata": {},
   "outputs": [],
   "source": []
  },
  {
   "cell_type": "markdown",
   "id": "b74392d1",
   "metadata": {},
   "source": [
    "## Weight Rescaling\n",
    "lowest level is 1, decide which one has higher importance score. start with 1"
   ]
  },
  {
   "cell_type": "code",
   "execution_count": 65,
   "id": "f0fb396f",
   "metadata": {
    "ExecuteTime": {
     "end_time": "2022-12-16T17:06:41.411478Z",
     "start_time": "2022-12-16T17:06:41.406365Z"
    }
   },
   "outputs": [
    {
     "data": {
      "text/plain": [
       "count    11474.000000\n",
       "mean         0.000087\n",
       "std          0.000361\n",
       "min          0.000006\n",
       "25%          0.000012\n",
       "50%          0.000020\n",
       "75%          0.000043\n",
       "max          0.009636\n",
       "Name: weight, dtype: float64"
      ]
     },
     "execution_count": 65,
     "metadata": {},
     "output_type": "execute_result"
    }
   ],
   "source": [
    "x = weights[\"weight\"].astype(float)\n",
    "x.describe()"
   ]
  },
  {
   "cell_type": "markdown",
   "id": "8eff53c7",
   "metadata": {
    "ExecuteTime": {
     "end_time": "2022-12-07T22:41:22.564446Z",
     "start_time": "2022-12-07T22:41:22.557939Z"
    }
   },
   "source": [
    "### Three levels (prefer)"
   ]
  },
  {
   "cell_type": "code",
   "execution_count": 66,
   "id": "11a12c84",
   "metadata": {
    "ExecuteTime": {
     "end_time": "2022-12-16T17:06:41.414063Z",
     "start_time": "2022-12-16T17:06:41.412282Z"
    }
   },
   "outputs": [],
   "source": [
    "num_levels = 3\n",
    "color_opts = ['lightskyblue', 'turquoise', 'orange', 'blue', 'red']"
   ]
  },
  {
   "cell_type": "code",
   "execution_count": 67,
   "id": "087e2056",
   "metadata": {
    "ExecuteTime": {
     "end_time": "2022-12-16T17:06:41.424013Z",
     "start_time": "2022-12-16T17:06:41.414905Z"
    }
   },
   "outputs": [],
   "source": [
    "xx = pd.concat([weights[\"asset\"], x, pd.cut(x, num_levels)], axis=1)\n",
    "xx.columns = [\"asset\", \"weight\", \"bins\"]\n",
    "xx[\"bins\"] = xx[\"bins\"].map(lambda x: f\"[{str(x.left)}, {str(x.right)}]\")\n",
    "bin_dict = sorted(xx[\"bins\"].unique().tolist())\n",
    "\n",
    "colors = dict(zip(bin_dict, color_opts[0:num_levels]))\n",
    "labels = dict(zip(bin_dict, range(1, len(bin_dict)+1)))"
   ]
  },
  {
   "cell_type": "code",
   "execution_count": 68,
   "id": "d7e531ca",
   "metadata": {
    "ExecuteTime": {
     "end_time": "2022-12-16T17:06:54.714930Z",
     "start_time": "2022-12-16T17:06:41.424896Z"
    }
   },
   "outputs": [
    {
     "data": {
      "image/png": "[encoded data removed]",
      "text/plain": [
       "<Figure size 1080x576 with 1 Axes>"
      ]
     },
     "metadata": {
      "needs_background": "light"
     },
     "output_type": "display_data"
    }
   ],
   "source": [
    "xx[\"color\"] = xx[\"bins\"].apply(lambda x: colors[x] if x in colors else \"NA\")\n",
    "xx[\"auto_score\"] = xx[\"bins\"].apply(lambda x: labels[x] if x in colors else \"NA\")\n",
    "\n",
    "plt.figure(figsize=(15,8))\n",
    "\n",
    "for idx, item in xx.groupby(\"bins\"):\n",
    "    if item.shape[0] ==0:\n",
    "        continue\n",
    "    plt.bar(x=item.index, height = item[\"weight\"], color=item[\"color\"], label=item[\"auto_score\"].iloc[0])\n",
    "\n",
    "for pair in bin_dict:\n",
    "    upper_line = eval(pair)[1]\n",
    "    plt.plot([0, xx.index[-1]],[upper_line,upper_line])\n",
    "\n",
    "    \n",
    "plt.xlabel(\"Asset Number\")\n",
    "plt.ylabel(\"Model Assign Weight\")\n",
    "plt.title(\"Asset auto standardized score\")\n",
    "plt.legend()\n",
    "plt.show()"
   ]
  },
  {
   "cell_type": "code",
   "execution_count": 69,
   "id": "253ae683",
   "metadata": {
    "ExecuteTime": {
     "end_time": "2022-12-16T17:06:54.724719Z",
     "start_time": "2022-12-16T17:06:54.715842Z"
    }
   },
   "outputs": [
    {
     "data": {
      "text/html": [
       "<div>\n",
       "<style scoped>\n",
       "    .dataframe tbody tr th:only-of-type {\n",
       "        vertical-align: middle;\n",
       "    }\n",
       "\n",
       "    .dataframe tbody tr th {\n",
       "        vertical-align: top;\n",
       "    }\n",
       "\n",
       "    .dataframe thead th {\n",
       "        text-align: right;\n",
       "    }\n",
       "</style>\n",
       "<table border=\"1\" class=\"dataframe\">\n",
       "  <thead>\n",
       "    <tr style=\"text-align: right;\">\n",
       "      <th></th>\n",
       "      <th>asset</th>\n",
       "      <th>auto_score</th>\n",
       "    </tr>\n",
       "  </thead>\n",
       "  <tbody>\n",
       "    <tr>\n",
       "      <th>0</th>\n",
       "      <td>https://www.rockwellautomation.com/%20e300</td>\n",
       "      <td>1</td>\n",
       "    </tr>\n",
       "    <tr>\n",
       "      <th>1</th>\n",
       "      <td>https://www.rockwellautomation.com//404</td>\n",
       "      <td>1</td>\n",
       "    </tr>\n",
       "    <tr>\n",
       "      <th>2</th>\n",
       "      <td>https://www.rockwellautomation.com/22a3767f-56...</td>\n",
       "      <td>1</td>\n",
       "    </tr>\n",
       "    <tr>\n",
       "      <th>3</th>\n",
       "      <td>https://www.rockwellautomation.com/22da4f55-ff...</td>\n",
       "      <td>1</td>\n",
       "    </tr>\n",
       "    <tr>\n",
       "      <th>4</th>\n",
       "      <td>https://www.rockwellautomation.com/404</td>\n",
       "      <td>2</td>\n",
       "    </tr>\n",
       "    <tr>\n",
       "      <th>...</th>\n",
       "      <td>...</td>\n",
       "      <td>...</td>\n",
       "    </tr>\n",
       "    <tr>\n",
       "      <th>11469</th>\n",
       "      <td>https://www.rockwellautomation.com/training</td>\n",
       "      <td>1</td>\n",
       "    </tr>\n",
       "    <tr>\n",
       "      <th>11470</th>\n",
       "      <td>https://www.rockwellautomation.com/training/tr...</td>\n",
       "      <td>1</td>\n",
       "    </tr>\n",
       "    <tr>\n",
       "      <th>11471</th>\n",
       "      <td>https://www.rockwellautomation.com/webappng/si...</td>\n",
       "      <td>1</td>\n",
       "    </tr>\n",
       "    <tr>\n",
       "      <th>11472</th>\n",
       "      <td>https://www.rockwellautomation.com/webex</td>\n",
       "      <td>1</td>\n",
       "    </tr>\n",
       "    <tr>\n",
       "      <th>11473</th>\n",
       "      <td>https://www.rockwellautomation.com/whitepaper-...</td>\n",
       "      <td>1</td>\n",
       "    </tr>\n",
       "  </tbody>\n",
       "</table>\n",
       "<p>11474 rows × 2 columns</p>\n",
       "</div>"
      ],
      "text/plain": [
       "                                                   asset auto_score\n",
       "0             https://www.rockwellautomation.com/%20e300          1\n",
       "1                https://www.rockwellautomation.com//404          1\n",
       "2      https://www.rockwellautomation.com/22a3767f-56...          1\n",
       "3      https://www.rockwellautomation.com/22da4f55-ff...          1\n",
       "4                 https://www.rockwellautomation.com/404          2\n",
       "...                                                  ...        ...\n",
       "11469        https://www.rockwellautomation.com/training          1\n",
       "11470  https://www.rockwellautomation.com/training/tr...          1\n",
       "11471  https://www.rockwellautomation.com/webappng/si...          1\n",
       "11472           https://www.rockwellautomation.com/webex          1\n",
       "11473  https://www.rockwellautomation.com/whitepaper-...          1\n",
       "\n",
       "[11474 rows x 2 columns]"
      ]
     },
     "execution_count": 69,
     "metadata": {},
     "output_type": "execute_result"
    }
   ],
   "source": [
    "xx[[\"asset\", \"auto_score\"]]"
   ]
  },
  {
   "cell_type": "code",
   "execution_count": 70,
   "id": "aefe173b",
   "metadata": {
    "ExecuteTime": {
     "end_time": "2022-12-16T17:06:54.734997Z",
     "start_time": "2022-12-16T17:06:54.725840Z"
    }
   },
   "outputs": [
    {
     "data": {
      "text/html": [
       "<div>\n",
       "<style scoped>\n",
       "    .dataframe tbody tr th:only-of-type {\n",
       "        vertical-align: middle;\n",
       "    }\n",
       "\n",
       "    .dataframe tbody tr th {\n",
       "        vertical-align: top;\n",
       "    }\n",
       "\n",
       "    .dataframe thead th {\n",
       "        text-align: right;\n",
       "    }\n",
       "</style>\n",
       "<table border=\"1\" class=\"dataframe\">\n",
       "  <thead>\n",
       "    <tr style=\"text-align: right;\">\n",
       "      <th></th>\n",
       "      <th>asset</th>\n",
       "      <th>weight</th>\n",
       "      <th>bins</th>\n",
       "      <th>color</th>\n",
       "      <th>auto_score</th>\n",
       "    </tr>\n",
       "  </thead>\n",
       "  <tbody>\n",
       "    <tr>\n",
       "      <th>4</th>\n",
       "      <td>https://www.rockwellautomation.com/404</td>\n",
       "      <td>0.006300</td>\n",
       "      <td>[0.00322, 0.00643]</td>\n",
       "      <td>turquoise</td>\n",
       "      <td>2</td>\n",
       "    </tr>\n",
       "    <tr>\n",
       "      <th>44</th>\n",
       "      <td>https://www.rockwellautomation.com/capabilities</td>\n",
       "      <td>0.003559</td>\n",
       "      <td>[0.00322, 0.00643]</td>\n",
       "      <td>turquoise</td>\n",
       "      <td>2</td>\n",
       "    </tr>\n",
       "    <tr>\n",
       "      <th>79</th>\n",
       "      <td>https://www.rockwellautomation.com/capabilitie...</td>\n",
       "      <td>0.008740</td>\n",
       "      <td>[0.00643, 0.00964]</td>\n",
       "      <td>orange</td>\n",
       "      <td>3</td>\n",
       "    </tr>\n",
       "    <tr>\n",
       "      <th>254</th>\n",
       "      <td>https://www.rockwellautomation.com/capabilitie...</td>\n",
       "      <td>0.004135</td>\n",
       "      <td>[0.00322, 0.00643]</td>\n",
       "      <td>turquoise</td>\n",
       "      <td>2</td>\n",
       "    </tr>\n",
       "    <tr>\n",
       "      <th>266</th>\n",
       "      <td>https://www.rockwellautomation.com/company/abo...</td>\n",
       "      <td>0.009620</td>\n",
       "      <td>[0.00643, 0.00964]</td>\n",
       "      <td>orange</td>\n",
       "      <td>3</td>\n",
       "    </tr>\n",
       "    <tr>\n",
       "      <th>285</th>\n",
       "      <td>https://www.rockwellautomation.com/company/abo...</td>\n",
       "      <td>0.004977</td>\n",
       "      <td>[0.00322, 0.00643]</td>\n",
       "      <td>turquoise</td>\n",
       "      <td>2</td>\n",
       "    </tr>\n",
       "    <tr>\n",
       "      <th>451</th>\n",
       "      <td>https://www.rockwellautomation.com/company/eve...</td>\n",
       "      <td>0.003220</td>\n",
       "      <td>[0.00322, 0.00643]</td>\n",
       "      <td>turquoise</td>\n",
       "      <td>2</td>\n",
       "    </tr>\n",
       "    <tr>\n",
       "      <th>9803</th>\n",
       "      <td>https://www.rockwellautomation.com/products/ha...</td>\n",
       "      <td>0.003422</td>\n",
       "      <td>[0.00322, 0.00643]</td>\n",
       "      <td>turquoise</td>\n",
       "      <td>2</td>\n",
       "    </tr>\n",
       "    <tr>\n",
       "      <th>10078</th>\n",
       "      <td>https://www.rockwellautomation.com/products/ha...</td>\n",
       "      <td>0.005162</td>\n",
       "      <td>[0.00322, 0.00643]</td>\n",
       "      <td>turquoise</td>\n",
       "      <td>2</td>\n",
       "    </tr>\n",
       "    <tr>\n",
       "      <th>10148</th>\n",
       "      <td>https://www.rockwellautomation.com/products/ha...</td>\n",
       "      <td>0.004182</td>\n",
       "      <td>[0.00322, 0.00643]</td>\n",
       "      <td>turquoise</td>\n",
       "      <td>2</td>\n",
       "    </tr>\n",
       "    <tr>\n",
       "      <th>10171</th>\n",
       "      <td>https://www.rockwellautomation.com/products/ha...</td>\n",
       "      <td>0.004067</td>\n",
       "      <td>[0.00322, 0.00643]</td>\n",
       "      <td>turquoise</td>\n",
       "      <td>2</td>\n",
       "    </tr>\n",
       "    <tr>\n",
       "      <th>10176</th>\n",
       "      <td>https://www.rockwellautomation.com/products/ha...</td>\n",
       "      <td>0.004585</td>\n",
       "      <td>[0.00322, 0.00643]</td>\n",
       "      <td>turquoise</td>\n",
       "      <td>2</td>\n",
       "    </tr>\n",
       "    <tr>\n",
       "      <th>10186</th>\n",
       "      <td>https://www.rockwellautomation.com/products/ha...</td>\n",
       "      <td>0.003652</td>\n",
       "      <td>[0.00322, 0.00643]</td>\n",
       "      <td>turquoise</td>\n",
       "      <td>2</td>\n",
       "    </tr>\n",
       "    <tr>\n",
       "      <th>10207</th>\n",
       "      <td>https://www.rockwellautomation.com/products/ha...</td>\n",
       "      <td>0.003302</td>\n",
       "      <td>[0.00322, 0.00643]</td>\n",
       "      <td>turquoise</td>\n",
       "      <td>2</td>\n",
       "    </tr>\n",
       "    <tr>\n",
       "      <th>10519</th>\n",
       "      <td>https://www.rockwellautomation.com/products/ha...</td>\n",
       "      <td>0.007862</td>\n",
       "      <td>[0.00643, 0.00964]</td>\n",
       "      <td>orange</td>\n",
       "      <td>3</td>\n",
       "    </tr>\n",
       "    <tr>\n",
       "      <th>10554</th>\n",
       "      <td>https://www.rockwellautomation.com/products/ha...</td>\n",
       "      <td>0.003658</td>\n",
       "      <td>[0.00322, 0.00643]</td>\n",
       "      <td>turquoise</td>\n",
       "      <td>2</td>\n",
       "    </tr>\n",
       "    <tr>\n",
       "      <th>10555</th>\n",
       "      <td>https://www.rockwellautomation.com/products/ha...</td>\n",
       "      <td>0.004154</td>\n",
       "      <td>[0.00322, 0.00643]</td>\n",
       "      <td>turquoise</td>\n",
       "      <td>2</td>\n",
       "    </tr>\n",
       "    <tr>\n",
       "      <th>10895</th>\n",
       "      <td>https://www.rockwellautomation.com/products/so...</td>\n",
       "      <td>0.009636</td>\n",
       "      <td>[0.00643, 0.00964]</td>\n",
       "      <td>orange</td>\n",
       "      <td>3</td>\n",
       "    </tr>\n",
       "    <tr>\n",
       "      <th>10943</th>\n",
       "      <td>https://www.rockwellautomation.com/products/so...</td>\n",
       "      <td>0.008854</td>\n",
       "      <td>[0.00643, 0.00964]</td>\n",
       "      <td>orange</td>\n",
       "      <td>3</td>\n",
       "    </tr>\n",
       "    <tr>\n",
       "      <th>10947</th>\n",
       "      <td>https://www.rockwellautomation.com/products/so...</td>\n",
       "      <td>0.007347</td>\n",
       "      <td>[0.00643, 0.00964]</td>\n",
       "      <td>orange</td>\n",
       "      <td>3</td>\n",
       "    </tr>\n",
       "    <tr>\n",
       "      <th>10948</th>\n",
       "      <td>https://www.rockwellautomation.com/products/so...</td>\n",
       "      <td>0.003253</td>\n",
       "      <td>[0.00322, 0.00643]</td>\n",
       "      <td>turquoise</td>\n",
       "      <td>2</td>\n",
       "    </tr>\n",
       "    <tr>\n",
       "      <th>10993</th>\n",
       "      <td>https://www.rockwellautomation.com/products/so...</td>\n",
       "      <td>0.004743</td>\n",
       "      <td>[0.00322, 0.00643]</td>\n",
       "      <td>turquoise</td>\n",
       "      <td>2</td>\n",
       "    </tr>\n",
       "    <tr>\n",
       "      <th>11126</th>\n",
       "      <td>https://www.rockwellautomation.com/support/doc...</td>\n",
       "      <td>0.005254</td>\n",
       "      <td>[0.00322, 0.00643]</td>\n",
       "      <td>turquoise</td>\n",
       "      <td>2</td>\n",
       "    </tr>\n",
       "    <tr>\n",
       "      <th>11210</th>\n",
       "      <td>https://www.rockwellautomation.com/support/doc...</td>\n",
       "      <td>0.005434</td>\n",
       "      <td>[0.00322, 0.00643]</td>\n",
       "      <td>turquoise</td>\n",
       "      <td>2</td>\n",
       "    </tr>\n",
       "    <tr>\n",
       "      <th>11364</th>\n",
       "      <td>https://www.rockwellautomation.com/support/pro...</td>\n",
       "      <td>0.004288</td>\n",
       "      <td>[0.00322, 0.00643]</td>\n",
       "      <td>turquoise</td>\n",
       "      <td>2</td>\n",
       "    </tr>\n",
       "    <tr>\n",
       "      <th>11370</th>\n",
       "      <td>https://www.rockwellautomation.com/support/pro...</td>\n",
       "      <td>0.003967</td>\n",
       "      <td>[0.00322, 0.00643]</td>\n",
       "      <td>turquoise</td>\n",
       "      <td>2</td>\n",
       "    </tr>\n",
       "    <tr>\n",
       "      <th>11374</th>\n",
       "      <td>https://www.rockwellautomation.com/support/pro...</td>\n",
       "      <td>0.005546</td>\n",
       "      <td>[0.00322, 0.00643]</td>\n",
       "      <td>turquoise</td>\n",
       "      <td>2</td>\n",
       "    </tr>\n",
       "    <tr>\n",
       "      <th>11376</th>\n",
       "      <td>https://www.rockwellautomation.com/support/pro...</td>\n",
       "      <td>0.003974</td>\n",
       "      <td>[0.00322, 0.00643]</td>\n",
       "      <td>turquoise</td>\n",
       "      <td>2</td>\n",
       "    </tr>\n",
       "    <tr>\n",
       "      <th>11377</th>\n",
       "      <td>https://www.rockwellautomation.com/support/tra...</td>\n",
       "      <td>0.006168</td>\n",
       "      <td>[0.00322, 0.00643]</td>\n",
       "      <td>turquoise</td>\n",
       "      <td>2</td>\n",
       "    </tr>\n",
       "    <tr>\n",
       "      <th>11380</th>\n",
       "      <td>https://www.rockwellautomation.com/support/tra...</td>\n",
       "      <td>0.007365</td>\n",
       "      <td>[0.00643, 0.00964]</td>\n",
       "      <td>orange</td>\n",
       "      <td>3</td>\n",
       "    </tr>\n",
       "    <tr>\n",
       "      <th>11381</th>\n",
       "      <td>https://www.rockwellautomation.com/support/tra...</td>\n",
       "      <td>0.003284</td>\n",
       "      <td>[0.00322, 0.00643]</td>\n",
       "      <td>turquoise</td>\n",
       "      <td>2</td>\n",
       "    </tr>\n",
       "    <tr>\n",
       "      <th>11468</th>\n",
       "      <td>https://www.rockwellautomation.com/tools/softw...</td>\n",
       "      <td>0.004988</td>\n",
       "      <td>[0.00322, 0.00643]</td>\n",
       "      <td>turquoise</td>\n",
       "      <td>2</td>\n",
       "    </tr>\n",
       "  </tbody>\n",
       "</table>\n",
       "</div>"
      ],
      "text/plain": [
       "                                                   asset    weight  \\\n",
       "4                 https://www.rockwellautomation.com/404  0.006300   \n",
       "44       https://www.rockwellautomation.com/capabilities  0.003559   \n",
       "79     https://www.rockwellautomation.com/capabilitie...  0.008740   \n",
       "254    https://www.rockwellautomation.com/capabilitie...  0.004135   \n",
       "266    https://www.rockwellautomation.com/company/abo...  0.009620   \n",
       "285    https://www.rockwellautomation.com/company/abo...  0.004977   \n",
       "451    https://www.rockwellautomation.com/company/eve...  0.003220   \n",
       "9803   https://www.rockwellautomation.com/products/ha...  0.003422   \n",
       "10078  https://www.rockwellautomation.com/products/ha...  0.005162   \n",
       "10148  https://www.rockwellautomation.com/products/ha...  0.004182   \n",
       "10171  https://www.rockwellautomation.com/products/ha...  0.004067   \n",
       "10176  https://www.rockwellautomation.com/products/ha...  0.004585   \n",
       "10186  https://www.rockwellautomation.com/products/ha...  0.003652   \n",
       "10207  https://www.rockwellautomation.com/products/ha...  0.003302   \n",
       "10519  https://www.rockwellautomation.com/products/ha...  0.007862   \n",
       "10554  https://www.rockwellautomation.com/products/ha...  0.003658   \n",
       "10555  https://www.rockwellautomation.com/products/ha...  0.004154   \n",
       "10895  https://www.rockwellautomation.com/products/so...  0.009636   \n",
       "10943  https://www.rockwellautomation.com/products/so...  0.008854   \n",
       "10947  https://www.rockwellautomation.com/products/so...  0.007347   \n",
       "10948  https://www.rockwellautomation.com/products/so...  0.003253   \n",
       "10993  https://www.rockwellautomation.com/products/so...  0.004743   \n",
       "11126  https://www.rockwellautomation.com/support/doc...  0.005254   \n",
       "11210  https://www.rockwellautomation.com/support/doc...  0.005434   \n",
       "11364  https://www.rockwellautomation.com/support/pro...  0.004288   \n",
       "11370  https://www.rockwellautomation.com/support/pro...  0.003967   \n",
       "11374  https://www.rockwellautomation.com/support/pro...  0.005546   \n",
       "11376  https://www.rockwellautomation.com/support/pro...  0.003974   \n",
       "11377  https://www.rockwellautomation.com/support/tra...  0.006168   \n",
       "11380  https://www.rockwellautomation.com/support/tra...  0.007365   \n",
       "11381  https://www.rockwellautomation.com/support/tra...  0.003284   \n",
       "11468  https://www.rockwellautomation.com/tools/softw...  0.004988   \n",
       "\n",
       "                     bins      color auto_score  \n",
       "4      [0.00322, 0.00643]  turquoise          2  \n",
       "44     [0.00322, 0.00643]  turquoise          2  \n",
       "79     [0.00643, 0.00964]     orange          3  \n",
       "254    [0.00322, 0.00643]  turquoise          2  \n",
       "266    [0.00643, 0.00964]     orange          3  \n",
       "285    [0.00322, 0.00643]  turquoise          2  \n",
       "451    [0.00322, 0.00643]  turquoise          2  \n",
       "9803   [0.00322, 0.00643]  turquoise          2  \n",
       "10078  [0.00322, 0.00643]  turquoise          2  \n",
       "10148  [0.00322, 0.00643]  turquoise          2  \n",
       "10171  [0.00322, 0.00643]  turquoise          2  \n",
       "10176  [0.00322, 0.00643]  turquoise          2  \n",
       "10186  [0.00322, 0.00643]  turquoise          2  \n",
       "10207  [0.00322, 0.00643]  turquoise          2  \n",
       "10519  [0.00643, 0.00964]     orange          3  \n",
       "10554  [0.00322, 0.00643]  turquoise          2  \n",
       "10555  [0.00322, 0.00643]  turquoise          2  \n",
       "10895  [0.00643, 0.00964]     orange          3  \n",
       "10943  [0.00643, 0.00964]     orange          3  \n",
       "10947  [0.00643, 0.00964]     orange          3  \n",
       "10948  [0.00322, 0.00643]  turquoise          2  \n",
       "10993  [0.00322, 0.00643]  turquoise          2  \n",
       "11126  [0.00322, 0.00643]  turquoise          2  \n",
       "11210  [0.00322, 0.00643]  turquoise          2  \n",
       "11364  [0.00322, 0.00643]  turquoise          2  \n",
       "11370  [0.00322, 0.00643]  turquoise          2  \n",
       "11374  [0.00322, 0.00643]  turquoise          2  \n",
       "11376  [0.00322, 0.00643]  turquoise          2  \n",
       "11377  [0.00322, 0.00643]  turquoise          2  \n",
       "11380  [0.00643, 0.00964]     orange          3  \n",
       "11381  [0.00322, 0.00643]  turquoise          2  \n",
       "11468  [0.00322, 0.00643]  turquoise          2  "
      ]
     },
     "execution_count": 70,
     "metadata": {},
     "output_type": "execute_result"
    }
   ],
   "source": [
    "xx[xx[\"auto_score\"]>1]"
   ]
  },
  {
   "cell_type": "code",
   "execution_count": null,
   "id": "cd5daf32",
   "metadata": {},
   "outputs": [],
   "source": []
  },
  {
   "cell_type": "markdown",
   "id": "f98d7a3b",
   "metadata": {},
   "source": [
    "### min-max Normalization"
   ]
  },
  {
   "cell_type": "code",
   "execution_count": null,
   "id": "eaddd466",
   "metadata": {
    "ExecuteTime": {
     "end_time": "2022-12-16T16:45:36.453276Z",
     "start_time": "2022-12-16T16:45:36.453267Z"
    }
   },
   "outputs": [],
   "source": [
    "x = weights[\"weight\"].astype(float) \n",
    "x = (x-x.min())/(x.max()-x.min()) * 5\n",
    "x.plot(kind=\"bar\")"
   ]
  },
  {
   "cell_type": "markdown",
   "id": "a1cf9f47",
   "metadata": {},
   "source": [
    "### z-score Standardization"
   ]
  },
  {
   "cell_type": "code",
   "execution_count": null,
   "id": "35dcd0eb",
   "metadata": {
    "ExecuteTime": {
     "end_time": "2022-12-16T16:45:36.453944Z",
     "start_time": "2022-12-16T16:45:36.453937Z"
    }
   },
   "outputs": [],
   "source": [
    "x = weights[\"weight\"].astype(float) \n",
    "x = 1 + ((x-x.mean())/x.std())\n",
    "x.plot(kind=\"bar\")"
   ]
  },
  {
   "cell_type": "code",
   "execution_count": null,
   "id": "7ab78289",
   "metadata": {},
   "outputs": [],
   "source": []
  },
  {
   "cell_type": "markdown",
   "id": "1c762bed",
   "metadata": {},
   "source": [
    "## Others "
   ]
  },
  {
   "cell_type": "code",
   "execution_count": null,
   "id": "554378e1",
   "metadata": {},
   "outputs": [],
   "source": []
  },
  {
   "cell_type": "code",
   "execution_count": null,
   "id": "2f944084",
   "metadata": {},
   "outputs": [],
   "source": []
  },
  {
   "cell_type": "markdown",
   "id": "30dc28fe",
   "metadata": {},
   "source": [
    "# Store model and prediction"
   ]
  },
  {
   "cell_type": "code",
   "execution_count": null,
   "id": "db82c4bd",
   "metadata": {
    "ExecuteTime": {
     "end_time": "2022-12-16T16:45:36.454711Z",
     "start_time": "2022-12-16T16:45:36.454702Z"
    }
   },
   "outputs": [],
   "source": [
    "import pickle"
   ]
  },
  {
   "cell_type": "code",
   "execution_count": null,
   "id": "7c82e93d",
   "metadata": {
    "ExecuteTime": {
     "end_time": "2022-12-16T16:45:36.455521Z",
     "start_time": "2022-12-16T16:45:36.455513Z"
    }
   },
   "outputs": [],
   "source": [
    "with open('model_v1.pkl','wb') as f:\n",
    "    pickle.dump(clf, f)"
   ]
  },
  {
   "cell_type": "code",
   "execution_count": null,
   "id": "beb1cd18",
   "metadata": {
    "ExecuteTime": {
     "end_time": "2022-12-16T16:45:36.456332Z",
     "start_time": "2022-12-16T16:45:36.456324Z"
    }
   },
   "outputs": [],
   "source": [
    "# load\n",
    "with open('model_v1.pkl', 'rb') as f:\n",
    "    clf2 = pickle.load(f)"
   ]
  },
  {
   "cell_type": "markdown",
   "id": "83439a3a",
   "metadata": {},
   "source": [
    "## Prediction/Test with the latest month data"
   ]
  },
  {
   "cell_type": "code",
   "execution_count": null,
   "id": "75b88f00",
   "metadata": {},
   "outputs": [],
   "source": []
  },
  {
   "cell_type": "markdown",
   "id": "2936585c",
   "metadata": {},
   "source": [
    "# Post to AEM"
   ]
  },
  {
   "cell_type": "code",
   "execution_count": null,
   "id": "d0e9bb56",
   "metadata": {},
   "outputs": [],
   "source": []
  },
  {
   "cell_type": "code",
   "execution_count": null,
   "id": "16149dcb",
   "metadata": {
    "ExecuteTime": {
     "end_time": "2022-12-16T16:45:36.456914Z",
     "start_time": "2022-12-16T16:45:36.456906Z"
    },
    "scrolled": true
   },
   "outputs": [],
   "source": [
    "# np.exp(clf2.feature_log_prob_[0])"
   ]
  },
  {
   "cell_type": "code",
   "execution_count": null,
   "id": "7b1e7b7c",
   "metadata": {},
   "outputs": [],
   "source": []
  },
  {
   "cell_type": "code",
   "execution_count": null,
   "id": "33c62ef7",
   "metadata": {},
   "outputs": [],
   "source": []
  },
  {
   "cell_type": "code",
   "execution_count": null,
   "id": "cc08e878",
   "metadata": {},
   "outputs": [],
   "source": []
  },
  {
   "cell_type": "code",
   "execution_count": null,
   "id": "bb5ba2d0",
   "metadata": {},
   "outputs": [],
   "source": []
  },
  {
   "cell_type": "markdown",
   "id": "16204d08",
   "metadata": {},
   "source": [
    "# Checking"
   ]
  },
  {
   "cell_type": "code",
   "execution_count": null,
   "id": "8470b0c6",
   "metadata": {},
   "outputs": [],
   "source": []
  }
 ],
 "metadata": {
  "kernelspec": {
   "display_name": "Python 3 (ipykernel)",
   "language": "python",
   "name": "python3"
  },
  "language_info": {
   "codemirror_mode": {
    "name": "ipython",
    "version": 3
   },
   "file_extension": ".py",
   "mimetype": "text/x-python",
   "name": "python",
   "nbconvert_exporter": "python",
   "pygments_lexer": "ipython3",
   "version": "3.9.7"
  },
  "toc": {
   "base_numbering": 1,
   "nav_menu": {},
   "number_sections": true,
   "sideBar": true,
   "skip_h1_title": false,
   "title_cell": "Table of Contents",
   "title_sidebar": "Contents",
   "toc_cell": false,
   "toc_position": {
    "height": "calc(100% - 180px)",
    "left": "10px",
    "top": "150px",
    "width": "341.812px"
   },
   "toc_section_display": true,
   "toc_window_display": true
  }
 },
 "nbformat": 4,
 "nbformat_minor": 5
}
