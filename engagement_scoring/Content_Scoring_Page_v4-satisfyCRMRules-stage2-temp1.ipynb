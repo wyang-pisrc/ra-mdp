{
 "cells": [
  {
   "cell_type": "markdown",
   "id": "40fe2f74",
   "metadata": {},
   "source": [
    "# Init"
   ]
  },
  {
   "cell_type": "markdown",
   "id": "d6b62799",
   "metadata": {},
   "source": [
    "## Utils"
   ]
  },
  {
   "cell_type": "code",
   "execution_count": 1,
   "id": "6d8c3275",
   "metadata": {
    "ExecuteTime": {
     "end_time": "2022-12-15T19:23:05.714545Z",
     "start_time": "2022-12-15T19:23:03.661455Z"
    }
   },
   "outputs": [],
   "source": [
    "from contentScoreShareUtils import * \n",
    "VERSION = \"v1.2\""
   ]
  },
  {
   "cell_type": "markdown",
   "id": "d5243ed3",
   "metadata": {},
   "source": [
    "# Data"
   ]
  },
  {
   "cell_type": "markdown",
   "id": "ba5a5d32",
   "metadata": {},
   "source": [
    "## Load Data"
   ]
  },
  {
   "cell_type": "markdown",
   "id": "93d93979",
   "metadata": {
    "ExecuteTime": {
     "end_time": "2022-12-07T21:11:39.137646Z",
     "start_time": "2022-12-07T21:11:39.131786Z"
    }
   },
   "source": [
    "### elo.contact (mcvisid_elqid_email)\n",
    "- conclusion\n",
    "    - every elqid should have a matched email. \n",
    "    - every elqid is corresponding with one Form. So, one visitor can have multiple elqid\n",
    "    - not all the email can be found on CRM.Lead table\n",
    "    - <font color=red>if shared EloquaContactId or EmailAddress = aggregate as one User (not handle yet)</font>\n",
    "- Latest one month\n",
    "    - <font color=red>all mcvisid in mcvisid_elqid_email are the positive signal: </font>\n",
    "    - all other mcvisid not in mcvisid_elqid_email but in aem_raw is the negative signal: \n",
    "    \n",
    "- mcvisid_elqid_email_all: no time range selection\n",
    "\n",
    "<!-- WITH TMP1 AS (\n",
    "SELECT DISTINCT [EloquaContactId], [mcvisid]\n",
    "FROM [Staging].[aem].[RawTraffic]\n",
    "WHERE EloquaContactId <> ''\n",
    "), \n",
    "\n",
    "TMP2 AS (\n",
    "SELECT DISTINCT  TMP1.[mcvisid], elq.EloquaContactId, LOWER(elq.[EmailAddress]) AS \"EmailAddress\"\n",
    "FROM [Staging].[elq].[Contact] AS elq\n",
    "INNER JOIN TMP1 ON TMP1.EloquaContactId = elq.EloquaContactId\n",
    "WHERE elq.EloquaContactId <> ''\n",
    ")\n",
    "\n",
    "SELECT *\n",
    "FROM TMP2 -->\n",
    "\n",
    "- mcvisid_elqid_email_all: VisitStartDateTime > '2022-04-21'\n",
    "\n",
    "\n",
    "<!-- WITH TMP1 AS (\n",
    "SELECT DISTINCT [EloquaContactId], [mcvisid]\n",
    "FROM [Staging].[aem].[RawTraffic]\n",
    "WHERE EloquaContactId <> '' AND VisitStartDateTime > '2022-04-21'\n",
    "), \n",
    "\n",
    "TMP2 AS (\n",
    "SELECT DISTINCT  TMP1.[mcvisid], elq.EloquaContactId, LOWER(elq.[EmailAddress]) AS \"EmailAddress\"\n",
    "FROM [Staging].[elq].[Contact] AS elq\n",
    "INNER JOIN TMP1 ON TMP1.EloquaContactId = elq.EloquaContactId\n",
    "WHERE elq.EloquaContactId <> ''\n",
    ")\n",
    "\n",
    "SELECT *\n",
    "FROM TMP2 -->"
   ]
  },
  {
   "cell_type": "code",
   "execution_count": 2,
   "id": "336533e8",
   "metadata": {
    "ExecuteTime": {
     "end_time": "2022-12-15T19:23:07.090749Z",
     "start_time": "2022-12-15T19:23:05.745975Z"
    }
   },
   "outputs": [],
   "source": [
    "email_mcvisid = pd.read_csv(\"mcvisid_elqid_email_all.csv\")\n",
    "email_mcvisid, drop_mcvisid = email_cleanup(email_mcvisid, \"EmailAddress\")"
   ]
  },
  {
   "cell_type": "markdown",
   "id": "7ce450fe",
   "metadata": {},
   "source": [
    "#### positive label 1\n",
    "- if can find the elq contact ID, then treated as positive"
   ]
  },
  {
   "cell_type": "code",
   "execution_count": null,
   "id": "b6eb3e27",
   "metadata": {},
   "outputs": [],
   "source": [
    "positive_mcvisid = email_mcvisid[\"mcvisid\"].drop_duplicates() ## all along the past, if mcvisid existed with corresponding elqid, then it is positive sigal"
   ]
  },
  {
   "cell_type": "markdown",
   "id": "6a8b329a",
   "metadata": {},
   "source": [
    "### crm Lead\n",
    "- unique EloquaContactId -> do some update on this table for the same ID\n",
    "- statuscodename: \n",
    "        ['New', 'Does not meet campaign criteria', 'Duplicate Lead', 'Already Active Opportunity', 'Insufficient information to contact', 'No buying intention', 'Not Decision Maker', 'Not buying or influence location', 'No Interest', 'Qualified', 'Unable to make contact (via phone,email)', 'No viable contact', 'Max Attempts', 'Unable to make contact', 'No RA solution', 'Assigned to Distribution', 'Bad Contact Information', 'Admin Only: Abandoned by Sales', 'Selling barrier to high', 'Not Buying Location', 'Unable to Process', 'Competitor/Non RA distributor', nan, 'Credit hold or watch', 'External Processing']\n",
    "- statecodename: \n",
    "        ['Open', 'Disqualified', 'Qualified', nan]\n",
    "- ra_generalengagementscore: \n",
    "        ['B4', nan, 'D4', 'A4', 'B1', 'B2', 'A2', 'D1', 'A1', 'A3', 'C2', 'C1', 'C4', 'B3', 'C3', 'D3', 'D2', '953810003.0']\n",
    "- ra_salesacceptedname: \n",
    "        [nan, 'Yes', 'No']\n"
   ]
  },
  {
   "cell_type": "code",
   "execution_count": 210,
   "id": "b9ce2e35",
   "metadata": {
    "ExecuteTime": {
     "end_time": "2022-12-15T20:27:03.246494Z",
     "start_time": "2022-12-15T20:26:53.311848Z"
    },
    "scrolled": true
   },
   "outputs": [],
   "source": [
    "_lead = pd.read_csv(\"crm_Lead_20221116_all.csv\", index_col=0)\n",
    "crm_lead, drop_rows = email_cleanup(_lead, \"emailaddress1\")"
   ]
  },
  {
   "cell_type": "code",
   "execution_count": 262,
   "id": "cec5668b",
   "metadata": {
    "ExecuteTime": {
     "end_time": "2022-12-15T20:46:58.272847Z",
     "start_time": "2022-12-15T20:46:58.104641Z"
    }
   },
   "outputs": [],
   "source": [
    "statecodename_positive_rules = {\"Qualified\": 1}\n",
    "statuscodename_positive_rules = {\"Already Active Opportunity\": 1, \"Assigned to Distribution\":1}\n",
    "crm_lead[\"statecode_signal\"] = crm_lead[\"statecodename\"].map(statecodename_positive_rules).fillna(0)\n",
    "crm_lead[\"statuscode_signal\"] = crm_lead[\"statuscodename\"].map(statuscodename_positive_rules).fillna(0)\n",
    "\n",
    "def label_assign_rules(x):\n",
    "    target_cols = x[[\"statuscode_signal\", \"statecode_signal\"]]\n",
    "    is_positive = target_cols.sum().sum()>0 # one of them is positive\n",
    "    return is_positive\n",
    "\n",
    "x = crm_lead[crm_lead[\"emailaddress1\"] == \"idy1983@163.com\"]\n",
    "x.to_excel(\"sample_lead-1.xlsx\")\n",
    "\n",
    "email_updated_label = crm_lead.groupby(\"emailaddress1\").apply(lambda x: label_assign_rules(x))\n",
    "email_updated_label = email_updated_label.reset_index()\n",
    "email_updated_label.columns = [\"EmailAddress\", \"label\"]"
   ]
  },
  {
   "cell_type": "markdown",
   "id": "00152ac5",
   "metadata": {},
   "source": [
    "#### positive label 2\n",
    "- if can find the elq contact ID, and rules are satisfied in CRM table, then treated as positive \n",
    "- rules diagram: https://app.diagrams.net/#G1cZkJWofiA_C-lV5Iqe0PBud0n3IuZVuT"
   ]
  },
  {
   "cell_type": "code",
   "execution_count": 291,
   "id": "264aaef1",
   "metadata": {
    "ExecuteTime": {
     "end_time": "2022-12-15T20:58:35.334129Z",
     "start_time": "2022-12-15T20:58:35.306989Z"
    }
   },
   "outputs": [
    {
     "name": "stdout",
     "output_type": "stream",
     "text": [
      "False    101227\n",
      "True      33925\n",
      "Name: label, dtype: int64\n"
     ]
    },
    {
     "data": {
      "text/html": [
       "<div>\n",
       "<style scoped>\n",
       "    .dataframe tbody tr th:only-of-type {\n",
       "        vertical-align: middle;\n",
       "    }\n",
       "\n",
       "    .dataframe tbody tr th {\n",
       "        vertical-align: top;\n",
       "    }\n",
       "\n",
       "    .dataframe thead th {\n",
       "        text-align: right;\n",
       "    }\n",
       "</style>\n",
       "<table border=\"1\" class=\"dataframe\">\n",
       "  <thead>\n",
       "    <tr style=\"text-align: right;\">\n",
       "      <th></th>\n",
       "      <th>EmailAddress</th>\n",
       "      <th>label</th>\n",
       "    </tr>\n",
       "  </thead>\n",
       "  <tbody>\n",
       "    <tr>\n",
       "      <th>83271</th>\n",
       "      <td>matt.gidley@pcmc.com</td>\n",
       "      <td>False</td>\n",
       "    </tr>\n",
       "    <tr>\n",
       "      <th>76425</th>\n",
       "      <td>linda@wizcad.co.za</td>\n",
       "      <td>True</td>\n",
       "    </tr>\n",
       "    <tr>\n",
       "      <th>125963</th>\n",
       "      <td>tommy.w.byerly@clarios.com</td>\n",
       "      <td>False</td>\n",
       "    </tr>\n",
       "    <tr>\n",
       "      <th>25508</th>\n",
       "      <td>compras@prodismo.com</td>\n",
       "      <td>True</td>\n",
       "    </tr>\n",
       "    <tr>\n",
       "      <th>71195</th>\n",
       "      <td>kerry.sacilotto@riotinto.com</td>\n",
       "      <td>False</td>\n",
       "    </tr>\n",
       "    <tr>\n",
       "      <th>68914</th>\n",
       "      <td>jyarcia@mondelez.com</td>\n",
       "      <td>False</td>\n",
       "    </tr>\n",
       "    <tr>\n",
       "      <th>63921</th>\n",
       "      <td>john.koester@spsx.com</td>\n",
       "      <td>False</td>\n",
       "    </tr>\n",
       "    <tr>\n",
       "      <th>35523</th>\n",
       "      <td>dsouweine@fitchcompany.com</td>\n",
       "      <td>False</td>\n",
       "    </tr>\n",
       "    <tr>\n",
       "      <th>80582</th>\n",
       "      <td>marcelo.araujo@crwautomacao.com.br</td>\n",
       "      <td>True</td>\n",
       "    </tr>\n",
       "    <tr>\n",
       "      <th>130694</th>\n",
       "      <td>wanghaiying7@portqhd.com</td>\n",
       "      <td>True</td>\n",
       "    </tr>\n",
       "  </tbody>\n",
       "</table>\n",
       "</div>"
      ],
      "text/plain": [
       "                              EmailAddress  label\n",
       "83271                 matt.gidley@pcmc.com  False\n",
       "76425                   linda@wizcad.co.za   True\n",
       "125963          tommy.w.byerly@clarios.com  False\n",
       "25508                 compras@prodismo.com   True\n",
       "71195         kerry.sacilotto@riotinto.com  False\n",
       "68914                 jyarcia@mondelez.com  False\n",
       "63921                john.koester@spsx.com  False\n",
       "35523           dsouweine@fitchcompany.com  False\n",
       "80582   marcelo.araujo@crwautomacao.com.br   True\n",
       "130694            wanghaiying7@portqhd.com   True"
      ]
     },
     "execution_count": 291,
     "metadata": {},
     "output_type": "execute_result"
    }
   ],
   "source": [
    "print(email_updated_label[\"label\"].value_counts())\n",
    "email_updated_label.sample(10)"
   ]
  },
  {
   "cell_type": "code",
   "execution_count": 325,
   "id": "558b178d",
   "metadata": {
    "ExecuteTime": {
     "end_time": "2022-12-15T21:16:46.808908Z",
     "start_time": "2022-12-15T21:16:46.495092Z"
    }
   },
   "outputs": [],
   "source": [
    "mcvisid_labels = email_mcvisid.merge(email_updated_label, on=\"EmailAddress\", how=\"left\")\n",
    "mcvisid_labels[\"label\"].fillna(False, inplace=True)\n",
    "positive_mcvisid = mcvisid_labels[mcvisid_labels[\"label\"] == True][\"mcvisid\"]\n",
    "updated_labels = mcvisid_labels[[\"mcvisid\",\"label\"]].drop_duplicates()"
   ]
  },
  {
   "cell_type": "markdown",
   "id": "74c0480b",
   "metadata": {},
   "source": [
    "#### correlation analysis"
   ]
  },
  {
   "cell_type": "code",
   "execution_count": null,
   "id": "012a84b6",
   "metadata": {
    "ExecuteTime": {
     "end_time": "2022-12-15T21:12:11.954185Z",
     "start_time": "2022-12-15T21:12:11.933912Z"
    }
   },
   "outputs": [],
   "source": []
  },
  {
   "cell_type": "markdown",
   "id": "c11e97bb",
   "metadata": {},
   "source": [
    "### AEM.raw \n",
    "```python\n",
    "'SessionVisitorId', 'VisitPageNumber', 'VisitNumber', 'NewVisit',\n",
    "'EventList', 'DateTime_UTC', 'PageURL', 'VisitReferrer',\n",
    "'VisitReferrerType', 'VisitorDomain', 'External_Audience',\n",
    "'External_AudienceSegment', 'External_Industry', 'External_Website',\n",
    "'EloquaContactId', 'EloquaGUID', 'mcvisid', 'GeoCity', 'GeoCountry',\n",
    "'GeoRegion', 'PDFurl', 'PDFpagecount', 'BingeId', 'BingeCriticalScore',\n",
    "'BingeScoredAssetPath', 'BingeScoredAssetScore', 'date', 'hour',\n",
    "'clean_PageURL', 'label'\n",
    "```"
   ]
  },
  {
   "cell_type": "code",
   "execution_count": 4,
   "id": "43c9d30c",
   "metadata": {
    "ExecuteTime": {
     "end_time": "2022-12-15T19:23:22.671135Z",
     "start_time": "2022-12-15T19:23:22.665541Z"
    }
   },
   "outputs": [],
   "source": [
    "usecols = [\n",
    "    \"mcvisid\", \"clean_PageURL\", \"label\", \"PDFurl\", \"BingeScoredAssetPath\", \"BingeId\", \"date\", \"hour\",\n",
    "    \"VisitReferrer\", \"VisitorDomain\", 'External_Audience',\n",
    "    'External_AudienceSegment', 'External_Industry', 'External_Website',\n",
    "    \"EloquaContactId\", \"PageURL\"\n",
    "]"
   ]
  },
  {
   "cell_type": "code",
   "execution_count": 5,
   "id": "d8437d96",
   "metadata": {
    "ExecuteTime": {
     "end_time": "2022-12-15T19:23:57.046685Z",
     "start_time": "2022-12-15T19:23:22.866427Z"
    }
   },
   "outputs": [],
   "source": [
    "# aem_raw = load_csv_batches(glob_pattern=\"./aem_raw/*.csv\", num=2, keep=\"last\") \n",
    "aem_raw = pd.read_csv(f\"stage1_raw_{VERSION}.csv\", nrows=None, usecols=usecols)"
   ]
  },
  {
   "cell_type": "code",
   "execution_count": 6,
   "id": "a797f9f6",
   "metadata": {
    "ExecuteTime": {
     "end_time": "2022-12-15T19:24:00.140137Z",
     "start_time": "2022-12-15T19:23:57.047934Z"
    }
   },
   "outputs": [
    {
     "data": {
      "text/html": [
       "<div>\n",
       "<style scoped>\n",
       "    .dataframe tbody tr th:only-of-type {\n",
       "        vertical-align: middle;\n",
       "    }\n",
       "\n",
       "    .dataframe tbody tr th {\n",
       "        vertical-align: top;\n",
       "    }\n",
       "\n",
       "    .dataframe thead th {\n",
       "        text-align: right;\n",
       "    }\n",
       "</style>\n",
       "<table border=\"1\" class=\"dataframe\">\n",
       "  <thead>\n",
       "    <tr style=\"text-align: right;\">\n",
       "      <th></th>\n",
       "      <th>page_visit_count</th>\n",
       "    </tr>\n",
       "    <tr>\n",
       "      <th>clean_PageURL</th>\n",
       "      <th></th>\n",
       "    </tr>\n",
       "  </thead>\n",
       "  <tbody>\n",
       "    <tr>\n",
       "      <th>https://www.rockwellautomation.com/products/details.440T-MSTUE110B</th>\n",
       "      <td>1</td>\n",
       "    </tr>\n",
       "    <tr>\n",
       "      <th>https://www.rockwellautomation.com/products/details.800A-C2CC4LC</th>\n",
       "      <td>1</td>\n",
       "    </tr>\n",
       "    <tr>\n",
       "      <th>https://www.rockwellautomation.com/products/details.800A-C2CC2L</th>\n",
       "      <td>1</td>\n",
       "    </tr>\n",
       "    <tr>\n",
       "      <th>https://www.rockwellautomation.com/products/details.800A-C2CC24C</th>\n",
       "      <td>1</td>\n",
       "    </tr>\n",
       "    <tr>\n",
       "      <th>https://www.rockwellautomation.com/products/details.800A-C2CC24</th>\n",
       "      <td>1</td>\n",
       "    </tr>\n",
       "    <tr>\n",
       "      <th>...</th>\n",
       "      <td>...</td>\n",
       "    </tr>\n",
       "    <tr>\n",
       "      <th>https://www.rockwellautomation.com/support</th>\n",
       "      <td>232691</td>\n",
       "    </tr>\n",
       "    <tr>\n",
       "      <th>https://www.rockwellautomation.com/products/hardware/allen-bradley</th>\n",
       "      <td>677975</td>\n",
       "    </tr>\n",
       "    <tr>\n",
       "      <th>https://www.rockwellautomation.com/en-us</th>\n",
       "      <td>1347109</td>\n",
       "    </tr>\n",
       "    <tr>\n",
       "      <th>https://www.rockwellautomation.com/lang-selection</th>\n",
       "      <td>1404213</td>\n",
       "    </tr>\n",
       "    <tr>\n",
       "      <th>https://www.rockwellautomation.com/search</th>\n",
       "      <td>1738860</td>\n",
       "    </tr>\n",
       "  </tbody>\n",
       "</table>\n",
       "<p>462480 rows × 1 columns</p>\n",
       "</div>"
      ],
      "text/plain": [
       "                                                    page_visit_count\n",
       "clean_PageURL                                                       \n",
       "https://www.rockwellautomation.com/products/det...                 1\n",
       "https://www.rockwellautomation.com/products/det...                 1\n",
       "https://www.rockwellautomation.com/products/det...                 1\n",
       "https://www.rockwellautomation.com/products/det...                 1\n",
       "https://www.rockwellautomation.com/products/det...                 1\n",
       "...                                                              ...\n",
       "https://www.rockwellautomation.com/support                    232691\n",
       "https://www.rockwellautomation.com/products/har...            677975\n",
       "https://www.rockwellautomation.com/en-us                     1347109\n",
       "https://www.rockwellautomation.com/lang-selection            1404213\n",
       "https://www.rockwellautomation.com/search                    1738860\n",
       "\n",
       "[462480 rows x 1 columns]"
      ]
     },
     "execution_count": 6,
     "metadata": {},
     "output_type": "execute_result"
    }
   ],
   "source": [
    "view3 = aem_raw.groupby(\"clean_PageURL\")[\"mcvisid\"].count().rename(\"page_visit_count\").to_frame()\n",
    "view3.sort_values(by=\"page_visit_count\")"
   ]
  },
  {
   "cell_type": "code",
   "execution_count": 457,
   "id": "6c768d3c",
   "metadata": {
    "ExecuteTime": {
     "end_time": "2022-12-15T21:46:41.357377Z",
     "start_time": "2022-12-15T21:46:41.332103Z"
    }
   },
   "outputs": [
    {
     "data": {
      "text/html": [
       "<div>\n",
       "<style scoped>\n",
       "    .dataframe tbody tr th:only-of-type {\n",
       "        vertical-align: middle;\n",
       "    }\n",
       "\n",
       "    .dataframe tbody tr th {\n",
       "        vertical-align: top;\n",
       "    }\n",
       "\n",
       "    .dataframe thead th {\n",
       "        text-align: right;\n",
       "    }\n",
       "</style>\n",
       "<table border=\"1\" class=\"dataframe\">\n",
       "  <thead>\n",
       "    <tr style=\"text-align: right;\">\n",
       "      <th></th>\n",
       "      <th>page_visit_count</th>\n",
       "    </tr>\n",
       "    <tr>\n",
       "      <th>clean_PageURL</th>\n",
       "      <th></th>\n",
       "    </tr>\n",
       "  </thead>\n",
       "  <tbody>\n",
       "    <tr>\n",
       "      <th>https://www.rockwellautomation.com/company/events/in-person-events/automation-fair</th>\n",
       "      <td>108723</td>\n",
       "    </tr>\n",
       "    <tr>\n",
       "      <th>https://www.rockwellautomation.com/products/software/factorytalk</th>\n",
       "      <td>116044</td>\n",
       "    </tr>\n",
       "    <tr>\n",
       "      <th>https://www.rockwellautomation.com/sales</th>\n",
       "      <td>124975</td>\n",
       "    </tr>\n",
       "    <tr>\n",
       "      <th>https://www.rockwellautomation.com/products/hardware/allen-bradley/programmable-controllers</th>\n",
       "      <td>135873</td>\n",
       "    </tr>\n",
       "    <tr>\n",
       "      <th>https://www.rockwellautomation.com</th>\n",
       "      <td>139829</td>\n",
       "    </tr>\n",
       "    <tr>\n",
       "      <th>https://www.rockwellautomation.com/support/product/product-compatibility-migration/product-lifecycle-status</th>\n",
       "      <td>155410</td>\n",
       "    </tr>\n",
       "    <tr>\n",
       "      <th>https://www.rockwellautomation.com/support/documentation/literature-library</th>\n",
       "      <td>155754</td>\n",
       "    </tr>\n",
       "    <tr>\n",
       "      <th>https://www.rockwellautomation.com/products</th>\n",
       "      <td>156632</td>\n",
       "    </tr>\n",
       "    <tr>\n",
       "      <th>https://www.rockwellautomation.com/company/about-us</th>\n",
       "      <td>165237</td>\n",
       "    </tr>\n",
       "    <tr>\n",
       "      <th>https://www.rockwellautomation.com/support/product/product-downloads</th>\n",
       "      <td>175463</td>\n",
       "    </tr>\n",
       "    <tr>\n",
       "      <th>https://www.rockwellautomation.com/support</th>\n",
       "      <td>232691</td>\n",
       "    </tr>\n",
       "    <tr>\n",
       "      <th>https://www.rockwellautomation.com/products/hardware/allen-bradley</th>\n",
       "      <td>677975</td>\n",
       "    </tr>\n",
       "    <tr>\n",
       "      <th>https://www.rockwellautomation.com/en-us</th>\n",
       "      <td>1347109</td>\n",
       "    </tr>\n",
       "    <tr>\n",
       "      <th>https://www.rockwellautomation.com/lang-selection</th>\n",
       "      <td>1404213</td>\n",
       "    </tr>\n",
       "    <tr>\n",
       "      <th>https://www.rockwellautomation.com/search</th>\n",
       "      <td>1738860</td>\n",
       "    </tr>\n",
       "  </tbody>\n",
       "</table>\n",
       "</div>"
      ],
      "text/plain": [
       "                                                    page_visit_count\n",
       "clean_PageURL                                                       \n",
       "https://www.rockwellautomation.com/company/even...            108723\n",
       "https://www.rockwellautomation.com/products/sof...            116044\n",
       "https://www.rockwellautomation.com/sales                      124975\n",
       "https://www.rockwellautomation.com/products/har...            135873\n",
       "https://www.rockwellautomation.com                            139829\n",
       "https://www.rockwellautomation.com/support/prod...            155410\n",
       "https://www.rockwellautomation.com/support/docu...            155754\n",
       "https://www.rockwellautomation.com/products                   156632\n",
       "https://www.rockwellautomation.com/company/abou...            165237\n",
       "https://www.rockwellautomation.com/support/prod...            175463\n",
       "https://www.rockwellautomation.com/support                    232691\n",
       "https://www.rockwellautomation.com/products/har...            677975\n",
       "https://www.rockwellautomation.com/en-us                     1347109\n",
       "https://www.rockwellautomation.com/lang-selection            1404213\n",
       "https://www.rockwellautomation.com/search                    1738860"
      ]
     },
     "execution_count": 457,
     "metadata": {},
     "output_type": "execute_result"
    }
   ],
   "source": [
    "stopwords = view3[view3[\"page_visit_count\"]>100000].sort_values(\"page_visit_count\") # stopwords\n",
    "stopwords"
   ]
  },
  {
   "cell_type": "code",
   "execution_count": 332,
   "id": "e3c81625",
   "metadata": {
    "ExecuteTime": {
     "end_time": "2022-12-15T21:18:32.111215Z",
     "start_time": "2022-12-15T21:18:32.081843Z"
    }
   },
   "outputs": [
    {
     "data": {
      "text/plain": [
       "count   19590.00000\n",
       "mean      373.29632\n",
       "std      2393.07215\n",
       "min        11.00000\n",
       "25%        17.00000\n",
       "50%        33.00000\n",
       "75%       101.00000\n",
       "max     87730.00000\n",
       "Name: page_visit_count, dtype: float64"
      ]
     },
     "execution_count": 332,
     "metadata": {},
     "output_type": "execute_result"
    }
   ],
   "source": [
    "view4 = view3[(view3[\"page_visit_count\"]>10) & (view3[\"page_visit_count\"]<100000)]\n",
    "view4[\"page_visit_count\"].describe()"
   ]
  },
  {
   "cell_type": "code",
   "execution_count": 462,
   "id": "f6308045",
   "metadata": {
    "ExecuteTime": {
     "end_time": "2022-12-15T21:50:54.133032Z",
     "start_time": "2022-12-15T21:49:54.254680Z"
    }
   },
   "outputs": [
    {
     "name": "stdout",
     "output_type": "stream",
     "text": [
      "nan      11660898\n",
      "False     2894384\n",
      "True       195647\n",
      "Name: label, dtype: int64\n",
      "False    2894384\n",
      "True      195647\n",
      "Name: label, dtype: int64\n",
      "after drop high freq website: False    1556879\n",
      "True      106836\n",
      "Name: label, dtype: int64\n"
     ]
    }
   ],
   "source": [
    "stage1_raw = aem_raw.drop(columns=[\"label\"]).merge(updated_labels, on=\"mcvisid\", how=\"left\")\n",
    "print(stage1_raw[\"label\"].fillna(\"nan\").value_counts())\n",
    "# stage1_raw[\"label\"] = stage1_raw[\"label\"].fillna(False)\n",
    "stage1_raw.dropna(subset=[\"label\"], inplace=True)\n",
    "print(stage1_raw[\"label\"].fillna(\"nan\").value_counts())\n",
    "stage1_raw.to_csv(\"\")\n",
    "stage1_raw = stage1_raw[~stage1_raw[\"clean_PageURL\"].isin(stopwords.index)] ## drop stopwords\n",
    "print(\"after drop high freq website:\\n\", stage1_raw[\"label\"].fillna(\"nan\").value_counts())"
   ]
  },
  {
   "cell_type": "markdown",
   "id": "92ff5ed3",
   "metadata": {},
   "source": [
    "## Summary\n",
    "positive_mcvisid is all the valid mcvisid that has elqID in AEM Raw"
   ]
  },
  {
   "cell_type": "markdown",
   "id": "292223f1",
   "metadata": {},
   "source": [
    "### unique version"
   ]
  },
  {
   "cell_type": "code",
   "execution_count": 463,
   "id": "794f1de7",
   "metadata": {
    "ExecuteTime": {
     "end_time": "2022-12-15T21:50:54.414804Z",
     "start_time": "2022-12-15T21:50:54.136318Z"
    }
   },
   "outputs": [
    {
     "data": {
      "text/html": [
       "<div>\n",
       "<style scoped>\n",
       "    .dataframe tbody tr th:only-of-type {\n",
       "        vertical-align: middle;\n",
       "    }\n",
       "\n",
       "    .dataframe tbody tr th {\n",
       "        vertical-align: top;\n",
       "    }\n",
       "\n",
       "    .dataframe thead th {\n",
       "        text-align: right;\n",
       "    }\n",
       "</style>\n",
       "<table border=\"1\" class=\"dataframe\">\n",
       "  <thead>\n",
       "    <tr style=\"text-align: right;\">\n",
       "      <th></th>\n",
       "      <th>mcvisid</th>\n",
       "      <th>mcvisid</th>\n",
       "    </tr>\n",
       "  </thead>\n",
       "  <tbody>\n",
       "    <tr>\n",
       "      <th>False</th>\n",
       "      <td>124076</td>\n",
       "      <td>0.95128</td>\n",
       "    </tr>\n",
       "    <tr>\n",
       "      <th>True</th>\n",
       "      <td>6355</td>\n",
       "      <td>0.04872</td>\n",
       "    </tr>\n",
       "  </tbody>\n",
       "</table>\n",
       "</div>"
      ],
      "text/plain": [
       "       mcvisid  mcvisid\n",
       "False   124076  0.95128\n",
       "True      6355  0.04872"
      ]
     },
     "execution_count": 463,
     "metadata": {},
     "output_type": "execute_result"
    }
   ],
   "source": [
    "aem_raw_unique_mcvisid = stage1_raw[\"mcvisid\"].drop_duplicates()\n",
    "labels = aem_raw_unique_mcvisid.isin(positive_mcvisid)\n",
    "freq = labels.value_counts()\n",
    "view_mcvisid = pd.concat([freq,freq/freq.sum()], axis=1)\n",
    "view_mcvisid"
   ]
  },
  {
   "cell_type": "markdown",
   "id": "8b2cccfb",
   "metadata": {},
   "source": [
    "### non-unique version"
   ]
  },
  {
   "cell_type": "code",
   "execution_count": 464,
   "id": "988c53f3",
   "metadata": {
    "ExecuteTime": {
     "end_time": "2022-12-15T21:50:54.539791Z",
     "start_time": "2022-12-15T21:50:54.416142Z"
    }
   },
   "outputs": [
    {
     "data": {
      "text/html": [
       "<div>\n",
       "<style scoped>\n",
       "    .dataframe tbody tr th:only-of-type {\n",
       "        vertical-align: middle;\n",
       "    }\n",
       "\n",
       "    .dataframe tbody tr th {\n",
       "        vertical-align: top;\n",
       "    }\n",
       "\n",
       "    .dataframe thead th {\n",
       "        text-align: right;\n",
       "    }\n",
       "</style>\n",
       "<table border=\"1\" class=\"dataframe\">\n",
       "  <thead>\n",
       "    <tr style=\"text-align: right;\">\n",
       "      <th></th>\n",
       "      <th>mcvisid</th>\n",
       "      <th>mcvisid</th>\n",
       "    </tr>\n",
       "  </thead>\n",
       "  <tbody>\n",
       "    <tr>\n",
       "      <th>False</th>\n",
       "      <td>1547786</td>\n",
       "      <td>0.93032</td>\n",
       "    </tr>\n",
       "    <tr>\n",
       "      <th>True</th>\n",
       "      <td>115929</td>\n",
       "      <td>0.06968</td>\n",
       "    </tr>\n",
       "  </tbody>\n",
       "</table>\n",
       "</div>"
      ],
      "text/plain": [
       "       mcvisid  mcvisid\n",
       "False  1547786  0.93032\n",
       "True    115929  0.06968"
      ]
     },
     "execution_count": 464,
     "metadata": {},
     "output_type": "execute_result"
    }
   ],
   "source": [
    "labels = stage1_raw[\"mcvisid\"].isin(positive_mcvisid)\n",
    "freq = labels.value_counts()\n",
    "view_mcvisid = pd.concat([freq,freq/freq.sum()], axis=1)\n",
    "view_mcvisid"
   ]
  },
  {
   "cell_type": "markdown",
   "id": "56431bd8",
   "metadata": {},
   "source": [
    "### page conversion ratio"
   ]
  },
  {
   "cell_type": "code",
   "execution_count": 465,
   "id": "5b813902",
   "metadata": {
    "ExecuteTime": {
     "end_time": "2022-12-15T21:50:55.421801Z",
     "start_time": "2022-12-15T21:50:54.542433Z"
    }
   },
   "outputs": [],
   "source": [
    "total = stage1_raw.groupby(\"clean_PageURL\").size().rename(\"total\")\n",
    "pos = stage1_raw.groupby(\"clean_PageURL\")[\"label\"].sum().rename(\"positive\")\n",
    "aa = pd.concat([total, pos], axis=1)\n",
    "aa[\"ratio\"] = aa[\"positive\"]/aa[\"total\"]\n",
    "aa[\"negative\"] = aa[\"total\"] - aa[\"positive\"]"
   ]
  },
  {
   "cell_type": "code",
   "execution_count": 466,
   "id": "f2281bb9",
   "metadata": {
    "ExecuteTime": {
     "end_time": "2022-12-15T21:50:55.463566Z",
     "start_time": "2022-12-15T21:50:55.424347Z"
    }
   },
   "outputs": [
    {
     "data": {
      "text/html": [
       "<div>\n",
       "<style scoped>\n",
       "    .dataframe tbody tr th:only-of-type {\n",
       "        vertical-align: middle;\n",
       "    }\n",
       "\n",
       "    .dataframe tbody tr th {\n",
       "        vertical-align: top;\n",
       "    }\n",
       "\n",
       "    .dataframe thead th {\n",
       "        text-align: right;\n",
       "    }\n",
       "</style>\n",
       "<table border=\"1\" class=\"dataframe\">\n",
       "  <thead>\n",
       "    <tr style=\"text-align: right;\">\n",
       "      <th></th>\n",
       "      <th>total</th>\n",
       "      <th>positive</th>\n",
       "      <th>ratio</th>\n",
       "      <th>negative</th>\n",
       "    </tr>\n",
       "    <tr>\n",
       "      <th>clean_PageURL</th>\n",
       "      <th></th>\n",
       "      <th></th>\n",
       "      <th></th>\n",
       "      <th></th>\n",
       "    </tr>\n",
       "  </thead>\n",
       "  <tbody>\n",
       "    <tr>\n",
       "      <th>https://www.rockwellautomation.com/products/hardware/allen-bradley/network-security-and-infrastructure/controlnet-networks</th>\n",
       "      <td>439</td>\n",
       "      <td>22</td>\n",
       "      <td>0.05011</td>\n",
       "      <td>417</td>\n",
       "    </tr>\n",
       "    <tr>\n",
       "      <th>https://www.rockwellautomation.com/products/details.5069-IB16</th>\n",
       "      <td>419</td>\n",
       "      <td>21</td>\n",
       "      <td>0.05012</td>\n",
       "      <td>398</td>\n",
       "    </tr>\n",
       "    <tr>\n",
       "      <th>https://www.rockwellautomation.com/products/details.1783-LMS8</th>\n",
       "      <td>558</td>\n",
       "      <td>28</td>\n",
       "      <td>0.05018</td>\n",
       "      <td>530</td>\n",
       "    </tr>\n",
       "    <tr>\n",
       "      <th>https://www.rockwellautomation.com/products/hardware/allen-bradley/energy-monitoring/1426-powermonitor-5000</th>\n",
       "      <td>1076</td>\n",
       "      <td>54</td>\n",
       "      <td>0.05019</td>\n",
       "      <td>1022</td>\n",
       "    </tr>\n",
       "    <tr>\n",
       "      <th>https://www.rockwellautomation.com/products/software/factorytalk/designsuite</th>\n",
       "      <td>2409</td>\n",
       "      <td>121</td>\n",
       "      <td>0.05023</td>\n",
       "      <td>2288</td>\n",
       "    </tr>\n",
       "    <tr>\n",
       "      <th>...</th>\n",
       "      <td>...</td>\n",
       "      <td>...</td>\n",
       "      <td>...</td>\n",
       "      <td>...</td>\n",
       "    </tr>\n",
       "    <tr>\n",
       "      <th>https://www.rockwellautomation.com/en-za</th>\n",
       "      <td>441</td>\n",
       "      <td>116</td>\n",
       "      <td>0.26304</td>\n",
       "      <td>325</td>\n",
       "    </tr>\n",
       "    <tr>\n",
       "      <th>https://www.rockwellautomation.com/fr-be</th>\n",
       "      <td>328</td>\n",
       "      <td>96</td>\n",
       "      <td>0.29268</td>\n",
       "      <td>232</td>\n",
       "    </tr>\n",
       "    <tr>\n",
       "      <th>https://www.rockwellautomation.com/products/software/rockwell-software</th>\n",
       "      <td>787</td>\n",
       "      <td>242</td>\n",
       "      <td>0.30750</td>\n",
       "      <td>545</td>\n",
       "    </tr>\n",
       "    <tr>\n",
       "      <th>https://www.rockwellautomation.com/nl-be</th>\n",
       "      <td>271</td>\n",
       "      <td>86</td>\n",
       "      <td>0.31734</td>\n",
       "      <td>185</td>\n",
       "    </tr>\n",
       "    <tr>\n",
       "      <th>https://www.rockwellautomation.com/en-nz</th>\n",
       "      <td>460</td>\n",
       "      <td>236</td>\n",
       "      <td>0.51304</td>\n",
       "      <td>224</td>\n",
       "    </tr>\n",
       "  </tbody>\n",
       "</table>\n",
       "<p>1113 rows × 4 columns</p>\n",
       "</div>"
      ],
      "text/plain": [
       "                                                    total positive   ratio  \\\n",
       "clean_PageURL                                                                \n",
       "https://www.rockwellautomation.com/products/har...    439       22 0.05011   \n",
       "https://www.rockwellautomation.com/products/det...    419       21 0.05012   \n",
       "https://www.rockwellautomation.com/products/det...    558       28 0.05018   \n",
       "https://www.rockwellautomation.com/products/har...   1076       54 0.05019   \n",
       "https://www.rockwellautomation.com/products/sof...   2409      121 0.05023   \n",
       "...                                                   ...      ...     ...   \n",
       "https://www.rockwellautomation.com/en-za              441      116 0.26304   \n",
       "https://www.rockwellautomation.com/fr-be              328       96 0.29268   \n",
       "https://www.rockwellautomation.com/products/sof...    787      242 0.30750   \n",
       "https://www.rockwellautomation.com/nl-be              271       86 0.31734   \n",
       "https://www.rockwellautomation.com/en-nz              460      236 0.51304   \n",
       "\n",
       "                                                   negative  \n",
       "clean_PageURL                                                \n",
       "https://www.rockwellautomation.com/products/har...      417  \n",
       "https://www.rockwellautomation.com/products/det...      398  \n",
       "https://www.rockwellautomation.com/products/det...      530  \n",
       "https://www.rockwellautomation.com/products/har...     1022  \n",
       "https://www.rockwellautomation.com/products/sof...     2288  \n",
       "...                                                     ...  \n",
       "https://www.rockwellautomation.com/en-za                325  \n",
       "https://www.rockwellautomation.com/fr-be                232  \n",
       "https://www.rockwellautomation.com/products/sof...      545  \n",
       "https://www.rockwellautomation.com/nl-be                185  \n",
       "https://www.rockwellautomation.com/en-nz                224  \n",
       "\n",
       "[1113 rows x 4 columns]"
      ]
     },
     "execution_count": 466,
     "metadata": {},
     "output_type": "execute_result"
    }
   ],
   "source": [
    "aa[(aa[\"total\"]>100) & (aa[\"ratio\"]>0.05)].sort_values(\"ratio\")"
   ]
  },
  {
   "cell_type": "code",
   "execution_count": 467,
   "id": "ab2a52e4",
   "metadata": {
    "ExecuteTime": {
     "end_time": "2022-12-15T21:50:55.511577Z",
     "start_time": "2022-12-15T21:50:55.465739Z"
    }
   },
   "outputs": [
    {
     "data": {
      "text/html": [
       "<div>\n",
       "<style scoped>\n",
       "    .dataframe tbody tr th:only-of-type {\n",
       "        vertical-align: middle;\n",
       "    }\n",
       "\n",
       "    .dataframe tbody tr th {\n",
       "        vertical-align: top;\n",
       "    }\n",
       "\n",
       "    .dataframe thead th {\n",
       "        text-align: right;\n",
       "    }\n",
       "</style>\n",
       "<table border=\"1\" class=\"dataframe\">\n",
       "  <thead>\n",
       "    <tr style=\"text-align: right;\">\n",
       "      <th></th>\n",
       "      <th>clean_PageURL</th>\n",
       "      <th>PageURL</th>\n",
       "    </tr>\n",
       "  </thead>\n",
       "  <tbody>\n",
       "    <tr>\n",
       "      <th>382447</th>\n",
       "      <td>https://www.rockwellautomation.com/en-nz</td>\n",
       "      <td>https://www.rockwellautomation.com/en-nz.html</td>\n",
       "    </tr>\n",
       "  </tbody>\n",
       "</table>\n",
       "</div>"
      ],
      "text/plain": [
       "                                   clean_PageURL  \\\n",
       "382447  https://www.rockwellautomation.com/en-nz   \n",
       "\n",
       "                                              PageURL  \n",
       "382447  https://www.rockwellautomation.com/en-nz.html  "
      ]
     },
     "execution_count": 467,
     "metadata": {},
     "output_type": "execute_result"
    }
   ],
   "source": [
    "url_maps[url_maps[\"clean_PageURL\"] == \"https://www.rockwellautomation.com/en-nz\"]"
   ]
  },
  {
   "cell_type": "code",
   "execution_count": null,
   "id": "7ed38729",
   "metadata": {},
   "outputs": [],
   "source": []
  },
  {
   "cell_type": "code",
   "execution_count": null,
   "id": "be68ad2a",
   "metadata": {},
   "outputs": [],
   "source": []
  },
  {
   "cell_type": "markdown",
   "id": "da4c0580",
   "metadata": {},
   "source": [
    "#### regex checking with missing url"
   ]
  },
  {
   "cell_type": "code",
   "execution_count": 468,
   "id": "17c123ed",
   "metadata": {
    "ExecuteTime": {
     "end_time": "2022-12-15T21:50:55.519095Z",
     "start_time": "2022-12-15T21:50:55.513961Z"
    }
   },
   "outputs": [],
   "source": [
    "result_list = \"\"\"|/company/news/presentations/event_materials_page.html                                                                       |   125 |    125 |    0 | 1.0000 |\n",
    "|/company/news/magazines/beat-the-heat-when-mounting-low-voltage-ac-drives.html                                              |   106 |    100 |    0 | 0.9434 |\n",
    "|/company/events/in-person-events/partnernetwork-conf-kr.html                                                                |   155 |    129 |    0 | 0.8323 |\n",
    "|/company/events/webinars/functional-safety-techconnect.html                                                                 |   103 |     80 |    0 | 0.7767 |\n",
    "|/company/events/in-person-events/archive.html                                                                               |   146 |    113 |    0 | 0.7740 |\n",
    "|/company/events/webinars/webinaire-process-dcs-plantpax.html                                                                |   148 |    113 |    0 | 0.7635 |\n",
    "|/company/events/webinars/modernising-to-smart-connected-systems.html                                                        |   163 |    124 |    0 | 0.7607 |\n",
    "|/campaigns/thank-you-smart-downloads.html                                                                                   |   129 |     98 |    0 | 0.7597 |\n",
    "|/company/events/webinars/product-registration.html                                                                          |   218 |    163 |    0 | 0.7477 |\n",
    "|/campaigns/emea/en/company/events/webinars/tech-talks/hms-claroty-stratus.html                                              |   202 |    151 |    0 | 0.7475 |\n",
    "|/company/events/webinars/techconnect-genius-webinar--subscription-portal-overview-session2.html                             |  1447 |   1057 |    0 | 0.7305 |\n",
    "|/company/events/webinars/404.html                                                                                           |   151 |    109 |    0 | 0.7219 |\n",
    "|/campaigns/emea/en/company/events/webinars/technical-competency-updates/unleash-the-new-capabilities-of-edge-analytics.html |   372 |    266 |    0 | 0.7151 |\n",
    "|/en-mde/products/hardware/allen-bradley/drives.html                                                                         |   101 |     72 |    0 | 0.7129 |\n",
    "|/support/product/product-selection-configuration/global-short-circuit-current-ratings-tool.html                             |  7015 |   4995 |    0 | 0.7120 |\n",
    "|/company/events/in-person-events/partnernetwork-conference.html                                                             |   245 |    174 |    0 | 0.7102 |\n",
    "|/industries/chemical/vfd-energy-savings-calculator.html                                                                     |   215 |    152 |    0 | 0.7070 |\n",
    "|/company/news/column/executive_news_japan.html                                                                              |   112 |     79 |    0 | 0.7054 |\n",
    "|/en-mde/support/product/product-compatibility-migration/product-lifecycle-status.html                                       |   280 |    196 |    0 | 0.7000 |\n",
    "|/campaigns/emea/en/company/events/webinars/tech-talks/cisco-prosoft-spectrum-controls.html                                  |   120 |     84 |    0 | 0.7000 |\n",
    "|/company/events/webinars/micro-control-integrated-automation-solution.html                                                  |   280 |    194 |    0 | 0.6929 |\n",
    "|/company/events/webinars/protect-your-gigafactory-with-industrial-security.html                                             |   169 |    116 |    0 | 0.6864 |\n",
    "|/support/documentation/technical-data/proposalworkssuppleme20180213-1403.html                                               |   114 |     78 |    0 | 0.6842 |\n",
    "|/company/events/webinars/technology-partner-genius-webinar-with-prosoft-technology---conn.html                              |   114 |     78 |    0 | 0.6842 |\n",
    "|/support/documentation/technical-data/proposalworksaddinghe20180213-1349.html                                               |   104 |     71 |    0 | 0.6827 |\n",
    "|/company/events/in-person-events/roklive/emea/faq.html                                                                      |   321 |    219 |    0 | 0.6822 |\n",
    "|/company/events/webinars/technology-partner-genius-webinar-with-oden-technologies.html                                      |   796 |    542 |    0 | 0.6809 |\n",
    "|/company/news/blogs/single-use-system-lifesciences-pt2.html                                                                 |   102 |     69 |    0 | 0.6765 |\n",
    "|/company/news/demonstrations/safety-automation-builder-software-demonstration.html                                          |   307 |    207 |    0 | 0.6743 |\n",
    "|/company/news/blogs/from-automation-to-autonomy.html                                                                        |   153 |    103 |    0 | 0.6732 |\"\"\""
   ]
  },
  {
   "cell_type": "code",
   "execution_count": 469,
   "id": "18e2d356",
   "metadata": {
    "ExecuteTime": {
     "end_time": "2022-12-15T21:50:57.726561Z",
     "start_time": "2022-12-15T21:50:55.521201Z"
    }
   },
   "outputs": [],
   "source": [
    "xx = \"detail\"\n",
    "result_check = pd.DataFrame([[item.strip() for item in row.split(\"|\") if len(item)>1 ]for row in result_list.split(\"\\n\") ], columns=[\"clean_PageURL\", \"total\", \"eloqua\",\"crm\", \"ratio\"])\n",
    "# stage1_raw[stage1_raw[\"PageURL\"].str.contains(xx)][[\"clean_PageURL\", \"PageURL\"]].drop_duplicates().head(50).style\n",
    "clean_urls = stage1_raw[\"clean_PageURL\"].drop_duplicates()\n",
    "all_urls = stage1_raw[\"PageURL\"].drop_duplicates()\n",
    "for row in result_check[\"clean_PageURL\"].tolist():\n",
    "    a = clean_urls.str.contains(xx).any()\n",
    "    b = all_urls.str.contains(xx).any()\n",
    "    if a is False or b is False:\n",
    "        print(row)\n",
    "        \n",
    "result_check[\"clean_PageURL\"] = result_check[\"clean_PageURL\"].apply(lambda x: \"https://www.rockwellautomation.com\" + x[:-5])\n",
    "# result_check.style"
   ]
  },
  {
   "cell_type": "code",
   "execution_count": 471,
   "id": "78c86691",
   "metadata": {
    "ExecuteTime": {
     "end_time": "2022-12-15T21:51:03.022771Z",
     "start_time": "2022-12-15T21:51:02.979080Z"
    },
    "scrolled": true
   },
   "outputs": [
    {
     "data": {
      "text/html": [
       "<div>\n",
       "<style scoped>\n",
       "    .dataframe tbody tr th:only-of-type {\n",
       "        vertical-align: middle;\n",
       "    }\n",
       "\n",
       "    .dataframe tbody tr th {\n",
       "        vertical-align: top;\n",
       "    }\n",
       "\n",
       "    .dataframe thead th {\n",
       "        text-align: right;\n",
       "    }\n",
       "</style>\n",
       "<table border=\"1\" class=\"dataframe\">\n",
       "  <thead>\n",
       "    <tr style=\"text-align: right;\">\n",
       "      <th></th>\n",
       "      <th>total</th>\n",
       "    </tr>\n",
       "  </thead>\n",
       "  <tbody>\n",
       "    <tr>\n",
       "      <th>count</th>\n",
       "      <td>40078.00000</td>\n",
       "    </tr>\n",
       "    <tr>\n",
       "      <th>mean</th>\n",
       "      <td>41.51193</td>\n",
       "    </tr>\n",
       "    <tr>\n",
       "      <th>std</th>\n",
       "      <td>422.32009</td>\n",
       "    </tr>\n",
       "    <tr>\n",
       "      <th>min</th>\n",
       "      <td>1.00000</td>\n",
       "    </tr>\n",
       "    <tr>\n",
       "      <th>25%</th>\n",
       "      <td>1.00000</td>\n",
       "    </tr>\n",
       "    <tr>\n",
       "      <th>50%</th>\n",
       "      <td>2.00000</td>\n",
       "    </tr>\n",
       "    <tr>\n",
       "      <th>75%</th>\n",
       "      <td>6.00000</td>\n",
       "    </tr>\n",
       "    <tr>\n",
       "      <th>max</th>\n",
       "      <td>22026.00000</td>\n",
       "    </tr>\n",
       "  </tbody>\n",
       "</table>\n",
       "</div>"
      ],
      "text/plain": [
       "            total\n",
       "count 40078.00000\n",
       "mean     41.51193\n",
       "std     422.32009\n",
       "min       1.00000\n",
       "25%       1.00000\n",
       "50%       2.00000\n",
       "75%       6.00000\n",
       "max   22026.00000"
      ]
     },
     "execution_count": 471,
     "metadata": {},
     "output_type": "execute_result"
    }
   ],
   "source": [
    "result_wei = aa.reset_index().sort_values(by=\"ratio\")\n",
    "result_wei.describe()\n",
    "# result_wei[(result_wei[\"total\"]>50) & (result_wei[\"ratio\"]>0.05)].tail(50)"
   ]
  },
  {
   "cell_type": "code",
   "execution_count": 472,
   "id": "29bd4dc0",
   "metadata": {
    "ExecuteTime": {
     "end_time": "2022-12-15T21:51:03.051486Z",
     "start_time": "2022-12-15T21:51:03.023912Z"
    }
   },
   "outputs": [
    {
     "data": {
      "text/html": [
       "<div>\n",
       "<style scoped>\n",
       "    .dataframe tbody tr th:only-of-type {\n",
       "        vertical-align: middle;\n",
       "    }\n",
       "\n",
       "    .dataframe tbody tr th {\n",
       "        vertical-align: top;\n",
       "    }\n",
       "\n",
       "    .dataframe thead th {\n",
       "        text-align: right;\n",
       "    }\n",
       "</style>\n",
       "<table border=\"1\" class=\"dataframe\">\n",
       "  <thead>\n",
       "    <tr style=\"text-align: right;\">\n",
       "      <th></th>\n",
       "      <th>total</th>\n",
       "    </tr>\n",
       "  </thead>\n",
       "  <tbody>\n",
       "    <tr>\n",
       "      <th>count</th>\n",
       "      <td>1581.00000</td>\n",
       "    </tr>\n",
       "    <tr>\n",
       "      <th>mean</th>\n",
       "      <td>577.63947</td>\n",
       "    </tr>\n",
       "    <tr>\n",
       "      <th>std</th>\n",
       "      <td>1143.19415</td>\n",
       "    </tr>\n",
       "    <tr>\n",
       "      <th>min</th>\n",
       "      <td>51.00000</td>\n",
       "    </tr>\n",
       "    <tr>\n",
       "      <th>25%</th>\n",
       "      <td>86.00000</td>\n",
       "    </tr>\n",
       "    <tr>\n",
       "      <th>50%</th>\n",
       "      <td>189.00000</td>\n",
       "    </tr>\n",
       "    <tr>\n",
       "      <th>75%</th>\n",
       "      <td>507.00000</td>\n",
       "    </tr>\n",
       "    <tr>\n",
       "      <th>max</th>\n",
       "      <td>9706.00000</td>\n",
       "    </tr>\n",
       "  </tbody>\n",
       "</table>\n",
       "</div>"
      ],
      "text/plain": [
       "           total\n",
       "count 1581.00000\n",
       "mean   577.63947\n",
       "std   1143.19415\n",
       "min     51.00000\n",
       "25%     86.00000\n",
       "50%    189.00000\n",
       "75%    507.00000\n",
       "max   9706.00000"
      ]
     },
     "execution_count": 472,
     "metadata": {},
     "output_type": "execute_result"
    }
   ],
   "source": [
    "plot_data = result_wei.query(\"10000>`total`>50 and `ratio`>0.05\")\n",
    "plot_data.describe()"
   ]
  },
  {
   "cell_type": "code",
   "execution_count": 473,
   "id": "8201abd5",
   "metadata": {
    "ExecuteTime": {
     "end_time": "2022-12-15T21:51:03.242397Z",
     "start_time": "2022-12-15T21:51:03.052530Z"
    }
   },
   "outputs": [
    {
     "data": {
      "image/png": "[encoded data removed]",
      "text/plain": [
       "<Figure size 432x288 with 1 Axes>"
      ]
     },
     "metadata": {
      "needs_background": "light"
     },
     "output_type": "display_data"
    }
   ],
   "source": [
    "from sklearn.linear_model import LinearRegression\n",
    "# [(result_wei[\"freq\"]>50)  & (result_wei[\"ratio\"]>0.05)]\n",
    "x = plot_data[\"positive\"].values.reshape(-1,1)\n",
    "y = plot_data[\"negative\"].values.reshape(-1,1)\n",
    "linear_regressor = LinearRegression()\n",
    "linear_regressor.fit(x, y)\n",
    "y_pred = linear_regressor.predict(x)\n",
    "\n",
    "plt.scatter(x, y)\n",
    "plt.xlabel(\"positive\")\n",
    "plt.ylabel(\"negative\")\n",
    "plt.plot(x, y_pred, color='red', label=f'positive-negative y={round(linear_regressor.coef_[0][0],4)}x')\n",
    "# plt.plot([0,10000],[0,10000], color='blue', label=\"y=x\")\n",
    "plt.legend()\n",
    "plt.show()"
   ]
  },
  {
   "cell_type": "code",
   "execution_count": 474,
   "id": "ecfbf02b",
   "metadata": {
    "ExecuteTime": {
     "end_time": "2022-12-15T21:51:03.373909Z",
     "start_time": "2022-12-15T21:51:03.243834Z"
    }
   },
   "outputs": [],
   "source": [
    "result_wei.to_csv(f\"result_wei_{VERSION}.csv\")"
   ]
  },
  {
   "cell_type": "code",
   "execution_count": 475,
   "id": "18bf2aca",
   "metadata": {
    "ExecuteTime": {
     "end_time": "2022-12-15T21:51:03.377470Z",
     "start_time": "2022-12-15T21:51:03.375163Z"
    }
   },
   "outputs": [],
   "source": [
    "# cc = result_wei[result_wei[\"clean_PageURL\"].str.contains(\".pdf\")]\n",
    "# cc[cc[\"total\"]>2].sort_values([\"ratio\"], ascending=False).style"
   ]
  },
  {
   "cell_type": "code",
   "execution_count": 476,
   "id": "aa50bcef",
   "metadata": {
    "ExecuteTime": {
     "end_time": "2022-12-15T21:51:03.431837Z",
     "start_time": "2022-12-15T21:51:03.378732Z"
    }
   },
   "outputs": [
    {
     "data": {
      "text/html": [
       "<style type=\"text/css\">\n",
       "</style>\n",
       "<table id=\"T_89cb3_\">\n",
       "  <thead>\n",
       "    <tr>\n",
       "      <th class=\"blank level0\" >&nbsp;</th>\n",
       "      <th class=\"col_heading level0 col0\" >clean_PageURL</th>\n",
       "      <th class=\"col_heading level0 col1\" >total_wei</th>\n",
       "      <th class=\"col_heading level0 col2\" >positive</th>\n",
       "      <th class=\"col_heading level0 col3\" >ratio_wei</th>\n",
       "      <th class=\"col_heading level0 col4\" >negative</th>\n",
       "      <th class=\"col_heading level0 col5\" >total_inkoo</th>\n",
       "      <th class=\"col_heading level0 col6\" >eloqua</th>\n",
       "      <th class=\"col_heading level0 col7\" >crm</th>\n",
       "      <th class=\"col_heading level0 col8\" >ratio_inkoo</th>\n",
       "    </tr>\n",
       "  </thead>\n",
       "  <tbody>\n",
       "    <tr>\n",
       "      <th id=\"T_89cb3_level0_row0\" class=\"row_heading level0 row0\" >0</th>\n",
       "      <td id=\"T_89cb3_row0_col0\" class=\"data row0 col0\" >https://www.rockwellautomation.com/company/news/presentations/event_materials_page</td>\n",
       "      <td id=\"T_89cb3_row0_col1\" class=\"data row0 col1\" >nan</td>\n",
       "      <td id=\"T_89cb3_row0_col2\" class=\"data row0 col2\" >nan</td>\n",
       "      <td id=\"T_89cb3_row0_col3\" class=\"data row0 col3\" >nan</td>\n",
       "      <td id=\"T_89cb3_row0_col4\" class=\"data row0 col4\" >nan</td>\n",
       "      <td id=\"T_89cb3_row0_col5\" class=\"data row0 col5\" >125</td>\n",
       "      <td id=\"T_89cb3_row0_col6\" class=\"data row0 col6\" >125</td>\n",
       "      <td id=\"T_89cb3_row0_col7\" class=\"data row0 col7\" >0</td>\n",
       "      <td id=\"T_89cb3_row0_col8\" class=\"data row0 col8\" >1.0000</td>\n",
       "    </tr>\n",
       "    <tr>\n",
       "      <th id=\"T_89cb3_level0_row1\" class=\"row_heading level0 row1\" >1</th>\n",
       "      <td id=\"T_89cb3_row1_col0\" class=\"data row1 col0\" >https://www.rockwellautomation.com/company/news/magazines/beat-the-heat-when-mounting-low-voltage-ac-drives</td>\n",
       "      <td id=\"T_89cb3_row1_col1\" class=\"data row1 col1\" >2.000000</td>\n",
       "      <td id=\"T_89cb3_row1_col2\" class=\"data row1 col2\" >0</td>\n",
       "      <td id=\"T_89cb3_row1_col3\" class=\"data row1 col3\" >0.000000</td>\n",
       "      <td id=\"T_89cb3_row1_col4\" class=\"data row1 col4\" >2</td>\n",
       "      <td id=\"T_89cb3_row1_col5\" class=\"data row1 col5\" >106</td>\n",
       "      <td id=\"T_89cb3_row1_col6\" class=\"data row1 col6\" >100</td>\n",
       "      <td id=\"T_89cb3_row1_col7\" class=\"data row1 col7\" >0</td>\n",
       "      <td id=\"T_89cb3_row1_col8\" class=\"data row1 col8\" >0.9434</td>\n",
       "    </tr>\n",
       "    <tr>\n",
       "      <th id=\"T_89cb3_level0_row2\" class=\"row_heading level0 row2\" >2</th>\n",
       "      <td id=\"T_89cb3_row2_col0\" class=\"data row2 col0\" >https://www.rockwellautomation.com/company/events/in-person-events/partnernetwork-conf-kr</td>\n",
       "      <td id=\"T_89cb3_row2_col1\" class=\"data row2 col1\" >72.000000</td>\n",
       "      <td id=\"T_89cb3_row2_col2\" class=\"data row2 col2\" >13</td>\n",
       "      <td id=\"T_89cb3_row2_col3\" class=\"data row2 col3\" >0.180556</td>\n",
       "      <td id=\"T_89cb3_row2_col4\" class=\"data row2 col4\" >59</td>\n",
       "      <td id=\"T_89cb3_row2_col5\" class=\"data row2 col5\" >155</td>\n",
       "      <td id=\"T_89cb3_row2_col6\" class=\"data row2 col6\" >129</td>\n",
       "      <td id=\"T_89cb3_row2_col7\" class=\"data row2 col7\" >0</td>\n",
       "      <td id=\"T_89cb3_row2_col8\" class=\"data row2 col8\" >0.8323</td>\n",
       "    </tr>\n",
       "    <tr>\n",
       "      <th id=\"T_89cb3_level0_row3\" class=\"row_heading level0 row3\" >3</th>\n",
       "      <td id=\"T_89cb3_row3_col0\" class=\"data row3 col0\" >https://www.rockwellautomation.com/company/events/webinars/functional-safety-techconnect</td>\n",
       "      <td id=\"T_89cb3_row3_col1\" class=\"data row3 col1\" >64.000000</td>\n",
       "      <td id=\"T_89cb3_row3_col2\" class=\"data row3 col2\" >7</td>\n",
       "      <td id=\"T_89cb3_row3_col3\" class=\"data row3 col3\" >0.109375</td>\n",
       "      <td id=\"T_89cb3_row3_col4\" class=\"data row3 col4\" >57</td>\n",
       "      <td id=\"T_89cb3_row3_col5\" class=\"data row3 col5\" >103</td>\n",
       "      <td id=\"T_89cb3_row3_col6\" class=\"data row3 col6\" >80</td>\n",
       "      <td id=\"T_89cb3_row3_col7\" class=\"data row3 col7\" >0</td>\n",
       "      <td id=\"T_89cb3_row3_col8\" class=\"data row3 col8\" >0.7767</td>\n",
       "    </tr>\n",
       "    <tr>\n",
       "      <th id=\"T_89cb3_level0_row4\" class=\"row_heading level0 row4\" >4</th>\n",
       "      <td id=\"T_89cb3_row4_col0\" class=\"data row4 col0\" >https://www.rockwellautomation.com/company/events/in-person-events/archive</td>\n",
       "      <td id=\"T_89cb3_row4_col1\" class=\"data row4 col1\" >14.000000</td>\n",
       "      <td id=\"T_89cb3_row4_col2\" class=\"data row4 col2\" >0</td>\n",
       "      <td id=\"T_89cb3_row4_col3\" class=\"data row4 col3\" >0.000000</td>\n",
       "      <td id=\"T_89cb3_row4_col4\" class=\"data row4 col4\" >14</td>\n",
       "      <td id=\"T_89cb3_row4_col5\" class=\"data row4 col5\" >146</td>\n",
       "      <td id=\"T_89cb3_row4_col6\" class=\"data row4 col6\" >113</td>\n",
       "      <td id=\"T_89cb3_row4_col7\" class=\"data row4 col7\" >0</td>\n",
       "      <td id=\"T_89cb3_row4_col8\" class=\"data row4 col8\" >0.7740</td>\n",
       "    </tr>\n",
       "    <tr>\n",
       "      <th id=\"T_89cb3_level0_row5\" class=\"row_heading level0 row5\" >5</th>\n",
       "      <td id=\"T_89cb3_row5_col0\" class=\"data row5 col0\" >https://www.rockwellautomation.com/company/events/webinars/webinaire-process-dcs-plantpax</td>\n",
       "      <td id=\"T_89cb3_row5_col1\" class=\"data row5 col1\" >17.000000</td>\n",
       "      <td id=\"T_89cb3_row5_col2\" class=\"data row5 col2\" >3</td>\n",
       "      <td id=\"T_89cb3_row5_col3\" class=\"data row5 col3\" >0.176471</td>\n",
       "      <td id=\"T_89cb3_row5_col4\" class=\"data row5 col4\" >14</td>\n",
       "      <td id=\"T_89cb3_row5_col5\" class=\"data row5 col5\" >148</td>\n",
       "      <td id=\"T_89cb3_row5_col6\" class=\"data row5 col6\" >113</td>\n",
       "      <td id=\"T_89cb3_row5_col7\" class=\"data row5 col7\" >0</td>\n",
       "      <td id=\"T_89cb3_row5_col8\" class=\"data row5 col8\" >0.7635</td>\n",
       "    </tr>\n",
       "    <tr>\n",
       "      <th id=\"T_89cb3_level0_row6\" class=\"row_heading level0 row6\" >6</th>\n",
       "      <td id=\"T_89cb3_row6_col0\" class=\"data row6 col0\" >https://www.rockwellautomation.com/company/events/webinars/modernising-to-smart-connected-systems</td>\n",
       "      <td id=\"T_89cb3_row6_col1\" class=\"data row6 col1\" >13.000000</td>\n",
       "      <td id=\"T_89cb3_row6_col2\" class=\"data row6 col2\" >3</td>\n",
       "      <td id=\"T_89cb3_row6_col3\" class=\"data row6 col3\" >0.230769</td>\n",
       "      <td id=\"T_89cb3_row6_col4\" class=\"data row6 col4\" >10</td>\n",
       "      <td id=\"T_89cb3_row6_col5\" class=\"data row6 col5\" >163</td>\n",
       "      <td id=\"T_89cb3_row6_col6\" class=\"data row6 col6\" >124</td>\n",
       "      <td id=\"T_89cb3_row6_col7\" class=\"data row6 col7\" >0</td>\n",
       "      <td id=\"T_89cb3_row6_col8\" class=\"data row6 col8\" >0.7607</td>\n",
       "    </tr>\n",
       "    <tr>\n",
       "      <th id=\"T_89cb3_level0_row7\" class=\"row_heading level0 row7\" >7</th>\n",
       "      <td id=\"T_89cb3_row7_col0\" class=\"data row7 col0\" >https://www.rockwellautomation.com/campaigns/thank-you-smart-downloads</td>\n",
       "      <td id=\"T_89cb3_row7_col1\" class=\"data row7 col1\" >6.000000</td>\n",
       "      <td id=\"T_89cb3_row7_col2\" class=\"data row7 col2\" >1</td>\n",
       "      <td id=\"T_89cb3_row7_col3\" class=\"data row7 col3\" >0.166667</td>\n",
       "      <td id=\"T_89cb3_row7_col4\" class=\"data row7 col4\" >5</td>\n",
       "      <td id=\"T_89cb3_row7_col5\" class=\"data row7 col5\" >129</td>\n",
       "      <td id=\"T_89cb3_row7_col6\" class=\"data row7 col6\" >98</td>\n",
       "      <td id=\"T_89cb3_row7_col7\" class=\"data row7 col7\" >0</td>\n",
       "      <td id=\"T_89cb3_row7_col8\" class=\"data row7 col8\" >0.7597</td>\n",
       "    </tr>\n",
       "    <tr>\n",
       "      <th id=\"T_89cb3_level0_row8\" class=\"row_heading level0 row8\" >8</th>\n",
       "      <td id=\"T_89cb3_row8_col0\" class=\"data row8 col0\" >https://www.rockwellautomation.com/company/events/webinars/product-registration</td>\n",
       "      <td id=\"T_89cb3_row8_col1\" class=\"data row8 col1\" >86.000000</td>\n",
       "      <td id=\"T_89cb3_row8_col2\" class=\"data row8 col2\" >2</td>\n",
       "      <td id=\"T_89cb3_row8_col3\" class=\"data row8 col3\" >0.023256</td>\n",
       "      <td id=\"T_89cb3_row8_col4\" class=\"data row8 col4\" >84</td>\n",
       "      <td id=\"T_89cb3_row8_col5\" class=\"data row8 col5\" >218</td>\n",
       "      <td id=\"T_89cb3_row8_col6\" class=\"data row8 col6\" >163</td>\n",
       "      <td id=\"T_89cb3_row8_col7\" class=\"data row8 col7\" >0</td>\n",
       "      <td id=\"T_89cb3_row8_col8\" class=\"data row8 col8\" >0.7477</td>\n",
       "    </tr>\n",
       "    <tr>\n",
       "      <th id=\"T_89cb3_level0_row9\" class=\"row_heading level0 row9\" >9</th>\n",
       "      <td id=\"T_89cb3_row9_col0\" class=\"data row9 col0\" >https://www.rockwellautomation.com/campaigns/emea/en/company/events/webinars/tech-talks/hms-claroty-stratus</td>\n",
       "      <td id=\"T_89cb3_row9_col1\" class=\"data row9 col1\" >nan</td>\n",
       "      <td id=\"T_89cb3_row9_col2\" class=\"data row9 col2\" >nan</td>\n",
       "      <td id=\"T_89cb3_row9_col3\" class=\"data row9 col3\" >nan</td>\n",
       "      <td id=\"T_89cb3_row9_col4\" class=\"data row9 col4\" >nan</td>\n",
       "      <td id=\"T_89cb3_row9_col5\" class=\"data row9 col5\" >202</td>\n",
       "      <td id=\"T_89cb3_row9_col6\" class=\"data row9 col6\" >151</td>\n",
       "      <td id=\"T_89cb3_row9_col7\" class=\"data row9 col7\" >0</td>\n",
       "      <td id=\"T_89cb3_row9_col8\" class=\"data row9 col8\" >0.7475</td>\n",
       "    </tr>\n",
       "    <tr>\n",
       "      <th id=\"T_89cb3_level0_row10\" class=\"row_heading level0 row10\" >10</th>\n",
       "      <td id=\"T_89cb3_row10_col0\" class=\"data row10 col0\" >https://www.rockwellautomation.com/company/events/webinars/techconnect-genius-webinar--subscription-portal-overview-session2</td>\n",
       "      <td id=\"T_89cb3_row10_col1\" class=\"data row10 col1\" >763.000000</td>\n",
       "      <td id=\"T_89cb3_row10_col2\" class=\"data row10 col2\" >128</td>\n",
       "      <td id=\"T_89cb3_row10_col3\" class=\"data row10 col3\" >0.167759</td>\n",
       "      <td id=\"T_89cb3_row10_col4\" class=\"data row10 col4\" >635</td>\n",
       "      <td id=\"T_89cb3_row10_col5\" class=\"data row10 col5\" >1447</td>\n",
       "      <td id=\"T_89cb3_row10_col6\" class=\"data row10 col6\" >1057</td>\n",
       "      <td id=\"T_89cb3_row10_col7\" class=\"data row10 col7\" >0</td>\n",
       "      <td id=\"T_89cb3_row10_col8\" class=\"data row10 col8\" >0.7305</td>\n",
       "    </tr>\n",
       "    <tr>\n",
       "      <th id=\"T_89cb3_level0_row11\" class=\"row_heading level0 row11\" >11</th>\n",
       "      <td id=\"T_89cb3_row11_col0\" class=\"data row11 col0\" >https://www.rockwellautomation.com/company/events/webinars/404</td>\n",
       "      <td id=\"T_89cb3_row11_col1\" class=\"data row11 col1\" >50.000000</td>\n",
       "      <td id=\"T_89cb3_row11_col2\" class=\"data row11 col2\" >5</td>\n",
       "      <td id=\"T_89cb3_row11_col3\" class=\"data row11 col3\" >0.100000</td>\n",
       "      <td id=\"T_89cb3_row11_col4\" class=\"data row11 col4\" >45</td>\n",
       "      <td id=\"T_89cb3_row11_col5\" class=\"data row11 col5\" >151</td>\n",
       "      <td id=\"T_89cb3_row11_col6\" class=\"data row11 col6\" >109</td>\n",
       "      <td id=\"T_89cb3_row11_col7\" class=\"data row11 col7\" >0</td>\n",
       "      <td id=\"T_89cb3_row11_col8\" class=\"data row11 col8\" >0.7219</td>\n",
       "    </tr>\n",
       "    <tr>\n",
       "      <th id=\"T_89cb3_level0_row12\" class=\"row_heading level0 row12\" >12</th>\n",
       "      <td id=\"T_89cb3_row12_col0\" class=\"data row12 col0\" >https://www.rockwellautomation.com/campaigns/emea/en/company/events/webinars/technical-competency-updates/unleash-the-new-capabilities-of-edge-analytics</td>\n",
       "      <td id=\"T_89cb3_row12_col1\" class=\"data row12 col1\" >nan</td>\n",
       "      <td id=\"T_89cb3_row12_col2\" class=\"data row12 col2\" >nan</td>\n",
       "      <td id=\"T_89cb3_row12_col3\" class=\"data row12 col3\" >nan</td>\n",
       "      <td id=\"T_89cb3_row12_col4\" class=\"data row12 col4\" >nan</td>\n",
       "      <td id=\"T_89cb3_row12_col5\" class=\"data row12 col5\" >372</td>\n",
       "      <td id=\"T_89cb3_row12_col6\" class=\"data row12 col6\" >266</td>\n",
       "      <td id=\"T_89cb3_row12_col7\" class=\"data row12 col7\" >0</td>\n",
       "      <td id=\"T_89cb3_row12_col8\" class=\"data row12 col8\" >0.7151</td>\n",
       "    </tr>\n",
       "    <tr>\n",
       "      <th id=\"T_89cb3_level0_row13\" class=\"row_heading level0 row13\" >13</th>\n",
       "      <td id=\"T_89cb3_row13_col0\" class=\"data row13 col0\" >https://www.rockwellautomation.com/en-mde/products/hardware/allen-bradley/drives</td>\n",
       "      <td id=\"T_89cb3_row13_col1\" class=\"data row13 col1\" >nan</td>\n",
       "      <td id=\"T_89cb3_row13_col2\" class=\"data row13 col2\" >nan</td>\n",
       "      <td id=\"T_89cb3_row13_col3\" class=\"data row13 col3\" >nan</td>\n",
       "      <td id=\"T_89cb3_row13_col4\" class=\"data row13 col4\" >nan</td>\n",
       "      <td id=\"T_89cb3_row13_col5\" class=\"data row13 col5\" >101</td>\n",
       "      <td id=\"T_89cb3_row13_col6\" class=\"data row13 col6\" >72</td>\n",
       "      <td id=\"T_89cb3_row13_col7\" class=\"data row13 col7\" >0</td>\n",
       "      <td id=\"T_89cb3_row13_col8\" class=\"data row13 col8\" >0.7129</td>\n",
       "    </tr>\n",
       "    <tr>\n",
       "      <th id=\"T_89cb3_level0_row14\" class=\"row_heading level0 row14\" >14</th>\n",
       "      <td id=\"T_89cb3_row14_col0\" class=\"data row14 col0\" >https://www.rockwellautomation.com/support/product/product-selection-configuration/global-short-circuit-current-ratings-tool</td>\n",
       "      <td id=\"T_89cb3_row14_col1\" class=\"data row14 col1\" >4102.000000</td>\n",
       "      <td id=\"T_89cb3_row14_col2\" class=\"data row14 col2\" >460</td>\n",
       "      <td id=\"T_89cb3_row14_col3\" class=\"data row14 col3\" >0.112140</td>\n",
       "      <td id=\"T_89cb3_row14_col4\" class=\"data row14 col4\" >3642</td>\n",
       "      <td id=\"T_89cb3_row14_col5\" class=\"data row14 col5\" >7015</td>\n",
       "      <td id=\"T_89cb3_row14_col6\" class=\"data row14 col6\" >4995</td>\n",
       "      <td id=\"T_89cb3_row14_col7\" class=\"data row14 col7\" >0</td>\n",
       "      <td id=\"T_89cb3_row14_col8\" class=\"data row14 col8\" >0.7120</td>\n",
       "    </tr>\n",
       "    <tr>\n",
       "      <th id=\"T_89cb3_level0_row15\" class=\"row_heading level0 row15\" >15</th>\n",
       "      <td id=\"T_89cb3_row15_col0\" class=\"data row15 col0\" >https://www.rockwellautomation.com/company/events/in-person-events/partnernetwork-conference</td>\n",
       "      <td id=\"T_89cb3_row15_col1\" class=\"data row15 col1\" >50.000000</td>\n",
       "      <td id=\"T_89cb3_row15_col2\" class=\"data row15 col2\" >4</td>\n",
       "      <td id=\"T_89cb3_row15_col3\" class=\"data row15 col3\" >0.080000</td>\n",
       "      <td id=\"T_89cb3_row15_col4\" class=\"data row15 col4\" >46</td>\n",
       "      <td id=\"T_89cb3_row15_col5\" class=\"data row15 col5\" >245</td>\n",
       "      <td id=\"T_89cb3_row15_col6\" class=\"data row15 col6\" >174</td>\n",
       "      <td id=\"T_89cb3_row15_col7\" class=\"data row15 col7\" >0</td>\n",
       "      <td id=\"T_89cb3_row15_col8\" class=\"data row15 col8\" >0.7102</td>\n",
       "    </tr>\n",
       "    <tr>\n",
       "      <th id=\"T_89cb3_level0_row16\" class=\"row_heading level0 row16\" >16</th>\n",
       "      <td id=\"T_89cb3_row16_col0\" class=\"data row16 col0\" >https://www.rockwellautomation.com/industries/chemical/vfd-energy-savings-calculator</td>\n",
       "      <td id=\"T_89cb3_row16_col1\" class=\"data row16 col1\" >45.000000</td>\n",
       "      <td id=\"T_89cb3_row16_col2\" class=\"data row16 col2\" >1</td>\n",
       "      <td id=\"T_89cb3_row16_col3\" class=\"data row16 col3\" >0.022222</td>\n",
       "      <td id=\"T_89cb3_row16_col4\" class=\"data row16 col4\" >44</td>\n",
       "      <td id=\"T_89cb3_row16_col5\" class=\"data row16 col5\" >215</td>\n",
       "      <td id=\"T_89cb3_row16_col6\" class=\"data row16 col6\" >152</td>\n",
       "      <td id=\"T_89cb3_row16_col7\" class=\"data row16 col7\" >0</td>\n",
       "      <td id=\"T_89cb3_row16_col8\" class=\"data row16 col8\" >0.7070</td>\n",
       "    </tr>\n",
       "    <tr>\n",
       "      <th id=\"T_89cb3_level0_row17\" class=\"row_heading level0 row17\" >17</th>\n",
       "      <td id=\"T_89cb3_row17_col0\" class=\"data row17 col0\" >https://www.rockwellautomation.com/company/news/column/executive_news_japan</td>\n",
       "      <td id=\"T_89cb3_row17_col1\" class=\"data row17 col1\" >15.000000</td>\n",
       "      <td id=\"T_89cb3_row17_col2\" class=\"data row17 col2\" >0</td>\n",
       "      <td id=\"T_89cb3_row17_col3\" class=\"data row17 col3\" >0.000000</td>\n",
       "      <td id=\"T_89cb3_row17_col4\" class=\"data row17 col4\" >15</td>\n",
       "      <td id=\"T_89cb3_row17_col5\" class=\"data row17 col5\" >112</td>\n",
       "      <td id=\"T_89cb3_row17_col6\" class=\"data row17 col6\" >79</td>\n",
       "      <td id=\"T_89cb3_row17_col7\" class=\"data row17 col7\" >0</td>\n",
       "      <td id=\"T_89cb3_row17_col8\" class=\"data row17 col8\" >0.7054</td>\n",
       "    </tr>\n",
       "    <tr>\n",
       "      <th id=\"T_89cb3_level0_row18\" class=\"row_heading level0 row18\" >18</th>\n",
       "      <td id=\"T_89cb3_row18_col0\" class=\"data row18 col0\" >https://www.rockwellautomation.com/en-mde/support/product/product-compatibility-migration/product-lifecycle-status</td>\n",
       "      <td id=\"T_89cb3_row18_col1\" class=\"data row18 col1\" >nan</td>\n",
       "      <td id=\"T_89cb3_row18_col2\" class=\"data row18 col2\" >nan</td>\n",
       "      <td id=\"T_89cb3_row18_col3\" class=\"data row18 col3\" >nan</td>\n",
       "      <td id=\"T_89cb3_row18_col4\" class=\"data row18 col4\" >nan</td>\n",
       "      <td id=\"T_89cb3_row18_col5\" class=\"data row18 col5\" >280</td>\n",
       "      <td id=\"T_89cb3_row18_col6\" class=\"data row18 col6\" >196</td>\n",
       "      <td id=\"T_89cb3_row18_col7\" class=\"data row18 col7\" >0</td>\n",
       "      <td id=\"T_89cb3_row18_col8\" class=\"data row18 col8\" >0.7000</td>\n",
       "    </tr>\n",
       "    <tr>\n",
       "      <th id=\"T_89cb3_level0_row19\" class=\"row_heading level0 row19\" >19</th>\n",
       "      <td id=\"T_89cb3_row19_col0\" class=\"data row19 col0\" >https://www.rockwellautomation.com/campaigns/emea/en/company/events/webinars/tech-talks/cisco-prosoft-spectrum-controls</td>\n",
       "      <td id=\"T_89cb3_row19_col1\" class=\"data row19 col1\" >nan</td>\n",
       "      <td id=\"T_89cb3_row19_col2\" class=\"data row19 col2\" >nan</td>\n",
       "      <td id=\"T_89cb3_row19_col3\" class=\"data row19 col3\" >nan</td>\n",
       "      <td id=\"T_89cb3_row19_col4\" class=\"data row19 col4\" >nan</td>\n",
       "      <td id=\"T_89cb3_row19_col5\" class=\"data row19 col5\" >120</td>\n",
       "      <td id=\"T_89cb3_row19_col6\" class=\"data row19 col6\" >84</td>\n",
       "      <td id=\"T_89cb3_row19_col7\" class=\"data row19 col7\" >0</td>\n",
       "      <td id=\"T_89cb3_row19_col8\" class=\"data row19 col8\" >0.7000</td>\n",
       "    </tr>\n",
       "    <tr>\n",
       "      <th id=\"T_89cb3_level0_row20\" class=\"row_heading level0 row20\" >20</th>\n",
       "      <td id=\"T_89cb3_row20_col0\" class=\"data row20 col0\" >https://www.rockwellautomation.com/company/events/webinars/micro-control-integrated-automation-solution</td>\n",
       "      <td id=\"T_89cb3_row20_col1\" class=\"data row20 col1\" >138.000000</td>\n",
       "      <td id=\"T_89cb3_row20_col2\" class=\"data row20 col2\" >19</td>\n",
       "      <td id=\"T_89cb3_row20_col3\" class=\"data row20 col3\" >0.137681</td>\n",
       "      <td id=\"T_89cb3_row20_col4\" class=\"data row20 col4\" >119</td>\n",
       "      <td id=\"T_89cb3_row20_col5\" class=\"data row20 col5\" >280</td>\n",
       "      <td id=\"T_89cb3_row20_col6\" class=\"data row20 col6\" >194</td>\n",
       "      <td id=\"T_89cb3_row20_col7\" class=\"data row20 col7\" >0</td>\n",
       "      <td id=\"T_89cb3_row20_col8\" class=\"data row20 col8\" >0.6929</td>\n",
       "    </tr>\n",
       "    <tr>\n",
       "      <th id=\"T_89cb3_level0_row21\" class=\"row_heading level0 row21\" >21</th>\n",
       "      <td id=\"T_89cb3_row21_col0\" class=\"data row21 col0\" >https://www.rockwellautomation.com/company/events/webinars/protect-your-gigafactory-with-industrial-security</td>\n",
       "      <td id=\"T_89cb3_row21_col1\" class=\"data row21 col1\" >82.000000</td>\n",
       "      <td id=\"T_89cb3_row21_col2\" class=\"data row21 col2\" >6</td>\n",
       "      <td id=\"T_89cb3_row21_col3\" class=\"data row21 col3\" >0.073171</td>\n",
       "      <td id=\"T_89cb3_row21_col4\" class=\"data row21 col4\" >76</td>\n",
       "      <td id=\"T_89cb3_row21_col5\" class=\"data row21 col5\" >169</td>\n",
       "      <td id=\"T_89cb3_row21_col6\" class=\"data row21 col6\" >116</td>\n",
       "      <td id=\"T_89cb3_row21_col7\" class=\"data row21 col7\" >0</td>\n",
       "      <td id=\"T_89cb3_row21_col8\" class=\"data row21 col8\" >0.6864</td>\n",
       "    </tr>\n",
       "    <tr>\n",
       "      <th id=\"T_89cb3_level0_row22\" class=\"row_heading level0 row22\" >22</th>\n",
       "      <td id=\"T_89cb3_row22_col0\" class=\"data row22 col0\" >https://www.rockwellautomation.com/support/documentation/technical-data/proposalworkssuppleme20180213-1403</td>\n",
       "      <td id=\"T_89cb3_row22_col1\" class=\"data row22 col1\" >56.000000</td>\n",
       "      <td id=\"T_89cb3_row22_col2\" class=\"data row22 col2\" >2</td>\n",
       "      <td id=\"T_89cb3_row22_col3\" class=\"data row22 col3\" >0.035714</td>\n",
       "      <td id=\"T_89cb3_row22_col4\" class=\"data row22 col4\" >54</td>\n",
       "      <td id=\"T_89cb3_row22_col5\" class=\"data row22 col5\" >114</td>\n",
       "      <td id=\"T_89cb3_row22_col6\" class=\"data row22 col6\" >78</td>\n",
       "      <td id=\"T_89cb3_row22_col7\" class=\"data row22 col7\" >0</td>\n",
       "      <td id=\"T_89cb3_row22_col8\" class=\"data row22 col8\" >0.6842</td>\n",
       "    </tr>\n",
       "    <tr>\n",
       "      <th id=\"T_89cb3_level0_row23\" class=\"row_heading level0 row23\" >23</th>\n",
       "      <td id=\"T_89cb3_row23_col0\" class=\"data row23 col0\" >https://www.rockwellautomation.com/company/events/webinars/technology-partner-genius-webinar-with-prosoft-technology---conn</td>\n",
       "      <td id=\"T_89cb3_row23_col1\" class=\"data row23 col1\" >54.000000</td>\n",
       "      <td id=\"T_89cb3_row23_col2\" class=\"data row23 col2\" >8</td>\n",
       "      <td id=\"T_89cb3_row23_col3\" class=\"data row23 col3\" >0.148148</td>\n",
       "      <td id=\"T_89cb3_row23_col4\" class=\"data row23 col4\" >46</td>\n",
       "      <td id=\"T_89cb3_row23_col5\" class=\"data row23 col5\" >114</td>\n",
       "      <td id=\"T_89cb3_row23_col6\" class=\"data row23 col6\" >78</td>\n",
       "      <td id=\"T_89cb3_row23_col7\" class=\"data row23 col7\" >0</td>\n",
       "      <td id=\"T_89cb3_row23_col8\" class=\"data row23 col8\" >0.6842</td>\n",
       "    </tr>\n",
       "    <tr>\n",
       "      <th id=\"T_89cb3_level0_row24\" class=\"row_heading level0 row24\" >24</th>\n",
       "      <td id=\"T_89cb3_row24_col0\" class=\"data row24 col0\" >https://www.rockwellautomation.com/support/documentation/technical-data/proposalworksaddinghe20180213-1349</td>\n",
       "      <td id=\"T_89cb3_row24_col1\" class=\"data row24 col1\" >52.000000</td>\n",
       "      <td id=\"T_89cb3_row24_col2\" class=\"data row24 col2\" >4</td>\n",
       "      <td id=\"T_89cb3_row24_col3\" class=\"data row24 col3\" >0.076923</td>\n",
       "      <td id=\"T_89cb3_row24_col4\" class=\"data row24 col4\" >48</td>\n",
       "      <td id=\"T_89cb3_row24_col5\" class=\"data row24 col5\" >104</td>\n",
       "      <td id=\"T_89cb3_row24_col6\" class=\"data row24 col6\" >71</td>\n",
       "      <td id=\"T_89cb3_row24_col7\" class=\"data row24 col7\" >0</td>\n",
       "      <td id=\"T_89cb3_row24_col8\" class=\"data row24 col8\" >0.6827</td>\n",
       "    </tr>\n",
       "    <tr>\n",
       "      <th id=\"T_89cb3_level0_row25\" class=\"row_heading level0 row25\" >25</th>\n",
       "      <td id=\"T_89cb3_row25_col0\" class=\"data row25 col0\" >https://www.rockwellautomation.com/company/events/in-person-events/roklive/emea/faq</td>\n",
       "      <td id=\"T_89cb3_row25_col1\" class=\"data row25 col1\" >114.000000</td>\n",
       "      <td id=\"T_89cb3_row25_col2\" class=\"data row25 col2\" >12</td>\n",
       "      <td id=\"T_89cb3_row25_col3\" class=\"data row25 col3\" >0.105263</td>\n",
       "      <td id=\"T_89cb3_row25_col4\" class=\"data row25 col4\" >102</td>\n",
       "      <td id=\"T_89cb3_row25_col5\" class=\"data row25 col5\" >321</td>\n",
       "      <td id=\"T_89cb3_row25_col6\" class=\"data row25 col6\" >219</td>\n",
       "      <td id=\"T_89cb3_row25_col7\" class=\"data row25 col7\" >0</td>\n",
       "      <td id=\"T_89cb3_row25_col8\" class=\"data row25 col8\" >0.6822</td>\n",
       "    </tr>\n",
       "    <tr>\n",
       "      <th id=\"T_89cb3_level0_row26\" class=\"row_heading level0 row26\" >26</th>\n",
       "      <td id=\"T_89cb3_row26_col0\" class=\"data row26 col0\" >https://www.rockwellautomation.com/company/events/webinars/technology-partner-genius-webinar-with-oden-technologies</td>\n",
       "      <td id=\"T_89cb3_row26_col1\" class=\"data row26 col1\" >392.000000</td>\n",
       "      <td id=\"T_89cb3_row26_col2\" class=\"data row26 col2\" >59</td>\n",
       "      <td id=\"T_89cb3_row26_col3\" class=\"data row26 col3\" >0.150510</td>\n",
       "      <td id=\"T_89cb3_row26_col4\" class=\"data row26 col4\" >333</td>\n",
       "      <td id=\"T_89cb3_row26_col5\" class=\"data row26 col5\" >796</td>\n",
       "      <td id=\"T_89cb3_row26_col6\" class=\"data row26 col6\" >542</td>\n",
       "      <td id=\"T_89cb3_row26_col7\" class=\"data row26 col7\" >0</td>\n",
       "      <td id=\"T_89cb3_row26_col8\" class=\"data row26 col8\" >0.6809</td>\n",
       "    </tr>\n",
       "    <tr>\n",
       "      <th id=\"T_89cb3_level0_row27\" class=\"row_heading level0 row27\" >27</th>\n",
       "      <td id=\"T_89cb3_row27_col0\" class=\"data row27 col0\" >https://www.rockwellautomation.com/company/news/blogs/single-use-system-lifesciences-pt2</td>\n",
       "      <td id=\"T_89cb3_row27_col1\" class=\"data row27 col1\" >3.000000</td>\n",
       "      <td id=\"T_89cb3_row27_col2\" class=\"data row27 col2\" >1</td>\n",
       "      <td id=\"T_89cb3_row27_col3\" class=\"data row27 col3\" >0.333333</td>\n",
       "      <td id=\"T_89cb3_row27_col4\" class=\"data row27 col4\" >2</td>\n",
       "      <td id=\"T_89cb3_row27_col5\" class=\"data row27 col5\" >102</td>\n",
       "      <td id=\"T_89cb3_row27_col6\" class=\"data row27 col6\" >69</td>\n",
       "      <td id=\"T_89cb3_row27_col7\" class=\"data row27 col7\" >0</td>\n",
       "      <td id=\"T_89cb3_row27_col8\" class=\"data row27 col8\" >0.6765</td>\n",
       "    </tr>\n",
       "    <tr>\n",
       "      <th id=\"T_89cb3_level0_row28\" class=\"row_heading level0 row28\" >28</th>\n",
       "      <td id=\"T_89cb3_row28_col0\" class=\"data row28 col0\" >https://www.rockwellautomation.com/company/news/demonstrations/safety-automation-builder-software-demonstration</td>\n",
       "      <td id=\"T_89cb3_row28_col1\" class=\"data row28 col1\" >190.000000</td>\n",
       "      <td id=\"T_89cb3_row28_col2\" class=\"data row28 col2\" >12</td>\n",
       "      <td id=\"T_89cb3_row28_col3\" class=\"data row28 col3\" >0.063158</td>\n",
       "      <td id=\"T_89cb3_row28_col4\" class=\"data row28 col4\" >178</td>\n",
       "      <td id=\"T_89cb3_row28_col5\" class=\"data row28 col5\" >307</td>\n",
       "      <td id=\"T_89cb3_row28_col6\" class=\"data row28 col6\" >207</td>\n",
       "      <td id=\"T_89cb3_row28_col7\" class=\"data row28 col7\" >0</td>\n",
       "      <td id=\"T_89cb3_row28_col8\" class=\"data row28 col8\" >0.6743</td>\n",
       "    </tr>\n",
       "    <tr>\n",
       "      <th id=\"T_89cb3_level0_row29\" class=\"row_heading level0 row29\" >29</th>\n",
       "      <td id=\"T_89cb3_row29_col0\" class=\"data row29 col0\" >https://www.rockwellautomation.com/company/news/blogs/from-automation-to-autonomy</td>\n",
       "      <td id=\"T_89cb3_row29_col1\" class=\"data row29 col1\" >16.000000</td>\n",
       "      <td id=\"T_89cb3_row29_col2\" class=\"data row29 col2\" >0</td>\n",
       "      <td id=\"T_89cb3_row29_col3\" class=\"data row29 col3\" >0.000000</td>\n",
       "      <td id=\"T_89cb3_row29_col4\" class=\"data row29 col4\" >16</td>\n",
       "      <td id=\"T_89cb3_row29_col5\" class=\"data row29 col5\" >153</td>\n",
       "      <td id=\"T_89cb3_row29_col6\" class=\"data row29 col6\" >103</td>\n",
       "      <td id=\"T_89cb3_row29_col7\" class=\"data row29 col7\" >0</td>\n",
       "      <td id=\"T_89cb3_row29_col8\" class=\"data row29 col8\" >0.6732</td>\n",
       "    </tr>\n",
       "  </tbody>\n",
       "</table>\n"
      ],
      "text/plain": [
       "<pandas.io.formats.style.Styler at 0x7f756913cc10>"
      ]
     },
     "execution_count": 476,
     "metadata": {},
     "output_type": "execute_result"
    }
   ],
   "source": [
    "comparison = result_wei.merge(result_check, on=\"clean_PageURL\", suffixes=[\"_wei\", \"_inkoo\"], how=\"right\")\n",
    "comparison.style"
   ]
  },
  {
   "cell_type": "code",
   "execution_count": 477,
   "id": "ddf91be1",
   "metadata": {
    "ExecuteTime": {
     "end_time": "2022-12-15T21:51:03.435045Z",
     "start_time": "2022-12-15T21:51:03.433078Z"
    }
   },
   "outputs": [],
   "source": [
    "# aem_raw[aem_raw[\"PageURL\"]==\"https://www.rockwellautomation.com/company/news/presentations/event_materials_page\"]"
   ]
  },
  {
   "cell_type": "markdown",
   "id": "02e35068",
   "metadata": {},
   "source": [
    "#### URL checking"
   ]
  },
  {
   "cell_type": "code",
   "execution_count": 478,
   "id": "02e83def",
   "metadata": {
    "ExecuteTime": {
     "end_time": "2022-12-15T21:51:04.235115Z",
     "start_time": "2022-12-15T21:51:03.436330Z"
    }
   },
   "outputs": [],
   "source": [
    "url_maps = stage1_raw[[\"clean_PageURL\", \"PageURL\"]].drop_duplicates()"
   ]
  },
  {
   "cell_type": "code",
   "execution_count": 479,
   "id": "8b7f712d",
   "metadata": {
    "ExecuteTime": {
     "end_time": "2022-12-15T21:51:04.239533Z",
     "start_time": "2022-12-15T21:51:04.237543Z"
    }
   },
   "outputs": [],
   "source": [
    "# b = aa.reset_index()\n",
    "# c = b[b[\"clean_PageURL\"].str.contains(\"emea\")]\n",
    "# c[(c[\"total\"]>100) & (c[\"ratio\"]>0.05)].head(40).style"
   ]
  },
  {
   "cell_type": "code",
   "execution_count": 480,
   "id": "66b9b7b5",
   "metadata": {
    "ExecuteTime": {
     "end_time": "2022-12-15T21:51:04.243173Z",
     "start_time": "2022-12-15T21:51:04.240729Z"
    }
   },
   "outputs": [],
   "source": [
    "# url_maps[url_maps[\"clean_PageURL\"].str.contains(\"emea\")].head().style"
   ]
  },
  {
   "cell_type": "code",
   "execution_count": 481,
   "id": "b039102b",
   "metadata": {
    "ExecuteTime": {
     "end_time": "2022-12-15T21:51:04.246545Z",
     "start_time": "2022-12-15T21:51:04.244753Z"
    }
   },
   "outputs": [],
   "source": [
    "# url_idf = pd.DataFrame([vectorizer.get_feature_names(), vectorizer.idf_.tolist()]).T\n",
    "# url_idf.columns = [\"url\", \"idf\"]\n",
    "# with_idf = b.reset_index().merge(url_idf, left_on=\"clean_PageURL\", right_on=\"url\", how=\"left\")\n",
    "# with_idf.sort_values(by=\"idf\")"
   ]
  },
  {
   "cell_type": "markdown",
   "id": "72f8ee4c",
   "metadata": {
    "ExecuteTime": {
     "end_time": "2022-12-01T19:52:24.373754Z",
     "start_time": "2022-12-01T19:52:24.363288Z"
    }
   },
   "source": [
    "# Feature Engineering\n"
   ]
  },
  {
   "cell_type": "markdown",
   "id": "73fe9c01",
   "metadata": {},
   "source": [
    "## Preprocessing - TF-IDF (NLP)\n",
    "\n",
    "- TF-IDF = Term Frequency (TF) * Inverse Document Frequency (IDF)\n",
    "    - idf(t) = log(N/(df + 1))\n",
    "<!--         <img src=\"https://cdn-media-1.freecodecamp.org/images/1*q3qYevXqQOjJf6Pwdlx8Mw.png\" width=\"300\"/> -->\n",
    "<!--         <img src=\"https://preview.redd.it/clwuxvtqpeq91.png?width=397&format=png&auto=webp&s=ae6788cefae9b83b3033db3612ec83e8f5ded24f\" width=\"300\"/> -->\n",
    "    - rather directly using count frequency in the naive bayesian, using TF-IDF to adjust the features\n",
    "    \n",
    "- preprocessing.StandardScaler()\n",
    "    - should not use because the features importance are dependent on the frequency, which is already kind of information"
   ]
  },
  {
   "cell_type": "markdown",
   "id": "b68f4dbd",
   "metadata": {},
   "source": [
    "## stage1: wrapping data\n",
    "- label: Submitted gated form (target)\n",
    "    - generated by EventList\n",
    "- features:\n",
    "    - choosed:\n",
    "        - BingeScoredAssetPath: Current BingeScoredAssetPath interaction on one session ( content sequence )\n",
    "        - DateTime_UTC -> for concat sequence in visited order\n",
    "    - possible:\n",
    "        - BingeScoredAssetScore = manually set -> importance level for sales people\n",
    "        - BingeCriticalScore = manually threshold -> initial threshold for sales people\n",
    "        - PageURL? what information this URL can bring into model?\n",
    "        \n",
    "- original asset score manual setup ideas:\n",
    "    - asset weight average is 1, if it is more important/meaningful -> bump up to 2;\n",
    "    - if there are 5 assets in total, then default basic threshold is 5"
   ]
  },
  {
   "cell_type": "code",
   "execution_count": 482,
   "id": "2e6e752d",
   "metadata": {
    "ExecuteTime": {
     "end_time": "2022-12-15T21:51:04.250021Z",
     "start_time": "2022-12-15T21:51:04.247884Z"
    }
   },
   "outputs": [],
   "source": [
    "SEP_TOKEN_PATTERN = \"[^\\$]+\"\n",
    "SEED = 42\n",
    "TEST_SIZE = 0.2"
   ]
  },
  {
   "cell_type": "markdown",
   "id": "7de72f6b",
   "metadata": {},
   "source": [
    "# Modeling\n",
    "\n"
   ]
  },
  {
   "cell_type": "markdown",
   "id": "571b4581",
   "metadata": {},
   "source": [
    "## Stage-1: Scoring content - visitor preference \n",
    "- rethink:\n",
    "    - what is the most attractive content for visitor v.s. what is the most attractive content for salespeople?\n",
    "        - SubmitGatedForm action is not marked by sales people, it's kind of inclination level from user side\n",
    "        - the model is trying to know which asset is more important for SubmitGatedForm \n",
    "        - how important for user to submit GCDC\n",
    "\n",
    "    - weight should be from sales people definition, but current method can only get the attractive score on visitor aspect => \n",
    "        - assumption-1: more clicks => interesting to connect? <font color=red>submit GCDC == made a reach out decision? YES?</font>\n",
    "        - they will think the information are valuable for them, want to get more related information -> salespeople reach out? When is the time = threshold?"
   ]
  },
  {
   "cell_type": "code",
   "execution_count": 483,
   "id": "680db51f",
   "metadata": {
    "ExecuteTime": {
     "end_time": "2022-12-15T21:51:04.271620Z",
     "start_time": "2022-12-15T21:51:04.251076Z"
    }
   },
   "outputs": [],
   "source": [
    "# def page_journey_aggregation(user_journey, sep=\"$\"):\n",
    "#     label = user_journey[\"label\"].unique()\n",
    "#     assert len(label) == 1\n",
    "#     y = label[0]\n",
    "            \n",
    "#     page_view = sep.join(user_journey.sort_values(by=\"DateTime_UTC\")[\"clean_PageURL\"].tolist())\n",
    "#     return pd.Series([page_view, y], index=[\"features\", \"label\"])\n",
    "\n",
    "# data = stage1_raw.groupby(\"mcvisid\").progress_apply(lambda x: page_journey_aggregation(x))"
   ]
  },
  {
   "cell_type": "code",
   "execution_count": 484,
   "id": "797e9f84",
   "metadata": {
    "ExecuteTime": {
     "end_time": "2022-12-15T21:51:04.276940Z",
     "start_time": "2022-12-15T21:51:04.272918Z"
    }
   },
   "outputs": [],
   "source": [
    "# y_sum = stage1_raw.groupby(\"mcvisid\")[\"label\"].sum()\n",
    "# y_size = stage1_raw.groupby(\"mcvisid\")[\"label\"].size()\n",
    "# y_validation = pd.concat([y_size, y_sum], axis=1)\n",
    "# y_validation.columns=[\"y_size\",\"y_sum\"]\n",
    "# y_pos = y_validation[y_validation[\"y_sum\"]>0]\n",
    "# y_pos[y_pos[\"y_size\"] != y_pos[\"y_sum\"]]# should be unique zero"
   ]
  },
  {
   "cell_type": "code",
   "execution_count": 485,
   "id": "71089aa0",
   "metadata": {
    "ExecuteTime": {
     "end_time": "2022-12-15T21:51:04.280409Z",
     "start_time": "2022-12-15T21:51:04.278596Z"
    }
   },
   "outputs": [],
   "source": [
    "# stage1_raw[stage1_raw[\"mcvisid\"] == \"00000092262929664423777026703889338013\"]"
   ]
  },
  {
   "cell_type": "code",
   "execution_count": 486,
   "id": "f6b3a3f4",
   "metadata": {
    "ExecuteTime": {
     "end_time": "2022-12-15T21:51:11.066515Z",
     "start_time": "2022-12-15T21:51:04.281332Z"
    }
   },
   "outputs": [
    {
     "name": "stderr",
     "output_type": "stream",
     "text": [
      "100%|████████████████████████████████| 130431/130431 [00:04<00:00, 30586.85it/s]\n"
     ]
    }
   ],
   "source": [
    "X = stage1_raw.sort_values(by=[\"date\",\"hour\"]).groupby(\"mcvisid\").progress_apply(lambda x: \"$\".join(x[\"clean_PageURL\"]))\n",
    "y = stage1_raw.groupby(\"mcvisid\")[\"label\"].sum()>0"
   ]
  },
  {
   "cell_type": "markdown",
   "id": "eece798e",
   "metadata": {},
   "source": [
    "### minium visit frequency data viewer\n",
    "- at least valid five visit"
   ]
  },
  {
   "cell_type": "code",
   "execution_count": 487,
   "id": "9cb86d7d",
   "metadata": {
    "ExecuteTime": {
     "end_time": "2022-12-15T21:51:22.472217Z",
     "start_time": "2022-12-15T21:51:11.067614Z"
    }
   },
   "outputs": [],
   "source": [
    "stage1_raw.to_csv(f\"tableau_eda_{VERSION}.csv\")"
   ]
  },
  {
   "cell_type": "code",
   "execution_count": null,
   "id": "86599894",
   "metadata": {},
   "outputs": [],
   "source": []
  },
  {
   "cell_type": "code",
   "execution_count": 488,
   "id": "e184b63f",
   "metadata": {
    "ExecuteTime": {
     "end_time": "2022-12-15T21:51:36.558200Z",
     "start_time": "2022-12-15T21:51:22.473208Z"
    },
    "scrolled": true
   },
   "outputs": [
    {
     "name": "stderr",
     "output_type": "stream",
     "text": [
      "100%|███████████████████████████████████████████| 14/14 [00:13<00:00,  1.04it/s]\n"
     ]
    }
   ],
   "source": [
    "fts = pd.DataFrame()\n",
    "unique_fts = pd.DataFrame()\n",
    "visit_freq = stage1_raw.groupby(\"mcvisid\").size().sort_values()\n",
    "for mini_records in tqdm(range(1,15)):\n",
    "    target_visit = visit_freq[visit_freq>=mini_records]\n",
    "    target_raw = stage1_raw[stage1_raw[\"mcvisid\"].isin(target_visit.index)]\n",
    "    ft = target_raw[\"label\"].value_counts().rename(f\"min{mini_records}\").to_frame().T\n",
    "    unique_ft = target_raw[[\"mcvisid\",\"label\"]].drop_duplicates()[\"label\"].value_counts().rename(f\"u-min{mini_records}\").to_frame().T\n",
    "    fts = pd.concat([fts, ft])\n",
    "    unique_fts = pd.concat([unique_ft,unique_fts])\n"
   ]
  },
  {
   "cell_type": "code",
   "execution_count": 489,
   "id": "1da73bb4",
   "metadata": {
    "ExecuteTime": {
     "end_time": "2022-12-15T21:51:36.573789Z",
     "start_time": "2022-12-15T21:51:36.571105Z"
    }
   },
   "outputs": [],
   "source": [
    "# unique_fts\n",
    "unique_fts = unique_fts.sort_values(by=1, ascending=False)"
   ]
  },
  {
   "cell_type": "code",
   "execution_count": 490,
   "id": "5f69fff2",
   "metadata": {
    "ExecuteTime": {
     "end_time": "2022-12-15T21:51:36.705733Z",
     "start_time": "2022-12-15T21:51:36.575320Z"
    }
   },
   "outputs": [
    {
     "data": {
      "text/html": [
       "<div>\n",
       "<style scoped>\n",
       "    .dataframe tbody tr th:only-of-type {\n",
       "        vertical-align: middle;\n",
       "    }\n",
       "\n",
       "    .dataframe tbody tr th {\n",
       "        vertical-align: top;\n",
       "    }\n",
       "\n",
       "    .dataframe thead th {\n",
       "        text-align: right;\n",
       "    }\n",
       "</style>\n",
       "<table border=\"1\" class=\"dataframe\">\n",
       "  <thead>\n",
       "    <tr style=\"text-align: right;\">\n",
       "      <th></th>\n",
       "      <th>False</th>\n",
       "      <th>True</th>\n",
       "      <th>ratio</th>\n",
       "    </tr>\n",
       "  </thead>\n",
       "  <tbody>\n",
       "    <tr>\n",
       "      <th>u-min1</th>\n",
       "      <td>124498</td>\n",
       "      <td>6355</td>\n",
       "      <td>19.59056</td>\n",
       "    </tr>\n",
       "    <tr>\n",
       "      <th>u-min2</th>\n",
       "      <td>104159</td>\n",
       "      <td>5661</td>\n",
       "      <td>18.39940</td>\n",
       "    </tr>\n",
       "    <tr>\n",
       "      <th>u-min3</th>\n",
       "      <td>88302</td>\n",
       "      <td>5038</td>\n",
       "      <td>17.52719</td>\n",
       "    </tr>\n",
       "    <tr>\n",
       "      <th>u-min4</th>\n",
       "      <td>76306</td>\n",
       "      <td>4586</td>\n",
       "      <td>16.63890</td>\n",
       "    </tr>\n",
       "    <tr>\n",
       "      <th>u-min5</th>\n",
       "      <td>66804</td>\n",
       "      <td>4143</td>\n",
       "      <td>16.12455</td>\n",
       "    </tr>\n",
       "    <tr>\n",
       "      <th>u-min6</th>\n",
       "      <td>59088</td>\n",
       "      <td>3807</td>\n",
       "      <td>15.52088</td>\n",
       "    </tr>\n",
       "    <tr>\n",
       "      <th>u-min7</th>\n",
       "      <td>52807</td>\n",
       "      <td>3501</td>\n",
       "      <td>15.08340</td>\n",
       "    </tr>\n",
       "    <tr>\n",
       "      <th>u-min8</th>\n",
       "      <td>47533</td>\n",
       "      <td>3274</td>\n",
       "      <td>14.51833</td>\n",
       "    </tr>\n",
       "    <tr>\n",
       "      <th>u-min9</th>\n",
       "      <td>43202</td>\n",
       "      <td>3034</td>\n",
       "      <td>14.23929</td>\n",
       "    </tr>\n",
       "    <tr>\n",
       "      <th>u-min10</th>\n",
       "      <td>39526</td>\n",
       "      <td>2844</td>\n",
       "      <td>13.89803</td>\n",
       "    </tr>\n",
       "    <tr>\n",
       "      <th>u-min11</th>\n",
       "      <td>36317</td>\n",
       "      <td>2684</td>\n",
       "      <td>13.53092</td>\n",
       "    </tr>\n",
       "    <tr>\n",
       "      <th>u-min12</th>\n",
       "      <td>33617</td>\n",
       "      <td>2530</td>\n",
       "      <td>13.28735</td>\n",
       "    </tr>\n",
       "    <tr>\n",
       "      <th>u-min13</th>\n",
       "      <td>31151</td>\n",
       "      <td>2382</td>\n",
       "      <td>13.07767</td>\n",
       "    </tr>\n",
       "    <tr>\n",
       "      <th>u-min14</th>\n",
       "      <td>29092</td>\n",
       "      <td>2260</td>\n",
       "      <td>12.87257</td>\n",
       "    </tr>\n",
       "  </tbody>\n",
       "</table>\n",
       "</div>"
      ],
      "text/plain": [
       "          False  True    ratio\n",
       "u-min1   124498  6355 19.59056\n",
       "u-min2   104159  5661 18.39940\n",
       "u-min3    88302  5038 17.52719\n",
       "u-min4    76306  4586 16.63890\n",
       "u-min5    66804  4143 16.12455\n",
       "u-min6    59088  3807 15.52088\n",
       "u-min7    52807  3501 15.08340\n",
       "u-min8    47533  3274 14.51833\n",
       "u-min9    43202  3034 14.23929\n",
       "u-min10   39526  2844 13.89803\n",
       "u-min11   36317  2684 13.53092\n",
       "u-min12   33617  2530 13.28735\n",
       "u-min13   31151  2382 13.07767\n",
       "u-min14   29092  2260 12.87257"
      ]
     },
     "execution_count": 490,
     "metadata": {},
     "output_type": "execute_result"
    },
    {
     "data": {
      "image/png": "[encoded data removed]",
      "text/plain": [
       "<Figure size 432x288 with 1 Axes>"
      ]
     },
     "metadata": {
      "needs_background": "light"
     },
     "output_type": "display_data"
    }
   ],
   "source": [
    "unique_fts.plot()\n",
    "unique_fts[\"ratio\"] = unique_fts[0]/unique_fts[1]\n",
    "unique_fts"
   ]
  },
  {
   "cell_type": "code",
   "execution_count": 491,
   "id": "f343ae2d",
   "metadata": {
    "ExecuteTime": {
     "end_time": "2022-12-15T21:51:36.797770Z",
     "start_time": "2022-12-15T21:51:36.706892Z"
    }
   },
   "outputs": [
    {
     "data": {
      "text/html": [
       "<div>\n",
       "<style scoped>\n",
       "    .dataframe tbody tr th:only-of-type {\n",
       "        vertical-align: middle;\n",
       "    }\n",
       "\n",
       "    .dataframe tbody tr th {\n",
       "        vertical-align: top;\n",
       "    }\n",
       "\n",
       "    .dataframe thead th {\n",
       "        text-align: right;\n",
       "    }\n",
       "</style>\n",
       "<table border=\"1\" class=\"dataframe\">\n",
       "  <thead>\n",
       "    <tr style=\"text-align: right;\">\n",
       "      <th></th>\n",
       "      <th>False</th>\n",
       "      <th>True</th>\n",
       "      <th>ratio</th>\n",
       "    </tr>\n",
       "  </thead>\n",
       "  <tbody>\n",
       "    <tr>\n",
       "      <th>min1</th>\n",
       "      <td>1556879</td>\n",
       "      <td>106836</td>\n",
       "      <td>14.57261</td>\n",
       "    </tr>\n",
       "    <tr>\n",
       "      <th>min2</th>\n",
       "      <td>1536540</td>\n",
       "      <td>106142</td>\n",
       "      <td>14.47627</td>\n",
       "    </tr>\n",
       "    <tr>\n",
       "      <th>min3</th>\n",
       "      <td>1504856</td>\n",
       "      <td>104926</td>\n",
       "      <td>14.34207</td>\n",
       "    </tr>\n",
       "    <tr>\n",
       "      <th>min4</th>\n",
       "      <td>1468868</td>\n",
       "      <td>103570</td>\n",
       "      <td>14.18237</td>\n",
       "    </tr>\n",
       "    <tr>\n",
       "      <th>min5</th>\n",
       "      <td>1430928</td>\n",
       "      <td>101866</td>\n",
       "      <td>14.04716</td>\n",
       "    </tr>\n",
       "    <tr>\n",
       "      <th>min6</th>\n",
       "      <td>1392348</td>\n",
       "      <td>100186</td>\n",
       "      <td>13.89763</td>\n",
       "    </tr>\n",
       "    <tr>\n",
       "      <th>min7</th>\n",
       "      <td>1354752</td>\n",
       "      <td>98440</td>\n",
       "      <td>13.76221</td>\n",
       "    </tr>\n",
       "    <tr>\n",
       "      <th>min8</th>\n",
       "      <td>1317834</td>\n",
       "      <td>96851</td>\n",
       "      <td>13.60682</td>\n",
       "    </tr>\n",
       "    <tr>\n",
       "      <th>min9</th>\n",
       "      <td>1283254</td>\n",
       "      <td>94999</td>\n",
       "      <td>13.50808</td>\n",
       "    </tr>\n",
       "    <tr>\n",
       "      <th>min10</th>\n",
       "      <td>1250170</td>\n",
       "      <td>93289</td>\n",
       "      <td>13.40104</td>\n",
       "    </tr>\n",
       "    <tr>\n",
       "      <th>min11</th>\n",
       "      <td>1218155</td>\n",
       "      <td>91764</td>\n",
       "      <td>13.27487</td>\n",
       "    </tr>\n",
       "    <tr>\n",
       "      <th>min12</th>\n",
       "      <td>1188455</td>\n",
       "      <td>90070</td>\n",
       "      <td>13.19479</td>\n",
       "    </tr>\n",
       "    <tr>\n",
       "      <th>min13</th>\n",
       "      <td>1158965</td>\n",
       "      <td>88396</td>\n",
       "      <td>13.11106</td>\n",
       "    </tr>\n",
       "    <tr>\n",
       "      <th>min14</th>\n",
       "      <td>1132198</td>\n",
       "      <td>86810</td>\n",
       "      <td>13.04225</td>\n",
       "    </tr>\n",
       "  </tbody>\n",
       "</table>\n",
       "</div>"
      ],
      "text/plain": [
       "         False    True    ratio\n",
       "min1   1556879  106836 14.57261\n",
       "min2   1536540  106142 14.47627\n",
       "min3   1504856  104926 14.34207\n",
       "min4   1468868  103570 14.18237\n",
       "min5   1430928  101866 14.04716\n",
       "min6   1392348  100186 13.89763\n",
       "min7   1354752   98440 13.76221\n",
       "min8   1317834   96851 13.60682\n",
       "min9   1283254   94999 13.50808\n",
       "min10  1250170   93289 13.40104\n",
       "min11  1218155   91764 13.27487\n",
       "min12  1188455   90070 13.19479\n",
       "min13  1158965   88396 13.11106\n",
       "min14  1132198   86810 13.04225"
      ]
     },
     "execution_count": 491,
     "metadata": {},
     "output_type": "execute_result"
    },
    {
     "data": {
      "image/png": "[encoded data removed]",
      "text/plain": [
       "<Figure size 432x288 with 1 Axes>"
      ]
     },
     "metadata": {
      "needs_background": "light"
     },
     "output_type": "display_data"
    }
   ],
   "source": [
    "fts.plot()\n",
    "fts[\"ratio\"] = fts[0]/fts[1]\n",
    "fts"
   ]
  },
  {
   "cell_type": "code",
   "execution_count": 492,
   "id": "c15b76f8",
   "metadata": {
    "ExecuteTime": {
     "end_time": "2022-12-15T21:51:37.263118Z",
     "start_time": "2022-12-15T21:51:36.799155Z"
    }
   },
   "outputs": [],
   "source": [
    "target_visit = visit_freq[(visit_freq>=5)]\n",
    "target_raw = stage1_raw[stage1_raw[\"mcvisid\"].isin(target_visit.index)]"
   ]
  },
  {
   "cell_type": "code",
   "execution_count": 493,
   "id": "017b5de6",
   "metadata": {
    "ExecuteTime": {
     "end_time": "2022-12-15T21:51:41.076530Z",
     "start_time": "2022-12-15T21:51:37.264424Z"
    }
   },
   "outputs": [
    {
     "name": "stderr",
     "output_type": "stream",
     "text": [
      "100%|██████████████████████████████████| 70589/70589 [00:02<00:00, 28814.59it/s]\n"
     ]
    }
   ],
   "source": [
    "X = target_raw.sort_values(by=[\"date\",\"hour\"]).groupby(\"mcvisid\").progress_apply(lambda x: \"$\".join(x[\"clean_PageURL\"]))\n",
    "y = target_raw.groupby(\"mcvisid\")[\"label\"].sum()>0"
   ]
  },
  {
   "cell_type": "code",
   "execution_count": 494,
   "id": "7815eac5",
   "metadata": {
    "ExecuteTime": {
     "end_time": "2022-12-15T21:51:41.079674Z",
     "start_time": "2022-12-15T21:51:41.077511Z"
    }
   },
   "outputs": [],
   "source": [
    "# target_pageurls = target_raw[[\"PageURL\", \"clean_PageURL\"]].drop_duplicates()"
   ]
  },
  {
   "cell_type": "code",
   "execution_count": 495,
   "id": "da42f42d",
   "metadata": {
    "ExecuteTime": {
     "end_time": "2022-12-15T21:51:41.247252Z",
     "start_time": "2022-12-15T21:51:41.081056Z"
    }
   },
   "outputs": [],
   "source": [
    "data = pd.concat([X, y], axis=1)\n",
    "data.columns = [\"features\", \"label\"]\n",
    "\n",
    "### increase threshold\n",
    "# data = data.loc[target_visit.index]\n",
    "# print(\"reduce rows:\", X.shape[0] - data.shape[0], \"from \", X.shape[0], \"keep rows: \", data.shape[0])"
   ]
  },
  {
   "cell_type": "code",
   "execution_count": 496,
   "id": "8b2d75de",
   "metadata": {
    "ExecuteTime": {
     "end_time": "2022-12-15T21:51:41.250309Z",
     "start_time": "2022-12-15T21:51:41.248220Z"
    }
   },
   "outputs": [],
   "source": [
    "# data[\"features\"].drop_duplicates()"
   ]
  },
  {
   "cell_type": "code",
   "execution_count": 497,
   "id": "9344fa58",
   "metadata": {
    "ExecuteTime": {
     "end_time": "2022-12-15T21:51:41.252982Z",
     "start_time": "2022-12-15T21:51:41.251406Z"
    }
   },
   "outputs": [],
   "source": [
    "# aa = data.groupby(\"features\", group_keys=False).size().sort_values() # 检查是否有 同样数据 但是不同的 label 的数据\n",
    "# aa.to_frame().tail(40).style"
   ]
  },
  {
   "cell_type": "markdown",
   "id": "de640e58",
   "metadata": {},
   "source": [
    "### Data split + TFIDF\n",
    "<!-- \n",
    "# ## outdated\n",
    "# data = stage1_raw.groupby(\"SessionVisitorId\").apply(lambda x: processing_stage1(x, target_method=1, feature_method=\"bow\"))\n",
    "# data[\"submitted_form\"].value_counts()\n",
    "\n",
    "# def tfidf_transform(dtm, idf=None):\n",
    "#     N = dtm.shape[0] # number of document\n",
    "#     tf = (dtm/(dtm.sum(axis=1).reshape(-1,1)))\n",
    "\n",
    "#     if idf is None:\n",
    "#         idf = np.log(1 + N/(dtm.astype(bool).sum(axis=0)))\n",
    "        \n",
    "#     tfidf = tf * idf\n",
    "#     return tfidf, idf\n",
    "# v = DictVectorizer(sparse=False)\n",
    "# X_train_dtm = v.fit_transform(X_train)\n",
    "# X_test_dtm = v.transform(X_test)\n",
    "# X_train_arr, idf = tfidf_transform(X_train_dtm)\n",
    "# X_test_arr, _ = tfidf_transform(X_test_dtm, idf) -->"
   ]
  },
  {
   "cell_type": "code",
   "execution_count": 527,
   "id": "58369807",
   "metadata": {
    "ExecuteTime": {
     "end_time": "2022-12-15T21:59:18.665669Z",
     "start_time": "2022-12-15T21:59:18.150833Z"
    }
   },
   "outputs": [
    {
     "data": {
      "text/html": [
       "<style type=\"text/css\">\n",
       "</style>\n",
       "<table id=\"T_087b6_\">\n",
       "  <thead>\n",
       "    <tr>\n",
       "      <th class=\"blank level0\" >&nbsp;</th>\n",
       "      <th class=\"col_heading level0 col0\" >features_seq</th>\n",
       "      <th class=\"col_heading level0 col1\" >label</th>\n",
       "    </tr>\n",
       "    <tr>\n",
       "      <th class=\"index_name level0\" >mcvisid</th>\n",
       "      <th class=\"blank col0\" >&nbsp;</th>\n",
       "      <th class=\"blank col1\" >&nbsp;</th>\n",
       "    </tr>\n",
       "  </thead>\n",
       "  <tbody>\n",
       "    <tr>\n",
       "      <th id=\"T_087b6_level0_row0\" class=\"row_heading level0 row0\" >06642041119169842051782640887620513895</th>\n",
       "      <td id=\"T_087b6_row0_col0\" class=\"data row0 col0\" >['https://www.rockwellautomation.com/products/hardware/allen-bradley/signal-interface/intrinsic-safety/937z-zener-barriers', 'https://www.rockwellautomation.com/products/hardware/allen-bradley/signal-interface/intrinsic-safety/937c-converter-barriers', 'https://www.rockwellautomation.com/products/hardware', 'https://www.rockwellautomation.com/company/events/webinars/technology-partner-genius-webinar-with-spectrum-controls', 'https://www.rockwellautomation.com/products/software/factorytalk/optix']</td>\n",
       "      <td id=\"T_087b6_row0_col1\" class=\"data row0 col1\" >False</td>\n",
       "    </tr>\n",
       "    <tr>\n",
       "      <th id=\"T_087b6_level0_row1\" class=\"row_heading level0 row1\" >91818377200203339212217135895693509656</th>\n",
       "      <td id=\"T_087b6_row1_col0\" class=\"data row1 col0\" >['https://www.rockwellautomation.com/capabilities/software-ordering-options', 'https://www.rockwellautomation.com/products/software/factorytalk/designsuite/studio-5000', 'https://www.rockwellautomation.com/products/software/factorytalk/designsuite/studio-5000/studio-5000-view-designer', 'https://www.rockwellautomation.com/products/software/factorytalk/designsuite/studio-5000', 'https://www.rockwellautomation.com/capabilities/software-ordering-options', 'https://www.rockwellautomation.com/products/software/factorytalk/operationsuite/view', 'https://www.rockwellautomation.com/products/software/factorytalk/designsuite/studio-5000/studio-5000-logix-designer', 'https://www.rockwellautomation.com/products/software/factorytalk/operationsuite/view/factorytalk-view-machine-edition', 'https://www.rockwellautomation.com/products/software/factorytalk/designsuite/studio-5000', 'https://www.rockwellautomation.com/products/software/factorytalk/operationsuite/view', 'https://www.rockwellautomation.com/products/software/factorytalk/operationsuite/communications/linx-gateway', 'https://www.rockwellautomation.com/products/software/factorytalk/operationsuite/view/factorytalk-view-machine-edition', 'https://www.rockwellautomation.com/products/hardware/allen-bradley/programmable-controllers/small-controllers/compactlogix-family/compactlogix-5370-controllers', 'https://www.rockwellautomation.com/products/software', 'https://www.rockwellautomation.com/products/software/factorytalk/designsuite/studio-5000', 'https://www.rockwellautomation.com/products/hardware/allen-bradley/programmable-controllers/all-products', 'https://www.rockwellautomation.com/support/documentation', 'https://www.rockwellautomation.com/support/documentation/technical/programmable-controllers/controllogix-and-guardlogix-control-systems', 'https://www.rockwellautomation.com/support/documentation/technical/programmable-controllers/compactlogix-and-compact-guardlogix-control-systems', 'https://www.rockwellautomation.com/support/documentation/technical/programmable-controllers/process-programmable-controllers', 'https://www.rockwellautomation.com/products/software/factorytalk/designsuite/studio-5000/studio-5000-logix-designer', 'https://www.rockwellautomation.com/products/software/factorytalk/operationsuite/view/factorytalk-view-machine-edition', 'https://www.rockwellautomation.com/products/software/factorytalk/operationsuite/communications/linx-gateway', 'https://www.rockwellautomation.com/products/software/factorytalk/operationsuite/communications', 'https://www.rockwellautomation.com/products/software/factorytalk/operationsuite/communications/linx', 'https://www.rockwellautomation.com/products/details.1769-IF4FXOF2F']</td>\n",
       "      <td id=\"T_087b6_row1_col1\" class=\"data row1 col1\" >False</td>\n",
       "    </tr>\n",
       "    <tr>\n",
       "      <th id=\"T_087b6_level0_row2\" class=\"row_heading level0 row2\" >62135903995773064133569081695167492622</th>\n",
       "      <td id=\"T_087b6_row2_col0\" class=\"data row2 col0\" >['https://www.rockwellautomation.com/products/details.25B-D013N104', 'https://www.rockwellautomation.com/support/documentation/product-certifications', 'https://www.rockwellautomation.com/support/product/product-compatibility-migration', 'https://www.rockwellautomation.com/products/hardware/allen-bradley/i-o/on-machine--no-enclosure--block/1732-armorblock-i-o', 'https://www.rockwellautomation.com/products/hardware/allen-bradley/discontinued-products/1792-armorblock-maxum-i-o', 'https://www.rockwellautomation.com/products/hardware/allen-bradley/i-o/on-machine--no-enclosure--block/1732-armorblock-i-o', 'https://www.rockwellautomation.com/products/hardware/allen-bradley/discontinued-products/1792-armorblock-maxum-i-o', 'https://www.rockwellautomation.com/products/software/factorytalk/designsuite/studio-5000', 'https://www.rockwellautomation.com/capabilities/software-ordering-options', 'https://www.rockwellautomation.com/products/software', 'https://www.rockwellautomation.com/products/software/factorytalk/operationsuite/view', 'https://www.rockwellautomation.com/products/hardware/allen-bradley/human-machine-interface', 'https://www.rockwellautomation.com/products/hardware/allen-bradley/human-machine-interface/graphic-terminals/2711p-panelview-plus-7', 'https://www.rockwellautomation.com/products/software/factorytalk/operationsuite/view/factorytalk-viewpoint', 'https://www.rockwellautomation.com/products/software/factorytalk/operationsuite/view/factorytalk-view-machine-edition', 'https://www.rockwellautomation.com/support/product/product-downloads/application-code-library', 'https://www.rockwellautomation.com/products/software/factorytalk/designsuite', 'https://www.rockwellautomation.com/products/software/factorytalk/operationsuite/view/factorytalk-view-site-edition']</td>\n",
       "      <td id=\"T_087b6_row2_col1\" class=\"data row2 col1\" >False</td>\n",
       "    </tr>\n",
       "    <tr>\n",
       "      <th id=\"T_087b6_level0_row3\" class=\"row_heading level0 row3\" >03009745817455294292494424018929773411</th>\n",
       "      <td id=\"T_087b6_row3_col0\" class=\"data row3 col0\" >['https://www.rockwellautomation.com/products/hardware/allen-bradley/programmable-controllers/all-products', 'https://www.rockwellautomation.com/products/hardware/allen-bradley/programmable-controllers/small-controllers/compactlogix-family/compactlogix-5370-controllers', 'https://www.rockwellautomation.com/404', 'https://www.rockwellautomation.com/products/hardware/allen-bradley/programmable-controllers/small-controllers/compactlogix-family/compactlogix-5370-controllers', 'https://www.rockwellautomation.com/products/hardware/allen-bradley/programmable-controllers/all-products', 'https://www.rockwellautomation.com/products/hardware/allen-bradley/programmable-controllers/small-controllers/compactlogix-family/compactlogix-5370-controllers', 'https://www.rockwellautomation.com/products/hardware/allen-bradley/programmable-controllers/all-products', 'https://www.rockwellautomation.com/products/hardware/allen-bradley/programmable-controllers/small-controllers/compactlogix-family/compactlogix-5380-controllers', 'https://www.rockwellautomation.com/products/hardware/allen-bradley/programmable-controllers/small-controllers/compactlogix-family/compactlogix-5370-controllers', 'https://www.rockwellautomation.com/products/hardware/allen-bradley/programmable-controllers/small-controllers/compactlogix-family/compactlogix-1769-controllers', 'https://www.rockwellautomation.com/products/software/factorytalk/designsuite/studio-5000', 'https://www.rockwellautomation.com/products/software/factorytalk/designsuite/studio-5000/studio-5000-logix-designer', 'https://www.rockwellautomation.com/products/software/factorytalk/designsuite', 'https://www.rockwellautomation.com/products/software/factorytalk/designsuite/studio-5000', 'https://www.rockwellautomation.com/company/about-us/contact-us', 'https://www.rockwellautomation.com/products/details.1769-ASCII', 'https://www.rockwellautomation.com/products/details.1769-HSC', 'https://www.rockwellautomation.com/products/details.1769-HSC', 'https://www.rockwellautomation.com/products/software/factorytalk/designsuite/studio-5000/studio-5000-logix-emulate', 'https://www.rockwellautomation.com/products/software/factorytalk/designsuite/studio-5000/studio-5000-logix-emulate', 'https://www.rockwellautomation.com/products/hardware/allen-bradley/programmable-controllers/small-controllers/compactlogix-family/compactlogix-5370-controllers', 'https://www.rockwellautomation.com/products/hardware/allen-bradley/programmable-controllers/small-controllers/compactlogix-family/compactlogix-5370-controllers', 'https://www.rockwellautomation.com/products/hardware/allen-bradley/programmable-controllers/all-products', 'https://www.rockwellautomation.com/industries', 'https://www.rockwellautomation.com/products/software/rockwell-software', 'https://www.rockwellautomation.com/tools', 'https://www.rockwellautomation.com/products/software']</td>\n",
       "      <td id=\"T_087b6_row3_col1\" class=\"data row3 col1\" >False</td>\n",
       "    </tr>\n",
       "    <tr>\n",
       "      <th id=\"T_087b6_level0_row4\" class=\"row_heading level0 row4\" >33340655270552698564314399479873841740</th>\n",
       "      <td id=\"T_087b6_row4_col0\" class=\"data row4 col0\" >['https://www.rockwellautomation.com/support/documentation/product-drawings', 'https://www.rockwellautomation.com/support/product/product-selection-configuration/control-systems-configuration-tools', 'https://www.rockwellautomation.com/support/product', 'https://www.rockwellautomation.com/support/documentation/product-drawings', 'https://www.rockwellautomation.com/support/product/product-selection-configuration/control-systems-configuration-tools', 'https://www.rockwellautomation.com/support/product', 'https://www.rockwellautomation.com/support/product/product-selection-configuration/procurement-specifications', 'https://www.rockwellautomation.com/support/documentation/product-drawings', 'https://www.rockwellautomation.com/products/details.700-PK400A1', 'https://www.rockwellautomation.com/support/documentation/product-drawings', 'https://www.rockwellautomation.com/products/hardware/allen-bradley/relays-and-timers/general-purpose-relays/700-hc-miniature-ice-cube', 'https://www.rockwellautomation.com/products/hardware/allen-bradley/relays-and-timers', 'https://www.rockwellautomation.com/support/documentation/product-drawings', 'https://www.rockwellautomation.com/products/hardware/allen-bradley/relays-and-timers/general-purpose-relays/700-hc-miniature-ice-cube', 'https://www.rockwellautomation.com/products/hardware/allen-bradley/motor-control/soft-starters--low-voltage/smc-50-solid-state', 'https://www.rockwellautomation.com/products/details.150-SD2NBD', 'https://www.rockwellautomation.com/support/documentation/product-drawings', 'https://www.rockwellautomation.com/products/hardware/allen-bradley/relays-and-timers/general-purpose-relays/700-hc-miniature-ice-cube', 'https://www.rockwellautomation.com/products/hardware/allen-bradley/motor-control/soft-starters--low-voltage/smc-50-solid-state', 'https://www.rockwellautomation.com/support/documentation/product-drawings', 'https://www.rockwellautomation.com/products/hardware/allen-bradley/relays-and-timers/general-purpose-relays/700-hc-miniature-ice-cube', 'https://www.rockwellautomation.com/products/hardware/allen-bradley/motor-control/soft-starters--low-voltage/smc-50-solid-state', 'https://www.rockwellautomation.com/support/documentation/product-drawings', 'https://www.rockwellautomation.com/products/hardware/allen-bradley/relays-and-timers/general-purpose-relays/700-hc-miniature-ice-cube', 'https://www.rockwellautomation.com/products/hardware/allen-bradley/motor-control/soft-starters--low-voltage/smc-50-solid-state', 'https://www.rockwellautomation.com/support/documentation/product-drawings', 'https://www.rockwellautomation.com/products/hardware/allen-bradley/relays-and-timers/general-purpose-relays/700-hc-miniature-ice-cube', 'https://www.rockwellautomation.com/products/hardware/allen-bradley/motor-control/soft-starters--low-voltage/smc-50-solid-state']</td>\n",
       "      <td id=\"T_087b6_row4_col1\" class=\"data row4 col1\" >False</td>\n",
       "    </tr>\n",
       "    <tr>\n",
       "      <th id=\"T_087b6_level0_row5\" class=\"row_heading level0 row5\" >84631856511631490372332999828266915775</th>\n",
       "      <td id=\"T_087b6_row5_col0\" class=\"data row5 col0\" >['https://www.rockwellautomation.com/products/hardware/allen-bradley/industrial-control-products', 'https://www.rockwellautomation.com/products/details.9324-RLD600PE', 'https://www.rockwellautomation.com/products/details.9324-RLD300LEGT', 'https://www.rockwellautomation.com/company/about-us/contact-us', 'https://www.rockwellautomation.com/products/hardware/allen-bradley/human-machine-interface/graphic-terminals/2711p-panelview-plus-7', 'https://www.rockwellautomation.com/support/documentation/product-drawings', 'https://www.rockwellautomation.com/products/hardware/allen-bradley/relays-and-timers/general-purpose-relays/700-hl-terminal-block-style', 'https://www.rockwellautomation.com/products/hardware/allen-bradley/network-security-and-infrastructure/ethernet-networks', 'https://www.rockwellautomation.com/products/hardware/allen-bradley/network-security-and-infrastructure/ethernet-networks/stratix-4300-remote-access-router', 'https://www.rockwellautomation.com/products/hardware/allen-bradley/programmable-controllers/small-controllers/compactlogix-family/compactlogix-5370-controllers', 'https://www.rockwellautomation.com/products/hardware/allen-bradley/programmable-controllers/small-controllers/compactlogix-family', 'https://www.rockwellautomation.com/products/hardware/allen-bradley/programmable-controllers/small-controllers/compactlogix-family/compactlogix-5380-controllers']</td>\n",
       "      <td id=\"T_087b6_row5_col1\" class=\"data row5 col1\" >False</td>\n",
       "    </tr>\n",
       "    <tr>\n",
       "      <th id=\"T_087b6_level0_row6\" class=\"row_heading level0 row6\" >14073603951273059483798246371664896629</th>\n",
       "      <td id=\"T_087b6_row6_col0\" class=\"data row6 col0\" >['https://www.rockwellautomation.com/company/events/in-person-events/process-solutions-user-group', 'https://www.rockwellautomation.com/products/details.1783-ETAP', 'https://www.rockwellautomation.com/products/hardware/allen-bradley/network-security-and-infrastructure/gateway-linking-devices/1788-ethernet-ip-to-devicenet', 'https://www.rockwellautomation.com/products/details.1756-EN2TR', 'https://www.rockwellautomation.com/products/details.1756-EN4TR', 'https://www.rockwellautomation.com/products/details.1756-EN2TR', 'https://www.rockwellautomation.com/products/details.1756-EN2TR', 'https://www.rockwellautomation.com/products/details.1756-EN4TR', 'https://www.rockwellautomation.com/products/details.1756-EN2TP', 'https://www.rockwellautomation.com/products/hardware/allen-bradley/network-security-and-infrastructure/ethernet-networks/stratix-5400-industrial', 'https://www.rockwellautomation.com/company/events/in-person-events/automation-fair/learn/sessions', 'https://www.rockwellautomation.com/capabilities/industrial-safety-solutions/safety-automation-builder', 'https://www.rockwellautomation.com/company/events/in-person-events/process-solutions-user-group', 'https://www.rockwellautomation.com/company/events/in-person-events/process-solutions-user-group', 'https://www.rockwellautomation.com/products/hardware/allen-bradley/i-o/in-cabinet-block-i-o/1791-compactblock-guard-safety-i-o', 'https://www.rockwellautomation.com/products/details.1756-L71S', 'https://www.rockwellautomation.com/support/product/product-selection-configuration/control-systems-configuration-tools', 'https://www.rockwellautomation.com/company/events/in-person-events/automation-fair/learn/sessions', 'https://www.rockwellautomation.com/capabilities/industrial-safety-solutions', 'https://www.rockwellautomation.com/capabilities', 'https://www.rockwellautomation.com/support/product/product-selection-configuration', 'https://www.rockwellautomation.com/support/product/product-selection-configuration/integrated-architecture-builder', 'https://www.rockwellautomation.com/products/hardware/allen-bradley/safety-products', 'https://www.rockwellautomation.com/capabilities/industrial-safety-solutions', 'https://www.rockwellautomation.com/capabilities/industrial-safety-solutions/machine-safety', 'https://www.rockwellautomation.com/company/news/podcasts/rok-talk-ssc-podcast-series', 'https://www.rockwellautomation.com/support/training/learning-training-subscriptions', 'https://www.rockwellautomation.com/support/training', 'https://www.rockwellautomation.com/products/hardware/allen-bradley/network-security-and-infrastructure/ethernet-networks/stratix-5700-industrial', 'https://www.rockwellautomation.com/products/details.1783-US5T', 'https://www.rockwellautomation.com/products/hardware/allen-bradley/safety-products', 'https://www.rockwellautomation.com/products/details.1783-ETAP']</td>\n",
       "      <td id=\"T_087b6_row6_col1\" class=\"data row6 col1\" >False</td>\n",
       "    </tr>\n",
       "    <tr>\n",
       "      <th id=\"T_087b6_level0_row7\" class=\"row_heading level0 row7\" >77088389485004189621854253326188558724</th>\n",
       "      <td id=\"T_087b6_row7_col0\" class=\"data row7 col0\" >['https://www.rockwellautomation.com/products/details.9328-CCWDEVENM', 'https://www.rockwellautomation.com/products/hardware/allen-bradley/drives/low-voltage-ac-drives/architecture-drives/20g-powerflex-755', 'https://www.rockwellautomation.com/products/hardware/allen-bradley/drives/drive-software/9303-drivetools-sp', 'https://www.rockwellautomation.com/support/product/product-selection-configuration/control-systems-configuration-tools', 'https://www.rockwellautomation.com/products/details.9303-4DTS01ENE', 'https://www.rockwellautomation.com/products/details.9303-4DTS01ENM']</td>\n",
       "      <td id=\"T_087b6_row7_col1\" class=\"data row7 col1\" >False</td>\n",
       "    </tr>\n",
       "    <tr>\n",
       "      <th id=\"T_087b6_level0_row8\" class=\"row_heading level0 row8\" >58202478697258166402007133570147028786</th>\n",
       "      <td id=\"T_087b6_row8_col0\" class=\"data row8 col0\" >['https://www.rockwellautomation.com/products/hardware/allen-bradley/power-supplies', 'https://www.rockwellautomation.com/products/hardware/allen-bradley/i-o/chassis-based-i-o/1756-controllogix-i-o', 'https://www.rockwellautomation.com/capabilities/process-solutions/process-safety-systems/safety-instrumented-systems', 'https://www.rockwellautomation.com/products/software/factorytalk/maintenancesuite/assetcentre', 'https://www.rockwellautomation.com/products/software/factorytalk/maintenancesuite/assetcentre', 'https://www.rockwellautomation.com/products/hardware/allen-bradley/programmable-controllers/large-controllers/controllogix/1756controllogix5580', 'https://www.rockwellautomation.com/products/software/factorytalk/maintenancesuite/network-manager', 'https://www.rockwellautomation.com/products/software/factorytalk/innovationsuite/analytics', 'https://www.rockwellautomation.com/en-au', 'https://www.rockwellautomation.com/support/product/product-selection-configuration/integrated-architecture-builder', 'https://www.rockwellautomation.com/products/software/factorytalk/operationsuite/factorytalk-edge-gateway-software', 'https://www.rockwellautomation.com/support/product/product-selection-configuration/integrated-architecture-builder']</td>\n",
       "      <td id=\"T_087b6_row8_col1\" class=\"data row8 col1\" >False</td>\n",
       "    </tr>\n",
       "    <tr>\n",
       "      <th id=\"T_087b6_level0_row9\" class=\"row_heading level0 row9\" >17300444801196520834339570455946552027</th>\n",
       "      <td id=\"T_087b6_row9_col0\" class=\"data row9 col0\" >['https://www.rockwellautomation.com/support/product/product-selection-configuration/integrated-architecture-builder', 'https://www.rockwellautomation.com/support/product/product-selection-configuration/design-propose-automation-systems', 'https://www.rockwellautomation.com/products/details.842E-MIP5BA', 'https://www.rockwellautomation.com/products/hardware/allen-bradley/i-o/in-cabinet-modular-i-o/1734-point-i-o/1734-point-i-o-i-o-modules', 'https://www.rockwellautomation.com/products/hardware/allen-bradley/network-security-and-infrastructure/ethernet-networks/stratix-2000-unmanaged', 'https://www.rockwellautomation.com/products/hardware/allen-bradley/i-o/on-machine--no-enclosure--block/1732-armorblock-i-o', 'https://www.rockwellautomation.com/support/documentation/electronic-datasheets', 'https://www.rockwellautomation.com/support/documentation/electronic-datasheets', 'https://www.rockwellautomation.com/company/events/in-person-events/automation-fair/new-products-and-solutions-showcase/mettler-toledo-ind360']</td>\n",
       "      <td id=\"T_087b6_row9_col1\" class=\"data row9 col1\" >False</td>\n",
       "    </tr>\n",
       "    <tr>\n",
       "      <th id=\"T_087b6_level0_row10\" class=\"row_heading level0 row10\" >09105349678772527592505536816423392690</th>\n",
       "      <td id=\"T_087b6_row10_col0\" class=\"data row10 col0\" >['https://www.rockwellautomation.com/products/details.150-C85FBD', 'https://www.rockwellautomation.com/products/details.150-C3FBD', 'https://www.rockwellautomation.com/products/hardware/allen-bradley/sensors-and-switches/presence-sensors/photoelectric-sensors/background-suppression-photoelectric-sensors/42ba-short-range', 'https://www.rockwellautomation.com/products/hardware/allen-bradley/sensors-and-switches/presence-sensors/photoelectric-sensors/background-suppression-photoelectric-sensors', 'https://www.rockwellautomation.com/products/hardware/allen-bradley/sensors-and-switches/presence-sensors/photoelectric-sensors', 'https://www.rockwellautomation.com/products/hardware/allen-bradley/sensors-and-switches/presence-sensors/inductive-proximity-sensors', 'https://www.rockwellautomation.com/products/hardware/allen-bradley/sensors-and-switches/presence-sensors/ultrasonic-sensors', 'https://www.rockwellautomation.com/products/hardware/allen-bradley/sensors-and-switches/presence-sensors/capacitive-proximity', 'https://www.rockwellautomation.com/products/hardware/allen-bradley/sensors-and-switches/presence-sensors/photoelectric-sensors/general-purpose-photoelectric-sensors', 'https://www.rockwellautomation.com/products/hardware/allen-bradley/sensors-and-switches/presence-sensors/photoelectric-sensors/clear-object-detection-photoelectric-sensors', 'https://www.rockwellautomation.com/products/hardware/allen-bradley/sensors-and-switches/presence-sensors/photoelectric-sensors/general-purpose-photoelectric-sensors/42ef-rightsight', 'https://www.rockwellautomation.com/products/hardware/allen-bradley/sensors-and-switches/presence-sensors/photoelectric-sensors', 'https://www.rockwellautomation.com/products/hardware/allen-bradley/sensors-and-switches/presence-sensors/photoelectric-sensors/general-purpose-photoelectric-sensors', 'https://www.rockwellautomation.com/products/hardware/allen-bradley/sensors-and-switches/presence-sensors/photoelectric-sensors/general-purpose-photoelectric-sensors/42ef-rightsight', 'https://www.rockwellautomation.com/products/hardware/allen-bradley/sensors-and-switches/presence-sensors/photoelectric-sensors/background-suppression-photoelectric-sensors/42ba-short-range', 'https://www.rockwellautomation.com/products/hardware/allen-bradley/sensors-and-switches/presence-sensors/photoelectric-sensors/background-suppression-photoelectric-sensors', 'https://www.rockwellautomation.com/products/hardware/allen-bradley/sensors-and-switches/presence-sensors/photoelectric-sensors', 'https://www.rockwellautomation.com/products/hardware/allen-bradley/sensors-and-switches/presence-sensors/photoelectric-sensors/general-purpose-photoelectric-sensors', 'https://www.rockwellautomation.com/products/hardware/allen-bradley/sensors-and-switches/presence-sensors/photoelectric-sensors/general-purpose-photoelectric-sensors/42ef-rightsight', 'https://www.rockwellautomation.com/products/details.42AF-P2CHB1-A2', 'https://www.rockwellautomation.com/products/hardware/allen-bradley/sensors-and-switches/presence-sensors/photoelectric-sensors/general-purpose-photoelectric-sensors/42af-long-range', 'https://www.rockwellautomation.com/products/hardware/allen-bradley/sensors-and-switches/presence-sensors/photoelectric-sensors/color-and-contrast-photoelectric-sensors']</td>\n",
       "      <td id=\"T_087b6_row10_col1\" class=\"data row10 col1\" >False</td>\n",
       "    </tr>\n",
       "    <tr>\n",
       "      <th id=\"T_087b6_level0_row11\" class=\"row_heading level0 row11\" >07392873155635569581006645105226114718</th>\n",
       "      <td id=\"T_087b6_row11_col0\" class=\"data row11 col0\" >['https://www.rockwellautomation.com/capabilities/industrial-automation-control', 'https://www.rockwellautomation.com/products/hardware/allen-bradley/software-products', 'https://www.rockwellautomation.com/products/hardware/allen-bradley/software-products/industrial-automation-software', 'https://www.rockwellautomation.com/products/hardware/allen-bradley/programmable-controllers/all-products', 'https://www.rockwellautomation.com/products/hardware/allen-bradley/programmable-controllers/all-products', 'https://www.rockwellautomation.com/products/hardware/allen-bradley/programmable-controllers/micro-controllers/micro800-family/micro810-controllers', 'https://www.rockwellautomation.com/capabilities/industrial-automation-control/design-and-configuration-software/ccw-software-training-videos', 'https://www.rockwellautomation.com/support/product/product-downloads/application-code-library/sample-code', 'https://www.rockwellautomation.com/products/hardware/allen-bradley/programmable-controllers/all-products', 'https://www.rockwellautomation.com/products/hardware/allen-bradley/software-products', 'https://www.rockwellautomation.com/products/hardware/allen-bradley/software-products/industrial-automation-software']</td>\n",
       "      <td id=\"T_087b6_row11_col1\" class=\"data row11 col1\" >False</td>\n",
       "    </tr>\n",
       "    <tr>\n",
       "      <th id=\"T_087b6_level0_row12\" class=\"row_heading level0 row12\" >00438193986684318752809627067890482400</th>\n",
       "      <td id=\"T_087b6_row12_col0\" class=\"data row12 col0\" >['https://www.rockwellautomation.com/capabilities/industrial-safety-solutions', 'https://www.rockwellautomation.com/capabilities/industrial-safety-solutions/safety-automation-builder', 'https://www.rockwellautomation.com/capabilities/industrial-safety-solutions/safety-system-development-tools', 'https://www.rockwellautomation.com/capabilities/industrial-safety-solutions/safety-automation-builder/safety-automation-builder-overview', 'https://www.rockwellautomation.com/capabilities/industrial-safety-solutions/risk-assess-software-tool', 'https://www.rockwellautomation.com/capabilities/industrial-safety-solutions', 'https://www.rockwellautomation.com/capabilities/industrial-safety-solutions']</td>\n",
       "      <td id=\"T_087b6_row12_col1\" class=\"data row12 col1\" >False</td>\n",
       "    </tr>\n",
       "    <tr>\n",
       "      <th id=\"T_087b6_level0_row13\" class=\"row_heading level0 row13\" >05157800294916548170706657720702050861</th>\n",
       "      <td id=\"T_087b6_row13_col0\" class=\"data row13 col0\" >['https://www.rockwellautomation.com/products/software', 'https://www.rockwellautomation.com/products/hardware/allen-bradley/programmable-controllers/small-controllers/compactlogix-family/compactlogix-5370-controllers', 'https://www.rockwellautomation.com/products/software/factorytalk/designsuite/studio-5000', 'https://www.rockwellautomation.com/products/software/factorytalk/designsuite/studio-5000/studio-5000-logix-designer', 'https://www.rockwellautomation.com/products/software', 'https://www.rockwellautomation.com/products/hardware/allen-bradley/programmable-controllers/small-controllers/compactlogix-family/compactlogix-5370-controllers', 'https://www.rockwellautomation.com/products/software/factorytalk/designsuite/logix-echo', 'https://www.rockwellautomation.com/tools/software-subscriptions-updated', 'https://www.rockwellautomation.com/products/software/factorytalk/operationsuite/thinmanager', 'https://www.rockwellautomation.com/support/documentation/overview/studio-5000-design-environment-overview', 'https://www.rockwellautomation.com/products/hardware/allen-bradley/programmable-controllers/small-controllers/compactlogix-family/compactlogix-5370-controllers', 'https://www.rockwellautomation.com/products/hardware/allen-bradley/programmable-controllers/small-controllers/compactlogix-family/compactlogix-5370-controllers', 'https://www.rockwellautomation.com/products/hardware/allen-bradley/programmable-controllers/small-controllers/compactlogix-family/compactlogix-5370-controllers', 'https://www.rockwellautomation.com/products/hardware/allen-bradley/programmable-controllers/small-controllers/compactlogix-family/compactlogix-5370-controllers', 'https://www.rockwellautomation.com/products/hardware/allen-bradley/i-o', 'https://www.rockwellautomation.com/products/software/factorytalk/designsuite/studio-5000', 'https://www.rockwellautomation.com/products/software', 'https://www.rockwellautomation.com/products/software/factorytalk/operationsuite/view', 'https://www.rockwellautomation.com/products/hardware/allen-bradley/i-o/chassis-based-i-o/5069-compact-i-o', 'https://www.rockwellautomation.com/support/documentation/overview/studio-5000-design-environment-overview']</td>\n",
       "      <td id=\"T_087b6_row13_col1\" class=\"data row13 col1\" >False</td>\n",
       "    </tr>\n",
       "    <tr>\n",
       "      <th id=\"T_087b6_level0_row14\" class=\"row_heading level0 row14\" >71833825962425859873447240678848913671</th>\n",
       "      <td id=\"T_087b6_row14_col0\" class=\"data row14 col0\" >['https://www.rockwellautomation.com/capabilities/industrial-automation-control', 'https://www.rockwellautomation.com/industries/aerospace', 'https://www.rockwellautomation.com/products/hardware/allen-bradley/human-machine-interface', 'https://www.rockwellautomation.com/company/events/in-person-events/automation-fair/activities', 'https://www.rockwellautomation.com/company/events/in-person-events/automation-fair/expo', 'https://www.rockwellautomation.com/products/hardware/allen-bradley/motion-control', 'https://www.rockwellautomation.com/company/events/in-person-events/automation-fair/learn', 'https://www.rockwellautomation.com/industries/aerospace', 'https://www.rockwellautomation.com/company/events/in-person-events/automation-fair/learn/sessions', 'https://www.rockwellautomation.com/products/hardware', 'https://www.rockwellautomation.com/products/hardware/independent-cart-technology', 'https://www.rockwellautomation.com/products/hardware/allen-bradley/packaged-solutions', 'https://www.rockwellautomation.com/company/events/in-person-events/automation-fair/partner-showcase-at-automation-fair-at-home', 'https://www.rockwellautomation.com/company/events/in-person-events/automation-fair/activities', 'https://www.rockwellautomation.com/company/events/in-person-events/automation-fair/executive-perspectives', 'https://www.rockwellautomation.com/capabilities/industrial-safety-solutions/machine-safety']</td>\n",
       "      <td id=\"T_087b6_row14_col1\" class=\"data row14 col1\" >False</td>\n",
       "    </tr>\n",
       "    <tr>\n",
       "      <th id=\"T_087b6_level0_row15\" class=\"row_heading level0 row15\" >83979208711551214632432874419507072323</th>\n",
       "      <td id=\"T_087b6_row15_col0\" class=\"data row15 col0\" >['https://www.rockwellautomation.com/products/software/factorytalk/designsuite/studio-5000', 'https://www.rockwellautomation.com/company/partnernetwork', 'https://www.rockwellautomation.com/company/partnernetwork/technology-partners', 'https://www.rockwellautomation.com/company/partnernetwork/technology-partners/apply', 'https://www.rockwellautomation.com/company/events/in-person-events/roklive', 'https://www.rockwellautomation.com/company/events/in-person-events/roklive/learn', 'https://www.rockwellautomation.com/company/events/in-person-events/roklive', 'https://www.rockwellautomation.com/company/events/in-person-events/roklive', 'https://www.rockwellautomation.com/company/events/in-person-events/roklive', 'https://www.rockwellautomation.com/company/events/in-person-events/roklive', 'https://www.rockwellautomation.com/company/events/in-person-events/roklive/attend', 'https://www.rockwellautomation.com/company/events/in-person-events/rockwell-automation-on-the-move', 'https://www.rockwellautomation.com/support/documentation', 'https://www.rockwellautomation.com/support/documentation/product-certifications', 'https://www.rockwellautomation.com/support/documentation/technical/programmable-controllers/process-programmable-controllers']</td>\n",
       "      <td id=\"T_087b6_row15_col1\" class=\"data row15 col1\" >False</td>\n",
       "    </tr>\n",
       "    <tr>\n",
       "      <th id=\"T_087b6_level0_row16\" class=\"row_heading level0 row16\" >02647195319727059583226614746444044954</th>\n",
       "      <td id=\"T_087b6_row16_col0\" class=\"data row16 col0\" >['https://www.rockwellautomation.com/products/details.2198-D057-ERS3', 'https://www.rockwellautomation.com/products/details.2711P-RDT10C', 'https://www.rockwellautomation.com/products/details.1783-ETAP2F', 'https://www.rockwellautomation.com/products/details.2711P-T10C4D2', 'https://www.rockwellautomation.com/support/product', 'https://www.rockwellautomation.com/products/details.20D-DL2-CKE1', 'https://www.rockwellautomation.com/products/details.20D-DL2-CKE2', 'https://www.rockwellautomation.com/products/details.20D-DL2-CKE1', 'https://www.rockwellautomation.com/products/details.22F-D1P5N113', 'https://www.rockwellautomation.com/products/details.1783-ETAP2F', 'https://www.rockwellautomation.com/products/details.100-B110NA3', 'https://www.rockwellautomation.com/products/details.1764-28BXB', 'https://www.rockwellautomation.com/products/software/factorytalk/operationsuite/communications/linx', 'https://www.rockwellautomation.com/products/details.100-C16KF01']</td>\n",
       "      <td id=\"T_087b6_row16_col1\" class=\"data row16 col1\" >False</td>\n",
       "    </tr>\n",
       "    <tr>\n",
       "      <th id=\"T_087b6_level0_row17\" class=\"row_heading level0 row17\" >28085878083172576901645951786092941095</th>\n",
       "      <td id=\"T_087b6_row17_col0\" class=\"data row17 col0\" >['https://www.rockwellautomation.com/products/hardware/allen-bradley/drives/low-voltage-ac-drives/architecture-drives/20f-powerflex-753', 'https://www.rockwellautomation.com/products/hardware/allen-bradley/drives/low-voltage-ac-drives/architecture-drives/20f-powerflex-753', 'https://www.rockwellautomation.com/company/news/blogs/cyber-fundamentals', 'https://www.rockwellautomation.com/products/details.440R-C23136', 'https://www.rockwellautomation.com/products/details.1420-V2P', 'https://www.rockwellautomation.com/company/events/in-person-events/automation-fair/learn/sessions', 'https://www.rockwellautomation.com/products/hardware/allen-bradley/drives/low-voltage-ac-drives/architecture-drives/20f-powerflex-753', 'https://www.rockwellautomation.com/company/events/in-person-events/automation-fair/learn', 'https://www.rockwellautomation.com/products/hardware/allen-bradley/human-machine-interface/graphic-terminals/2711p-panelview-plus-6-400', 'https://www.rockwellautomation.com/products/software/factorytalk/operationsuite/view/factorytalk-view-machine-edition', 'https://www.rockwellautomation.com/products/hardware/allen-bradley/sensors-and-switches/hazardous-location-switches/440-explosion-proof', 'https://www.rockwellautomation.com/products/details.837T-N1N14B10A-D4']</td>\n",
       "      <td id=\"T_087b6_row17_col1\" class=\"data row17 col1\" >False</td>\n",
       "    </tr>\n",
       "    <tr>\n",
       "      <th id=\"T_087b6_level0_row18\" class=\"row_heading level0 row18\" >88462424664688707041029783757024258629</th>\n",
       "      <td id=\"T_087b6_row18_col0\" class=\"data row18 col0\" >['https://www.rockwellautomation.com/support/product/microsoft-patch-qualifications', 'https://www.rockwellautomation.com/products/hardware/allen-bradley/programmable-controllers/small-controllers/compactlogix-family/compactlogix-5380-controllers', 'https://www.rockwellautomation.com/products/details.2711P-T10C4D8', 'https://www.rockwellautomation.com/products/hardware/allen-bradley/industrial-computers-monitors/hazardous-location-computers', 'https://www.rockwellautomation.com/products/hardware/allen-bradley/industrial-computers-monitors/hazardous-location-computers/6181x-display', 'https://www.rockwellautomation.com/products/details.2080-LC50-48QWB', 'https://www.rockwellautomation.com/company/about-us/contact-us', 'https://www.rockwellautomation.com/sales/unauthorized-products/security-labels']</td>\n",
       "      <td id=\"T_087b6_row18_col1\" class=\"data row18 col1\" >False</td>\n",
       "    </tr>\n",
       "    <tr>\n",
       "      <th id=\"T_087b6_level0_row19\" class=\"row_heading level0 row19\" >57422488834702836490090425720259099083</th>\n",
       "      <td id=\"T_087b6_row19_col0\" class=\"data row19 col0\" >['https://www.rockwellautomation.com/products/hardware/allen-bradley/connection-devices', 'https://www.rockwellautomation.com/products/hardware/allen-bradley/connection-devices/1492-i-o-wiring-systems', 'https://www.rockwellautomation.com/products/details.1492-MCAA135', 'https://www.rockwellautomation.com/products/details.1783-BMS10CGL', 'https://www.rockwellautomation.com/products/hardware/allen-bradley/push-buttons-and-signaling-devices/22-mm-operators--iec/800f-round-push-buttons', 'https://www.rockwellautomation.com/products/details.1606-XLE480EP', 'https://www.rockwellautomation.com/products/hardware/allen-bradley/drives/low-voltage-ac-drives/compact-drives/25b-powerflex-525', 'https://www.rockwellautomation.com/support/documentation/product-drawings']</td>\n",
       "      <td id=\"T_087b6_row19_col1\" class=\"data row19 col1\" >False</td>\n",
       "    </tr>\n",
       "    <tr>\n",
       "      <th id=\"T_087b6_level0_row20\" class=\"row_heading level0 row20\" >77517643511801598803522346768209975625</th>\n",
       "      <td id=\"T_087b6_row20_col0\" class=\"data row20 col0\" >['https://www.rockwellautomation.com/products/details.1492-PDE1183', 'https://www.rockwellautomation.com/products/details.440G-TZS21UTLH', 'https://www.rockwellautomation.com/products/details.440G-TZS21UTLH', 'https://www.rockwellautomation.com/products/details.2198-D032-ERS3', 'https://www.rockwellautomation.com/products/hardware/allen-bradley/energy-monitoring', 'https://www.rockwellautomation.com/products/hardware/allen-bradley/energy-monitoring', 'https://www.rockwellautomation.com/products/hardware/allen-bradley/energy-monitoring/1420-powermonitor-500', 'https://www.rockwellautomation.com/products/hardware/allen-bradley/energy-monitoring/1420-powermonitor-500']</td>\n",
       "      <td id=\"T_087b6_row20_col1\" class=\"data row20 col1\" >False</td>\n",
       "    </tr>\n",
       "    <tr>\n",
       "      <th id=\"T_087b6_level0_row21\" class=\"row_heading level0 row21\" >70860233924773287431139656030480890589</th>\n",
       "      <td id=\"T_087b6_row21_col0\" class=\"data row21 col0\" >['https://www.rockwellautomation.com/products/hardware/allen-bradley/network-security-and-infrastructure/ethernet-networks/stratix-5410-industrial', 'https://www.rockwellautomation.com/industries/mining-automation/mine-to-market', 'https://www.rockwellautomation.com/company/news/local-press-releases/harnessing-the-power-of-information-for-mine-to-market-visibility', 'https://www.rockwellautomation.com/products/software/factorytalk/innovationsuite/thingWorx-iiot-platform', 'https://www.rockwellautomation.com/products/software/factorytalk/innovationsuite/analytics', 'https://www.rockwellautomation.com/products/software/factorytalk/innovationsuite', 'https://www.rockwellautomation.com/industries/mining-automation/mine-to-market', 'https://www.rockwellautomation.com/products/hardware/allen-bradley/network-security-and-infrastructure/ethernet-networks', 'https://www.rockwellautomation.com/products/hardware/allen-bradley/network-security-and-infrastructure/process-instrumentation-networks', 'https://www.rockwellautomation.com/company/news/presentations/ethernet-ip-instrumentation-with-plantpax-process-automation-sys', 'https://www.rockwellautomation.com/products/hardware/allen-bradley/motor-control/motor-control-centers--low-voltage/centerline-2100-nema', 'https://www.rockwellautomation.com/industries/mining-automation/mineral-processing', 'https://www.rockwellautomation.com/industries/mining-automation/mine-to-market', 'https://www.rockwellautomation.com/products/details.1783-BMS10CGL', 'https://www.rockwellautomation.com/products/details.1783-BMS10CGL', 'https://www.rockwellautomation.com/products/details.5094-OW8I', 'https://www.rockwellautomation.com/products/details.1788-EN2PAR', 'https://www.rockwellautomation.com/products/hardware/allen-bradley/programmable-controllers/small-controllers/compactlogix-family/compactlogix-5380-controllers', 'https://www.rockwellautomation.com/products/hardware/allen-bradley/i-o/chassis-based-i-o/5069-compact-i-o', 'https://www.rockwellautomation.com/products/hardware/allen-bradley/i-o/chassis-based-i-o/1769-compact-i-o', 'https://www.rockwellautomation.com/products/details.5069-L340ERP', 'https://www.rockwellautomation.com/products/details.5069-L320ERP']</td>\n",
       "      <td id=\"T_087b6_row21_col1\" class=\"data row21 col1\" >False</td>\n",
       "    </tr>\n",
       "    <tr>\n",
       "      <th id=\"T_087b6_level0_row22\" class=\"row_heading level0 row22\" >17099406033311647121380326207509745500</th>\n",
       "      <td id=\"T_087b6_row22_col0\" class=\"data row22 col0\" >['https://www.rockwellautomation.com/company/events/webinars/iiot-applications-rapid-results', 'https://www.rockwellautomation.com/company/events/webinars/cip-security', 'https://www.rockwellautomation.com/company/events/webinars/cip-security-effects', 'https://www.rockwellautomation.com/rockwellsoftware/downloads/overview', 'https://www.rockwellautomation.com/rockwellsoftware/downloads', 'https://www.rockwellautomation.com/company/events/webinars/technology-partner-genius-webinar-with-control-station--inc---lo', 'https://www.rockwellautomation.com/company/events/webinars/technology-partner-genius-webinar-with-control-station--inc---lo', 'https://www.rockwellautomation.com/company/events/webinars/technology-partner-genius-webinar-with-control-station--inc---lo', 'https://www.rockwellautomation.com/company/events/webinars/technology-partner-genius-webinar-with-softing-inc-', 'https://www.rockwellautomation.com/company/events/webinars/modernize-intrinsically-safe-io-installations', 'https://www.rockwellautomation.com/company/events/webinars/manage-ics-cybersecurity-risk', 'https://www.rockwellautomation.com/company/events/webinars/technology-partner-genius-webinar-with-softing-inc-', 'https://www.rockwellautomation.com/company/events/webinars/modernize-intrinsically-safe-io-installations', 'https://www.rockwellautomation.com/company/events/webinars//techconnect-genius-webinar--subscription-portal-overview-', 'https://www.rockwellautomation.com/company/events/webinars/technology-partner-genius-webinar-with-hms-networks', 'https://www.rockwellautomation.com/company/events/webinars/technology-partner-genius-webinar-with-hms-networks', 'https://www.rockwellautomation.com/company/events/webinars/technology-partner-genius-webinar-with-hms-networks', 'https://www.rockwellautomation.com/company/events/webinars/technology-partner-genius-webinar-with-hms-networks', 'https://www.rockwellautomation.com/company/events/webinars/technology-partner-genius-webinar-with-hms-networks', 'https://www.rockwellautomation.com/company/events/webinars/navigate-ot-cyber-threat-landscape']</td>\n",
       "      <td id=\"T_087b6_row22_col1\" class=\"data row22 col1\" >False</td>\n",
       "    </tr>\n",
       "    <tr>\n",
       "      <th id=\"T_087b6_level0_row23\" class=\"row_heading level0 row23\" >79786767105736860352993125181455588426</th>\n",
       "      <td id=\"T_087b6_row23_col0\" class=\"data row23 col0\" >['https://www.rockwellautomation.com/company/about-us/contact-us', 'https://www.rockwellautomation.com/company/about-us/contact-us', 'https://www.rockwellautomation.com/products/hardware/allen-bradley/relays-and-timers/nema-industrial-relays/700-p-heavy-duty-relays', 'https://www.rockwellautomation.com/products/details.700-P400A2', 'https://www.rockwellautomation.com/products/details.440R-E23097', 'https://www.rockwellautomation.com/products/hardware/allen-bradley/power-supplies/switched-mode-power-supplies/1606-xls-performance']</td>\n",
       "      <td id=\"T_087b6_row23_col1\" class=\"data row23 col1\" >False</td>\n",
       "    </tr>\n",
       "    <tr>\n",
       "      <th id=\"T_087b6_level0_row24\" class=\"row_heading level0 row24\" >48125571388607832433679338575551936100</th>\n",
       "      <td id=\"T_087b6_row24_col0\" class=\"data row24 col0\" >['https://www.rockwellautomation.com/products/hardware/allen-bradley/motor-control/contactors/iec-contactors/iec-safety-contactors', 'https://www.rockwellautomation.com/products/details.1585D-M4DC-SH', 'https://www.rockwellautomation.com/products/details.1585J-M8CC-H', 'https://www.rockwellautomation.com/products/details.1585J-M8CC-H', 'https://www.rockwellautomation.com/products/details.1585J-M8CC-H', 'https://www.rockwellautomation.com/products/software/factorytalk/designsuite/studio-5000/studio-5000-logix-designer', 'https://www.rockwellautomation.com/products/details.1606-XLS960E', 'https://www.rockwellautomation.com/products/details.1606-XLS960F-3', 'https://www.rockwellautomation.com/products/details.1606-XLS480F-3', 'https://www.rockwellautomation.com/products/details.1606-XLE960MX-3N', 'https://www.rockwellautomation.com/products/details.1585D-D4TBJM-3']</td>\n",
       "      <td id=\"T_087b6_row24_col1\" class=\"data row24 col1\" >False</td>\n",
       "    </tr>\n",
       "    <tr>\n",
       "      <th id=\"T_087b6_level0_row25\" class=\"row_heading level0 row25\" >62220884203824223502078716331663030313</th>\n",
       "      <td id=\"T_087b6_row25_col0\" class=\"data row25 col0\" >['https://www.rockwellautomation.com/products/software', 'https://www.rockwellautomation.com/products/software/factorytalk/operationsuite/view', 'https://www.rockwellautomation.com/products/software', 'https://www.rockwellautomation.com/products/software/factorytalk/designsuite/studio-5000', 'https://www.rockwellautomation.com/products/software/factorytalk/designsuite/studio-5000/studio-5000-logix-designer', 'https://www.rockwellautomation.com/products/details.2711P-T15C22D9P', 'https://www.rockwellautomation.com/products/details.2711P-T15C22D9P', 'https://www.rockwellautomation.com/products/details.2711P-T15C22D9P', 'https://www.rockwellautomation.com/products/software/factorytalk/operationsuite/communications/linx', 'https://www.rockwellautomation.com/products/details.2711P-T15C22D9P', 'https://www.rockwellautomation.com/support/training']</td>\n",
       "      <td id=\"T_087b6_row25_col1\" class=\"data row25 col1\" >False</td>\n",
       "    </tr>\n",
       "    <tr>\n",
       "      <th id=\"T_087b6_level0_row26\" class=\"row_heading level0 row26\" >44134410928902143650056713391483799276</th>\n",
       "      <td id=\"T_087b6_row26_col0\" class=\"data row26 col0\" >['https://www.rockwellautomation.com/products/details.842E-SIP2BA', 'https://www.rockwellautomation.com/company/events/in-person-events/automation-fair/learn/sessions', 'https://www.rockwellautomation.com/company/events/in-person-events/automation-fair/learn/sessions', 'https://www.rockwellautomation.com/company/events/in-person-events/automation-fair/attend', 'https://www.rockwellautomation.com/company/events/in-person-events/automation-fair/learn/sessions', 'https://www.rockwellautomation.com/products/details.817S-PTC-48', 'https://www.rockwellautomation.com/company/events/in-person-events/automation-fair/attend', 'https://www.rockwellautomation.com/products/details.1756-IF4FXOF2F']</td>\n",
       "      <td id=\"T_087b6_row26_col1\" class=\"data row26 col1\" >False</td>\n",
       "    </tr>\n",
       "    <tr>\n",
       "      <th id=\"T_087b6_level0_row27\" class=\"row_heading level0 row27\" >08661747195951067001209286129337101933</th>\n",
       "      <td id=\"T_087b6_row27_col0\" class=\"data row27 col0\" >['https://www.rockwellautomation.com/products/details.1734-IB8', 'https://www.rockwellautomation.com/products/details.1756-IB16S', 'https://www.rockwellautomation.com/products/software/factorytalk/maintenancesuite/assetcentre', 'https://www.rockwellautomation.com/company/news/the-journal/pid-control-tuning-software-handles-complex-work', 'https://www.rockwellautomation.com/products/software/factorytalk/operationsuite/thinmanager']</td>\n",
       "      <td id=\"T_087b6_row27_col1\" class=\"data row27 col1\" >True</td>\n",
       "    </tr>\n",
       "    <tr>\n",
       "      <th id=\"T_087b6_level0_row28\" class=\"row_heading level0 row28\" >62573737264240532364145334304439343359</th>\n",
       "      <td id=\"T_087b6_row28_col0\" class=\"data row28 col0\" >['https://www.rockwellautomation.com/campaigns/es/Capabilities/smart-manufacturing/guiaparamanufacturainteligente/whitepaper-para-adoptar-manufactura-inteligente', 'https://www.rockwellautomation.com/products/hardware/allen-bradley/programmable-controllers/micro-controllers/micro800-family/micro850-controllers', 'https://www.rockwellautomation.com/capabilities/industrial-automation-control/design-and-configuration-software', 'https://www.rockwellautomation.com/products/hardware/allen-bradley/human-machine-interface/graphic-terminals/2711r-panelview-800/panelview-800-training-videos', 'https://www.rockwellautomation.com/capabilities/industrial-automation-control/design-and-configuration-software', 'https://www.rockwellautomation.com/capabilities/industrial-automation-control/design-and-configuration-software/ccw-software-training-videos', 'https://www.rockwellautomation.com/products/hardware/allen-bradley/human-machine-interface/graphic-terminals/2711r-panelview-800', 'https://www.rockwellautomation.com/capabilities/industrial-automation-control/design-and-configuration-software', 'https://www.rockwellautomation.com/capabilities/industrial-automation-control/design-and-configuration-software/ccw-software-training-videos', 'https://www.rockwellautomation.com/products/hardware/allen-bradley/human-machine-interface/graphic-terminals/2711r-panelview-800', 'https://www.rockwellautomation.com/products/hardware/allen-bradley/human-machine-interface/graphic-terminals/2711r-panelview-800/panelview-800-training-videos', 'https://www.rockwellautomation.com/capabilities/industrial-automation-control/design-and-configuration-software/ccw-software-training-videos', 'https://www.rockwellautomation.com/products/hardware/allen-bradley/human-machine-interface/graphic-terminals/2711r-panelview-800/panelview-800-training-videos', 'https://www.rockwellautomation.com/capabilities/industrial-automation-control/design-and-configuration-software/ccw-software-training-videos']</td>\n",
       "      <td id=\"T_087b6_row28_col1\" class=\"data row28 col1\" >False</td>\n",
       "    </tr>\n",
       "    <tr>\n",
       "      <th id=\"T_087b6_level0_row29\" class=\"row_heading level0 row29\" >20280156979379073522223865701031919482</th>\n",
       "      <td id=\"T_087b6_row29_col0\" class=\"data row29 col0\" >['https://www.rockwellautomation.com/products/details.889D-F8AB-10', 'https://www.rockwellautomation.com/products/details.MPL-B580J-MJ72AA', 'https://www.rockwellautomation.com/products/hardware/allen-bradley/motion-control/servo-drives/multi-axis-control/2198-kinetix-5700-ethernet-ip', 'https://www.rockwellautomation.com/products/details.836T-T252JX40', 'https://www.rockwellautomation.com/products/details.836T-T252JX40']</td>\n",
       "      <td id=\"T_087b6_row29_col1\" class=\"data row29 col1\" >False</td>\n",
       "    </tr>\n",
       "  </tbody>\n",
       "</table>\n"
      ],
      "text/plain": [
       "<pandas.io.formats.style.Styler at 0x7f743c9675e0>"
      ]
     },
     "execution_count": 527,
     "metadata": {},
     "output_type": "execute_result"
    }
   ],
   "source": [
    "samples_checking = data[data[\"features\"].transform(len)<5000]\n",
    "seeds= 10\n",
    "samples_30 = samples_checking.assign(features_seq = samples_checking[\"features\"].transform(lambda x: x.split(\"$\"))).sample(30, random_state=seeds)\n",
    "samples_30[[\"features_seq\", \"label\"]].style"
   ]
  },
  {
   "cell_type": "code",
   "execution_count": null,
   "id": "4f07e097",
   "metadata": {},
   "outputs": [],
   "source": []
  },
  {
   "cell_type": "code",
   "execution_count": 499,
   "id": "dccfbe05",
   "metadata": {
    "ExecuteTime": {
     "end_time": "2022-12-15T21:51:41.490726Z",
     "start_time": "2022-12-15T21:51:41.317494Z"
    }
   },
   "outputs": [
    {
     "name": "stdout",
     "output_type": "stream",
     "text": [
      "pos vs neg in training set: Counter({False: 66446, True: 4143})\n",
      "training sample label proportion: Counter({False: 53157, True: 3314})\n",
      "testing sample label proportion: Counter({False: 13289, True: 829})\n",
      "after up/down-sampling, testing sample label proportion: Counter({False: 53157, True: 53157})\n"
     ]
    }
   ],
   "source": [
    "print(\"pos vs neg in training set:\",  Counter(data[\"label\"]))\n",
    "X_train, X_test, y_train, y_test = train_test_split(data[\"features\"], data[\"label\"], test_size=TEST_SIZE, stratify=data[\"label\"].values, random_state=SEED)\n",
    "print(\"training sample label proportion:\", Counter(y_train))\n",
    "print(\"testing sample label proportion:\", Counter(y_test))\n",
    "\n",
    "## down-sampling/up-sampling\n",
    "data_train = pd.concat([X_train, y_train], axis=1)\n",
    "# pos_size = y_train.sum()\n",
    "# data_train = data_train.groupby('label', group_keys=False).apply(lambda x: x.sample(pos_size, replace=False))\n",
    "neg_size = (~y_train).sum()\n",
    "data_train = data_train.groupby('label', group_keys=False).apply(lambda x: x.sample(neg_size, replace=True))\n",
    "X_train = data_train[\"features\"]\n",
    "y_train = data_train[\"label\"]\n",
    "print(\"after up/down-sampling, testing sample label proportion:\", Counter(y_train))"
   ]
  },
  {
   "cell_type": "code",
   "execution_count": 522,
   "id": "d74f2323",
   "metadata": {
    "ExecuteTime": {
     "end_time": "2022-12-15T21:58:54.226666Z",
     "start_time": "2022-12-15T21:58:50.343946Z"
    }
   },
   "outputs": [
    {
     "name": "stdout",
     "output_type": "stream",
     "text": [
      "feature dimension 11761 with min_df = 5 max_df = 0.99\n"
     ]
    }
   ],
   "source": [
    "MIN_DF = 5\n",
    "MAX_DF = 0.99\n",
    "vectorizer = TfidfVectorizer(token_pattern=SEP_TOKEN_PATTERN, binary=False, max_df=MAX_DF, min_df=MIN_DF,dtype=np.float64)\n",
    "\n",
    "X_train_arr = vectorizer.fit_transform(X_train)\n",
    "X_test_arr = vectorizer.transform(X_test)\n",
    "print(f\"feature dimension {len(vectorizer.get_feature_names())} with min_df = {MIN_DF} max_df = {MAX_DF}\")"
   ]
  },
  {
   "cell_type": "code",
   "execution_count": 501,
   "id": "8d3d85ae",
   "metadata": {
    "ExecuteTime": {
     "end_time": "2022-12-15T21:51:43.434102Z",
     "start_time": "2022-12-15T21:51:43.431557Z"
    }
   },
   "outputs": [],
   "source": [
    "# vectorizer.get_feature_names() # others = assign zero"
   ]
  },
  {
   "cell_type": "markdown",
   "id": "0ebf5676",
   "metadata": {},
   "source": [
    "### Models"
   ]
  },
  {
   "cell_type": "markdown",
   "id": "4cada077",
   "metadata": {},
   "source": [
    "#### dimension reduction\n",
    "- for improve prediction accuracy only, not assigning weight"
   ]
  },
  {
   "cell_type": "code",
   "execution_count": 502,
   "id": "44019d7d",
   "metadata": {
    "ExecuteTime": {
     "end_time": "2022-12-15T21:51:43.437910Z",
     "start_time": "2022-12-15T21:51:43.435480Z"
    }
   },
   "outputs": [],
   "source": [
    "from sklearn.decomposition import TruncatedSVD\n",
    "from sklearn.manifold import TSNE\n",
    "import seaborn as sns\n",
    "from matplotlib import colors"
   ]
  },
  {
   "cell_type": "code",
   "execution_count": 503,
   "id": "0b7258c7",
   "metadata": {
    "ExecuteTime": {
     "end_time": "2022-12-15T21:51:43.441687Z",
     "start_time": "2022-12-15T21:51:43.439914Z"
    }
   },
   "outputs": [],
   "source": [
    "# pca = TruncatedSVD(n_components=3)\n",
    "# pca_result = pca.fit_transform(X_train_arr)\n",
    "# vis = pd.DataFrame()\n",
    "# vis['pca-one'] = pca_result[:,0]\n",
    "# vis['pca-two'] = pca_result[:,1] \n",
    "# vis['pca-three'] = pca_result[:,2]\n",
    "# vis[\"y\"]= y_train\n",
    "# print('Explained variation per principal component: {}'.format(pca.explained_variance_ratio_))"
   ]
  },
  {
   "cell_type": "code",
   "execution_count": 504,
   "id": "169c9ed9",
   "metadata": {
    "ExecuteTime": {
     "end_time": "2022-12-15T21:51:43.452908Z",
     "start_time": "2022-12-15T21:51:43.442588Z"
    }
   },
   "outputs": [],
   "source": [
    "# ax = plt.figure(figsize=(16,10)).gca(projection='3d')\n",
    "# ax.scatter(\n",
    "#     xs=vis[\"pca-one\"], \n",
    "#     ys=vis[\"pca-two\"], \n",
    "#     zs=vis[\"pca-three\"], \n",
    "#     c=vis[\"y\"], \n",
    "#     cmap='tab10'\n",
    "# )\n",
    "# ax.set_xlabel('pca-one')\n",
    "# ax.set_ylabel('pca-two')\n",
    "# ax.set_zlabel('pca-three')\n",
    "# plt.show()"
   ]
  },
  {
   "cell_type": "code",
   "execution_count": 505,
   "id": "998336a8",
   "metadata": {
    "ExecuteTime": {
     "end_time": "2022-12-15T21:51:43.456139Z",
     "start_time": "2022-12-15T21:51:43.454138Z"
    },
    "scrolled": true
   },
   "outputs": [],
   "source": [
    "# data_subset = data.sample(50000, random_state=22 )\n",
    "# tsne = TSNE(n_components=3, verbose=1, perplexity=40, n_iter=250)\n",
    "# tsne_results = tsne.fit_transform(vectorizer.transform(data_subset[\"features\"]))\n",
    "\n",
    "# data_subset['tsne-3d-one'] = tsne_results[:,0]\n",
    "# data_subset['tsne-3d-two'] = tsne_results[:,1]\n",
    "# data_subset['tsne-3d-three'] = tsne_results[:,2]\n",
    "\n",
    "# ax = plt.figure(figsize=(16,10)).gca(projection='3d')\n",
    "# ax.scatter(\n",
    "#     xs=data_subset['tsne-3d-one'],\n",
    "#     ys=data_subset['tsne-3d-two'],\n",
    "#     zs=data_subset['tsne-3d-three'],\n",
    "#     c=data_subset[\"label\"], \n",
    "#     cmap=colors.ListedColormap(['blue', 'red'])\n",
    "# )\n",
    "# ax.set_xlabel('tsne-3d-one')\n",
    "# ax.set_ylabel('tsne-3d-two')\n",
    "# ax.set_zlabel('tsne-3d-three')\n",
    "# plt.show()\n",
    "# data_subset[\"label\"].value_counts()"
   ]
  },
  {
   "cell_type": "markdown",
   "id": "844852d5",
   "metadata": {},
   "source": [
    "#### LR"
   ]
  },
  {
   "cell_type": "code",
   "execution_count": 523,
   "id": "93e33028",
   "metadata": {
    "ExecuteTime": {
     "end_time": "2022-12-15T21:58:59.830605Z",
     "start_time": "2022-12-15T21:58:57.972844Z"
    }
   },
   "outputs": [
    {
     "name": "stdout",
     "output_type": "stream",
     "text": [
      "              precision    recall  f1-score   support\n",
      "\n",
      "       False       0.96      0.77      0.85     13289\n",
      "        True       0.11      0.46      0.18       829\n",
      "\n",
      "    accuracy                           0.75     14118\n",
      "   macro avg       0.53      0.61      0.51     14118\n",
      "weighted avg       0.91      0.75      0.81     14118\n",
      "\n"
     ]
    },
    {
     "data": {
      "image/png": "[encoded data removed]",
      "text/plain": [
       "<Figure size 432x288 with 2 Axes>"
      ]
     },
     "metadata": {
      "needs_background": "light"
     },
     "output_type": "display_data"
    },
    {
     "name": "stdout",
     "output_type": "stream",
     "text": [
      "AUC: 61.41%, PRC: 30.17%\n"
     ]
    }
   ],
   "source": [
    "model = LogisticRegression()\n",
    "model.fit(X_train_arr, y_train)\n",
    "# model.coef_\n",
    "y_pred = model.predict(X_test_arr)\n",
    "evaluate_metrics(y_test, y_pred, show_plots = True)"
   ]
  },
  {
   "cell_type": "markdown",
   "id": "be5dd6b0",
   "metadata": {},
   "source": [
    "#### svm (x)\n",
    "- no weight but only predict prob "
   ]
  },
  {
   "cell_type": "code",
   "execution_count": 524,
   "id": "04e33c66",
   "metadata": {
    "ExecuteTime": {
     "end_time": "2022-12-15T21:59:01.043558Z",
     "start_time": "2022-12-15T21:58:59.832405Z"
    }
   },
   "outputs": [
    {
     "name": "stdout",
     "output_type": "stream",
     "text": [
      "              precision    recall  f1-score   support\n",
      "\n",
      "       False       0.95      0.79      0.87     13289\n",
      "        True       0.11      0.39      0.17       829\n",
      "\n",
      "    accuracy                           0.77     14118\n",
      "   macro avg       0.53      0.59      0.52     14118\n",
      "weighted avg       0.90      0.77      0.83     14118\n",
      "\n"
     ]
    },
    {
     "data": {
      "image/png": "[encoded data removed]",
      "text/plain": [
       "<Figure size 432x288 with 2 Axes>"
      ]
     },
     "metadata": {
      "needs_background": "light"
     },
     "output_type": "display_data"
    },
    {
     "name": "stdout",
     "output_type": "stream",
     "text": [
      "AUC: 59.21%, PRC: 26.56%\n"
     ]
    }
   ],
   "source": [
    "svm_clf = svm.LinearSVC(C=1)\n",
    "svm_clf.fit(X_train_arr, y_train)\n",
    "y_pred = svm_clf.predict(X_test_arr)\n",
    "evaluate_metrics(y_test, y_pred, show_plots = True)"
   ]
  },
  {
   "cell_type": "markdown",
   "id": "f59ab946",
   "metadata": {},
   "source": [
    "#### naive bayes\n",
    "- $\\theta_{yi}$ is the probability $P(x_i \\mid y)$ of feature i appearing in a sample belonging to class y."
   ]
  },
  {
   "cell_type": "code",
   "execution_count": 525,
   "id": "4efd0d6c",
   "metadata": {
    "ExecuteTime": {
     "end_time": "2022-12-15T21:59:01.211714Z",
     "start_time": "2022-12-15T21:59:01.044638Z"
    }
   },
   "outputs": [
    {
     "name": "stdout",
     "output_type": "stream",
     "text": [
      "              precision    recall  f1-score   support\n",
      "\n",
      "       False       0.96      0.74      0.84     13289\n",
      "        True       0.11      0.50      0.18       829\n",
      "\n",
      "    accuracy                           0.73     14118\n",
      "   macro avg       0.53      0.62      0.51     14118\n",
      "weighted avg       0.91      0.73      0.80     14118\n",
      "\n"
     ]
    },
    {
     "data": {
      "image/png": "[encoded data removed]",
      "text/plain": [
       "<Figure size 432x288 with 2 Axes>"
      ]
     },
     "metadata": {
      "needs_background": "light"
     },
     "output_type": "display_data"
    },
    {
     "name": "stdout",
     "output_type": "stream",
     "text": [
      "AUC: 67.29%, PRC: 12.63%\n"
     ]
    }
   ],
   "source": [
    "clf = MultinomialNB().fit(X_train_arr, y_train)\n",
    "asset_prob = np.exp(clf.feature_log_prob_[0])\n",
    "# clf.feature_log_prob_[0]\n",
    "y_pred = (clf.predict_proba(X_test_arr))[:, 1]\n",
    "evaluate_metrics(y_test, y_pred, show_plots = True)"
   ]
  },
  {
   "cell_type": "markdown",
   "id": "a8e7c9b3",
   "metadata": {},
   "source": [
    "### <font color=red>cross validation</font>\n",
    "<img src=\"https://scikit-learn.org/stable/_images/grid_search_cross_validation.png\" width=\"300\"/>"
   ]
  },
  {
   "cell_type": "code",
   "execution_count": 526,
   "id": "259d3d5b",
   "metadata": {
    "ExecuteTime": {
     "end_time": "2022-12-15T21:59:01.593470Z",
     "start_time": "2022-12-15T21:59:01.213508Z"
    }
   },
   "outputs": [
    {
     "name": "stdout",
     "output_type": "stream",
     "text": [
      "0.79 accuracy with a standard deviation of 0.00\n"
     ]
    }
   ],
   "source": [
    "scores = cross_validate(clf, X_train_arr, y_train, cv=5)\n",
    "print(\"%0.2f accuracy with a standard deviation of %0.2f\" % (scores[\"test_score\"].mean(), scores[\"test_score\"].std()))"
   ]
  },
  {
   "cell_type": "markdown",
   "id": "83e5af7e",
   "metadata": {},
   "source": [
    "### Assign Weight\n",
    "- conditional prob"
   ]
  },
  {
   "cell_type": "code",
   "execution_count": 510,
   "id": "c0fdaca2",
   "metadata": {
    "ExecuteTime": {
     "end_time": "2022-12-15T21:51:46.334473Z",
     "start_time": "2022-12-15T21:51:46.332015Z"
    }
   },
   "outputs": [],
   "source": [
    "# log p(w|c=1) + log p(w|c=0)\n",
    "asset_prob = np.exp(clf.feature_log_prob_[0])"
   ]
  },
  {
   "cell_type": "code",
   "execution_count": 511,
   "id": "16b12430",
   "metadata": {
    "ExecuteTime": {
     "end_time": "2022-12-15T21:51:46.394346Z",
     "start_time": "2022-12-15T21:51:46.335568Z"
    }
   },
   "outputs": [],
   "source": [
    "weights = pd.DataFrame([vectorizer.get_feature_names(), asset_prob.tolist()]).T\n",
    "weights.columns = [\"asset\", \"weight\"]\n",
    "# weights.sort_values(by=\"weight\", ascending=False).style\n",
    "# weights = weights[weights[\"weight\"]>weights[\"weight\"].mean()]"
   ]
  },
  {
   "cell_type": "markdown",
   "id": "d490fddd",
   "metadata": {},
   "source": [
    "## Correlation"
   ]
  },
  {
   "cell_type": "code",
   "execution_count": 512,
   "id": "1ff0fc23",
   "metadata": {
    "ExecuteTime": {
     "end_time": "2022-12-15T21:51:46.397038Z",
     "start_time": "2022-12-15T21:51:46.395272Z"
    }
   },
   "outputs": [],
   "source": [
    "# mat2 = pd.DataFrame(np.hstack([y_train.reshape(-1,1), X_train_arr.toarray()]), columns=[\"y\"]+vectorizer.get_feature_names())\n",
    "# corr = mat2.corr().iloc[1:, 0:1].sort_values(\"y\")\n",
    "# corr.plot(kind=\"bar\")\n",
    "# corr"
   ]
  },
  {
   "cell_type": "code",
   "execution_count": 513,
   "id": "870fb372",
   "metadata": {
    "ExecuteTime": {
     "end_time": "2022-12-15T21:51:46.400075Z",
     "start_time": "2022-12-15T21:51:46.398264Z"
    }
   },
   "outputs": [],
   "source": [
    "# corr.style.background_gradient(cmap='coolwarm', axis=None)"
   ]
  },
  {
   "cell_type": "code",
   "execution_count": null,
   "id": "bb7a98c5",
   "metadata": {},
   "outputs": [],
   "source": []
  },
  {
   "cell_type": "markdown",
   "id": "b74392d1",
   "metadata": {},
   "source": [
    "## Weight Rescaling\n",
    "lowest level is 1, decide which one has higher importance score. start with 1"
   ]
  },
  {
   "cell_type": "code",
   "execution_count": 514,
   "id": "f0fb396f",
   "metadata": {
    "ExecuteTime": {
     "end_time": "2022-12-15T21:51:46.406826Z",
     "start_time": "2022-12-15T21:51:46.401347Z"
    }
   },
   "outputs": [
    {
     "data": {
      "text/plain": [
       "count   2994.00000\n",
       "mean       0.00033\n",
       "std        0.00077\n",
       "min        0.00001\n",
       "25%        0.00007\n",
       "50%        0.00012\n",
       "75%        0.00027\n",
       "max        0.01169\n",
       "Name: weight, dtype: float64"
      ]
     },
     "execution_count": 514,
     "metadata": {},
     "output_type": "execute_result"
    }
   ],
   "source": [
    "x = weights[\"weight\"].astype(float)\n",
    "x.describe()"
   ]
  },
  {
   "cell_type": "markdown",
   "id": "8eff53c7",
   "metadata": {
    "ExecuteTime": {
     "end_time": "2022-12-07T22:41:22.564446Z",
     "start_time": "2022-12-07T22:41:22.557939Z"
    }
   },
   "source": [
    "### Three levels (prefer)"
   ]
  },
  {
   "cell_type": "code",
   "execution_count": 515,
   "id": "11a12c84",
   "metadata": {
    "ExecuteTime": {
     "end_time": "2022-12-15T21:51:46.410360Z",
     "start_time": "2022-12-15T21:51:46.408118Z"
    }
   },
   "outputs": [],
   "source": [
    "num_levels = 3\n",
    "color_opts = ['lightskyblue', 'turquoise', 'orange', 'blue', 'red']"
   ]
  },
  {
   "cell_type": "code",
   "execution_count": 516,
   "id": "087e2056",
   "metadata": {
    "ExecuteTime": {
     "end_time": "2022-12-15T21:51:46.418654Z",
     "start_time": "2022-12-15T21:51:46.411524Z"
    }
   },
   "outputs": [],
   "source": [
    "xx = pd.concat([weights[\"asset\"], x, pd.cut(x, num_levels)], axis=1)\n",
    "xx.columns = [\"asset\", \"weight\", \"bins\"]\n",
    "xx[\"bins\"] = xx[\"bins\"].map(lambda x: f\"[{str(x.left)}, {str(x.right)}]\")\n",
    "bin_dict = sorted(xx[\"bins\"].unique().tolist())\n",
    "\n",
    "colors = dict(zip(bin_dict, color_opts[0:num_levels]))\n",
    "labels = dict(zip(bin_dict, range(1, len(bin_dict)+1)))"
   ]
  },
  {
   "cell_type": "code",
   "execution_count": 517,
   "id": "d7e531ca",
   "metadata": {
    "ExecuteTime": {
     "end_time": "2022-12-15T21:51:49.917210Z",
     "start_time": "2022-12-15T21:51:46.419696Z"
    }
   },
   "outputs": [
    {
     "data": {
      "image/png": "[encoded data removed]",
      "text/plain": [
       "<Figure size 1080x576 with 1 Axes>"
      ]
     },
     "metadata": {
      "needs_background": "light"
     },
     "output_type": "display_data"
    }
   ],
   "source": [
    "xx[\"color\"] = xx[\"bins\"].apply(lambda x: colors[x] if x in colors else \"NA\")\n",
    "xx[\"auto_score\"] = xx[\"bins\"].apply(lambda x: labels[x] if x in colors else \"NA\")\n",
    "\n",
    "plt.figure(figsize=(15,8))\n",
    "\n",
    "for idx, item in xx.groupby(\"bins\"):\n",
    "    if item.shape[0] ==0:\n",
    "        continue\n",
    "    plt.bar(x=item.index, height = item[\"weight\"], color=item[\"color\"], label=item[\"auto_score\"].iloc[0])\n",
    "\n",
    "for pair in bin_dict:\n",
    "    upper_line = eval(pair)[1]\n",
    "    plt.plot([0, xx.index[-1]],[upper_line,upper_line])\n",
    "\n",
    "    \n",
    "plt.xlabel(\"Asset Number\")\n",
    "plt.ylabel(\"Model Assign Weight\")\n",
    "plt.title(\"Asset auto standardized score\")\n",
    "plt.legend()\n",
    "plt.show()"
   ]
  },
  {
   "cell_type": "code",
   "execution_count": 518,
   "id": "253ae683",
   "metadata": {
    "ExecuteTime": {
     "end_time": "2022-12-15T21:51:49.925302Z",
     "start_time": "2022-12-15T21:51:49.918097Z"
    }
   },
   "outputs": [
    {
     "data": {
      "text/html": [
       "<div>\n",
       "<style scoped>\n",
       "    .dataframe tbody tr th:only-of-type {\n",
       "        vertical-align: middle;\n",
       "    }\n",
       "\n",
       "    .dataframe tbody tr th {\n",
       "        vertical-align: top;\n",
       "    }\n",
       "\n",
       "    .dataframe thead th {\n",
       "        text-align: right;\n",
       "    }\n",
       "</style>\n",
       "<table border=\"1\" class=\"dataframe\">\n",
       "  <thead>\n",
       "    <tr style=\"text-align: right;\">\n",
       "      <th></th>\n",
       "      <th>asset</th>\n",
       "      <th>auto_score</th>\n",
       "    </tr>\n",
       "  </thead>\n",
       "  <tbody>\n",
       "    <tr>\n",
       "      <th>0</th>\n",
       "      <td>https://www.rockwellautomation.com/404</td>\n",
       "      <td>2</td>\n",
       "    </tr>\n",
       "    <tr>\n",
       "      <th>1</th>\n",
       "      <td>https://www.rockwellautomation.com/campaigns/e...</td>\n",
       "      <td>1</td>\n",
       "    </tr>\n",
       "    <tr>\n",
       "      <th>2</th>\n",
       "      <td>https://www.rockwellautomation.com/campaigns/e...</td>\n",
       "      <td>1</td>\n",
       "    </tr>\n",
       "    <tr>\n",
       "      <th>3</th>\n",
       "      <td>https://www.rockwellautomation.com/campaigns/e...</td>\n",
       "      <td>1</td>\n",
       "    </tr>\n",
       "    <tr>\n",
       "      <th>4</th>\n",
       "      <td>https://www.rockwellautomation.com/campaigns/e...</td>\n",
       "      <td>1</td>\n",
       "    </tr>\n",
       "    <tr>\n",
       "      <th>...</th>\n",
       "      <td>...</td>\n",
       "      <td>...</td>\n",
       "    </tr>\n",
       "    <tr>\n",
       "      <th>2989</th>\n",
       "      <td>https://www.rockwellautomation.com/tools/myroc...</td>\n",
       "      <td>1</td>\n",
       "    </tr>\n",
       "    <tr>\n",
       "      <th>2990</th>\n",
       "      <td>https://www.rockwellautomation.com/tools/softw...</td>\n",
       "      <td>2</td>\n",
       "    </tr>\n",
       "    <tr>\n",
       "      <th>2991</th>\n",
       "      <td>https://www.rockwellautomation.com/tr-tr</td>\n",
       "      <td>1</td>\n",
       "    </tr>\n",
       "    <tr>\n",
       "      <th>2992</th>\n",
       "      <td>https://www.rockwellautomation.com/training</td>\n",
       "      <td>1</td>\n",
       "    </tr>\n",
       "    <tr>\n",
       "      <th>2993</th>\n",
       "      <td>https://www.rockwellautomation.com/zh-tw</td>\n",
       "      <td>1</td>\n",
       "    </tr>\n",
       "  </tbody>\n",
       "</table>\n",
       "<p>2994 rows × 2 columns</p>\n",
       "</div>"
      ],
      "text/plain": [
       "                                                  asset auto_score\n",
       "0                https://www.rockwellautomation.com/404          2\n",
       "1     https://www.rockwellautomation.com/campaigns/e...          1\n",
       "2     https://www.rockwellautomation.com/campaigns/e...          1\n",
       "3     https://www.rockwellautomation.com/campaigns/e...          1\n",
       "4     https://www.rockwellautomation.com/campaigns/e...          1\n",
       "...                                                 ...        ...\n",
       "2989  https://www.rockwellautomation.com/tools/myroc...          1\n",
       "2990  https://www.rockwellautomation.com/tools/softw...          2\n",
       "2991           https://www.rockwellautomation.com/tr-tr          1\n",
       "2992        https://www.rockwellautomation.com/training          1\n",
       "2993           https://www.rockwellautomation.com/zh-tw          1\n",
       "\n",
       "[2994 rows x 2 columns]"
      ]
     },
     "execution_count": 518,
     "metadata": {},
     "output_type": "execute_result"
    }
   ],
   "source": [
    "xx[[\"asset\", \"auto_score\"]]"
   ]
  },
  {
   "cell_type": "code",
   "execution_count": 519,
   "id": "aefe173b",
   "metadata": {
    "ExecuteTime": {
     "end_time": "2022-12-15T21:51:49.935219Z",
     "start_time": "2022-12-15T21:51:49.926784Z"
    }
   },
   "outputs": [
    {
     "data": {
      "text/html": [
       "<div>\n",
       "<style scoped>\n",
       "    .dataframe tbody tr th:only-of-type {\n",
       "        vertical-align: middle;\n",
       "    }\n",
       "\n",
       "    .dataframe tbody tr th {\n",
       "        vertical-align: top;\n",
       "    }\n",
       "\n",
       "    .dataframe thead th {\n",
       "        text-align: right;\n",
       "    }\n",
       "</style>\n",
       "<table border=\"1\" class=\"dataframe\">\n",
       "  <thead>\n",
       "    <tr style=\"text-align: right;\">\n",
       "      <th></th>\n",
       "      <th>asset</th>\n",
       "      <th>weight</th>\n",
       "      <th>bins</th>\n",
       "      <th>color</th>\n",
       "      <th>auto_score</th>\n",
       "    </tr>\n",
       "  </thead>\n",
       "  <tbody>\n",
       "    <tr>\n",
       "      <th>0</th>\n",
       "      <td>https://www.rockwellautomation.com/404</td>\n",
       "      <td>0.00771</td>\n",
       "      <td>[0.0039, 0.00779]</td>\n",
       "      <td>turquoise</td>\n",
       "      <td>2</td>\n",
       "    </tr>\n",
       "    <tr>\n",
       "      <th>11</th>\n",
       "      <td>https://www.rockwellautomation.com/capabilities</td>\n",
       "      <td>0.00396</td>\n",
       "      <td>[0.0039, 0.00779]</td>\n",
       "      <td>turquoise</td>\n",
       "      <td>2</td>\n",
       "    </tr>\n",
       "    <tr>\n",
       "      <th>35</th>\n",
       "      <td>https://www.rockwellautomation.com/capabilitie...</td>\n",
       "      <td>0.00967</td>\n",
       "      <td>[0.00779, 0.0117]</td>\n",
       "      <td>orange</td>\n",
       "      <td>3</td>\n",
       "    </tr>\n",
       "    <tr>\n",
       "      <th>152</th>\n",
       "      <td>https://www.rockwellautomation.com/capabilitie...</td>\n",
       "      <td>0.00472</td>\n",
       "      <td>[0.0039, 0.00779]</td>\n",
       "      <td>turquoise</td>\n",
       "      <td>2</td>\n",
       "    </tr>\n",
       "    <tr>\n",
       "      <th>157</th>\n",
       "      <td>https://www.rockwellautomation.com/company/abo...</td>\n",
       "      <td>0.01169</td>\n",
       "      <td>[0.00779, 0.0117]</td>\n",
       "      <td>orange</td>\n",
       "      <td>3</td>\n",
       "    </tr>\n",
       "    <tr>\n",
       "      <th>164</th>\n",
       "      <td>https://www.rockwellautomation.com/company/abo...</td>\n",
       "      <td>0.00596</td>\n",
       "      <td>[0.0039, 0.00779]</td>\n",
       "      <td>turquoise</td>\n",
       "      <td>2</td>\n",
       "    </tr>\n",
       "    <tr>\n",
       "      <th>561</th>\n",
       "      <td>https://www.rockwellautomation.com/es-mx</td>\n",
       "      <td>0.00468</td>\n",
       "      <td>[0.0039, 0.00779]</td>\n",
       "      <td>turquoise</td>\n",
       "      <td>2</td>\n",
       "    </tr>\n",
       "    <tr>\n",
       "      <th>1866</th>\n",
       "      <td>https://www.rockwellautomation.com/products/ha...</td>\n",
       "      <td>0.00399</td>\n",
       "      <td>[0.0039, 0.00779]</td>\n",
       "      <td>turquoise</td>\n",
       "      <td>2</td>\n",
       "    </tr>\n",
       "    <tr>\n",
       "      <th>2050</th>\n",
       "      <td>https://www.rockwellautomation.com/products/ha...</td>\n",
       "      <td>0.00589</td>\n",
       "      <td>[0.0039, 0.00779]</td>\n",
       "      <td>turquoise</td>\n",
       "      <td>2</td>\n",
       "    </tr>\n",
       "    <tr>\n",
       "      <th>2095</th>\n",
       "      <td>https://www.rockwellautomation.com/products/ha...</td>\n",
       "      <td>0.00483</td>\n",
       "      <td>[0.0039, 0.00779]</td>\n",
       "      <td>turquoise</td>\n",
       "      <td>2</td>\n",
       "    </tr>\n",
       "    <tr>\n",
       "      <th>2111</th>\n",
       "      <td>https://www.rockwellautomation.com/products/ha...</td>\n",
       "      <td>0.00458</td>\n",
       "      <td>[0.0039, 0.00779]</td>\n",
       "      <td>turquoise</td>\n",
       "      <td>2</td>\n",
       "    </tr>\n",
       "    <tr>\n",
       "      <th>2116</th>\n",
       "      <td>https://www.rockwellautomation.com/products/ha...</td>\n",
       "      <td>0.00518</td>\n",
       "      <td>[0.0039, 0.00779]</td>\n",
       "      <td>turquoise</td>\n",
       "      <td>2</td>\n",
       "    </tr>\n",
       "    <tr>\n",
       "      <th>2124</th>\n",
       "      <td>https://www.rockwellautomation.com/products/ha...</td>\n",
       "      <td>0.00423</td>\n",
       "      <td>[0.0039, 0.00779]</td>\n",
       "      <td>turquoise</td>\n",
       "      <td>2</td>\n",
       "    </tr>\n",
       "    <tr>\n",
       "      <th>2391</th>\n",
       "      <td>https://www.rockwellautomation.com/products/ha...</td>\n",
       "      <td>0.00859</td>\n",
       "      <td>[0.00779, 0.0117]</td>\n",
       "      <td>orange</td>\n",
       "      <td>3</td>\n",
       "    </tr>\n",
       "    <tr>\n",
       "      <th>2418</th>\n",
       "      <td>https://www.rockwellautomation.com/products/ha...</td>\n",
       "      <td>0.00409</td>\n",
       "      <td>[0.0039, 0.00779]</td>\n",
       "      <td>turquoise</td>\n",
       "      <td>2</td>\n",
       "    </tr>\n",
       "    <tr>\n",
       "      <th>2419</th>\n",
       "      <td>https://www.rockwellautomation.com/products/ha...</td>\n",
       "      <td>0.00473</td>\n",
       "      <td>[0.0039, 0.00779]</td>\n",
       "      <td>turquoise</td>\n",
       "      <td>2</td>\n",
       "    </tr>\n",
       "    <tr>\n",
       "      <th>2712</th>\n",
       "      <td>https://www.rockwellautomation.com/products/so...</td>\n",
       "      <td>0.01089</td>\n",
       "      <td>[0.00779, 0.0117]</td>\n",
       "      <td>orange</td>\n",
       "      <td>3</td>\n",
       "    </tr>\n",
       "    <tr>\n",
       "      <th>2735</th>\n",
       "      <td>https://www.rockwellautomation.com/products/so...</td>\n",
       "      <td>0.01013</td>\n",
       "      <td>[0.00779, 0.0117]</td>\n",
       "      <td>orange</td>\n",
       "      <td>3</td>\n",
       "    </tr>\n",
       "    <tr>\n",
       "      <th>2739</th>\n",
       "      <td>https://www.rockwellautomation.com/products/so...</td>\n",
       "      <td>0.00827</td>\n",
       "      <td>[0.00779, 0.0117]</td>\n",
       "      <td>orange</td>\n",
       "      <td>3</td>\n",
       "    </tr>\n",
       "    <tr>\n",
       "      <th>2781</th>\n",
       "      <td>https://www.rockwellautomation.com/products/so...</td>\n",
       "      <td>0.00544</td>\n",
       "      <td>[0.0039, 0.00779]</td>\n",
       "      <td>turquoise</td>\n",
       "      <td>2</td>\n",
       "    </tr>\n",
       "    <tr>\n",
       "      <th>2817</th>\n",
       "      <td>https://www.rockwellautomation.com/support/doc...</td>\n",
       "      <td>0.00607</td>\n",
       "      <td>[0.0039, 0.00779]</td>\n",
       "      <td>turquoise</td>\n",
       "      <td>2</td>\n",
       "    </tr>\n",
       "    <tr>\n",
       "      <th>2856</th>\n",
       "      <td>https://www.rockwellautomation.com/support/doc...</td>\n",
       "      <td>0.00650</td>\n",
       "      <td>[0.0039, 0.00779]</td>\n",
       "      <td>turquoise</td>\n",
       "      <td>2</td>\n",
       "    </tr>\n",
       "    <tr>\n",
       "      <th>2955</th>\n",
       "      <td>https://www.rockwellautomation.com/support/pro...</td>\n",
       "      <td>0.00468</td>\n",
       "      <td>[0.0039, 0.00779]</td>\n",
       "      <td>turquoise</td>\n",
       "      <td>2</td>\n",
       "    </tr>\n",
       "    <tr>\n",
       "      <th>2959</th>\n",
       "      <td>https://www.rockwellautomation.com/support/pro...</td>\n",
       "      <td>0.00472</td>\n",
       "      <td>[0.0039, 0.00779]</td>\n",
       "      <td>turquoise</td>\n",
       "      <td>2</td>\n",
       "    </tr>\n",
       "    <tr>\n",
       "      <th>2963</th>\n",
       "      <td>https://www.rockwellautomation.com/support/pro...</td>\n",
       "      <td>0.00640</td>\n",
       "      <td>[0.0039, 0.00779]</td>\n",
       "      <td>turquoise</td>\n",
       "      <td>2</td>\n",
       "    </tr>\n",
       "    <tr>\n",
       "      <th>2965</th>\n",
       "      <td>https://www.rockwellautomation.com/support/pro...</td>\n",
       "      <td>0.00494</td>\n",
       "      <td>[0.0039, 0.00779]</td>\n",
       "      <td>turquoise</td>\n",
       "      <td>2</td>\n",
       "    </tr>\n",
       "    <tr>\n",
       "      <th>2966</th>\n",
       "      <td>https://www.rockwellautomation.com/support/tra...</td>\n",
       "      <td>0.00696</td>\n",
       "      <td>[0.0039, 0.00779]</td>\n",
       "      <td>turquoise</td>\n",
       "      <td>2</td>\n",
       "    </tr>\n",
       "    <tr>\n",
       "      <th>2968</th>\n",
       "      <td>https://www.rockwellautomation.com/support/tra...</td>\n",
       "      <td>0.00820</td>\n",
       "      <td>[0.00779, 0.0117]</td>\n",
       "      <td>orange</td>\n",
       "      <td>3</td>\n",
       "    </tr>\n",
       "    <tr>\n",
       "      <th>2990</th>\n",
       "      <td>https://www.rockwellautomation.com/tools/softw...</td>\n",
       "      <td>0.00537</td>\n",
       "      <td>[0.0039, 0.00779]</td>\n",
       "      <td>turquoise</td>\n",
       "      <td>2</td>\n",
       "    </tr>\n",
       "  </tbody>\n",
       "</table>\n",
       "</div>"
      ],
      "text/plain": [
       "                                                  asset  weight  \\\n",
       "0                https://www.rockwellautomation.com/404 0.00771   \n",
       "11      https://www.rockwellautomation.com/capabilities 0.00396   \n",
       "35    https://www.rockwellautomation.com/capabilitie... 0.00967   \n",
       "152   https://www.rockwellautomation.com/capabilitie... 0.00472   \n",
       "157   https://www.rockwellautomation.com/company/abo... 0.01169   \n",
       "164   https://www.rockwellautomation.com/company/abo... 0.00596   \n",
       "561            https://www.rockwellautomation.com/es-mx 0.00468   \n",
       "1866  https://www.rockwellautomation.com/products/ha... 0.00399   \n",
       "2050  https://www.rockwellautomation.com/products/ha... 0.00589   \n",
       "2095  https://www.rockwellautomation.com/products/ha... 0.00483   \n",
       "2111  https://www.rockwellautomation.com/products/ha... 0.00458   \n",
       "2116  https://www.rockwellautomation.com/products/ha... 0.00518   \n",
       "2124  https://www.rockwellautomation.com/products/ha... 0.00423   \n",
       "2391  https://www.rockwellautomation.com/products/ha... 0.00859   \n",
       "2418  https://www.rockwellautomation.com/products/ha... 0.00409   \n",
       "2419  https://www.rockwellautomation.com/products/ha... 0.00473   \n",
       "2712  https://www.rockwellautomation.com/products/so... 0.01089   \n",
       "2735  https://www.rockwellautomation.com/products/so... 0.01013   \n",
       "2739  https://www.rockwellautomation.com/products/so... 0.00827   \n",
       "2781  https://www.rockwellautomation.com/products/so... 0.00544   \n",
       "2817  https://www.rockwellautomation.com/support/doc... 0.00607   \n",
       "2856  https://www.rockwellautomation.com/support/doc... 0.00650   \n",
       "2955  https://www.rockwellautomation.com/support/pro... 0.00468   \n",
       "2959  https://www.rockwellautomation.com/support/pro... 0.00472   \n",
       "2963  https://www.rockwellautomation.com/support/pro... 0.00640   \n",
       "2965  https://www.rockwellautomation.com/support/pro... 0.00494   \n",
       "2966  https://www.rockwellautomation.com/support/tra... 0.00696   \n",
       "2968  https://www.rockwellautomation.com/support/tra... 0.00820   \n",
       "2990  https://www.rockwellautomation.com/tools/softw... 0.00537   \n",
       "\n",
       "                   bins      color auto_score  \n",
       "0     [0.0039, 0.00779]  turquoise          2  \n",
       "11    [0.0039, 0.00779]  turquoise          2  \n",
       "35    [0.00779, 0.0117]     orange          3  \n",
       "152   [0.0039, 0.00779]  turquoise          2  \n",
       "157   [0.00779, 0.0117]     orange          3  \n",
       "164   [0.0039, 0.00779]  turquoise          2  \n",
       "561   [0.0039, 0.00779]  turquoise          2  \n",
       "1866  [0.0039, 0.00779]  turquoise          2  \n",
       "2050  [0.0039, 0.00779]  turquoise          2  \n",
       "2095  [0.0039, 0.00779]  turquoise          2  \n",
       "2111  [0.0039, 0.00779]  turquoise          2  \n",
       "2116  [0.0039, 0.00779]  turquoise          2  \n",
       "2124  [0.0039, 0.00779]  turquoise          2  \n",
       "2391  [0.00779, 0.0117]     orange          3  \n",
       "2418  [0.0039, 0.00779]  turquoise          2  \n",
       "2419  [0.0039, 0.00779]  turquoise          2  \n",
       "2712  [0.00779, 0.0117]     orange          3  \n",
       "2735  [0.00779, 0.0117]     orange          3  \n",
       "2739  [0.00779, 0.0117]     orange          3  \n",
       "2781  [0.0039, 0.00779]  turquoise          2  \n",
       "2817  [0.0039, 0.00779]  turquoise          2  \n",
       "2856  [0.0039, 0.00779]  turquoise          2  \n",
       "2955  [0.0039, 0.00779]  turquoise          2  \n",
       "2959  [0.0039, 0.00779]  turquoise          2  \n",
       "2963  [0.0039, 0.00779]  turquoise          2  \n",
       "2965  [0.0039, 0.00779]  turquoise          2  \n",
       "2966  [0.0039, 0.00779]  turquoise          2  \n",
       "2968  [0.00779, 0.0117]     orange          3  \n",
       "2990  [0.0039, 0.00779]  turquoise          2  "
      ]
     },
     "execution_count": 519,
     "metadata": {},
     "output_type": "execute_result"
    }
   ],
   "source": [
    "xx[xx[\"auto_score\"]>1]"
   ]
  },
  {
   "cell_type": "code",
   "execution_count": null,
   "id": "cd5daf32",
   "metadata": {},
   "outputs": [],
   "source": []
  },
  {
   "cell_type": "markdown",
   "id": "f98d7a3b",
   "metadata": {},
   "source": [
    "### min-max Normalization"
   ]
  },
  {
   "cell_type": "code",
   "execution_count": 520,
   "id": "eaddd466",
   "metadata": {
    "ExecuteTime": {
     "end_time": "2022-12-15T21:52:03.794376Z",
     "start_time": "2022-12-15T21:51:49.936474Z"
    }
   },
   "outputs": [
    {
     "data": {
      "text/plain": [
       "<AxesSubplot:>"
      ]
     },
     "execution_count": 520,
     "metadata": {},
     "output_type": "execute_result"
    },
    {
     "data": {
      "image/png": "[encoded data removed]",
      "text/plain": [
       "<Figure size 432x288 with 1 Axes>"
      ]
     },
     "metadata": {
      "needs_background": "light"
     },
     "output_type": "display_data"
    }
   ],
   "source": [
    "x = weights[\"weight\"].astype(float) \n",
    "x = (x-x.min())/(x.max()-x.min()) * 5\n",
    "x.plot(kind=\"bar\")"
   ]
  },
  {
   "cell_type": "markdown",
   "id": "a1cf9f47",
   "metadata": {},
   "source": [
    "### z-score Standardization"
   ]
  },
  {
   "cell_type": "code",
   "execution_count": 521,
   "id": "35dcd0eb",
   "metadata": {
    "ExecuteTime": {
     "end_time": "2022-12-15T21:52:16.630991Z",
     "start_time": "2022-12-15T21:52:03.795836Z"
    }
   },
   "outputs": [
    {
     "data": {
      "text/plain": [
       "<AxesSubplot:>"
      ]
     },
     "execution_count": 521,
     "metadata": {},
     "output_type": "execute_result"
    },
    {
     "data": {
      "image/png": "[encoded data removed]",
      "text/plain": [
       "<Figure size 432x288 with 1 Axes>"
      ]
     },
     "metadata": {
      "needs_background": "light"
     },
     "output_type": "display_data"
    }
   ],
   "source": [
    "x = weights[\"weight\"].astype(float) \n",
    "x = 1 + ((x-x.mean())/x.std())\n",
    "x.plot(kind=\"bar\")"
   ]
  },
  {
   "cell_type": "code",
   "execution_count": null,
   "id": "7ab78289",
   "metadata": {},
   "outputs": [],
   "source": []
  },
  {
   "cell_type": "markdown",
   "id": "1c762bed",
   "metadata": {},
   "source": [
    "## Others "
   ]
  },
  {
   "cell_type": "code",
   "execution_count": null,
   "id": "554378e1",
   "metadata": {},
   "outputs": [],
   "source": []
  },
  {
   "cell_type": "code",
   "execution_count": null,
   "id": "2f944084",
   "metadata": {},
   "outputs": [],
   "source": []
  },
  {
   "cell_type": "markdown",
   "id": "30dc28fe",
   "metadata": {},
   "source": [
    "# Store model and prediction"
   ]
  },
  {
   "cell_type": "code",
   "execution_count": null,
   "id": "db82c4bd",
   "metadata": {
    "ExecuteTime": {
     "end_time": "2022-12-15T19:44:25.807262Z",
     "start_time": "2022-12-15T19:44:25.807255Z"
    }
   },
   "outputs": [],
   "source": [
    "import pickle"
   ]
  },
  {
   "cell_type": "code",
   "execution_count": null,
   "id": "7c82e93d",
   "metadata": {
    "ExecuteTime": {
     "end_time": "2022-12-15T19:44:25.808256Z",
     "start_time": "2022-12-15T19:44:25.808248Z"
    }
   },
   "outputs": [],
   "source": [
    "with open('model_v1.pkl','wb') as f:\n",
    "    pickle.dump(clf, f)"
   ]
  },
  {
   "cell_type": "code",
   "execution_count": null,
   "id": "beb1cd18",
   "metadata": {
    "ExecuteTime": {
     "end_time": "2022-12-15T19:44:25.809262Z",
     "start_time": "2022-12-15T19:44:25.809254Z"
    }
   },
   "outputs": [],
   "source": [
    "# load\n",
    "with open('model_v1.pkl', 'rb') as f:\n",
    "    clf2 = pickle.load(f)"
   ]
  },
  {
   "cell_type": "markdown",
   "id": "83439a3a",
   "metadata": {},
   "source": [
    "## Prediction/Test with the latest month data"
   ]
  },
  {
   "cell_type": "code",
   "execution_count": null,
   "id": "486887a3",
   "metadata": {},
   "outputs": [],
   "source": []
  },
  {
   "cell_type": "markdown",
   "id": "2936585c",
   "metadata": {},
   "source": [
    "# Post to AEM"
   ]
  },
  {
   "cell_type": "code",
   "execution_count": null,
   "id": "122ed585",
   "metadata": {},
   "outputs": [],
   "source": []
  },
  {
   "cell_type": "code",
   "execution_count": null,
   "id": "16149dcb",
   "metadata": {
    "ExecuteTime": {
     "end_time": "2022-12-12T20:20:39.995781Z",
     "start_time": "2022-12-12T20:20:39.995774Z"
    },
    "scrolled": true
   },
   "outputs": [],
   "source": [
    "# np.exp(clf2.feature_log_prob_[0])"
   ]
  },
  {
   "cell_type": "code",
   "execution_count": null,
   "id": "7b1e7b7c",
   "metadata": {},
   "outputs": [],
   "source": []
  },
  {
   "cell_type": "code",
   "execution_count": null,
   "id": "33c62ef7",
   "metadata": {},
   "outputs": [],
   "source": []
  },
  {
   "cell_type": "code",
   "execution_count": null,
   "id": "cc08e878",
   "metadata": {},
   "outputs": [],
   "source": []
  },
  {
   "cell_type": "code",
   "execution_count": null,
   "id": "bb5ba2d0",
   "metadata": {},
   "outputs": [],
   "source": []
  },
  {
   "cell_type": "markdown",
   "id": "16204d08",
   "metadata": {},
   "source": [
    "# Checking"
   ]
  },
  {
   "cell_type": "code",
   "execution_count": null,
   "id": "8470b0c6",
   "metadata": {},
   "outputs": [],
   "source": []
  }
 ],
 "metadata": {
  "kernelspec": {
   "display_name": "Python 3 (ipykernel)",
   "language": "python",
   "name": "python3"
  },
  "language_info": {
   "codemirror_mode": {
    "name": "ipython",
    "version": 3
   },
   "file_extension": ".py",
   "mimetype": "text/x-python",
   "name": "python",
   "nbconvert_exporter": "python",
   "pygments_lexer": "ipython3",
   "version": "3.9.7"
  },
  "toc": {
   "base_numbering": 1,
   "nav_menu": {},
   "number_sections": true,
   "sideBar": true,
   "skip_h1_title": false,
   "title_cell": "Table of Contents",
   "title_sidebar": "Contents",
   "toc_cell": false,
   "toc_position": {
    "height": "calc(100% - 180px)",
    "left": "10px",
    "top": "150px",
    "width": "341.812px"
   },
   "toc_section_display": true,
   "toc_window_display": true
  }
 },
 "nbformat": 4,
 "nbformat_minor": 5
}
