{
 "cells": [
  {
   "cell_type": "markdown",
   "id": "40fe2f74",
   "metadata": {},
   "source": [
    "# Init"
   ]
  },
  {
   "cell_type": "markdown",
   "id": "d6b62799",
   "metadata": {},
   "source": [
    "## Utils"
   ]
  },
  {
   "cell_type": "code",
   "execution_count": 1,
   "id": "6d8c3275",
   "metadata": {
    "ExecuteTime": {
     "end_time": "2022-12-01T21:02:04.291775Z",
     "start_time": "2022-12-01T21:02:02.364720Z"
    }
   },
   "outputs": [],
   "source": [
    "import pandas as pd\n",
    "\n",
    "from sklearn.feature_extraction.text import CountVectorizer,TfidfVectorizer\n",
    "from sklearn.feature_extraction import DictVectorizer\n",
    "from sklearn.model_selection import train_test_split\n",
    "\n",
    "from sklearn.metrics import roc_curve, auc, precision_recall_curve, classification_report\n",
    "from sklearn.naive_bayes import MultinomialNB\n",
    "from sklearn.linear_model import LogisticRegression\n",
    "\n",
    "import matplotlib.pyplot as plt\n",
    "import numpy as np\n",
    "from collections import Counter\n",
    "from sklearn import svm\n",
    "from sklearn.model_selection import cross_validate"
   ]
  },
  {
   "cell_type": "markdown",
   "id": "d5243ed3",
   "metadata": {},
   "source": [
    "# Data"
   ]
  },
  {
   "cell_type": "markdown",
   "id": "ba5a5d32",
   "metadata": {},
   "source": [
    "## Load Data"
   ]
  },
  {
   "cell_type": "code",
   "execution_count": 22,
   "id": "24a6c0db",
   "metadata": {
    "ExecuteTime": {
     "end_time": "2022-12-01T21:10:53.178836Z",
     "start_time": "2022-12-01T21:10:53.151049Z"
    }
   },
   "outputs": [],
   "source": [
    "def get_summary(table, field):\n",
    "    print(\"nan ratio:\", table[field].isnull().sum()/table.shape[0])\n",
    "    print(\"nan rows: \", table[field].isnull().sum())\n",
    "    print(table[field].fillna(\"nan\").value_counts())\n",
    "    \n",
    "def email_cleanup(table, key=\"emailaddress1\"):\n",
    "    if key not in table.columns:\n",
    "        raise \"key is not in table.columns\"\n",
    "    table = table.dropna(subset=[key]) # remove nan\n",
    "    table.loc[:, key] = table[key].str.replace(\"'\", \"\").str.lower() # lower case, clean single quote\n",
    "    table = table[(~table[key].str.contains(\"rockwell|pisrc|bounteous|test\"))] # remove rockwell related email\n",
    "    return table"
   ]
  },
  {
   "cell_type": "markdown",
   "id": "c11e97bb",
   "metadata": {},
   "source": [
    "### AEM.raw (bingeID Only)\n",
    "- stage 1 should not drop duplicate because the eventlist probably exist only on some of pdf view records"
   ]
  },
  {
   "cell_type": "code",
   "execution_count": 27,
   "id": "9f67af70",
   "metadata": {
    "ExecuteTime": {
     "end_time": "2022-12-01T21:20:59.399357Z",
     "start_time": "2022-12-01T21:20:58.628147Z"
    }
   },
   "outputs": [
    {
     "name": "stdout",
     "output_type": "stream",
     "text": [
      "stage1_raw: unique SessionVisitorId:  (1517,)\n",
      "stage2_raw: unique SessionVisitorId:  (1517,)\n"
     ]
    }
   ],
   "source": [
    "# _dt = pd.read_csv(\"all_binge_data_TOP1000000_2022-10-16.csv\", nrows=1000000, index_col=0)\n",
    "aem_raw = pd.read_csv(\"aemRaw_2022-04-21-all_fields.csv\", index_col=0)\n",
    "stage1_raw = aem_raw.dropna(subset=[\"BingeScoredAssetPath\"]).reset_index(drop=True)\n",
    "# stage1_raw = stage1_raw.drop_duplicates(subset=[\"DateTime_UTC\", \"EloquaContactId\", \"SessionVisitorId\", \"BingeScoredAssetPath\"], keep='last') \n",
    "\n",
    "stage2_raw = aem_raw.dropna(subset=[\"BingeScoredAssetPath\"]).reset_index(drop=True)\n",
    "# stage2_raw = stage2_raw.drop_duplicates(subset=[\"DateTime_UTC\", \"SessionVisitorId\", \"BingeScoredAssetPath\"], keep='last')\n",
    "\n",
    "print(\"stage1_raw: unique SessionVisitorId: \", stage1_raw[\"SessionVisitorId\"].unique().shape)\n",
    "print(\"stage2_raw: unique SessionVisitorId: \", stage2_raw[\"SessionVisitorId\"].unique().shape)"
   ]
  },
  {
   "cell_type": "markdown",
   "id": "e62de733",
   "metadata": {},
   "source": [
    "### crm Lead\n",
    "- unique EloquaContactId -> do some update on this table for the same ID"
   ]
  },
  {
   "cell_type": "code",
   "execution_count": 4,
   "id": "e9b3212a",
   "metadata": {
    "ExecuteTime": {
     "end_time": "2022-12-01T21:02:14.807392Z",
     "start_time": "2022-12-01T21:02:05.218396Z"
    },
    "scrolled": true
   },
   "outputs": [
    {
     "name": "stderr",
     "output_type": "stream",
     "text": [
      "/Users/wy/opt/anaconda3/lib/python3.9/site-packages/IPython/core/interactiveshell.py:3444: DtypeWarning: Columns (8,9,13,15,17,31,43,44,45,46,49,50,51,56,58,59,63,64,68,70,72,74,76,78,81,83,84,85,89,92,94,97,99,109,112,113,114,115,117,124,135,136,137,138,140,142,143,144,145,157,159,164,165,166,167,178,182,185,188,198,200,204,207,208,216,217,219,223,224,229,230,232,238,240,246,247,252,253,256,257,258,261,262,266,267,268,272,274,275,284,286,287,289,293,294,307,311,313) have mixed types.Specify dtype option on import or set low_memory=False.\n",
      "  exec(code_obj, self.user_global_ns, self.user_ns)\n",
      "/Users/wy/opt/anaconda3/lib/python3.9/site-packages/pandas/core/indexing.py:1773: SettingWithCopyWarning: \n",
      "A value is trying to be set on a copy of a slice from a DataFrame.\n",
      "Try using .loc[row_indexer,col_indexer] = value instead\n",
      "\n",
      "See the caveats in the documentation: https://pandas.pydata.org/pandas-docs/stable/user_guide/indexing.html#returning-a-view-versus-a-copy\n",
      "  self._setitem_single_column(ilocs[0], value, pi)\n"
     ]
    }
   ],
   "source": [
    "_lead = pd.read_csv(\"crm_Lead_20221116_all.csv\", index_col=0)\n",
    "crm_lead = email_cleanup(_lead, \"emailaddress1\")"
   ]
  },
  {
   "cell_type": "markdown",
   "id": "78190f3d",
   "metadata": {},
   "source": [
    "### elo.contact\n",
    "- from gated content form?\n",
    "- unique EloquaContactId -> do some update on this table for the same ID"
   ]
  },
  {
   "cell_type": "code",
   "execution_count": 5,
   "id": "9d0a9f44",
   "metadata": {
    "ExecuteTime": {
     "end_time": "2022-12-01T21:02:31.905691Z",
     "start_time": "2022-12-01T21:02:14.808789Z"
    }
   },
   "outputs": [
    {
     "name": "stderr",
     "output_type": "stream",
     "text": [
      "/Users/wy/opt/anaconda3/lib/python3.9/site-packages/numpy/lib/arraysetops.py:583: FutureWarning: elementwise comparison failed; returning scalar instead, but in the future will perform elementwise comparison\n",
      "  mask |= (ar1 == a)\n"
     ]
    }
   ],
   "source": [
    "# _elq = pd.read_csv(\"all_elo_data_TOP1000000_2022-10-16.csv\", nrows=1000000, index_col=0)\n",
    "_elq = pd.read_csv(\"elq_all_bridge-only.csv\", index_col=0)\n",
    "elq = email_cleanup(_elq, \"EmailAddress\")\n",
    "elq_bridge = elq[[\"EmailAddress\", \"EloquaContactId\"]]\n"
   ]
  },
  {
   "cell_type": "code",
   "execution_count": 6,
   "id": "a8596d33",
   "metadata": {
    "ExecuteTime": {
     "end_time": "2022-12-01T21:02:43.635756Z",
     "start_time": "2022-12-01T21:02:31.909651Z"
    }
   },
   "outputs": [
    {
     "data": {
      "text/plain": [
       "EmailAddress\n",
       "!!edson.carlos!!@ensinger.co.uk          1\n",
       "marina.schmidt@szmh-group.com            1\n",
       "marina.schirmel@scherdel.de              1\n",
       "marina.schiffer@scheidt-bachmann.com     1\n",
       "marina.schetino@macrotec.ind.br          1\n",
       "                                        ..\n",
       "c_rudiyono@yahoo.com                    15\n",
       "dixie_bvn@hotmail.com                   17\n",
       "123@yahoo.com                           18\n",
       "eric.dacer@ptcerna.com                  20\n",
       "nancy.cordoba@elvatron.com              21\n",
       "Length: 6257411, dtype: int64"
      ]
     },
     "execution_count": 6,
     "metadata": {},
     "output_type": "execute_result"
    }
   ],
   "source": [
    "elq_bridge.groupby(\"EmailAddress\").size().sort_values()"
   ]
  },
  {
   "cell_type": "code",
   "execution_count": null,
   "id": "f359805f",
   "metadata": {},
   "outputs": [],
   "source": []
  },
  {
   "cell_type": "markdown",
   "id": "96e05250",
   "metadata": {
    "ExecuteTime": {
     "end_time": "2022-11-21T23:47:01.992984Z",
     "start_time": "2022-11-21T23:47:01.982016Z"
    }
   },
   "source": [
    "# Ideas\n",
    "- business targets\n",
    "    1. attractness: provide more interesting content for users\n",
    "        - ranking content + recommendation based\n",
    "    2. engagement: reach out and prioritize on target users\n",
    "        - identify potential lead, find patterns and build segmentations between users based on their upload informaton\n",
    "            - website visiting records -> AEM.raw? <font color=red>need specialized and ingested related data...</font>\n",
    "            - interactions with sales people -> CRM.Lead? <font color=red>need clean, maintain and more explaination on the existing data... </font>\n",
    "            - their demographic information -> CRM.Lead / Elq.Contact (this is quite clean)\n",
    "    3. conversion: sales people effort?\n",
    "    4. retain: ...\n",
    "\n",
    "- questions\n",
    "    - `Next steps: use data that is going into content scoring to predict user propensity`\n",
    "    - how this weight score can help next step for potential lead prediction?\n",
    "        - treat it as an feature to another model? the distance between sample is more important. It should be separatable.\n",
    "        - two-stage model? or just change labels\n",
    "        \n",
    "- reference:\n",
    "    - e.g. in recommendation system\n",
    "    - <img src=\"https://assets.zilliz.com/2_29e27eb9b1.png\" width=\"400\"/>\n",
    "    - <img src=\"https://cdn-images-1.medium.com/max/800/0*U5iR5NTSChuSOcyc.\" width=\"400\"/>"
   ]
  },
  {
   "cell_type": "markdown",
   "id": "a8891988",
   "metadata": {},
   "source": [
    "### funnel\n",
    "\n",
    "<div>\n",
    "    <img src=\"https://www.wordstream.com/wp-content/uploads/2022/08/content-marketing-funnel-full-size.png\" width=\"500\"/>\n",
    "</div>\n",
    "    "
   ]
  },
  {
   "cell_type": "markdown",
   "id": "d550cbb1",
   "metadata": {
    "ExecuteTime": {
     "end_time": "2022-12-01T19:52:24.373754Z",
     "start_time": "2022-12-01T19:52:24.363288Z"
    }
   },
   "source": [
    "# Feature Engineering\n",
    "\n",
    "- TF-IDF = Term Frequency (TF) * Inverse Document Frequency (IDF)\n",
    "    - idf(t) = log(N/(df + 1))\n",
    "        <img src=\"https://cdn-media-1.freecodecamp.org/images/1*q3qYevXqQOjJf6Pwdlx8Mw.png\" width=\"500\"/>\n",
    "        <img src=\"https://preview.redd.it/clwuxvtqpeq91.png?width=397&format=png&auto=webp&s=ae6788cefae9b83b3033db3612ec83e8f5ded24f\" width=\"500\"/>\n",
    "    - rather directly using count frequency in the naive bayesian, using TF-IDF to adjust the features\n",
    "    \n",
    "- preprocessing.StandardScaler()\n",
    "    - should not use because the features importance are dependent on the frequency, which is already kind of information"
   ]
  },
  {
   "cell_type": "markdown",
   "id": "0512a667",
   "metadata": {},
   "source": [
    "## stage1: wrapping data\n",
    "- label: Submitted gated form (target)\n",
    "    - generated by EventList\n",
    "- features:\n",
    "    - choosed:\n",
    "        - BingeScoredAssetPath: Current BingeScoredAssetPath interaction on one session ( content sequence )\n",
    "        - DateTime_UTC -> for concat sequence in visited order\n",
    "    - possible:\n",
    "        - BingeScoredAssetScore = manually set -> importance level for sales people\n",
    "        - BingeCriticalScore = manually threshold -> initial threshold for sales people\n",
    "        - PageURL? what information this URL can bring into model?\n",
    "        \n",
    "- original asset score manual setup ideas:\n",
    "    - asset weight average is 1, if it is more important/meaningful -> bump up to 2;\n",
    "    - if there are 5 assets in total, then default basic threshold is 5"
   ]
  },
  {
   "cell_type": "markdown",
   "id": "0f114acb",
   "metadata": {},
   "source": [
    "## stage2: wrapping data\n",
    "- label: is qualified lead or not (target)\n",
    "    - stored on CRM Lead table, marked by sales people\n",
    "- features: all the activities during the journey -> including asset browsing history \n",
    "    - choosed:\n",
    "        - BingeScoredAssetPath: Current BingeScoredAssetPath interaction on one session ( content sequence )\n",
    "        - DateTime_UTC -> for concat sequence in visited order\n",
    "    - possible:\n",
    "        - User information <font color=red>(this part are useful)</font>\n",
    "            - industry\n",
    "            - company size \n",
    "            - ..."
   ]
  },
  {
   "cell_type": "code",
   "execution_count": 12,
   "id": "db7fc1d0",
   "metadata": {
    "ExecuteTime": {
     "end_time": "2022-12-01T21:07:28.759407Z",
     "start_time": "2022-12-01T21:07:28.741476Z"
    }
   },
   "outputs": [],
   "source": [
    "def preprocessing_stage(session, stage=1, target_method=0, feature_method=\"sequential\", sep=\"$\"):\n",
    "    if stage == 1:\n",
    "        if target_method == 0:\n",
    "            target_event = [125, 126]\n",
    "            events = \",\".join(session[\"EventList\"].drop_duplicates().tolist())\n",
    "            y = any([True for e in target_event if \",\" + str(e) in events]) * 1\n",
    "        elif target_method == 1:\n",
    "            y = (~session[\"EloquaContactId\"].isnull()).any()\n",
    "        else:\n",
    "            raise \"no such target_method\"\n",
    "            \n",
    "    elif stage == 2:\n",
    "        y = any(session[\"label\"]) * 1\n",
    "    \n",
    "    if feature_method == \"bow\":\n",
    "        page_view = session.groupby(\"BingeScoredAssetPath\")[\"BingeScoredAssetPath\"].size().to_dict() # dict vectorizer\n",
    "    elif feature_method == \"sequential\":\n",
    "        page_view = sep.join(session.sort_values(by=\"DateTime_UTC\")[\"BingeScoredAssetPath\"].tolist())\n",
    "    else:\n",
    "        raise \"no such feature_method\"\n",
    "    \n",
    "    # init_scores = session.groupby([\"BingeScoredAssetPath\"])[[\"BingeCriticalScore\",\"BingeScoredAssetScore\"]].mean() # not sure how to append as weighted matrix\n",
    "#     asset_session_seq = session.sort_values(by=\"DateTime_UTC\")[\"BingeScoredAssetPath\"].tolist()\n",
    "    return pd.Series([page_view, y], index=[\"features\", \"label\"])\n",
    "\n",
    "def evaluate_metrics(y_test, y_pred, show_plots=False):\n",
    "    fpr, tpr, thresholds = roc_curve(y_test, y_pred, pos_label=1)\n",
    "    auc_score = auc(fpr, tpr)\n",
    "    pre, rec, thresholds = precision_recall_curve(y_test, y_pred, pos_label=1)\n",
    "    prc_score = auc(rec, pre)\n",
    "\n",
    "    if show_plots:\n",
    "        print(classification_report(y_test, y_pred>0.5))\n",
    "        plt.subplot(1, 2, 1)\n",
    "        plt.plot(fpr, tpr, color='darkorange', lw=2)\n",
    "        plt.plot([0, 1], [0, 1], color='navy', lw=2, linestyle='--')\n",
    "        plt.xlim([0.0, 1.0])\n",
    "        plt.ylim([0.0, 1.05])\n",
    "        plt.xlabel('False Positive Rate')\n",
    "        plt.ylabel('True Positive Rate')\n",
    "        plt.title('AUC')\n",
    "\n",
    "        plt.subplot(1, 2, 2)\n",
    "        plt.plot(rec, pre, color='darkorange', lw=2)\n",
    "        plt.xlim([0.0, 1.0])\n",
    "        plt.ylim([0.0, 1.05])\n",
    "        plt.xlabel('Recall')\n",
    "        plt.ylabel('Precision')\n",
    "        plt.title('PRC')\n",
    "        plt.tight_layout()\n",
    "\n",
    "        plt.show()\n",
    "\n",
    "    print(\"AUC: {:.2%}, PRC: {:.2%}\".format(auc_score, prc_score))\n",
    "    \n",
    "SEP_TOKEN_PATTERN = \"[^\\$]+\"\n",
    "SEED = 42\n",
    "TEST_SIZE = 0.2"
   ]
  },
  {
   "cell_type": "markdown",
   "id": "7de72f6b",
   "metadata": {},
   "source": [
    "# Modeling\n",
    "\n"
   ]
  },
  {
   "cell_type": "markdown",
   "id": "571b4581",
   "metadata": {},
   "source": [
    "## Stage-1: Scoring content - visitor preference \n",
    "- rethink:\n",
    "    - what is the most attractive content for visitor v.s. what is the most attractive content for salespeople?\n",
    "        - SubmitGatedForm action is not marked by sales people, it's kind of inclination level from user side\n",
    "        - the model is trying to know which asset is more important for SubmitGatedForm \n",
    "        - how important for user to submit GCDC\n",
    "\n",
    "    - weight should be from sales people definition, but current method can only get the attractive score on visitor aspect => \n",
    "        - assumption-1: more clicks => interesting to connect? <font color=red>submit GCDC == made a reach out decision? YES?</font>\n",
    "        - they will think the information are valuable for them, want to get more related information -> salespeople reach out? When is the time = threshold?"
   ]
  },
  {
   "cell_type": "code",
   "execution_count": 8,
   "id": "bf7de2ad",
   "metadata": {
    "ExecuteTime": {
     "end_time": "2022-12-01T21:02:44.302650Z",
     "start_time": "2022-12-01T21:02:43.648926Z"
    }
   },
   "outputs": [],
   "source": [
    "data = stage1_raw.groupby(\"SessionVisitorId\").apply(lambda x: preprocessing_stage(x))"
   ]
  },
  {
   "cell_type": "markdown",
   "id": "de640e58",
   "metadata": {},
   "source": [
    "### Data split + TFIDF\n",
    "<!-- \n",
    "# ## outdated\n",
    "# data = stage1_raw.groupby(\"SessionVisitorId\").apply(lambda x: processing_stage1(x, target_method=1, feature_method=\"bow\"))\n",
    "# data[\"submitted_form\"].value_counts()\n",
    "\n",
    "# def tfidf_transform(dtm, idf=None):\n",
    "#     N = dtm.shape[0] # number of document\n",
    "#     tf = (dtm/(dtm.sum(axis=1).reshape(-1,1)))\n",
    "\n",
    "#     if idf is None:\n",
    "#         idf = np.log(1 + N/(dtm.astype(bool).sum(axis=0)))\n",
    "        \n",
    "#     tfidf = tf * idf\n",
    "#     return tfidf, idf\n",
    "# v = DictVectorizer(sparse=False)\n",
    "# X_train_dtm = v.fit_transform(X_train)\n",
    "# X_test_dtm = v.transform(X_test)\n",
    "# X_train_arr, idf = tfidf_transform(X_train_dtm)\n",
    "# X_test_arr, _ = tfidf_transform(X_test_dtm, idf) -->"
   ]
  },
  {
   "cell_type": "code",
   "execution_count": 9,
   "id": "dccfbe05",
   "metadata": {
    "ExecuteTime": {
     "end_time": "2022-12-01T21:02:44.334069Z",
     "start_time": "2022-12-01T21:02:44.306376Z"
    }
   },
   "outputs": [
    {
     "name": "stdout",
     "output_type": "stream",
     "text": [
      "training sample label size: Counter({0: 1155, 1: 58})\n",
      "pos vs neg in training set:\n",
      "0    1444\n",
      "1      73\n",
      "Name: label, dtype: int64\n",
      "testing sample label size: Counter({0: 289, 1: 15})\n"
     ]
    }
   ],
   "source": [
    "X_train, X_test, y_train, y_test = train_test_split(data[\"features\"], data[\"label\"].values, test_size=TEST_SIZE, stratify=data[\"label\"].values, random_state=SEED)\n",
    "\n",
    "print(\"training sample label size:\", Counter(y_train))\n",
    "print(\"pos vs neg in training set:\")\n",
    "print(data[\"label\"].value_counts())\n",
    "print(\"testing sample label size:\", Counter(y_test))\n",
    "\n",
    "vectorizer = TfidfVectorizer(token_pattern=SEP_TOKEN_PATTERN)\n",
    "\n",
    "X_train_arr = vectorizer.fit_transform(X_train)\n",
    "X_test_arr = vectorizer.transform(X_test)"
   ]
  },
  {
   "cell_type": "markdown",
   "id": "0ebf5676",
   "metadata": {},
   "source": [
    "### Models"
   ]
  },
  {
   "cell_type": "markdown",
   "id": "844852d5",
   "metadata": {},
   "source": [
    "#### LR"
   ]
  },
  {
   "cell_type": "code",
   "execution_count": 10,
   "id": "93e33028",
   "metadata": {
    "ExecuteTime": {
     "end_time": "2022-12-01T21:02:44.357418Z",
     "start_time": "2022-12-01T21:02:44.336939Z"
    }
   },
   "outputs": [
    {
     "data": {
      "text/plain": [
       "LogisticRegression()"
      ]
     },
     "execution_count": 10,
     "metadata": {},
     "output_type": "execute_result"
    }
   ],
   "source": [
    "model = LogisticRegression()\n",
    "model.fit(X_train_arr, y_train)\n",
    "# model.coef_"
   ]
  },
  {
   "cell_type": "markdown",
   "id": "5c22786d",
   "metadata": {},
   "source": [
    "#### svm (x)\n",
    "- no weight but only predict prob "
   ]
  },
  {
   "cell_type": "code",
   "execution_count": 13,
   "id": "ad88b987",
   "metadata": {
    "ExecuteTime": {
     "end_time": "2022-12-01T21:07:33.563497Z",
     "start_time": "2022-12-01T21:07:33.349755Z"
    }
   },
   "outputs": [
    {
     "name": "stdout",
     "output_type": "stream",
     "text": [
      "              precision    recall  f1-score   support\n",
      "\n",
      "           0       0.95      1.00      0.97       289\n",
      "           1       0.00      0.00      0.00        15\n",
      "\n",
      "    accuracy                           0.95       304\n",
      "   macro avg       0.48      0.50      0.49       304\n",
      "weighted avg       0.90      0.95      0.93       304\n",
      "\n"
     ]
    },
    {
     "name": "stderr",
     "output_type": "stream",
     "text": [
      "/Users/wy/opt/anaconda3/lib/python3.9/site-packages/sklearn/metrics/_classification.py:1248: UndefinedMetricWarning: Precision and F-score are ill-defined and being set to 0.0 in labels with no predicted samples. Use `zero_division` parameter to control this behavior.\n",
      "  _warn_prf(average, modifier, msg_start, len(result))\n",
      "/Users/wy/opt/anaconda3/lib/python3.9/site-packages/sklearn/metrics/_classification.py:1248: UndefinedMetricWarning: Precision and F-score are ill-defined and being set to 0.0 in labels with no predicted samples. Use `zero_division` parameter to control this behavior.\n",
      "  _warn_prf(average, modifier, msg_start, len(result))\n",
      "/Users/wy/opt/anaconda3/lib/python3.9/site-packages/sklearn/metrics/_classification.py:1248: UndefinedMetricWarning: Precision and F-score are ill-defined and being set to 0.0 in labels with no predicted samples. Use `zero_division` parameter to control this behavior.\n",
      "  _warn_prf(average, modifier, msg_start, len(result))\n"
     ]
    },
    {
     "data": {
      "image/png": "[encoded data removed]",
      "text/plain": [
       "<Figure size 432x288 with 2 Axes>"
      ]
     },
     "metadata": {
      "needs_background": "light"
     },
     "output_type": "display_data"
    },
    {
     "name": "stdout",
     "output_type": "stream",
     "text": [
      "AUC: 50.00%, PRC: 52.47%\n"
     ]
    }
   ],
   "source": [
    "svm_clf = svm.SVC(kernel='linear', C=1)\n",
    "svm_clf.fit(X_train_arr, y_train)\n",
    "y_pred = svm_clf.predict(X_test_arr)\n",
    "evaluate_metrics(y_test, y_pred, show_plots = True)"
   ]
  },
  {
   "cell_type": "markdown",
   "id": "f59ab946",
   "metadata": {},
   "source": [
    "#### naive bayes\n",
    "- $\\theta_{yi}$ is the probability $P(x_i \\mid y)$ of feature i appearing in a sample belonging to class y."
   ]
  },
  {
   "cell_type": "code",
   "execution_count": 14,
   "id": "4efd0d6c",
   "metadata": {
    "ExecuteTime": {
     "end_time": "2022-12-01T21:07:35.692124Z",
     "start_time": "2022-12-01T21:07:35.416253Z"
    }
   },
   "outputs": [
    {
     "name": "stdout",
     "output_type": "stream",
     "text": [
      "              precision    recall  f1-score   support\n",
      "\n",
      "           0       0.96      0.99      0.97       289\n",
      "           1       0.50      0.20      0.29        15\n",
      "\n",
      "    accuracy                           0.95       304\n",
      "   macro avg       0.73      0.59      0.63       304\n",
      "weighted avg       0.94      0.95      0.94       304\n",
      "\n"
     ]
    },
    {
     "data": {
      "image/png": "[encoded data removed]",
      "text/plain": [
       "<Figure size 432x288 with 2 Axes>"
      ]
     },
     "metadata": {
      "needs_background": "light"
     },
     "output_type": "display_data"
    },
    {
     "name": "stdout",
     "output_type": "stream",
     "text": [
      "AUC: 82.99%, PRC: 25.06%\n"
     ]
    }
   ],
   "source": [
    "clf = MultinomialNB().fit(X_train_arr, y_train)\n",
    "asset_prob = np.exp(clf.feature_log_prob_[0])\n",
    "# clf.feature_log_prob_[0]\n",
    "y_pred = (clf.predict_proba(X_test_arr))[:, 1]\n",
    "evaluate_metrics(y_test, y_pred, show_plots = True)"
   ]
  },
  {
   "cell_type": "markdown",
   "id": "a8e7c9b3",
   "metadata": {},
   "source": [
    "### <font color=red>cross validation</font>\n",
    "<img src=\"https://scikit-learn.org/stable/_images/grid_search_cross_validation.png\" width=\"500\"/>"
   ]
  },
  {
   "cell_type": "code",
   "execution_count": 15,
   "id": "259d3d5b",
   "metadata": {
    "ExecuteTime": {
     "end_time": "2022-12-01T21:07:35.822879Z",
     "start_time": "2022-12-01T21:07:35.797960Z"
    }
   },
   "outputs": [
    {
     "name": "stdout",
     "output_type": "stream",
     "text": [
      "0.94 accuracy with a standard deviation of 0.01\n"
     ]
    }
   ],
   "source": [
    "scores = cross_validate(clf, X_train_arr, y_train, cv=5)\n",
    "print(\"%0.2f accuracy with a standard deviation of %0.2f\" % (scores[\"test_score\"].mean(), scores[\"test_score\"].std()))"
   ]
  },
  {
   "cell_type": "code",
   "execution_count": null,
   "id": "b9952b42",
   "metadata": {},
   "outputs": [],
   "source": []
  },
  {
   "cell_type": "markdown",
   "id": "83e5af7e",
   "metadata": {},
   "source": [
    "### Assign Weight (kind of user preference)\n",
    "- conditional prob"
   ]
  },
  {
   "cell_type": "code",
   "execution_count": 16,
   "id": "c0fdaca2",
   "metadata": {
    "ExecuteTime": {
     "end_time": "2022-12-01T21:07:36.404851Z",
     "start_time": "2022-12-01T21:07:36.396387Z"
    }
   },
   "outputs": [],
   "source": [
    "# log p(w|c=1) + log p(w|c=0)\n",
    "import numpy as np\n",
    "asset_prob = np.exp(clf.feature_log_prob_[0])"
   ]
  },
  {
   "cell_type": "code",
   "execution_count": 17,
   "id": "16b12430",
   "metadata": {
    "ExecuteTime": {
     "end_time": "2022-12-01T21:07:36.672974Z",
     "start_time": "2022-12-01T21:07:36.569307Z"
    }
   },
   "outputs": [
    {
     "data": {
      "text/html": [
       "<style type=\"text/css\">\n",
       "</style>\n",
       "<table id=\"T_8a929_\">\n",
       "  <thead>\n",
       "    <tr>\n",
       "      <th class=\"blank level0\" >&nbsp;</th>\n",
       "      <th class=\"col_heading level0 col0\" >asset</th>\n",
       "      <th class=\"col_heading level0 col1\" >weight</th>\n",
       "    </tr>\n",
       "  </thead>\n",
       "  <tbody>\n",
       "    <tr>\n",
       "      <th id=\"T_8a929_level0_row0\" class=\"row_heading level0 row0\" >6</th>\n",
       "      <td id=\"T_8a929_row0_col0\" class=\"data row0 col0\" >/content/dam/rockwell-automation/sites/downloads/pdf/auto-sp010_-en-p.pdf</td>\n",
       "      <td id=\"T_8a929_row0_col1\" class=\"data row0 col1\" >0.207878</td>\n",
       "    </tr>\n",
       "    <tr>\n",
       "      <th id=\"T_8a929_level0_row1\" class=\"row_heading level0 row1\" >9</th>\n",
       "      <td id=\"T_8a929_row1_col0\" class=\"data row1 col0\" >/content/dam/rockwell-automation/sites/downloads/pdf/getting started in iab.pdf</td>\n",
       "      <td id=\"T_8a929_row1_col1\" class=\"data row1 col1\" >0.162334</td>\n",
       "    </tr>\n",
       "    <tr>\n",
       "      <th id=\"T_8a929_level0_row2\" class=\"row_heading level0 row2\" >40</th>\n",
       "      <td id=\"T_8a929_row2_col0\" class=\"data row2 col0\" >/content/rockwell-automation/www/na/us/en_us/company/news/case-studies/hirata-emulation-software.html</td>\n",
       "      <td id=\"T_8a929_row2_col1\" class=\"data row2 col1\" >0.101968</td>\n",
       "    </tr>\n",
       "    <tr>\n",
       "      <th id=\"T_8a929_level0_row3\" class=\"row_heading level0 row3\" >42</th>\n",
       "      <td id=\"T_8a929_row3_col0\" class=\"data row3 col0\" >/content/rockwell-automation/www/na/us/en_us/company/news/presentations/electric-vehicle-innovation-center.html</td>\n",
       "      <td id=\"T_8a929_row3_col1\" class=\"data row3 col1\" >0.086293</td>\n",
       "    </tr>\n",
       "    <tr>\n",
       "      <th id=\"T_8a929_level0_row4\" class=\"row_heading level0 row4\" >5</th>\n",
       "      <td id=\"T_8a929_row4_col0\" class=\"data row4 col0\" >/content/dam/rockwell-automation/sites/downloads/pdf/auto-ar001_-en-p.pdf</td>\n",
       "      <td id=\"T_8a929_row4_col1\" class=\"data row4 col1\" >0.084872</td>\n",
       "    </tr>\n",
       "    <tr>\n",
       "      <th id=\"T_8a929_level0_row5\" class=\"row_heading level0 row5\" >41</th>\n",
       "      <td id=\"T_8a929_row5_col0\" class=\"data row5 col0\" >/content/rockwell-automation/www/na/us/en_us/company/news/case-studies/maximum-transparency-across-all-levels-at-samsung-sdi-battery-sy.html</td>\n",
       "      <td id=\"T_8a929_row5_col1\" class=\"data row5 col1\" >0.083936</td>\n",
       "    </tr>\n",
       "    <tr>\n",
       "      <th id=\"T_8a929_level0_row6\" class=\"row_heading level0 row6\" >10</th>\n",
       "      <td id=\"T_8a929_row6_col0\" class=\"data row6 col0\" >/content/dam/rockwell-automation/sites/downloads/pdf/project design assistant.pdf</td>\n",
       "      <td id=\"T_8a929_row6_col1\" class=\"data row6 col1\" >0.079534</td>\n",
       "    </tr>\n",
       "    <tr>\n",
       "      <th id=\"T_8a929_level0_row7\" class=\"row_heading level0 row7\" >7</th>\n",
       "      <td id=\"T_8a929_row7_col0\" class=\"data row7 col0\" >/content/dam/rockwell-automation/sites/downloads/pdf/export a bom to proposalworks.pdf</td>\n",
       "      <td id=\"T_8a929_row7_col1\" class=\"data row7 col1\" >0.032129</td>\n",
       "    </tr>\n",
       "    <tr>\n",
       "      <th id=\"T_8a929_level0_row8\" class=\"row_heading level0 row8\" >8</th>\n",
       "      <td id=\"T_8a929_row8_col0\" class=\"data row8 col0\" >/content/dam/rockwell-automation/sites/downloads/pdf/generating a report.pdf</td>\n",
       "      <td id=\"T_8a929_row8_col1\" class=\"data row8 col1\" >0.031670</td>\n",
       "    </tr>\n",
       "    <tr>\n",
       "      <th id=\"T_8a929_level0_row9\" class=\"row_heading level0 row9\" >11</th>\n",
       "      <td id=\"T_8a929_row9_col0\" class=\"data row9 col0\" >/content/dam/rockwell-automation/sites/downloads/pdf/using the architecture view.pdf</td>\n",
       "      <td id=\"T_8a929_row9_col1\" class=\"data row9 col1\" >0.031261</td>\n",
       "    </tr>\n",
       "    <tr>\n",
       "      <th id=\"T_8a929_level0_row10\" class=\"row_heading level0 row10\" >28</th>\n",
       "      <td id=\"T_8a929_row10_col0\" class=\"data row10 col0\" >/content/dam/rockwell-automation/videos/events/af-2022/on-demand/new-and-next-at-rockwell-automation/new-and-next-at-rockwell-automation-en.mp4</td>\n",
       "      <td id=\"T_8a929_row10_col1\" class=\"data row10 col1\" >0.027852</td>\n",
       "    </tr>\n",
       "    <tr>\n",
       "      <th id=\"T_8a929_level0_row11\" class=\"row_heading level0 row11\" >4</th>\n",
       "      <td id=\"T_8a929_row11_col0\" class=\"data row11 col0\" >/content/dam/rockwell-automation/sites/downloads/pdf/applying pricing to bom.pdf</td>\n",
       "      <td id=\"T_8a929_row11_col1\" class=\"data row11 col1\" >0.020495</td>\n",
       "    </tr>\n",
       "    <tr>\n",
       "      <th id=\"T_8a929_level0_row12\" class=\"row_heading level0 row12\" >33</th>\n",
       "      <td id=\"T_8a929_row12_col0\" class=\"data row12 col0\" >/content/dam/rockwell-automation/videos/products/software/factorytalk/factorytalk-design-studio-cloud-increase-design-efficiency/factorytalk-design-studio-cloud-increase-design-efficiency-en.mp4</td>\n",
       "      <td id=\"T_8a929_row12_col1\" class=\"data row12 col1\" >0.003739</td>\n",
       "    </tr>\n",
       "    <tr>\n",
       "      <th id=\"T_8a929_level0_row13\" class=\"row_heading level0 row13\" >34</th>\n",
       "      <td id=\"T_8a929_row13_col0\" class=\"data row13 col0\" >/content/dam/rockwell-automation/videos/products/software/factorytalk/factorytalk-optix-visualization-platform-introduction/factorytalk-optix-visualization-platform-introduction-en.mp4</td>\n",
       "      <td id=\"T_8a929_row13_col1\" class=\"data row13 col1\" >0.002731</td>\n",
       "    </tr>\n",
       "    <tr>\n",
       "      <th id=\"T_8a929_level0_row14\" class=\"row_heading level0 row14\" >13</th>\n",
       "      <td id=\"T_8a929_row14_col0\" class=\"data row14 col0\" >/content/dam/rockwell-automation/videos/capabilities/cybersecurity/cip-security-improve-your-control-system-defense-in-depth-strategy/cip-security-improve-your-control-system-defense-in-depth-strategy-en.mp4</td>\n",
       "      <td id=\"T_8a929_row14_col1\" class=\"data row14 col1\" >0.002570</td>\n",
       "    </tr>\n",
       "    <tr>\n",
       "      <th id=\"T_8a929_level0_row15\" class=\"row_heading level0 row15\" >25</th>\n",
       "      <td id=\"T_8a929_row15_col0\" class=\"data row15 col0\" >/content/dam/rockwell-automation/videos/capabilities/process-solutions/plantpax-system-now-and-in-the-future/plantpax-system-now-and-in-the-future-en.mp4</td>\n",
       "      <td id=\"T_8a929_row15_col1\" class=\"data row15 col1\" >0.002563</td>\n",
       "    </tr>\n",
       "    <tr>\n",
       "      <th id=\"T_8a929_level0_row16\" class=\"row_heading level0 row16\" >20</th>\n",
       "      <td id=\"T_8a929_row16_col0\" class=\"data row16 col0\" >/content/dam/rockwell-automation/videos/capabilities/industrial-networks/fundamentals-of-ethernet-ip-iiot-network-technology/fundamentals-of-ethernet-ip-iiot-network-technology-en.mp4</td>\n",
       "      <td id=\"T_8a929_row16_col1\" class=\"data row16 col1\" >0.002430</td>\n",
       "    </tr>\n",
       "    <tr>\n",
       "      <th id=\"T_8a929_level0_row17\" class=\"row_heading level0 row17\" >26</th>\n",
       "      <td id=\"T_8a929_row17_col0\" class=\"data row17 col0\" >/content/dam/rockwell-automation/videos/capabilities/smart-manufacturing/smart-devices-the-eyes-and-ears-of-your-smart-machine/smart-devices-the-eyes-and-ears-of-your-smart-machine-en.mp4</td>\n",
       "      <td id=\"T_8a929_row17_col1\" class=\"data row17 col1\" >0.002304</td>\n",
       "    </tr>\n",
       "    <tr>\n",
       "      <th id=\"T_8a929_level0_row18\" class=\"row_heading level0 row18\" >39</th>\n",
       "      <td id=\"T_8a929_row18_col0\" class=\"data row18 col0\" >/content/rockwell-automation/www/ame/za/en_za/company/news/presentations/electric-vehicle-innovation-center.html</td>\n",
       "      <td id=\"T_8a929_row18_col1\" class=\"data row18 col1\" >0.002283</td>\n",
       "    </tr>\n",
       "    <tr>\n",
       "      <th id=\"T_8a929_level0_row19\" class=\"row_heading level0 row19\" >31</th>\n",
       "      <td id=\"T_8a929_row19_col0\" class=\"data row19 col0\" >/content/dam/rockwell-automation/videos/products/software/factorytalk/factorytalk-design-hub-ecosystem-introduction/factorytalk-design-hub-ecosystem-introduction-en.mp4</td>\n",
       "      <td id=\"T_8a929_row19_col1\" class=\"data row19 col1\" >0.002278</td>\n",
       "    </tr>\n",
       "    <tr>\n",
       "      <th id=\"T_8a929_level0_row20\" class=\"row_heading level0 row20\" >24</th>\n",
       "      <td id=\"T_8a929_row20_col0\" class=\"data row20 col0\" >/content/dam/rockwell-automation/videos/capabilities/mes-solutions/overview-of-plex-systems-smart-manufacturing-platform/overview-of-plex-systems-smart-manufacturing-platform-en.mp4</td>\n",
       "      <td id=\"T_8a929_row20_col1\" class=\"data row20 col1\" >0.001956</td>\n",
       "    </tr>\n",
       "    <tr>\n",
       "      <th id=\"T_8a929_level0_row21\" class=\"row_heading level0 row21\" >18</th>\n",
       "      <td id=\"T_8a929_row21_col0\" class=\"data row21 col0\" >/content/dam/rockwell-automation/videos/capabilities/industrial-automation-and-control/micro-control-integrated-automation-solution/micro-control-integrated-automation-solution-en.mp4</td>\n",
       "      <td id=\"T_8a929_row21_col1\" class=\"data row21 col1\" >0.001874</td>\n",
       "    </tr>\n",
       "    <tr>\n",
       "      <th id=\"T_8a929_level0_row22\" class=\"row_heading level0 row22\" >21</th>\n",
       "      <td id=\"T_8a929_row22_col0\" class=\"data row22 col0\" >/content/dam/rockwell-automation/videos/capabilities/industrial-networks/network-modernization-to-deliver-digital-transformation/network-modernization-to-deliver-digital-transformation-en.mp4</td>\n",
       "      <td id=\"T_8a929_row22_col1\" class=\"data row22 col1\" >0.001752</td>\n",
       "    </tr>\n",
       "    <tr>\n",
       "      <th id=\"T_8a929_level0_row23\" class=\"row_heading level0 row23\" >29</th>\n",
       "      <td id=\"T_8a929_row23_col0\" class=\"data row23 col0\" >/content/dam/rockwell-automation/videos/jen-test-videos/jen-test-video-en.mp4</td>\n",
       "      <td id=\"T_8a929_row23_col1\" class=\"data row23 col1\" >0.001620</td>\n",
       "    </tr>\n",
       "    <tr>\n",
       "      <th id=\"T_8a929_level0_row24\" class=\"row_heading level0 row24\" >3</th>\n",
       "      <td id=\"T_8a929_row24_col0\" class=\"data row24 col0\" >/content/dam/rockwell-automation/sites/downloads/pdf/6300-sg002_-en-p.pdf</td>\n",
       "      <td id=\"T_8a929_row24_col1\" class=\"data row24 col1\" >0.001620</td>\n",
       "    </tr>\n",
       "    <tr>\n",
       "      <th id=\"T_8a929_level0_row25\" class=\"row_heading level0 row25\" >0</th>\n",
       "      <td id=\"T_8a929_row25_col0\" class=\"data row25 col0\" >/content/dam/rockwell-automation/images/photos/support/16x9-remote-support-center.jpg</td>\n",
       "      <td id=\"T_8a929_row25_col1\" class=\"data row25 col1\" >0.001619</td>\n",
       "    </tr>\n",
       "    <tr>\n",
       "      <th id=\"T_8a929_level0_row26\" class=\"row_heading level0 row26\" >23</th>\n",
       "      <td id=\"T_8a929_row26_col0\" class=\"data row26 col0\" >/content/dam/rockwell-automation/videos/capabilities/mes-solutions/from-mine-to-dispatch-bay-mes-delivers-a-connected-factory-for-battery-producers/from-mine-to-dispatch-bay-mes-delivers-a-connected-factory-for-battery-producers-en.mp4</td>\n",
       "      <td id=\"T_8a929_row26_col1\" class=\"data row26 col1\" >0.001566</td>\n",
       "    </tr>\n",
       "    <tr>\n",
       "      <th id=\"T_8a929_level0_row27\" class=\"row_heading level0 row27\" >15</th>\n",
       "      <td id=\"T_8a929_row27_col0\" class=\"data row27 col0\" >/content/dam/rockwell-automation/videos/capabilities/cybersecurity/how-a-managed-soc-can-transform-your-operations-and-help-mitigate-risk/how-a-managed-soc-can-transform-your-operations-and-help-mitigate-risk-en.mp4</td>\n",
       "      <td id=\"T_8a929_row27_col1\" class=\"data row27 col1\" >0.001425</td>\n",
       "    </tr>\n",
       "    <tr>\n",
       "      <th id=\"T_8a929_level0_row28\" class=\"row_heading level0 row28\" >32</th>\n",
       "      <td id=\"T_8a929_row28_col0\" class=\"data row28 col0\" >/content/dam/rockwell-automation/videos/products/software/factorytalk/factorytalk-design-hub-teams-work-better-together/factorytalk-design-hub-teams-work-better-together-en.mp4</td>\n",
       "      <td id=\"T_8a929_row28_col1\" class=\"data row28 col1\" >0.001283</td>\n",
       "    </tr>\n",
       "    <tr>\n",
       "      <th id=\"T_8a929_level0_row29\" class=\"row_heading level0 row29\" >38</th>\n",
       "      <td id=\"T_8a929_row29_col0\" class=\"data row29 col0\" >/content/rockwell-automation/www/ame/za/en_za/company/news/case-studies/maximum-transparency-across-all-levels-at-samsung-sdi-battery-sy.html</td>\n",
       "      <td id=\"T_8a929_row29_col1\" class=\"data row29 col1\" >0.001274</td>\n",
       "    </tr>\n",
       "    <tr>\n",
       "      <th id=\"T_8a929_level0_row30\" class=\"row_heading level0 row30\" >16</th>\n",
       "      <td id=\"T_8a929_row30_col0\" class=\"data row30 col0\" >/content/dam/rockwell-automation/videos/capabilities/digital-transformation/innovating-for-results/innovating-for-results-en.mp4</td>\n",
       "      <td id=\"T_8a929_row30_col1\" class=\"data row30 col1\" >0.001203</td>\n",
       "    </tr>\n",
       "    <tr>\n",
       "      <th id=\"T_8a929_level0_row31\" class=\"row_heading level0 row31\" >36</th>\n",
       "      <td id=\"T_8a929_row31_col0\" class=\"data row31 col0\" >/content/dam/rockwell-automation/videos/products/software/factorytalk/improving-collaboration-and-productivity-for-design-teams/improving-collaboration-and-productivity-for-design-teams-en.mp4</td>\n",
       "      <td id=\"T_8a929_row31_col1\" class=\"data row31 col1\" >0.001203</td>\n",
       "    </tr>\n",
       "    <tr>\n",
       "      <th id=\"T_8a929_level0_row32\" class=\"row_heading level0 row32\" >37</th>\n",
       "      <td id=\"T_8a929_row32_col0\" class=\"data row32 col0\" >/content/dam/rockwell-automation/videos/products/software/factorytalk/using-maintenance-software-to-optimize-asset-performance/using-maintenance-software-to-optimize-asset-performance-en.mp4</td>\n",
       "      <td id=\"T_8a929_row32_col1\" class=\"data row32 col1\" >0.001203</td>\n",
       "    </tr>\n",
       "    <tr>\n",
       "      <th id=\"T_8a929_level0_row33\" class=\"row_heading level0 row33\" >12</th>\n",
       "      <td id=\"T_8a929_row33_col0\" class=\"data row33 col0\" >/content/dam/rockwell-automation/videos/capabilities/connected-enterprise/building-the-connected-enterprise-production-system-with-operations-software/building-the-connected-enterprise-production-system-with-operations-software-en.mp4</td>\n",
       "      <td id=\"T_8a929_row33_col1\" class=\"data row33 col1\" >0.001203</td>\n",
       "    </tr>\n",
       "    <tr>\n",
       "      <th id=\"T_8a929_level0_row34\" class=\"row_heading level0 row34\" >35</th>\n",
       "      <td id=\"T_8a929_row34_col0\" class=\"data row34 col0\" >/content/dam/rockwell-automation/videos/products/software/factorytalk/factorytalk-remote-access-overview-architectures-options/factorytalk-remote-access-overview-architectures-options-en.mp4</td>\n",
       "      <td id=\"T_8a929_row34_col1\" class=\"data row34 col1\" >0.001100</td>\n",
       "    </tr>\n",
       "    <tr>\n",
       "      <th id=\"T_8a929_level0_row35\" class=\"row_heading level0 row35\" >14</th>\n",
       "      <td id=\"T_8a929_row35_col0\" class=\"data row35 col0\" >/content/dam/rockwell-automation/videos/capabilities/cybersecurity/cybersecurity-watch-a-hack-in-real-time/cybersecurity-hack-in-real-time-en.mp4</td>\n",
       "      <td id=\"T_8a929_row35_col1\" class=\"data row35 col1\" >0.001007</td>\n",
       "    </tr>\n",
       "    <tr>\n",
       "      <th id=\"T_8a929_level0_row36\" class=\"row_heading level0 row36\" >1</th>\n",
       "      <td id=\"T_8a929_row36_col0\" class=\"data row36 col0\" >/content/dam/rockwell-automation/sites/downloads/pdf/6300-br001_-en-p.pdf</td>\n",
       "      <td id=\"T_8a929_row36_col1\" class=\"data row36 col1\" >0.000962</td>\n",
       "    </tr>\n",
       "    <tr>\n",
       "      <th id=\"T_8a929_level0_row37\" class=\"row_heading level0 row37\" >2</th>\n",
       "      <td id=\"T_8a929_row37_col0\" class=\"data row37 col0\" >/content/dam/rockwell-automation/sites/downloads/pdf/6300-br003_-en-p.pdf</td>\n",
       "      <td id=\"T_8a929_row37_col1\" class=\"data row37 col1\" >0.000962</td>\n",
       "    </tr>\n",
       "    <tr>\n",
       "      <th id=\"T_8a929_level0_row38\" class=\"row_heading level0 row38\" >27</th>\n",
       "      <td id=\"T_8a929_row38_col0\" class=\"data row38 col0\" >/content/dam/rockwell-automation/videos/events/af-2022/on-demand/andyrobots-welcomes-automation-fair-attendees/andyrobots-welcomes-automation-fair-attendees-en.mp4</td>\n",
       "      <td id=\"T_8a929_row38_col1\" class=\"data row38 col1\" >0.000810</td>\n",
       "    </tr>\n",
       "    <tr>\n",
       "      <th id=\"T_8a929_level0_row39\" class=\"row_heading level0 row39\" >17</th>\n",
       "      <td id=\"T_8a929_row39_col0\" class=\"data row39 col0\" >/content/dam/rockwell-automation/videos/capabilities/industrial-analytics/leading-with-data-our-vision-for-industrial-analytics/leading-with-data-our-vision-for-industrial-analytics-en.mp4</td>\n",
       "      <td id=\"T_8a929_row39_col1\" class=\"data row39 col1\" >0.000810</td>\n",
       "    </tr>\n",
       "    <tr>\n",
       "      <th id=\"T_8a929_level0_row40\" class=\"row_heading level0 row40\" >19</th>\n",
       "      <td id=\"T_8a929_row40_col0\" class=\"data row40 col0\" >/content/dam/rockwell-automation/videos/capabilities/industrial-maintenance-support/sustainability-enabling-the-circular-economy-with-industrial-automation-repair-services/sustainability-enabling-the-circular-economy-with-industrial-automation-repair-serv</td>\n",
       "      <td id=\"T_8a929_row40_col1\" class=\"data row40 col1\" >0.000810</td>\n",
       "    </tr>\n",
       "    <tr>\n",
       "      <th id=\"T_8a929_level0_row41\" class=\"row_heading level0 row41\" >30</th>\n",
       "      <td id=\"T_8a929_row41_col0\" class=\"data row41 col0\" >/content/dam/rockwell-automation/videos/products/hardware/motor-control-centers/strengthening-our-motor-control-portfolio-with-cubic/strengthening-our-motor-control-portfolio-with-cubic-en.mp4</td>\n",
       "      <td id=\"T_8a929_row41_col1\" class=\"data row41 col1\" >0.000810</td>\n",
       "    </tr>\n",
       "    <tr>\n",
       "      <th id=\"T_8a929_level0_row42\" class=\"row_heading level0 row42\" >22</th>\n",
       "      <td id=\"T_8a929_row42_col0\" class=\"data row42 col0\" >/content/dam/rockwell-automation/videos/capabilities/machine-and-equipment-builders/on-machine-solutions-reimagined/on-machine-solutions-reimagined-en.mp4</td>\n",
       "      <td id=\"T_8a929_row42_col1\" class=\"data row42 col1\" >0.000810</td>\n",
       "    </tr>\n",
       "  </tbody>\n",
       "</table>\n"
      ],
      "text/plain": [
       "<pandas.io.formats.style.Styler at 0x7fa78c9e1490>"
      ]
     },
     "execution_count": 17,
     "metadata": {},
     "output_type": "execute_result"
    }
   ],
   "source": [
    "weights = pd.DataFrame([vectorizer.get_feature_names(), asset_prob.tolist()]).T\n",
    "weights.columns = [\"asset\", \"weight\"]\n",
    "weights.sort_values(by=\"weight\", ascending=False).style"
   ]
  },
  {
   "cell_type": "markdown",
   "id": "66a9fb3b",
   "metadata": {},
   "source": [
    "## Stage-2: Potential Lead - Sales people aspect\n",
    "- with the label from sales people\n",
    "    - type-1: interaction on Binge within lead status promote time range (30 days)\n",
    "    - type-2: is existed qualified lead or not \n",
    "- conversion transition (which stage of conversion)\n",
    "    - reading asset A has higher probably to become a existing lead compared with reading asset B\n",
    "- assumption\n",
    "    - <font color=red>only consider people already shows their interest in the funnel (only elq ID exist)</font>. So, this is kind of stage2 filter.\n",
    "        - stage1 filter will consider anonomys visitors, and make them keep interest and leave information in elq first \n",
    "    - potential lead will have the similar interaction patterns as existing lead"
   ]
  },
  {
   "cell_type": "markdown",
   "id": "9d369861",
   "metadata": {},
   "source": [
    "### tables relationship\n",
    "```SQL\n",
    "FROM aem.RawTraffic AS binge \n",
    "    LEFT JOIN elo.Contact AS contact ON binge.EloquaContactId = contact.EloquaContactId\n",
    "    LEFT JOIN crm.Lead AS lead ON lead.emailaddress1 = contact.EmailAddress\n",
    "```\n",
    "- relationship\n",
    "    - elq is the bridge table \n",
    "        - elq ID : Email = <font color=red>N</font>:1 \n",
    "        - overwrite\n",
    "    - crm_lead\n",
    "        - account id : Email = 1:N \n",
    "        - add new row\n",
    "    - stage2_raw\n",
    "        - session id : elq ID = 1:1\n",
    "        - add new row\n",
    "        - mvcid : elq ID = 1:N"
   ]
  },
  {
   "cell_type": "code",
   "execution_count": 18,
   "id": "15c6d5f9",
   "metadata": {
    "ExecuteTime": {
     "end_time": "2022-12-01T21:07:37.848654Z",
     "start_time": "2022-12-01T21:07:37.295785Z"
    }
   },
   "outputs": [
    {
     "data": {
      "text/html": [
       "<div>\n",
       "<style scoped>\n",
       "    .dataframe tbody tr th:only-of-type {\n",
       "        vertical-align: middle;\n",
       "    }\n",
       "\n",
       "    .dataframe tbody tr th {\n",
       "        vertical-align: top;\n",
       "    }\n",
       "\n",
       "    .dataframe thead th {\n",
       "        text-align: right;\n",
       "    }\n",
       "</style>\n",
       "<table border=\"1\" class=\"dataframe\">\n",
       "  <thead>\n",
       "    <tr style=\"text-align: right;\">\n",
       "      <th></th>\n",
       "      <th>emailaddress1</th>\n",
       "      <th>createdon</th>\n",
       "      <th>ra_leadstage</th>\n",
       "      <th>ra_leadstagename</th>\n",
       "      <th>statecode</th>\n",
       "      <th>statecodename</th>\n",
       "      <th>statuscode</th>\n",
       "      <th>statuscodename</th>\n",
       "    </tr>\n",
       "  </thead>\n",
       "  <tbody>\n",
       "    <tr>\n",
       "      <th>58319.0</th>\n",
       "      <td>01032409699@nate.com</td>\n",
       "      <td>2019-03-11 07:49:56</td>\n",
       "      <td>5.0</td>\n",
       "      <td>Awaiting Sales Qualification</td>\n",
       "      <td>2</td>\n",
       "      <td>Disqualified</td>\n",
       "      <td>953810014.0</td>\n",
       "      <td>Duplicate Lead</td>\n",
       "    </tr>\n",
       "    <tr>\n",
       "      <th>61532.0</th>\n",
       "      <td>012k.yamazaki@tam-tokyo.co.jp</td>\n",
       "      <td>2018-01-11 17:44:35</td>\n",
       "      <td>5.0</td>\n",
       "      <td>Awaiting Sales Qualification</td>\n",
       "      <td>2</td>\n",
       "      <td>Disqualified</td>\n",
       "      <td>4.0</td>\n",
       "      <td>Not buying or influence location</td>\n",
       "    </tr>\n",
       "    <tr>\n",
       "      <th>218822.0</th>\n",
       "      <td>012k.yamazaki@tam-tokyo.co.jp</td>\n",
       "      <td>2022-03-04 03:29:23</td>\n",
       "      <td>4.0</td>\n",
       "      <td>Awaiting Sales Acceptance</td>\n",
       "      <td>2</td>\n",
       "      <td>Disqualified</td>\n",
       "      <td>6.0</td>\n",
       "      <td>Not Decision Maker</td>\n",
       "    </tr>\n",
       "    <tr>\n",
       "      <th>107372.0</th>\n",
       "      <td>017089@cnkh.com</td>\n",
       "      <td>2020-04-29 19:37:00</td>\n",
       "      <td>5.0</td>\n",
       "      <td>Awaiting Sales Qualification</td>\n",
       "      <td>2</td>\n",
       "      <td>Disqualified</td>\n",
       "      <td>953810016.0</td>\n",
       "      <td>No buying intention</td>\n",
       "    </tr>\n",
       "    <tr>\n",
       "      <th>107374.0</th>\n",
       "      <td>017215@cnkh.com</td>\n",
       "      <td>2018-03-16 03:51:26</td>\n",
       "      <td>5.0</td>\n",
       "      <td>Awaiting Sales Qualification</td>\n",
       "      <td>2</td>\n",
       "      <td>Disqualified</td>\n",
       "      <td>4.0</td>\n",
       "      <td>Not buying or influence location</td>\n",
       "    </tr>\n",
       "    <tr>\n",
       "      <th>...</th>\n",
       "      <td>...</td>\n",
       "      <td>...</td>\n",
       "      <td>...</td>\n",
       "      <td>...</td>\n",
       "      <td>...</td>\n",
       "      <td>...</td>\n",
       "      <td>...</td>\n",
       "      <td>...</td>\n",
       "    </tr>\n",
       "    <tr>\n",
       "      <th>81138.0</th>\n",
       "      <td>zzq516@163.com</td>\n",
       "      <td>2017-09-21 06:00:00</td>\n",
       "      <td>5.0</td>\n",
       "      <td>Awaiting Sales Qualification</td>\n",
       "      <td>1</td>\n",
       "      <td>Qualified</td>\n",
       "      <td>3.0</td>\n",
       "      <td>Qualified</td>\n",
       "    </tr>\n",
       "    <tr>\n",
       "      <th>194288.0</th>\n",
       "      <td>zzq516@163.com</td>\n",
       "      <td>2018-01-08 04:18:52</td>\n",
       "      <td>5.0</td>\n",
       "      <td>Awaiting Sales Qualification</td>\n",
       "      <td>1</td>\n",
       "      <td>Qualified</td>\n",
       "      <td>3.0</td>\n",
       "      <td>Qualified</td>\n",
       "    </tr>\n",
       "    <tr>\n",
       "      <th>83729.0</th>\n",
       "      <td>zzq63@126.com</td>\n",
       "      <td>2016-12-24 06:00:00</td>\n",
       "      <td>5.0</td>\n",
       "      <td>Awaiting Sales Qualification</td>\n",
       "      <td>2</td>\n",
       "      <td>Disqualified</td>\n",
       "      <td>4.0</td>\n",
       "      <td>Not buying or influence location</td>\n",
       "    </tr>\n",
       "    <tr>\n",
       "      <th>253324.0</th>\n",
       "      <td>zzwj1009@163.com</td>\n",
       "      <td>2022-11-02 05:34:52</td>\n",
       "      <td>4.0</td>\n",
       "      <td>Awaiting Sales Acceptance</td>\n",
       "      <td>0</td>\n",
       "      <td>Open</td>\n",
       "      <td>1.0</td>\n",
       "      <td>New</td>\n",
       "    </tr>\n",
       "    <tr>\n",
       "      <th>102350.0</th>\n",
       "      <td>zzzmxm01@163.com</td>\n",
       "      <td>2019-09-30 03:08:25</td>\n",
       "      <td>5.0</td>\n",
       "      <td>Awaiting Sales Qualification</td>\n",
       "      <td>1</td>\n",
       "      <td>Qualified</td>\n",
       "      <td>3.0</td>\n",
       "      <td>Qualified</td>\n",
       "    </tr>\n",
       "  </tbody>\n",
       "</table>\n",
       "<p>183567 rows × 8 columns</p>\n",
       "</div>"
      ],
      "text/plain": [
       "                          emailaddress1            createdon  ra_leadstage  \\\n",
       "58319.0            01032409699@nate.com  2019-03-11 07:49:56           5.0   \n",
       "61532.0   012k.yamazaki@tam-tokyo.co.jp  2018-01-11 17:44:35           5.0   \n",
       "218822.0  012k.yamazaki@tam-tokyo.co.jp  2022-03-04 03:29:23           4.0   \n",
       "107372.0                017089@cnkh.com  2020-04-29 19:37:00           5.0   \n",
       "107374.0                017215@cnkh.com  2018-03-16 03:51:26           5.0   \n",
       "...                                 ...                  ...           ...   \n",
       "81138.0                  zzq516@163.com  2017-09-21 06:00:00           5.0   \n",
       "194288.0                 zzq516@163.com  2018-01-08 04:18:52           5.0   \n",
       "83729.0                   zzq63@126.com  2016-12-24 06:00:00           5.0   \n",
       "253324.0               zzwj1009@163.com  2022-11-02 05:34:52           4.0   \n",
       "102350.0               zzzmxm01@163.com  2019-09-30 03:08:25           5.0   \n",
       "\n",
       "                      ra_leadstagename statecode statecodename   statuscode  \\\n",
       "58319.0   Awaiting Sales Qualification         2  Disqualified  953810014.0   \n",
       "61532.0   Awaiting Sales Qualification         2  Disqualified          4.0   \n",
       "218822.0     Awaiting Sales Acceptance         2  Disqualified          6.0   \n",
       "107372.0  Awaiting Sales Qualification         2  Disqualified  953810016.0   \n",
       "107374.0  Awaiting Sales Qualification         2  Disqualified          4.0   \n",
       "...                                ...       ...           ...          ...   \n",
       "81138.0   Awaiting Sales Qualification         1     Qualified          3.0   \n",
       "194288.0  Awaiting Sales Qualification         1     Qualified          3.0   \n",
       "83729.0   Awaiting Sales Qualification         2  Disqualified          4.0   \n",
       "253324.0     Awaiting Sales Acceptance         0          Open          1.0   \n",
       "102350.0  Awaiting Sales Qualification         1     Qualified          3.0   \n",
       "\n",
       "                            statuscodename  \n",
       "58319.0                     Duplicate Lead  \n",
       "61532.0   Not buying or influence location  \n",
       "218822.0                Not Decision Maker  \n",
       "107372.0               No buying intention  \n",
       "107374.0  Not buying or influence location  \n",
       "...                                    ...  \n",
       "81138.0                          Qualified  \n",
       "194288.0                         Qualified  \n",
       "83729.0   Not buying or influence location  \n",
       "253324.0                               New  \n",
       "102350.0                         Qualified  \n",
       "\n",
       "[183567 rows x 8 columns]"
      ]
     },
     "execution_count": 18,
     "metadata": {},
     "output_type": "execute_result"
    }
   ],
   "source": [
    "crm_lead[[\"emailaddress1\",\"createdon\", \"ra_leadstage\", \"ra_leadstagename\", \"statecode\", \"statecodename\", \"statuscode\", \"statuscodename\"]].sort_values(by=['emailaddress1', 'createdon'])"
   ]
  },
  {
   "cell_type": "markdown",
   "id": "16eb22c6",
   "metadata": {},
   "source": [
    "### positive signal\n",
    "1. method A: within a month & the statuscodename change from unQualified to Qualified\n",
    "    1. ra_leadstage increase 1\n",
    "2. <font color=red>method B: identify all the existing lead, find the visitor has the similar pattern on binge asset</font>"
   ]
  },
  {
   "cell_type": "code",
   "execution_count": 24,
   "id": "ae769188",
   "metadata": {
    "ExecuteTime": {
     "end_time": "2022-12-01T21:18:53.484115Z",
     "start_time": "2022-12-01T21:18:42.892011Z"
    }
   },
   "outputs": [
    {
     "data": {
      "text/plain": [
       "EmailAddress\n",
       "!!edson.carlos!!@ensinger.co.uk          1\n",
       "marina.schmidt@szmh-group.com            1\n",
       "marina.schirmel@scherdel.de              1\n",
       "marina.schiffer@scheidt-bachmann.com     1\n",
       "marina.schetino@macrotec.ind.br          1\n",
       "                                        ..\n",
       "c_rudiyono@yahoo.com                    15\n",
       "dixie_bvn@hotmail.com                   17\n",
       "123@yahoo.com                           18\n",
       "eric.dacer@ptcerna.com                  20\n",
       "nancy.cordoba@elvatron.com              21\n",
       "Length: 6257411, dtype: int64"
      ]
     },
     "execution_count": 24,
     "metadata": {},
     "output_type": "execute_result"
    }
   ],
   "source": [
    "elq_bridge.groupby(\"EmailAddress\").size().sort_values()"
   ]
  },
  {
   "cell_type": "code",
   "execution_count": 28,
   "id": "78fc1126",
   "metadata": {
    "ExecuteTime": {
     "end_time": "2022-12-01T21:21:15.276467Z",
     "start_time": "2022-12-01T21:21:15.188284Z"
    }
   },
   "outputs": [
    {
     "data": {
      "text/html": [
       "<div>\n",
       "<style scoped>\n",
       "    .dataframe tbody tr th:only-of-type {\n",
       "        vertical-align: middle;\n",
       "    }\n",
       "\n",
       "    .dataframe tbody tr th {\n",
       "        vertical-align: top;\n",
       "    }\n",
       "\n",
       "    .dataframe thead th {\n",
       "        text-align: right;\n",
       "    }\n",
       "</style>\n",
       "<table border=\"1\" class=\"dataframe\">\n",
       "  <thead>\n",
       "    <tr style=\"text-align: right;\">\n",
       "      <th></th>\n",
       "      <th>SessionVisitorId</th>\n",
       "      <th>VisitStartDateTime</th>\n",
       "      <th>VisitPageNumber</th>\n",
       "      <th>VisitNumber</th>\n",
       "      <th>NewVisit</th>\n",
       "      <th>EventList</th>\n",
       "      <th>ExcludeHit</th>\n",
       "      <th>HitSource</th>\n",
       "      <th>DateTime_UTC</th>\n",
       "      <th>PageURL</th>\n",
       "      <th>...</th>\n",
       "      <th>PDFurl</th>\n",
       "      <th>PDFtitle</th>\n",
       "      <th>PDFpagecount</th>\n",
       "      <th>BingeId</th>\n",
       "      <th>BingeName</th>\n",
       "      <th>BingeCriticalScore</th>\n",
       "      <th>BingeCampaignId</th>\n",
       "      <th>BingeScoredAsset</th>\n",
       "      <th>BingeScoredAssetPath</th>\n",
       "      <th>BingeScoredAssetScore</th>\n",
       "    </tr>\n",
       "  </thead>\n",
       "  <tbody>\n",
       "    <tr>\n",
       "      <th>0</th>\n",
       "      <td>7176155060582284921_8012265746597717484</td>\n",
       "      <td>2022-11-21 05:27:41</td>\n",
       "      <td>58</td>\n",
       "      <td>4</td>\n",
       "      <td>False</td>\n",
       "      <td>215,216=70.00,10035,10036,10037,10038,10039,10...</td>\n",
       "      <td>0</td>\n",
       "      <td>1</td>\n",
       "      <td>2022-11-21 05:34:32+05:30</td>\n",
       "      <td>https://www.rockwellautomation.com/en-in/compa...</td>\n",
       "      <td>...</td>\n",
       "      <td>NaN</td>\n",
       "      <td>NaN</td>\n",
       "      <td>NaN</td>\n",
       "      <td>be1667335927367622</td>\n",
       "      <td>Digital Engineering and Design</td>\n",
       "      <td>2.0</td>\n",
       "      <td>CMP-05108-D0V3T8</td>\n",
       "      <td>What is New and Next at Rockwell Automation</td>\n",
       "      <td>/content/dam/rockwell-automation/videos/events...</td>\n",
       "      <td>1.0</td>\n",
       "    </tr>\n",
       "    <tr>\n",
       "      <th>1</th>\n",
       "      <td>5810965755297221743_6658970410020608210</td>\n",
       "      <td>2022-11-21 05:15:36</td>\n",
       "      <td>10</td>\n",
       "      <td>1</td>\n",
       "      <td>False</td>\n",
       "      <td>215,216=10.00,217=2.00,10035,10036,10037,10038...</td>\n",
       "      <td>0</td>\n",
       "      <td>1</td>\n",
       "      <td>2022-11-21 05:16:06+00:00</td>\n",
       "      <td>https://www.rockwellautomation.com/en-us/indus...</td>\n",
       "      <td>...</td>\n",
       "      <td>/content/dam/rockwell-automation/sites/downloa...</td>\n",
       "      <td>Electric Vehicles And Smart Manufacturing - A ...</td>\n",
       "      <td>14.0</td>\n",
       "      <td>be1654108452838784</td>\n",
       "      <td>The Race to Electric Vehicle Production is Here</td>\n",
       "      <td>2.0</td>\n",
       "      <td>CMP-04453-F5G5H2</td>\n",
       "      <td>Electric Vehicles And Smart Manufacturing - A ...</td>\n",
       "      <td>/content/dam/rockwell-automation/sites/downloa...</td>\n",
       "      <td>2.0</td>\n",
       "    </tr>\n",
       "    <tr>\n",
       "      <th>2</th>\n",
       "      <td>5810965755297221743_6658970410020608210</td>\n",
       "      <td>2022-11-21 05:15:36</td>\n",
       "      <td>8</td>\n",
       "      <td>1</td>\n",
       "      <td>False</td>\n",
       "      <td>215,216=9.00,10035,10036,10037,10038,10039,100...</td>\n",
       "      <td>0</td>\n",
       "      <td>1</td>\n",
       "      <td>2022-11-21 05:15:56+00:00</td>\n",
       "      <td>https://www.rockwellautomation.com/en-us/indus...</td>\n",
       "      <td>...</td>\n",
       "      <td>/content/dam/rockwell-automation/sites/downloa...</td>\n",
       "      <td>Electric Vehicles And Smart Manufacturing - A ...</td>\n",
       "      <td>14.0</td>\n",
       "      <td>be1654108452838784</td>\n",
       "      <td>The Race to Electric Vehicle Production is Here</td>\n",
       "      <td>2.0</td>\n",
       "      <td>CMP-04453-F5G5H2</td>\n",
       "      <td>Electric Vehicles And Smart Manufacturing - A ...</td>\n",
       "      <td>/content/dam/rockwell-automation/sites/downloa...</td>\n",
       "      <td>2.0</td>\n",
       "    </tr>\n",
       "    <tr>\n",
       "      <th>3</th>\n",
       "      <td>5796852693798854163_4240598388083859714</td>\n",
       "      <td>2022-11-21 04:37:41</td>\n",
       "      <td>85</td>\n",
       "      <td>52</td>\n",
       "      <td>False</td>\n",
       "      <td>215,217=2.00,10035,10036,10037,10038,10039,113</td>\n",
       "      <td>0</td>\n",
       "      <td>1</td>\n",
       "      <td>2022-11-21 04:54:06+10:00</td>\n",
       "      <td>https://www.rockwellautomation.com/en-us/compa...</td>\n",
       "      <td>...</td>\n",
       "      <td>NaN</td>\n",
       "      <td>NaN</td>\n",
       "      <td>NaN</td>\n",
       "      <td>be1667920230989108</td>\n",
       "      <td>Expo On-Demand: Industry &amp; Solutions Virtual T...</td>\n",
       "      <td>2.0</td>\n",
       "      <td>CMP-05108-D0V3T8</td>\n",
       "      <td>The Augmented Workforce</td>\n",
       "      <td>/content/dam/rockwell-automation/videos/capabi...</td>\n",
       "      <td>1.0</td>\n",
       "    </tr>\n",
       "    <tr>\n",
       "      <th>4</th>\n",
       "      <td>5796852693798854163_4240598388083859714</td>\n",
       "      <td>2022-11-21 04:37:41</td>\n",
       "      <td>77</td>\n",
       "      <td>52</td>\n",
       "      <td>False</td>\n",
       "      <td>215,216=441.00,10035,10036,10037,10038,10039,5...</td>\n",
       "      <td>0</td>\n",
       "      <td>1</td>\n",
       "      <td>2022-11-21 04:49:46+10:00</td>\n",
       "      <td>https://www.rockwellautomation.com/en-us/compa...</td>\n",
       "      <td>...</td>\n",
       "      <td>NaN</td>\n",
       "      <td>NaN</td>\n",
       "      <td>NaN</td>\n",
       "      <td>be1667920230989108</td>\n",
       "      <td>Expo On-Demand Technology &amp; Services Virtual T...</td>\n",
       "      <td>2.0</td>\n",
       "      <td>CMP-05108-D0V3T8</td>\n",
       "      <td>The Augmented Workforce</td>\n",
       "      <td>/content/dam/rockwell-automation/videos/capabi...</td>\n",
       "      <td>1.0</td>\n",
       "    </tr>\n",
       "    <tr>\n",
       "      <th>...</th>\n",
       "      <td>...</td>\n",
       "      <td>...</td>\n",
       "      <td>...</td>\n",
       "      <td>...</td>\n",
       "      <td>...</td>\n",
       "      <td>...</td>\n",
       "      <td>...</td>\n",
       "      <td>...</td>\n",
       "      <td>...</td>\n",
       "      <td>...</td>\n",
       "      <td>...</td>\n",
       "      <td>...</td>\n",
       "      <td>...</td>\n",
       "      <td>...</td>\n",
       "      <td>...</td>\n",
       "      <td>...</td>\n",
       "      <td>...</td>\n",
       "      <td>...</td>\n",
       "      <td>...</td>\n",
       "      <td>...</td>\n",
       "      <td>...</td>\n",
       "    </tr>\n",
       "    <tr>\n",
       "      <th>23817</th>\n",
       "      <td>6871057502780570223_6332759782801372912</td>\n",
       "      <td>2022-06-13 16:35:47</td>\n",
       "      <td>252</td>\n",
       "      <td>4</td>\n",
       "      <td>False</td>\n",
       "      <td>215,217=2.00,10035,10036,10037,10038,10039,113</td>\n",
       "      <td>0</td>\n",
       "      <td>1</td>\n",
       "      <td>2022-06-13 17:29:04-04:00</td>\n",
       "      <td>https://locator.rockwellautomation.com/</td>\n",
       "      <td>...</td>\n",
       "      <td>/content/dam/rockwell-automation/sites/downloa...</td>\n",
       "      <td>Electric Vehicles And Smart Manufacturing - A ...</td>\n",
       "      <td>14.0</td>\n",
       "      <td>be1654108452838784</td>\n",
       "      <td>The Race to Electric Vehicle Production is Here</td>\n",
       "      <td>8.0</td>\n",
       "      <td>CMP-04453-F5G5H2</td>\n",
       "      <td>Electric Vehicles And Smart Manufacturing - A ...</td>\n",
       "      <td>/content/dam/rockwell-automation/sites/downloa...</td>\n",
       "      <td>2.0</td>\n",
       "    </tr>\n",
       "    <tr>\n",
       "      <th>23818</th>\n",
       "      <td>6871057502780570223_6332759782801372912</td>\n",
       "      <td>2022-06-13 16:35:47</td>\n",
       "      <td>160</td>\n",
       "      <td>4</td>\n",
       "      <td>False</td>\n",
       "      <td>215,216=10.00,217=2.00,10035,10036,10037,10038...</td>\n",
       "      <td>0</td>\n",
       "      <td>1</td>\n",
       "      <td>2022-06-13 16:59:46-04:00</td>\n",
       "      <td>https://www.rockwellautomation.com/search/ra-e...</td>\n",
       "      <td>...</td>\n",
       "      <td>/content/dam/rockwell-automation/sites/downloa...</td>\n",
       "      <td>Electric Vehicles And Smart Manufacturing - A ...</td>\n",
       "      <td>14.0</td>\n",
       "      <td>be1654108452838784</td>\n",
       "      <td>The Race to Electric Vehicle Production is Here</td>\n",
       "      <td>8.0</td>\n",
       "      <td>CMP-04453-F5G5H2</td>\n",
       "      <td>Electric Vehicles And Smart Manufacturing - A ...</td>\n",
       "      <td>/content/dam/rockwell-automation/sites/downloa...</td>\n",
       "      <td>2.0</td>\n",
       "    </tr>\n",
       "    <tr>\n",
       "      <th>23819</th>\n",
       "      <td>6871057502780570223_6332759782801372912</td>\n",
       "      <td>2022-06-13 16:35:47</td>\n",
       "      <td>159</td>\n",
       "      <td>4</td>\n",
       "      <td>False</td>\n",
       "      <td>215,216=9.00,10035,10036,10037,10038,10039,100...</td>\n",
       "      <td>0</td>\n",
       "      <td>1</td>\n",
       "      <td>2022-06-13 16:59:36-04:00</td>\n",
       "      <td>https://www.rockwellautomation.com/search/ra-e...</td>\n",
       "      <td>...</td>\n",
       "      <td>/content/dam/rockwell-automation/sites/downloa...</td>\n",
       "      <td>Electric Vehicles And Smart Manufacturing - A ...</td>\n",
       "      <td>14.0</td>\n",
       "      <td>be1654108452838784</td>\n",
       "      <td>The Race to Electric Vehicle Production is Here</td>\n",
       "      <td>8.0</td>\n",
       "      <td>CMP-04453-F5G5H2</td>\n",
       "      <td>Electric Vehicles And Smart Manufacturing - A ...</td>\n",
       "      <td>/content/dam/rockwell-automation/sites/downloa...</td>\n",
       "      <td>2.0</td>\n",
       "    </tr>\n",
       "    <tr>\n",
       "      <th>23820</th>\n",
       "      <td>3181612921134735842_4648118940623786705</td>\n",
       "      <td>2022-06-13 10:08:39</td>\n",
       "      <td>60</td>\n",
       "      <td>12</td>\n",
       "      <td>False</td>\n",
       "      <td>215,216=10.00,217=1.00,10035,10036,10037,10038...</td>\n",
       "      <td>0</td>\n",
       "      <td>1</td>\n",
       "      <td>2022-06-13 10:49:16+05:30</td>\n",
       "      <td>https://www.rockwellautomation.com/search/ra-e...</td>\n",
       "      <td>...</td>\n",
       "      <td>/content/dam/rockwell-automation/sites/downloa...</td>\n",
       "      <td>Getting Started in IAB (85 minutes, 121 pages)</td>\n",
       "      <td>121.0</td>\n",
       "      <td>be1650550449644850</td>\n",
       "      <td>Basic Functionality Labs</td>\n",
       "      <td>5.0</td>\n",
       "      <td>builder_labs</td>\n",
       "      <td>Getting Started in IAB (85 minutes, 121 pages)</td>\n",
       "      <td>/content/dam/rockwell-automation/sites/downloa...</td>\n",
       "      <td>1.0</td>\n",
       "    </tr>\n",
       "    <tr>\n",
       "      <th>23821</th>\n",
       "      <td>3181612921134735842_4648118940623786705</td>\n",
       "      <td>2022-06-13 10:08:39</td>\n",
       "      <td>57</td>\n",
       "      <td>12</td>\n",
       "      <td>False</td>\n",
       "      <td>215,216=10.00,10035,10036,10037,10038,10039,10...</td>\n",
       "      <td>0</td>\n",
       "      <td>1</td>\n",
       "      <td>2022-06-13 10:49:04+05:30</td>\n",
       "      <td>https://www.rockwellautomation.com/search/ra-e...</td>\n",
       "      <td>...</td>\n",
       "      <td>/content/dam/rockwell-automation/sites/downloa...</td>\n",
       "      <td>Getting Started in IAB (85 minutes, 121 pages)</td>\n",
       "      <td>121.0</td>\n",
       "      <td>be1650550449644850</td>\n",
       "      <td>Basic Functionality Labs</td>\n",
       "      <td>5.0</td>\n",
       "      <td>builder_labs</td>\n",
       "      <td>Getting Started in IAB (85 minutes, 121 pages)</td>\n",
       "      <td>/content/dam/rockwell-automation/sites/downloa...</td>\n",
       "      <td>1.0</td>\n",
       "    </tr>\n",
       "  </tbody>\n",
       "</table>\n",
       "<p>23822 rows × 67 columns</p>\n",
       "</div>"
      ],
      "text/plain": [
       "                              SessionVisitorId   VisitStartDateTime  \\\n",
       "0      7176155060582284921_8012265746597717484  2022-11-21 05:27:41   \n",
       "1      5810965755297221743_6658970410020608210  2022-11-21 05:15:36   \n",
       "2      5810965755297221743_6658970410020608210  2022-11-21 05:15:36   \n",
       "3      5796852693798854163_4240598388083859714  2022-11-21 04:37:41   \n",
       "4      5796852693798854163_4240598388083859714  2022-11-21 04:37:41   \n",
       "...                                        ...                  ...   \n",
       "23817  6871057502780570223_6332759782801372912  2022-06-13 16:35:47   \n",
       "23818  6871057502780570223_6332759782801372912  2022-06-13 16:35:47   \n",
       "23819  6871057502780570223_6332759782801372912  2022-06-13 16:35:47   \n",
       "23820  3181612921134735842_4648118940623786705  2022-06-13 10:08:39   \n",
       "23821  3181612921134735842_4648118940623786705  2022-06-13 10:08:39   \n",
       "\n",
       "       VisitPageNumber  VisitNumber  NewVisit  \\\n",
       "0                   58            4     False   \n",
       "1                   10            1     False   \n",
       "2                    8            1     False   \n",
       "3                   85           52     False   \n",
       "4                   77           52     False   \n",
       "...                ...          ...       ...   \n",
       "23817              252            4     False   \n",
       "23818              160            4     False   \n",
       "23819              159            4     False   \n",
       "23820               60           12     False   \n",
       "23821               57           12     False   \n",
       "\n",
       "                                               EventList  ExcludeHit  \\\n",
       "0      215,216=70.00,10035,10036,10037,10038,10039,10...           0   \n",
       "1      215,216=10.00,217=2.00,10035,10036,10037,10038...           0   \n",
       "2      215,216=9.00,10035,10036,10037,10038,10039,100...           0   \n",
       "3         215,217=2.00,10035,10036,10037,10038,10039,113           0   \n",
       "4      215,216=441.00,10035,10036,10037,10038,10039,5...           0   \n",
       "...                                                  ...         ...   \n",
       "23817     215,217=2.00,10035,10036,10037,10038,10039,113           0   \n",
       "23818  215,216=10.00,217=2.00,10035,10036,10037,10038...           0   \n",
       "23819  215,216=9.00,10035,10036,10037,10038,10039,100...           0   \n",
       "23820  215,216=10.00,217=1.00,10035,10036,10037,10038...           0   \n",
       "23821  215,216=10.00,10035,10036,10037,10038,10039,10...           0   \n",
       "\n",
       "       HitSource               DateTime_UTC  \\\n",
       "0              1  2022-11-21 05:34:32+05:30   \n",
       "1              1  2022-11-21 05:16:06+00:00   \n",
       "2              1  2022-11-21 05:15:56+00:00   \n",
       "3              1  2022-11-21 04:54:06+10:00   \n",
       "4              1  2022-11-21 04:49:46+10:00   \n",
       "...          ...                        ...   \n",
       "23817          1  2022-06-13 17:29:04-04:00   \n",
       "23818          1  2022-06-13 16:59:46-04:00   \n",
       "23819          1  2022-06-13 16:59:36-04:00   \n",
       "23820          1  2022-06-13 10:49:16+05:30   \n",
       "23821          1  2022-06-13 10:49:04+05:30   \n",
       "\n",
       "                                                 PageURL  ...  \\\n",
       "0      https://www.rockwellautomation.com/en-in/compa...  ...   \n",
       "1      https://www.rockwellautomation.com/en-us/indus...  ...   \n",
       "2      https://www.rockwellautomation.com/en-us/indus...  ...   \n",
       "3      https://www.rockwellautomation.com/en-us/compa...  ...   \n",
       "4      https://www.rockwellautomation.com/en-us/compa...  ...   \n",
       "...                                                  ...  ...   \n",
       "23817            https://locator.rockwellautomation.com/  ...   \n",
       "23818  https://www.rockwellautomation.com/search/ra-e...  ...   \n",
       "23819  https://www.rockwellautomation.com/search/ra-e...  ...   \n",
       "23820  https://www.rockwellautomation.com/search/ra-e...  ...   \n",
       "23821  https://www.rockwellautomation.com/search/ra-e...  ...   \n",
       "\n",
       "                                                  PDFurl  \\\n",
       "0                                                    NaN   \n",
       "1      /content/dam/rockwell-automation/sites/downloa...   \n",
       "2      /content/dam/rockwell-automation/sites/downloa...   \n",
       "3                                                    NaN   \n",
       "4                                                    NaN   \n",
       "...                                                  ...   \n",
       "23817  /content/dam/rockwell-automation/sites/downloa...   \n",
       "23818  /content/dam/rockwell-automation/sites/downloa...   \n",
       "23819  /content/dam/rockwell-automation/sites/downloa...   \n",
       "23820  /content/dam/rockwell-automation/sites/downloa...   \n",
       "23821  /content/dam/rockwell-automation/sites/downloa...   \n",
       "\n",
       "                                                PDFtitle  PDFpagecount  \\\n",
       "0                                                    NaN           NaN   \n",
       "1      Electric Vehicles And Smart Manufacturing - A ...          14.0   \n",
       "2      Electric Vehicles And Smart Manufacturing - A ...          14.0   \n",
       "3                                                    NaN           NaN   \n",
       "4                                                    NaN           NaN   \n",
       "...                                                  ...           ...   \n",
       "23817  Electric Vehicles And Smart Manufacturing - A ...          14.0   \n",
       "23818  Electric Vehicles And Smart Manufacturing - A ...          14.0   \n",
       "23819  Electric Vehicles And Smart Manufacturing - A ...          14.0   \n",
       "23820     Getting Started in IAB (85 minutes, 121 pages)         121.0   \n",
       "23821     Getting Started in IAB (85 minutes, 121 pages)         121.0   \n",
       "\n",
       "                  BingeId                                          BingeName  \\\n",
       "0      be1667335927367622                     Digital Engineering and Design   \n",
       "1      be1654108452838784    The Race to Electric Vehicle Production is Here   \n",
       "2      be1654108452838784    The Race to Electric Vehicle Production is Here   \n",
       "3      be1667920230989108  Expo On-Demand: Industry & Solutions Virtual T...   \n",
       "4      be1667920230989108  Expo On-Demand Technology & Services Virtual T...   \n",
       "...                   ...                                                ...   \n",
       "23817  be1654108452838784    The Race to Electric Vehicle Production is Here   \n",
       "23818  be1654108452838784    The Race to Electric Vehicle Production is Here   \n",
       "23819  be1654108452838784    The Race to Electric Vehicle Production is Here   \n",
       "23820  be1650550449644850                           Basic Functionality Labs   \n",
       "23821  be1650550449644850                           Basic Functionality Labs   \n",
       "\n",
       "       BingeCriticalScore   BingeCampaignId  \\\n",
       "0                     2.0  CMP-05108-D0V3T8   \n",
       "1                     2.0  CMP-04453-F5G5H2   \n",
       "2                     2.0  CMP-04453-F5G5H2   \n",
       "3                     2.0  CMP-05108-D0V3T8   \n",
       "4                     2.0  CMP-05108-D0V3T8   \n",
       "...                   ...               ...   \n",
       "23817                 8.0  CMP-04453-F5G5H2   \n",
       "23818                 8.0  CMP-04453-F5G5H2   \n",
       "23819                 8.0  CMP-04453-F5G5H2   \n",
       "23820                 5.0      builder_labs   \n",
       "23821                 5.0      builder_labs   \n",
       "\n",
       "                                        BingeScoredAsset  \\\n",
       "0            What is New and Next at Rockwell Automation   \n",
       "1      Electric Vehicles And Smart Manufacturing - A ...   \n",
       "2      Electric Vehicles And Smart Manufacturing - A ...   \n",
       "3                                The Augmented Workforce   \n",
       "4                                The Augmented Workforce   \n",
       "...                                                  ...   \n",
       "23817  Electric Vehicles And Smart Manufacturing - A ...   \n",
       "23818  Electric Vehicles And Smart Manufacturing - A ...   \n",
       "23819  Electric Vehicles And Smart Manufacturing - A ...   \n",
       "23820     Getting Started in IAB (85 minutes, 121 pages)   \n",
       "23821     Getting Started in IAB (85 minutes, 121 pages)   \n",
       "\n",
       "                                    BingeScoredAssetPath BingeScoredAssetScore  \n",
       "0      /content/dam/rockwell-automation/videos/events...                   1.0  \n",
       "1      /content/dam/rockwell-automation/sites/downloa...                   2.0  \n",
       "2      /content/dam/rockwell-automation/sites/downloa...                   2.0  \n",
       "3      /content/dam/rockwell-automation/videos/capabi...                   1.0  \n",
       "4      /content/dam/rockwell-automation/videos/capabi...                   1.0  \n",
       "...                                                  ...                   ...  \n",
       "23817  /content/dam/rockwell-automation/sites/downloa...                   2.0  \n",
       "23818  /content/dam/rockwell-automation/sites/downloa...                   2.0  \n",
       "23819  /content/dam/rockwell-automation/sites/downloa...                   2.0  \n",
       "23820  /content/dam/rockwell-automation/sites/downloa...                   1.0  \n",
       "23821  /content/dam/rockwell-automation/sites/downloa...                   1.0  \n",
       "\n",
       "[23822 rows x 67 columns]"
      ]
     },
     "execution_count": 28,
     "metadata": {},
     "output_type": "execute_result"
    }
   ],
   "source": [
    "stage2_raw"
   ]
  },
  {
   "cell_type": "code",
   "execution_count": null,
   "id": "a70dd4cd",
   "metadata": {},
   "outputs": [],
   "source": []
  },
  {
   "cell_type": "code",
   "execution_count": 19,
   "id": "e08525c3",
   "metadata": {
    "ExecuteTime": {
     "end_time": "2022-12-01T21:07:51.274974Z",
     "start_time": "2022-12-01T21:07:37.850158Z"
    }
   },
   "outputs": [],
   "source": [
    "def identify_pos(track, label_type = 2):\n",
    "    if label_type == 1:\n",
    "        pos_code_statuscode = [953810011.0, 3.0, 953810008.0]\n",
    "        isPos = track[\"statuscode\"].isin(pos_code_statuscode).any()\n",
    "    elif label_type == 2:\n",
    "        pos_code_ra_leadstage = [6.0, 7.0, 8.0]\n",
    "        isPos = track[\"ra_leadstage\"].isin(pos_code_ra_leadstage).any()\n",
    "    return isPos\n",
    "\n",
    "crm_qualify_label = crm_lead.groupby(\"emailaddress1\").apply(lambda track: identify_pos(track, label_type = 2))\n",
    "crm_qualify_label = crm_qualify_label.to_frame().reset_index()\n",
    "crm_qualify_label.columns = [\"emailaddress1\", \"label\"]"
   ]
  },
  {
   "cell_type": "code",
   "execution_count": 20,
   "id": "0130248d",
   "metadata": {
    "ExecuteTime": {
     "end_time": "2022-12-01T21:07:51.289482Z",
     "start_time": "2022-12-01T21:07:51.276331Z"
    }
   },
   "outputs": [],
   "source": [
    "track = crm_lead[crm_lead[\"emailaddress1\"] == \"jerry_li@lincolnelectric.com\"]"
   ]
  },
  {
   "cell_type": "code",
   "execution_count": null,
   "id": "2761ef79",
   "metadata": {
    "ExecuteTime": {
     "end_time": "2022-12-01T21:07:51.367719Z",
     "start_time": "2022-12-01T21:07:51.367711Z"
    }
   },
   "outputs": [],
   "source": [
    "crm_qualify_label.label.value_counts()"
   ]
  },
  {
   "cell_type": "code",
   "execution_count": null,
   "id": "e7f782de",
   "metadata": {
    "ExecuteTime": {
     "end_time": "2022-12-01T21:07:51.368472Z",
     "start_time": "2022-12-01T21:07:51.368465Z"
    }
   },
   "outputs": [],
   "source": [
    "qualified_label = elq_bridge.merge(crm_qualify_label, left_on=[\"EmailAddress\"], right_on=[\"emailaddress1\"], how='inner')\n",
    "qualified_label = qualified_label[[\"EloquaContactId\",\"label\", \"EmailAddress\", \"emailaddress1\"]]\n",
    "print(\"keep rows:\", qualified_label.shape)\n",
    "qualified_label.info()\n",
    "qualified_label[\"label\"].value_counts()"
   ]
  },
  {
   "cell_type": "code",
   "execution_count": 42,
   "id": "9bbbe57c",
   "metadata": {
    "ExecuteTime": {
     "end_time": "2022-12-02T15:34:36.570385Z",
     "start_time": "2022-12-02T15:34:36.552357Z"
    }
   },
   "outputs": [
    {
     "data": {
      "text/plain": [
       "'2022-06-13 10:08:39'"
      ]
     },
     "execution_count": 42,
     "metadata": {},
     "output_type": "execute_result"
    }
   ],
   "source": [
    "stage2_raw[\"VisitStartDateTime\"].min()"
   ]
  },
  {
   "cell_type": "code",
   "execution_count": null,
   "id": "5d34db52",
   "metadata": {
    "ExecuteTime": {
     "end_time": "2022-12-01T21:07:51.369123Z",
     "start_time": "2022-12-01T21:07:51.369116Z"
    }
   },
   "outputs": [],
   "source": [
    "_data = stage2_raw.merge(qualified_label, on=\"EloquaContactId\")\n",
    "data = _data.groupby(\"SessionVisitorId\").apply(lambda x: preprocessing_stage(x, stage=2))"
   ]
  },
  {
   "cell_type": "markdown",
   "id": "db951197",
   "metadata": {},
   "source": [
    "#### to get mvsicd"
   ]
  },
  {
   "cell_type": "code",
   "execution_count": 33,
   "id": "c5b0f913",
   "metadata": {
    "ExecuteTime": {
     "end_time": "2022-12-01T21:48:59.213917Z",
     "start_time": "2022-12-01T21:48:59.192906Z"
    }
   },
   "outputs": [
    {
     "data": {
      "text/html": [
       "<div>\n",
       "<style scoped>\n",
       "    .dataframe tbody tr th:only-of-type {\n",
       "        vertical-align: middle;\n",
       "    }\n",
       "\n",
       "    .dataframe tbody tr th {\n",
       "        vertical-align: top;\n",
       "    }\n",
       "\n",
       "    .dataframe thead th {\n",
       "        text-align: right;\n",
       "    }\n",
       "</style>\n",
       "<table border=\"1\" class=\"dataframe\">\n",
       "  <thead>\n",
       "    <tr style=\"text-align: right;\">\n",
       "      <th></th>\n",
       "      <th>EmailAddress</th>\n",
       "      <th>EloquaContactId</th>\n",
       "    </tr>\n",
       "  </thead>\n",
       "  <tbody>\n",
       "    <tr>\n",
       "      <th>0</th>\n",
       "      <td>!!edson.carlos!!@ensinger.co.uk</td>\n",
       "      <td>CRACP000008935001</td>\n",
       "    </tr>\n",
       "    <tr>\n",
       "      <th>1</th>\n",
       "      <td>!burgerm@samcotech.com</td>\n",
       "      <td>CRACP000002957265</td>\n",
       "    </tr>\n",
       "    <tr>\n",
       "      <th>2</th>\n",
       "      <td>!burgerm@samcotech.com</td>\n",
       "      <td>CRACP000011807951</td>\n",
       "    </tr>\n",
       "    <tr>\n",
       "      <th>3</th>\n",
       "      <td>!pse-helpdesk@powersystem.org</td>\n",
       "      <td>CRACP000012845027</td>\n",
       "    </tr>\n",
       "    <tr>\n",
       "      <th>4</th>\n",
       "      <td>!rene.tassche@frieslandcampina.com</td>\n",
       "      <td>CRACP000012736983</td>\n",
       "    </tr>\n",
       "    <tr>\n",
       "      <th>...</th>\n",
       "      <td>...</td>\n",
       "      <td>...</td>\n",
       "    </tr>\n",
       "    <tr>\n",
       "      <th>7982365</th>\n",
       "      <td>zzzzxx1969@sina.com</td>\n",
       "      <td>CRACP000009711321</td>\n",
       "    </tr>\n",
       "    <tr>\n",
       "      <th>7982366</th>\n",
       "      <td>zzzzz830@hotmail.co.jp</td>\n",
       "      <td>CRACP000012653786</td>\n",
       "    </tr>\n",
       "    <tr>\n",
       "      <th>7982367</th>\n",
       "      <td>zzzzzacb@hanmail.net</td>\n",
       "      <td>CRACP000010761489</td>\n",
       "    </tr>\n",
       "    <tr>\n",
       "      <th>7982368</th>\n",
       "      <td>zzzzzz@gmail.com</td>\n",
       "      <td>CRACP000015406702</td>\n",
       "    </tr>\n",
       "    <tr>\n",
       "      <th>7982369</th>\n",
       "      <td>zzzzzz@zzzzzzz.com</td>\n",
       "      <td>CRACP000009459836</td>\n",
       "    </tr>\n",
       "  </tbody>\n",
       "</table>\n",
       "<p>7832199 rows × 2 columns</p>\n",
       "</div>"
      ],
      "text/plain": [
       "                               EmailAddress    EloquaContactId\n",
       "0           !!edson.carlos!!@ensinger.co.uk  CRACP000008935001\n",
       "1                    !burgerm@samcotech.com  CRACP000002957265\n",
       "2                    !burgerm@samcotech.com  CRACP000011807951\n",
       "3             !pse-helpdesk@powersystem.org  CRACP000012845027\n",
       "4        !rene.tassche@frieslandcampina.com  CRACP000012736983\n",
       "...                                     ...                ...\n",
       "7982365                 zzzzxx1969@sina.com  CRACP000009711321\n",
       "7982366              zzzzz830@hotmail.co.jp  CRACP000012653786\n",
       "7982367                zzzzzacb@hanmail.net  CRACP000010761489\n",
       "7982368                    zzzzzz@gmail.com  CRACP000015406702\n",
       "7982369                  zzzzzz@zzzzzzz.com  CRACP000009459836\n",
       "\n",
       "[7832199 rows x 2 columns]"
      ]
     },
     "execution_count": 33,
     "metadata": {},
     "output_type": "execute_result"
    }
   ],
   "source": [
    "elq_bridge"
   ]
  },
  {
   "cell_type": "code",
   "execution_count": 36,
   "id": "446b8a32",
   "metadata": {
    "ExecuteTime": {
     "end_time": "2022-12-01T21:50:24.559569Z",
     "start_time": "2022-12-01T21:50:24.505884Z"
    }
   },
   "outputs": [
    {
     "data": {
      "text/html": [
       "<div>\n",
       "<style scoped>\n",
       "    .dataframe tbody tr th:only-of-type {\n",
       "        vertical-align: middle;\n",
       "    }\n",
       "\n",
       "    .dataframe tbody tr th {\n",
       "        vertical-align: top;\n",
       "    }\n",
       "\n",
       "    .dataframe thead th {\n",
       "        text-align: right;\n",
       "    }\n",
       "</style>\n",
       "<table border=\"1\" class=\"dataframe\">\n",
       "  <thead>\n",
       "    <tr style=\"text-align: right;\">\n",
       "      <th></th>\n",
       "      <th>EloquaContactId</th>\n",
       "      <th>mcvisid</th>\n",
       "    </tr>\n",
       "  </thead>\n",
       "  <tbody>\n",
       "    <tr>\n",
       "      <th>0</th>\n",
       "      <td>NaN</td>\n",
       "      <td>62874529457173443381374915184087645012</td>\n",
       "    </tr>\n",
       "    <tr>\n",
       "      <th>1</th>\n",
       "      <td>NaN</td>\n",
       "      <td>56467893323718453580778155891064210215</td>\n",
       "    </tr>\n",
       "    <tr>\n",
       "      <th>2</th>\n",
       "      <td>NaN</td>\n",
       "      <td>56467893323718453580778155891064210215</td>\n",
       "    </tr>\n",
       "    <tr>\n",
       "      <th>3</th>\n",
       "      <td>CRACP000000122266</td>\n",
       "      <td>41473387534237163932216341118768730086</td>\n",
       "    </tr>\n",
       "    <tr>\n",
       "      <th>4</th>\n",
       "      <td>CRACP000000122266</td>\n",
       "      <td>41473387534237163932216341118768730086</td>\n",
       "    </tr>\n",
       "    <tr>\n",
       "      <th>...</th>\n",
       "      <td>...</td>\n",
       "      <td>...</td>\n",
       "    </tr>\n",
       "    <tr>\n",
       "      <th>23817</th>\n",
       "      <td>NaN</td>\n",
       "      <td>13084887784517264532774216958572431558</td>\n",
       "    </tr>\n",
       "    <tr>\n",
       "      <th>23818</th>\n",
       "      <td>NaN</td>\n",
       "      <td>13084887784517264532774216958572431558</td>\n",
       "    </tr>\n",
       "    <tr>\n",
       "      <th>23819</th>\n",
       "      <td>NaN</td>\n",
       "      <td>13084887784517264532774216958572431558</td>\n",
       "    </tr>\n",
       "    <tr>\n",
       "      <th>23820</th>\n",
       "      <td>CRACP000000774122</td>\n",
       "      <td>55445952645408503880733704262093500521</td>\n",
       "    </tr>\n",
       "    <tr>\n",
       "      <th>23821</th>\n",
       "      <td>CRACP000000774122</td>\n",
       "      <td>55445952645408503880733704262093500521</td>\n",
       "    </tr>\n",
       "  </tbody>\n",
       "</table>\n",
       "<p>23822 rows × 2 columns</p>\n",
       "</div>"
      ],
      "text/plain": [
       "         EloquaContactId                                 mcvisid\n",
       "0                    NaN  62874529457173443381374915184087645012\n",
       "1                    NaN  56467893323718453580778155891064210215\n",
       "2                    NaN  56467893323718453580778155891064210215\n",
       "3      CRACP000000122266  41473387534237163932216341118768730086\n",
       "4      CRACP000000122266  41473387534237163932216341118768730086\n",
       "...                  ...                                     ...\n",
       "23817                NaN  13084887784517264532774216958572431558\n",
       "23818                NaN  13084887784517264532774216958572431558\n",
       "23819                NaN  13084887784517264532774216958572431558\n",
       "23820  CRACP000000774122  55445952645408503880733704262093500521\n",
       "23821  CRACP000000774122  55445952645408503880733704262093500521\n",
       "\n",
       "[23822 rows x 2 columns]"
      ]
     },
     "execution_count": 36,
     "metadata": {},
     "output_type": "execute_result"
    }
   ],
   "source": [
    "stage2_raw[[\"EloquaContactId\", \"mcvisid\"]]"
   ]
  },
  {
   "cell_type": "markdown",
   "id": "80da95ef",
   "metadata": {},
   "source": [
    "## 根据 mcvisid 获取对应的 email, EloquaContactId 都有 1 个 email 和 多个 mcvisid\n",
    "\n",
    "1. email to label -> CRM.Lead\n",
    "2. ??? 需要把 email append 到 RAW 上\n",
    "2. mcvisid N: 1 email -> CRM.Lead\n",
    "3. groupby email and aggregate assetpath"
   ]
  },
  {
   "cell_type": "code",
   "execution_count": 39,
   "id": "7f1336d7",
   "metadata": {
    "ExecuteTime": {
     "end_time": "2022-12-01T21:55:52.060115Z",
     "start_time": "2022-12-01T21:55:11.790257Z"
    }
   },
   "outputs": [
    {
     "data": {
      "text/html": [
       "<div>\n",
       "<style scoped>\n",
       "    .dataframe tbody tr th:only-of-type {\n",
       "        vertical-align: middle;\n",
       "    }\n",
       "\n",
       "    .dataframe tbody tr th {\n",
       "        vertical-align: top;\n",
       "    }\n",
       "\n",
       "    .dataframe thead th {\n",
       "        text-align: right;\n",
       "    }\n",
       "</style>\n",
       "<table border=\"1\" class=\"dataframe\">\n",
       "  <thead>\n",
       "    <tr style=\"text-align: right;\">\n",
       "      <th></th>\n",
       "      <th>EmailAddress</th>\n",
       "      <th>EloquaContactId</th>\n",
       "      <th>SessionVisitorId</th>\n",
       "      <th>VisitStartDateTime</th>\n",
       "      <th>VisitPageNumber</th>\n",
       "      <th>VisitNumber</th>\n",
       "      <th>NewVisit</th>\n",
       "      <th>EventList</th>\n",
       "      <th>ExcludeHit</th>\n",
       "      <th>HitSource</th>\n",
       "      <th>...</th>\n",
       "      <th>PDFurl</th>\n",
       "      <th>PDFtitle</th>\n",
       "      <th>PDFpagecount</th>\n",
       "      <th>BingeId</th>\n",
       "      <th>BingeName</th>\n",
       "      <th>BingeCriticalScore</th>\n",
       "      <th>BingeCampaignId</th>\n",
       "      <th>BingeScoredAsset</th>\n",
       "      <th>BingeScoredAssetPath</th>\n",
       "      <th>BingeScoredAssetScore</th>\n",
       "    </tr>\n",
       "  </thead>\n",
       "  <tbody>\n",
       "    <tr>\n",
       "      <th>0</th>\n",
       "      <td>!!edson.carlos!!@ensinger.co.uk</td>\n",
       "      <td>CRACP000008935001</td>\n",
       "      <td>NaN</td>\n",
       "      <td>NaN</td>\n",
       "      <td>NaN</td>\n",
       "      <td>NaN</td>\n",
       "      <td>NaN</td>\n",
       "      <td>NaN</td>\n",
       "      <td>NaN</td>\n",
       "      <td>NaN</td>\n",
       "      <td>...</td>\n",
       "      <td>NaN</td>\n",
       "      <td>NaN</td>\n",
       "      <td>NaN</td>\n",
       "      <td>NaN</td>\n",
       "      <td>NaN</td>\n",
       "      <td>NaN</td>\n",
       "      <td>NaN</td>\n",
       "      <td>NaN</td>\n",
       "      <td>NaN</td>\n",
       "      <td>NaN</td>\n",
       "    </tr>\n",
       "    <tr>\n",
       "      <th>1</th>\n",
       "      <td>!burgerm@samcotech.com</td>\n",
       "      <td>CRACP000002957265</td>\n",
       "      <td>NaN</td>\n",
       "      <td>NaN</td>\n",
       "      <td>NaN</td>\n",
       "      <td>NaN</td>\n",
       "      <td>NaN</td>\n",
       "      <td>NaN</td>\n",
       "      <td>NaN</td>\n",
       "      <td>NaN</td>\n",
       "      <td>...</td>\n",
       "      <td>NaN</td>\n",
       "      <td>NaN</td>\n",
       "      <td>NaN</td>\n",
       "      <td>NaN</td>\n",
       "      <td>NaN</td>\n",
       "      <td>NaN</td>\n",
       "      <td>NaN</td>\n",
       "      <td>NaN</td>\n",
       "      <td>NaN</td>\n",
       "      <td>NaN</td>\n",
       "    </tr>\n",
       "    <tr>\n",
       "      <th>2</th>\n",
       "      <td>!burgerm@samcotech.com</td>\n",
       "      <td>CRACP000011807951</td>\n",
       "      <td>NaN</td>\n",
       "      <td>NaN</td>\n",
       "      <td>NaN</td>\n",
       "      <td>NaN</td>\n",
       "      <td>NaN</td>\n",
       "      <td>NaN</td>\n",
       "      <td>NaN</td>\n",
       "      <td>NaN</td>\n",
       "      <td>...</td>\n",
       "      <td>NaN</td>\n",
       "      <td>NaN</td>\n",
       "      <td>NaN</td>\n",
       "      <td>NaN</td>\n",
       "      <td>NaN</td>\n",
       "      <td>NaN</td>\n",
       "      <td>NaN</td>\n",
       "      <td>NaN</td>\n",
       "      <td>NaN</td>\n",
       "      <td>NaN</td>\n",
       "    </tr>\n",
       "    <tr>\n",
       "      <th>3</th>\n",
       "      <td>!pse-helpdesk@powersystem.org</td>\n",
       "      <td>CRACP000012845027</td>\n",
       "      <td>NaN</td>\n",
       "      <td>NaN</td>\n",
       "      <td>NaN</td>\n",
       "      <td>NaN</td>\n",
       "      <td>NaN</td>\n",
       "      <td>NaN</td>\n",
       "      <td>NaN</td>\n",
       "      <td>NaN</td>\n",
       "      <td>...</td>\n",
       "      <td>NaN</td>\n",
       "      <td>NaN</td>\n",
       "      <td>NaN</td>\n",
       "      <td>NaN</td>\n",
       "      <td>NaN</td>\n",
       "      <td>NaN</td>\n",
       "      <td>NaN</td>\n",
       "      <td>NaN</td>\n",
       "      <td>NaN</td>\n",
       "      <td>NaN</td>\n",
       "    </tr>\n",
       "    <tr>\n",
       "      <th>4</th>\n",
       "      <td>!rene.tassche@frieslandcampina.com</td>\n",
       "      <td>CRACP000012736983</td>\n",
       "      <td>NaN</td>\n",
       "      <td>NaN</td>\n",
       "      <td>NaN</td>\n",
       "      <td>NaN</td>\n",
       "      <td>NaN</td>\n",
       "      <td>NaN</td>\n",
       "      <td>NaN</td>\n",
       "      <td>NaN</td>\n",
       "      <td>...</td>\n",
       "      <td>NaN</td>\n",
       "      <td>NaN</td>\n",
       "      <td>NaN</td>\n",
       "      <td>NaN</td>\n",
       "      <td>NaN</td>\n",
       "      <td>NaN</td>\n",
       "      <td>NaN</td>\n",
       "      <td>NaN</td>\n",
       "      <td>NaN</td>\n",
       "      <td>NaN</td>\n",
       "    </tr>\n",
       "    <tr>\n",
       "      <th>...</th>\n",
       "      <td>...</td>\n",
       "      <td>...</td>\n",
       "      <td>...</td>\n",
       "      <td>...</td>\n",
       "      <td>...</td>\n",
       "      <td>...</td>\n",
       "      <td>...</td>\n",
       "      <td>...</td>\n",
       "      <td>...</td>\n",
       "      <td>...</td>\n",
       "      <td>...</td>\n",
       "      <td>...</td>\n",
       "      <td>...</td>\n",
       "      <td>...</td>\n",
       "      <td>...</td>\n",
       "      <td>...</td>\n",
       "      <td>...</td>\n",
       "      <td>...</td>\n",
       "      <td>...</td>\n",
       "      <td>...</td>\n",
       "      <td>...</td>\n",
       "    </tr>\n",
       "    <tr>\n",
       "      <th>7836863</th>\n",
       "      <td>zzzzxx1969@sina.com</td>\n",
       "      <td>CRACP000009711321</td>\n",
       "      <td>NaN</td>\n",
       "      <td>NaN</td>\n",
       "      <td>NaN</td>\n",
       "      <td>NaN</td>\n",
       "      <td>NaN</td>\n",
       "      <td>NaN</td>\n",
       "      <td>NaN</td>\n",
       "      <td>NaN</td>\n",
       "      <td>...</td>\n",
       "      <td>NaN</td>\n",
       "      <td>NaN</td>\n",
       "      <td>NaN</td>\n",
       "      <td>NaN</td>\n",
       "      <td>NaN</td>\n",
       "      <td>NaN</td>\n",
       "      <td>NaN</td>\n",
       "      <td>NaN</td>\n",
       "      <td>NaN</td>\n",
       "      <td>NaN</td>\n",
       "    </tr>\n",
       "    <tr>\n",
       "      <th>7836864</th>\n",
       "      <td>zzzzz830@hotmail.co.jp</td>\n",
       "      <td>CRACP000012653786</td>\n",
       "      <td>NaN</td>\n",
       "      <td>NaN</td>\n",
       "      <td>NaN</td>\n",
       "      <td>NaN</td>\n",
       "      <td>NaN</td>\n",
       "      <td>NaN</td>\n",
       "      <td>NaN</td>\n",
       "      <td>NaN</td>\n",
       "      <td>...</td>\n",
       "      <td>NaN</td>\n",
       "      <td>NaN</td>\n",
       "      <td>NaN</td>\n",
       "      <td>NaN</td>\n",
       "      <td>NaN</td>\n",
       "      <td>NaN</td>\n",
       "      <td>NaN</td>\n",
       "      <td>NaN</td>\n",
       "      <td>NaN</td>\n",
       "      <td>NaN</td>\n",
       "    </tr>\n",
       "    <tr>\n",
       "      <th>7836865</th>\n",
       "      <td>zzzzzacb@hanmail.net</td>\n",
       "      <td>CRACP000010761489</td>\n",
       "      <td>NaN</td>\n",
       "      <td>NaN</td>\n",
       "      <td>NaN</td>\n",
       "      <td>NaN</td>\n",
       "      <td>NaN</td>\n",
       "      <td>NaN</td>\n",
       "      <td>NaN</td>\n",
       "      <td>NaN</td>\n",
       "      <td>...</td>\n",
       "      <td>NaN</td>\n",
       "      <td>NaN</td>\n",
       "      <td>NaN</td>\n",
       "      <td>NaN</td>\n",
       "      <td>NaN</td>\n",
       "      <td>NaN</td>\n",
       "      <td>NaN</td>\n",
       "      <td>NaN</td>\n",
       "      <td>NaN</td>\n",
       "      <td>NaN</td>\n",
       "    </tr>\n",
       "    <tr>\n",
       "      <th>7836866</th>\n",
       "      <td>zzzzzz@gmail.com</td>\n",
       "      <td>CRACP000015406702</td>\n",
       "      <td>NaN</td>\n",
       "      <td>NaN</td>\n",
       "      <td>NaN</td>\n",
       "      <td>NaN</td>\n",
       "      <td>NaN</td>\n",
       "      <td>NaN</td>\n",
       "      <td>NaN</td>\n",
       "      <td>NaN</td>\n",
       "      <td>...</td>\n",
       "      <td>NaN</td>\n",
       "      <td>NaN</td>\n",
       "      <td>NaN</td>\n",
       "      <td>NaN</td>\n",
       "      <td>NaN</td>\n",
       "      <td>NaN</td>\n",
       "      <td>NaN</td>\n",
       "      <td>NaN</td>\n",
       "      <td>NaN</td>\n",
       "      <td>NaN</td>\n",
       "    </tr>\n",
       "    <tr>\n",
       "      <th>7836867</th>\n",
       "      <td>zzzzzz@zzzzzzz.com</td>\n",
       "      <td>CRACP000009459836</td>\n",
       "      <td>NaN</td>\n",
       "      <td>NaN</td>\n",
       "      <td>NaN</td>\n",
       "      <td>NaN</td>\n",
       "      <td>NaN</td>\n",
       "      <td>NaN</td>\n",
       "      <td>NaN</td>\n",
       "      <td>NaN</td>\n",
       "      <td>...</td>\n",
       "      <td>NaN</td>\n",
       "      <td>NaN</td>\n",
       "      <td>NaN</td>\n",
       "      <td>NaN</td>\n",
       "      <td>NaN</td>\n",
       "      <td>NaN</td>\n",
       "      <td>NaN</td>\n",
       "      <td>NaN</td>\n",
       "      <td>NaN</td>\n",
       "      <td>NaN</td>\n",
       "    </tr>\n",
       "  </tbody>\n",
       "</table>\n",
       "<p>7836868 rows × 68 columns</p>\n",
       "</div>"
      ],
      "text/plain": [
       "                               EmailAddress    EloquaContactId  \\\n",
       "0           !!edson.carlos!!@ensinger.co.uk  CRACP000008935001   \n",
       "1                    !burgerm@samcotech.com  CRACP000002957265   \n",
       "2                    !burgerm@samcotech.com  CRACP000011807951   \n",
       "3             !pse-helpdesk@powersystem.org  CRACP000012845027   \n",
       "4        !rene.tassche@frieslandcampina.com  CRACP000012736983   \n",
       "...                                     ...                ...   \n",
       "7836863                 zzzzxx1969@sina.com  CRACP000009711321   \n",
       "7836864              zzzzz830@hotmail.co.jp  CRACP000012653786   \n",
       "7836865                zzzzzacb@hanmail.net  CRACP000010761489   \n",
       "7836866                    zzzzzz@gmail.com  CRACP000015406702   \n",
       "7836867                  zzzzzz@zzzzzzz.com  CRACP000009459836   \n",
       "\n",
       "        SessionVisitorId VisitStartDateTime  VisitPageNumber  VisitNumber  \\\n",
       "0                    NaN                NaN              NaN          NaN   \n",
       "1                    NaN                NaN              NaN          NaN   \n",
       "2                    NaN                NaN              NaN          NaN   \n",
       "3                    NaN                NaN              NaN          NaN   \n",
       "4                    NaN                NaN              NaN          NaN   \n",
       "...                  ...                ...              ...          ...   \n",
       "7836863              NaN                NaN              NaN          NaN   \n",
       "7836864              NaN                NaN              NaN          NaN   \n",
       "7836865              NaN                NaN              NaN          NaN   \n",
       "7836866              NaN                NaN              NaN          NaN   \n",
       "7836867              NaN                NaN              NaN          NaN   \n",
       "\n",
       "        NewVisit EventList  ExcludeHit  HitSource  ... PDFurl PDFtitle  \\\n",
       "0            NaN       NaN         NaN        NaN  ...    NaN      NaN   \n",
       "1            NaN       NaN         NaN        NaN  ...    NaN      NaN   \n",
       "2            NaN       NaN         NaN        NaN  ...    NaN      NaN   \n",
       "3            NaN       NaN         NaN        NaN  ...    NaN      NaN   \n",
       "4            NaN       NaN         NaN        NaN  ...    NaN      NaN   \n",
       "...          ...       ...         ...        ...  ...    ...      ...   \n",
       "7836863      NaN       NaN         NaN        NaN  ...    NaN      NaN   \n",
       "7836864      NaN       NaN         NaN        NaN  ...    NaN      NaN   \n",
       "7836865      NaN       NaN         NaN        NaN  ...    NaN      NaN   \n",
       "7836866      NaN       NaN         NaN        NaN  ...    NaN      NaN   \n",
       "7836867      NaN       NaN         NaN        NaN  ...    NaN      NaN   \n",
       "\n",
       "        PDFpagecount BingeId  BingeName BingeCriticalScore BingeCampaignId  \\\n",
       "0                NaN     NaN        NaN                NaN             NaN   \n",
       "1                NaN     NaN        NaN                NaN             NaN   \n",
       "2                NaN     NaN        NaN                NaN             NaN   \n",
       "3                NaN     NaN        NaN                NaN             NaN   \n",
       "4                NaN     NaN        NaN                NaN             NaN   \n",
       "...              ...     ...        ...                ...             ...   \n",
       "7836863          NaN     NaN        NaN                NaN             NaN   \n",
       "7836864          NaN     NaN        NaN                NaN             NaN   \n",
       "7836865          NaN     NaN        NaN                NaN             NaN   \n",
       "7836866          NaN     NaN        NaN                NaN             NaN   \n",
       "7836867          NaN     NaN        NaN                NaN             NaN   \n",
       "\n",
       "         BingeScoredAsset BingeScoredAssetPath BingeScoredAssetScore  \n",
       "0                     NaN                  NaN                   NaN  \n",
       "1                     NaN                  NaN                   NaN  \n",
       "2                     NaN                  NaN                   NaN  \n",
       "3                     NaN                  NaN                   NaN  \n",
       "4                     NaN                  NaN                   NaN  \n",
       "...                   ...                  ...                   ...  \n",
       "7836863               NaN                  NaN                   NaN  \n",
       "7836864               NaN                  NaN                   NaN  \n",
       "7836865               NaN                  NaN                   NaN  \n",
       "7836866               NaN                  NaN                   NaN  \n",
       "7836867               NaN                  NaN                   NaN  \n",
       "\n",
       "[7836868 rows x 68 columns]"
      ]
     },
     "execution_count": 39,
     "metadata": {},
     "output_type": "execute_result"
    }
   ],
   "source": [
    "elq_bridge.merge(stage2_raw, left_on=\"EloquaContactId\", right_on=\"EloquaContactId\", how=\"left\")"
   ]
  },
  {
   "cell_type": "code",
   "execution_count": null,
   "id": "c693de59",
   "metadata": {},
   "outputs": [],
   "source": []
  },
  {
   "cell_type": "markdown",
   "id": "bc0b85d2",
   "metadata": {},
   "source": [
    "### Data split + TFIDF"
   ]
  },
  {
   "cell_type": "code",
   "execution_count": null,
   "id": "4b01e5e2",
   "metadata": {
    "ExecuteTime": {
     "end_time": "2022-12-01T21:07:51.369983Z",
     "start_time": "2022-12-01T21:07:51.369976Z"
    }
   },
   "outputs": [],
   "source": [
    "X_train, X_test, y_train, y_test = train_test_split(data[\"features\"], data[\"label\"].values, test_size=TEST_SIZE, stratify=data[\"label\"].values, random_state=SEED)\n",
    "\n",
    "print(\"training sample label size:\", Counter(y_train))\n",
    "print(\"pos vs neg in training set:\")\n",
    "print(data[\"label\"].value_counts())\n",
    "print(\"testing sample label size:\", Counter(y_test))\n",
    "\n",
    "vectorizer = TfidfVectorizer(token_pattern=SEP_TOKEN_PATTERN)\n",
    "\n",
    "X_train_arr = vectorizer.fit_transform(X_train)\n",
    "X_test_arr = vectorizer.transform(X_test)"
   ]
  },
  {
   "cell_type": "markdown",
   "id": "56339c68",
   "metadata": {},
   "source": [
    "### Models"
   ]
  },
  {
   "cell_type": "code",
   "execution_count": null,
   "id": "40484e62",
   "metadata": {
    "ExecuteTime": {
     "end_time": "2022-12-01T21:07:51.370836Z",
     "start_time": "2022-12-01T21:07:51.370830Z"
    }
   },
   "outputs": [],
   "source": [
    "\n",
    "clf = MultinomialNB().fit(X_train_arr, y_train)\n",
    "asset_prob = np.exp(clf.feature_log_prob_[0])\n",
    "clf.feature_log_prob_[0]"
   ]
  },
  {
   "cell_type": "code",
   "execution_count": null,
   "id": "e556cf2d",
   "metadata": {
    "ExecuteTime": {
     "end_time": "2022-12-01T21:07:51.371488Z",
     "start_time": "2022-12-01T21:07:51.371480Z"
    }
   },
   "outputs": [],
   "source": [
    "weights = pd.DataFrame([vectorizer.get_feature_names(), asset_prob.tolist()]).T\n",
    "weights.columns = [\"asset\", \"weight\"]\n",
    "weights.sort_values(by=\"weight\", ascending=False).style"
   ]
  },
  {
   "cell_type": "code",
   "execution_count": null,
   "id": "648c8e2e",
   "metadata": {
    "ExecuteTime": {
     "end_time": "2022-12-01T21:07:51.372422Z",
     "start_time": "2022-12-01T21:07:51.372412Z"
    }
   },
   "outputs": [],
   "source": [
    "# weights[\"weight\"]/weights[\"weight\"].mean()"
   ]
  },
  {
   "cell_type": "markdown",
   "id": "b74392d1",
   "metadata": {},
   "source": [
    "## Weight Rescaling\n",
    "```python\n",
    "default_critical_score = 1\n",
    "if user click 0, 1, 2:\n",
    "    then culmulative_score = 0.507937 + 0.349206 + 0.603175\n",
    "        if culmulative_score > default_critical_score: \n",
    "            marked as potential qualify \n",
    "```"
   ]
  },
  {
   "cell_type": "code",
   "execution_count": null,
   "id": "acba7899",
   "metadata": {
    "ExecuteTime": {
     "end_time": "2022-12-01T21:07:51.373677Z",
     "start_time": "2022-12-01T21:07:51.373665Z"
    }
   },
   "outputs": [],
   "source": [
    "a = weights.iloc[0:5,:]"
   ]
  },
  {
   "cell_type": "code",
   "execution_count": null,
   "id": "eaddd466",
   "metadata": {
    "ExecuteTime": {
     "end_time": "2022-12-01T21:07:51.374511Z",
     "start_time": "2022-12-01T21:07:51.374503Z"
    }
   },
   "outputs": [],
   "source": [
    "a[\"weight\"]/a[\"weight\"].sum() * 5"
   ]
  },
  {
   "cell_type": "code",
   "execution_count": null,
   "id": "ce9223d4",
   "metadata": {
    "ExecuteTime": {
     "end_time": "2022-12-01T21:07:51.375161Z",
     "start_time": "2022-12-01T21:07:51.375154Z"
    }
   },
   "outputs": [],
   "source": [
    "a[\"weight\"].mean()"
   ]
  },
  {
   "cell_type": "code",
   "execution_count": null,
   "id": "99e23231",
   "metadata": {
    "ExecuteTime": {
     "end_time": "2022-12-01T21:07:51.376120Z",
     "start_time": "2022-12-01T21:07:51.376113Z"
    }
   },
   "outputs": [],
   "source": [
    "# elq_all_bridge-only.csv"
   ]
  },
  {
   "cell_type": "code",
   "execution_count": null,
   "id": "1f2d57a4",
   "metadata": {
    "ExecuteTime": {
     "end_time": "2022-12-01T21:07:51.377106Z",
     "start_time": "2022-12-01T21:07:51.377094Z"
    }
   },
   "outputs": [],
   "source": [
    "(a[\"weight\"]/a[\"weight\"].sum())"
   ]
  },
  {
   "cell_type": "code",
   "execution_count": null,
   "id": "bb917915",
   "metadata": {
    "ExecuteTime": {
     "end_time": "2022-12-01T21:02:44.577902Z",
     "start_time": "2022-12-01T21:02:44.577894Z"
    }
   },
   "outputs": [],
   "source": [
    "a[\"weight\"]"
   ]
  },
  {
   "cell_type": "code",
   "execution_count": null,
   "id": "7ab78289",
   "metadata": {},
   "outputs": [],
   "source": []
  },
  {
   "cell_type": "markdown",
   "id": "507f0c29",
   "metadata": {},
   "source": [
    "## Others "
   ]
  },
  {
   "cell_type": "markdown",
   "id": "26a4c782",
   "metadata": {},
   "source": [
    "### clustering based \n",
    "- how to estimated the probablity of some attributes\n",
    "- how to assign weight based on this?\n",
    "\n",
    "找到不同 status code 的数据分布是怎样的. \n",
    "- 确认方向之后, 对应的数据是否足够 是第一步. \n",
    "- 还是寻找数据"
   ]
  },
  {
   "cell_type": "code",
   "execution_count": null,
   "id": "4c2cda29",
   "metadata": {},
   "outputs": [],
   "source": []
  },
  {
   "cell_type": "code",
   "execution_count": null,
   "id": "a576cf30",
   "metadata": {},
   "outputs": [],
   "source": []
  },
  {
   "cell_type": "code",
   "execution_count": null,
   "id": "554378e1",
   "metadata": {},
   "outputs": [],
   "source": []
  },
  {
   "cell_type": "code",
   "execution_count": null,
   "id": "2f944084",
   "metadata": {},
   "outputs": [],
   "source": []
  },
  {
   "cell_type": "markdown",
   "id": "30dc28fe",
   "metadata": {},
   "source": [
    "# Store model and prediction"
   ]
  },
  {
   "cell_type": "code",
   "execution_count": null,
   "id": "7c82e93d",
   "metadata": {},
   "outputs": [],
   "source": []
  },
  {
   "cell_type": "code",
   "execution_count": null,
   "id": "beb1cd18",
   "metadata": {},
   "outputs": [],
   "source": []
  },
  {
   "cell_type": "markdown",
   "id": "2936585c",
   "metadata": {},
   "source": [
    "# Post to AEM"
   ]
  },
  {
   "cell_type": "code",
   "execution_count": null,
   "id": "97ff6ffe",
   "metadata": {},
   "outputs": [],
   "source": []
  },
  {
   "cell_type": "code",
   "execution_count": null,
   "id": "2256ae9d",
   "metadata": {},
   "outputs": [],
   "source": []
  }
 ],
 "metadata": {
  "kernelspec": {
   "display_name": "Python 3 (ipykernel)",
   "language": "python",
   "name": "python3"
  },
  "language_info": {
   "codemirror_mode": {
    "name": "ipython",
    "version": 3
   },
   "file_extension": ".py",
   "mimetype": "text/x-python",
   "name": "python",
   "nbconvert_exporter": "python",
   "pygments_lexer": "ipython3",
   "version": "3.9.7"
  },
  "toc": {
   "base_numbering": 1,
   "nav_menu": {},
   "number_sections": true,
   "sideBar": true,
   "skip_h1_title": false,
   "title_cell": "Table of Contents",
   "title_sidebar": "Contents",
   "toc_cell": false,
   "toc_position": {
    "height": "calc(100% - 180px)",
    "left": "10px",
    "top": "150px",
    "width": "387.82px"
   },
   "toc_section_display": true,
   "toc_window_display": true
  }
 },
 "nbformat": 4,
 "nbformat_minor": 5
}
