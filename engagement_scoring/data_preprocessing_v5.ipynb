{
 "cells": [
  {
   "cell_type": "markdown",
   "id": "40fe2f74",
   "metadata": {},
   "source": [
    "# Init"
   ]
  },
  {
   "cell_type": "markdown",
   "id": "d6b62799",
   "metadata": {},
   "source": [
    "## Utils"
   ]
  },
  {
   "cell_type": "code",
   "execution_count": 1,
   "id": "6d8c3275",
   "metadata": {
    "ExecuteTime": {
     "end_time": "2022-12-07T21:18:10.570884Z",
     "start_time": "2022-12-07T21:18:08.638494Z"
    }
   },
   "outputs": [],
   "source": [
    "import pandas as pd\n",
    "\n",
    "from sklearn.feature_extraction.text import CountVectorizer,TfidfVectorizer\n",
    "from sklearn.feature_extraction import DictVectorizer\n",
    "from sklearn.model_selection import train_test_split\n",
    "\n",
    "from sklearn.metrics import roc_curve, auc, precision_recall_curve, classification_report\n",
    "from sklearn.naive_bayes import MultinomialNB\n",
    "from sklearn.linear_model import LogisticRegression\n",
    "\n",
    "import matplotlib.pyplot as plt\n",
    "import numpy as np\n",
    "from collections import Counter\n",
    "from sklearn import svm\n",
    "from sklearn.model_selection import cross_validate\n",
    "import os\n",
    "from glob import glob\n"
   ]
  },
  {
   "cell_type": "markdown",
   "id": "d5243ed3",
   "metadata": {},
   "source": [
    "# Data"
   ]
  },
  {
   "cell_type": "markdown",
   "id": "ba5a5d32",
   "metadata": {},
   "source": [
    "## Load Data"
   ]
  },
  {
   "cell_type": "code",
   "execution_count": 2,
   "id": "b50f0ceb",
   "metadata": {
    "ExecuteTime": {
     "end_time": "2022-12-07T21:18:10.613188Z",
     "start_time": "2022-12-07T21:18:10.571974Z"
    }
   },
   "outputs": [],
   "source": [
    "def get_summary(table, field):\n",
    "    print(\"nan ratio:\", table[field].isnull().sum()/table.shape[0])\n",
    "    print(\"nan rows: \", table[field].isnull().sum())\n",
    "    print(table[field].fillna(\"nan\").value_counts())\n",
    "    \n",
    "def email_cleanup(table, key=\"emailaddress1\"):\n",
    "    if key not in table.columns:\n",
    "        raise \"key is not in table.columns\"\n",
    "    table = table.dropna(subset=[key]) # remove nan\n",
    "    table.loc[:, key] = table[key].str.replace(\"'\", \"\").str.lower() # lower case, clean single quote\n",
    "    table = table[(~table[key].str.contains(\"rockwell|pisrc|bounteous|test\"))] # remove rockwell related email\n",
    "    return table"
   ]
  },
  {
   "cell_type": "markdown",
   "id": "c11e97bb",
   "metadata": {},
   "source": [
    "### AEM.raw \n",
    "- stage 1 should not drop duplicate because the eventlist probably exist only on some of pdf view records"
   ]
  },
  {
   "cell_type": "markdown",
   "id": "eaded955",
   "metadata": {},
   "source": [
    "#### (bingeID Only)"
   ]
  },
  {
   "cell_type": "code",
   "execution_count": 3,
   "id": "7451b8f7",
   "metadata": {
    "ExecuteTime": {
     "end_time": "2022-12-06T23:01:11.030583Z",
     "start_time": "2022-12-06T23:01:11.029107Z"
    }
   },
   "outputs": [],
   "source": [
    "# _dt = pd.read_csv(\"all_binge_data_TOP1000000_2022-10-16.csv\", nrows=1000000, index_col=0)\n",
    "# aem_raw = pd.read_csv(\"aemRaw_2022-04-21-all_fields.csv\", index_col=0)"
   ]
  },
  {
   "cell_type": "markdown",
   "id": "e39ac242",
   "metadata": {},
   "source": [
    "#### load all\n",
    "- reason => some rows without Elq contactID will still visit asset -> so, using mcvisid to track user_journey\n",
    "    - but still, the total tracking email number will not change => 35"
   ]
  },
  {
   "cell_type": "code",
   "execution_count": 59,
   "id": "3d4654c4",
   "metadata": {
    "ExecuteTime": {
     "end_time": "2022-12-07T21:04:13.330078Z",
     "start_time": "2022-12-07T21:04:13.320484Z"
    }
   },
   "outputs": [
    {
     "name": "stdout",
     "output_type": "stream",
     "text": [
      "['./aem_raw/aemRaw_keyColumns_20221001-20221015.csv', './aem_raw/aemRaw_keyColumns_20221015-20221031.csv', './aem_raw/aemRaw_keyColumns_20221101-20221115.csv', './aem_raw/aemRaw_keyColumns_20221115-20221130.csv']\n"
     ]
    }
   ],
   "source": [
    "# files = sorted([file for file in glob(\"./aem_raw/*.csv\") if \"aemRaw_keyColumns_2022\" in file])[-4::]\n",
    "# print(files)\n",
    "\n",
    "# df = pd.DataFrame()\n",
    "# for file in files:\n",
    "#     current = pd.read_csv(file)\n",
    "#     df = pd.concat([df, current])"
   ]
  },
  {
   "cell_type": "markdown",
   "id": "47bf7758",
   "metadata": {
    "ExecuteTime": {
     "end_time": "2022-12-07T21:11:39.137646Z",
     "start_time": "2022-12-07T21:11:39.131786Z"
    }
   },
   "source": [
    "#### prefiltering with mcvisid"
   ]
  },
  {
   "cell_type": "code",
   "execution_count": 4,
   "id": "57d52799",
   "metadata": {
    "ExecuteTime": {
     "end_time": "2022-12-07T21:18:18.977560Z",
     "start_time": "2022-12-07T21:18:18.812801Z"
    }
   },
   "outputs": [],
   "source": [
    "email_mcvisid = pd.read_csv(\"email_mcvisid.csv\")"
   ]
  },
  {
   "cell_type": "code",
   "execution_count": null,
   "id": "409636ca",
   "metadata": {
    "ExecuteTime": {
     "start_time": "2022-12-07T21:18:20.366Z"
    }
   },
   "outputs": [
    {
     "name": "stdout",
     "output_type": "stream",
     "text": [
      "already processed this file in the target_mcvisid folder\n",
      "already processed this file in the target_mcvisid folder\n",
      "already processed this file in the target_mcvisid folder\n",
      "already processed this file in the target_mcvisid folder\n",
      "already processed this file in the target_mcvisid folder\n",
      "already processed this file in the target_mcvisid folder\n",
      "already processed this file in the target_mcvisid folder\n"
     ]
    },
    {
     "name": "stderr",
     "output_type": "stream",
     "text": [
      "/Users/wy/opt/anaconda3/lib/python3.9/site-packages/IPython/core/interactiveshell.py:3444: DtypeWarning: Columns (22,24) have mixed types.Specify dtype option on import or set low_memory=False.\n",
      "  exec(code_obj, self.user_global_ns, self.user_ns)\n"
     ]
    },
    {
     "name": "stdout",
     "output_type": "stream",
     "text": [
      "./target_mcvisid/aemRaw_keyColumns_20220715-20220731.csv  --> with rows:  1272473\n",
      "./target_mcvisid/aemRaw_keyColumns_20220801-20220815.csv  --> with rows:  1550335\n"
     ]
    }
   ],
   "source": [
    "files = sorted([file for file in glob(\"./aem_raw/*.csv\") if \"aemRaw_keyColumns_2022\" in file])\n",
    "stored_files = sorted([file for file in glob(\"./target_mcvisid/*.csv\") if \"aemRaw_keyColumns_2022\" in file])\n",
    "\n",
    "output_folder = \"target_mcvisid\"\n",
    "\n",
    "for file in files:\n",
    "    output_filename = file.replace(\"aem_raw\", output_folder)\n",
    "    if output_filename in stored_files:\n",
    "        print(f\"already processed this file {output_filename} in the target_mcvisid folder\")\n",
    "        continue\n",
    "    current = pd.read_csv(file, nrows=None)\n",
    "    keep_data = current.merge(email_mcvisid, how=\"inner\", on=\"mcvisid\")\n",
    "    keep_data.to_csv(output_filename, index=None)\n",
    "    print(output_filename, \" --> with rows: \", keep_data.shape[0])"
   ]
  },
  {
   "cell_type": "markdown",
   "id": "19018d93",
   "metadata": {},
   "source": [
    "#### load partial from local"
   ]
  },
  {
   "cell_type": "code",
   "execution_count": null,
   "id": "9ee45293",
   "metadata": {},
   "outputs": [],
   "source": [
    "df = pd.DataFrame()\n",
    "for file in stored_files:\n",
    "    current = pd.read_csv(file)\n",
    "    df = pd.concat([df, current])\n",
    "    print(\"current rows: \", df.shape[0])"
   ]
  },
  {
   "cell_type": "code",
   "execution_count": null,
   "id": "bb841f9d",
   "metadata": {},
   "outputs": [],
   "source": []
  },
  {
   "cell_type": "code",
   "execution_count": 6,
   "id": "e2344ea8",
   "metadata": {
    "ExecuteTime": {
     "end_time": "2022-12-06T23:03:19.382658Z",
     "start_time": "2022-12-06T23:03:19.375959Z"
    }
   },
   "outputs": [],
   "source": [
    "aem_raw = df"
   ]
  },
  {
   "cell_type": "markdown",
   "id": "ea2b1dbb",
   "metadata": {},
   "source": [
    "#### parsing"
   ]
  },
  {
   "cell_type": "code",
   "execution_count": 7,
   "id": "9f67af70",
   "metadata": {
    "ExecuteTime": {
     "end_time": "2022-12-06T23:03:43.284345Z",
     "start_time": "2022-12-06T23:03:19.383959Z"
    }
   },
   "outputs": [
    {
     "name": "stdout",
     "output_type": "stream",
     "text": [
      "stage1_raw: unique SessionVisitorId:  (1319,)\n",
      "stage2_raw: unique mcvisid:  (1319,)\n"
     ]
    }
   ],
   "source": [
    "stage1_raw = aem_raw.dropna(subset=[\"BingeScoredAssetPath\"]).reset_index(drop=True)\n",
    "# stage1_raw = stage1_raw.drop_duplicates(subset=[\"DateTime_UTC\", \"EloquaContactId\", \"SessionVisitorId\", \"BingeScoredAssetPath\"], keep='last') \n",
    "\n",
    "stage2_raw = aem_raw.dropna(subset=[\"BingeScoredAssetPath\"]).reset_index(drop=True)\n",
    "# stage2_raw = stage2_raw.drop_duplicates(subset=[\"DateTime_UTC\", \"SessionVisitorId\", \"BingeScoredAssetPath\"], keep='last')\n",
    "\n",
    "print(\"stage1_raw: unique SessionVisitorId: \", stage1_raw[\"SessionVisitorId\"].unique().shape)\n",
    "print(\"stage2_raw: unique mcvisid: \", stage2_raw[\"mcvisid\"].unique().shape)"
   ]
  },
  {
   "cell_type": "markdown",
   "id": "e62de733",
   "metadata": {},
   "source": [
    "### crm Lead\n",
    "- unique EloquaContactId -> do some update on this table for the same ID"
   ]
  },
  {
   "cell_type": "code",
   "execution_count": 8,
   "id": "e9b3212a",
   "metadata": {
    "ExecuteTime": {
     "end_time": "2022-12-06T23:03:52.014053Z",
     "start_time": "2022-12-06T23:03:43.286132Z"
    },
    "scrolled": true
   },
   "outputs": [
    {
     "name": "stderr",
     "output_type": "stream",
     "text": [
      "/Users/wy/opt/anaconda3/lib/python3.9/site-packages/IPython/core/interactiveshell.py:3444: DtypeWarning: Columns (8,9,13,15,17,31,43,44,45,46,49,50,51,56,58,59,63,64,68,70,72,74,76,78,81,83,84,85,89,92,94,97,99,109,112,113,114,115,117,124,135,136,137,138,140,142,143,144,145,157,159,164,165,166,167,178,182,185,188,198,200,204,207,208,216,217,219,223,224,229,230,232,238,240,246,247,252,253,256,257,258,261,262,266,267,268,272,274,275,284,286,287,289,293,294,307,311,313) have mixed types.Specify dtype option on import or set low_memory=False.\n",
      "  exec(code_obj, self.user_global_ns, self.user_ns)\n",
      "/Users/wy/opt/anaconda3/lib/python3.9/site-packages/pandas/core/indexing.py:1773: SettingWithCopyWarning: \n",
      "A value is trying to be set on a copy of a slice from a DataFrame.\n",
      "Try using .loc[row_indexer,col_indexer] = value instead\n",
      "\n",
      "See the caveats in the documentation: https://pandas.pydata.org/pandas-docs/stable/user_guide/indexing.html#returning-a-view-versus-a-copy\n",
      "  self._setitem_single_column(ilocs[0], value, pi)\n"
     ]
    }
   ],
   "source": [
    "_lead = pd.read_csv(\"crm_Lead_20221116_all.csv\", index_col=0)\n",
    "crm_lead = email_cleanup(_lead, \"emailaddress1\")"
   ]
  },
  {
   "cell_type": "markdown",
   "id": "78190f3d",
   "metadata": {},
   "source": [
    "### elo.contact\n",
    "- from gated content form?\n",
    "- unique EloquaContactId -> do some update on this table for the same ID"
   ]
  },
  {
   "cell_type": "code",
   "execution_count": 9,
   "id": "9d0a9f44",
   "metadata": {
    "ExecuteTime": {
     "end_time": "2022-12-06T23:04:08.072492Z",
     "start_time": "2022-12-06T23:03:52.023458Z"
    }
   },
   "outputs": [
    {
     "name": "stderr",
     "output_type": "stream",
     "text": [
      "/Users/wy/opt/anaconda3/lib/python3.9/site-packages/numpy/lib/arraysetops.py:583: FutureWarning: elementwise comparison failed; returning scalar instead, but in the future will perform elementwise comparison\n",
      "  mask |= (ar1 == a)\n"
     ]
    }
   ],
   "source": [
    "# _elq = pd.read_csv(\"all_elo_data_TOP1000000_2022-10-16.csv\", nrows=1000000, index_col=0)\n",
    "_elq = pd.read_csv(\"elq_all_bridge-only.csv\", index_col=0)\n",
    "elq = email_cleanup(_elq, \"EmailAddress\")\n",
    "elq_bridge = elq[[\"EmailAddress\", \"EloquaContactId\"]]\n"
   ]
  },
  {
   "cell_type": "code",
   "execution_count": 10,
   "id": "72855bbb",
   "metadata": {
    "ExecuteTime": {
     "end_time": "2022-12-06T23:04:17.532579Z",
     "start_time": "2022-12-06T23:04:08.073439Z"
    }
   },
   "outputs": [
    {
     "data": {
      "text/plain": [
       "EmailAddress\n",
       "!!edson.carlos!!@ensinger.co.uk         1\n",
       "marilyn.getz@electroswitch.com          1\n",
       "marilyn.gerard@dawnfoods.com            1\n",
       "marilyn.garaguso@alliedbeverage.com     1\n",
       "marilyn.gagnon@airbus.com               1\n",
       "                                       ..\n",
       "c_rudiyono@yahoo.com                   15\n",
       "dixie_bvn@hotmail.com                  17\n",
       "123@yahoo.com                          18\n",
       "eric.dacer@ptcerna.com                 20\n",
       "nancy.cordoba@elvatron.com             21\n",
       "Length: 6251714, dtype: int64"
      ]
     },
     "execution_count": 10,
     "metadata": {},
     "output_type": "execute_result"
    }
   ],
   "source": [
    "elq_bridge.groupby(\"EmailAddress\").size().sort_values()"
   ]
  },
  {
   "cell_type": "markdown",
   "id": "96e05250",
   "metadata": {
    "ExecuteTime": {
     "end_time": "2022-11-21T23:47:01.992984Z",
     "start_time": "2022-11-21T23:47:01.982016Z"
    }
   },
   "source": [
    "# Ideas\n",
    "- business targets\n",
    "    1. attractness: provide more interesting content for users\n",
    "        - ranking content + recommendation based\n",
    "    2. engagement: reach out and prioritize on target users\n",
    "        - identify potential lead, find patterns and build segmentations between users based on their upload informaton\n",
    "            - website visiting records -> AEM.raw? <font color=red>need specialized and ingested related data...</font>\n",
    "            - interactions with sales people -> CRM.Lead? <font color=red>need clean, maintain and more explaination on the existing data... </font>\n",
    "            - their demographic information -> CRM.Lead / Elq.Contact (this is quite clean)\n",
    "    3. conversion: sales people effort?\n",
    "    4. retain: ...\n",
    "\n",
    "- questions\n",
    "    - `Next steps: use data that is going into content scoring to predict user propensity`\n",
    "    - how this weight score can help next step for potential lead prediction?\n",
    "        - treat it as an feature to another model? the distance between sample is more important. It should be separatable.\n",
    "        - two-stage model? or just change labels\n",
    "        \n",
    "- reference:\n",
    "    - e.g. in recommendation system\n",
    "    - <img src=\"https://assets.zilliz.com/2_29e27eb9b1.png\" width=\"400\"/>\n",
    "    - <img src=\"https://cdn-images-1.medium.com/max/800/0*U5iR5NTSChuSOcyc.\" width=\"400\"/>"
   ]
  },
  {
   "cell_type": "markdown",
   "id": "a8891988",
   "metadata": {},
   "source": [
    "### funnel\n",
    "\n",
    "<div>\n",
    "    <img src=\"https://www.wordstream.com/wp-content/uploads/2022/08/content-marketing-funnel-full-size.png\" width=\"500\"/>\n",
    "</div>\n",
    "    "
   ]
  },
  {
   "cell_type": "markdown",
   "id": "72f8ee4c",
   "metadata": {
    "ExecuteTime": {
     "end_time": "2022-12-01T19:52:24.373754Z",
     "start_time": "2022-12-01T19:52:24.363288Z"
    }
   },
   "source": [
    "# Feature Engineering\n"
   ]
  },
  {
   "cell_type": "markdown",
   "id": "73fe9c01",
   "metadata": {},
   "source": [
    "## Preprocessing - TF-IDF (NLP)\n",
    "\n",
    "- TF-IDF = Term Frequency (TF) * Inverse Document Frequency (IDF)\n",
    "    - idf(t) = log(N/(df + 1))\n",
    "        <img src=\"https://cdn-media-1.freecodecamp.org/images/1*q3qYevXqQOjJf6Pwdlx8Mw.png\" width=\"500\"/>\n",
    "        <img src=\"https://preview.redd.it/clwuxvtqpeq91.png?width=397&format=png&auto=webp&s=ae6788cefae9b83b3033db3612ec83e8f5ded24f\" width=\"500\"/>\n",
    "    - rather directly using count frequency in the naive bayesian, using TF-IDF to adjust the features\n",
    "    \n",
    "- preprocessing.StandardScaler()\n",
    "    - should not use because the features importance are dependent on the frequency, which is already kind of information"
   ]
  },
  {
   "cell_type": "markdown",
   "id": "b68f4dbd",
   "metadata": {},
   "source": [
    "## stage1: wrapping data\n",
    "- label: Submitted gated form (target)\n",
    "    - generated by EventList\n",
    "- features:\n",
    "    - choosed:\n",
    "        - BingeScoredAssetPath: Current BingeScoredAssetPath interaction on one session ( content sequence )\n",
    "        - DateTime_UTC -> for concat sequence in visited order\n",
    "    - possible:\n",
    "        - BingeScoredAssetScore = manually set -> importance level for sales people\n",
    "        - BingeCriticalScore = manually threshold -> initial threshold for sales people\n",
    "        - PageURL? what information this URL can bring into model?\n",
    "        \n",
    "- original asset score manual setup ideas:\n",
    "    - asset weight average is 1, if it is more important/meaningful -> bump up to 2;\n",
    "    - if there are 5 assets in total, then default basic threshold is 5"
   ]
  },
  {
   "cell_type": "markdown",
   "id": "1b6b05af",
   "metadata": {},
   "source": [
    "## stage2: wrapping data\n",
    "- label: is qualified lead or not (target)\n",
    "    - stored on CRM Lead table, marked by sales people\n",
    "- features: all the activities during the journey -> including asset browsing history \n",
    "    - choosed:\n",
    "        - BingeScoredAssetPath: Current BingeScoredAssetPath interaction on one session ( content sequence )\n",
    "        - DateTime_UTC -> for concat sequence in visited order\n",
    "    - possible:\n",
    "        - User information <font color=red>(this part are useful)</font>\n",
    "            - industry\n",
    "            - company size \n",
    "            - ..."
   ]
  },
  {
   "cell_type": "code",
   "execution_count": 11,
   "id": "2e6e752d",
   "metadata": {
    "ExecuteTime": {
     "end_time": "2022-12-06T23:04:17.614421Z",
     "start_time": "2022-12-06T23:04:17.534017Z"
    }
   },
   "outputs": [],
   "source": [
    "def identify_pos(user_journey, label_type = 2):\n",
    "    if label_type == 1:\n",
    "        pos_code_statuscode = [953810011.0, 3.0, 953810008.0]\n",
    "        isPos = user_journey[\"statuscode\"].isin(pos_code_statuscode).any()\n",
    "    elif label_type == 2:\n",
    "        pos_code_ra_leadstage = [6.0, 7.0, 8.0]\n",
    "        isPos = user_journey[\"ra_leadstage\"].isin(pos_code_ra_leadstage).any()\n",
    "    return isPos\n",
    "\n",
    "def preprocessing_stage(user_journey, stage=1, target_method=0, feature_method=\"sequential\", sep=\"$\"):\n",
    "    if stage == 1:\n",
    "        if target_method == 0:\n",
    "            target_event = [125, 126]\n",
    "            events = \",\".join(user_journey[\"EventList\"].drop_duplicates().tolist())\n",
    "            y = any([True for e in target_event if \",\" + str(e) in events]) * 1\n",
    "        elif target_method == 1:\n",
    "            y = (~user_journey[\"EloquaContactId\"].isnull()).any()\n",
    "        else:\n",
    "            raise \"no such target_method\"\n",
    "            \n",
    "    elif stage == 2:\n",
    "        y = any(user_journey[\"label\"]) * 1\n",
    "    \n",
    "    if feature_method == \"bow\":\n",
    "        page_view = user_journey.groupby(\"BingeScoredAssetPath\")[\"BingeScoredAssetPath\"].size().to_dict() # dict vectorizer\n",
    "    elif feature_method == \"sequential\":\n",
    "        page_view = sep.join(user_journey.sort_values(by=\"DateTime_UTC\")[\"BingeScoredAssetPath\"].tolist())\n",
    "    else:\n",
    "        raise \"no such feature_method\"\n",
    "    \n",
    "    # init_scores = user_journey.groupby([\"BingeScoredAssetPath\"])[[\"BingeCriticalScore\",\"BingeScoredAssetScore\"]].mean() # not sure how to append as weighted matrix\n",
    "#     asset_user_journey_seq = user_journey.sort_values(by=\"DateTime_UTC\")[\"BingeScoredAssetPath\"].tolist()\n",
    "    return pd.Series([page_view, y], index=[\"features\", \"label\"])\n",
    "\n",
    "def evaluate_metrics(y_test, y_pred, show_plots=False):\n",
    "    fpr, tpr, thresholds = roc_curve(y_test, y_pred, pos_label=1)\n",
    "    auc_score = auc(fpr, tpr)\n",
    "    pre, rec, thresholds = precision_recall_curve(y_test, y_pred, pos_label=1)\n",
    "    prc_score = auc(rec, pre)\n",
    "\n",
    "    if show_plots:\n",
    "        print(classification_report(y_test, y_pred>0.5))\n",
    "        plt.subplot(1, 2, 1)\n",
    "        plt.plot(fpr, tpr, color='darkorange', lw=2)\n",
    "        plt.plot([0, 1], [0, 1], color='navy', lw=2, linestyle='--')\n",
    "        plt.xlim([0.0, 1.0])\n",
    "        plt.ylim([0.0, 1.05])\n",
    "        plt.xlabel('False Positive Rate')\n",
    "        plt.ylabel('True Positive Rate')\n",
    "        plt.title('AUC')\n",
    "\n",
    "        plt.subplot(1, 2, 2)\n",
    "        plt.plot(rec, pre, color='darkorange', lw=2)\n",
    "        plt.xlim([0.0, 1.0])\n",
    "        plt.ylim([0.0, 1.05])\n",
    "        plt.xlabel('Recall')\n",
    "        plt.ylabel('Precision')\n",
    "        plt.title('PRC')\n",
    "        plt.tight_layout()\n",
    "\n",
    "        plt.show()\n",
    "\n",
    "    print(\"AUC: {:.2%}, PRC: {:.2%}\".format(auc_score, prc_score))\n",
    "    \n",
    "SEP_TOKEN_PATTERN = \"[^\\$]+\"\n",
    "SEED = 42\n",
    "TEST_SIZE = 0.2"
   ]
  },
  {
   "cell_type": "markdown",
   "id": "7de72f6b",
   "metadata": {},
   "source": [
    "# Modeling\n",
    "\n"
   ]
  },
  {
   "cell_type": "markdown",
   "id": "571b4581",
   "metadata": {},
   "source": [
    "## Stage-1: Scoring content - visitor preference \n",
    "- rethink:\n",
    "    - what is the most attractive content for visitor v.s. what is the most attractive content for salespeople?\n",
    "        - SubmitGatedForm action is not marked by sales people, it's kind of inclination level from user side\n",
    "        - the model is trying to know which asset is more important for SubmitGatedForm \n",
    "        - how important for user to submit GCDC\n",
    "\n",
    "    - weight should be from sales people definition, but current method can only get the attractive score on visitor aspect => \n",
    "        - assumption-1: more clicks => interesting to connect? <font color=red>submit GCDC == made a reach out decision? YES?</font>\n",
    "        - they will think the information are valuable for them, want to get more related information -> salespeople reach out? When is the time = threshold?"
   ]
  },
  {
   "cell_type": "code",
   "execution_count": 12,
   "id": "bf7de2ad",
   "metadata": {
    "ExecuteTime": {
     "end_time": "2022-12-06T23:04:18.224333Z",
     "start_time": "2022-12-06T23:04:17.615602Z"
    }
   },
   "outputs": [],
   "source": [
    "data = stage1_raw.groupby(\"SessionVisitorId\").apply(lambda x: preprocessing_stage(x))"
   ]
  },
  {
   "cell_type": "markdown",
   "id": "de640e58",
   "metadata": {},
   "source": [
    "### Data split + TFIDF\n",
    "<!-- \n",
    "# ## outdated\n",
    "# data = stage1_raw.groupby(\"SessionVisitorId\").apply(lambda x: processing_stage1(x, target_method=1, feature_method=\"bow\"))\n",
    "# data[\"submitted_form\"].value_counts()\n",
    "\n",
    "# def tfidf_transform(dtm, idf=None):\n",
    "#     N = dtm.shape[0] # number of document\n",
    "#     tf = (dtm/(dtm.sum(axis=1).reshape(-1,1)))\n",
    "\n",
    "#     if idf is None:\n",
    "#         idf = np.log(1 + N/(dtm.astype(bool).sum(axis=0)))\n",
    "        \n",
    "#     tfidf = tf * idf\n",
    "#     return tfidf, idf\n",
    "# v = DictVectorizer(sparse=False)\n",
    "# X_train_dtm = v.fit_transform(X_train)\n",
    "# X_test_dtm = v.transform(X_test)\n",
    "# X_train_arr, idf = tfidf_transform(X_train_dtm)\n",
    "# X_test_arr, _ = tfidf_transform(X_test_dtm, idf) -->"
   ]
  },
  {
   "cell_type": "code",
   "execution_count": 13,
   "id": "dccfbe05",
   "metadata": {
    "ExecuteTime": {
     "end_time": "2022-12-06T23:04:18.275823Z",
     "start_time": "2022-12-06T23:04:18.225528Z"
    }
   },
   "outputs": [
    {
     "name": "stdout",
     "output_type": "stream",
     "text": [
      "training sample label size: Counter({0: 689, 1: 366})\n",
      "pos vs neg in training set:\n",
      "0    862\n",
      "1    457\n",
      "Name: label, dtype: int64\n",
      "testing sample label size: Counter({0: 173, 1: 91})\n"
     ]
    }
   ],
   "source": [
    "X_train, X_test, y_train, y_test = train_test_split(data[\"features\"], data[\"label\"].values, test_size=TEST_SIZE, stratify=data[\"label\"].values, random_state=SEED)\n",
    "\n",
    "print(\"training sample label size:\", Counter(y_train))\n",
    "print(\"pos vs neg in training set:\")\n",
    "print(data[\"label\"].value_counts())\n",
    "print(\"testing sample label size:\", Counter(y_test))\n",
    "\n",
    "vectorizer = TfidfVectorizer(token_pattern=SEP_TOKEN_PATTERN)\n",
    "\n",
    "X_train_arr = vectorizer.fit_transform(X_train)\n",
    "X_test_arr = vectorizer.transform(X_test)"
   ]
  },
  {
   "cell_type": "markdown",
   "id": "0ebf5676",
   "metadata": {},
   "source": [
    "### Models"
   ]
  },
  {
   "cell_type": "markdown",
   "id": "844852d5",
   "metadata": {},
   "source": [
    "#### LR"
   ]
  },
  {
   "cell_type": "code",
   "execution_count": 14,
   "id": "93e33028",
   "metadata": {
    "ExecuteTime": {
     "end_time": "2022-12-06T23:04:18.307909Z",
     "start_time": "2022-12-06T23:04:18.276849Z"
    }
   },
   "outputs": [
    {
     "data": {
      "text/plain": [
       "LogisticRegression()"
      ]
     },
     "execution_count": 14,
     "metadata": {},
     "output_type": "execute_result"
    }
   ],
   "source": [
    "model = LogisticRegression()\n",
    "model.fit(X_train_arr, y_train)\n",
    "# model.coef_"
   ]
  },
  {
   "cell_type": "markdown",
   "id": "be5dd6b0",
   "metadata": {},
   "source": [
    "#### svm (x)\n",
    "- no weight but only predict prob "
   ]
  },
  {
   "cell_type": "code",
   "execution_count": 15,
   "id": "04e33c66",
   "metadata": {
    "ExecuteTime": {
     "end_time": "2022-12-06T23:04:18.479997Z",
     "start_time": "2022-12-06T23:04:18.309085Z"
    }
   },
   "outputs": [
    {
     "name": "stdout",
     "output_type": "stream",
     "text": [
      "              precision    recall  f1-score   support\n",
      "\n",
      "           0       0.84      0.80      0.82       173\n",
      "           1       0.65      0.71      0.68        91\n",
      "\n",
      "    accuracy                           0.77       264\n",
      "   macro avg       0.75      0.76      0.75       264\n",
      "weighted avg       0.78      0.77      0.77       264\n",
      "\n"
     ]
    },
    {
     "data": {
      "image/png": "[encoded data removed]",
      "text/plain": [
       "<Figure size 432x288 with 2 Axes>"
      ]
     },
     "metadata": {
      "needs_background": "light"
     },
     "output_type": "display_data"
    },
    {
     "name": "stdout",
     "output_type": "stream",
     "text": [
      "AUC: 75.60%, PRC: 73.14%\n"
     ]
    }
   ],
   "source": [
    "svm_clf = svm.SVC(kernel='linear', C=1)\n",
    "svm_clf.fit(X_train_arr, y_train)\n",
    "y_pred = svm_clf.predict(X_test_arr)\n",
    "evaluate_metrics(y_test, y_pred, show_plots = True)"
   ]
  },
  {
   "cell_type": "markdown",
   "id": "f59ab946",
   "metadata": {},
   "source": [
    "#### naive bayes\n",
    "- $\\theta_{yi}$ is the probability $P(x_i \\mid y)$ of feature i appearing in a sample belonging to class y."
   ]
  },
  {
   "cell_type": "code",
   "execution_count": 16,
   "id": "4efd0d6c",
   "metadata": {
    "ExecuteTime": {
     "end_time": "2022-12-06T23:04:18.602665Z",
     "start_time": "2022-12-06T23:04:18.481229Z"
    }
   },
   "outputs": [
    {
     "name": "stdout",
     "output_type": "stream",
     "text": [
      "              precision    recall  f1-score   support\n",
      "\n",
      "           0       0.84      0.82      0.83       173\n",
      "           1       0.67      0.71      0.69        91\n",
      "\n",
      "    accuracy                           0.78       264\n",
      "   macro avg       0.76      0.76      0.76       264\n",
      "weighted avg       0.78      0.78      0.78       264\n",
      "\n"
     ]
    },
    {
     "data": {
      "image/png": "[encoded data removed]",
      "text/plain": [
       "<Figure size 432x288 with 2 Axes>"
      ]
     },
     "metadata": {
      "needs_background": "light"
     },
     "output_type": "display_data"
    },
    {
     "name": "stdout",
     "output_type": "stream",
     "text": [
      "AUC: 83.67%, PRC: 76.95%\n"
     ]
    }
   ],
   "source": [
    "clf = MultinomialNB().fit(X_train_arr, y_train)\n",
    "asset_prob = np.exp(clf.feature_log_prob_[0])\n",
    "# clf.feature_log_prob_[0]\n",
    "y_pred = (clf.predict_proba(X_test_arr))[:, 1]\n",
    "evaluate_metrics(y_test, y_pred, show_plots = True)"
   ]
  },
  {
   "cell_type": "markdown",
   "id": "a8e7c9b3",
   "metadata": {},
   "source": [
    "### <font color=red>cross validation</font>\n",
    "<img src=\"https://scikit-learn.org/stable/_images/grid_search_cross_validation.png\" width=\"500\"/>"
   ]
  },
  {
   "cell_type": "code",
   "execution_count": 17,
   "id": "259d3d5b",
   "metadata": {
    "ExecuteTime": {
     "end_time": "2022-12-06T23:04:18.614767Z",
     "start_time": "2022-12-06T23:04:18.603654Z"
    }
   },
   "outputs": [
    {
     "name": "stdout",
     "output_type": "stream",
     "text": [
      "0.79 accuracy with a standard deviation of 0.02\n"
     ]
    }
   ],
   "source": [
    "scores = cross_validate(clf, X_train_arr, y_train, cv=5)\n",
    "print(\"%0.2f accuracy with a standard deviation of %0.2f\" % (scores[\"test_score\"].mean(), scores[\"test_score\"].std()))"
   ]
  },
  {
   "cell_type": "markdown",
   "id": "83e5af7e",
   "metadata": {},
   "source": [
    "### Assign Weight (kind of user preference)\n",
    "- conditional prob"
   ]
  },
  {
   "cell_type": "code",
   "execution_count": 18,
   "id": "c0fdaca2",
   "metadata": {
    "ExecuteTime": {
     "end_time": "2022-12-06T23:04:18.617869Z",
     "start_time": "2022-12-06T23:04:18.615922Z"
    }
   },
   "outputs": [],
   "source": [
    "# log p(w|c=1) + log p(w|c=0)\n",
    "import numpy as np\n",
    "asset_prob = np.exp(clf.feature_log_prob_[0])"
   ]
  },
  {
   "cell_type": "code",
   "execution_count": 19,
   "id": "16b12430",
   "metadata": {
    "ExecuteTime": {
     "end_time": "2022-12-06T23:04:18.683811Z",
     "start_time": "2022-12-06T23:04:18.618759Z"
    }
   },
   "outputs": [
    {
     "data": {
      "text/html": [
       "<style type=\"text/css\">\n",
       "</style>\n",
       "<table id=\"T_b612b_\">\n",
       "  <thead>\n",
       "    <tr>\n",
       "      <th class=\"blank level0\" >&nbsp;</th>\n",
       "      <th class=\"col_heading level0 col0\" >asset</th>\n",
       "      <th class=\"col_heading level0 col1\" >weight</th>\n",
       "    </tr>\n",
       "  </thead>\n",
       "  <tbody>\n",
       "    <tr>\n",
       "      <th id=\"T_b612b_level0_row0\" class=\"row_heading level0 row0\" >46</th>\n",
       "      <td id=\"T_b612b_row0_col0\" class=\"data row0 col0\" >/content/rockwell-automation/www/na/us/en_us/company/news/case-studies/hirata-emulation-software.html</td>\n",
       "      <td id=\"T_b612b_row0_col1\" class=\"data row0 col1\" >0.147548</td>\n",
       "    </tr>\n",
       "    <tr>\n",
       "      <th id=\"T_b612b_level0_row1\" class=\"row_heading level0 row1\" >47</th>\n",
       "      <td id=\"T_b612b_row1_col0\" class=\"data row1 col0\" >/content/rockwell-automation/www/na/us/en_us/company/news/case-studies/maximum-transparency-across-all-levels-at-samsung-sdi-battery-sy.html</td>\n",
       "      <td id=\"T_b612b_row1_col1\" class=\"data row1 col1\" >0.146164</td>\n",
       "    </tr>\n",
       "    <tr>\n",
       "      <th id=\"T_b612b_level0_row2\" class=\"row_heading level0 row2\" >2</th>\n",
       "      <td id=\"T_b612b_row2_col0\" class=\"data row2 col0\" >/content/dam/rockwell-automation/sites/downloads/pdf/auto-ar001_-en-p.pdf</td>\n",
       "      <td id=\"T_b612b_row2_col1\" class=\"data row2 col1\" >0.144098</td>\n",
       "    </tr>\n",
       "    <tr>\n",
       "      <th id=\"T_b612b_level0_row3\" class=\"row_heading level0 row3\" >3</th>\n",
       "      <td id=\"T_b612b_row3_col0\" class=\"data row3 col0\" >/content/dam/rockwell-automation/sites/downloads/pdf/auto-sp010_-en-p.pdf</td>\n",
       "      <td id=\"T_b612b_row3_col1\" class=\"data row3 col1\" >0.143090</td>\n",
       "    </tr>\n",
       "    <tr>\n",
       "      <th id=\"T_b612b_level0_row4\" class=\"row_heading level0 row4\" >48</th>\n",
       "      <td id=\"T_b612b_row4_col0\" class=\"data row4 col0\" >/content/rockwell-automation/www/na/us/en_us/company/news/presentations/electric-vehicle-innovation-center.html</td>\n",
       "      <td id=\"T_b612b_row4_col1\" class=\"data row4 col1\" >0.116599</td>\n",
       "    </tr>\n",
       "    <tr>\n",
       "      <th id=\"T_b612b_level0_row5\" class=\"row_heading level0 row5\" >6</th>\n",
       "      <td id=\"T_b612b_row5_col0\" class=\"data row5 col0\" >/content/dam/rockwell-automation/sites/downloads/pdf/getting started in iab.pdf</td>\n",
       "      <td id=\"T_b612b_row5_col1\" class=\"data row5 col1\" >0.070596</td>\n",
       "    </tr>\n",
       "    <tr>\n",
       "      <th id=\"T_b612b_level0_row6\" class=\"row_heading level0 row6\" >30</th>\n",
       "      <td id=\"T_b612b_row6_col0\" class=\"data row6 col0\" >/content/dam/rockwell-automation/videos/events/af-2022/on-demand/new-and-next-at-rockwell-automation/new-and-next-at-rockwell-automation-en.mp4</td>\n",
       "      <td id=\"T_b612b_row6_col1\" class=\"data row6 col1\" >0.058812</td>\n",
       "    </tr>\n",
       "    <tr>\n",
       "      <th id=\"T_b612b_level0_row7\" class=\"row_heading level0 row7\" >7</th>\n",
       "      <td id=\"T_b612b_row7_col0\" class=\"data row7 col0\" >/content/dam/rockwell-automation/sites/downloads/pdf/project design assistant.pdf</td>\n",
       "      <td id=\"T_b612b_row7_col1\" class=\"data row7 col1\" >0.034073</td>\n",
       "    </tr>\n",
       "    <tr>\n",
       "      <th id=\"T_b612b_level0_row8\" class=\"row_heading level0 row8\" >8</th>\n",
       "      <td id=\"T_b612b_row8_col0\" class=\"data row8 col0\" >/content/dam/rockwell-automation/sites/downloads/pdf/using the architecture view.pdf</td>\n",
       "      <td id=\"T_b612b_row8_col1\" class=\"data row8 col1\" >0.013090</td>\n",
       "    </tr>\n",
       "    <tr>\n",
       "      <th id=\"T_b612b_level0_row9\" class=\"row_heading level0 row9\" >4</th>\n",
       "      <td id=\"T_b612b_row9_col0\" class=\"data row9 col0\" >/content/dam/rockwell-automation/sites/downloads/pdf/export a bom to proposalworks.pdf</td>\n",
       "      <td id=\"T_b612b_row9_col1\" class=\"data row9 col1\" >0.010486</td>\n",
       "    </tr>\n",
       "    <tr>\n",
       "      <th id=\"T_b612b_level0_row10\" class=\"row_heading level0 row10\" >5</th>\n",
       "      <td id=\"T_b612b_row10_col0\" class=\"data row10 col0\" >/content/dam/rockwell-automation/sites/downloads/pdf/generating a report.pdf</td>\n",
       "      <td id=\"T_b612b_row10_col1\" class=\"data row10 col1\" >0.010450</td>\n",
       "    </tr>\n",
       "    <tr>\n",
       "      <th id=\"T_b612b_level0_row11\" class=\"row_heading level0 row11\" >41</th>\n",
       "      <td id=\"T_b612b_row11_col0\" class=\"data row11 col0\" >/content/dam/rockwell-automation/videos/products/software/factorytalk/factorytalk-optix-visualization-platform-introduction/factorytalk-optix-visualization-platform-introduction-en.mp4</td>\n",
       "      <td id=\"T_b612b_row11_col1\" class=\"data row11 col1\" >0.008080</td>\n",
       "    </tr>\n",
       "    <tr>\n",
       "      <th id=\"T_b612b_level0_row12\" class=\"row_heading level0 row12\" >1</th>\n",
       "      <td id=\"T_b612b_row12_col0\" class=\"data row12 col0\" >/content/dam/rockwell-automation/sites/downloads/pdf/applying pricing to bom.pdf</td>\n",
       "      <td id=\"T_b612b_row12_col1\" class=\"data row12 col1\" >0.007033</td>\n",
       "    </tr>\n",
       "    <tr>\n",
       "      <th id=\"T_b612b_level0_row13\" class=\"row_heading level0 row13\" >35</th>\n",
       "      <td id=\"T_b612b_row13_col0\" class=\"data row13 col0\" >/content/dam/rockwell-automation/videos/industry/water-wastewater/using-artificial-intelligence-for-sustainability/using-artificial-intelligence-for-sustainability-en.mp4</td>\n",
       "      <td id=\"T_b612b_row13_col1\" class=\"data row13 col1\" >0.006734</td>\n",
       "    </tr>\n",
       "    <tr>\n",
       "      <th id=\"T_b612b_level0_row14\" class=\"row_heading level0 row14\" >11</th>\n",
       "      <td id=\"T_b612b_row14_col0\" class=\"data row14 col0\" >/content/dam/rockwell-automation/videos/capabilities/cybersecurity/cybersecurity-watch-a-hack-in-real-time/cybersecurity-hack-in-real-time-en.mp4</td>\n",
       "      <td id=\"T_b612b_row14_col1\" class=\"data row14 col1\" >0.005387</td>\n",
       "    </tr>\n",
       "    <tr>\n",
       "      <th id=\"T_b612b_level0_row15\" class=\"row_heading level0 row15\" >40</th>\n",
       "      <td id=\"T_b612b_row15_col0\" class=\"data row15 col0\" >/content/dam/rockwell-automation/videos/products/software/factorytalk/factorytalk-design-studio-cloud-increase-design-efficiency/factorytalk-design-studio-cloud-increase-design-efficiency-en.mp4</td>\n",
       "      <td id=\"T_b612b_row15_col1\" class=\"data row15 col1\" >0.005387</td>\n",
       "    </tr>\n",
       "    <tr>\n",
       "      <th id=\"T_b612b_level0_row16\" class=\"row_heading level0 row16\" >44</th>\n",
       "      <td id=\"T_b612b_row16_col0\" class=\"data row16 col0\" >/content/dam/rockwell-automation/videos/products/software/factorytalk/using-maintenance-software-to-optimize-asset-performance/using-maintenance-software-to-optimize-asset-performance-en.mp4</td>\n",
       "      <td id=\"T_b612b_row16_col1\" class=\"data row16 col1\" >0.004040</td>\n",
       "    </tr>\n",
       "    <tr>\n",
       "      <th id=\"T_b612b_level0_row17\" class=\"row_heading level0 row17\" >29</th>\n",
       "      <td id=\"T_b612b_row17_col0\" class=\"data row17 col0\" >/content/dam/rockwell-automation/videos/events/af-2022/on-demand/andyrobots-welcomes-automation-fair-attendees/andyrobots-welcomes-automation-fair-attendees-en.mp4</td>\n",
       "      <td id=\"T_b612b_row17_col1\" class=\"data row17 col1\" >0.004040</td>\n",
       "    </tr>\n",
       "    <tr>\n",
       "      <th id=\"T_b612b_level0_row18\" class=\"row_heading level0 row18\" >0</th>\n",
       "      <td id=\"T_b612b_row18_col0\" class=\"data row18 col0\" >/content/dam/rockwell-automation/sites/downloads/pdf/6300-sg002_-en-p.pdf</td>\n",
       "      <td id=\"T_b612b_row18_col1\" class=\"data row18 col1\" >0.004040</td>\n",
       "    </tr>\n",
       "    <tr>\n",
       "      <th id=\"T_b612b_level0_row19\" class=\"row_heading level0 row19\" >15</th>\n",
       "      <td id=\"T_b612b_row19_col0\" class=\"data row19 col0\" >/content/dam/rockwell-automation/videos/capabilities/industrial-analytics/leading-with-data-our-vision-for-industrial-analytics/leading-with-data-our-vision-for-industrial-analytics-en.mp4</td>\n",
       "      <td id=\"T_b612b_row19_col1\" class=\"data row19 col1\" >0.003692</td>\n",
       "    </tr>\n",
       "    <tr>\n",
       "      <th id=\"T_b612b_level0_row20\" class=\"row_heading level0 row20\" >19</th>\n",
       "      <td id=\"T_b612b_row20_col0\" class=\"data row20 col0\" >/content/dam/rockwell-automation/videos/capabilities/industrial-networks/fundamentals-of-ethernet-ip-iiot-network-technology/fundamentals-of-ethernet-ip-iiot-network-technology-en.mp4</td>\n",
       "      <td id=\"T_b612b_row20_col1\" class=\"data row20 col1\" >0.002693</td>\n",
       "    </tr>\n",
       "    <tr>\n",
       "      <th id=\"T_b612b_level0_row21\" class=\"row_heading level0 row21\" >38</th>\n",
       "      <td id=\"T_b612b_row21_col0\" class=\"data row21 col0\" >/content/dam/rockwell-automation/videos/products/software/factorytalk/factorytalk-design-hub-ecosystem-introduction/factorytalk-design-hub-ecosystem-introduction-en.mp4</td>\n",
       "      <td id=\"T_b612b_row21_col1\" class=\"data row21 col1\" >0.002693</td>\n",
       "    </tr>\n",
       "    <tr>\n",
       "      <th id=\"T_b612b_level0_row22\" class=\"row_heading level0 row22\" >36</th>\n",
       "      <td id=\"T_b612b_row22_col0\" class=\"data row22 col0\" >/content/dam/rockwell-automation/videos/products/hardware/industrial-computers-monitors/asem-6300-overview/asem-6300-overview.mp4</td>\n",
       "      <td id=\"T_b612b_row22_col1\" class=\"data row22 col1\" >0.002693</td>\n",
       "    </tr>\n",
       "    <tr>\n",
       "      <th id=\"T_b612b_level0_row23\" class=\"row_heading level0 row23\" >20</th>\n",
       "      <td id=\"T_b612b_row23_col0\" class=\"data row23 col0\" >/content/dam/rockwell-automation/videos/capabilities/industrial-networks/network-modernization-to-deliver-digital-transformation/network-modernization-to-deliver-digital-transformation-en.mp4</td>\n",
       "      <td id=\"T_b612b_row23_col1\" class=\"data row23 col1\" >0.002693</td>\n",
       "    </tr>\n",
       "    <tr>\n",
       "      <th id=\"T_b612b_level0_row24\" class=\"row_heading level0 row24\" >14</th>\n",
       "      <td id=\"T_b612b_row24_col0\" class=\"data row24 col0\" >/content/dam/rockwell-automation/videos/capabilities/digital-transformation/uncomplicate-compliance-by-digitizing-quality/uncomplicate-compliance-by-digitizing-quality-en.mp4</td>\n",
       "      <td id=\"T_b612b_row24_col1\" class=\"data row24 col1\" >0.002693</td>\n",
       "    </tr>\n",
       "    <tr>\n",
       "      <th id=\"T_b612b_level0_row25\" class=\"row_heading level0 row25\" >31</th>\n",
       "      <td id=\"T_b612b_row25_col0\" class=\"data row25 col0\" >/content/dam/rockwell-automation/videos/industry/automotive/powering-the-automotive-revolution/powering-the-automotive-revolution-en.mp4</td>\n",
       "      <td id=\"T_b612b_row25_col1\" class=\"data row25 col1\" >0.002693</td>\n",
       "    </tr>\n",
       "    <tr>\n",
       "      <th id=\"T_b612b_level0_row26\" class=\"row_heading level0 row26\" >16</th>\n",
       "      <td id=\"T_b612b_row26_col0\" class=\"data row26 col0\" >/content/dam/rockwell-automation/videos/capabilities/industrial-automation-and-control/micro-control-integrated-automation-solution/micro-control-integrated-automation-solution-en.mp4</td>\n",
       "      <td id=\"T_b612b_row26_col1\" class=\"data row26 col1\" >0.002693</td>\n",
       "    </tr>\n",
       "    <tr>\n",
       "      <th id=\"T_b612b_level0_row27\" class=\"row_heading level0 row27\" >17</th>\n",
       "      <td id=\"T_b612b_row27_col0\" class=\"data row27 col0\" >/content/dam/rockwell-automation/videos/capabilities/industrial-maintenance-support/how-asset-performance-management-and-production-monitoring-improve-operations/how-asset-performance-management-and-production-monitoring-improve-operations-en.mp4</td>\n",
       "      <td id=\"T_b612b_row27_col1\" class=\"data row27 col1\" >0.002693</td>\n",
       "    </tr>\n",
       "    <tr>\n",
       "      <th id=\"T_b612b_level0_row28\" class=\"row_heading level0 row28\" >42</th>\n",
       "      <td id=\"T_b612b_row28_col0\" class=\"data row28 col0\" >/content/dam/rockwell-automation/videos/products/software/factorytalk/factorytalk-remote-access-overview-architectures-options/factorytalk-remote-access-overview-architectures-options-en.mp4</td>\n",
       "      <td id=\"T_b612b_row28_col1\" class=\"data row28 col1\" >0.002693</td>\n",
       "    </tr>\n",
       "    <tr>\n",
       "      <th id=\"T_b612b_level0_row29\" class=\"row_heading level0 row29\" >27</th>\n",
       "      <td id=\"T_b612b_row29_col0\" class=\"data row29 col0\" >/content/dam/rockwell-automation/videos/capabilities/smart-manufacturing/smart-devices-the-eyes-and-ears-of-your-smart-machine/smart-devices-the-eyes-and-ears-of-your-smart-machine-en.mp4</td>\n",
       "      <td id=\"T_b612b_row29_col1\" class=\"data row29 col1\" >0.002693</td>\n",
       "    </tr>\n",
       "    <tr>\n",
       "      <th id=\"T_b612b_level0_row30\" class=\"row_heading level0 row30\" >10</th>\n",
       "      <td id=\"T_b612b_row30_col0\" class=\"data row30 col0\" >/content/dam/rockwell-automation/videos/capabilities/cybersecurity/cip-security-improve-your-control-system-defense-in-depth-strategy/cip-security-improve-your-control-system-defense-in-depth-strategy-en.mp4</td>\n",
       "      <td id=\"T_b612b_row30_col1\" class=\"data row30 col1\" >0.002693</td>\n",
       "    </tr>\n",
       "    <tr>\n",
       "      <th id=\"T_b612b_level0_row31\" class=\"row_heading level0 row31\" >22</th>\n",
       "      <td id=\"T_b612b_row31_col0\" class=\"data row31 col0\" >/content/dam/rockwell-automation/videos/capabilities/machine-and-equipment-builders/the-augmented-workforce/the-augmented-workforce-en.mp4</td>\n",
       "      <td id=\"T_b612b_row31_col1\" class=\"data row31 col1\" >0.002693</td>\n",
       "    </tr>\n",
       "    <tr>\n",
       "      <th id=\"T_b612b_level0_row32\" class=\"row_heading level0 row32\" >39</th>\n",
       "      <td id=\"T_b612b_row32_col0\" class=\"data row32 col0\" >/content/dam/rockwell-automation/videos/products/software/factorytalk/factorytalk-design-hub-teams-work-better-together/factorytalk-design-hub-teams-work-better-together-en.mp4</td>\n",
       "      <td id=\"T_b612b_row32_col1\" class=\"data row32 col1\" >0.002693</td>\n",
       "    </tr>\n",
       "    <tr>\n",
       "      <th id=\"T_b612b_level0_row33\" class=\"row_heading level0 row33\" >43</th>\n",
       "      <td id=\"T_b612b_row33_col0\" class=\"data row33 col0\" >/content/dam/rockwell-automation/videos/products/software/factorytalk/improving-collaboration-and-productivity-for-design-teams/improving-collaboration-and-productivity-for-design-teams-en.mp4</td>\n",
       "      <td id=\"T_b612b_row33_col1\" class=\"data row33 col1\" >0.001347</td>\n",
       "    </tr>\n",
       "    <tr>\n",
       "      <th id=\"T_b612b_level0_row34\" class=\"row_heading level0 row34\" >12</th>\n",
       "      <td id=\"T_b612b_row34_col0\" class=\"data row34 col0\" >/content/dam/rockwell-automation/videos/capabilities/cybersecurity/how-a-managed-soc-can-transform-your-operations-and-help-mitigate-risk/how-a-managed-soc-can-transform-your-operations-and-help-mitigate-risk-en.mp4</td>\n",
       "      <td id=\"T_b612b_row34_col1\" class=\"data row34 col1\" >0.001347</td>\n",
       "    </tr>\n",
       "    <tr>\n",
       "      <th id=\"T_b612b_level0_row35\" class=\"row_heading level0 row35\" >13</th>\n",
       "      <td id=\"T_b612b_row35_col0\" class=\"data row35 col0\" >/content/dam/rockwell-automation/videos/capabilities/digital-transformation/innovating-for-results/innovating-for-results-en.mp4</td>\n",
       "      <td id=\"T_b612b_row35_col1\" class=\"data row35 col1\" >0.001347</td>\n",
       "    </tr>\n",
       "    <tr>\n",
       "      <th id=\"T_b612b_level0_row36\" class=\"row_heading level0 row36\" >45</th>\n",
       "      <td id=\"T_b612b_row36_col0\" class=\"data row36 col0\" >/content/rockwell-automation/www/ame/za/en_za/company/news/case-studies/maximum-transparency-across-all-levels-at-samsung-sdi-battery-sy.html</td>\n",
       "      <td id=\"T_b612b_row36_col1\" class=\"data row36 col1\" >0.001347</td>\n",
       "    </tr>\n",
       "    <tr>\n",
       "      <th id=\"T_b612b_level0_row37\" class=\"row_heading level0 row37\" >9</th>\n",
       "      <td id=\"T_b612b_row37_col0\" class=\"data row37 col0\" >/content/dam/rockwell-automation/videos/capabilities/connected-enterprise/building-the-connected-enterprise-production-system-with-operations-software/building-the-connected-enterprise-production-system-with-operations-software-en.mp4</td>\n",
       "      <td id=\"T_b612b_row37_col1\" class=\"data row37 col1\" >0.001347</td>\n",
       "    </tr>\n",
       "    <tr>\n",
       "      <th id=\"T_b612b_level0_row38\" class=\"row_heading level0 row38\" >34</th>\n",
       "      <td id=\"T_b612b_row38_col0\" class=\"data row38 col0\" >/content/dam/rockwell-automation/videos/industry/warehouse-fulfillment/enhancing-efficiency-in-the-warehouse-industry/enhancing-efficiency-in-the-warehouse-industry-en.mp4</td>\n",
       "      <td id=\"T_b612b_row38_col1\" class=\"data row38 col1\" >0.001347</td>\n",
       "    </tr>\n",
       "    <tr>\n",
       "      <th id=\"T_b612b_level0_row39\" class=\"row_heading level0 row39\" >37</th>\n",
       "      <td id=\"T_b612b_row39_col0\" class=\"data row39 col0\" >/content/dam/rockwell-automation/videos/products/hardware/motor-control-centers/strengthening-our-motor-control-portfolio-with-cubic/strengthening-our-motor-control-portfolio-with-cubic-en.mp4</td>\n",
       "      <td id=\"T_b612b_row39_col1\" class=\"data row39 col1\" >0.001347</td>\n",
       "    </tr>\n",
       "    <tr>\n",
       "      <th id=\"T_b612b_level0_row40\" class=\"row_heading level0 row40\" >33</th>\n",
       "      <td id=\"T_b612b_row40_col0\" class=\"data row40 col0\" >/content/dam/rockwell-automation/videos/industry/life-sciences/bringing-the-life-sciences-facility-of-the-future-to-life/bringing-the-life-sciences-facility-of-the-future-to-life-en.mp4</td>\n",
       "      <td id=\"T_b612b_row40_col1\" class=\"data row40 col1\" >0.001347</td>\n",
       "    </tr>\n",
       "    <tr>\n",
       "      <th id=\"T_b612b_level0_row41\" class=\"row_heading level0 row41\" >32</th>\n",
       "      <td id=\"T_b612b_row41_col0\" class=\"data row41 col0\" >/content/dam/rockwell-automation/videos/industry/chemical/mixed-reality-augments-worker-experience-chemical-industry/mixed-reality-augments-worker-experience-chemical-industry-en.mp4</td>\n",
       "      <td id=\"T_b612b_row41_col1\" class=\"data row41 col1\" >0.001347</td>\n",
       "    </tr>\n",
       "    <tr>\n",
       "      <th id=\"T_b612b_level0_row42\" class=\"row_heading level0 row42\" >28</th>\n",
       "      <td id=\"T_b612b_row42_col0\" class=\"data row42 col0\" >/content/dam/rockwell-automation/videos/capabilities/sustainable-solutions/co-innovation-for-sustainability/co-innovation-for-sustainability-en.mp4</td>\n",
       "      <td id=\"T_b612b_row42_col1\" class=\"data row42 col1\" >0.001347</td>\n",
       "    </tr>\n",
       "    <tr>\n",
       "      <th id=\"T_b612b_level0_row43\" class=\"row_heading level0 row43\" >26</th>\n",
       "      <td id=\"T_b612b_row43_col0\" class=\"data row43 col0\" >/content/dam/rockwell-automation/videos/capabilities/process-solutions/process-control-what-is-new-and-next/process-control-new-and-next-en.mp4</td>\n",
       "      <td id=\"T_b612b_row43_col1\" class=\"data row43 col1\" >0.001347</td>\n",
       "    </tr>\n",
       "    <tr>\n",
       "      <th id=\"T_b612b_level0_row44\" class=\"row_heading level0 row44\" >25</th>\n",
       "      <td id=\"T_b612b_row44_col0\" class=\"data row44 col0\" >/content/dam/rockwell-automation/videos/capabilities/process-solutions/plantpax-system-now-and-in-the-future/plantpax-system-now-and-in-the-future-en.mp4</td>\n",
       "      <td id=\"T_b612b_row44_col1\" class=\"data row44 col1\" >0.001347</td>\n",
       "    </tr>\n",
       "    <tr>\n",
       "      <th id=\"T_b612b_level0_row45\" class=\"row_heading level0 row45\" >18</th>\n",
       "      <td id=\"T_b612b_row45_col0\" class=\"data row45 col0\" >/content/dam/rockwell-automation/videos/capabilities/industrial-maintenance-support/sustainability-enabling-the-circular-economy-with-industrial-automation-repair-services/sustainability-enabling-the-circular-economy-with-industrial-automation-repair-serv</td>\n",
       "      <td id=\"T_b612b_row45_col1\" class=\"data row45 col1\" >0.001347</td>\n",
       "    </tr>\n",
       "    <tr>\n",
       "      <th id=\"T_b612b_level0_row46\" class=\"row_heading level0 row46\" >23</th>\n",
       "      <td id=\"T_b612b_row46_col0\" class=\"data row46 col0\" >/content/dam/rockwell-automation/videos/capabilities/mes-solutions/from-mine-to-dispatch-bay-mes-delivers-a-connected-factory-for-battery-producers/from-mine-to-dispatch-bay-mes-delivers-a-connected-factory-for-battery-producers-en.mp4</td>\n",
       "      <td id=\"T_b612b_row46_col1\" class=\"data row46 col1\" >0.001347</td>\n",
       "    </tr>\n",
       "    <tr>\n",
       "      <th id=\"T_b612b_level0_row47\" class=\"row_heading level0 row47\" >21</th>\n",
       "      <td id=\"T_b612b_row47_col0\" class=\"data row47 col0\" >/content/dam/rockwell-automation/videos/capabilities/machine-and-equipment-builders/on-machine-solutions-reimagined/on-machine-solutions-reimagined-en.mp4</td>\n",
       "      <td id=\"T_b612b_row47_col1\" class=\"data row47 col1\" >0.001347</td>\n",
       "    </tr>\n",
       "    <tr>\n",
       "      <th id=\"T_b612b_level0_row48\" class=\"row_heading level0 row48\" >24</th>\n",
       "      <td id=\"T_b612b_row48_col0\" class=\"data row48 col0\" >/content/dam/rockwell-automation/videos/capabilities/mes-solutions/overview-of-plex-systems-smart-manufacturing-platform/overview-of-plex-systems-smart-manufacturing-platform-en.mp4</td>\n",
       "      <td id=\"T_b612b_row48_col1\" class=\"data row48 col1\" >0.001347</td>\n",
       "    </tr>\n",
       "  </tbody>\n",
       "</table>\n"
      ],
      "text/plain": [
       "<pandas.io.formats.style.Styler at 0x7f851e02be20>"
      ]
     },
     "execution_count": 19,
     "metadata": {},
     "output_type": "execute_result"
    }
   ],
   "source": [
    "weights = pd.DataFrame([vectorizer.get_feature_names(), asset_prob.tolist()]).T\n",
    "weights.columns = [\"asset\", \"weight\"]\n",
    "weights.sort_values(by=\"weight\", ascending=False).style"
   ]
  },
  {
   "cell_type": "markdown",
   "id": "66a9fb3b",
   "metadata": {},
   "source": [
    "## Stage-2: Potential Lead - Sales people aspect\n",
    "- with the label from sales people\n",
    "    - type-1: interaction on Binge within lead status promote time range (30 days)\n",
    "    - type-2: is existed qualified lead or not \n",
    "- conversion transition (which stage of conversion)\n",
    "    - reading asset A has higher probably to become a existing lead compared with reading asset B\n",
    "- assumption\n",
    "    - <font color=red>only consider people already shows their interest in the funnel (only elq ID exist)</font>. So, this is kind of stage2 filter.\n",
    "        - stage1 filter will consider anonomys visitors, and make them keep interest and leave information in elq first \n",
    "    - potential lead will have the similar interaction patterns as existing lead"
   ]
  },
  {
   "cell_type": "markdown",
   "id": "0ef3e36c",
   "metadata": {},
   "source": [
    "### tables relationship\n",
    "```SQL\n",
    "FROM aem.RawTraffic AS binge \n",
    "    LEFT JOIN elo.Contact AS contact ON binge.EloquaContactId = contact.EloquaContactId\n",
    "    LEFT JOIN crm.Lead AS lead ON lead.emailaddress1 = contact.EmailAddress\n",
    "```\n",
    "- relationship\n",
    "    - elq is the bridge table \n",
    "        - elq ID : Email = <font color=red>N</font>:1 \n",
    "        - overwrite\n",
    "    - crm_lead\n",
    "        - account id : Email = 1:N \n",
    "        - add new row\n",
    "    - stage2_raw\n",
    "        - session id : elq ID = 1:1\n",
    "        - add new row\n",
    "        - mvcid : elq ID = 1:N"
   ]
  },
  {
   "cell_type": "markdown",
   "id": "539bc738",
   "metadata": {},
   "source": [
    "#### email to mcvisid"
   ]
  },
  {
   "cell_type": "code",
   "execution_count": 20,
   "id": "8e27cc51",
   "metadata": {
    "ExecuteTime": {
     "end_time": "2022-12-06T23:04:24.222749Z",
     "start_time": "2022-12-06T23:04:18.684679Z"
    }
   },
   "outputs": [],
   "source": [
    "email_to_mcvisid = elq_bridge[[\"EmailAddress\", \"EloquaContactId\"]].merge(stage2_raw[[\"EloquaContactId\", \"mcvisid\"]].drop_duplicates(), on=\"EloquaContactId\")\n",
    "email_to_mcvisid = email_to_mcvisid[[\"EmailAddress\", \"mcvisid\"]].drop_duplicates()"
   ]
  },
  {
   "cell_type": "code",
   "execution_count": 21,
   "id": "1a282536",
   "metadata": {
    "ExecuteTime": {
     "end_time": "2022-12-06T23:04:24.285206Z",
     "start_time": "2022-12-06T23:04:24.223599Z"
    }
   },
   "outputs": [
    {
     "data": {
      "text/html": [
       "<div>\n",
       "<style scoped>\n",
       "    .dataframe tbody tr th:only-of-type {\n",
       "        vertical-align: middle;\n",
       "    }\n",
       "\n",
       "    .dataframe tbody tr th {\n",
       "        vertical-align: top;\n",
       "    }\n",
       "\n",
       "    .dataframe thead th {\n",
       "        text-align: right;\n",
       "    }\n",
       "</style>\n",
       "<table border=\"1\" class=\"dataframe\">\n",
       "  <thead>\n",
       "    <tr style=\"text-align: right;\">\n",
       "      <th></th>\n",
       "      <th>SessionVisitorId</th>\n",
       "      <th>VisitPageNumber</th>\n",
       "      <th>VisitNumber</th>\n",
       "      <th>NewVisit</th>\n",
       "      <th>EventList</th>\n",
       "      <th>DateTime_UTC</th>\n",
       "      <th>PageURL</th>\n",
       "      <th>VisitReferrer</th>\n",
       "      <th>VisitReferrerType</th>\n",
       "      <th>VisitorDomain</th>\n",
       "      <th>...</th>\n",
       "      <th>mcvisid</th>\n",
       "      <th>GeoCity</th>\n",
       "      <th>GeoCountry</th>\n",
       "      <th>GeoRegion</th>\n",
       "      <th>PDFurl</th>\n",
       "      <th>PDFpagecount</th>\n",
       "      <th>BingeId</th>\n",
       "      <th>BingeCriticalScore</th>\n",
       "      <th>BingeScoredAssetPath</th>\n",
       "      <th>BingeScoredAssetScore</th>\n",
       "    </tr>\n",
       "  </thead>\n",
       "  <tbody>\n",
       "    <tr>\n",
       "      <th>0</th>\n",
       "      <td>7421626168734539978_3431381547424998592</td>\n",
       "      <td>33</td>\n",
       "      <td>4</td>\n",
       "      <td>False</td>\n",
       "      <td>215,216=65.00,10035,10036,10037,10038,10039,10...</td>\n",
       "      <td>2022-10-01 04:32:33+06:00</td>\n",
       "      <td>https://www.rockwellautomation.com/en-us/suppo...</td>\n",
       "      <td>NaN</td>\n",
       "      <td>6</td>\n",
       "      <td>103.85.162.66</td>\n",
       "      <td>...</td>\n",
       "      <td>90813010319485319523501709624937862303</td>\n",
       "      <td>rajshahi</td>\n",
       "      <td>bgd</td>\n",
       "      <td>e</td>\n",
       "      <td>/content/dam/rockwell-automation/sites/downloa...</td>\n",
       "      <td>15.0</td>\n",
       "      <td>be1650550449644850</td>\n",
       "      <td>5.0</td>\n",
       "      <td>/content/dam/rockwell-automation/sites/downloa...</td>\n",
       "      <td>1.0</td>\n",
       "    </tr>\n",
       "    <tr>\n",
       "      <th>1</th>\n",
       "      <td>7421626168734539978_3431381547424998592</td>\n",
       "      <td>34</td>\n",
       "      <td>4</td>\n",
       "      <td>False</td>\n",
       "      <td>215,216=10.00,217=1.00,10035,10036,10037,10038...</td>\n",
       "      <td>2022-10-01 04:32:43+06:00</td>\n",
       "      <td>https://www.rockwellautomation.com/en-us/suppo...</td>\n",
       "      <td>NaN</td>\n",
       "      <td>6</td>\n",
       "      <td>103.85.162.66</td>\n",
       "      <td>...</td>\n",
       "      <td>90813010319485319523501709624937862303</td>\n",
       "      <td>rajshahi</td>\n",
       "      <td>bgd</td>\n",
       "      <td>e</td>\n",
       "      <td>/content/dam/rockwell-automation/sites/downloa...</td>\n",
       "      <td>15.0</td>\n",
       "      <td>be1650550449644850</td>\n",
       "      <td>5.0</td>\n",
       "      <td>/content/dam/rockwell-automation/sites/downloa...</td>\n",
       "      <td>1.0</td>\n",
       "    </tr>\n",
       "    <tr>\n",
       "      <th>2</th>\n",
       "      <td>7421626168734539978_3431381547424998592</td>\n",
       "      <td>35</td>\n",
       "      <td>4</td>\n",
       "      <td>False</td>\n",
       "      <td>207,208=10.00,10020,10022,10023,10024,10025,10...</td>\n",
       "      <td>2022-10-01 04:32:43+06:00</td>\n",
       "      <td>https://www.rockwellautomation.com/en-us/suppo...</td>\n",
       "      <td>NaN</td>\n",
       "      <td>6</td>\n",
       "      <td>103.85.162.66</td>\n",
       "      <td>...</td>\n",
       "      <td>90813010319485319523501709624937862303</td>\n",
       "      <td>rajshahi</td>\n",
       "      <td>bgd</td>\n",
       "      <td>e</td>\n",
       "      <td>/content/dam/rockwell-automation/sites/downloa...</td>\n",
       "      <td>15.0</td>\n",
       "      <td>NaN</td>\n",
       "      <td>NaN</td>\n",
       "      <td>/content/dam/rockwell-automation/sites/downloa...</td>\n",
       "      <td>1.0</td>\n",
       "    </tr>\n",
       "    <tr>\n",
       "      <th>3</th>\n",
       "      <td>7421626168734539978_3431381547424998592</td>\n",
       "      <td>36</td>\n",
       "      <td>4</td>\n",
       "      <td>False</td>\n",
       "      <td>206,182,183,185,186,187,188,190,192,10020,1002...</td>\n",
       "      <td>2022-10-01 04:32:51+06:00</td>\n",
       "      <td>https://www.rockwellautomation.com/en-us/suppo...</td>\n",
       "      <td>NaN</td>\n",
       "      <td>6</td>\n",
       "      <td>103.85.162.66</td>\n",
       "      <td>...</td>\n",
       "      <td>90813010319485319523501709624937862303</td>\n",
       "      <td>rajshahi</td>\n",
       "      <td>bgd</td>\n",
       "      <td>e</td>\n",
       "      <td>/content/dam/rockwell-automation/sites/downloa...</td>\n",
       "      <td>15.0</td>\n",
       "      <td>NaN</td>\n",
       "      <td>NaN</td>\n",
       "      <td>/content/dam/rockwell-automation/sites/downloa...</td>\n",
       "      <td>1.0</td>\n",
       "    </tr>\n",
       "    <tr>\n",
       "      <th>4</th>\n",
       "      <td>7421626168734539978_3431381547424998592</td>\n",
       "      <td>37</td>\n",
       "      <td>4</td>\n",
       "      <td>False</td>\n",
       "      <td>273,175,176,177,113</td>\n",
       "      <td>2022-10-01 04:32:54+06:00</td>\n",
       "      <td>https://www.rockwellautomation.com/en-us/suppo...</td>\n",
       "      <td>NaN</td>\n",
       "      <td>6</td>\n",
       "      <td>103.85.162.66</td>\n",
       "      <td>...</td>\n",
       "      <td>90813010319485319523501709624937862303</td>\n",
       "      <td>rajshahi</td>\n",
       "      <td>bgd</td>\n",
       "      <td>e</td>\n",
       "      <td>/content/dam/rockwell-automation/sites/downloa...</td>\n",
       "      <td>15.0</td>\n",
       "      <td>NaN</td>\n",
       "      <td>NaN</td>\n",
       "      <td>/content/dam/rockwell-automation/sites/downloa...</td>\n",
       "      <td>1.0</td>\n",
       "    </tr>\n",
       "    <tr>\n",
       "      <th>...</th>\n",
       "      <td>...</td>\n",
       "      <td>...</td>\n",
       "      <td>...</td>\n",
       "      <td>...</td>\n",
       "      <td>...</td>\n",
       "      <td>...</td>\n",
       "      <td>...</td>\n",
       "      <td>...</td>\n",
       "      <td>...</td>\n",
       "      <td>...</td>\n",
       "      <td>...</td>\n",
       "      <td>...</td>\n",
       "      <td>...</td>\n",
       "      <td>...</td>\n",
       "      <td>...</td>\n",
       "      <td>...</td>\n",
       "      <td>...</td>\n",
       "      <td>...</td>\n",
       "      <td>...</td>\n",
       "      <td>...</td>\n",
       "      <td>...</td>\n",
       "    </tr>\n",
       "    <tr>\n",
       "      <th>51160</th>\n",
       "      <td>5841280485151499745_5339177803023877420</td>\n",
       "      <td>41</td>\n",
       "      <td>20</td>\n",
       "      <td>False</td>\n",
       "      <td>262,159,160,161,113</td>\n",
       "      <td>2022-11-30 00:11:47-05:00</td>\n",
       "      <td>https://www.rockwellautomation.com/en-us/compa...</td>\n",
       "      <td>NaN</td>\n",
       "      <td>6</td>\n",
       "      <td>spectrum.com</td>\n",
       "      <td>...</td>\n",
       "      <td>84130602613052026612644619895919273961</td>\n",
       "      <td>sturbridge</td>\n",
       "      <td>usa</td>\n",
       "      <td>ma</td>\n",
       "      <td>NaN</td>\n",
       "      <td>NaN</td>\n",
       "      <td>be1667335927367622</td>\n",
       "      <td>2.0</td>\n",
       "      <td>/content/dam/rockwell-automation/videos/produc...</td>\n",
       "      <td>2.0</td>\n",
       "    </tr>\n",
       "    <tr>\n",
       "      <th>51161</th>\n",
       "      <td>5841280485151499745_5339177803023877420</td>\n",
       "      <td>42</td>\n",
       "      <td>20</td>\n",
       "      <td>False</td>\n",
       "      <td>215,216=185.00,10035,10036,10037,10038,10039,1...</td>\n",
       "      <td>2022-11-30 00:12:17-05:00</td>\n",
       "      <td>https://www.rockwellautomation.com/en-us/compa...</td>\n",
       "      <td>NaN</td>\n",
       "      <td>6</td>\n",
       "      <td>spectrum.com</td>\n",
       "      <td>...</td>\n",
       "      <td>84130602613052026612644619895919273961</td>\n",
       "      <td>sturbridge</td>\n",
       "      <td>usa</td>\n",
       "      <td>ma</td>\n",
       "      <td>NaN</td>\n",
       "      <td>NaN</td>\n",
       "      <td>be1667335927367622</td>\n",
       "      <td>2.0</td>\n",
       "      <td>/content/dam/rockwell-automation/videos/produc...</td>\n",
       "      <td>2.0</td>\n",
       "    </tr>\n",
       "    <tr>\n",
       "      <th>51162</th>\n",
       "      <td>5841280485151499745_5339177803023877420</td>\n",
       "      <td>43</td>\n",
       "      <td>20</td>\n",
       "      <td>False</td>\n",
       "      <td>215,216=10.00,217=2.00,10035,10036,10037,10038...</td>\n",
       "      <td>2022-11-30 00:12:28-05:00</td>\n",
       "      <td>https://www.rockwellautomation.com/en-us/compa...</td>\n",
       "      <td>NaN</td>\n",
       "      <td>6</td>\n",
       "      <td>spectrum.com</td>\n",
       "      <td>...</td>\n",
       "      <td>84130602613052026612644619895919273961</td>\n",
       "      <td>sturbridge</td>\n",
       "      <td>usa</td>\n",
       "      <td>ma</td>\n",
       "      <td>NaN</td>\n",
       "      <td>NaN</td>\n",
       "      <td>be1667335927367622</td>\n",
       "      <td>2.0</td>\n",
       "      <td>/content/dam/rockwell-automation/videos/produc...</td>\n",
       "      <td>2.0</td>\n",
       "    </tr>\n",
       "    <tr>\n",
       "      <th>51163</th>\n",
       "      <td>5841280485151499745_5339177803023877420</td>\n",
       "      <td>44</td>\n",
       "      <td>20</td>\n",
       "      <td>False</td>\n",
       "      <td>264,159,160,161,162,182,183,185,186,187,188,18...</td>\n",
       "      <td>2022-11-30 00:13:28-05:00</td>\n",
       "      <td>https://www.rockwellautomation.com/en-us/compa...</td>\n",
       "      <td>NaN</td>\n",
       "      <td>6</td>\n",
       "      <td>spectrum.com</td>\n",
       "      <td>...</td>\n",
       "      <td>84130602613052026612644619895919273961</td>\n",
       "      <td>sturbridge</td>\n",
       "      <td>usa</td>\n",
       "      <td>ma</td>\n",
       "      <td>NaN</td>\n",
       "      <td>NaN</td>\n",
       "      <td>NaN</td>\n",
       "      <td>NaN</td>\n",
       "      <td>/content/dam/rockwell-automation/videos/produc...</td>\n",
       "      <td>2.0</td>\n",
       "    </tr>\n",
       "    <tr>\n",
       "      <th>51164</th>\n",
       "      <td>5841280485151499745_5339177803023877420</td>\n",
       "      <td>45</td>\n",
       "      <td>20</td>\n",
       "      <td>False</td>\n",
       "      <td>264,159,160,161,113</td>\n",
       "      <td>2022-11-30 00:13:37-05:00</td>\n",
       "      <td>https://www.rockwellautomation.com/en-us/compa...</td>\n",
       "      <td>NaN</td>\n",
       "      <td>6</td>\n",
       "      <td>spectrum.com</td>\n",
       "      <td>...</td>\n",
       "      <td>84130602613052026612644619895919273961</td>\n",
       "      <td>sturbridge</td>\n",
       "      <td>usa</td>\n",
       "      <td>ma</td>\n",
       "      <td>NaN</td>\n",
       "      <td>NaN</td>\n",
       "      <td>NaN</td>\n",
       "      <td>NaN</td>\n",
       "      <td>/content/dam/rockwell-automation/videos/produc...</td>\n",
       "      <td>2.0</td>\n",
       "    </tr>\n",
       "  </tbody>\n",
       "</table>\n",
       "<p>51165 rows × 26 columns</p>\n",
       "</div>"
      ],
      "text/plain": [
       "                              SessionVisitorId  VisitPageNumber  VisitNumber  \\\n",
       "0      7421626168734539978_3431381547424998592               33            4   \n",
       "1      7421626168734539978_3431381547424998592               34            4   \n",
       "2      7421626168734539978_3431381547424998592               35            4   \n",
       "3      7421626168734539978_3431381547424998592               36            4   \n",
       "4      7421626168734539978_3431381547424998592               37            4   \n",
       "...                                        ...              ...          ...   \n",
       "51160  5841280485151499745_5339177803023877420               41           20   \n",
       "51161  5841280485151499745_5339177803023877420               42           20   \n",
       "51162  5841280485151499745_5339177803023877420               43           20   \n",
       "51163  5841280485151499745_5339177803023877420               44           20   \n",
       "51164  5841280485151499745_5339177803023877420               45           20   \n",
       "\n",
       "       NewVisit                                          EventList  \\\n",
       "0         False  215,216=65.00,10035,10036,10037,10038,10039,10...   \n",
       "1         False  215,216=10.00,217=1.00,10035,10036,10037,10038...   \n",
       "2         False  207,208=10.00,10020,10022,10023,10024,10025,10...   \n",
       "3         False  206,182,183,185,186,187,188,190,192,10020,1002...   \n",
       "4         False                                273,175,176,177,113   \n",
       "...         ...                                                ...   \n",
       "51160     False                                262,159,160,161,113   \n",
       "51161     False  215,216=185.00,10035,10036,10037,10038,10039,1...   \n",
       "51162     False  215,216=10.00,217=2.00,10035,10036,10037,10038...   \n",
       "51163     False  264,159,160,161,162,182,183,185,186,187,188,18...   \n",
       "51164     False                                264,159,160,161,113   \n",
       "\n",
       "                    DateTime_UTC  \\\n",
       "0      2022-10-01 04:32:33+06:00   \n",
       "1      2022-10-01 04:32:43+06:00   \n",
       "2      2022-10-01 04:32:43+06:00   \n",
       "3      2022-10-01 04:32:51+06:00   \n",
       "4      2022-10-01 04:32:54+06:00   \n",
       "...                          ...   \n",
       "51160  2022-11-30 00:11:47-05:00   \n",
       "51161  2022-11-30 00:12:17-05:00   \n",
       "51162  2022-11-30 00:12:28-05:00   \n",
       "51163  2022-11-30 00:13:28-05:00   \n",
       "51164  2022-11-30 00:13:37-05:00   \n",
       "\n",
       "                                                 PageURL VisitReferrer  \\\n",
       "0      https://www.rockwellautomation.com/en-us/suppo...           NaN   \n",
       "1      https://www.rockwellautomation.com/en-us/suppo...           NaN   \n",
       "2      https://www.rockwellautomation.com/en-us/suppo...           NaN   \n",
       "3      https://www.rockwellautomation.com/en-us/suppo...           NaN   \n",
       "4      https://www.rockwellautomation.com/en-us/suppo...           NaN   \n",
       "...                                                  ...           ...   \n",
       "51160  https://www.rockwellautomation.com/en-us/compa...           NaN   \n",
       "51161  https://www.rockwellautomation.com/en-us/compa...           NaN   \n",
       "51162  https://www.rockwellautomation.com/en-us/compa...           NaN   \n",
       "51163  https://www.rockwellautomation.com/en-us/compa...           NaN   \n",
       "51164  https://www.rockwellautomation.com/en-us/compa...           NaN   \n",
       "\n",
       "       VisitReferrerType  VisitorDomain  ...  \\\n",
       "0                      6  103.85.162.66  ...   \n",
       "1                      6  103.85.162.66  ...   \n",
       "2                      6  103.85.162.66  ...   \n",
       "3                      6  103.85.162.66  ...   \n",
       "4                      6  103.85.162.66  ...   \n",
       "...                  ...            ...  ...   \n",
       "51160                  6   spectrum.com  ...   \n",
       "51161                  6   spectrum.com  ...   \n",
       "51162                  6   spectrum.com  ...   \n",
       "51163                  6   spectrum.com  ...   \n",
       "51164                  6   spectrum.com  ...   \n",
       "\n",
       "                                      mcvisid     GeoCity  GeoCountry  \\\n",
       "0      90813010319485319523501709624937862303    rajshahi         bgd   \n",
       "1      90813010319485319523501709624937862303    rajshahi         bgd   \n",
       "2      90813010319485319523501709624937862303    rajshahi         bgd   \n",
       "3      90813010319485319523501709624937862303    rajshahi         bgd   \n",
       "4      90813010319485319523501709624937862303    rajshahi         bgd   \n",
       "...                                       ...         ...         ...   \n",
       "51160  84130602613052026612644619895919273961  sturbridge         usa   \n",
       "51161  84130602613052026612644619895919273961  sturbridge         usa   \n",
       "51162  84130602613052026612644619895919273961  sturbridge         usa   \n",
       "51163  84130602613052026612644619895919273961  sturbridge         usa   \n",
       "51164  84130602613052026612644619895919273961  sturbridge         usa   \n",
       "\n",
       "       GeoRegion                                             PDFurl  \\\n",
       "0              e  /content/dam/rockwell-automation/sites/downloa...   \n",
       "1              e  /content/dam/rockwell-automation/sites/downloa...   \n",
       "2              e  /content/dam/rockwell-automation/sites/downloa...   \n",
       "3              e  /content/dam/rockwell-automation/sites/downloa...   \n",
       "4              e  /content/dam/rockwell-automation/sites/downloa...   \n",
       "...          ...                                                ...   \n",
       "51160         ma                                                NaN   \n",
       "51161         ma                                                NaN   \n",
       "51162         ma                                                NaN   \n",
       "51163         ma                                                NaN   \n",
       "51164         ma                                                NaN   \n",
       "\n",
       "       PDFpagecount             BingeId BingeCriticalScore  \\\n",
       "0              15.0  be1650550449644850                5.0   \n",
       "1              15.0  be1650550449644850                5.0   \n",
       "2              15.0                 NaN                NaN   \n",
       "3              15.0                 NaN                NaN   \n",
       "4              15.0                 NaN                NaN   \n",
       "...             ...                 ...                ...   \n",
       "51160           NaN  be1667335927367622                2.0   \n",
       "51161           NaN  be1667335927367622                2.0   \n",
       "51162           NaN  be1667335927367622                2.0   \n",
       "51163           NaN                 NaN                NaN   \n",
       "51164           NaN                 NaN                NaN   \n",
       "\n",
       "                                    BingeScoredAssetPath BingeScoredAssetScore  \n",
       "0      /content/dam/rockwell-automation/sites/downloa...                   1.0  \n",
       "1      /content/dam/rockwell-automation/sites/downloa...                   1.0  \n",
       "2      /content/dam/rockwell-automation/sites/downloa...                   1.0  \n",
       "3      /content/dam/rockwell-automation/sites/downloa...                   1.0  \n",
       "4      /content/dam/rockwell-automation/sites/downloa...                   1.0  \n",
       "...                                                  ...                   ...  \n",
       "51160  /content/dam/rockwell-automation/videos/produc...                   2.0  \n",
       "51161  /content/dam/rockwell-automation/videos/produc...                   2.0  \n",
       "51162  /content/dam/rockwell-automation/videos/produc...                   2.0  \n",
       "51163  /content/dam/rockwell-automation/videos/produc...                   2.0  \n",
       "51164  /content/dam/rockwell-automation/videos/produc...                   2.0  \n",
       "\n",
       "[51165 rows x 26 columns]"
      ]
     },
     "execution_count": 21,
     "metadata": {},
     "output_type": "execute_result"
    }
   ],
   "source": [
    "stage2_raw"
   ]
  },
  {
   "cell_type": "code",
   "execution_count": null,
   "id": "cef2b540",
   "metadata": {},
   "outputs": [],
   "source": []
  },
  {
   "cell_type": "markdown",
   "id": "16eb22c6",
   "metadata": {},
   "source": [
    "### positive signal\n",
    "1. method A: within a month & the statuscodename change from unQualified to Qualified\n",
    "    1. ra_leadstage increase 1\n",
    "2. <font color=red>method B: identify all the existing lead, find the visitor has the similar pattern on binge asset</font>"
   ]
  },
  {
   "cell_type": "code",
   "execution_count": 22,
   "id": "5ff77008",
   "metadata": {
    "ExecuteTime": {
     "end_time": "2022-12-06T23:04:24.287905Z",
     "start_time": "2022-12-06T23:04:24.286341Z"
    }
   },
   "outputs": [],
   "source": [
    "# elq_bridge.groupby(\"EmailAddress\").size().sort_values()"
   ]
  },
  {
   "cell_type": "code",
   "execution_count": 23,
   "id": "e08525c3",
   "metadata": {
    "ExecuteTime": {
     "end_time": "2022-12-06T23:04:36.435973Z",
     "start_time": "2022-12-06T23:04:24.288823Z"
    }
   },
   "outputs": [
    {
     "data": {
      "text/plain": [
       "False    133201\n",
       "True       1951\n",
       "Name: label, dtype: int64"
      ]
     },
     "execution_count": 23,
     "metadata": {},
     "output_type": "execute_result"
    }
   ],
   "source": [
    "crm_qualify_label = crm_lead.groupby(\"emailaddress1\").apply(lambda user_journey: identify_pos(user_journey, label_type = 2))\n",
    "crm_qualify_label = crm_qualify_label.to_frame().reset_index()\n",
    "crm_qualify_label.columns = [\"emailaddress1\", \"label\"]\n",
    "crm_qualify_label.label.value_counts()"
   ]
  },
  {
   "cell_type": "code",
   "execution_count": 24,
   "id": "68822c76",
   "metadata": {
    "ExecuteTime": {
     "end_time": "2022-12-06T23:04:36.442549Z",
     "start_time": "2022-12-06T23:04:36.437311Z"
    }
   },
   "outputs": [
    {
     "data": {
      "text/html": [
       "<div>\n",
       "<style scoped>\n",
       "    .dataframe tbody tr th:only-of-type {\n",
       "        vertical-align: middle;\n",
       "    }\n",
       "\n",
       "    .dataframe tbody tr th {\n",
       "        vertical-align: top;\n",
       "    }\n",
       "\n",
       "    .dataframe thead th {\n",
       "        text-align: right;\n",
       "    }\n",
       "</style>\n",
       "<table border=\"1\" class=\"dataframe\">\n",
       "  <thead>\n",
       "    <tr style=\"text-align: right;\">\n",
       "      <th></th>\n",
       "      <th>EmailAddress</th>\n",
       "      <th>mcvisid</th>\n",
       "    </tr>\n",
       "  </thead>\n",
       "  <tbody>\n",
       "    <tr>\n",
       "      <th>0</th>\n",
       "      <td>2646341@fedex.com</td>\n",
       "      <td>79956990968260977812960998803356334557</td>\n",
       "    </tr>\n",
       "    <tr>\n",
       "      <th>1</th>\n",
       "      <td>aaron.britt@tulip.co</td>\n",
       "      <td>15631237595222005634321735052967980870</td>\n",
       "    </tr>\n",
       "    <tr>\n",
       "      <th>2</th>\n",
       "      <td>abeilby@maplesoft.com</td>\n",
       "      <td>34529761632086388684448452867579883871</td>\n",
       "    </tr>\n",
       "    <tr>\n",
       "      <th>3</th>\n",
       "      <td>acordova@hermos.com.mx</td>\n",
       "      <td>18998225164086952284034325275436283906</td>\n",
       "    </tr>\n",
       "    <tr>\n",
       "      <th>4</th>\n",
       "      <td>adam.ferran.7s@etcwinders.com</td>\n",
       "      <td>09178376918996224770872301436727086686</td>\n",
       "    </tr>\n",
       "    <tr>\n",
       "      <th>...</th>\n",
       "      <td>...</td>\n",
       "      <td>...</td>\n",
       "    </tr>\n",
       "    <tr>\n",
       "      <th>236</th>\n",
       "      <td>vinicius.magalhaes@installautomacao.com.br</td>\n",
       "      <td>69820125967591818764294911251525450864</td>\n",
       "    </tr>\n",
       "    <tr>\n",
       "      <th>237</th>\n",
       "      <td>vokevin@amazon.com</td>\n",
       "      <td>50671350259141314951249291927759831366</td>\n",
       "    </tr>\n",
       "    <tr>\n",
       "      <th>238</th>\n",
       "      <td>yvonne@aauto.com.tw</td>\n",
       "      <td>43718471598741409674596236122126962883</td>\n",
       "    </tr>\n",
       "    <tr>\n",
       "      <th>239</th>\n",
       "      <td>z.jakas@biovast.lt</td>\n",
       "      <td>72594691410406412551647411969256670908</td>\n",
       "    </tr>\n",
       "    <tr>\n",
       "      <th>240</th>\n",
       "      <td>zinharosmanli@gmail.com</td>\n",
       "      <td>67247027301558675141981673105035701138</td>\n",
       "    </tr>\n",
       "  </tbody>\n",
       "</table>\n",
       "<p>241 rows × 2 columns</p>\n",
       "</div>"
      ],
      "text/plain": [
       "                                   EmailAddress  \\\n",
       "0                             2646341@fedex.com   \n",
       "1                          aaron.britt@tulip.co   \n",
       "2                         abeilby@maplesoft.com   \n",
       "3                        acordova@hermos.com.mx   \n",
       "4                 adam.ferran.7s@etcwinders.com   \n",
       "..                                          ...   \n",
       "236  vinicius.magalhaes@installautomacao.com.br   \n",
       "237                          vokevin@amazon.com   \n",
       "238                         yvonne@aauto.com.tw   \n",
       "239                          z.jakas@biovast.lt   \n",
       "240                     zinharosmanli@gmail.com   \n",
       "\n",
       "                                    mcvisid  \n",
       "0    79956990968260977812960998803356334557  \n",
       "1    15631237595222005634321735052967980870  \n",
       "2    34529761632086388684448452867579883871  \n",
       "3    18998225164086952284034325275436283906  \n",
       "4    09178376918996224770872301436727086686  \n",
       "..                                      ...  \n",
       "236  69820125967591818764294911251525450864  \n",
       "237  50671350259141314951249291927759831366  \n",
       "238  43718471598741409674596236122126962883  \n",
       "239  72594691410406412551647411969256670908  \n",
       "240  67247027301558675141981673105035701138  \n",
       "\n",
       "[241 rows x 2 columns]"
      ]
     },
     "execution_count": 24,
     "metadata": {},
     "output_type": "execute_result"
    }
   ],
   "source": [
    "email_to_mcvisid"
   ]
  },
  {
   "cell_type": "code",
   "execution_count": 25,
   "id": "e7f782de",
   "metadata": {
    "ExecuteTime": {
     "end_time": "2022-12-06T23:04:36.494991Z",
     "start_time": "2022-12-06T23:04:36.443866Z"
    }
   },
   "outputs": [
    {
     "name": "stdout",
     "output_type": "stream",
     "text": [
      "keep rows: (67, 3)\n"
     ]
    }
   ],
   "source": [
    "email_to_label = email_to_mcvisid.merge(crm_qualify_label, left_on=[\"EmailAddress\"], right_on=[\"emailaddress1\"], how='inner')\n",
    "email_to_label = email_to_label[[\"EmailAddress\",\"label\", \"mcvisid\"]].drop_duplicates(subset=[\"mcvisid\"]) \n",
    "# assert email_to_label.groupby(\"EmailAddress\").size().sort_values()[-1] == 1 # EmailAddress 1: N mcvisid\n",
    "print(\"keep rows:\", email_to_label.shape)\n",
    "# email_to_label.groupby(\"mcvisid\").size() # should have samples that larger than 2"
   ]
  },
  {
   "cell_type": "code",
   "execution_count": 26,
   "id": "c024386e",
   "metadata": {
    "ExecuteTime": {
     "end_time": "2022-12-06T23:04:36.502867Z",
     "start_time": "2022-12-06T23:04:36.496183Z"
    }
   },
   "outputs": [
    {
     "data": {
      "text/html": [
       "<div>\n",
       "<style scoped>\n",
       "    .dataframe tbody tr th:only-of-type {\n",
       "        vertical-align: middle;\n",
       "    }\n",
       "\n",
       "    .dataframe tbody tr th {\n",
       "        vertical-align: top;\n",
       "    }\n",
       "\n",
       "    .dataframe thead th {\n",
       "        text-align: right;\n",
       "    }\n",
       "</style>\n",
       "<table border=\"1\" class=\"dataframe\">\n",
       "  <thead>\n",
       "    <tr style=\"text-align: right;\">\n",
       "      <th></th>\n",
       "      <th>EmailAddress</th>\n",
       "      <th>label</th>\n",
       "      <th>mcvisid</th>\n",
       "    </tr>\n",
       "  </thead>\n",
       "  <tbody>\n",
       "    <tr>\n",
       "      <th>0</th>\n",
       "      <td>abeilby@maplesoft.com</td>\n",
       "      <td>False</td>\n",
       "      <td>34529761632086388684448452867579883871</td>\n",
       "    </tr>\n",
       "    <tr>\n",
       "      <th>1</th>\n",
       "      <td>adam.weber@grande.com</td>\n",
       "      <td>False</td>\n",
       "      <td>58910804186709493612462639601601442406</td>\n",
       "    </tr>\n",
       "    <tr>\n",
       "      <th>2</th>\n",
       "      <td>alberto.sanchez@vam-usa.com</td>\n",
       "      <td>True</td>\n",
       "      <td>43947329194604126840286312834344659697</td>\n",
       "    </tr>\n",
       "    <tr>\n",
       "      <th>3</th>\n",
       "      <td>albindesign@hotmail.com</td>\n",
       "      <td>False</td>\n",
       "      <td>39574178637007564670511457600716978527</td>\n",
       "    </tr>\n",
       "    <tr>\n",
       "      <th>4</th>\n",
       "      <td>albindesign@hotmail.com</td>\n",
       "      <td>False</td>\n",
       "      <td>43308186621157836851480940823198434745</td>\n",
       "    </tr>\n",
       "    <tr>\n",
       "      <th>...</th>\n",
       "      <td>...</td>\n",
       "      <td>...</td>\n",
       "      <td>...</td>\n",
       "    </tr>\n",
       "    <tr>\n",
       "      <th>62</th>\n",
       "      <td>sam_automation@nexonautomation.com</td>\n",
       "      <td>False</td>\n",
       "      <td>68104007505241838892868048281690945143</td>\n",
       "    </tr>\n",
       "    <tr>\n",
       "      <th>63</th>\n",
       "      <td>sarawut.focusautomation@gmail.com</td>\n",
       "      <td>False</td>\n",
       "      <td>71351318900366502264473341891206232603</td>\n",
       "    </tr>\n",
       "    <tr>\n",
       "      <th>64</th>\n",
       "      <td>skalnikovakatka@gmail.com</td>\n",
       "      <td>False</td>\n",
       "      <td>06928927345720822133313723390868635851</td>\n",
       "    </tr>\n",
       "    <tr>\n",
       "      <th>65</th>\n",
       "      <td>t.sullivan@tmtsolutions.com</td>\n",
       "      <td>False</td>\n",
       "      <td>47664162742309501391375632529673181081</td>\n",
       "    </tr>\n",
       "    <tr>\n",
       "      <th>66</th>\n",
       "      <td>z.jakas@biovast.lt</td>\n",
       "      <td>False</td>\n",
       "      <td>72594691410406412551647411969256670908</td>\n",
       "    </tr>\n",
       "  </tbody>\n",
       "</table>\n",
       "<p>67 rows × 3 columns</p>\n",
       "</div>"
      ],
      "text/plain": [
       "                          EmailAddress  label  \\\n",
       "0                abeilby@maplesoft.com  False   \n",
       "1                adam.weber@grande.com  False   \n",
       "2          alberto.sanchez@vam-usa.com   True   \n",
       "3              albindesign@hotmail.com  False   \n",
       "4              albindesign@hotmail.com  False   \n",
       "..                                 ...    ...   \n",
       "62  sam_automation@nexonautomation.com  False   \n",
       "63   sarawut.focusautomation@gmail.com  False   \n",
       "64           skalnikovakatka@gmail.com  False   \n",
       "65         t.sullivan@tmtsolutions.com  False   \n",
       "66                  z.jakas@biovast.lt  False   \n",
       "\n",
       "                                   mcvisid  \n",
       "0   34529761632086388684448452867579883871  \n",
       "1   58910804186709493612462639601601442406  \n",
       "2   43947329194604126840286312834344659697  \n",
       "3   39574178637007564670511457600716978527  \n",
       "4   43308186621157836851480940823198434745  \n",
       "..                                     ...  \n",
       "62  68104007505241838892868048281690945143  \n",
       "63  71351318900366502264473341891206232603  \n",
       "64  06928927345720822133313723390868635851  \n",
       "65  47664162742309501391375632529673181081  \n",
       "66  72594691410406412551647411969256670908  \n",
       "\n",
       "[67 rows x 3 columns]"
      ]
     },
     "execution_count": 26,
     "metadata": {},
     "output_type": "execute_result"
    }
   ],
   "source": [
    "email_to_label"
   ]
  },
  {
   "cell_type": "code",
   "execution_count": 27,
   "id": "5d34db52",
   "metadata": {
    "ExecuteTime": {
     "end_time": "2022-12-06T23:04:36.571010Z",
     "start_time": "2022-12-06T23:04:36.509444Z"
    }
   },
   "outputs": [],
   "source": [
    "_data = stage2_raw.merge(email_to_label, on=\"mcvisid\")\n",
    "data = _data.groupby(\"EmailAddress\").apply(lambda x: preprocessing_stage(x, stage=2))"
   ]
  },
  {
   "cell_type": "markdown",
   "id": "ba540ddb",
   "metadata": {},
   "source": [
    "### Data split + TFIDF"
   ]
  },
  {
   "cell_type": "code",
   "execution_count": 28,
   "id": "7dd4e98a",
   "metadata": {
    "ExecuteTime": {
     "end_time": "2022-12-06T23:04:36.580832Z",
     "start_time": "2022-12-06T23:04:36.571904Z"
    }
   },
   "outputs": [
    {
     "name": "stdout",
     "output_type": "stream",
     "text": [
      "total:\n",
      " 0    59\n",
      "1     4\n",
      "Name: label, dtype: int64\n",
      "training sample label size: Counter({0: 47, 1: 3})\n",
      "pos vs neg in training set:\n",
      "testing sample label size: Counter({0: 12, 1: 1})\n"
     ]
    }
   ],
   "source": [
    "X_train, X_test, y_train, y_test = train_test_split(data[\"features\"], data[\"label\"].values, test_size=TEST_SIZE, stratify=data[\"label\"].values, random_state=SEED)\n",
    "print(\"total:\\n\", data[\"label\"].value_counts())\n",
    "print(\"training sample label size:\", Counter(y_train))\n",
    "print(\"pos vs neg in training set:\")\n",
    "print(\"testing sample label size:\", Counter(y_test))\n",
    "\n",
    "vectorizer = TfidfVectorizer(token_pattern=SEP_TOKEN_PATTERN)\n",
    "\n",
    "X_train_arr = vectorizer.fit_transform(X_train)\n",
    "X_test_arr = vectorizer.transform(X_test)"
   ]
  },
  {
   "cell_type": "markdown",
   "id": "4d5e1310",
   "metadata": {},
   "source": [
    "### Models"
   ]
  },
  {
   "cell_type": "code",
   "execution_count": 29,
   "id": "34dfc559",
   "metadata": {
    "ExecuteTime": {
     "end_time": "2022-12-06T23:04:36.584700Z",
     "start_time": "2022-12-06T23:04:36.581768Z"
    }
   },
   "outputs": [],
   "source": [
    "clf = MultinomialNB().fit(X_train_arr, y_train)\n",
    "y_pred = (clf.predict_proba(X_test_arr))[:, 1]\n",
    "asset_prob = np.exp(clf.feature_log_prob_[0])"
   ]
  },
  {
   "cell_type": "code",
   "execution_count": 30,
   "id": "e556cf2d",
   "metadata": {
    "ExecuteTime": {
     "end_time": "2022-12-06T23:04:36.593300Z",
     "start_time": "2022-12-06T23:04:36.585647Z"
    }
   },
   "outputs": [
    {
     "data": {
      "text/html": [
       "<style type=\"text/css\">\n",
       "</style>\n",
       "<table id=\"T_b1880_\">\n",
       "  <thead>\n",
       "    <tr>\n",
       "      <th class=\"blank level0\" >&nbsp;</th>\n",
       "      <th class=\"col_heading level0 col0\" >asset</th>\n",
       "      <th class=\"col_heading level0 col1\" >weight</th>\n",
       "    </tr>\n",
       "  </thead>\n",
       "  <tbody>\n",
       "    <tr>\n",
       "      <th id=\"T_b1880_level0_row0\" class=\"row_heading level0 row0\" >20</th>\n",
       "      <td id=\"T_b1880_row0_col0\" class=\"data row0 col0\" >/content/dam/rockwell-automation/videos/events/af-2022/on-demand/new-and-next-at-rockwell-automation/new-and-next-at-rockwell-automation-en.mp4</td>\n",
       "      <td id=\"T_b1880_row0_col1\" class=\"data row0 col1\" >0.210748</td>\n",
       "    </tr>\n",
       "    <tr>\n",
       "      <th id=\"T_b1880_level0_row1\" class=\"row_heading level0 row1\" >17</th>\n",
       "      <td id=\"T_b1880_row1_col0\" class=\"data row1 col0\" >/content/dam/rockwell-automation/videos/capabilities/process-solutions/plantpax-system-now-and-in-the-future/plantpax-system-now-and-in-the-future-en.mp4</td>\n",
       "      <td id=\"T_b1880_row1_col1\" class=\"data row1 col1\" >0.100739</td>\n",
       "    </tr>\n",
       "    <tr>\n",
       "      <th id=\"T_b1880_level0_row2\" class=\"row_heading level0 row2\" >3</th>\n",
       "      <td id=\"T_b1880_row2_col0\" class=\"data row2 col0\" >/content/dam/rockwell-automation/sites/downloads/pdf/getting started in iab.pdf</td>\n",
       "      <td id=\"T_b1880_row2_col1\" class=\"data row2 col1\" >0.075873</td>\n",
       "    </tr>\n",
       "    <tr>\n",
       "      <th id=\"T_b1880_level0_row3\" class=\"row_heading level0 row3\" >7</th>\n",
       "      <td id=\"T_b1880_row3_col0\" class=\"data row3 col0\" >/content/dam/rockwell-automation/videos/capabilities/cybersecurity/cybersecurity-watch-a-hack-in-real-time/cybersecurity-hack-in-real-time-en.mp4</td>\n",
       "      <td id=\"T_b1880_row3_col1\" class=\"data row3 col1\" >0.044631</td>\n",
       "    </tr>\n",
       "    <tr>\n",
       "      <th id=\"T_b1880_level0_row4\" class=\"row_heading level0 row4\" >24</th>\n",
       "      <td id=\"T_b1880_row4_col0\" class=\"data row4 col0\" >/content/dam/rockwell-automation/videos/products/software/factorytalk/factorytalk-design-studio-cloud-increase-design-efficiency/factorytalk-design-studio-cloud-increase-design-efficiency-en.mp4</td>\n",
       "      <td id=\"T_b1880_row4_col1\" class=\"data row4 col1\" >0.040455</td>\n",
       "    </tr>\n",
       "    <tr>\n",
       "      <th id=\"T_b1880_level0_row5\" class=\"row_heading level0 row5\" >11</th>\n",
       "      <td id=\"T_b1880_row5_col0\" class=\"data row5 col0\" >/content/dam/rockwell-automation/videos/capabilities/industrial-automation-and-control/micro-control-integrated-automation-solution/micro-control-integrated-automation-solution-en.mp4</td>\n",
       "      <td id=\"T_b1880_row5_col1\" class=\"data row5 col1\" >0.040147</td>\n",
       "    </tr>\n",
       "    <tr>\n",
       "      <th id=\"T_b1880_level0_row6\" class=\"row_heading level0 row6\" >2</th>\n",
       "      <td id=\"T_b1880_row6_col0\" class=\"data row6 col0\" >/content/dam/rockwell-automation/sites/downloads/pdf/export a bom to proposalworks.pdf</td>\n",
       "      <td id=\"T_b1880_row6_col1\" class=\"data row6 col1\" >0.032982</td>\n",
       "    </tr>\n",
       "    <tr>\n",
       "      <th id=\"T_b1880_level0_row7\" class=\"row_heading level0 row7\" >18</th>\n",
       "      <td id=\"T_b1880_row7_col0\" class=\"data row7 col0\" >/content/dam/rockwell-automation/videos/capabilities/process-solutions/process-control-what-is-new-and-next/process-control-new-and-next-en.mp4</td>\n",
       "      <td id=\"T_b1880_row7_col1\" class=\"data row7 col1\" >0.029944</td>\n",
       "    </tr>\n",
       "    <tr>\n",
       "      <th id=\"T_b1880_level0_row8\" class=\"row_heading level0 row8\" >0</th>\n",
       "      <td id=\"T_b1880_row8_col0\" class=\"data row8 col0\" >/content/dam/rockwell-automation/sites/downloads/pdf/applying pricing to bom.pdf</td>\n",
       "      <td id=\"T_b1880_row8_col1\" class=\"data row8 col1\" >0.026706</td>\n",
       "    </tr>\n",
       "    <tr>\n",
       "      <th id=\"T_b1880_level0_row9\" class=\"row_heading level0 row9\" >6</th>\n",
       "      <td id=\"T_b1880_row9_col0\" class=\"data row9 col0\" >/content/dam/rockwell-automation/videos/capabilities/cybersecurity/cip-security-improve-your-control-system-defense-in-depth-strategy/cip-security-improve-your-control-system-defense-in-depth-strategy-en.mp4</td>\n",
       "      <td id=\"T_b1880_row9_col1\" class=\"data row9 col1\" >0.026535</td>\n",
       "    </tr>\n",
       "    <tr>\n",
       "      <th id=\"T_b1880_level0_row10\" class=\"row_heading level0 row10\" >5</th>\n",
       "      <td id=\"T_b1880_row10_col0\" class=\"data row10 col0\" >/content/dam/rockwell-automation/sites/downloads/pdf/using the architecture view.pdf</td>\n",
       "      <td id=\"T_b1880_row10_col1\" class=\"data row10 col1\" >0.026473</td>\n",
       "    </tr>\n",
       "    <tr>\n",
       "      <th id=\"T_b1880_level0_row11\" class=\"row_heading level0 row11\" >12</th>\n",
       "      <td id=\"T_b1880_row11_col0\" class=\"data row11 col0\" >/content/dam/rockwell-automation/videos/capabilities/industrial-maintenance-support/how-asset-performance-management-and-production-monitoring-improve-operations/how-asset-performance-management-and-production-monitoring-improve-operations-en.mp4</td>\n",
       "      <td id=\"T_b1880_row11_col1\" class=\"data row11 col1\" >0.025220</td>\n",
       "    </tr>\n",
       "    <tr>\n",
       "      <th id=\"T_b1880_level0_row12\" class=\"row_heading level0 row12\" >25</th>\n",
       "      <td id=\"T_b1880_row12_col0\" class=\"data row12 col0\" >/content/dam/rockwell-automation/videos/products/software/factorytalk/factorytalk-optix-visualization-platform-introduction/factorytalk-optix-visualization-platform-introduction-en.mp4</td>\n",
       "      <td id=\"T_b1880_row12_col1\" class=\"data row12 col1\" >0.023932</td>\n",
       "    </tr>\n",
       "    <tr>\n",
       "      <th id=\"T_b1880_level0_row13\" class=\"row_heading level0 row13\" >16</th>\n",
       "      <td id=\"T_b1880_row13_col0\" class=\"data row13 col0\" >/content/dam/rockwell-automation/videos/capabilities/mes-solutions/overview-of-plex-systems-smart-manufacturing-platform/overview-of-plex-systems-smart-manufacturing-platform-en.mp4</td>\n",
       "      <td id=\"T_b1880_row13_col1\" class=\"data row13 col1\" >0.023642</td>\n",
       "    </tr>\n",
       "    <tr>\n",
       "      <th id=\"T_b1880_level0_row14\" class=\"row_heading level0 row14\" >1</th>\n",
       "      <td id=\"T_b1880_row14_col0\" class=\"data row14 col0\" >/content/dam/rockwell-automation/sites/downloads/pdf/auto-sp010_-en-p.pdf</td>\n",
       "      <td id=\"T_b1880_row14_col1\" class=\"data row14 col1\" >0.023175</td>\n",
       "    </tr>\n",
       "    <tr>\n",
       "      <th id=\"T_b1880_level0_row15\" class=\"row_heading level0 row15\" >4</th>\n",
       "      <td id=\"T_b1880_row15_col0\" class=\"data row15 col0\" >/content/dam/rockwell-automation/sites/downloads/pdf/project design assistant.pdf</td>\n",
       "      <td id=\"T_b1880_row15_col1\" class=\"data row15 col1\" >0.023175</td>\n",
       "    </tr>\n",
       "    <tr>\n",
       "      <th id=\"T_b1880_level0_row16\" class=\"row_heading level0 row16\" >9</th>\n",
       "      <td id=\"T_b1880_row16_col0\" class=\"data row16 col0\" >/content/dam/rockwell-automation/videos/capabilities/digital-transformation/innovating-for-results/innovating-for-results-en.mp4</td>\n",
       "      <td id=\"T_b1880_row16_col1\" class=\"data row16 col1\" >0.021648</td>\n",
       "    </tr>\n",
       "    <tr>\n",
       "      <th id=\"T_b1880_level0_row17\" class=\"row_heading level0 row17\" >28</th>\n",
       "      <td id=\"T_b1880_row17_col0\" class=\"data row17 col0\" >/content/dam/rockwell-automation/videos/products/software/factorytalk/using-maintenance-software-to-optimize-asset-performance/using-maintenance-software-to-optimize-asset-performance-en.mp4</td>\n",
       "      <td id=\"T_b1880_row17_col1\" class=\"data row17 col1\" >0.021526</td>\n",
       "    </tr>\n",
       "    <tr>\n",
       "      <th id=\"T_b1880_level0_row18\" class=\"row_heading level0 row18\" >21</th>\n",
       "      <td id=\"T_b1880_row18_col0\" class=\"data row18 col0\" >/content/dam/rockwell-automation/videos/industry/water-wastewater/using-artificial-intelligence-for-sustainability/using-artificial-intelligence-for-sustainability-en.mp4</td>\n",
       "      <td id=\"T_b1880_row18_col1\" class=\"data row18 col1\" >0.021510</td>\n",
       "    </tr>\n",
       "    <tr>\n",
       "      <th id=\"T_b1880_level0_row19\" class=\"row_heading level0 row19\" >19</th>\n",
       "      <td id=\"T_b1880_row19_col0\" class=\"data row19 col0\" >/content/dam/rockwell-automation/videos/capabilities/smart-manufacturing/smart-devices-the-eyes-and-ears-of-your-smart-machine/smart-devices-the-eyes-and-ears-of-your-smart-machine-en.mp4</td>\n",
       "      <td id=\"T_b1880_row19_col1\" class=\"data row19 col1\" >0.020344</td>\n",
       "    </tr>\n",
       "    <tr>\n",
       "      <th id=\"T_b1880_level0_row20\" class=\"row_heading level0 row20\" >13</th>\n",
       "      <td id=\"T_b1880_row20_col0\" class=\"data row20 col0\" >/content/dam/rockwell-automation/videos/capabilities/industrial-networks/fundamentals-of-ethernet-ip-iiot-network-technology/fundamentals-of-ethernet-ip-iiot-network-technology-en.mp4</td>\n",
       "      <td id=\"T_b1880_row20_col1\" class=\"data row20 col1\" >0.018458</td>\n",
       "    </tr>\n",
       "    <tr>\n",
       "      <th id=\"T_b1880_level0_row21\" class=\"row_heading level0 row21\" >27</th>\n",
       "      <td id=\"T_b1880_row21_col0\" class=\"data row21 col0\" >/content/dam/rockwell-automation/videos/products/software/factorytalk/improving-collaboration-and-productivity-for-design-teams/improving-collaboration-and-productivity-for-design-teams-en.mp4</td>\n",
       "      <td id=\"T_b1880_row21_col1\" class=\"data row21 col1\" >0.017336</td>\n",
       "    </tr>\n",
       "    <tr>\n",
       "      <th id=\"T_b1880_level0_row22\" class=\"row_heading level0 row22\" >26</th>\n",
       "      <td id=\"T_b1880_row22_col0\" class=\"data row22 col0\" >/content/dam/rockwell-automation/videos/products/software/factorytalk/factorytalk-remote-access-overview-architectures-options/factorytalk-remote-access-overview-architectures-options-en.mp4</td>\n",
       "      <td id=\"T_b1880_row22_col1\" class=\"data row22 col1\" >0.016323</td>\n",
       "    </tr>\n",
       "    <tr>\n",
       "      <th id=\"T_b1880_level0_row23\" class=\"row_heading level0 row23\" >23</th>\n",
       "      <td id=\"T_b1880_row23_col0\" class=\"data row23 col0\" >/content/dam/rockwell-automation/videos/products/software/factorytalk/factorytalk-design-hub-teams-work-better-together/factorytalk-design-hub-teams-work-better-together-en.mp4</td>\n",
       "      <td id=\"T_b1880_row23_col1\" class=\"data row23 col1\" >0.015949</td>\n",
       "    </tr>\n",
       "    <tr>\n",
       "      <th id=\"T_b1880_level0_row24\" class=\"row_heading level0 row24\" >22</th>\n",
       "      <td id=\"T_b1880_row24_col0\" class=\"data row24 col0\" >/content/dam/rockwell-automation/videos/products/software/factorytalk/factorytalk-design-hub-ecosystem-introduction/factorytalk-design-hub-ecosystem-introduction-en.mp4</td>\n",
       "      <td id=\"T_b1880_row24_col1\" class=\"data row24 col1\" >0.015678</td>\n",
       "    </tr>\n",
       "    <tr>\n",
       "      <th id=\"T_b1880_level0_row25\" class=\"row_heading level0 row25\" >15</th>\n",
       "      <td id=\"T_b1880_row25_col0\" class=\"data row25 col0\" >/content/dam/rockwell-automation/videos/capabilities/mes-solutions/from-mine-to-dispatch-bay-mes-delivers-a-connected-factory-for-battery-producers/from-mine-to-dispatch-bay-mes-delivers-a-connected-factory-for-battery-producers-en.mp4</td>\n",
       "      <td id=\"T_b1880_row25_col1\" class=\"data row25 col1\" >0.015303</td>\n",
       "    </tr>\n",
       "    <tr>\n",
       "      <th id=\"T_b1880_level0_row26\" class=\"row_heading level0 row26\" >14</th>\n",
       "      <td id=\"T_b1880_row26_col0\" class=\"data row26 col0\" >/content/dam/rockwell-automation/videos/capabilities/industrial-networks/network-modernization-to-deliver-digital-transformation/network-modernization-to-deliver-digital-transformation-en.mp4</td>\n",
       "      <td id=\"T_b1880_row26_col1\" class=\"data row26 col1\" >0.014334</td>\n",
       "    </tr>\n",
       "    <tr>\n",
       "      <th id=\"T_b1880_level0_row27\" class=\"row_heading level0 row27\" >10</th>\n",
       "      <td id=\"T_b1880_row27_col0\" class=\"data row27 col0\" >/content/dam/rockwell-automation/videos/capabilities/digital-transformation/uncomplicate-compliance-by-digitizing-quality/uncomplicate-compliance-by-digitizing-quality-en.mp4</td>\n",
       "      <td id=\"T_b1880_row27_col1\" class=\"data row27 col1\" >0.013849</td>\n",
       "    </tr>\n",
       "    <tr>\n",
       "      <th id=\"T_b1880_level0_row28\" class=\"row_heading level0 row28\" >8</th>\n",
       "      <td id=\"T_b1880_row28_col0\" class=\"data row28 col0\" >/content/dam/rockwell-automation/videos/capabilities/cybersecurity/how-a-managed-soc-can-transform-your-operations-and-help-mitigate-risk/how-a-managed-soc-can-transform-your-operations-and-help-mitigate-risk-en.mp4</td>\n",
       "      <td id=\"T_b1880_row28_col1\" class=\"data row28 col1\" >0.013364</td>\n",
       "    </tr>\n",
       "  </tbody>\n",
       "</table>\n"
      ],
      "text/plain": [
       "<pandas.io.formats.style.Styler at 0x7f80d9a43d60>"
      ]
     },
     "execution_count": 30,
     "metadata": {},
     "output_type": "execute_result"
    }
   ],
   "source": [
    "weights = pd.DataFrame([vectorizer.get_feature_names(), asset_prob.tolist()]).T\n",
    "weights.columns = [\"asset\", \"weight\"]\n",
    "weights.sort_values(by=\"weight\", ascending=False).style"
   ]
  },
  {
   "cell_type": "code",
   "execution_count": 31,
   "id": "91c3e757",
   "metadata": {
    "ExecuteTime": {
     "end_time": "2022-12-06T23:04:36.728733Z",
     "start_time": "2022-12-06T23:04:36.594639Z"
    }
   },
   "outputs": [
    {
     "name": "stdout",
     "output_type": "stream",
     "text": [
      "              precision    recall  f1-score   support\n",
      "\n",
      "           0       0.92      1.00      0.96        12\n",
      "           1       0.00      0.00      0.00         1\n",
      "\n",
      "    accuracy                           0.92        13\n",
      "   macro avg       0.46      0.50      0.48        13\n",
      "weighted avg       0.85      0.92      0.89        13\n",
      "\n"
     ]
    },
    {
     "name": "stderr",
     "output_type": "stream",
     "text": [
      "/Users/wy/opt/anaconda3/lib/python3.9/site-packages/sklearn/metrics/_classification.py:1248: UndefinedMetricWarning: Precision and F-score are ill-defined and being set to 0.0 in labels with no predicted samples. Use `zero_division` parameter to control this behavior.\n",
      "  _warn_prf(average, modifier, msg_start, len(result))\n",
      "/Users/wy/opt/anaconda3/lib/python3.9/site-packages/sklearn/metrics/_classification.py:1248: UndefinedMetricWarning: Precision and F-score are ill-defined and being set to 0.0 in labels with no predicted samples. Use `zero_division` parameter to control this behavior.\n",
      "  _warn_prf(average, modifier, msg_start, len(result))\n",
      "/Users/wy/opt/anaconda3/lib/python3.9/site-packages/sklearn/metrics/_classification.py:1248: UndefinedMetricWarning: Precision and F-score are ill-defined and being set to 0.0 in labels with no predicted samples. Use `zero_division` parameter to control this behavior.\n",
      "  _warn_prf(average, modifier, msg_start, len(result))\n"
     ]
    },
    {
     "data": {
      "image/png": "[encoded data removed]",
      "text/plain": [
       "<Figure size 432x288 with 2 Axes>"
      ]
     },
     "metadata": {
      "needs_background": "light"
     },
     "output_type": "display_data"
    },
    {
     "name": "stdout",
     "output_type": "stream",
     "text": [
      "AUC: 25.00%, PRC: 4.55%\n"
     ]
    }
   ],
   "source": [
    "evaluate_metrics(y_test, y_pred, show_plots = True)"
   ]
  },
  {
   "cell_type": "code",
   "execution_count": 32,
   "id": "648c8e2e",
   "metadata": {
    "ExecuteTime": {
     "end_time": "2022-12-06T23:04:36.731512Z",
     "start_time": "2022-12-06T23:04:36.729931Z"
    }
   },
   "outputs": [],
   "source": [
    "# weights[\"weight\"]/weights[\"weight\"].mean()"
   ]
  },
  {
   "cell_type": "markdown",
   "id": "b74392d1",
   "metadata": {},
   "source": [
    "## Weight Rescaling\n",
    "```python\n",
    "default_critical_score = 1\n",
    "if user click 0, 1, 2:\n",
    "    then culmulative_score = 0.507937 + 0.349206 + 0.603175\n",
    "        if culmulative_score > default_critical_score: \n",
    "            marked as potential qualify \n",
    "```"
   ]
  },
  {
   "cell_type": "code",
   "execution_count": 33,
   "id": "acba7899",
   "metadata": {
    "ExecuteTime": {
     "end_time": "2022-12-06T23:04:36.735005Z",
     "start_time": "2022-12-06T23:04:36.732585Z"
    }
   },
   "outputs": [],
   "source": [
    "a = weights.iloc[0:5,:]"
   ]
  },
  {
   "cell_type": "code",
   "execution_count": 34,
   "id": "eaddd466",
   "metadata": {
    "ExecuteTime": {
     "end_time": "2022-12-06T23:04:36.742678Z",
     "start_time": "2022-12-06T23:04:36.735858Z"
    }
   },
   "outputs": [
    {
     "data": {
      "text/plain": [
       "0    0.734047\n",
       "1    0.636979\n",
       "2    0.906548\n",
       "3    2.085448\n",
       "4    0.636979\n",
       "Name: weight, dtype: object"
      ]
     },
     "execution_count": 34,
     "metadata": {},
     "output_type": "execute_result"
    }
   ],
   "source": [
    "a[\"weight\"]/a[\"weight\"].sum() * 5"
   ]
  },
  {
   "cell_type": "code",
   "execution_count": 35,
   "id": "ce9223d4",
   "metadata": {
    "ExecuteTime": {
     "end_time": "2022-12-06T23:04:36.764779Z",
     "start_time": "2022-12-06T23:04:36.743730Z"
    }
   },
   "outputs": [
    {
     "data": {
      "text/plain": [
       "0.03638214664957039"
      ]
     },
     "execution_count": 35,
     "metadata": {},
     "output_type": "execute_result"
    }
   ],
   "source": [
    "a[\"weight\"].mean()"
   ]
  },
  {
   "cell_type": "code",
   "execution_count": 36,
   "id": "99e23231",
   "metadata": {
    "ExecuteTime": {
     "end_time": "2022-12-06T23:04:36.767831Z",
     "start_time": "2022-12-06T23:04:36.766132Z"
    }
   },
   "outputs": [],
   "source": [
    "# elq_all_bridge-only.csv"
   ]
  },
  {
   "cell_type": "code",
   "execution_count": 37,
   "id": "1f2d57a4",
   "metadata": {
    "ExecuteTime": {
     "end_time": "2022-12-06T23:04:36.786517Z",
     "start_time": "2022-12-06T23:04:36.768710Z"
    }
   },
   "outputs": [
    {
     "data": {
      "text/plain": [
       "0    0.146809\n",
       "1    0.127396\n",
       "2     0.18131\n",
       "3     0.41709\n",
       "4    0.127396\n",
       "Name: weight, dtype: object"
      ]
     },
     "execution_count": 37,
     "metadata": {},
     "output_type": "execute_result"
    }
   ],
   "source": [
    "(a[\"weight\"]/a[\"weight\"].sum())"
   ]
  },
  {
   "cell_type": "code",
   "execution_count": 38,
   "id": "bb917915",
   "metadata": {
    "ExecuteTime": {
     "end_time": "2022-12-06T23:04:36.790801Z",
     "start_time": "2022-12-06T23:04:36.787742Z"
    }
   },
   "outputs": [
    {
     "data": {
      "text/plain": [
       "0    0.026706\n",
       "1    0.023175\n",
       "2    0.032982\n",
       "3    0.075873\n",
       "4    0.023175\n",
       "Name: weight, dtype: object"
      ]
     },
     "execution_count": 38,
     "metadata": {},
     "output_type": "execute_result"
    }
   ],
   "source": [
    "a[\"weight\"]"
   ]
  },
  {
   "cell_type": "code",
   "execution_count": null,
   "id": "7ab78289",
   "metadata": {},
   "outputs": [],
   "source": []
  },
  {
   "cell_type": "markdown",
   "id": "1c762bed",
   "metadata": {},
   "source": [
    "## Others "
   ]
  },
  {
   "cell_type": "markdown",
   "id": "a70c41b4",
   "metadata": {},
   "source": [
    "### Sample Size estimation\n",
    "Assumption\n",
    "- Binomial Distribution\n",
    "\n",
    "Testing\n",
    "- Power = 1 - Type II Error\n",
    "- Pr(True Positive) = 1 - Pr(False Negative)\n",
    "\n",
    "<img src=\"https://sigmazone.com/wp-content/uploads/2018/06/Normal_Approx_Binomial_CI.gif\" width=\"500\"/>"
   ]
  },
  {
   "cell_type": "code",
   "execution_count": 39,
   "id": "1a082cac",
   "metadata": {
    "ExecuteTime": {
     "end_time": "2022-12-06T23:04:36.793647Z",
     "start_time": "2022-12-06T23:04:36.791778Z"
    }
   },
   "outputs": [],
   "source": [
    "from scipy.stats import norm"
   ]
  },
  {
   "cell_type": "code",
   "execution_count": 40,
   "id": "0f5bf326",
   "metadata": {
    "ExecuteTime": {
     "end_time": "2022-12-06T23:04:36.799216Z",
     "start_time": "2022-12-06T23:04:36.797389Z"
    }
   },
   "outputs": [],
   "source": [
    "# estimate sample size via power analysis\n",
    "# from statsmodels.stats.power import TTestIndPower\n",
    "\n",
    "# # parameters for power analysis\n",
    "# effect = 0.8\n",
    "# alpha = 0.05\n",
    "# power = 0.8\n",
    "# # perform power analysis\n",
    "# analysis = TTestIndPower()\n",
    "# result = analysis.solve_power(effect, power=power, nobs1=None, ratio=1.0, alpha=alpha)\n",
    "# print('Sample Size: %.3f' % result)"
   ]
  },
  {
   "cell_type": "code",
   "execution_count": 41,
   "id": "38cf9897",
   "metadata": {
    "ExecuteTime": {
     "end_time": "2022-12-06T23:04:36.801961Z",
     "start_time": "2022-12-06T23:04:36.800324Z"
    }
   },
   "outputs": [],
   "source": [
    "n = 63\n",
    "pos = 4\n",
    "p_hat = pos/n"
   ]
  },
  {
   "cell_type": "markdown",
   "id": "f303f80a",
   "metadata": {},
   "source": [
    "#### CI with given N"
   ]
  },
  {
   "cell_type": "code",
   "execution_count": 42,
   "id": "9c8ee123",
   "metadata": {
    "ExecuteTime": {
     "end_time": "2022-12-06T23:04:36.814109Z",
     "start_time": "2022-12-06T23:04:36.803052Z"
    }
   },
   "outputs": [
    {
     "data": {
      "text/html": [
       "<div>\n",
       "<style scoped>\n",
       "    .dataframe tbody tr th:only-of-type {\n",
       "        vertical-align: middle;\n",
       "    }\n",
       "\n",
       "    .dataframe tbody tr th {\n",
       "        vertical-align: top;\n",
       "    }\n",
       "\n",
       "    .dataframe thead th {\n",
       "        text-align: right;\n",
       "    }\n",
       "</style>\n",
       "<table border=\"1\" class=\"dataframe\">\n",
       "  <thead>\n",
       "    <tr style=\"text-align: right;\">\n",
       "      <th></th>\n",
       "      <th>alpha</th>\n",
       "      <th>CI_lower</th>\n",
       "      <th>CI_upper</th>\n",
       "      <th>deviation</th>\n",
       "      <th>variance</th>\n",
       "    </tr>\n",
       "  </thead>\n",
       "  <tbody>\n",
       "    <tr>\n",
       "      <th>0</th>\n",
       "      <td>0.01</td>\n",
       "      <td>-0.015642</td>\n",
       "      <td>0.142626</td>\n",
       "      <td>0.030722</td>\n",
       "      <td>0.059461</td>\n",
       "    </tr>\n",
       "    <tr>\n",
       "      <th>1</th>\n",
       "      <td>0.02</td>\n",
       "      <td>-0.007977</td>\n",
       "      <td>0.134961</td>\n",
       "      <td>0.030722</td>\n",
       "      <td>0.059461</td>\n",
       "    </tr>\n",
       "    <tr>\n",
       "      <th>2</th>\n",
       "      <td>0.03</td>\n",
       "      <td>-0.003177</td>\n",
       "      <td>0.130161</td>\n",
       "      <td>0.030722</td>\n",
       "      <td>0.059461</td>\n",
       "    </tr>\n",
       "    <tr>\n",
       "      <th>3</th>\n",
       "      <td>0.04</td>\n",
       "      <td>0.000397</td>\n",
       "      <td>0.126587</td>\n",
       "      <td>0.030722</td>\n",
       "      <td>0.059461</td>\n",
       "    </tr>\n",
       "    <tr>\n",
       "      <th>4</th>\n",
       "      <td>0.05</td>\n",
       "      <td>0.003279</td>\n",
       "      <td>0.123705</td>\n",
       "      <td>0.030722</td>\n",
       "      <td>0.059461</td>\n",
       "    </tr>\n",
       "    <tr>\n",
       "      <th>5</th>\n",
       "      <td>0.06</td>\n",
       "      <td>0.005711</td>\n",
       "      <td>0.121273</td>\n",
       "      <td>0.030722</td>\n",
       "      <td>0.059461</td>\n",
       "    </tr>\n",
       "    <tr>\n",
       "      <th>6</th>\n",
       "      <td>0.07</td>\n",
       "      <td>0.007827</td>\n",
       "      <td>0.119157</td>\n",
       "      <td>0.030722</td>\n",
       "      <td>0.059461</td>\n",
       "    </tr>\n",
       "    <tr>\n",
       "      <th>7</th>\n",
       "      <td>0.08</td>\n",
       "      <td>0.009708</td>\n",
       "      <td>0.117276</td>\n",
       "      <td>0.030722</td>\n",
       "      <td>0.059461</td>\n",
       "    </tr>\n",
       "    <tr>\n",
       "      <th>8</th>\n",
       "      <td>0.09</td>\n",
       "      <td>0.011407</td>\n",
       "      <td>0.115578</td>\n",
       "      <td>0.030722</td>\n",
       "      <td>0.059461</td>\n",
       "    </tr>\n",
       "    <tr>\n",
       "      <th>9</th>\n",
       "      <td>0.10</td>\n",
       "      <td>0.012959</td>\n",
       "      <td>0.114025</td>\n",
       "      <td>0.030722</td>\n",
       "      <td>0.059461</td>\n",
       "    </tr>\n",
       "  </tbody>\n",
       "</table>\n",
       "</div>"
      ],
      "text/plain": [
       "   alpha  CI_lower  CI_upper  deviation  variance\n",
       "0   0.01 -0.015642  0.142626   0.030722  0.059461\n",
       "1   0.02 -0.007977  0.134961   0.030722  0.059461\n",
       "2   0.03 -0.003177  0.130161   0.030722  0.059461\n",
       "3   0.04  0.000397  0.126587   0.030722  0.059461\n",
       "4   0.05  0.003279  0.123705   0.030722  0.059461\n",
       "5   0.06  0.005711  0.121273   0.030722  0.059461\n",
       "6   0.07  0.007827  0.119157   0.030722  0.059461\n",
       "7   0.08  0.009708  0.117276   0.030722  0.059461\n",
       "8   0.09  0.011407  0.115578   0.030722  0.059461\n",
       "9   0.10  0.012959  0.114025   0.030722  0.059461"
      ]
     },
     "execution_count": 42,
     "metadata": {},
     "output_type": "execute_result"
    }
   ],
   "source": [
    "alpha = .10\n",
    "\n",
    "def get_CI(p_hat, n, alpha):\n",
    "    ppf_list = norm.ppf(q=[alpha/2, 1-alpha/2], loc=0, scale=1)\n",
    "    z_quantile = ppf_list[1]\n",
    "\n",
    "    variance = p_hat * (1-p_hat)\n",
    "    deviation = np.sqrt(p_hat * (1-p_hat)/n)\n",
    "    CI_lower = p_hat - z_quantile * deviation\n",
    "    CI_upper = p_hat + z_quantile * deviation\n",
    "#     print(\"alpha level: \", alpha)\n",
    "#     print(\"p_hat\", p_hat)\n",
    "    # print(\"z_quantile: \", z_quantile)\n",
    "    # print(\"deviation: \", deviation)\n",
    "#     print(f\"CI: [{CI_lower}, {CI_upper}]\")\n",
    "    return [alpha, CI_lower, CI_upper, deviation, variance]\n",
    "\n",
    "CI_list = []\n",
    "for alpha in range(1, 11):\n",
    "    CI_list.append(get_CI(p_hat, n, alpha/100))\n",
    "CI_df = pd.DataFrame(CI_list, columns=[\"alpha\", \"CI_lower\", \"CI_upper\", \"deviation\", \"variance\"])\n",
    "CI_df"
   ]
  },
  {
   "cell_type": "markdown",
   "id": "8a71c74e",
   "metadata": {},
   "source": [
    "#### required sample with given CI"
   ]
  },
  {
   "cell_type": "code",
   "execution_count": 43,
   "id": "24158f9b",
   "metadata": {
    "ExecuteTime": {
     "end_time": "2022-12-06T23:04:36.941799Z",
     "start_time": "2022-12-06T23:04:36.815049Z"
    }
   },
   "outputs": [
    {
     "ename": "NameError",
     "evalue": "name 'required_num' is not defined",
     "output_type": "error",
     "traceback": [
      "\u001b[0;31m---------------------------------------------------------------------------\u001b[0m",
      "\u001b[0;31mNameError\u001b[0m                                 Traceback (most recent call last)",
      "\u001b[0;32m/var/folders/m3/j96s4t5d61sf6yx946mnlp_h0000gn/T/ipykernel_96087/3621338633.py\u001b[0m in \u001b[0;36m<module>\u001b[0;34m\u001b[0m\n\u001b[1;32m      1\u001b[0m \u001b[0;31m# CI_length = 0.01\u001b[0m\u001b[0;34m\u001b[0m\u001b[0;34m\u001b[0m\u001b[0m\n\u001b[1;32m      2\u001b[0m \u001b[0mCI_length\u001b[0m \u001b[0;34m=\u001b[0m \u001b[0mp_hat\u001b[0m \u001b[0;34m*\u001b[0m \u001b[0;36m0.5\u001b[0m\u001b[0;34m\u001b[0m\u001b[0;34m\u001b[0m\u001b[0m\n\u001b[0;32m----> 3\u001b[0;31m \u001b[0mprint\u001b[0m\u001b[0;34m(\u001b[0m\u001b[0;34mf\"With given CI_length: {CI_length}, required_numbers: {int(required_num)+1}\"\u001b[0m\u001b[0;34m)\u001b[0m\u001b[0;34m\u001b[0m\u001b[0;34m\u001b[0m\u001b[0m\n\u001b[0m\u001b[1;32m      4\u001b[0m \u001b[0mrequired_num\u001b[0m \u001b[0;34m=\u001b[0m \u001b[0;36m1\u001b[0m \u001b[0;34m/\u001b[0m \u001b[0;34m(\u001b[0m\u001b[0;34m(\u001b[0m\u001b[0;34m(\u001b[0m\u001b[0mCI_length\u001b[0m\u001b[0;34m/\u001b[0m\u001b[0;36m2\u001b[0m\u001b[0;34m)\u001b[0m\u001b[0;34m/\u001b[0m\u001b[0mz_quantile\u001b[0m\u001b[0;34m)\u001b[0m\u001b[0;34m**\u001b[0m\u001b[0;36m2\u001b[0m \u001b[0;34m/\u001b[0m \u001b[0;34m(\u001b[0m\u001b[0mp_hat\u001b[0m \u001b[0;34m*\u001b[0m \u001b[0;34m(\u001b[0m\u001b[0;36m1\u001b[0m\u001b[0;34m-\u001b[0m\u001b[0mp_hat\u001b[0m\u001b[0;34m)\u001b[0m\u001b[0;34m)\u001b[0m\u001b[0;34m)\u001b[0m\u001b[0;34m\u001b[0m\u001b[0;34m\u001b[0m\u001b[0m\n",
      "\u001b[0;31mNameError\u001b[0m: name 'required_num' is not defined"
     ]
    }
   ],
   "source": [
    "# CI_length = 0.01\n",
    "CI_length = p_hat * 0.5\n",
    "print(f\"With given CI_length: {CI_length}, required_numbers: {int(required_num)+1}\")\n",
    "required_num = 1 / (((CI_length/2)/z_quantile)**2 / (p_hat * (1-p_hat)))"
   ]
  },
  {
   "cell_type": "code",
   "execution_count": null,
   "id": "e6b85b3c",
   "metadata": {},
   "outputs": [],
   "source": []
  },
  {
   "cell_type": "code",
   "execution_count": null,
   "id": "dc2de761",
   "metadata": {},
   "outputs": [],
   "source": []
  },
  {
   "cell_type": "code",
   "execution_count": null,
   "id": "af2b8840",
   "metadata": {},
   "outputs": [],
   "source": []
  },
  {
   "cell_type": "markdown",
   "id": "26a4c782",
   "metadata": {},
   "source": [
    "### clustering based \n",
    "- how to estimated the probablity of some attributes\n",
    "- how to assign weight based on this?\n",
    "\n",
    "找到不同 status code 的数据分布是怎样的. \n",
    "- 确认方向之后, 对应的数据是否足够 是第一步. \n",
    "- 还是寻找数据"
   ]
  },
  {
   "cell_type": "code",
   "execution_count": null,
   "id": "4c2cda29",
   "metadata": {},
   "outputs": [],
   "source": []
  },
  {
   "cell_type": "code",
   "execution_count": null,
   "id": "a576cf30",
   "metadata": {},
   "outputs": [],
   "source": []
  },
  {
   "cell_type": "code",
   "execution_count": null,
   "id": "554378e1",
   "metadata": {},
   "outputs": [],
   "source": []
  },
  {
   "cell_type": "code",
   "execution_count": null,
   "id": "2f944084",
   "metadata": {},
   "outputs": [],
   "source": []
  },
  {
   "cell_type": "markdown",
   "id": "30dc28fe",
   "metadata": {},
   "source": [
    "# Store model and prediction"
   ]
  },
  {
   "cell_type": "code",
   "execution_count": null,
   "id": "7c82e93d",
   "metadata": {},
   "outputs": [],
   "source": []
  },
  {
   "cell_type": "code",
   "execution_count": null,
   "id": "beb1cd18",
   "metadata": {},
   "outputs": [],
   "source": []
  },
  {
   "cell_type": "markdown",
   "id": "2936585c",
   "metadata": {},
   "source": [
    "# Post to AEM"
   ]
  },
  {
   "cell_type": "code",
   "execution_count": null,
   "id": "9120d3b8",
   "metadata": {
    "ExecuteTime": {
     "end_time": "2022-12-06T23:04:36.942927Z",
     "start_time": "2022-12-06T23:04:36.942921Z"
    }
   },
   "outputs": [],
   "source": [
    "\"04\" in month_max_days.keys()"
   ]
  },
  {
   "cell_type": "code",
   "execution_count": null,
   "id": "16149dcb",
   "metadata": {
    "ExecuteTime": {
     "end_time": "2022-12-06T23:04:36.943559Z",
     "start_time": "2022-12-06T23:04:36.943543Z"
    },
    "scrolled": true
   },
   "outputs": [],
   "source": [
    "crm_lead"
   ]
  },
  {
   "cell_type": "code",
   "execution_count": null,
   "id": "d0d78902",
   "metadata": {
    "ExecuteTime": {
     "end_time": "2022-12-06T23:04:36.944122Z",
     "start_time": "2022-12-06T23:04:36.944115Z"
    }
   },
   "outputs": [],
   "source": [
    "crm_lead[crm_lead[\"modifiedon\"]>\"2022-11-01\"][\"emailaddress1\"].unique().shape"
   ]
  },
  {
   "cell_type": "code",
   "execution_count": null,
   "id": "ca792095",
   "metadata": {
    "ExecuteTime": {
     "end_time": "2022-12-06T23:04:36.944875Z",
     "start_time": "2022-12-06T23:04:36.944868Z"
    }
   },
   "outputs": [],
   "source": [
    "crm_lead[crm_lead[\"modifiedon\"]>\"2022-04-01\"][\"emailaddress1\"].unique().shape"
   ]
  },
  {
   "cell_type": "code",
   "execution_count": null,
   "id": "68835005",
   "metadata": {
    "ExecuteTime": {
     "end_time": "2022-12-06T23:04:36.945699Z",
     "start_time": "2022-12-06T23:04:36.945691Z"
    }
   },
   "outputs": [],
   "source": [
    "_lead[[\"emailaddress1\"]]\n",
    "crm_lead = email_cleanup(_lead, \"emailaddress1\")"
   ]
  },
  {
   "cell_type": "code",
   "execution_count": null,
   "id": "1ff6a79f",
   "metadata": {
    "ExecuteTime": {
     "end_time": "2022-12-06T23:04:36.946720Z",
     "start_time": "2022-12-06T23:04:36.946703Z"
    }
   },
   "outputs": [],
   "source": [
    "crm_lead[crm_lead[\"emailaddress1\"] == \"16309088jpr@gmail.com\"]"
   ]
  },
  {
   "cell_type": "code",
   "execution_count": null,
   "id": "7892a49d",
   "metadata": {},
   "outputs": [],
   "source": []
  },
  {
   "cell_type": "code",
   "execution_count": null,
   "id": "23b0df91",
   "metadata": {
    "ExecuteTime": {
     "end_time": "2022-12-06T23:04:36.947628Z",
     "start_time": "2022-12-06T23:04:36.947621Z"
    }
   },
   "outputs": [],
   "source": [
    "crm_lead"
   ]
  },
  {
   "cell_type": "code",
   "execution_count": null,
   "id": "f3e38426",
   "metadata": {},
   "outputs": [],
   "source": []
  },
  {
   "cell_type": "code",
   "execution_count": null,
   "id": "f8c53e6a",
   "metadata": {
    "ExecuteTime": {
     "end_time": "2022-12-06T23:04:36.948304Z",
     "start_time": "2022-12-06T23:04:36.948297Z"
    }
   },
   "outputs": [],
   "source": [
    "aem_raw"
   ]
  },
  {
   "cell_type": "code",
   "execution_count": null,
   "id": "dc4ddad5",
   "metadata": {
    "ExecuteTime": {
     "end_time": "2022-12-06T23:04:36.948879Z",
     "start_time": "2022-12-06T23:04:36.948872Z"
    }
   },
   "outputs": [],
   "source": [
    "a = crm_lead[crm_lead[\"emailaddress1\"].str.contains(\"123.com\")]\n",
    "a[\"emailaddress1\"].sort_values()"
   ]
  },
  {
   "cell_type": "code",
   "execution_count": null,
   "id": "7600d82c",
   "metadata": {},
   "outputs": [],
   "source": []
  }
 ],
 "metadata": {
  "kernelspec": {
   "display_name": "Python 3 (ipykernel)",
   "language": "python",
   "name": "python3"
  },
  "language_info": {
   "codemirror_mode": {
    "name": "ipython",
    "version": 3
   },
   "file_extension": ".py",
   "mimetype": "text/x-python",
   "name": "python",
   "nbconvert_exporter": "python",
   "pygments_lexer": "ipython3",
   "version": "3.9.7"
  },
  "toc": {
   "base_numbering": 1,
   "nav_menu": {},
   "number_sections": true,
   "sideBar": true,
   "skip_h1_title": false,
   "title_cell": "Table of Contents",
   "title_sidebar": "Contents",
   "toc_cell": false,
   "toc_position": {
    "height": "calc(100% - 180px)",
    "left": "10px",
    "top": "150px",
    "width": "443.828px"
   },
   "toc_section_display": true,
   "toc_window_display": true
  }
 },
 "nbformat": 4,
 "nbformat_minor": 5
}
